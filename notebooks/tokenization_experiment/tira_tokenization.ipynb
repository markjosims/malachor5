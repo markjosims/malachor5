{
 "cells": [
  {
   "cell_type": "markdown",
   "metadata": {
    "vscode": {
     "languageId": "plaintext"
    }
   },
   "source": [
    "# Make token vocabulary\n",
    "Train a tokenizer on the Tira ASR dataset"
   ]
  },
  {
   "cell_type": "code",
   "execution_count": 18,
   "metadata": {},
   "outputs": [],
   "source": [
    "from tokenizers import (\n",
    "    decoders,\n",
    "    models,\n",
    "    normalizers,\n",
    "    pre_tokenizers,\n",
    "    processors,\n",
    "    trainers,\n",
    "    Tokenizer,\n",
    ")\n",
    "import pandas as pd"
   ]
  },
  {
   "cell_type": "code",
   "execution_count": 15,
   "metadata": {},
   "outputs": [],
   "source": [
    "metadata='/Users/markjos/projects/malachor5/data/tira-asr/metadata.csv'"
   ]
  },
  {
   "cell_type": "code",
   "execution_count": 20,
   "metadata": {},
   "outputs": [],
   "source": [
    "trainer=trainers.WordPieceTrainer(vocab_size=5_000, )"
   ]
  },
  {
   "cell_type": "code",
   "execution_count": 22,
   "metadata": {},
   "outputs": [],
   "source": [
    "df=pd.read_csv(metadata)\n",
    "def get_text_corpus():\n",
    "    for row in df['transcription']:\n",
    "        yield row"
   ]
  },
  {
   "cell_type": "code",
   "execution_count": 24,
   "metadata": {},
   "outputs": [
    {
     "name": "stdout",
     "output_type": "stream",
     "text": [
      "\n",
      "\n",
      "\n"
     ]
    }
   ],
   "source": [
    "tokenizer = Tokenizer(models.WordPiece(unk_token=\"[UNK]\"))\n",
    "tokenizer.train_from_iterator(get_text_corpus(), trainer=trainer)"
   ]
  },
  {
   "cell_type": "code",
   "execution_count": 27,
   "metadata": {},
   "outputs": [
    {
     "data": {
      "text/plain": [
       "(['m',\n",
       "  '##ə̀',\n",
       "  '##nà ',\n",
       "  '##càt̪á ',\n",
       "  '##án ',\n",
       "  '##âj',\n",
       "  '##t̪ɔ́ ŋ',\n",
       "  '##ìðə̀',\n",
       "  '##nɔ́ŋ',\n",
       "  '## ŋ',\n",
       "  '##ír',\n",
       "  '##ɔ́t̪',\n",
       "  '##ɛ̌ ',\n",
       "  '##íŋg',\n",
       "  '##áŋà',\n",
       "  '##ɽìɲà'],\n",
       " [13,\n",
       "  90,\n",
       "  114,\n",
       "  3633,\n",
       "  410,\n",
       "  461,\n",
       "  344,\n",
       "  1157,\n",
       "  1087,\n",
       "  232,\n",
       "  420,\n",
       "  1397,\n",
       "  932,\n",
       "  298,\n",
       "  2015,\n",
       "  3882])"
      ]
     },
     "execution_count": 27,
     "metadata": {},
     "output_type": "execute_result"
    }
   ],
   "source": [
    "line=df['transcription'][0]\n",
    "encoding=tokenizer.encode(line)\n",
    "\n",
    "encoding.tokens, encoding.ids"
   ]
  },
  {
   "cell_type": "code",
   "execution_count": null,
   "metadata": {},
   "outputs": [],
   "source": []
  }
 ],
 "metadata": {
  "kernelspec": {
   "display_name": "Python 3",
   "language": "python",
   "name": "python3"
  },
  "language_info": {
   "codemirror_mode": {
    "name": "ipython",
    "version": 3
   },
   "file_extension": ".py",
   "mimetype": "text/x-python",
   "name": "python",
   "nbconvert_exporter": "python",
   "pygments_lexer": "ipython3",
   "version": "3.9.19"
  }
 },
 "nbformat": 4,
 "nbformat_minor": 2
}
