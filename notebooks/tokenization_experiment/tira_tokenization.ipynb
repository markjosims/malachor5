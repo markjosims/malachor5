{
 "cells": [
  {
   "cell_type": "markdown",
   "metadata": {
    "vscode": {
     "languageId": "plaintext"
    }
   },
   "source": [
    "# Make token vocabulary\n",
    "Train a tokenizer on the Tira ASR dataset"
   ]
  },
  {
   "cell_type": "code",
   "execution_count": 1005,
   "metadata": {},
   "outputs": [],
   "source": [
    "from tokenizers import (\n",
    "    decoders,\n",
    "    models,\n",
    "    normalizers,\n",
    "    pre_tokenizers,\n",
    "    processors,\n",
    "    trainers,\n",
    "    Tokenizer,\n",
    ")\n",
    "from transformers import WhisperTokenizer\n",
    "import pandas as pd\n",
    "import numpy as np\n",
    "import seaborn\n",
    "import string\n",
    "from clap.encoders import *\n",
    "from transformers import DebertaV2Tokenizer, AutoProcessor\n",
    "import torch\n",
    "from scipy.spatial.distance import cdist, cosine, squareform\n",
    "from tqdm import tqdm\n",
    "from unidecode import unidecode\n",
    "import random"
   ]
  },
  {
   "cell_type": "code",
   "execution_count": 830,
   "metadata": {},
   "outputs": [],
   "source": [
    "metadata='/Users/markjos/projects/malachor5/data/tira-clean/metadata.csv'"
   ]
  },
  {
   "cell_type": "code",
   "execution_count": 831,
   "metadata": {},
   "outputs": [],
   "source": [
    "unk = \"[UNK]\"\n",
    "trainer=trainers.BpeTrainer(vocab_size=1200, special_tokens=[unk], max_token_length=8, min_frequency=40)"
   ]
  },
  {
   "cell_type": "code",
   "execution_count": 832,
   "metadata": {},
   "outputs": [],
   "source": [
    "df=pd.read_csv(metadata)\n",
    "def get_text_corpus():\n",
    "    train_df=df[df['split']=='train']\n",
    "    for row in train_df['transcription']:\n",
    "        yield row"
   ]
  },
  {
   "cell_type": "code",
   "execution_count": 833,
   "metadata": {},
   "outputs": [
    {
     "name": "stdout",
     "output_type": "stream",
     "text": [
      "\n",
      "\n",
      "\n"
     ]
    }
   ],
   "source": [
    "tokenizer = Tokenizer(models.BPE())\n",
    "tokenizer.train_from_iterator(get_text_corpus(), trainer=trainer)"
   ]
  },
  {
   "cell_type": "code",
   "execution_count": 834,
   "metadata": {},
   "outputs": [
    {
     "data": {
      "text/plain": [
       "('jɔ́ ŋɔ́mɔ̀', ['j', 'ɔ́ ŋ', 'ɔ́mɔ̀'], [10, 107, 430])"
      ]
     },
     "execution_count": 834,
     "metadata": {},
     "output_type": "execute_result"
    }
   ],
   "source": [
    "i=random.randint(0,len(df))\n",
    "line=df['transcription'].iloc[i]\n",
    "encoding=tokenizer.encode(line)\n",
    "\n",
    "line, encoding.tokens, encoding.ids"
   ]
  },
  {
   "cell_type": "code",
   "execution_count": 835,
   "metadata": {},
   "outputs": [
    {
     "data": {
      "text/plain": [
       "({'kɛ̀': 326,\n",
       "  'ɔ': 25,\n",
       "  'án á': 558,\n",
       "  'mnà ': 657,\n",
       "  'ó ': 84,\n",
       "  'dɔ̀ɽɔ̀': 328,\n",
       "  'ŋɔ̀ŋ': 506,\n",
       "  'ŋáv': 284,\n",
       "  'lɛ́ ': 470,\n",
       "  'kámà': 704,\n",
       "  'í ': 70,\n",
       "  'ðɔ́mɔ̀': 679,\n",
       "  'dɔ̀': 108,\n",
       "  'lɛ': 320,\n",
       "  'tɔ́': 686,\n",
       "  'lí ': 211,\n",
       "  'lâɾ': 319,\n",
       "  'làr': 339,\n",
       "  't̪ʊ̀': 434,\n",
       "  'j': 10,\n",
       "  'àt̪á ': 345,\n",
       "  'lá': 77,\n",
       "  'nɔ́ ŋ': 480,\n",
       "  'ɾɛ': 138,\n",
       "  'kɜ́': 695,\n",
       "  'ŋg': 65,\n",
       "  't̪ə́': 264,\n",
       "  'ɲɛ̀làc': 639,\n",
       "  'ŋà ': 317,\n",
       "  'lt': 607,\n",
       "  'ɛ́l': 435,\n",
       "  'd̪ɔ̀ ': 614,\n",
       "  'àv': 373,\n",
       "  'wànì': 580,\n",
       "  'láɾ': 371,\n",
       "  'ɾɔ́ ': 648,\n",
       "  'ɽɔ̀ ': 504,\n",
       "  'nú': 553,\n",
       "  'ŋ̀': 235,\n",
       "  'ɜ̀ŋ': 548,\n",
       "  'à nd̪': 135,\n",
       "  'rì ': 641,\n",
       "  'ðú ': 360,\n",
       "  'ðùɽì ': 489,\n",
       "  'ál': 158,\n",
       "  'ŋʊ̀': 633,\n",
       "  'ŋgá ': 304,\n",
       "  'áŋà ': 443,\n",
       "  'ðɔ̀là': 569,\n",
       "  'lgàr': 517,\n",
       "  'àn': 231,\n",
       "  'úɽ': 256,\n",
       "  'gàɾ': 550,\n",
       "  'ág': 327,\n",
       "  'ɜ': 28,\n",
       "  'r': 17,\n",
       "  'və́lɛ̂ð': 121,\n",
       "  'dɛ̀': 168,\n",
       "  'lə́v': 483,\n",
       "  'vəlɛð': 395,\n",
       "  'lò': 90,\n",
       "  'ɛ̄': 700,\n",
       "  'i ': 574,\n",
       "  'ɲár': 446,\n",
       "  'gɛ́ ': 355,\n",
       "  'ðúɽ': 554,\n",
       "  'nɛ̀ ŋə̀': 257,\n",
       "  'lèɲ': 340,\n",
       "  'ðɛ': 454,\n",
       "  'íɲár': 666,\n",
       "  's': 18,\n",
       "  'ɛ̀là': 258,\n",
       "  'cɔ̀ ': 236,\n",
       "  'ŋì': 140,\n",
       "  'ŋɛ́': 280,\n",
       "  'ɔ ': 555,\n",
       "  'ô': 282,\n",
       "  'd̪': 176,\n",
       "  'ɔ́ é': 520,\n",
       "  'və̀r': 297,\n",
       "  't̪ɛ̀ ': 254,\n",
       "  'dùn': 376,\n",
       "  'nì': 81,\n",
       "  'ðá': 144,\n",
       "  'ŋə': 646,\n",
       "  'vŕ': 453,\n",
       "  'ɲɔ́ ': 659,\n",
       "  'ɽɟ': 213,\n",
       "  'ɽà': 203,\n",
       "  'lìj': 311,\n",
       "  'ɔ̂nà ': 508,\n",
       "  'únɛ̄': 442,\n",
       "  'è': 88,\n",
       "  'ɛ́n ': 197,\n",
       "  'dì': 622,\n",
       "  'ðɛ́': 142,\n",
       "  'ʊ̀': 178,\n",
       "  'ŋǐn ': 572,\n",
       "  'ìj': 105,\n",
       "  'unɛ': 141,\n",
       "  'ǹd': 352,\n",
       "  'kúkú ': 459,\n",
       "  'ŋɔ́mɔ̀ ': 503,\n",
       "  'cí': 582,\n",
       "  'ŋɛ́n ': 341,\n",
       "  'èmàɽ': 562,\n",
       "  'nɛ̀ ': 109,\n",
       "  'ám': 224,\n",
       "  'í': 54,\n",
       "  'ŋár': 511,\n",
       "  't̪': 51,\n",
       "  'ʃ': 34,\n",
       "  'nɔ̀ ': 106,\n",
       "  'ðó': 545,\n",
       "  'ìjɔ́ ŋ': 145,\n",
       "  't̪á': 487,\n",
       "  '́ ': 43,\n",
       "  'làɾ': 310,\n",
       "  'ɛ̌': 227,\n",
       "  'g': 7,\n",
       "  'ɔ́nà ': 119,\n",
       "  'ðà': 111,\n",
       "  'v': 21,\n",
       "  'ðô': 601,\n",
       "  'ðùɽ': 330,\n",
       "  'ŋi': 406,\n",
       "  'ǎ ': 244,\n",
       "  'dɔ̀ɽɔ̀ ': 152,\n",
       "  'ɽá ': 536,\n",
       "  'íd': 457,\n",
       "  'ùɽ': 233,\n",
       "  'dìj': 347,\n",
       "  'á ': 68,\n",
       "  'rlɛ̀ɲ': 383,\n",
       "  'nò': 413,\n",
       "  'ðìɲɔ́ ': 484,\n",
       "  'ɔ̀bà': 61,\n",
       "  'ò ': 210,\n",
       "  'ɛ̀r': 234,\n",
       "  'à t̪ɔ́': 307,\n",
       "  'ŕ': 306,\n",
       "  'àvr': 309,\n",
       "  'nɛ̄': 344,\n",
       "  'ní ': 198,\n",
       "  'd̪ú': 478,\n",
       "  'ɔ́ ŋì': 675,\n",
       "  'lú': 208,\n",
       "  'ŋɔ̀': 155,\n",
       "  'a ': 286,\n",
       "  't̪ɔ́ ': 124,\n",
       "  'và ': 303,\n",
       "  'r̀ŋɔ̀': 708,\n",
       "  'ál ': 336,\n",
       "  'rɛ́ ': 473,\n",
       "  'kə̀vé ': 653,\n",
       "  'lɛ̀': 64,\n",
       "  'cɔ̀ nd̪': 685,\n",
       "  'nɛ̀': 63,\n",
       "  'ɜ̀': 179,\n",
       "  'r ùnɛ̀': 564,\n",
       "  'ɔ̀nà ': 102,\n",
       "  'ŋɔ̀mɔ̀ ': 374,\n",
       "  'ìnɔ́ ': 450,\n",
       "  'áŋâl ': 604,\n",
       "  'lɔ̀': 180,\n",
       "  'ɔ́ŋ': 205,\n",
       "  'já': 247,\n",
       "  ' ùnɛ̀': 379,\n",
       "  'ŋā': 546,\n",
       "  'gɛ̀ ': 573,\n",
       "  'lə́b': 619,\n",
       "  'làɾt̪': 676,\n",
       "  'láp': 691,\n",
       "  'ɛ̀ ðɛ̀': 611,\n",
       "  'lár': 362,\n",
       "  '̀': 36,\n",
       "  'mb': 472,\n",
       "  'ŋàmɽà': 684,\n",
       "  'ɔ́ɟ': 220,\n",
       "  'ŋá': 147,\n",
       "  'kàŋ': 682,\n",
       "  'ɔ̂n': 693,\n",
       "  'ɔ́ ð': 312,\n",
       "  'lə́': 217,\n",
       "  'ðə́n': 283,\n",
       "  'ŋ ': 522,\n",
       "  'j ': 270,\n",
       "  'ò nd̪': 655,\n",
       "  'kì': 249,\n",
       "  'lɔ́m': 552,\n",
       "  'là': 74,\n",
       "  'álp': 499,\n",
       "  'dɔ': 525,\n",
       "  'árt̪ɔ́': 577,\n",
       "  'ì ': 92,\n",
       "  'ðə̀ŋ': 613,\n",
       "  't̪à': 252,\n",
       "  'ŋù': 269,\n",
       "  'mìɲí ': 372,\n",
       "  'ʊ́': 287,\n",
       "  'lə̀r': 692,\n",
       "  'ə́': 62,\n",
       "  'àl': 461,\n",
       "  'ðù ': 476,\n",
       "  'ŋí ': 422,\n",
       "  'lá ': 137,\n",
       "  'nɔ́': 334,\n",
       "  'àdám ': 624,\n",
       "  'án áɟ': 592,\n",
       "  'ò': 66,\n",
       "  'nɔ̀': 188,\n",
       "  'jí': 273,\n",
       "  'ɛ́ɽ': 342,\n",
       "  'r ': 165,\n",
       "  'lɛð': 380,\n",
       "  'àt̪': 159,\n",
       "  'ápr': 398,\n",
       "  'cɔ́ ': 606,\n",
       "  'dún ': 239,\n",
       "  'pr': 184,\n",
       "  'án ': 190,\n",
       "  'ŋ': 24,\n",
       "  'ɲá ': 529,\n",
       "  'w': 22,\n",
       "  'lǎ': 333,\n",
       "  'à': 42,\n",
       "  'gàr': 302,\n",
       "  'lé ': 298,\n",
       "  'ð ': 405,\n",
       "  'áŋá ': 618,\n",
       "  'o': 15,\n",
       "  'íj': 139,\n",
       "  'ɲí ': 295,\n",
       "  'ɛ̌n ': 513,\n",
       "  'ɔ́ɾ': 542,\n",
       "  'lɛ̀ɲì ': 620,\n",
       "  'ɽɛ̀ ': 661,\n",
       "  'kə́': 324,\n",
       "  'án': 67,\n",
       "  'ùɾnɔ̀ ': 710,\n",
       "  'ɔ̀ nd̪': 207,\n",
       "  'cɔ̀': 329,\n",
       "  'ŋó ': 681,\n",
       "  'ɟì': 519,\n",
       "  'àt̪ ': 460,\n",
       "  'ɽà nd̪': 590,\n",
       "  'ɛ̀ t̪ɔ́': 610,\n",
       "  'kə̀ŋà': 524,\n",
       "  'ɽó ': 364,\n",
       "  'kàr': 358,\n",
       "  'kúkú': 448,\n",
       "  'ðɛ́n ': 488,\n",
       "  'ɔ́ ðá': 495,\n",
       "  'láv': 703,\n",
       "  'ə': 26,\n",
       "  'ŋú': 301,\n",
       "  'rɔ̀': 420,\n",
       "  'ánò': 417,\n",
       "  'a': 2,\n",
       "  'è ': 458,\n",
       "  'àprí ': 299,\n",
       "  'nɛ': 127,\n",
       "  'dám ': 428,\n",
       "  'w ': 643,\n",
       "  'jɛ́': 356,\n",
       "  'jáŋú ': 605,\n",
       "  'nd̪': 60,\n",
       "  'mà': 183,\n",
       "  'ɲá': 250,\n",
       "  'ná ': 281,\n",
       "  'ðɛ̀': 163,\n",
       "  'lìɲà': 563,\n",
       "  'ɾ': 33,\n",
       "  't̪ə̀': 245,\n",
       "  'və̀': 80,\n",
       "  'àɾ': 265,\n",
       "  'dí ': 436,\n",
       "  'və̀lè': 664,\n",
       "  'ɾà ': 343,\n",
       "  'ɔ́ndì ': 497,\n",
       "  'ɔ̀n': 674,\n",
       "  'ɛ̀': 44,\n",
       "  'ɾì ': 531,\n",
       "  'òɽ': 588,\n",
       "  'dɔ̀ŋ': 238,\n",
       "  't̪ó': 230,\n",
       "  'ndɔ̀bà': 243,\n",
       "  'íŋ': 225,\n",
       "  'ɽàŋg': 654,\n",
       "  'ʊ': 35,\n",
       "  'gɔ̀': 593,\n",
       "  'ɔ̀ ': 58,\n",
       "  'jít̪ɔ̀': 402,\n",
       "  'nd': 55,\n",
       "  'léɲ': 387,\n",
       "  'mùðù ': 707,\n",
       "  'wə̀': 97,\n",
       "  'ɭ': 30,\n",
       "  'kɔ́': 377,\n",
       "  'ɽàt̪': 702,\n",
       "  'ù ': 182,\n",
       "  'ðár ': 645,\n",
       "  'ŋìðɛ̀': 627,\n",
       "  'h': 8,\n",
       "  'ɽə̀ŋà': 566,\n",
       "  'mɔ̀': 206,\n",
       "  'rɛ̀': 122,\n",
       "  'ùnɛ̀': 78,\n",
       "  't': 19,\n",
       "  'rnɔ̀ ': 120,\n",
       "  'ðɔ́': 248,\n",
       "  'û': 384,\n",
       "  'nɛ́ ': 268,\n",
       "  'ɔ́ ŋ': 107,\n",
       "  'já ': 623,\n",
       "  'ŋí': 316,\n",
       "  'a t̪ɔ́': 444,\n",
       "  'lo': 510,\n",
       "  'ðɔ̀': 173,\n",
       "  'tɛ́': 259,\n",
       "  'və́': 75,\n",
       "  't̪ɔ̀': 171,\n",
       "  'l ': 86,\n",
       "  'cì ': 262,\n",
       "  'ðàr': 277,\n",
       "  'və̀lɛ̀ð': 87,\n",
       "  'ðɔ̀ ': 292,\n",
       "  'ŋ̀g': 323,\n",
       "  'ðà ': 174,\n",
       "  'ɛ́ðɛ̀ ': 609,\n",
       "  'vlà ': 465,\n",
       "  'ŋɛ̀': 486,\n",
       "  'ú nd̪': 251,\n",
       "  'lâɾù ': 403,\n",
       "  'ó nà': 635,\n",
       "  'lɛ́ŋg': 568,\n",
       "  'unɛɾɛ': 143,\n",
       "  'ɲɛ́n ': 602,\n",
       "  'ǎ': 117,\n",
       "  'rà ': 492,\n",
       "  'dám': 404,\n",
       "  'ɽì ': 537,\n",
       "  'ŋò': 389,\n",
       "  'ɾà nd̪': 673,\n",
       "  '̌ ': 186,\n",
       "  'ɽíŋg': 523,\n",
       "  't̪ɔ̀ ': 229,\n",
       "  'áŋâ': 291,\n",
       "  'ðə': 644,\n",
       "  'bɔ̀': 565,\n",
       "  'ápɾ': 449,\n",
       "  'nìj': 463,\n",
       "  'lú ': 516,\n",
       "  'ɛ́l ': 416,\n",
       "  'ðù': 521,\n",
       "  'ìr': 575,\n",
       "  'ɛ́r': 608,\n",
       "  'ŋàm': 351,\n",
       "  'áló ': 507,\n",
       "  'ðì ': 414,\n",
       "  'ɲà': 157,\n",
       "  't̪ə́v': 514,\n",
       "  'lə̀ŋà ': 651,\n",
       "  'únɛ̀': 177,\n",
       "  'lɔ̀mɔ̀': 549,\n",
       "  'ðìj': 585,\n",
       "  'ɛ́ɽɛ́ ': 629,\n",
       "  'ŋàlà': 363,\n",
       "  'álɛ̀': 410,\n",
       "  'ðɜ̀': 698,\n",
       "  'ɲâ': 560,\n",
       "  'p': 16,\n",
       "  'ŋə̀': 226,\n",
       "  'dɔɽ': 535,\n",
       "  'lá nd̪': 637,\n",
       "  'ndòbà': 649,\n",
       "  'ɛ̀ðɛ̀ ': 539,\n",
       "  'mì': 242,\n",
       "  'íŋgán': 83,\n",
       "  'prí ': 237,\n",
       "  'ít̪ɔ́ ': 567,\n",
       "  'èd̪': 625,\n",
       "  '̄': 39,\n",
       "  'kàðə́n': 440,\n",
       "  'ùl': 663,\n",
       "  'lə̀': 89,\n",
       "  'ár ': 267,\n",
       "  'ɔ́mɔ̌ ': 636,\n",
       "  'ŋâ': 354,\n",
       "  'ɟ': 29,\n",
       "  'mù': 228,\n",
       "  'ùnɛ́': 148,\n",
       "  'nɛ́': 130,\n",
       "  'lə̀vɛ̀r': 346,\n",
       "  'ŋàl ': 193,\n",
       "  'cá ': 509,\n",
       "  'ndì ': 275,\n",
       "  'á nd̪': 370,\n",
       "  'lɔ́': 255,\n",
       "  'dò': 583,\n",
       "  'là ': 113,\n",
       "  'î ': 425,\n",
       "  'ɔ́m': 112,\n",
       "  'íɲà': 543,\n",
       "  'lìɟí ': 271,\n",
       "  't̪ɔ́l ': 240,\n",
       "  'ɔ̌ ': 331,\n",
       "  'káŋ': 338,\n",
       "  'ŋə́': 353,\n",
       "  'óndì ': 469,\n",
       "  'ó nd̪': 534,\n",
       "  'nà': 167,\n",
       "  'jɛ̀': 359,\n",
       "  'ŋu': 687,\n",
       "  'bàc': 491,\n",
       "  'bà': 59,\n",
       "  't̪ɔ́ ŋ': 266,\n",
       "  'ɔ́mɔ̀': 430,\n",
       "  'ɛ̌ ': 556,\n",
       "  'ɲɛ̀là': 530,\n",
       "  'nɔ́nà ': 315,\n",
       "  'ɛ̀ ': 79,\n",
       "  'dú': 209,\n",
       "  'kà': 134,\n",
       "  '́': 37,\n",
       "  'ðìɲ': 332,\n",
       "  'ī': 335,\n",
       "  'ê': 396,\n",
       "  'ɔ́ nd̪': 160,\n",
       "  'ðɛ́ ': 279,\n",
       "  'ɽà ': 202,\n",
       "  'cí ': 164,\n",
       "  'áv': 415,\n",
       "  'íŋí ': 441,\n",
       "  'ɔ́ ': 52,\n",
       "  'tɛ́ ': 427,\n",
       "  'ŋgà': 385,\n",
       "  'ŋāv': 621,\n",
       "  'cə̀': 94,\n",
       "  'ɔ́ ðɛ́': 561,\n",
       "  'r̀': 246,\n",
       "  'vr': 166,\n",
       "  'lànd̪': 386,\n",
       "  'jâɽó ': 571,\n",
       "  'ɛ́': 56,\n",
       "  'ǹ': 253,\n",
       "  'm ': 426,\n",
       "  'ðár': 671,\n",
       "  'ɛ́ ': 76,\n",
       "  'ɔ́ɽɟɛ̀': 496,\n",
       "  'àn ': 169,\n",
       "  'r únɛ̀': 683,\n",
       "  'ŋɔ̀mɔ̀': 705,\n",
       "  't̪ɔ́': 93,\n",
       "  'ɲà ': 438,\n",
       "  'ðə̀': 146,\n",
       "  'ā': 221,\n",
       "  'ɽì': 204,\n",
       "  'mú': 349,\n",
       "  'úr': 232,\n",
       "  'kɔ̀': 348,\n",
       "  't̪ù': 576,\n",
       "  'wà': 394,\n",
       "  'úrnɔ̀ ': 391,\n",
       "  'ɲáŋg': 709,\n",
       "  'ì': 47,\n",
       "  'lɛ́là ': 194,\n",
       "  'ɔ̀ɽɟɛ̀': 439,\n",
       "  'ŋ́': 680,\n",
       "  'ɛ̀ ðà': 597,\n",
       "  'gɛ̀': 153,\n",
       "  'rá': 658,\n",
       "  'àm': 662,\n",
       "  'lè': 212,\n",
       "  'i': 9,\n",
       "  'vr̀': 318,\n",
       "  'â': 91,\n",
       "  'áɾ': 263,\n",
       "  'vé ': 455,\n",
       "  'ná': 518,\n",
       "  'bù': 261,\n",
       "  'íŋì ': 451,\n",
       "  'd': 5,\n",
       "  'ŋì ': 617,\n",
       "  'ká': 150,\n",
       "  'gáŋ': 678,\n",
       "  'íjɔ́ ': 431,\n",
       "  'e': 6,\n",
       "  'ɔ́l ': 688,\n",
       "  'ré ': 502,\n",
       "  'íjà ': 381,\n",
       "  'ɔ́': 53,\n",
       "  'làðə́': 690,\n",
       "  'ɔ̀ɽ': 429,\n",
       "  'ó': 115,\n",
       "  'və́lɛ̀ð': 116,\n",
       "  'ɛ̂': 101,\n",
       "  'ár': 104,\n",
       "  'ŋàlà ': 285,\n",
       "  'kúkùŋ': 170,\n",
       "  'ðə̀ní ': 432,\n",
       "  'ùrnɔ̀ ': 293,\n",
       "  'ɛ́là': 366,\n",
       "  'ū': 388,\n",
       "  'î': 214,\n",
       "  'ɲì': 528,\n",
       "  'ùw': 407,\n",
       "  'ŋɔ̀m': 290,\n",
       "  '̌n ': 481,\n",
       "  'ɽà ká': 667,\n",
       "  'ɽár': 596,\n",
       "  'ðɛ̀ ': 192,\n",
       "  '[UNK]': 0,\n",
       "  'jâ': 393,\n",
       "  'ŋɛ́nɛ̀': 615,\n",
       "  'pì': 632,\n",
       "  'kúkù ': 132,\n",
       "  't̪á ': 308,\n",
       "  'ɛ́ nd̪': 175,\n",
       "  'é': 136,\n",
       "  'lɛ̀ðɔ́ ': 367,\n",
       "  'ùnɛ́ɾ': 382,\n",
       "  'álɛ́ ': 322,\n",
       "  'ŋî': 589,\n",
       "  'lí': 191,\n",
       "  'cə̀lò': 99,\n",
       "  'lál ': 474,\n",
       "  'ŋá ': 421,\n",
       "  'ŋw': 595,\n",
       "  't̪ə̀v': 494,\n",
       "  'c': 4,\n",
       "  'lɜ̀': 471,\n",
       "  'ɲàlá': 598,\n",
       "  'kí': 437,\n",
       "  'nɛ̀ lə̀': 390,\n",
       "  'nɛ̀ ŋə́': 591,\n",
       "  'kɛ́': 479,\n",
       "  'ɲì ': 660,\n",
       "  'kə̀ŋàc': 670,\n",
       "  'ð': 23,\n",
       "  'və́lɛ́': 482,\n",
       "  'ŋávɛ́ ': 515,\n",
       "  'ɔ́l': 541,\n",
       "  'ŋgáŋ': 392,\n",
       "  'ŋgá': 218,\n",
       "  'ɾɛ́ ': 538,\n",
       "  'ɔ̀': 45,\n",
       "  'àr': 195,\n",
       "  'mná ': 696,\n",
       "  'ðɔ́ ': 149,\n",
       "  'lɛ̂': 110,\n",
       "  'ɔ́mɔ̀ ': 129,\n",
       "  'dɔ́ŋ': 375,\n",
       "  'à è': 296,\n",
       "  'ŋú ': 294,\n",
       "  'kúkù': 100,\n",
       "  'l': 12,\n",
       "  'ɽ': 32,\n",
       "  'nə̀': 697,\n",
       "  'ŋìnà ': 498,\n",
       "  'ɾà': 634,\n",
       "  'm': 13,\n",
       "  'à ðɛ̀': 424,\n",
       "  'lír ': 638,\n",
       "  'bùlìj': 397,\n",
       "  'u': 20,\n",
       "  'íŋg': 73,\n",
       "  'ðá ': 162,\n",
       "  '̪': 41,\n",
       "  'íɲ': 201,\n",
       "  'ɔ̄': 477,\n",
       "  'ŋgán': 547,\n",
       "  'àvrà ': 570,\n",
       "  'ú ': 103,\n",
       "  'ùn': 313,\n",
       "  'tò': 642,\n",
       "  'lì': 126,\n",
       "  'pɾ': 223,\n",
       "  'ɔ́ɟɔ́ ': 272,\n",
       "  'ə̀ŋà': 540,\n",
       "  'ku': 584,\n",
       "  'ŋɔ́': 357,\n",
       "  'n ': 82,\n",
       "  ' vəlɛð': 581,\n",
       "  'bàcʊ́': 677,\n",
       "  'ǎn ': 278,\n",
       "  'ɜ́': 196,\n",
       "  ' ': 1,\n",
       "  'ŋìðì': 557,\n",
       "  'ɽà kə̀': 668,\n",
       "  'ðì': 125,\n",
       "  'ír': 447,\n",
       "  'kə̀': 156,\n",
       "  'ùɾ': 401,\n",
       "  'ðám': 578,\n",
       "  'ɛ́là ': 369,\n",
       "  'àpɾ': 288,\n",
       "  'nɛ̀ ŋá': 468,\n",
       "  'nɛ̀ ŋ': 161,\n",
       "  'nɔ́ ': 154,\n",
       "  'ɔ̂': 181,\n",
       "  'rá ': 475,\n",
       "  'rà': 527,\n",
       "  'dɔ́ ': 321,\n",
       "  'jál ': 628,\n",
       "  'lù': 133,\n",
       "  'ʊ́ ': 365,\n",
       "  'ánó ': 185,\n",
       "  'ŋà': 95,\n",
       "  't̪ɛ̀': 533,\n",
       "  'nɔ̀nɔ́ ': 665,\n",
       "  'à ': 49,\n",
       "  'rè': 305,\n",
       "  'é ': 151,\n",
       "  'láɾò ': 669,\n",
       "  'ɔ̌': 423,\n",
       "  'cì': 289,\n",
       "  'lə̀v': 172,\n",
       "  'kàɾ': 505,\n",
       "  'ù': 50,\n",
       "  'lɛ̀mù': 689,\n",
       "  'ðí': 325,\n",
       "  'ə̀': 48,\n",
       "  'r nd̪': 579,\n",
       "  'àŋ': 462,\n",
       "  'kár': 276,\n",
       "  'ŋāvè': 630,\n",
       "  'ɾɛ̀': 72,\n",
       "  'lùŋù': 464,\n",
       "  'lə̀vé ': 599,\n",
       "  'pí': 526,\n",
       "  'b': 3,\n",
       "  'ǎl ': 400,\n",
       "  'ŋgâ': 650,\n",
       "  'ɽù': 701,\n",
       "  't̪ò': 199,\n",
       "  'òbà': 300,\n",
       "  'jáŋ': 452,\n",
       "  'nɔ̀ nd̪': 467,\n",
       "  'n': 14,\n",
       "  '̌': 40,\n",
       "  'lá vr̀': 652,\n",
       "  'ɲɔ́': 672,\n",
       "  'díj': 631,\n",
       "  'ú': 57,\n",
       "  'lɛ́': 128,\n",
       "  'lán': 501,\n",
       "  'àpɾí ': 445,\n",
       "  '̂': 38,\n",
       "  'ɲ': 31,\n",
       "  'ɛ̀ è': 399,\n",
       "  'kákà': 433,\n",
       "  'kúk': 96,\n",
       "  'ló': 368,\n",
       "  'gâ': 600,\n",
       "  'á': 46,\n",
       "  'ndì': 586,\n",
       "  't̪à ': 260,\n",
       "  'ŋè': 699,\n",
       "  'bà ': 640,\n",
       "  'jà ': 485,\n",
       "  'jì': 551,\n",
       "  'ŋɛ̌n ': 647,\n",
       "  'ðú': 466,\n",
       "  'lə̀b': 493,\n",
       "  'lɜ́': 544,\n",
       "  'ɔ̀t̪ɔ́ ': 532,\n",
       "  'bɔ̀gɛ̀': 616,\n",
       "  'éɲ': 216,\n",
       "  'ɟí ': 215,\n",
       "  'ðə́': 123,\n",
       "  ' nd̪': 694,\n",
       "  'íŋgá': 314,\n",
       "  'bú': 411,\n",
       "  'òr': 587,\n",
       "  'nà ': 71,\n",
       "  'jà': 222,\n",
       "  'k': 11,\n",
       "  'wə̀nì': 98,\n",
       "  'və́lɛ̂': 114,\n",
       "  'jɛ́ ': 500,\n",
       "  'dɔ̀ɽ': 131,\n",
       "  'ɽɟɛ̀': 241,\n",
       "  'ŋácà ': 408,\n",
       "  'ʊ̀m': 706,\n",
       "  'kâ': 419,\n",
       "  'ðà nd̪': 559,\n",
       "  'ɛ': 27,\n",
       "  'âj ': 612,\n",
       "  'cà ': 187,\n",
       "  'lɛ̀ð': 69,\n",
       "  'və': 350,\n",
       "  'br': 337,\n",
       "  'ùr': 361,\n",
       "  'lɛ̀ɲ': 219,\n",
       "  'là nd̪': 626,\n",
       "  'dìjɔ́ ': 656,\n",
       "  'ɜ́r': 512,\n",
       "  'áprí ': 603,\n",
       "  'cà': 418,\n",
       "  't̪ì': 274,\n",
       "  'áŋ': 118,\n",
       "  'ɔ̀ ù': 490,\n",
       "  'ŋɔ́ ': 378,\n",
       "  'kú': 85,\n",
       "  'pà ': 594,\n",
       "  'lâ': 200,\n",
       "  'màɽ': 409,\n",
       "  'jə̀': 412,\n",
       "  'ló ': 189,\n",
       "  'íɲá ': 456},\n",
       " 711)"
      ]
     },
     "execution_count": 835,
     "metadata": {},
     "output_type": "execute_result"
    }
   ],
   "source": [
    "tira_vocab=tokenizer.get_vocab()\n",
    "tira_vocab, len(tira_vocab)"
   ]
  },
  {
   "cell_type": "code",
   "execution_count": 836,
   "metadata": {},
   "outputs": [
    {
     "data": {
      "text/plain": [
       "3.6638537271448666"
      ]
     },
     "execution_count": 836,
     "metadata": {},
     "output_type": "execute_result"
    }
   ],
   "source": [
    "vocab_lens=[]\n",
    "for item in tira_vocab:\n",
    "    vocab_lens.append(len(item.strip().replace('#', '')))\n",
    "np.array(vocab_lens).mean()"
   ]
  },
  {
   "cell_type": "code",
   "execution_count": 837,
   "metadata": {},
   "outputs": [
    {
     "data": {
      "text/plain": [
       "<Axes: >"
      ]
     },
     "execution_count": 837,
     "metadata": {},
     "output_type": "execute_result"
    },
    {
     "data": {
      "image/png": "[encoded data removed]",
      "text/plain": [
       "<Figure size 432x288 with 1 Axes>"
      ]
     },
     "metadata": {
      "needs_background": "light"
     },
     "output_type": "display_data"
    }
   ],
   "source": [
    "pd.DataFrame({'length':vocab_lens}).boxplot('length')"
   ]
  },
  {
   "cell_type": "code",
   "execution_count": 838,
   "metadata": {},
   "outputs": [
    {
     "data": {
      "text/plain": [
       "array(['[UNK]', ' ', 'a', 'b', 'c', 'd', 'e', 'g', 'h', 'i', 'j', 'k',\n",
       "       'l', 'm', 'n', 'o', 'p', 'r', 's', 't', 'u', 'v', 'w', 'ð', 'ŋ',\n",
       "       'ɔ', 'ə', 'ɛ', 'ɜ', 'ɟ', 'ɭ', 'ɲ', 'ɽ', 'ɾ', 'ʃ', 'ʊ', '̀', '́',\n",
       "       '̂', '̄', '̌', '̪', 'à', '́ ', 'ɛ̀', 'ɔ̀', 'á', 'ì', 'ə̀',\n",
       "       'à ', 'ù', 't̪', 'ɔ́ ', 'ɔ́', 'í', 'nd', 'ɛ́', 'ú', 'ɔ̀ ',\n",
       "       'bà', 'nd̪', 'ɔ̀bà', 'ə́', 'nɛ̀', 'lɛ̀', 'ŋg', 'ò', 'án',\n",
       "       'á ', 'lɛ̀ð', 'í ', 'nà ', 'ɾɛ̀', 'íŋg', 'là', 'və́', 'ɛ́ ',\n",
       "       'lá', 'ùnɛ̀', 'ɛ̀ ', 'və̀', 'nì', 'n ', 'íŋgán', 'ó ', 'kú',\n",
       "       'l ', 'və̀lɛ̀ð', 'è', 'lə̀', 'lò', 'â', 'ì ', 't̪ɔ́', 'cə̀',\n",
       "       'ŋà', 'kúk', 'wə̀', 'wə̀nì', 'cə̀lò', 'kúkù', 'ɛ̂', 'ɔ̀nà ',\n",
       "       'ú ', 'ár', 'ìj', 'nɔ̀ ', 'ɔ́ ŋ', 'dɔ̀', 'nɛ̀ ', 'lɛ̂', 'ðà',\n",
       "       'ɔ́m', 'là ', 'və́lɛ̂', 'ó', 'və́lɛ̀ð', 'ǎ', 'áŋ', 'ɔ́nà ',\n",
       "       'rnɔ̀ ', 'və́lɛ̂ð', 'rɛ̀', 'ðə́', 't̪ɔ́ ', 'ðì', 'lì', 'nɛ',\n",
       "       'lɛ́', 'ɔ́mɔ̀ ', 'nɛ́', 'dɔ̀ɽ', 'kúkù ', 'lù', 'kà', 'à nd̪',\n",
       "       'é', 'lá ', 'ɾɛ', 'íj', 'ŋì', 'unɛ', 'ðɛ́', 'unɛɾɛ', 'ðá',\n",
       "       'ìjɔ́ ŋ', 'ðə̀', 'ŋá', 'ùnɛ́', 'ðɔ́ ', 'ká', 'é ', 'dɔ̀ɽɔ̀ ',\n",
       "       'gɛ̀', 'nɔ́ ', 'ŋɔ̀', 'kə̀', 'ɲà', 'ál', 'àt̪', 'ɔ́ nd̪',\n",
       "       'nɛ̀ ŋ', 'ðá ', 'ðɛ̀', 'cí ', 'r ', 'vr', 'nà', 'dɛ̀', 'àn ',\n",
       "       'kúkùŋ', 't̪ɔ̀', 'lə̀v', 'ðɔ̀', 'ðà ', 'ɛ́ nd̪', 'd̪', 'únɛ̀',\n",
       "       'ʊ̀', 'ɜ̀', 'lɔ̀', 'ɔ̂', 'ù ', 'mà', 'pr', 'ánó ', '̌ ',\n",
       "       'cà ', 'nɔ̀', 'ló ', 'án ', 'lí', 'ðɛ̀ ', 'ŋàl ', 'lɛ́là ',\n",
       "       'àr', 'ɜ́', 'ɛ́n ', 'ní ', 't̪ò', 'lâ', 'íɲ', 'ɽà ', 'ɽà',\n",
       "       'ɽì', 'ɔ́ŋ', 'mɔ̀', 'ɔ̀ nd̪', 'lú', 'dú', 'ò ', 'lí ', 'lè',\n",
       "       'ɽɟ', 'î', 'ɟí ', 'éɲ', 'lə́', 'ŋgá', 'lɛ̀ɲ', 'ɔ́ɟ', 'ā',\n",
       "       'jà', 'pɾ', 'ám', 'íŋ', 'ŋə̀', 'ɛ̌', 'mù', 't̪ɔ̀ ', 't̪ó',\n",
       "       'àn', 'úr', 'ùɽ', 'ɛ̀r', 'ŋ̀', 'cɔ̀ ', 'prí ', 'dɔ̀ŋ', 'dún ',\n",
       "       't̪ɔ́l ', 'ɽɟɛ̀', 'mì', 'ndɔ̀bà', 'ǎ ', 't̪ə̀', 'r̀', 'já',\n",
       "       'ðɔ́', 'kì', 'ɲá', 'ú nd̪', 't̪à', 'ǹ', 't̪ɛ̀ ', 'lɔ́', 'úɽ',\n",
       "       'nɛ̀ ŋə̀', 'ɛ̀là', 'tɛ́', 't̪à ', 'bù', 'cì ', 'áɾ', 't̪ə́',\n",
       "       'àɾ', 't̪ɔ́ ŋ', 'ár ', 'nɛ́ ', 'ŋù', 'j ', 'lìɟí ', 'ɔ́ɟɔ́ ',\n",
       "       'jí', 't̪ì', 'ndì ', 'kár', 'ðàr', 'ǎn ', 'ðɛ́ ', 'ŋɛ́',\n",
       "       'ná ', 'ô', 'ðə́n', 'ŋáv', 'ŋàlà ', 'a ', 'ʊ́', 'àpɾ', 'cì',\n",
       "       'ŋɔ̀m', 'áŋâ', 'ðɔ̀ ', 'ùrnɔ̀ ', 'ŋú ', 'ɲí ', 'à è',\n",
       "       'və̀r', 'lé ', 'àprí ', 'òbà', 'ŋú', 'gàr', 'và ', 'ŋgá ',\n",
       "       'rè', 'ŕ', 'à t̪ɔ́', 't̪á ', 'àvr', 'làɾ', 'lìj', 'ɔ́ ð',\n",
       "       'ùn', 'íŋgá', 'nɔ́nà ', 'ŋí', 'ŋà ', 'vr̀', 'lâɾ', 'lɛ',\n",
       "       'dɔ́ ', 'álɛ́ ', 'ŋ̀g', 'kə́', 'ðí', 'kɛ̀', 'ág', 'dɔ̀ɽɔ̀',\n",
       "       'cɔ̀', 'ðùɽ', 'ɔ̌ ', 'ðìɲ', 'lǎ', 'nɔ́', 'ī', 'ál ', 'br',\n",
       "       'káŋ', 'làr', 'lèɲ', 'ŋɛ́n ', 'ɛ́ɽ', 'ɾà ', 'nɛ̄', 'àt̪á ',\n",
       "       'lə̀vɛ̀r', 'dìj', 'kɔ̀', 'mú', 'və', 'ŋàm', 'ǹd', 'ŋə́', 'ŋâ',\n",
       "       'gɛ́ ', 'jɛ́', 'ŋɔ́', 'kàr', 'jɛ̀', 'ðú ', 'ùr', 'lár',\n",
       "       'ŋàlà', 'ɽó ', 'ʊ́ ', 'ɛ́là', 'lɛ̀ðɔ́ ', 'ló', 'ɛ́là ',\n",
       "       'á nd̪', 'láɾ', 'mìɲí ', 'àv', 'ŋɔ̀mɔ̀ ', 'dɔ́ŋ', 'dùn',\n",
       "       'kɔ́', 'ŋɔ́ ', ' ùnɛ̀', 'lɛð', 'íjà ', 'ùnɛ́ɾ', 'rlɛ̀ɲ', 'û',\n",
       "       'ŋgà', 'lànd̪', 'léɲ', 'ū', 'ŋò', 'nɛ̀ lə̀', 'úrnɔ̀ ',\n",
       "       'ŋgáŋ', 'jâ', 'wà', 'vəlɛð', 'ê', 'bùlìj', 'ápr', 'ɛ̀ è',\n",
       "       'ǎl ', 'ùɾ', 'jít̪ɔ̀', 'lâɾù ', 'dám', 'ð ', 'ŋi', 'ùw',\n",
       "       'ŋácà ', 'màɽ', 'álɛ̀', 'bú', 'jə̀', 'nò', 'ðì ', 'áv',\n",
       "       'ɛ́l ', 'ánò', 'cà', 'kâ', 'rɔ̀', 'ŋá ', 'ŋí ', 'ɔ̌',\n",
       "       'à ðɛ̀', 'î ', 'm ', 'tɛ́ ', 'dám ', 'ɔ̀ɽ', 'ɔ́mɔ̀', 'íjɔ́ ',\n",
       "       'ðə̀ní ', 'kákà', 't̪ʊ̀', 'ɛ́l', 'dí ', 'kí', 'ɲà ',\n",
       "       'ɔ̀ɽɟɛ̀', 'kàðə́n', 'íŋí ', 'únɛ̄', 'áŋà ', 'a t̪ɔ́',\n",
       "       'àpɾí ', 'ɲár', 'ír', 'kúkú', 'ápɾ', 'ìnɔ́ ', 'íŋì ',\n",
       "       'jáŋ', 'vŕ', 'ðɛ', 'vé ', 'íɲá ', 'íd', 'è ', 'kúkú ',\n",
       "       'àt̪ ', 'àl', 'àŋ', 'nìj', 'lùŋù', 'vlà ', 'ðú', 'nɔ̀ nd̪',\n",
       "       'nɛ̀ ŋá', 'óndì ', 'lɛ́ ', 'lɜ̀', 'mb', 'rɛ́ ', 'lál ', 'rá ',\n",
       "       'ðù ', 'ɔ̄', 'd̪ú', 'kɛ́', 'nɔ́ ŋ', '̌n ', 'və́lɛ́', 'lə́v',\n",
       "       'ðìɲɔ́ ', 'jà ', 'ŋɛ̀', 't̪á', 'ðɛ́n ', 'ðùɽì ', 'ɔ̀ ù',\n",
       "       'bàc', 'rà ', 'lə̀b', 't̪ə̀v', 'ɔ́ ðá', 'ɔ́ɽɟɛ̀', 'ɔ́ndì ',\n",
       "       'ŋìnà ', 'álp', 'jɛ́ ', 'lán', 'ré ', 'ŋɔ́mɔ̀ ', 'ɽɔ̀ ',\n",
       "       'kàɾ', 'ŋɔ̀ŋ', 'áló ', 'ɔ̂nà ', 'cá ', 'lo', 'ŋár', 'ɜ́r',\n",
       "       'ɛ̌n ', 't̪ə́v', 'ŋávɛ́ ', 'lú ', 'lgàr', 'ná', 'ɟì', 'ɔ́ é',\n",
       "       'ðù', 'ŋ ', 'ɽíŋg', 'kə̀ŋà', 'dɔ', 'pí', 'rà', 'ɲì', 'ɲá ',\n",
       "       'ɲɛ̀là', 'ɾì ', 'ɔ̀t̪ɔ́ ', 't̪ɛ̀', 'ó nd̪', 'dɔɽ', 'ɽá ',\n",
       "       'ɽì ', 'ɾɛ́ ', 'ɛ̀ðɛ̀ ', 'ə̀ŋà', 'ɔ́l', 'ɔ́ɾ', 'íɲà', 'lɜ́',\n",
       "       'ðó', 'ŋā', 'ŋgán', 'ɜ̀ŋ', 'lɔ̀mɔ̀', 'gàɾ', 'jì', 'lɔ́m',\n",
       "       'nú', 'ðúɽ', 'ɔ ', 'ɛ̌ ', 'ŋìðì', 'án á', 'ðà nd̪', 'ɲâ',\n",
       "       'ɔ́ ðɛ́', 'èmàɽ', 'lìɲà', 'r ùnɛ̀', 'bɔ̀', 'ɽə̀ŋà',\n",
       "       'ít̪ɔ́ ', 'lɛ́ŋg', 'ðɔ̀là', 'àvrà ', 'jâɽó ', 'ŋǐn ',\n",
       "       'gɛ̀ ', 'i ', 'ìr', 't̪ù', 'árt̪ɔ́', 'ðám', 'r nd̪', 'wànì',\n",
       "       ' vəlɛð', 'cí', 'dò', 'ku', 'ðìj', 'ndì', 'òr', 'òɽ', 'ŋî',\n",
       "       'ɽà nd̪', 'nɛ̀ ŋə́', 'án áɟ', 'gɔ̀', 'pà ', 'ŋw', 'ɽár',\n",
       "       'ɛ̀ ðà', 'ɲàlá', 'lə̀vé ', 'gâ', 'ðô', 'ɲɛ́n ', 'áprí ',\n",
       "       'áŋâl ', 'jáŋú ', 'cɔ́ ', 'lt', 'ɛ́r', 'ɛ́ðɛ̀ ', 'ɛ̀ t̪ɔ́',\n",
       "       'ɛ̀ ðɛ̀', 'âj ', 'ðə̀ŋ', 'd̪ɔ̀ ', 'ŋɛ́nɛ̀', 'bɔ̀gɛ̀', 'ŋì ',\n",
       "       'áŋá ', 'lə́b', 'lɛ̀ɲì ', 'ŋāv', 'dì', 'já ', 'àdám ',\n",
       "       'èd̪', 'là nd̪', 'ŋìðɛ̀', 'jál ', 'ɛ́ɽɛ́ ', 'ŋāvè', 'díj',\n",
       "       'pì', 'ŋʊ̀', 'ɾà', 'ó nà', 'ɔ́mɔ̌ ', 'lá nd̪', 'lír ',\n",
       "       'ɲɛ̀làc', 'bà ', 'rì ', 'tò', 'w ', 'ðə', 'ðár ', 'ŋə',\n",
       "       'ŋɛ̌n ', 'ɾɔ́ ', 'ndòbà', 'ŋgâ', 'lə̀ŋà ', 'lá vr̀',\n",
       "       'kə̀vé ', 'ɽàŋg', 'ò nd̪', 'dìjɔ́ ', 'mnà ', 'rá', 'ɲɔ́ ',\n",
       "       'ɲì ', 'ɽɛ̀ ', 'àm', 'ùl', 'və̀lè', 'nɔ̀nɔ́ ', 'íɲár',\n",
       "       'ɽà ká', 'ɽà kə̀', 'láɾò ', 'kə̀ŋàc', 'ðár', 'ɲɔ́',\n",
       "       'ɾà nd̪', 'ɔ̀n', 'ɔ́ ŋì', 'làɾt̪', 'bàcʊ́', 'gáŋ', 'ðɔ́mɔ̀',\n",
       "       'ŋ́', 'ŋó ', 'kàŋ', 'r únɛ̀', 'ŋàmɽà', 'cɔ̀ nd̪', 'tɔ́', 'ŋu',\n",
       "       'ɔ́l ', 'lɛ̀mù', 'làðə́', 'láp', 'lə̀r', 'ɔ̂n', ' nd̪', 'kɜ́',\n",
       "       'mná ', 'nə̀', 'ðɜ̀', 'ŋè', 'ɛ̄', 'ɽù', 'ɽàt̪', 'láv',\n",
       "       'kámà', 'ŋɔ̀mɔ̀', 'ʊ̀m', 'mùðù ', 'r̀ŋɔ̀', 'ɲáŋg', 'ùɾnɔ̀ '],\n",
       "      dtype=object)"
      ]
     },
     "execution_count": 838,
     "metadata": {},
     "output_type": "execute_result"
    }
   ],
   "source": [
    "tira_id2tok={v:k for k, v in tira_vocab.items()}\n",
    "tira_id2tok=pd.Series(tira_id2tok).sort_index().to_numpy()\n",
    "tira_id2tok"
   ]
  },
  {
   "cell_type": "code",
   "execution_count": 839,
   "metadata": {},
   "outputs": [
    {
     "data": {
      "text/plain": [
       "(0                         [lə̀, və̀lɛ̀ð, ɛ́l , únɛ̀, ɾɛ̀]\n",
       " 1                                        [kə̀ŋàc, î, í]\n",
       " 2              [ŋ̀g, á, tɛ́, və́lɛ̂ð, ɔ́ nd̪, ɔ̀bà, gɛ̀]\n",
       " 3        [ŋɔ́, ð, ɔ́ ŋ, á , və́lɛ̀ð, à , ðà, ŋàlà ...\n",
       " 4                                    [ðə̀, və̀lè, ðɔ̀, ŋ]\n",
       "                                ...                        \n",
       " 20475        [ðá , nɛ́, l, ê,  , və̀lɛ̀ð, ɔ́ nd̪, ɔ̀bà]\n",
       " 20476                                        [ŋə̀, vr, à]\n",
       " 20477                       [ŋə̀, b, úr, ŋ, ɛ̀ , án, ó]\n",
       " 20478    [lá , vŕ, ðì, t̪ɔ̀ , ku, ku, ŋu,  , ðɛ, dɔɽ...\n",
       " 20479       [ùrnɔ̀ , kə̀, ŋ, a, cí , ápr, ì , kúkùŋ]\n",
       " Name: transcription, Length: 20480, dtype: object,\n",
       " 0                                   [89, 87, 416, 177, 72]\n",
       " 1                                           [670, 214, 54]\n",
       " 2                        [323, 46, 259, 121, 160, 61, 153]\n",
       " 3            [357, 23, 107, 68, 116, 49, 111, 285, 60, 61]\n",
       " 4                                      [146, 664, 173, 24]\n",
       "                                ...                        \n",
       " 20475                  [162, 130, 12, 396, 1, 87, 160, 61]\n",
       " 20476                                       [226, 166, 42]\n",
       " 20477                       [226, 3, 232, 24, 79, 67, 115]\n",
       " 20478    [137, 453, 125, 229, 584, 584, 687, 1, 454, 53...\n",
       " 20479                 [293, 156, 24, 2, 164, 398, 92, 170]\n",
       " Name: transcription, Length: 20480, dtype: object)"
      ]
     },
     "execution_count": 839,
     "metadata": {},
     "output_type": "execute_result"
    }
   ],
   "source": [
    "tira_ids=df['transcription'].apply(lambda s: tokenizer.encode(s).ids)\n",
    "tira_tokenized=df['transcription'].apply(lambda s: tokenizer.encode(s).tokens)\n",
    "tira_tokenized, tira_ids"
   ]
  },
  {
   "cell_type": "code",
   "execution_count": 840,
   "metadata": {},
   "outputs": [
    {
     "data": {
      "text/plain": [
       "(149879,)"
      ]
     },
     "execution_count": 840,
     "metadata": {},
     "output_type": "execute_result"
    }
   ],
   "source": [
    "tokenized_corpus_concat=np.concatenate(tira_tokenized)\n",
    "tokenized_corpus_concat.shape"
   ]
  },
  {
   "cell_type": "code",
   "execution_count": 841,
   "metadata": {},
   "outputs": [
    {
     "data": {
      "text/plain": [
       "(18,)"
      ]
     },
     "execution_count": 841,
     "metadata": {},
     "output_type": "execute_result"
    }
   ],
   "source": [
    "token_counts=pd.Series(tokenized_corpus_concat).value_counts()\n",
    "token_counts[token_counts<=20].shape"
   ]
  },
  {
   "cell_type": "code",
   "execution_count": 842,
   "metadata": {},
   "outputs": [
    {
     "data": {
      "text/plain": [
       "211.39492242595205"
      ]
     },
     "execution_count": 842,
     "metadata": {},
     "output_type": "execute_result"
    }
   ],
   "source": [
    "token_counts.mean()"
   ]
  },
  {
   "cell_type": "code",
   "execution_count": 843,
   "metadata": {},
   "outputs": [
    {
     "data": {
      "text/plain": [
       "(709,)"
      ]
     },
     "execution_count": 843,
     "metadata": {},
     "output_type": "execute_result"
    }
   ],
   "source": [
    "pd.Series(tokenized_corpus_concat).unique().shape"
   ]
  },
  {
   "cell_type": "code",
   "execution_count": 844,
   "metadata": {},
   "outputs": [
    {
     "data": {
      "text/plain": [
       "<Axes: >"
      ]
     },
     "execution_count": 844,
     "metadata": {},
     "output_type": "execute_result"
    },
    {
     "data": {
      "image/png": "[encoded data removed]",
      "text/plain": [
       "<Figure size 432x288 with 1 Axes>"
      ]
     },
     "metadata": {
      "needs_background": "light"
     },
     "output_type": "display_data"
    }
   ],
   "source": [
    "pd.DataFrame({'token_counts':token_counts}).boxplot('token_counts')"
   ]
  },
  {
   "cell_type": "markdown",
   "metadata": {},
   "source": [
    "# Get predicted Whisper tokens\n",
    "Run Whisper tokenizer on transcribed Tira ASR dataset"
   ]
  },
  {
   "cell_type": "code",
   "execution_count": 845,
   "metadata": {},
   "outputs": [
    {
     "data": {
      "text/html": [
       "<div>\n",
       "<style scoped>\n",
       "    .dataframe tbody tr th:only-of-type {\n",
       "        vertical-align: middle;\n",
       "    }\n",
       "\n",
       "    .dataframe tbody tr th {\n",
       "        vertical-align: top;\n",
       "    }\n",
       "\n",
       "    .dataframe thead th {\n",
       "        text-align: right;\n",
       "    }\n",
       "</style>\n",
       "<table border=\"1\" class=\"dataframe\">\n",
       "  <thead>\n",
       "    <tr style=\"text-align: right;\">\n",
       "      <th></th>\n",
       "      <th>path</th>\n",
       "      <th>croatian</th>\n",
       "      <th>split</th>\n",
       "    </tr>\n",
       "  </thead>\n",
       "  <tbody>\n",
       "    <tr>\n",
       "      <th>0</th>\n",
       "      <td>HH01082021-m03s37ms011-m03s39ms552.wav</td>\n",
       "      <td>A prije jedi za hala.</td>\n",
       "      <td>train</td>\n",
       "    </tr>\n",
       "    <tr>\n",
       "      <th>1</th>\n",
       "      <td>HH01082021-m03s41ms371-m03s45ms023.wav</td>\n",
       "      <td>Apri-jadi-vanhala.</td>\n",
       "      <td>train</td>\n",
       "    </tr>\n",
       "    <tr>\n",
       "      <th>2</th>\n",
       "      <td>HH01082021-m04s43ms401-m04s46ms528.wav</td>\n",
       "      <td>A prije je vledo da hvala.</td>\n",
       "      <td>train</td>\n",
       "    </tr>\n",
       "    <tr>\n",
       "      <th>3</th>\n",
       "      <td>HH01082021-m04s48ms835-m04s51ms580.wav</td>\n",
       "      <td>A prije je vledo za hala.</td>\n",
       "      <td>train</td>\n",
       "    </tr>\n",
       "    <tr>\n",
       "      <th>4</th>\n",
       "      <td>HH01082021-m05s04ms737-m05s07ms762.wav</td>\n",
       "      <td>Apre je vledo za mala.</td>\n",
       "      <td>train</td>\n",
       "    </tr>\n",
       "  </tbody>\n",
       "</table>\n",
       "</div>"
      ],
      "text/plain": [
       "                                     path                     croatian  split\n",
       "0  HH01082021-m03s37ms011-m03s39ms552.wav        A prije jedi za hala.  train\n",
       "1  HH01082021-m03s41ms371-m03s45ms023.wav           Apri-jadi-vanhala.  train\n",
       "2  HH01082021-m04s43ms401-m04s46ms528.wav   A prije je vledo da hvala.  train\n",
       "3  HH01082021-m04s48ms835-m04s51ms580.wav    A prije je vledo za hala.  train\n",
       "4  HH01082021-m05s04ms737-m05s07ms762.wav       Apre je vledo za mala.  train"
      ]
     },
     "execution_count": 845,
     "metadata": {},
     "output_type": "execute_result"
    }
   ],
   "source": [
    "whisper_labels = '/Users/markjos/projects/malachor5/data/tira-asr/tira-clean-split-transcribed.csv'\n",
    "\n",
    "whisper_df=pd.read_csv(whisper_labels)\n",
    "whisper_df.head()"
   ]
  },
  {
   "cell_type": "markdown",
   "metadata": {},
   "source": [
    "First, let's merge the Whisper and Tira metadata"
   ]
  },
  {
   "cell_type": "code",
   "execution_count": 846,
   "metadata": {},
   "outputs": [
    {
     "data": {
      "text/plain": [
       "((20480, 29), (20480, 3))"
      ]
     },
     "execution_count": 846,
     "metadata": {},
     "output_type": "execute_result"
    }
   ],
   "source": [
    "df.shape, whisper_df.shape"
   ]
  },
  {
   "cell_type": "code",
   "execution_count": 847,
   "metadata": {},
   "outputs": [
    {
     "data": {
      "text/plain": [
       "(20480, 31)"
      ]
     },
     "execution_count": 847,
     "metadata": {},
     "output_type": "execute_result"
    }
   ],
   "source": [
    "df_merge=pd.merge(df, whisper_df, on='path')\n",
    "df_merge.shape"
   ]
  },
  {
   "cell_type": "code",
   "execution_count": 848,
   "metadata": {},
   "outputs": [],
   "source": [
    "# df_merge.to_csv(metadata, index=False)"
   ]
  },
  {
   "cell_type": "code",
   "execution_count": 849,
   "metadata": {},
   "outputs": [],
   "source": [
    "df=pd.read_csv(metadata)"
   ]
  },
  {
   "cell_type": "markdown",
   "metadata": {},
   "source": [
    "Now let's get Whisper tokens"
   ]
  },
  {
   "cell_type": "code",
   "execution_count": 850,
   "metadata": {},
   "outputs": [],
   "source": [
    "wh_tok=WhisperTokenizer.from_pretrained('openai/whisper-large-v3')"
   ]
  },
  {
   "cell_type": "code",
   "execution_count": 926,
   "metadata": {},
   "outputs": [
    {
     "data": {
      "text/plain": [
       "0                                      [287, 73, 836, 706]\n",
       "1                                     [444, 64, 22392, 72]\n",
       "2        [220, 273, 6908, 1506, 371, 73, 2032, 44254, 1...\n",
       "3        [45843, 3080, 297, 3680, 779, 1506, 1120, 710,...\n",
       "4                                    [710, 85, 20336, 298]\n",
       "                               ...                        \n",
       "20475               [1120, 408, 20445, 84, 375, 360, 9120]\n",
       "20476                                         [5947, 4481]\n",
       "20477                             [14828, 297, 432, 19816]\n",
       "20478    [635, 331, 1479, 1506, 281, 1571, 350, 378, 34...\n",
       "20479          [4038, 1771, 444, 64, 10236, 72, 1882, 470]\n",
       "Name: croatian_nmzd, Length: 20480, dtype: object"
      ]
     },
     "execution_count": 926,
     "metadata": {},
     "output_type": "execute_result"
    }
   ],
   "source": [
    "remove_punct = lambda s: ''.join(c for c in s if c not in string.punctuation)\n",
    "remove_num = lambda s: ''.join(c for c in s if c not in string.digits)\n",
    "df['croatian_nmzd']=df['croatian']\\\n",
    "    .str.lower()\\\n",
    "    .apply(remove_punct)\\\n",
    "    .apply(remove_num)\n",
    "croatian_ids=df['croatian_nmzd'].apply(lambda s: wh_tok.encode(s, add_special_tokens=False))\n",
    "croatian_ids"
   ]
  },
  {
   "cell_type": "code",
   "execution_count": 852,
   "metadata": {},
   "outputs": [
    {
     "data": {
      "text/plain": [
       "0                                          [Ġl, j, ub, av]\n",
       "1                                         [Ġkn, a, ĠÄį, i]\n",
       "2                   [Ġ, nd, ati, Ġje, Ġv, j, ero, jat, no]\n",
       "3        [Ġngo, vo, Ġn, ga, vel, Ġje, Ġda, Ġz, an, ad, ...\n",
       "4                                         [Ġz, v, lez, om]\n",
       "                               ...                        \n",
       "20475                   [Ġda, Ġne, Ġlev, u, Ġli, Ġdo, bro]\n",
       "20476                                          [Ġnav, rat]\n",
       "20477                                 [Ġbor, Ġn, ge, Ġano]\n",
       "20478     [Ġla, ver, de, Ġje, Ġto, go, Ġk, od, ir, ava, o]\n",
       "20479                    [Ġur, no, Ġkn, a, Äį, i, Ġap, ri]\n",
       "Name: croatian, Length: 20480, dtype: object"
      ]
     },
     "execution_count": 852,
     "metadata": {},
     "output_type": "execute_result"
    }
   ],
   "source": [
    "croatian_tokenized=croatian_ids.apply(wh_tok.convert_ids_to_tokens)\n",
    "croatian_tokenized"
   ]
  },
  {
   "cell_type": "code",
   "execution_count": 853,
   "metadata": {},
   "outputs": [
    {
     "data": {
      "text/plain": [
       "(225166,)"
      ]
     },
     "execution_count": 853,
     "metadata": {},
     "output_type": "execute_result"
    }
   ],
   "source": [
    "croatian_tk_concat=np.concatenate(croatian_tokenized)\n",
    "croatian_tk_concat.shape"
   ]
  },
  {
   "cell_type": "code",
   "execution_count": 854,
   "metadata": {},
   "outputs": [
    {
     "data": {
      "text/plain": [
       "Ġu       8106\n",
       "v        7178\n",
       "j        6581\n",
       "Ġn       6441\n",
       "ij       6384\n",
       "         ... \n",
       "lon         1\n",
       "lk          1\n",
       "Ġmind       1\n",
       "nar         1\n",
       "Ġvere       1\n",
       "Name: count, Length: 2429, dtype: int64"
      ]
     },
     "execution_count": 854,
     "metadata": {},
     "output_type": "execute_result"
    }
   ],
   "source": [
    "croatian_tk_ct=pd.Series(croatian_tk_concat).value_counts()\n",
    "croatian_tk_ct"
   ]
  },
  {
   "cell_type": "code",
   "execution_count": 855,
   "metadata": {},
   "outputs": [
    {
     "data": {
      "text/plain": [
       "92.69905310827501"
      ]
     },
     "execution_count": 855,
     "metadata": {},
     "output_type": "execute_result"
    }
   ],
   "source": [
    "croatian_tk_ct.mean()"
   ]
  },
  {
   "cell_type": "markdown",
   "metadata": {},
   "source": [
    "Let's make a list of only the Whisper tokens that are used and map their ids to their index in the list"
   ]
  },
  {
   "cell_type": "code",
   "execution_count": 856,
   "metadata": {},
   "outputs": [
    {
     "data": {
      "text/plain": [
       "<Axes: >"
      ]
     },
     "execution_count": 856,
     "metadata": {},
     "output_type": "execute_result"
    },
    {
     "data": {
      "image/png": "[encoded data removed]",
      "text/plain": [
       "<Figure size 432x288 with 1 Axes>"
      ]
     },
     "metadata": {
      "needs_background": "light"
     },
     "output_type": "display_data"
    }
   ],
   "source": [
    "pd.DataFrame(data={'token':pd.Series(np.unique(croatian_tk_concat)).apply(len)}).boxplot('token')"
   ]
  },
  {
   "cell_type": "code",
   "execution_count": 857,
   "metadata": {},
   "outputs": [
    {
     "data": {
      "text/plain": [
       "<Axes: >"
      ]
     },
     "execution_count": 857,
     "metadata": {},
     "output_type": "execute_result"
    },
    {
     "data": {
      "image/png": "[encoded data removed]",
      "text/plain": [
       "<Figure size 432x288 with 1 Axes>"
      ]
     },
     "metadata": {
      "needs_background": "light"
     },
     "output_type": "display_data"
    }
   ],
   "source": [
    "pd.DataFrame(data={'token':croatian_tk_ct}).boxplot('token')"
   ]
  },
  {
   "cell_type": "code",
   "execution_count": 858,
   "metadata": {},
   "outputs": [
    {
     "data": {
      "text/plain": [
       "((2429,), (2429,))"
      ]
     },
     "execution_count": 858,
     "metadata": {},
     "output_type": "execute_result"
    }
   ],
   "source": [
    "croatian_i2whisper_tok=pd.Series(croatian_tk_concat).unique()\n",
    "croatian_i2whisper_tok_id=pd.Series({i:wh_tok.convert_tokens_to_ids(tok) for i, tok in enumerate(croatian_i2whisper_tok)})\n",
    "croatian_i2whisper_tok.shape, croatian_i2whisper_tok_id.shape"
   ]
  },
  {
   "cell_type": "code",
   "execution_count": 860,
   "metadata": {},
   "outputs": [
    {
     "data": {
      "text/plain": [
       "('Ġvere', 16443)"
      ]
     },
     "execution_count": 860,
     "metadata": {},
     "output_type": "execute_result"
    }
   ],
   "source": [
    "croatian_i2whisper_tok[2428], croatian_i2whisper_tok_id[2428]"
   ]
  },
  {
   "cell_type": "code",
   "execution_count": 861,
   "metadata": {},
   "outputs": [],
   "source": [
    "whisper_tok_id2croatian_i={v:i for i,v in enumerate(croatian_i2whisper_tok_id)}"
   ]
  },
  {
   "cell_type": "code",
   "execution_count": 862,
   "metadata": {},
   "outputs": [
    {
     "data": {
      "text/plain": [
       "0                                             [0, 1, 2, 3]\n",
       "1                                             [4, 5, 6, 7]\n",
       "2                        [8, 9, 10, 11, 12, 1, 13, 14, 15]\n",
       "3        [16, 17, 18, 19, 20, 11, 21, 22, 23, 24, 25, 2...\n",
       "4                                         [22, 28, 29, 30]\n",
       "                               ...                        \n",
       "20475                       [21, 69, 601, 47, 42, 32, 197]\n",
       "20476                                           [629, 401]\n",
       "20477                                  [1149, 18, 75, 586]\n",
       "20478    [103, 1139, 478, 11, 26, 420, 198, 121, 460, 2...\n",
       "20479                     [346, 15, 4, 5, 54, 7, 347, 329]\n",
       "Name: croatian, Length: 20480, dtype: object"
      ]
     },
     "execution_count": 862,
     "metadata": {},
     "output_type": "execute_result"
    }
   ],
   "source": [
    "croatian_i_shrunk=croatian_ids.apply(\n",
    "    lambda l:[whisper_tok_id2croatian_i[i] for i in l]\n",
    ")\n",
    "croatian_i_shrunk"
   ]
  },
  {
   "cell_type": "markdown",
   "metadata": {},
   "source": [
    "Plop in code from `token_alignment.ipynb`"
   ]
  },
  {
   "cell_type": "code",
   "execution_count": 863,
   "metadata": {},
   "outputs": [],
   "source": [
    "def get_prob_tensors(ipa_seqs, whisper_seqs):\n",
    "    ipa_vocab_size = np.max(np.concatenate(ipa_seqs))+1\n",
    "    whisper_vocab_size = np.max(np.concatenate(whisper_seqs))+1\n",
    "\n",
    "    eps=1e-8 # avoid division by zero\n",
    "    cooccurr_ct = np.full([whisper_vocab_size, ipa_vocab_size], eps)\n",
    "    sum_sqd_dist = np.zeros_like(cooccurr_ct)\n",
    "    return sum_sqd_dist, cooccurr_ct\n",
    "\n",
    "def initialize_probs(ipa_seqs, whisper_seqs):\n",
    "    eps=1e-8\n",
    "    sum_sqd_dist, cooccurr_ct=get_prob_tensors(ipa_seqs, whisper_seqs)\n",
    "    for ipa_seq, whisper_seq in zip(ipa_seqs, whisper_seqs):\n",
    "        for i, ipa_token in enumerate(ipa_seq):\n",
    "            i_relative=i/len(ipa_seq)\n",
    "            for j, whisper_token in enumerate(whisper_seq):\n",
    "                j_relative=j/len(whisper_seq)\n",
    "                sum_sqd_dist[whisper_token,ipa_token]+=1/((i_relative-j_relative)**2+eps)\n",
    "                cooccurr_ct[whisper_token,ipa_token]+=1\n",
    "    prob_unnorm = torch.tensor(sum_sqd_dist/cooccurr_ct)\n",
    "    prob_norm=torch.nn.functional.softmax((prob_unnorm),dim=1)\n",
    "    return prob_norm.numpy()"
   ]
  },
  {
   "cell_type": "code",
   "execution_count": 864,
   "metadata": {},
   "outputs": [
    {
     "data": {
      "text/plain": [
       "((2429, 711), (2429, 711))"
      ]
     },
     "execution_count": 864,
     "metadata": {},
     "output_type": "execute_result"
    }
   ],
   "source": [
    "sum_sqd_dist, cooccurr_ct = get_prob_tensors(tira_ids, croatian_i_shrunk)\n",
    "sum_sqd_dist.shape, cooccurr_ct.shape"
   ]
  },
  {
   "cell_type": "code",
   "execution_count": 865,
   "metadata": {},
   "outputs": [],
   "source": [
    "prob_mat=initialize_probs(tira_ids, croatian_i_shrunk)"
   ]
  },
  {
   "cell_type": "code",
   "execution_count": 866,
   "metadata": {},
   "outputs": [
    {
     "data": {
      "text/plain": [
       "<Axes: >"
      ]
     },
     "execution_count": 866,
     "metadata": {},
     "output_type": "execute_result"
    },
    {
     "data": {
      "image/png": "[encoded data removed]",
      "text/plain": [
       "<Figure size 432x288 with 2 Axes>"
      ]
     },
     "metadata": {
      "needs_background": "light"
     },
     "output_type": "display_data"
    }
   ],
   "source": [
    "seaborn.heatmap(prob_mat)"
   ]
  },
  {
   "cell_type": "markdown",
   "metadata": {},
   "source": [
    "# For each Tira token, get the most probable Whisper token"
   ]
  },
  {
   "cell_type": "code",
   "execution_count": 867,
   "metadata": {},
   "outputs": [
    {
     "data": {
      "text/plain": [
       "(711,)"
      ]
     },
     "execution_count": 867,
     "metadata": {},
     "output_type": "execute_result"
    }
   ],
   "source": [
    "max_whisper_tokens=np.argmax(prob_mat, axis=0)\n",
    "max_whisper_tokens.shape"
   ]
  },
  {
   "cell_type": "code",
   "execution_count": 868,
   "metadata": {},
   "outputs": [
    {
     "data": {
      "text/plain": [
       "('Ġlady', 'd')"
      ]
     },
     "execution_count": 868,
     "metadata": {},
     "output_type": "execute_result"
    }
   ],
   "source": [
    "i=5\n",
    "croatian_i2whisper_tok[max_whisper_tokens[i]], tira_id2tok[i]"
   ]
  },
  {
   "cell_type": "code",
   "execution_count": 869,
   "metadata": {},
   "outputs": [
    {
     "data": {
      "text/plain": [
       "(662,)"
      ]
     },
     "execution_count": 869,
     "metadata": {},
     "output_type": "execute_result"
    }
   ],
   "source": [
    "np.unique(max_whisper_tokens).shape"
   ]
  },
  {
   "cell_type": "markdown",
   "metadata": {},
   "source": [
    "Let's make another matrix which is the cosine similarity of Whisper tokens to Tira tokens using CLAP-IPA phone embeddings"
   ]
  },
  {
   "cell_type": "code",
   "execution_count": 870,
   "metadata": {},
   "outputs": [],
   "source": [
    "phone_encoder = PhoneEncoder.from_pretrained('anyspeech/clap-ipa-tiny-phone')\n",
    "phone_encoder.eval()\n",
    "\n",
    "clap_tok = DebertaV2Tokenizer.from_pretrained('charsiu/IPATokenizer')\n",
    "\n",
    "ipa_input = clap_tok(\n",
    "\t['apri'],\n",
    "\treturn_tensors='pt', # these kwargs avoid bugs\n",
    "\treturn_token_type_ids=False,\n",
    "\tpadding=True,\n",
    ")\n",
    "\n",
    "with torch.no_grad():\n",
    "   phone_embed = phone_encoder(**ipa_input)['pooler_output']"
   ]
  },
  {
   "cell_type": "code",
   "execution_count": 871,
   "metadata": {},
   "outputs": [
    {
     "data": {
      "text/plain": [
       "torch.Size([711, 384])"
      ]
     },
     "execution_count": 871,
     "metadata": {},
     "output_type": "execute_result"
    }
   ],
   "source": [
    "tira_tok_input= clap_tok(\n",
    "    [s.replace('#', '') for s in tira_id2tok.tolist()],\n",
    "    return_tensors='pt', # these kwargs avoid bugs\n",
    "    return_token_type_ids=False,\n",
    "    padding=True,\n",
    ")\n",
    "\n",
    "with torch.no_grad():\n",
    "    tira_id2_tok_embed=phone_encoder(**tira_tok_input)['pooler_output']\n",
    "\n",
    "tira_id2_tok_embed.shape"
   ]
  },
  {
   "cell_type": "code",
   "execution_count": 872,
   "metadata": {},
   "outputs": [
    {
     "data": {
      "text/plain": [
       "torch.Size([2429, 384])"
      ]
     },
     "execution_count": 872,
     "metadata": {},
     "output_type": "execute_result"
    }
   ],
   "source": [
    "croatian_tok_input= clap_tok(\n",
    "    [s.replace('Ġ', '') for s in croatian_i2whisper_tok.tolist()],\n",
    "    return_tensors='pt', # these kwargs avoid bugs\n",
    "    return_token_type_ids=False,\n",
    "    padding=True,\n",
    ")\n",
    "\n",
    "with torch.no_grad():\n",
    "    croatian_id2_tok_embed=phone_encoder(**croatian_tok_input)['pooler_output']\n",
    "\n",
    "croatian_id2_tok_embed.shape"
   ]
  },
  {
   "cell_type": "code",
   "execution_count": 873,
   "metadata": {},
   "outputs": [
    {
     "data": {
      "text/plain": [
       "(2429, 711)"
      ]
     },
     "execution_count": 873,
     "metadata": {},
     "output_type": "execute_result"
    }
   ],
   "source": [
    "cos_distance = cdist(croatian_id2_tok_embed,tira_id2_tok_embed,cosine)\n",
    "similarity=-1*(cos_distance-1)\n",
    "similarity.shape"
   ]
  },
  {
   "cell_type": "code",
   "execution_count": 874,
   "metadata": {},
   "outputs": [],
   "source": [
    "similarity=torch.tensor(similarity).softmax(dim=1).numpy()"
   ]
  },
  {
   "cell_type": "code",
   "execution_count": 875,
   "metadata": {},
   "outputs": [
    {
     "data": {
      "text/plain": [
       "<Axes: >"
      ]
     },
     "execution_count": 875,
     "metadata": {},
     "output_type": "execute_result"
    },
    {
     "data": {
      "image/png": "[encoded data removed]",
      "text/plain": [
       "<Figure size 432x288 with 2 Axes>"
      ]
     },
     "metadata": {
      "needs_background": "light"
     },
     "output_type": "display_data"
    }
   ],
   "source": [
    "seaborn.heatmap(similarity)"
   ]
  },
  {
   "cell_type": "code",
   "execution_count": 876,
   "metadata": {},
   "outputs": [
    {
     "data": {
      "text/plain": [
       "(711,)"
      ]
     },
     "execution_count": 876,
     "metadata": {},
     "output_type": "execute_result"
    }
   ],
   "source": [
    "max_whisper_tokens_embeds=np.argmax(similarity, axis=0)\n",
    "max_whisper_tokens_embeds.shape"
   ]
  },
  {
   "cell_type": "code",
   "execution_count": 877,
   "metadata": {},
   "outputs": [
    {
     "data": {
      "text/plain": [
       "('Ī', 'ɛ̄')"
      ]
     },
     "execution_count": 877,
     "metadata": {},
     "output_type": "execute_result"
    }
   ],
   "source": [
    "i=700\n",
    "croatian_i2whisper_tok[max_whisper_tokens_embeds[i]], tira_id2tok[i]"
   ]
  },
  {
   "cell_type": "code",
   "execution_count": 878,
   "metadata": {},
   "outputs": [
    {
     "data": {
      "text/plain": [
       "(321,)"
      ]
     },
     "execution_count": 878,
     "metadata": {},
     "output_type": "execute_result"
    }
   ],
   "source": [
    "np.unique(max_whisper_tokens_embeds).shape"
   ]
  },
  {
   "cell_type": "markdown",
   "metadata": {},
   "source": [
    "What if we do the opposite direction?"
   ]
  },
  {
   "cell_type": "code",
   "execution_count": 879,
   "metadata": {},
   "outputs": [
    {
     "data": {
      "text/plain": [
       "(2429,)"
      ]
     },
     "execution_count": 879,
     "metadata": {},
     "output_type": "execute_result"
    }
   ],
   "source": [
    "max_tira_tokens=np.argmax(prob_mat, axis=1)\n",
    "max_tira_tokens.shape"
   ]
  },
  {
   "cell_type": "code",
   "execution_count": 880,
   "metadata": {},
   "outputs": [
    {
     "data": {
      "text/plain": [
       "(2429,)"
      ]
     },
     "execution_count": 880,
     "metadata": {},
     "output_type": "execute_result"
    }
   ],
   "source": [
    "max_tira_tokens_embeds=np.argmax(similarity, axis=1)\n",
    "max_tira_tokens_embeds.shape"
   ]
  },
  {
   "cell_type": "code",
   "execution_count": 881,
   "metadata": {},
   "outputs": [
    {
     "data": {
      "text/plain": [
       "((578,), (404,))"
      ]
     },
     "execution_count": 881,
     "metadata": {},
     "output_type": "execute_result"
    }
   ],
   "source": [
    "np.unique(max_tira_tokens).shape, np.unique(max_tira_tokens_embeds).shape"
   ]
  },
  {
   "cell_type": "code",
   "execution_count": 1020,
   "metadata": {},
   "outputs": [
    {
     "name": "stderr",
     "output_type": "stream",
     "text": [
      "100%|██████████| 1000/1000 [00:22<00:00, 44.98it/s]\n"
     ]
    },
    {
     "data": {
      "text/plain": [
       "(40, 681.0, 0, 2.779184247538678)"
      ]
     },
     "execution_count": 1020,
     "metadata": {},
     "output_type": "execute_result"
    }
   ],
   "source": [
    "l_unique=np.zeros(1_000)\n",
    "l_shape_mismatch=np.zeros(1_000)\n",
    "tira_token_lens=pd.Series(tira_id2tok).apply(len)\n",
    "whisper_token_lens=pd.Series(croatian_i2whisper_tok).apply(lambda s:s.replace('Ġ', '')).apply(len)\n",
    "for i in tqdm(range(1_000)):\n",
    "    l=i/1_000\n",
    "    combined_prob=l*prob_mat+(1-l)*similarity\n",
    "    max_whisper_tokens_combined=np.argmax(combined_prob, axis=0)\n",
    "    l_unique[i]=np.unique(max_whisper_tokens_combined).shape[0]\n",
    "    max_whisper_token_lens=pd.Series(max_whisper_tokens_combined).apply(lambda wh_i:whisper_token_lens[wh_i])\n",
    "    l_shape_mismatch[i]=np.square(tira_token_lens-max_whisper_token_lens).mean()\n",
    "uniquest_l=np.argmax(l_unique)\n",
    "shapliest_l=np.argmin(l_shape_mismatch)\n",
    "uniquest_l, l_unique[uniquest_l], shapliest_l, l_shape_mismatch[shapliest_l]"
   ]
  },
  {
   "cell_type": "code",
   "execution_count": 1023,
   "metadata": {},
   "outputs": [
    {
     "data": {
      "text/plain": [
       "<Axes: >"
      ]
     },
     "execution_count": 1023,
     "metadata": {},
     "output_type": "execute_result"
    },
    {
     "data": {
      "image/png": "[encoded data removed]",
      "text/plain": [
       "<Figure size 432x288 with 2 Axes>"
      ]
     },
     "metadata": {
      "needs_background": "light"
     },
     "output_type": "display_data"
    }
   ],
   "source": [
    "l=0#uniquest_l/1_000\n",
    "combined_prob=l*prob_mat+(1-l)*similarity\n",
    "combined_prob=torch.tensor(combined_prob).softmax(dim=1).numpy()\n",
    "seaborn.heatmap(combined_prob)"
   ]
  },
  {
   "cell_type": "code",
   "execution_count": 1024,
   "metadata": {},
   "outputs": [
    {
     "data": {
      "text/plain": [
       "(321,)"
      ]
     },
     "execution_count": 1024,
     "metadata": {},
     "output_type": "execute_result"
    }
   ],
   "source": [
    "max_whisper_tokens_combined=np.argmax(combined_prob, axis=0)\n",
    "np.unique(max_whisper_tokens_combined).shape"
   ]
  },
  {
   "cell_type": "code",
   "execution_count": 1025,
   "metadata": {},
   "outputs": [
    {
     "data": {
      "text/plain": [
       "{0: 220,\n",
       " 1: 276,\n",
       " 2: 64,\n",
       " 3: 65,\n",
       " 4: 1914,\n",
       " 5: 274,\n",
       " 6: 68,\n",
       " 7: 290,\n",
       " 8: 71,\n",
       " 9: 72,\n",
       " 10: 73,\n",
       " 11: 350,\n",
       " 12: 287,\n",
       " 13: 275,\n",
       " 14: 297,\n",
       " 15: 78,\n",
       " 16: 280,\n",
       " 17: 81,\n",
       " 18: 262,\n",
       " 19: 83,\n",
       " 20: 84,\n",
       " 21: 371,\n",
       " 22: 261,\n",
       " 23: 85,\n",
       " 24: 6415,\n",
       " 25: 277,\n",
       " 26: 107,\n",
       " 27: 308,\n",
       " 28: 79,\n",
       " 29: 66,\n",
       " 30: 75,\n",
       " 31: 9616,\n",
       " 32: 367,\n",
       " 33: 48759,\n",
       " 34: 1878,\n",
       " 35: 344,\n",
       " 36: 67,\n",
       " 37: 74,\n",
       " 38: 256,\n",
       " 39: 15696,\n",
       " 40: 70,\n",
       " 41: 16364,\n",
       " 42: 257,\n",
       " 43: 272,\n",
       " 44: 230,\n",
       " 45: 129,\n",
       " 46: 40079,\n",
       " 47: 741,\n",
       " 48: 675,\n",
       " 49: 1641,\n",
       " 50: 128,\n",
       " 51: 392,\n",
       " 52: 1986,\n",
       " 53: 18728,\n",
       " 54: 361,\n",
       " 55: 273,\n",
       " 56: 415,\n",
       " 57: 86,\n",
       " 58: 1106,\n",
       " 59: 31568,\n",
       " 60: 580,\n",
       " 61: 19481,\n",
       " 62: 324,\n",
       " 63: 40857,\n",
       " 64: 306,\n",
       " 65: 872,\n",
       " 66: 1289,\n",
       " 67: 969,\n",
       " 68: 22714,\n",
       " 69: 18320,\n",
       " 70: 4247,\n",
       " 71: 629,\n",
       " 72: 319,\n",
       " 73: 3957,\n",
       " 74: 635,\n",
       " 75: 1241,\n",
       " 76: 10012,\n",
       " 77: 3505,\n",
       " 78: 44257,\n",
       " 79: 5096,\n",
       " 80: 4221,\n",
       " 81: 3867,\n",
       " 82: 77,\n",
       " 83: 17017,\n",
       " 84: 263,\n",
       " 85: 17807,\n",
       " 86: 285,\n",
       " 87: 7363,\n",
       " 88: 269,\n",
       " 89: 476,\n",
       " 90: 2295,\n",
       " 91: 1445,\n",
       " 92: 20601,\n",
       " 93: 281,\n",
       " 94: 496,\n",
       " 95: 23165,\n",
       " 96: 2034,\n",
       " 97: 622,\n",
       " 98: 36317,\n",
       " 99: 25436,\n",
       " 100: 39476,\n",
       " 101: 1653,\n",
       " 102: 49012,\n",
       " 103: 2794,\n",
       " 104: 289,\n",
       " 105: 239,\n",
       " 106: 1771,\n",
       " 107: 556,\n",
       " 108: 360,\n",
       " 109: 408,\n",
       " 110: 3362,\n",
       " 111: 2773,\n",
       " 112: 1204,\n",
       " 113: 875,\n",
       " 114: 15474,\n",
       " 115: 2820,\n",
       " 116: 7292,\n",
       " 117: 23731,\n",
       " 118: 2562,\n",
       " 119: 784,\n",
       " 120: 21998,\n",
       " 121: 5573,\n",
       " 122: 22355,\n",
       " 123: 303,\n",
       " 124: 1353,\n",
       " 125: 4917,\n",
       " 126: 375,\n",
       " 127: 716,\n",
       " 128: 2447,\n",
       " 129: 13395,\n",
       " 130: 11212,\n",
       " 131: 26313,\n",
       " 132: 24164,\n",
       " 133: 752,\n",
       " 134: 6799,\n",
       " 135: 474,\n",
       " 136: 36803,\n",
       " 137: 16379,\n",
       " 138: 265,\n",
       " 139: 1718,\n",
       " 140: 3722,\n",
       " 141: 2613,\n",
       " 142: 21259,\n",
       " 143: 8401,\n",
       " 144: 2757,\n",
       " 145: 2037,\n",
       " 146: 650,\n",
       " 147: 17170,\n",
       " 148: 2251,\n",
       " 149: 2595,\n",
       " 150: 6294,\n",
       " 151: 3045,\n",
       " 152: 28810,\n",
       " 153: 384,\n",
       " 154: 572,\n",
       " 155: 45843,\n",
       " 156: 1876,\n",
       " 157: 48675,\n",
       " 158: 336,\n",
       " 159: 267,\n",
       " 160: 684,\n",
       " 161: 4559,\n",
       " 162: 7949,\n",
       " 163: 36892,\n",
       " 164: 13228,\n",
       " 165: 861,\n",
       " 166: 582,\n",
       " 167: 1667,\n",
       " 168: 368,\n",
       " 169: 282,\n",
       " 170: 45359,\n",
       " 171: 23780,\n",
       " 172: 20445,\n",
       " 173: 3080,\n",
       " 174: 4231,\n",
       " 175: 6125,\n",
       " 176: 24810,\n",
       " 177: 5051,\n",
       " 178: 3232,\n",
       " 179: 326,\n",
       " 180: 46957,\n",
       " 181: 37224,\n",
       " 182: 18655,\n",
       " 183: 18775,\n",
       " 184: 1424,\n",
       " 185: 3730,\n",
       " 186: 258,\n",
       " 187: 1335,\n",
       " 188: 23641,\n",
       " 189: 450,\n",
       " 190: 364,\n",
       " 191: 2081,\n",
       " 192: 1479,\n",
       " 193: 4660,\n",
       " 194: 5195,\n",
       " 195: 594,\n",
       " 196: 1805,\n",
       " 197: 1857,\n",
       " 198: 3812,\n",
       " 199: 1993,\n",
       " 200: 1749,\n",
       " 201: 1760,\n",
       " 202: 16425,\n",
       " 203: 3342,\n",
       " 204: 470,\n",
       " 205: 46507,\n",
       " 206: 3280,\n",
       " 207: 6086,\n",
       " 208: 2781,\n",
       " 209: 769,\n",
       " 210: 11492,\n",
       " 211: 42158,\n",
       " 212: 638,\n",
       " 213: 7800,\n",
       " 214: 1035,\n",
       " 215: 537,\n",
       " 216: 24895,\n",
       " 217: 5408,\n",
       " 218: 19364,\n",
       " 219: 35044,\n",
       " 220: 17079,\n",
       " 221: 37109,\n",
       " 222: 2938,\n",
       " 223: 1443,\n",
       " 224: 335,\n",
       " 225: 3249,\n",
       " 226: 41977,\n",
       " 227: 17680,\n",
       " 228: 705,\n",
       " 229: 3930,\n",
       " 230: 2604,\n",
       " 231: 293,\n",
       " 232: 4038,\n",
       " 233: 374,\n",
       " 234: 1189,\n",
       " 235: 49566,\n",
       " 236: 1291,\n",
       " 237: 1790,\n",
       " 238: 33079,\n",
       " 239: 10234,\n",
       " 240: 17858,\n",
       " 241: 29913,\n",
       " 242: 2752,\n",
       " 243: 39486,\n",
       " 244: 2784,\n",
       " 245: 13571,\n",
       " 246: 17721,\n",
       " 247: 20642,\n",
       " 248: 4765,\n",
       " 249: 6315,\n",
       " 250: 16999,\n",
       " 251: 997,\n",
       " 252: 1846,\n",
       " 253: 24641,\n",
       " 254: 264,\n",
       " 255: 15962,\n",
       " 256: 10752,\n",
       " 257: 36031,\n",
       " 258: 4053,\n",
       " 259: 535,\n",
       " 260: 1328,\n",
       " 261: 748,\n",
       " 262: 6983,\n",
       " 263: 5854,\n",
       " 264: 1120,\n",
       " 265: 2233,\n",
       " 266: 9124,\n",
       " 267: 5398,\n",
       " 268: 20981,\n",
       " 269: 30034,\n",
       " 270: 20249,\n",
       " 271: 35754,\n",
       " 272: 23515,\n",
       " 273: 26539,\n",
       " 274: 8757,\n",
       " 275: 13021,\n",
       " 276: 7917,\n",
       " 277: 22675,\n",
       " 278: 465,\n",
       " 279: 312,\n",
       " 280: 32704,\n",
       " 281: 2095,\n",
       " 282: 577,\n",
       " 283: 553,\n",
       " 284: 5947,\n",
       " 285: 37508,\n",
       " 286: 5790,\n",
       " 287: 9750,\n",
       " 288: 10992,\n",
       " 289: 8036,\n",
       " 290: 30851,\n",
       " 291: 17150,\n",
       " 292: 1650,\n",
       " 293: 35624,\n",
       " 294: 16241,\n",
       " 295: 15711,\n",
       " 296: 617,\n",
       " 297: 1306,\n",
       " 298: 781,\n",
       " 299: 14602,\n",
       " 300: 12584,\n",
       " 301: 3822,\n",
       " 302: 2976,\n",
       " 303: 4773,\n",
       " 304: 8307,\n",
       " 305: 2672,\n",
       " 306: 637,\n",
       " 307: 2513,\n",
       " 308: 3274,\n",
       " 309: 1924,\n",
       " 310: 1613,\n",
       " 311: 2312,\n",
       " 312: 7401,\n",
       " 313: 517,\n",
       " 314: 41705,\n",
       " 315: 48583,\n",
       " 316: 24307,\n",
       " 317: 26005,\n",
       " 318: 738,\n",
       " 319: 37342,\n",
       " 320: 718,\n",
       " 321: 1571,\n",
       " 322: 46583,\n",
       " 323: 2485,\n",
       " 324: 947,\n",
       " 325: 1630,\n",
       " 326: 1769,\n",
       " 327: 559,\n",
       " 328: 10780,\n",
       " 329: 5738,\n",
       " 330: 4861,\n",
       " 331: 25548,\n",
       " 332: 27037,\n",
       " 333: 9290,\n",
       " 334: 458,\n",
       " 335: 9505,\n",
       " 336: 439,\n",
       " 337: 33660,\n",
       " 338: 47898,\n",
       " 339: 2200,\n",
       " 340: 31173,\n",
       " 341: 1766,\n",
       " 342: 260,\n",
       " 343: 424,\n",
       " 344: 4081,\n",
       " 345: 48639,\n",
       " 346: 12451,\n",
       " 347: 47709,\n",
       " 348: 8384,\n",
       " 349: 2992,\n",
       " 350: 2106,\n",
       " 351: 5378,\n",
       " 352: 40543,\n",
       " 353: 49819,\n",
       " 354: 40904,\n",
       " 355: 432,\n",
       " 356: 1506,\n",
       " 357: 18459,\n",
       " 358: 12303,\n",
       " 359: 2884,\n",
       " 360: 1581,\n",
       " 361: 2779,\n",
       " 362: 14743,\n",
       " 363: 5159,\n",
       " 364: 340,\n",
       " 365: 12086,\n",
       " 366: 7175,\n",
       " 367: 11631,\n",
       " 368: 1913,\n",
       " 369: 30158,\n",
       " 370: 12789,\n",
       " 371: 12031,\n",
       " 372: 18929,\n",
       " 373: 706,\n",
       " 374: 49990,\n",
       " 375: 938,\n",
       " 376: 500,\n",
       " 377: 4093,\n",
       " 378: 30362,\n",
       " 379: 2002,\n",
       " 380: 1493,\n",
       " 381: 12908,\n",
       " 382: 32581,\n",
       " 383: 31181,\n",
       " 384: 2791,\n",
       " 385: 31494,\n",
       " 386: 29849,\n",
       " 387: 4270,\n",
       " 388: 710,\n",
       " 389: 18246,\n",
       " 390: 16660,\n",
       " 391: 23872,\n",
       " 392: 10145,\n",
       " 393: 11110,\n",
       " 394: 5406,\n",
       " 395: 11125,\n",
       " 396: 43657,\n",
       " 397: 25484,\n",
       " 398: 25522,\n",
       " 399: 11153,\n",
       " 400: 8284,\n",
       " 401: 31655,\n",
       " 402: 3528,\n",
       " 403: 15367,\n",
       " 404: 2422,\n",
       " 405: 17342,\n",
       " 406: 1735,\n",
       " 407: 3298,\n",
       " 408: 6628,\n",
       " 409: 1849,\n",
       " 410: 11591,\n",
       " 411: 758,\n",
       " 412: 7108,\n",
       " 413: 4185,\n",
       " 414: 1932,\n",
       " 415: 1305,\n",
       " 416: 338,\n",
       " 417: 19816,\n",
       " 418: 4413,\n",
       " 419: 1586,\n",
       " 420: 744,\n",
       " 421: 34178,\n",
       " 422: 46125,\n",
       " 423: 8130,\n",
       " 424: 28086,\n",
       " 425: 4320,\n",
       " 426: 76,\n",
       " 427: 975,\n",
       " 428: 10170,\n",
       " 429: 420,\n",
       " 430: 24488,\n",
       " 431: 24510,\n",
       " 432: 21323,\n",
       " 433: 7849,\n",
       " 434: 15915,\n",
       " 435: 806,\n",
       " 436: 1026,\n",
       " 437: 2984,\n",
       " 438: 20721,\n",
       " 439: 15127,\n",
       " 440: 10456,\n",
       " 441: 19789,\n",
       " 442: 15001,\n",
       " 443: 46726,\n",
       " 444: 15864,\n",
       " 445: 35891,\n",
       " 446: 10150,\n",
       " 447: 347,\n",
       " 448: 13275,\n",
       " 449: 33693,\n",
       " 450: 2982,\n",
       " 451: 8735,\n",
       " 452: 26925,\n",
       " 453: 26031,\n",
       " 454: 1381,\n",
       " 455: 520,\n",
       " 456: 6470,\n",
       " 457: 4496,\n",
       " 458: 1694,\n",
       " 459: 13705,\n",
       " 460: 412,\n",
       " 461: 304,\n",
       " 462: 656,\n",
       " 463: 47237,\n",
       " 464: 40558,\n",
       " 465: 33337,\n",
       " 466: 38512,\n",
       " 467: 39353,\n",
       " 468: 35697,\n",
       " 469: 49460,\n",
       " 470: 48956,\n",
       " 471: 8771,\n",
       " 472: 2504,\n",
       " 473: 1403,\n",
       " 474: 31552,\n",
       " 475: 43255,\n",
       " 476: 5721,\n",
       " 477: 7891,\n",
       " 478: 3672,\n",
       " 479: 330,\n",
       " 480: 16730,\n",
       " 481: 7276,\n",
       " 482: 8386,\n",
       " 483: 20923,\n",
       " 484: 48841,\n",
       " 485: 26579,\n",
       " 486: 3032,\n",
       " 487: 3112,\n",
       " 488: 6138,\n",
       " 489: 7496,\n",
       " 490: 39754,\n",
       " 491: 6857,\n",
       " 492: 3206,\n",
       " 493: 17111,\n",
       " 494: 23214,\n",
       " 495: 13449,\n",
       " 496: 19058,\n",
       " 497: 14396,\n",
       " 498: 49217,\n",
       " 499: 37688,\n",
       " 500: 43203,\n",
       " 501: 1393,\n",
       " 502: 659,\n",
       " 503: 16859,\n",
       " 504: 9120,\n",
       " 505: 29120,\n",
       " 506: 38678,\n",
       " 507: 10334,\n",
       " 508: 799,\n",
       " 509: 3857,\n",
       " 510: 9389,\n",
       " 511: 12762,\n",
       " 512: 44249,\n",
       " 513: 268,\n",
       " 514: 11753,\n",
       " 515: 39376,\n",
       " 516: 10438,\n",
       " 517: 29124,\n",
       " 518: 14194,\n",
       " 519: 7834,\n",
       " 520: 7921,\n",
       " 521: 30870,\n",
       " 522: 4568,\n",
       " 523: 4875,\n",
       " 524: 42372,\n",
       " 525: 5893,\n",
       " 526: 22630,\n",
       " 527: 2419,\n",
       " 528: 3057,\n",
       " 529: 5766,\n",
       " 530: 49549,\n",
       " 531: 19739,\n",
       " 532: 18838,\n",
       " 533: 391,\n",
       " 534: 674,\n",
       " 535: 26465,\n",
       " 536: 15186,\n",
       " 537: 11105,\n",
       " 538: 22540,\n",
       " 539: 8801,\n",
       " 540: 9286,\n",
       " 541: 401,\n",
       " 542: 284,\n",
       " 543: 1426,\n",
       " 544: 12285,\n",
       " 545: 17423,\n",
       " 546: 44090,\n",
       " 547: 14167,\n",
       " 548: 1741,\n",
       " 549: 41362,\n",
       " 550: 3691,\n",
       " 551: 4013,\n",
       " 552: 24635,\n",
       " 553: 8905,\n",
       " 554: 7147,\n",
       " 555: 329,\n",
       " 556: 1301,\n",
       " 557: 12716,\n",
       " 558: 1795,\n",
       " 559: 2697,\n",
       " 560: 2103,\n",
       " 561: 1429,\n",
       " 562: 4775,\n",
       " 563: 1622,\n",
       " 564: 3312,\n",
       " 565: 1763,\n",
       " 566: 19507,\n",
       " 567: 6380,\n",
       " 568: 2265,\n",
       " 569: 41110,\n",
       " 570: 24393,\n",
       " 571: 19308,\n",
       " 572: 43456,\n",
       " 573: 1519,\n",
       " 574: 3895,\n",
       " 575: 3418,\n",
       " 576: 9179,\n",
       " 577: 12850,\n",
       " 578: 19876,\n",
       " 579: 6028,\n",
       " 580: 17049,\n",
       " 581: 4333,\n",
       " 582: 26106,\n",
       " 583: 13886,\n",
       " 584: 5279,\n",
       " 585: 45547,\n",
       " 586: 26000,\n",
       " 587: 2569,\n",
       " 588: 527,\n",
       " 589: 475,\n",
       " 590: 3699,\n",
       " 591: 38008,\n",
       " 592: 38042,\n",
       " 593: 352,\n",
       " 594: 2502,\n",
       " 595: 20140,\n",
       " 596: 27597,\n",
       " 597: 8096,\n",
       " 598: 38816,\n",
       " 599: 959,\n",
       " 600: 24012,\n",
       " 601: 25713,\n",
       " 602: 15378,\n",
       " 603: 3399,\n",
       " 604: 14282,\n",
       " 605: 7415,\n",
       " 606: 1181,\n",
       " 607: 37818,\n",
       " 608: 29566,\n",
       " 609: 2887,\n",
       " 610: 19515,\n",
       " 611: 34039,\n",
       " 612: 939,\n",
       " 613: 10370,\n",
       " 614: 3789,\n",
       " 615: 3892,\n",
       " 616: 26132,\n",
       " 617: 32606,\n",
       " 618: 3176,\n",
       " 619: 2715,\n",
       " 620: 17742,\n",
       " 621: 47103,\n",
       " 622: 4504,\n",
       " 623: 15181,\n",
       " 624: 16368,\n",
       " 625: 292,\n",
       " 626: 2117,\n",
       " 627: 34255,\n",
       " 628: 22600,\n",
       " 629: 323,\n",
       " 630: 1128,\n",
       " 631: 7317,\n",
       " 632: 3228,\n",
       " 633: 20746,\n",
       " 634: 944,\n",
       " 635: 20325,\n",
       " 636: 6440,\n",
       " 637: 1661,\n",
       " 638: 35043,\n",
       " 639: 44701,\n",
       " 640: 4306,\n",
       " 641: 33713,\n",
       " 642: 1192,\n",
       " 643: 1363,\n",
       " 644: 5277,\n",
       " 645: 26236,\n",
       " 646: 1450,\n",
       " 647: 1275,\n",
       " 648: 4634,\n",
       " 649: 28265,\n",
       " 650: 25729,\n",
       " 651: 45423,\n",
       " 652: 29241,\n",
       " 653: 2729,\n",
       " 654: 32434,\n",
       " 655: 17606,\n",
       " 656: 27024,\n",
       " 657: 21225,\n",
       " 658: 17227,\n",
       " 659: 31965,\n",
       " 660: 10121,\n",
       " 661: 36007,\n",
       " 662: 669,\n",
       " 663: 858,\n",
       " 664: 49877,\n",
       " 665: 30129,\n",
       " 666: 7971,\n",
       " 667: 28042,\n",
       " 668: 44220,\n",
       " 669: 9708,\n",
       " 670: 3006,\n",
       " 671: 22795,\n",
       " 672: 1004,\n",
       " 673: 3360,\n",
       " 674: 322,\n",
       " 675: 33189,\n",
       " 676: 644,\n",
       " 677: 46574,\n",
       " 678: 21892,\n",
       " 679: 36422,\n",
       " 680: 444,\n",
       " 681: 10502,\n",
       " 682: 1534,\n",
       " 683: 44469,\n",
       " 684: 18401,\n",
       " 685: 733,\n",
       " 686: 370,\n",
       " 687: 695,\n",
       " 688: 2545,\n",
       " 689: 37552,\n",
       " 690: 22097,\n",
       " 691: 13214,\n",
       " 692: 4658,\n",
       " 693: 266,\n",
       " 694: 3502,\n",
       " 695: 417,\n",
       " 696: 4118,\n",
       " 697: 2533,\n",
       " 698: 33729,\n",
       " 699: 385,\n",
       " 700: 7858,\n",
       " 701: 24088,\n",
       " 702: 39559,\n",
       " 703: 36243,\n",
       " 704: 40868,\n",
       " 705: 2710,\n",
       " 706: 298,\n",
       " 707: 16664,\n",
       " 708: 13989,\n",
       " 709: 5581,\n",
       " 710: 8957}"
      ]
     },
     "execution_count": 1025,
     "metadata": {},
     "output_type": "execute_result"
    }
   ],
   "source": [
    "tira_id2whisper_id={}\n",
    "combined_prob_copy=similarity.copy()#combined_prob.copy()\n",
    "for i, col in enumerate(combined_prob_copy.T):\n",
    "    max_whisper_i=np.argmax(col)\n",
    "    combined_prob_copy[max_whisper_i]=float('-inf')\n",
    "    tira_id2whisper_id[i]=croatian_i2whisper_tok_id[max_whisper_i]\n",
    "tira_id2whisper_id"
   ]
  },
  {
   "cell_type": "code",
   "execution_count": 1026,
   "metadata": {},
   "outputs": [
    {
     "data": {
      "text/plain": [
       "(711, 711)"
      ]
     },
     "execution_count": 1026,
     "metadata": {},
     "output_type": "execute_result"
    }
   ],
   "source": [
    "len(tira_id2whisper_id.values()), len(set(tira_id2whisper_id.values()))"
   ]
  },
  {
   "cell_type": "code",
   "execution_count": 1027,
   "metadata": {},
   "outputs": [],
   "source": [
    "whisper_id2tira_id={v:k for k,v in tira_id2whisper_id.items()}"
   ]
  },
  {
   "cell_type": "code",
   "execution_count": 1028,
   "metadata": {},
   "outputs": [
    {
     "data": {
      "text/plain": [
       "{'[UNK]': ' ',\n",
       " ' ': ' h',\n",
       " 'a': 'a',\n",
       " 'b': 'b',\n",
       " 'c': 'cc',\n",
       " 'd': ' d',\n",
       " 'e': 'e',\n",
       " 'g': ' g',\n",
       " 'h': 'h',\n",
       " 'i': 'i',\n",
       " 'j': 'j',\n",
       " 'k': ' k',\n",
       " 'l': ' l',\n",
       " 'm': ' m',\n",
       " 'n': ' n',\n",
       " 'o': 'o',\n",
       " 'p': ' p',\n",
       " 'r': 'r',\n",
       " 's': ' s',\n",
       " 't': 't',\n",
       " 'u': 'u',\n",
       " 'v': ' v',\n",
       " 'w': ' w',\n",
       " 'ð': 'v',\n",
       " 'ŋ': ' ng',\n",
       " 'ɔ': ' o',\n",
       " 'ə': '�',\n",
       " 'ɛ': ' e',\n",
       " 'ɜ': 'p',\n",
       " 'ɟ': 'c',\n",
       " 'ɭ': 'l',\n",
       " 'ɲ': ' nin',\n",
       " 'ɽ': ' r',\n",
       " 'ɾ': 'rh',\n",
       " 'ʃ': 'ps',\n",
       " 'ʊ': ' u',\n",
       " '̀': 'd',\n",
       " '́': 'k',\n",
       " '̂': ' t',\n",
       " '̄': ' kg',\n",
       " '̌': 'g',\n",
       " '̪': ' tv',\n",
       " 'à': ' a',\n",
       " '́ ': ' b',\n",
       " 'ɛ̀': '�',\n",
       " 'ɔ̀': '�',\n",
       " 'á': ' aa',\n",
       " 'ì': ' i',\n",
       " 'ə̀': 'he',\n",
       " 'à ': 'ha',\n",
       " 'ù': '�',\n",
       " 't̪': 'th',\n",
       " 'ɔ́ ': 'oo',\n",
       " 'ɔ́': 'ooo',\n",
       " 'í': ' j',\n",
       " 'nd': 'nd',\n",
       " 'ɛ́': ' he',\n",
       " 'ú': 'w',\n",
       " 'ɔ̀ ': ' ho',\n",
       " 'bà': ' baba',\n",
       " 'nd̪': 'nt',\n",
       " 'ɔ̀bà': 'oba',\n",
       " 'ə́': ' ha',\n",
       " 'nɛ̀': ' neh',\n",
       " 'lɛ̀': 'le',\n",
       " 'ŋg': 'ng',\n",
       " 'ò': 'ho',\n",
       " 'án': 'ann',\n",
       " 'á ': 'aaa',\n",
       " 'lɛ̀ð': 'bled',\n",
       " 'í ': 'ih',\n",
       " 'nà ': 'na',\n",
       " 'ɾɛ̀': ' re',\n",
       " 'íŋg': ' ing',\n",
       " 'là': ' la',\n",
       " 'və́': ' ve',\n",
       " 'ɛ́ ': ' ej',\n",
       " 'lá': 'lla',\n",
       " 'ùnɛ̀': ' buna',\n",
       " 'ɛ̀ ': ' ih',\n",
       " 'və̀': ' veh',\n",
       " 'nì': ' ni',\n",
       " 'n ': 'n',\n",
       " 'íŋgán': 'angan',\n",
       " 'ó ': 'ou',\n",
       " 'kú': ' ku',\n",
       " 'l ': 'll',\n",
       " 'və̀lɛ̀ð': ' valid',\n",
       " 'è': ' c',\n",
       " 'lə̀': ' le',\n",
       " 'lò': ' low',\n",
       " 'â': 'oh',\n",
       " 'ì ': ' sj',\n",
       " 't̪ɔ́': ' to',\n",
       " 'cə̀': 'ca',\n",
       " 'ŋà': 'nga',\n",
       " 'kúk': 'uk',\n",
       " 'wə̀': 'ue',\n",
       " 'wə̀nì': ' oni',\n",
       " 'cə̀lò': 'culo',\n",
       " 'kúkù': 'uko',\n",
       " 'ɛ̂': 'ee',\n",
       " 'ɔ̀nà ': ' bona',\n",
       " 'ú ': 'gu',\n",
       " 'ár': 'ar',\n",
       " 'ìj': '�',\n",
       " 'nɔ̀ ': 'no',\n",
       " 'ɔ́ ŋ': 'ong',\n",
       " 'dɔ̀': ' do',\n",
       " 'nɛ̀ ': ' ne',\n",
       " 'lɛ̂': ' ple',\n",
       " 'ðà': ' va',\n",
       " 'ɔ́m': 'omm',\n",
       " 'là ': 'la',\n",
       " 'və́lɛ̂': ' vale',\n",
       " 'ó': ' ou',\n",
       " 'və́lɛ̀ð': 'iled',\n",
       " 'ǎ': ' hj',\n",
       " 'áŋ': ' ang',\n",
       " 'ɔ́nà ': 'onna',\n",
       " 'rnɔ̀ ': 'orno',\n",
       " 'və́lɛ̂ð': 'aled',\n",
       " 'rɛ̀': ' reh',\n",
       " 'ðə́': 've',\n",
       " 't̪ɔ́ ': 'to',\n",
       " 'ðì': 'vi',\n",
       " 'lì': ' li',\n",
       " 'nɛ': 'ne',\n",
       " 'lɛ́': 'lle',\n",
       " 'ɔ́mɔ̀ ': 'omo',\n",
       " 'nɛ́': ' naj',\n",
       " 'dɔ̀ɽ': ' dor',\n",
       " 'kúkù ': 'uku',\n",
       " 'lù': 'lo',\n",
       " 'kà': ' ka',\n",
       " 'à nd̪': 'and',\n",
       " 'é': ' ech',\n",
       " 'lá ': ' bla',\n",
       " 'ɾɛ': 're',\n",
       " 'íj': 'ij',\n",
       " 'ŋì': 'ni',\n",
       " 'unɛ': 'une',\n",
       " 'ðɛ́': ' dej',\n",
       " 'unɛɾɛ': ' mere',\n",
       " 'ðá': 'va',\n",
       " 'ìjɔ́ ŋ': ' young',\n",
       " 'ðə̀': 'be',\n",
       " 'ŋá': ' nah',\n",
       " 'ùnɛ́': ' une',\n",
       " 'ðɔ́ ': 'do',\n",
       " 'ká': ' cha',\n",
       " 'é ': 'ec',\n",
       " 'dɔ̀ɽɔ̀ ': ' loro',\n",
       " 'gɛ̀': 'ce',\n",
       " 'nɔ́ ': ' no',\n",
       " 'ŋɔ̀': ' ngo',\n",
       " 'kə̀': 'che',\n",
       " 'ɲà': 'anja',\n",
       " 'ál': 'all',\n",
       " 'àt̪': 'at',\n",
       " 'ɔ́ nd̪': 'ond',\n",
       " 'nɛ̀ ŋ': 'ening',\n",
       " 'ðá ': ' za',\n",
       " 'ðɛ̀': ' deh',\n",
       " 'cí ': ' chi',\n",
       " 'r ': 'gr',\n",
       " 'vr': ' pr',\n",
       " 'nà': ' na',\n",
       " 'dɛ̀': ' de',\n",
       " 'àn ': 'an',\n",
       " 'kúkùŋ': ' komun',\n",
       " 't̪ɔ̀': ' kto',\n",
       " 'lə̀v': ' lev',\n",
       " 'ðɔ̀': 'vo',\n",
       " 'ðà ': 'ba',\n",
       " 'ɛ́ nd̪': ' rend',\n",
       " 'd̪': 'dd',\n",
       " 'únɛ̀': 'una',\n",
       " 'ʊ̀': 'uh',\n",
       " 'ɜ̀': 'ac',\n",
       " 'lɔ̀': ' loh',\n",
       " 'ɔ̂': 'oj',\n",
       " 'ù ': 'uo',\n",
       " 'mà': ' mama',\n",
       " 'pr': 'pr',\n",
       " 'ánó ': 'ano',\n",
       " '̌ ': ' th',\n",
       " 'cà ': ' ca',\n",
       " 'nɔ̀': ' nou',\n",
       " 'ló ': ' lo',\n",
       " 'án ': ' an',\n",
       " 'lí': 'li',\n",
       " 'ðɛ̀ ': 'de',\n",
       " 'ŋàl ': 'nal',\n",
       " 'lɛ́là ': ' rela',\n",
       " 'àr': ' ar',\n",
       " 'ɜ́': 'aj',\n",
       " 'ɛ́n ': 'enn',\n",
       " 'ní ': 'ini',\n",
       " 't̪ò': ' tot',\n",
       " 'lâ': ' blo',\n",
       " 'íɲ': 'ining',\n",
       " 'ɽà ': 'aaaa',\n",
       " 'ɽà': ' ra',\n",
       " 'ɽì': 'ri',\n",
       " 'ɔ́ŋ': 'hong',\n",
       " 'mɔ̀': 'mo',\n",
       " 'ɔ̀ nd̪': ' bond',\n",
       " 'lú': 'lu',\n",
       " 'dú': 'du',\n",
       " 'ò ': ' ow',\n",
       " 'lí ': ' lij',\n",
       " 'lè': 'ble',\n",
       " 'ɽɟ': 'rd',\n",
       " 'î': 'ik',\n",
       " 'ɟí ': 'ci',\n",
       " 'éɲ': ' hing',\n",
       " 'lə́': ' ble',\n",
       " 'ŋgá': 'uga',\n",
       " 'lɛ̀ɲ': ' leng',\n",
       " 'ɔ́ɟ': 'oid',\n",
       " 'ā': 'jd',\n",
       " 'jà': 'ja',\n",
       " 'pɾ': 'br',\n",
       " 'ám': 'am',\n",
       " 'íŋ': 'ging',\n",
       " 'ŋə̀': ' neo',\n",
       " 'ɛ̌': ' aj',\n",
       " 'mù': ' mo',\n",
       " 't̪ɔ̀ ': ' tor',\n",
       " 't̪ó': ' tu',\n",
       " 'àn': ' and',\n",
       " 'úr': ' ur',\n",
       " 'ùɽ': 'ur',\n",
       " 'ɛ̀r': ' er',\n",
       " 'ŋ̀': ' mg',\n",
       " 'cɔ̀ ': 'co',\n",
       " 'prí ': ' pri',\n",
       " 'dɔ̀ŋ': ' dong',\n",
       " 'dún ': ' dun',\n",
       " 't̪ɔ́l ': ' dol',\n",
       " 'ɽɟɛ̀': 'že',\n",
       " 'mì': ' mi',\n",
       " 'ndɔ̀bà': 'nova',\n",
       " 'ǎ ': ' ja',\n",
       " 't̪ə̀': 'tha',\n",
       " 'r̀': 'rt',\n",
       " 'já': 'ija',\n",
       " 'ðɔ́': 'zo',\n",
       " 'kì': ' ki',\n",
       " 'ɲá': 'onia',\n",
       " 'ú nd̪': 'und',\n",
       " 't̪à': ' ta',\n",
       " 'ǹ': 'tv',\n",
       " 't̪ɛ̀ ': ' the',\n",
       " 'lɔ́': 'blo',\n",
       " 'úɽ': 'urd',\n",
       " 'nɛ̀ ŋə̀': ' tenga',\n",
       " 'ɛ̀là': 'ela',\n",
       " 'tɛ́': ' te',\n",
       " 't̪à ': 'ta',\n",
       " 'bù': ' bo',\n",
       " 'cì ': ' ci',\n",
       " 'áɾ': 'har',\n",
       " 't̪ə́': ' da',\n",
       " 'àɾ': ' har',\n",
       " 't̪ɔ́ ŋ': ' tong',\n",
       " 'ár ': 'ahr',\n",
       " 'nɛ́ ': 'naj',\n",
       " 'ŋù': 'umu',\n",
       " 'j ': ' gj',\n",
       " 'lìɟí ': 'lege',\n",
       " 'ɔ́ɟɔ́ ': 'ogo',\n",
       " 'jí': 'iji',\n",
       " 't̪ì': ' ti',\n",
       " 'ndì ': 'endi',\n",
       " 'kár': ' kar',\n",
       " 'ðàr': ' zar',\n",
       " 'ǎn ': ' en',\n",
       " 'ðɛ́ ': ' be',\n",
       " 'ŋɛ́': ' kne',\n",
       " 'ná ': 'ana',\n",
       " 'ô': ' how',\n",
       " 'ðə́n': 'ven',\n",
       " 'ŋáv': ' nav',\n",
       " 'ŋàlà ': ' mala',\n",
       " 'a ': 'sa',\n",
       " 'ʊ́': 'uu',\n",
       " 'àpɾ': ' apr',\n",
       " 'cì': 'chi',\n",
       " 'ŋɔ̀m': 'gom',\n",
       " 'áŋâ': 'ango',\n",
       " 'ðɔ̀ ': ' vo',\n",
       " 'ùrnɔ̀ ': ' mono',\n",
       " 'ŋú ': 'nu',\n",
       " 'ɲí ': 'eni',\n",
       " 'à è': 'ace',\n",
       " 'və̀r': ' ver',\n",
       " 'lé ': 'ple',\n",
       " 'àprí ': ' apro',\n",
       " 'òbà': 'uba',\n",
       " 'ŋú': ' nu',\n",
       " 'gàr': 'gar',\n",
       " 'và ': ' ba',\n",
       " 'ŋgá ': 'ugar',\n",
       " 'rè': 'bre',\n",
       " 'ŕ': ' sp',\n",
       " 'à t̪ɔ́': 'ato',\n",
       " 't̪á ': 'ata',\n",
       " 'àvr': 'avor',\n",
       " 'làɾ': ' lar',\n",
       " 'lìj': 'ili',\n",
       " 'ɔ́ ð': ' odd',\n",
       " 'ùn': ' un',\n",
       " 'íŋgá': 'inga',\n",
       " 'nɔ́nà ': ' dona',\n",
       " 'ŋí': 'uni',\n",
       " 'ŋà ': 'anga',\n",
       " 'vr̀': ' br',\n",
       " 'lâɾ': ' flor',\n",
       " 'lɛ': ' let',\n",
       " 'dɔ́ ': 'go',\n",
       " 'álɛ́ ': 'vale',\n",
       " 'ŋ̀g': ' neg',\n",
       " 'kə́': ' che',\n",
       " 'ðí': ' dri',\n",
       " 'kɛ̀': ' ce',\n",
       " 'ág': 'ag',\n",
       " 'dɔ̀ɽɔ̀': 'oro',\n",
       " 'cɔ̀': 'cho',\n",
       " 'ðùɽ': ' dur',\n",
       " 'ɔ̌ ': 'ao',\n",
       " 'ðìɲ': ' vin',\n",
       " 'lǎ': 'lad',\n",
       " 'nɔ́': ' know',\n",
       " 'ī': ' q',\n",
       " 'ál ': ' all',\n",
       " 'br': ' mr',\n",
       " 'káŋ': ' kang',\n",
       " 'làr': 'lar',\n",
       " 'lèɲ': 'elin',\n",
       " 'ŋɛ́n ': 'gen',\n",
       " 'ɛ́ɽ': 'er',\n",
       " 'ɾà ': 'ra',\n",
       " 'nɛ̄': 'nes',\n",
       " 'àt̪á ': ' ata',\n",
       " 'lə̀vɛ̀r': ' lever',\n",
       " 'dìj': ' dij',\n",
       " 'kɔ̀': ' ko',\n",
       " 'mú': ' mu',\n",
       " 'və': 'fe',\n",
       " 'ŋàm': 'nam',\n",
       " 'ǹd': 'jed',\n",
       " 'ŋə́': ' gn',\n",
       " 'ŋâ': 'umo',\n",
       " 'gɛ́ ': 'ge',\n",
       " 'jɛ́': ' je',\n",
       " 'ŋɔ́': 'ingo',\n",
       " 'kàr': 'kar',\n",
       " 'jɛ̀': 'je',\n",
       " 'ðú ': ' du',\n",
       " 'ùr': ' bur',\n",
       " 'lár': ' klar',\n",
       " 'ŋàlà': 'ala',\n",
       " 'ɽó ': 'ro',\n",
       " 'ʊ́ ': 'hu',\n",
       " 'ɛ́là': ' ela',\n",
       " 'lɛ̀ðɔ́ ': ' lado',\n",
       " 'ló': 'llo',\n",
       " 'ɛ́là ': ' hela',\n",
       " 'á nd̪': 'aland',\n",
       " 'láɾ': 'alar',\n",
       " 'mìɲí ': 'amine',\n",
       " 'àv': 'av',\n",
       " 'ŋɔ̀mɔ̀ ': ' formul',\n",
       " 'dɔ́ŋ': ' long',\n",
       " 'dùn': ' don',\n",
       " 'kɔ́': 'ko',\n",
       " 'ŋɔ́ ': 'engo',\n",
       " ' ùnɛ̀': ' una',\n",
       " 'lɛð': 'led',\n",
       " 'íjà ': 'aja',\n",
       " 'ùnɛ́ɾ': ' lunar',\n",
       " 'rlɛ̀ɲ': 'allen',\n",
       " 'û': 'ñ',\n",
       " 'ŋgà': 'enga',\n",
       " 'lànd̪': ' bland',\n",
       " 'léɲ': 'aling',\n",
       " 'ū': ' z',\n",
       " 'ŋò': ' novo',\n",
       " 'nɛ̀ lə̀': ' analog',\n",
       " 'úrnɔ̀ ': 'ordo',\n",
       " 'ŋgáŋ': ' gang',\n",
       " 'jâ': ' jou',\n",
       " 'wà': ' wa',\n",
       " 'vəlɛð': ' toler',\n",
       " 'ê': 'ņ',\n",
       " 'bùlìj': 'uli',\n",
       " 'ápr': ' apl',\n",
       " 'ɛ̀ è': 'aje',\n",
       " 'ǎl ': ' ell',\n",
       " 'ùɾ': 'hur',\n",
       " 'jít̪ɔ̀': 'ito',\n",
       " 'lâɾù ': ' valor',\n",
       " 'dám': ' dam',\n",
       " 'ð ': ' sv',\n",
       " 'ŋi': ' gi',\n",
       " 'ùw': 'oul',\n",
       " 'ŋácà ': 'aca',\n",
       " 'màɽ': ' mar',\n",
       " 'álɛ̀': ' alla',\n",
       " 'bú': ' bu',\n",
       " 'jə̀': 'jet',\n",
       " 'nò': 'nov',\n",
       " 'ðì ': ' vi',\n",
       " 'áv': ' av',\n",
       " 'ɛ́l ': 'el',\n",
       " 'ánò': ' ano',\n",
       " 'cà': 'cha',\n",
       " 'kâ': ' cho',\n",
       " 'rɔ̀': ' ro',\n",
       " 'ŋá ': ' ana',\n",
       " 'ŋí ': ' dni',\n",
       " 'ɔ̌': ' ao',\n",
       " 'à ðɛ̀': 'arden',\n",
       " 'î ': ' ik',\n",
       " 'm ': 'm',\n",
       " 'tɛ́ ': 'te',\n",
       " 'dám ': 'dam',\n",
       " 'ɔ̀ɽ': ' or',\n",
       " 'ɔ́mɔ̀': 'omon',\n",
       " 'íjɔ́ ': 'ijo',\n",
       " 'ðə̀ní ': 'lene',\n",
       " 'kákà': 'aka',\n",
       " 't̪ʊ̀': 'thur',\n",
       " 'ɛ́l': ' el',\n",
       " 'dí ': ' di',\n",
       " 'kí': 'ki',\n",
       " 'ɲà ': ' ia',\n",
       " 'ɔ̀ɽɟɛ̀': 'orde',\n",
       " 'kàðə́n': ' kadar',\n",
       " 'íŋí ': 'igi',\n",
       " 'únɛ̄': 'unes',\n",
       " 'áŋà ': ' haga',\n",
       " 'a t̪ɔ́': 'arto',\n",
       " 'àpɾí ': 'api',\n",
       " 'ɲár': 'jar',\n",
       " 'ír': 'ir',\n",
       " 'kúkú': 'oku',\n",
       " 'ápɾ': ' abra',\n",
       " 'ìnɔ́ ': 'ino',\n",
       " 'íŋì ': 'inge',\n",
       " 'jáŋ': 'jang',\n",
       " 'vŕ': ' vic',\n",
       " 'ðɛ': 'ze',\n",
       " 'vé ': ' pe',\n",
       " 'íɲá ': 'inar',\n",
       " 'íd': ' id',\n",
       " 'è ': 'ks',\n",
       " 'kúkú ': 'ugu',\n",
       " 'àt̪ ': ' at',\n",
       " 'àl': 'al',\n",
       " 'àŋ': 'ang',\n",
       " 'nìj': ' rij',\n",
       " 'lùŋù': ' longo',\n",
       " 'vlà ': ' kla',\n",
       " 'ðú': ' dud',\n",
       " 'nɔ̀ nd̪': ' rond',\n",
       " 'nɛ̀ ŋá': 'agna',\n",
       " 'óndì ': 'andi',\n",
       " 'lɛ́ ': ' gle',\n",
       " 'lɜ̀': ' gla',\n",
       " 'mb': 'mb',\n",
       " 'rɛ́ ': ' bre',\n",
       " 'lál ': ' rall',\n",
       " 'rá ': 'pra',\n",
       " 'ðù ': ' zo',\n",
       " 'ɔ̄': 'š',\n",
       " 'd̪ú': ' tut',\n",
       " 'kɛ́': 'ke',\n",
       " 'nɔ́ ŋ': ' lung',\n",
       " '̌n ': ' han',\n",
       " 'və́lɛ́': 'ville',\n",
       " 'lə́v': ' lav',\n",
       " 'ðìɲɔ́ ': ' vino',\n",
       " 'jà ': ' aja',\n",
       " 'ŋɛ̀': 'enge',\n",
       " 't̪á': ' tar',\n",
       " 'ðɛ́n ': ' ven',\n",
       " 'ðùɽì ': ' lovely',\n",
       " 'ɔ̀ ù': 'olu',\n",
       " 'bàc': ' bac',\n",
       " 'rà ': ' pra',\n",
       " 'lə̀b': ' leb',\n",
       " 't̪ə̀v': ' tav',\n",
       " 'ɔ́ ðá': 'oda',\n",
       " 'ɔ́ɽɟɛ̀': 'orden',\n",
       " 'ɔ́ndì ': ' onde',\n",
       " 'ŋìnà ': 'omina',\n",
       " 'álp': ' alk',\n",
       " 'jɛ́ ': ' ie',\n",
       " 'lán': ' plan',\n",
       " 'ré ': ' pre',\n",
       " 'ŋɔ́mɔ̀ ': ' combo',\n",
       " 'ɽɔ̀ ': 'bro',\n",
       " 'kàɾ': ' kart',\n",
       " 'ŋɔ̀ŋ': ' jong',\n",
       " 'áló ': 'alo',\n",
       " 'ɔ̂nà ': ' gonna',\n",
       " 'cá ': ' cat',\n",
       " 'lo': 'los',\n",
       " 'ŋár': ' naar',\n",
       " 'ɜ́r': ' ahor',\n",
       " 'ɛ̌n ': 'en',\n",
       " 't̪ə́v': ' dav',\n",
       " 'ŋávɛ́ ': ' nave',\n",
       " 'lú ': ' lu',\n",
       " 'lgàr': 'agar',\n",
       " 'ná': ' banana',\n",
       " 'ɟì': 'gi',\n",
       " 'ɔ́ é': 'oe',\n",
       " 'ðù': ' dov',\n",
       " 'ŋ ': 'gn',\n",
       " 'ɽíŋg': ' ring',\n",
       " 'kə̀ŋà': ' kana',\n",
       " 'dɔ': ' dot',\n",
       " 'pí': 'pi',\n",
       " 'rà': 'ara',\n",
       " 'ɲì': 'mi',\n",
       " 'ɲá ': ' via',\n",
       " 'ɲɛ̀là': ' cielo',\n",
       " 'ɾì ': ' ri',\n",
       " 'ɔ̀t̪ɔ́ ': 'otto',\n",
       " 't̪ɛ̀': 'ter',\n",
       " 'ó nd̪': ' und',\n",
       " 'dɔɽ': 'gor',\n",
       " 'ɽá ': ' ara',\n",
       " 'ɽì ': 'rij',\n",
       " 'ɾɛ́ ': ' dre',\n",
       " 'ɛ̀ðɛ̀ ': 'eda',\n",
       " 'ə̀ŋà': 'aga',\n",
       " 'ɔ́l': 'ol',\n",
       " 'ɔ́ɾ': 'or',\n",
       " 'íɲà': 'ina',\n",
       " 'lɜ́': ' dla',\n",
       " 'ðó': 'odo',\n",
       " 'ŋā': 'jut',\n",
       " 'ŋgán': 'agan',\n",
       " 'ɜ̀ŋ': ' eng',\n",
       " 'lɔ̀mɔ̀': ' roman',\n",
       " 'gàɾ': ' gar',\n",
       " 'jì': 'ji',\n",
       " 'lɔ́m': ' lum',\n",
       " 'nú': ' nun',\n",
       " 'ðúɽ': ' zur',\n",
       " 'ɔ ': 'os',\n",
       " 'ɛ̌ ': 'ai',\n",
       " 'ŋìðì': 'idi',\n",
       " 'án á': 'anna',\n",
       " 'ðà nd̪': ' grand',\n",
       " 'ɲâ': ' enjoy',\n",
       " 'ɔ́ ðɛ́': 'ode',\n",
       " 'èmàɽ': 'ima',\n",
       " 'lìɲà': ' line',\n",
       " 'r ùnɛ̀': ' alone',\n",
       " 'bɔ̀': 'bo',\n",
       " 'ɽə̀ŋà': ' prima',\n",
       " 'ít̪ɔ́ ': 'itu',\n",
       " 'lɛ́ŋg': ' lang',\n",
       " 'ðɔ̀là': ' bola',\n",
       " 'àvrà ': 'obra',\n",
       " 'jâɽó ': ' dialog',\n",
       " 'ŋǐn ': ' unin',\n",
       " 'gɛ̀ ': ' ge',\n",
       " 'i ': ' pi',\n",
       " 'ìr': ' ir',\n",
       " 't̪ù': 'tu',\n",
       " 'árt̪ɔ́': 'ardo',\n",
       " 'ðám': ' zam',\n",
       " 'r nd̪': ' trend',\n",
       " 'wànì': 'oni',\n",
       " ' vəlɛð': ' loved',\n",
       " 'cí': ' kij',\n",
       " 'dò': ' dod',\n",
       " 'ku': 'ku',\n",
       " 'ðìj': ' vrij',\n",
       " 'ndì': 'udi',\n",
       " 'òr': ' hor',\n",
       " 'òɽ': ' our',\n",
       " 'ŋî': 'ink',\n",
       " 'ɽà nd̪': 'rand',\n",
       " 'nɛ̀ ŋə́': ' venge',\n",
       " 'án áɟ': ' anak',\n",
       " 'gɔ̀': ' go',\n",
       " 'pà ': ' pa',\n",
       " 'ŋw': 'mu',\n",
       " 'ɽár': ' alar',\n",
       " 'ɛ̀ ðà': ' nada',\n",
       " 'ɲàlá': 'agara',\n",
       " 'lə̀vé ': ' love',\n",
       " 'gâ': ' gor',\n",
       " 'ðô': 'avo',\n",
       " 'ɲɛ́n ': 'jen',\n",
       " 'áprí ': ' arri',\n",
       " 'áŋâl ': 'angel',\n",
       " 'jáŋú ': 'iamo',\n",
       " 'cɔ́ ': ' cor',\n",
       " 'lt': ' lt',\n",
       " 'ɛ́r': 'erer',\n",
       " 'ɛ́ðɛ̀ ': 'ida',\n",
       " 'ɛ̀ t̪ɔ́': 'eto',\n",
       " 'ɛ̀ ðɛ̀': ' jede',\n",
       " 'âj ': 'oy',\n",
       " 'ðə̀ŋ': ' teng',\n",
       " 'd̪ɔ̀ ': ' dro',\n",
       " 'ŋɛ́nɛ̀': ' mine',\n",
       " 'bɔ̀gɛ̀': ' bog',\n",
       " 'ŋì ': ' ji',\n",
       " 'áŋá ': 'anger',\n",
       " 'lə́b': ' lab',\n",
       " 'lɛ̀ɲì ': ' lagi',\n",
       " 'ŋāv': ' gev',\n",
       " 'dì': 'di',\n",
       " 'já ': ' jar',\n",
       " 'àdám ': ' adam',\n",
       " 'èd̪': 'ed',\n",
       " 'là nd̪': ' land',\n",
       " 'ŋìðɛ̀': ' gide',\n",
       " 'jál ': 'jal',\n",
       " 'ɛ́ɽɛ́ ': 'ere',\n",
       " 'ŋāvè': ' never',\n",
       " 'díj': 'ti',\n",
       " 'pì': ' bi',\n",
       " 'ŋʊ̀': 'ugo',\n",
       " 'ɾà': ' tra',\n",
       " 'ó nà': ' ona',\n",
       " 'ɔ́mɔ̌ ': 'oma',\n",
       " 'lá nd̪': 'land',\n",
       " 'lír ': 'dir',\n",
       " 'ɲɛ̀làc': 'ivat',\n",
       " 'bà ': 'pa',\n",
       " 'rì ': ' bri',\n",
       " 'tò': ' top',\n",
       " 'w ': 'wh',\n",
       " 'ðə': ' ze',\n",
       " 'ðár ': 'zar',\n",
       " 'ŋə': 'ene',\n",
       " 'ŋɛ̌n ': 'gan',\n",
       " 'ɾɔ́ ': ' gro',\n",
       " 'ndòbà': ' nova',\n",
       " 'ŋgâ': 'ongo',\n",
       " 'lə̀ŋà ': ' lama',\n",
       " 'lá vr̀': ' lavor',\n",
       " 'kə̀vé ': ' gave',\n",
       " 'ɽàŋg': ' rang',\n",
       " 'ò nd̪': ' mond',\n",
       " 'dìjɔ́ ': ' dijo',\n",
       " 'mnà ': ' mana',\n",
       " 'rá': 'tra',\n",
       " 'ɲɔ́ ': ' dio',\n",
       " 'ɲì ': 'imi',\n",
       " 'ɽɛ̀ ': ' raj',\n",
       " 'àm': ' am',\n",
       " 'ùl': 'ull',\n",
       " 'və̀lè': ' vole',\n",
       " 'nɔ̀nɔ́ ': ' nano',\n",
       " 'íɲár': 'ener',\n",
       " 'ɽà ká': ' aka',\n",
       " 'ɽà kə̀': ' alkal',\n",
       " 'láɾò ': 'aro',\n",
       " 'kə̀ŋàc': ' correct',\n",
       " 'ðár': 'azar',\n",
       " 'ɲɔ́': 'io',\n",
       " 'ɾà nd̪': ' brand',\n",
       " 'ɔ̀n': ' on',\n",
       " 'ɔ́ ŋì': ' ogni',\n",
       " 'làɾt̪': ' part',\n",
       " 'bàcʊ́': 'acho',\n",
       " 'gáŋ': ' dang',\n",
       " 'ðɔ́mɔ̀': ' samo',\n",
       " 'ŋ́': ' kn',\n",
       " 'ŋó ': 'amo',\n",
       " 'kàŋ': ' chang',\n",
       " 'r únɛ̀': 'juna',\n",
       " 'ŋàmɽà': 'andra',\n",
       " 'cɔ̀ nd̪': ' kind',\n",
       " 'tɔ́': ' so',\n",
       " 'ŋu': ' gu',\n",
       " 'ɔ́l ': ' ol',\n",
       " 'lɛ̀mù': 'emu',\n",
       " 'làðə́': ' lava',\n",
       " 'láp': ' lap',\n",
       " 'lə̀r': 'ller',\n",
       " 'ɔ̂n': 'on',\n",
       " ' nd̪': 'ended',\n",
       " 'kɜ́': ' ch',\n",
       " 'mná ': 'ena',\n",
       " 'nə̀': ' net',\n",
       " 'ðɜ̀': ' zaj',\n",
       " 'ŋè': ' me',\n",
       " 'ɛ̄': 'etch',\n",
       " 'ɽù': 'rov',\n",
       " 'ɽàt̪': 'avat',\n",
       " 'láv': 'lav',\n",
       " 'kámà': 'lama',\n",
       " 'ŋɔ̀mɔ̀': ' normal',\n",
       " 'ʊ̀m': 'om',\n",
       " 'mùðù ': ' modo',\n",
       " 'r̀ŋɔ̀': ' tengo',\n",
       " 'ɲáŋg': ' yang',\n",
       " 'ùɾnɔ̀ ': 'ono'}"
      ]
     },
     "execution_count": 1028,
     "metadata": {},
     "output_type": "execute_result"
    }
   ],
   "source": [
    "tira_tok2whisper_tok={\n",
    "    tira_id2tok[k]:wh_tok.decode(v)\n",
    "    for k,v in tira_id2whisper_id.items()\n",
    "}\n",
    "tira_tok2whisper_tok"
   ]
  },
  {
   "cell_type": "code",
   "execution_count": 1029,
   "metadata": {},
   "outputs": [
    {
     "data": {
      "text/plain": [
       "('kúkù ŋgápɔ́t̪ìðɔ̀ ɛ́nà nɛ̀ lə̀vɛ̀r', 'ukuuga pooo ti vo hena ne lever')"
      ]
     },
     "execution_count": 1029,
     "metadata": {},
     "output_type": "execute_result"
    }
   ],
   "source": [
    "def transliterate_to_whisper(tira_str):\n",
    "    tira_tokens = tokenizer.encode(tira_str).ids\n",
    "    whisper_tokens = [tira_id2whisper_id[t] for t in tira_tokens]\n",
    "    whisper_str = wh_tok.decode(whisper_tokens)\n",
    "    return whisper_str\n",
    "i=random.randint(0,len(df))\n",
    "df['transcription'][i], transliterate_to_whisper(df['transcription'][i])"
   ]
  },
  {
   "cell_type": "code",
   "execution_count": 1039,
   "metadata": {},
   "outputs": [],
   "source": [
    "def transliterate_to_whisper_ids(tira_str):\n",
    "    tira_tokens = tokenizer.encode(tira_str).ids\n",
    "    whisper_tokens = [tira_id2whisper_id[t] for t in tira_tokens]\n",
    "    return whisper_tokens"
   ]
  },
  {
   "cell_type": "code",
   "execution_count": 1038,
   "metadata": {},
   "outputs": [
    {
     "data": {
      "text/plain": [
       "('lìdɔ̀t̪ɔ́ dún únɛ̀ɾɛ̀', ' li doto dununa re', 'lìdɔodún únɛ̀ɾɛ̀')"
      ]
     },
     "execution_count": 1038,
     "metadata": {},
     "output_type": "execute_result"
    }
   ],
   "source": [
    "def transliterate_to_tira(whisper_str):\n",
    "    whisper_tokens=wh_tok.tokenize(whisper_str)\n",
    "    whisper_ids=wh_tok.convert_tokens_to_ids(whisper_tokens)\n",
    "    tira_ids=[whisper_id2tira_id.get(i, wh_tok.decode(i)[0]) for i in whisper_ids]\n",
    "    tira_str=''.join([tokenizer.decode([t]) if type(t) is int else t for t in tira_ids])\n",
    "    return tira_str\n",
    "i=random.randint(0,len(df))\n",
    "tira_str = df['transcription'][i]\n",
    "whisper_str=transliterate_to_whisper(tira_str)\n",
    "tira_str, whisper_str, transliterate_to_tira(whisper_str)"
   ]
  },
  {
   "cell_type": "markdown",
   "metadata": {},
   "source": [
    "The conversion is lossy, bc nothing's constraining Whisper to only use the tokens in the vocabulary. Let's address that later."
   ]
  },
  {
   "cell_type": "code",
   "execution_count": 999,
   "metadata": {},
   "outputs": [
    {
     "data": {
      "text/plain": [
       "0                      le valideluna re\n",
       "1                           correctik j\n",
       "2                 neg aa tealedondobace\n",
       "3        ingovongaaailedha va malantoba\n",
       "4                          be volevo ng\n",
       "                      ...              \n",
       "20475           za naj lņ h validondoba\n",
       "20476                          neo pr a\n",
       "20477               neob ur ng ihann ou\n",
       "20478     bla vicvi torkuku gu hzegor o\n",
       "20479      monoche nga chi apl sj komun\n",
       "Name: tira_transliterated, Length: 20480, dtype: object"
      ]
     },
     "execution_count": 999,
     "metadata": {},
     "output_type": "execute_result"
    }
   ],
   "source": [
    "df['tira_transliterated']=df['transcription'].apply(transliterate_to_whisper)\n",
    "df['tira_transliterated']"
   ]
  },
  {
   "cell_type": "code",
   "execution_count": 1040,
   "metadata": {},
   "outputs": [
    {
     "data": {
      "text/plain": [
       "0                              [476, 7363, 338, 5051, 319]\n",
       "1                                        [3006, 1035, 361]\n",
       "2                [2485, 40079, 535, 5573, 684, 19481, 384]\n",
       "3        [18459, 85, 556, 22714, 7292, 1641, 2773, 3750...\n",
       "4                                 [650, 49877, 3080, 6415]\n",
       "                               ...                        \n",
       "20475     [7949, 11212, 287, 43657, 276, 7363, 684, 19481]\n",
       "20476                                    [41977, 582, 257]\n",
       "20477             [41977, 65, 4038, 6415, 5096, 969, 2820]\n",
       "20478    [16379, 26031, 4917, 3930, 5279, 5279, 695, 27...\n",
       "20479    [35624, 1876, 6415, 64, 13228, 25522, 20601, 4...\n",
       "Name: tira_transliterated_ids, Length: 20480, dtype: object"
      ]
     },
     "execution_count": 1040,
     "metadata": {},
     "output_type": "execute_result"
    }
   ],
   "source": [
    "df['tira_transliterated_ids']=df['transcription'].apply(transliterate_to_whisper_ids)\n",
    "df['tira_transliterated_ids']"
   ]
  },
  {
   "cell_type": "code",
   "execution_count": 1041,
   "metadata": {},
   "outputs": [],
   "source": [
    "df.to_csv(metadata)"
   ]
  },
  {
   "cell_type": "code",
   "execution_count": 1001,
   "metadata": {},
   "outputs": [
    {
     "data": {
      "text/plain": [
       "'/Users/markjos/projects/malachor5/data/tira-clean/metadata.csv'"
      ]
     },
     "execution_count": 1001,
     "metadata": {},
     "output_type": "execute_result"
    }
   ],
   "source": [
    "metadata"
   ]
  }
 ],
 "metadata": {
  "kernelspec": {
   "display_name": "Python 3",
   "language": "python",
   "name": "python3"
  },
  "language_info": {
   "codemirror_mode": {
    "name": "ipython",
    "version": 3
   },
   "file_extension": ".py",
   "mimetype": "text/x-python",
   "name": "python",
   "nbconvert_exporter": "python",
   "pygments_lexer": "ipython3",
   "version": "3.9.19"
  }
 },
 "nbformat": 4,
 "nbformat_minor": 2
}
