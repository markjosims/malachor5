{
 "cells": [
  {
   "cell_type": "markdown",
   "metadata": {
    "vscode": {
     "languageId": "plaintext"
    }
   },
   "source": [
    "# Make token vocabulary\n",
    "Train a tokenizer on the Tira ASR dataset"
   ]
  },
  {
   "cell_type": "code",
   "execution_count": 5,
   "metadata": {},
   "outputs": [],
   "source": [
    "from tokenizers import (\n",
    "    decoders,\n",
    "    models,\n",
    "    normalizers,\n",
    "    pre_tokenizers,\n",
    "    processors,\n",
    "    trainers,\n",
    "    Tokenizer,\n",
    ")\n",
    "from transformers import WhisperTokenizer\n",
    "import pandas as pd\n",
    "import numpy as np\n",
    "import seaborn\n",
    "import string\n",
    "from clap.encoders import *\n",
    "from transformers import DebertaV2Tokenizer, AutoProcessor\n",
    "import torch\n",
    "from scipy.spatial.distance import cdist, cosine, squareform\n",
    "from tqdm import tqdm\n",
    "tqdm.pandas()\n",
    "from unidecode import unidecode\n",
    "import random\n",
    "import json"
   ]
  },
  {
   "cell_type": "code",
   "execution_count": 6,
   "metadata": {},
   "outputs": [],
   "source": [
    "metadata='/Users/markjos/projects/malachor5/data/hf-datasets/tira-clean/metadata.csv'"
   ]
  },
  {
   "cell_type": "code",
   "execution_count": 14,
   "metadata": {},
   "outputs": [],
   "source": [
    "df=pd.read_csv(metadata)\n",
    "def get_text_corpus():\n",
    "    train_df=df[df['split']=='train']\n",
    "    for row in train_df['transcription'].unique():\n",
    "        yield row"
   ]
  },
  {
   "cell_type": "code",
   "execution_count": 33,
   "metadata": {},
   "outputs": [
    {
     "data": {
      "text/plain": [
       "(7246, 24108)"
      ]
     },
     "execution_count": 33,
     "metadata": {},
     "output_type": "execute_result"
    }
   ],
   "source": [
    "unique_words = set()\n",
    "words = []\n",
    "for text in get_text_corpus():\n",
    "    unique_words.update(text.split())\n",
    "    words.extend(text.split())\n",
    "len(unique_words), len(words)"
   ]
  },
  {
   "cell_type": "code",
   "execution_count": 16,
   "metadata": {},
   "outputs": [],
   "source": [
    "unk = \"[UNK]\"\n",
    "trainer=trainers.BpeTrainer(vocab_size=7000, special_tokens=[unk], max_token_length=8, min_frequency=2)"
   ]
  },
  {
   "cell_type": "code",
   "execution_count": 17,
   "metadata": {},
   "outputs": [
    {
     "name": "stdout",
     "output_type": "stream",
     "text": [
      "\n",
      "\n",
      "\n"
     ]
    },
    {
     "data": {
      "text/plain": [
       "4152"
      ]
     },
     "execution_count": 17,
     "metadata": {},
     "output_type": "execute_result"
    }
   ],
   "source": [
    "tokenizer = Tokenizer(models.BPE())\n",
    "tokenizer.train_from_iterator(get_text_corpus(), trainer=trainer)\n",
    "tira_vocab=tokenizer.get_vocab()\n",
    "len(tira_vocab)"
   ]
  },
  {
   "cell_type": "code",
   "execution_count": 19,
   "metadata": {},
   "outputs": [
    {
     "data": {
      "text/plain": [
       "('kàðɛ́və̀lèðɔ́', ['kàðɛ́', 'və̀lè', 'ðɔ́'], [1097, 607, 265])"
      ]
     },
     "execution_count": 19,
     "metadata": {},
     "output_type": "execute_result"
    }
   ],
   "source": [
    "i=random.randint(0,len(df))\n",
    "line=df['transcription'].iloc[i]\n",
    "encoding=tokenizer.encode(line)\n",
    "\n",
    "line, encoding.tokens, encoding.ids"
   ]
  },
  {
   "cell_type": "code",
   "execution_count": 20,
   "metadata": {},
   "outputs": [
    {
     "data": {
      "text/plain": [
       "4.921242774566474"
      ]
     },
     "execution_count": 20,
     "metadata": {},
     "output_type": "execute_result"
    }
   ],
   "source": [
    "vocab_lens=[]\n",
    "for item in tira_vocab:\n",
    "    vocab_lens.append(len(item.strip().replace('#', '')))\n",
    "np.array(vocab_lens).mean()"
   ]
  },
  {
   "cell_type": "code",
   "execution_count": 34,
   "metadata": {},
   "outputs": [
    {
     "data": {
      "text/plain": [
       "7263"
      ]
     },
     "execution_count": 34,
     "metadata": {},
     "output_type": "execute_result"
    }
   ],
   "source": [
    "wh_tok = WhisperTokenizer.from_pretrained('openai/whisper-tiny')\n",
    "tokenized_corpus = [\n",
    "    wh_tok.encode(sentence, add_special_tokens=False) for sentence in get_text_corpus()\n",
    "]\n",
    "len(tokenized_corpus)"
   ]
  },
  {
   "cell_type": "code",
   "execution_count": 35,
   "metadata": {},
   "outputs": [],
   "source": [
    "unique_sentences_tokenized = [\n",
    "    ' '.join(\n",
    "        str(tok) for tok in wh_tok.encode(sentence, add_special_tokens=False)\n",
    "    ) for sentence in get_text_corpus()\n",
    "]\n",
    "tira_tkzd_path='/Users/markjos/projects/malachor5/data/hf-datasets/tira-clean/tira_text_tkzd.txt'\n",
    "with open(tira_tkzd_path, 'w') as f:\n",
    "    for sentence in unique_sentences_tokenized:\n",
    "        f.write(sentence + '\\n')"
   ]
  }
 ],
 "metadata": {
  "kernelspec": {
   "display_name": "Python 3",
   "language": "python",
   "name": "python3"
  },
  "language_info": {
   "codemirror_mode": {
    "name": "ipython",
    "version": 3
   },
   "file_extension": ".py",
   "mimetype": "text/x-python",
   "name": "python",
   "nbconvert_exporter": "python",
   "pygments_lexer": "ipython3",
   "version": "3.9.21"
  }
 },
 "nbformat": 4,
 "nbformat_minor": 2
}
