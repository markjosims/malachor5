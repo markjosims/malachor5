{
 "cells": [
  {
   "cell_type": "markdown",
   "metadata": {
    "vscode": {
     "languageId": "plaintext"
    }
   },
   "source": [
    "# Make token vocabulary\n",
    "Train a tokenizer on the Tira ASR dataset"
   ]
  },
  {
   "cell_type": "code",
   "execution_count": 1,
   "metadata": {},
   "outputs": [
    {
     "name": "stderr",
     "output_type": "stream",
     "text": [
      "/usr/local/lib/python3.9/site-packages/tqdm/auto.py:21: TqdmWarning: IProgress not found. Please update jupyter and ipywidgets. See https://ipywidgets.readthedocs.io/en/stable/user_install.html\n",
      "  from .autonotebook import tqdm as notebook_tqdm\n"
     ]
    }
   ],
   "source": [
    "from tokenizers import (\n",
    "    decoders,\n",
    "    models,\n",
    "    normalizers,\n",
    "    pre_tokenizers,\n",
    "    processors,\n",
    "    trainers,\n",
    "    Tokenizer,\n",
    ")\n",
    "from transformers import WhisperTokenizer\n",
    "import pandas as pd\n",
    "import numpy as np\n",
    "import seaborn\n",
    "import string\n",
    "from clap.encoders import *\n",
    "from transformers import DebertaV2Tokenizer, AutoProcessor\n",
    "import torch\n",
    "from scipy.spatial.distance import cdist, cosine, squareform\n",
    "from tqdm import tqdm\n",
    "tqdm.pandas()\n",
    "from unidecode import unidecode\n",
    "import random\n",
    "import json"
   ]
  },
  {
   "cell_type": "code",
   "execution_count": 2,
   "metadata": {},
   "outputs": [],
   "source": [
    "metadata='/Users/markjos/projects/malachor5/data/hf-datasets/tira-clean/metadata.csv'"
   ]
  },
  {
   "cell_type": "code",
   "execution_count": 5,
   "metadata": {},
   "outputs": [],
   "source": [
    "df=pd.read_csv(metadata)\n",
    "def get_text_corpus():\n",
    "    train_df=df[df['split']=='train']\n",
    "    for row in train_df['transcription']:\n",
    "        yield row"
   ]
  },
  {
   "cell_type": "code",
   "execution_count": 6,
   "metadata": {},
   "outputs": [
    {
     "data": {
      "text/plain": [
       "7246"
      ]
     },
     "execution_count": 6,
     "metadata": {},
     "output_type": "execute_result"
    }
   ],
   "source": [
    "unique_words = set()\n",
    "for text in get_text_corpus():\n",
    "    unique_words.update(text.split())\n",
    "len(unique_words)"
   ]
  },
  {
   "cell_type": "code",
   "execution_count": 22,
   "metadata": {},
   "outputs": [],
   "source": [
    "unk = \"[UNK]\"\n",
    "trainer=trainers.BpeTrainer(vocab_size=7000, special_tokens=[unk], max_token_length=8, min_frequency=2)"
   ]
  },
  {
   "cell_type": "code",
   "execution_count": 23,
   "metadata": {},
   "outputs": [
    {
     "name": "stdout",
     "output_type": "stream",
     "text": [
      "\n",
      "\n",
      "\n"
     ]
    },
    {
     "data": {
      "text/plain": [
       "5810"
      ]
     },
     "execution_count": 23,
     "metadata": {},
     "output_type": "execute_result"
    }
   ],
   "source": [
    "tokenizer = Tokenizer(models.BPE())\n",
    "tokenizer.train_from_iterator(get_text_corpus(), trainer=trainer)\n",
    "tira_vocab=tokenizer.get_vocab()\n",
    "len(tira_vocab)"
   ]
  },
  {
   "cell_type": "code",
   "execution_count": 29,
   "metadata": {},
   "outputs": [
    {
     "data": {
      "text/plain": [
       "('bàcʊ́m ŋgɔ́t̪ɔ̀ ŋùɽùvɔ́ ŋàmɽàrɛ̀',\n",
       " ['bàcʊ́', 'm ŋgɔ́', 't̪ɔ̀ ', 'ŋùɽù', 'vɔ́ ', 'ŋàmɽà', 'rɛ̀'],\n",
       " [677, 1725, 229, 2238, 1564, 684, 122])"
      ]
     },
     "execution_count": 29,
     "metadata": {},
     "output_type": "execute_result"
    }
   ],
   "source": [
    "i=random.randint(0,len(df))\n",
    "line=df['transcription'].iloc[i]\n",
    "encoding=tokenizer.encode(line)\n",
    "\n",
    "line, encoding.tokens, encoding.ids"
   ]
  },
  {
   "cell_type": "code",
   "execution_count": 24,
   "metadata": {},
   "outputs": [
    {
     "data": {
      "text/plain": [
       "5.174526678141136"
      ]
     },
     "execution_count": 24,
     "metadata": {},
     "output_type": "execute_result"
    }
   ],
   "source": [
    "vocab_lens=[]\n",
    "for item in tira_vocab:\n",
    "    vocab_lens.append(len(item.strip().replace('#', '')))\n",
    "np.array(vocab_lens).mean()"
   ]
  }
 ],
 "metadata": {
  "kernelspec": {
   "display_name": "Python 3",
   "language": "python",
   "name": "python3"
  },
  "language_info": {
   "codemirror_mode": {
    "name": "ipython",
    "version": 3
   },
   "file_extension": ".py",
   "mimetype": "text/x-python",
   "name": "python",
   "nbconvert_exporter": "python",
   "pygments_lexer": "ipython3",
   "version": "3.9.21"
  }
 },
 "nbformat": 4,
 "nbformat_minor": 2
}
