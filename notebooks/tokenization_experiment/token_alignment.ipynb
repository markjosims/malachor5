{
 "cells": [
  {
   "cell_type": "markdown",
   "metadata": {},
   "source": [
    "# Expectation maximization\n",
    "Set expected probability as ratio of token frequency in context of Whisper token over absolute token frequency, weighted by average distance between indices"
   ]
  },
  {
   "cell_type": "code",
   "execution_count": 2,
   "metadata": {},
   "outputs": [],
   "source": [
    "import numpy as np\n",
    "from collections import defaultdict\n",
    "import seaborn as sb"
   ]
  },
  {
   "cell_type": "code",
   "execution_count": 9,
   "metadata": {},
   "outputs": [],
   "source": [
    "ipa_seqs = [\n",
    "    [1, 10, 5],\n",
    "    [10, 25, 9],\n",
    "]\n",
    "\n",
    "whisper_seqs = [\n",
    "    [20, 9, 2],\n",
    "    [11, 13, 6, 10],\n",
    "]\n",
    "\n",
    "def get_prob_tensors(ipa_seqs, whisper_seqs):\n",
    "    ipa_vocab_size = np.max(np.concatenate(ipa_seqs))+1\n",
    "    whisper_vocab_size = np.max(np.concatenate(whisper_seqs))+1\n",
    "\n",
    "    eps=1e-8 # avoid division by zero\n",
    "    sum_sqd_dist = np.full([whisper_vocab_size, ipa_vocab_size], eps)\n",
    "    ipa_token_counts = np.full(ipa_vocab_size, eps)\n",
    "    return sum_sqd_dist, ipa_token_counts\n",
    "sum_sqd_dist, ipa_token_counts = get_prob_tensors(ipa_seqs, whisper_seqs)"
   ]
  },
  {
   "cell_type": "code",
   "execution_count": 10,
   "metadata": {},
   "outputs": [
    {
     "data": {
      "text/plain": [
       "(21, 26)"
      ]
     },
     "execution_count": 10,
     "metadata": {},
     "output_type": "execute_result"
    }
   ],
   "source": [
    "sum_sqd_dist.shape"
   ]
  },
  {
   "cell_type": "code",
   "execution_count": 12,
   "metadata": {},
   "outputs": [
    {
     "data": {
      "text/plain": [
       "array([1., 1., 1., 1., 1., 1., 1., 1., 1., 1., 1., 1., 1., 1., 1., 1., 1.,\n",
       "       1., 1., 1., 1., 1., 1., 1., 1., 1.])"
      ]
     },
     "execution_count": 12,
     "metadata": {},
     "output_type": "execute_result"
    }
   ],
   "source": [
    "def initialize_probs(ipa_seqs, whisper_seqs, sum_sqd_dist, ipa_token_counts):\n",
    "    for ipa_seq, whisper_seq in zip(ipa_seqs, whisper_seqs):\n",
    "        for i, ipa_token in enumerate(ipa_seq):\n",
    "            ipa_token_counts[ipa_token]+=1\n",
    "            for j, whisper_token in enumerate(whisper_seq):\n",
    "                i_relative=i/len(ipa_seq)\n",
    "                j_relative=j/len(whisper_seq)\n",
    "                sum_sqd_dist[whisper_token,ipa_token]+=(i_relative-j_relative)**2\n",
    "    prob_unnorm = sum_sqd_dist/(ipa_token_counts)\n",
    "    sum_prob_unnorm = prob_unnorm.sum(axis=0)\n",
    "    prob_norm=prob_unnorm/sum_prob_unnorm\n",
    "    return prob_norm\n",
    "    \n",
    "probmat=initialize_probs(ipa_seqs, whisper_seqs, sum_sqd_dist, ipa_token_counts)\n",
    "probmat.sum(axis=0)"
   ]
  },
  {
   "cell_type": "code",
   "execution_count": 13,
   "metadata": {},
   "outputs": [
    {
     "data": {
      "text/plain": [
       "<Axes: >"
      ]
     },
     "execution_count": 13,
     "metadata": {},
     "output_type": "execute_result"
    },
    {
     "data": {
      "image/png": "[encoded data removed]",
      "text/plain": [
       "<Figure size 432x288 with 2 Axes>"
      ]
     },
     "metadata": {
      "needs_background": "light"
     },
     "output_type": "display_data"
    }
   ],
   "source": [
    "sb.heatmap(probmat)"
   ]
  }
 ],
 "metadata": {
  "kernelspec": {
   "display_name": "Python 3",
   "language": "python",
   "name": "python3"
  },
  "language_info": {
   "codemirror_mode": {
    "name": "ipython",
    "version": 3
   },
   "file_extension": ".py",
   "mimetype": "text/x-python",
   "name": "python",
   "nbconvert_exporter": "python",
   "pygments_lexer": "ipython3",
   "version": "3.9.21"
  }
 },
 "nbformat": 4,
 "nbformat_minor": 2
}
