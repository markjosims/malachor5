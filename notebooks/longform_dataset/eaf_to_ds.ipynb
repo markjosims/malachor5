{
 "cells": [
  {
   "cell_type": "code",
   "execution_count": 1,
   "metadata": {},
   "outputs": [
    {
     "name": "stderr",
     "output_type": "stream",
     "text": [
      "/usr/local/lib/python3.9/site-packages/tqdm/auto.py:21: TqdmWarning: IProgress not found. Please update jupyter and ipywidgets. See https://ipywidgets.readthedocs.io/en/stable/user_install.html\n",
      "  from .autonotebook import tqdm as notebook_tqdm\n"
     ]
    }
   ],
   "source": [
    "from datasets import load_dataset\n",
    "from pympi import Elan\n",
    "import os\n",
    "from glob import glob\n",
    "import pandas as pd\n",
    "import numpy as np\n",
    "os.chdir('/Users/markjos/projects/malachor5')\n",
    "import sys\n",
    "sys.path.append('scripts')\n",
    "from eval import get_word_language\n",
    "from tokenization_utils import normalize_tira_eng_str\n",
    "from longform import load_and_resample\n",
    "from tqdm import tqdm\n",
    "tqdm.pandas()\n",
    "import torchaudio"
   ]
  },
  {
   "cell_type": "code",
   "execution_count": 2,
   "metadata": {},
   "outputs": [
    {
     "data": {
      "text/plain": [
       "['meta/HH20210312.eaf', 'meta/HH20210913.eaf', 'meta/HH20220327-2.eaf']"
      ]
     },
     "execution_count": 2,
     "metadata": {},
     "output_type": "execute_result"
    }
   ],
   "source": [
    "elicitation_wav_dir = 'data/elicitation-wavs/wav/'\n",
    "tira_eval_dir = 'data/hf-datasets/tira-eval/'\n",
    "eafs = glob('meta/*.eaf')\n",
    "eafs"
   ]
  },
  {
   "cell_type": "code",
   "execution_count": 82,
   "metadata": {},
   "outputs": [],
   "source": [
    "def convert_eaf_to_pandas(eaf_path):\n",
    "    eaf = Elan.Eaf(eaf_path)\n",
    "    data = []\n",
    "    for tier in eaf.get_tier_names():\n",
    "        if len(tier)!=3 and not tier.isupper():\n",
    "            continue\n",
    "        for annotation in eaf.get_annotation_data_for_tier(tier):\n",
    "            data.append({\n",
    "                'tier': tier,\n",
    "                'file': eaf_path,\n",
    "                'start': annotation[0],\n",
    "                'end': annotation[1],\n",
    "                'duration': annotation[1]-annotation[0],\n",
    "                'value': annotation[2]\n",
    "            })\n",
    "    return pd.DataFrame(data)"
   ]
  },
  {
   "cell_type": "code",
   "execution_count": 83,
   "metadata": {},
   "outputs": [
    {
     "data": {
      "text/html": [
       "<div>\n",
       "<style scoped>\n",
       "    .dataframe tbody tr th:only-of-type {\n",
       "        vertical-align: middle;\n",
       "    }\n",
       "\n",
       "    .dataframe tbody tr th {\n",
       "        vertical-align: top;\n",
       "    }\n",
       "\n",
       "    .dataframe thead th {\n",
       "        text-align: right;\n",
       "    }\n",
       "</style>\n",
       "<table border=\"1\" class=\"dataframe\">\n",
       "  <thead>\n",
       "    <tr style=\"text-align: right;\">\n",
       "      <th></th>\n",
       "      <th>tier</th>\n",
       "      <th>file</th>\n",
       "      <th>start</th>\n",
       "      <th>end</th>\n",
       "      <th>duration</th>\n",
       "      <th>value</th>\n",
       "      <th>duration_min</th>\n",
       "    </tr>\n",
       "  </thead>\n",
       "  <tbody>\n",
       "    <tr>\n",
       "      <th>0</th>\n",
       "      <td>SHA</td>\n",
       "      <td>meta/HH20210312.eaf</td>\n",
       "      <td>10340</td>\n",
       "      <td>13050</td>\n",
       "      <td>2710</td>\n",
       "      <td>Alright, we got it set up.</td>\n",
       "      <td>0.045167</td>\n",
       "    </tr>\n",
       "    <tr>\n",
       "      <th>1</th>\n",
       "      <td>SHA</td>\n",
       "      <td>meta/HH20210312.eaf</td>\n",
       "      <td>23170</td>\n",
       "      <td>26460</td>\n",
       "      <td>3290</td>\n",
       "      <td>Ok we ready? So you can stop sharing.</td>\n",
       "      <td>0.054833</td>\n",
       "    </tr>\n",
       "    <tr>\n",
       "      <th>2</th>\n",
       "      <td>SHA</td>\n",
       "      <td>meta/HH20210312.eaf</td>\n",
       "      <td>44260</td>\n",
       "      <td>64300</td>\n",
       "      <td>20040</td>\n",
       "      <td>Now I just have to, alright, so now I'm re-rec...</td>\n",
       "      <td>0.334000</td>\n",
       "    </tr>\n",
       "    <tr>\n",
       "      <th>3</th>\n",
       "      <td>SHA</td>\n",
       "      <td>meta/HH20210312.eaf</td>\n",
       "      <td>72560</td>\n",
       "      <td>72780</td>\n",
       "      <td>220</td>\n",
       "      <td>-pulled them</td>\n",
       "      <td>0.003667</td>\n",
       "    </tr>\n",
       "    <tr>\n",
       "      <th>4</th>\n",
       "      <td>SHA</td>\n",
       "      <td>meta/HH20210312.eaf</td>\n",
       "      <td>96470</td>\n",
       "      <td>98280</td>\n",
       "      <td>1810</td>\n",
       "      <td>And can you add \"ùnɛ́ɾɛ́\" after it?</td>\n",
       "      <td>0.030167</td>\n",
       "    </tr>\n",
       "  </tbody>\n",
       "</table>\n",
       "</div>"
      ],
      "text/plain": [
       "  tier                 file  start    end  duration  \\\n",
       "0  SHA  meta/HH20210312.eaf  10340  13050      2710   \n",
       "1  SHA  meta/HH20210312.eaf  23170  26460      3290   \n",
       "2  SHA  meta/HH20210312.eaf  44260  64300     20040   \n",
       "3  SHA  meta/HH20210312.eaf  72560  72780       220   \n",
       "4  SHA  meta/HH20210312.eaf  96470  98280      1810   \n",
       "\n",
       "                                               value  duration_min  \n",
       "0                         Alright, we got it set up.      0.045167  \n",
       "1              Ok we ready? So you can stop sharing.      0.054833  \n",
       "2  Now I just have to, alright, so now I'm re-rec...      0.334000  \n",
       "3                                       -pulled them      0.003667  \n",
       "4               And can you add \"ùnɛ́ɾɛ́\" after it?      0.030167  "
      ]
     },
     "execution_count": 83,
     "metadata": {},
     "output_type": "execute_result"
    }
   ],
   "source": [
    "df_list=[]\n",
    "for eaf_fp in eafs:\n",
    "    # skip noisy recording\n",
    "    if '20240424' in eaf_fp:\n",
    "        continue\n",
    "    df_list.append(convert_eaf_to_pandas(eaf_fp))\n",
    "df = pd.concat(df_list)\n",
    "df['duration_min']=df['duration']/60000\n",
    "df.head()"
   ]
  },
  {
   "cell_type": "code",
   "execution_count": 110,
   "metadata": {},
   "outputs": [],
   "source": [
    "get_pct_lang = lambda s, lang: [get_word_language(w) for w in s.split()].count(lang)/len(s.split()) if s.split() else 0\n",
    "get_pct_tira = lambda s: get_pct_lang(s, 'tira')\n",
    "get_pct_eng = lambda s: get_pct_lang(s, 'eng')\n",
    "get_pct_misc = lambda s: get_pct_lang(s, 'misc')\n",
    "\n",
    "df['pct_tira']=df['value'].apply(get_pct_tira)\n",
    "df['pct_eng']=df['value'].apply(get_pct_eng)\n",
    "df['pct_misc']=df['value'].apply(get_pct_misc)"
   ]
  },
  {
   "cell_type": "code",
   "execution_count": 85,
   "metadata": {},
   "outputs": [],
   "source": [
    "df['codeswitched'] = True\n",
    "df.loc[\n",
    "    (df['pct_tira']==0)|(df['pct_eng']==0), 'codeswitched'\n",
    "] = False\n",
    "df['matrix_language'] = 'eng'\n",
    "df.loc[\n",
    "    (df['pct_tira']>df['pct_eng']), 'matrix_language'\n",
    "] = 'tira'"
   ]
  },
  {
   "cell_type": "code",
   "execution_count": 86,
   "metadata": {},
   "outputs": [
    {
     "data": {
      "text/plain": [
       "codeswitched\n",
       "False    1673\n",
       "True      334\n",
       "Name: count, dtype: int64"
      ]
     },
     "execution_count": 86,
     "metadata": {},
     "output_type": "execute_result"
    }
   ],
   "source": [
    "df['codeswitched'].value_counts()"
   ]
  },
  {
   "cell_type": "code",
   "execution_count": 87,
   "metadata": {},
   "outputs": [
    {
     "data": {
      "text/html": [
       "<div>\n",
       "<style scoped>\n",
       "    .dataframe tbody tr th:only-of-type {\n",
       "        vertical-align: middle;\n",
       "    }\n",
       "\n",
       "    .dataframe tbody tr th {\n",
       "        vertical-align: top;\n",
       "    }\n",
       "\n",
       "    .dataframe thead th {\n",
       "        text-align: right;\n",
       "    }\n",
       "</style>\n",
       "<table border=\"1\" class=\"dataframe\">\n",
       "  <thead>\n",
       "    <tr style=\"text-align: right;\">\n",
       "      <th></th>\n",
       "      <th></th>\n",
       "      <th>duration</th>\n",
       "      <th>duration_min</th>\n",
       "      <th>end</th>\n",
       "      <th>file</th>\n",
       "      <th>pct_eng</th>\n",
       "      <th>pct_misc</th>\n",
       "      <th>pct_tira</th>\n",
       "      <th>start</th>\n",
       "      <th>tier</th>\n",
       "      <th>value</th>\n",
       "    </tr>\n",
       "    <tr>\n",
       "      <th>matrix_language</th>\n",
       "      <th>codeswitched</th>\n",
       "      <th></th>\n",
       "      <th></th>\n",
       "      <th></th>\n",
       "      <th></th>\n",
       "      <th></th>\n",
       "      <th></th>\n",
       "      <th></th>\n",
       "      <th></th>\n",
       "      <th></th>\n",
       "      <th></th>\n",
       "    </tr>\n",
       "  </thead>\n",
       "  <tbody>\n",
       "    <tr>\n",
       "      <th rowspan=\"2\" valign=\"top\">eng</th>\n",
       "      <th>False</th>\n",
       "      <td>1375</td>\n",
       "      <td>1375</td>\n",
       "      <td>1375</td>\n",
       "      <td>1375</td>\n",
       "      <td>1375</td>\n",
       "      <td>1375</td>\n",
       "      <td>1375</td>\n",
       "      <td>1375</td>\n",
       "      <td>1375</td>\n",
       "      <td>1375</td>\n",
       "    </tr>\n",
       "    <tr>\n",
       "      <th>True</th>\n",
       "      <td>274</td>\n",
       "      <td>274</td>\n",
       "      <td>274</td>\n",
       "      <td>274</td>\n",
       "      <td>274</td>\n",
       "      <td>274</td>\n",
       "      <td>274</td>\n",
       "      <td>274</td>\n",
       "      <td>274</td>\n",
       "      <td>274</td>\n",
       "    </tr>\n",
       "    <tr>\n",
       "      <th rowspan=\"2\" valign=\"top\">tira</th>\n",
       "      <th>False</th>\n",
       "      <td>298</td>\n",
       "      <td>298</td>\n",
       "      <td>298</td>\n",
       "      <td>298</td>\n",
       "      <td>298</td>\n",
       "      <td>298</td>\n",
       "      <td>298</td>\n",
       "      <td>298</td>\n",
       "      <td>298</td>\n",
       "      <td>298</td>\n",
       "    </tr>\n",
       "    <tr>\n",
       "      <th>True</th>\n",
       "      <td>60</td>\n",
       "      <td>60</td>\n",
       "      <td>60</td>\n",
       "      <td>60</td>\n",
       "      <td>60</td>\n",
       "      <td>60</td>\n",
       "      <td>60</td>\n",
       "      <td>60</td>\n",
       "      <td>60</td>\n",
       "      <td>60</td>\n",
       "    </tr>\n",
       "  </tbody>\n",
       "</table>\n",
       "</div>"
      ],
      "text/plain": [
       "                              duration  duration_min   end  file  pct_eng  \\\n",
       "matrix_language codeswitched                                                \n",
       "eng             False             1375          1375  1375  1375     1375   \n",
       "                True               274           274   274   274      274   \n",
       "tira            False              298           298   298   298      298   \n",
       "                True                60            60    60    60       60   \n",
       "\n",
       "                              pct_misc  pct_tira  start  tier  value  \n",
       "matrix_language codeswitched                                          \n",
       "eng             False             1375      1375   1375  1375   1375  \n",
       "                True               274       274    274   274    274  \n",
       "tira            False              298       298    298   298    298  \n",
       "                True                60        60     60    60     60  "
      ]
     },
     "execution_count": 87,
     "metadata": {},
     "output_type": "execute_result"
    }
   ],
   "source": [
    "df.pivot_table(index=['matrix_language', 'codeswitched'], aggfunc='count')"
   ]
  },
  {
   "cell_type": "code",
   "execution_count": 88,
   "metadata": {},
   "outputs": [
    {
     "data": {
      "text/html": [
       "<div>\n",
       "<style scoped>\n",
       "    .dataframe tbody tr th:only-of-type {\n",
       "        vertical-align: middle;\n",
       "    }\n",
       "\n",
       "    .dataframe tbody tr th {\n",
       "        vertical-align: top;\n",
       "    }\n",
       "\n",
       "    .dataframe thead th {\n",
       "        text-align: right;\n",
       "    }\n",
       "</style>\n",
       "<table border=\"1\" class=\"dataframe\">\n",
       "  <thead>\n",
       "    <tr style=\"text-align: right;\">\n",
       "      <th></th>\n",
       "      <th>duration_min</th>\n",
       "      <th>pct_eng</th>\n",
       "      <th>pct_tira</th>\n",
       "    </tr>\n",
       "    <tr>\n",
       "      <th>file</th>\n",
       "      <th></th>\n",
       "      <th></th>\n",
       "      <th></th>\n",
       "    </tr>\n",
       "  </thead>\n",
       "  <tbody>\n",
       "    <tr>\n",
       "      <th>meta/HH20210312.eaf</th>\n",
       "      <td>21.040517</td>\n",
       "      <td>0.685613</td>\n",
       "      <td>0.123367</td>\n",
       "    </tr>\n",
       "    <tr>\n",
       "      <th>meta/HH20210913.eaf</th>\n",
       "      <td>22.173100</td>\n",
       "      <td>0.725026</td>\n",
       "      <td>0.233066</td>\n",
       "    </tr>\n",
       "    <tr>\n",
       "      <th>meta/HH20220327-2.eaf</th>\n",
       "      <td>35.313800</td>\n",
       "      <td>0.712899</td>\n",
       "      <td>0.228862</td>\n",
       "    </tr>\n",
       "  </tbody>\n",
       "</table>\n",
       "</div>"
      ],
      "text/plain": [
       "                       duration_min   pct_eng  pct_tira\n",
       "file                                                   \n",
       "meta/HH20210312.eaf       21.040517  0.685613  0.123367\n",
       "meta/HH20210913.eaf       22.173100  0.725026  0.233066\n",
       "meta/HH20220327-2.eaf     35.313800  0.712899  0.228862"
      ]
     },
     "execution_count": 88,
     "metadata": {},
     "output_type": "execute_result"
    }
   ],
   "source": [
    "df.pivot_table(\n",
    "    index=['file',],\n",
    "    values=['pct_eng', 'pct_tira', 'duration_min'],\n",
    "    aggfunc={'pct_eng': 'mean', 'pct_tira': 'mean', 'duration_min': 'sum'},\n",
    ")"
   ]
  },
  {
   "cell_type": "code",
   "execution_count": 89,
   "metadata": {},
   "outputs": [
    {
     "data": {
      "text/plain": [
       "split\n",
       "test          1385\n",
       "validation     622\n",
       "Name: count, dtype: int64"
      ]
     },
     "execution_count": 89,
     "metadata": {},
     "output_type": "execute_result"
    }
   ],
   "source": [
    "df['split']='test'\n",
    "df.loc[df['file']=='meta/HH20210913.eaf', 'split']='validation'\n",
    "df['split'].value_counts()"
   ]
  },
  {
   "cell_type": "code",
   "execution_count": 90,
   "metadata": {},
   "outputs": [
    {
     "data": {
      "text/plain": [
       "0         2710\n",
       "1         6000\n",
       "2        26040\n",
       "3        26260\n",
       "4        28070\n",
       "        ...   \n",
       "851    4699994\n",
       "852    4704369\n",
       "853    4707716\n",
       "854    4708743\n",
       "855    4711645\n",
       "Name: duration, Length: 2007, dtype: int64"
      ]
     },
     "execution_count": 90,
     "metadata": {},
     "output_type": "execute_result"
    }
   ],
   "source": [
    "df['duration'].cumsum()"
   ]
  },
  {
   "cell_type": "code",
   "execution_count": 195,
   "metadata": {},
   "outputs": [
    {
     "name": "stderr",
     "output_type": "stream",
     "text": [
      "  0%|          | 0/3 [00:00<?, ?it/s]\n",
      "  0%|          | 0/529 [00:00<?, ?it/s]\n",
      " 36%|███▋      | 192/529 [00:00<00:00, 1900.44it/s]\n",
      "100%|██████████| 529/529 [00:00<00:00, 2200.21it/s]\n",
      " 33%|███▎      | 1/3 [00:00<00:00,  3.86it/s]\n",
      "  0%|          | 0/622 [00:00<?, ?it/s]\n",
      " 42%|████▏     | 259/622 [00:00<00:00, 2588.87it/s]\n",
      "100%|██████████| 622/622 [00:00<00:00, 2491.52it/s]\n",
      " 67%|██████▋   | 2/3 [00:00<00:00,  3.87it/s]\n",
      "  0%|          | 0/856 [00:00<?, ?it/s]\n",
      " 28%|██▊       | 240/856 [00:00<00:00, 2394.28it/s]\n",
      " 56%|█████▌    | 480/856 [00:00<00:00, 2315.85it/s]\n",
      "100%|██████████| 856/856 [00:00<00:00, 2334.15it/s]\n",
      "100%|██████████| 3/3 [00:00<00:00,  3.35it/s]\n"
     ]
    },
    {
     "data": {
      "text/plain": [
       "count    2007.000000\n",
       "mean      186.394619\n",
       "std       100.210246\n",
       "min         1.000000\n",
       "25%       106.000000\n",
       "50%       182.000000\n",
       "75%       269.500000\n",
       "max       364.000000\n",
       "Name: record, dtype: float64"
      ]
     },
     "execution_count": 195,
     "metadata": {},
     "output_type": "execute_result"
    }
   ],
   "source": [
    "# make records of up to 20s by concatenating adjacent records\n",
    "df=df.reset_index(drop=True)\n",
    "df['record']=0\n",
    "df['long_start']=np.nan\n",
    "df['long_end']=np.nan\n",
    "df=df.sort_values('start')\n",
    "for file in tqdm(df['file'].unique()):\n",
    "    file_mask = df['file']==file\n",
    "    # print(df.loc[file_mask,'cumul_duration'].max())\n",
    "    record = df['record'].max()+1\n",
    "    start = df.loc[file_mask,'start'].iloc[0]\n",
    "    end = df.loc[file_mask,'end'].iloc[0]\n",
    "    new_end = end\n",
    "    final_idx = df[file_mask].index[-1]\n",
    "    for i, row in tqdm(df[file_mask].iterrows(), total=len(df[file_mask])):\n",
    "        new_end = row['end']\n",
    "        if new_end-start>20_000:\n",
    "            record_mask = df['record']==record\n",
    "            df.loc[record_mask&file_mask, 'long_start'] = start\n",
    "            df.loc[record_mask&file_mask, 'long_end'] = end\n",
    "\n",
    "            record += 1\n",
    "            assert df.at[row.name, 'record'].item() == 0\n",
    "            df.at[row.name, 'record'] = record\n",
    "            start = row['start']\n",
    "            end = new_end\n",
    "        else:\n",
    "            df.at[row.name, 'record'] = record\n",
    "            end = new_end\n",
    "\n",
    "        if row.name==final_idx:\n",
    "            record_mask = df['record']==record\n",
    "            df.loc[record_mask&file_mask, 'long_start'] = start\n",
    "            df.loc[record_mask&file_mask, 'long_end'] = end\n",
    "df['long_duration'] = df['long_end']-df['long_start']\n",
    "df['record'].describe()"
   ]
  },
  {
   "cell_type": "code",
   "execution_count": 196,
   "metadata": {},
   "outputs": [
    {
     "data": {
      "text/plain": [
       "count    2007.000000\n",
       "mean       17.360226\n",
       "std         2.859381\n",
       "min         0.900000\n",
       "25%        16.139000\n",
       "50%        18.365000\n",
       "75%        19.320000\n",
       "max        20.966000\n",
       "Name: long_duration, dtype: float64"
      ]
     },
     "execution_count": 196,
     "metadata": {},
     "output_type": "execute_result"
    }
   ],
   "source": [
    "(df['long_duration']/1_000).describe()"
   ]
  },
  {
   "cell_type": "code",
   "execution_count": 197,
   "metadata": {},
   "outputs": [
    {
     "data": {
      "text/html": [
       "<div>\n",
       "<style scoped>\n",
       "    .dataframe tbody tr th:only-of-type {\n",
       "        vertical-align: middle;\n",
       "    }\n",
       "\n",
       "    .dataframe tbody tr th {\n",
       "        vertical-align: top;\n",
       "    }\n",
       "\n",
       "    .dataframe thead th {\n",
       "        text-align: right;\n",
       "    }\n",
       "</style>\n",
       "<table border=\"1\" class=\"dataframe\">\n",
       "  <thead>\n",
       "    <tr style=\"text-align: right;\">\n",
       "      <th></th>\n",
       "      <th></th>\n",
       "      <th>long_duration</th>\n",
       "      <th>long_start</th>\n",
       "      <th>long_end</th>\n",
       "      <th>value</th>\n",
       "      <th>split</th>\n",
       "    </tr>\n",
       "    <tr>\n",
       "      <th>file</th>\n",
       "      <th>record</th>\n",
       "      <th></th>\n",
       "      <th></th>\n",
       "      <th></th>\n",
       "      <th></th>\n",
       "      <th></th>\n",
       "    </tr>\n",
       "  </thead>\n",
       "  <tbody>\n",
       "    <tr>\n",
       "      <th rowspan=\"5\" valign=\"top\">meta/HH20210312.eaf</th>\n",
       "      <th>1</th>\n",
       "      <td>18050.0</td>\n",
       "      <td>450.0</td>\n",
       "      <td>18500.0</td>\n",
       "      <td>Hello hello hello? Oh, this is a very big volu...</td>\n",
       "      <td>test</td>\n",
       "    </tr>\n",
       "    <tr>\n",
       "      <th>2</th>\n",
       "      <td>18370.0</td>\n",
       "      <td>18630.0</td>\n",
       "      <td>37000.0</td>\n",
       "      <td>Sorry? Yeah we wanna share now. We can go ahea...</td>\n",
       "      <td>test</td>\n",
       "    </tr>\n",
       "    <tr>\n",
       "      <th>3</th>\n",
       "      <td>20040.0</td>\n",
       "      <td>44260.0</td>\n",
       "      <td>64300.0</td>\n",
       "      <td>Now I just have to, alright, so now I'm re-rec...</td>\n",
       "      <td>test</td>\n",
       "    </tr>\n",
       "    <tr>\n",
       "      <th>4</th>\n",
       "      <td>9910.0</td>\n",
       "      <td>64350.0</td>\n",
       "      <td>74260.0</td>\n",
       "      <td>He pulled them towards, ok, he pulled them tow...</td>\n",
       "      <td>test</td>\n",
       "    </tr>\n",
       "    <tr>\n",
       "      <th>5</th>\n",
       "      <td>3090.0</td>\n",
       "      <td>95630.0</td>\n",
       "      <td>98720.0</td>\n",
       "      <td>And can you add \"ùnɛ́ɾɛ́\" after it? Yes.</td>\n",
       "      <td>test</td>\n",
       "    </tr>\n",
       "    <tr>\n",
       "      <th>...</th>\n",
       "      <th>...</th>\n",
       "      <td>...</td>\n",
       "      <td>...</td>\n",
       "      <td>...</td>\n",
       "      <td>...</td>\n",
       "      <td>...</td>\n",
       "    </tr>\n",
       "    <tr>\n",
       "      <th rowspan=\"5\" valign=\"top\">meta/HH20220327-2.eaf</th>\n",
       "      <th>360</th>\n",
       "      <td>16195.0</td>\n",
       "      <td>3032319.0</td>\n",
       "      <td>3048514.0</td>\n",
       "      <td>This is so helpful, thank you Himidan, I know ...</td>\n",
       "      <td>test</td>\n",
       "    </tr>\n",
       "    <tr>\n",
       "      <th>361</th>\n",
       "      <td>19958.0</td>\n",
       "      <td>3049319.0</td>\n",
       "      <td>3069277.0</td>\n",
       "      <td>But it's, it's because of the theory, it's stu...</td>\n",
       "      <td>test</td>\n",
       "    </tr>\n",
       "    <tr>\n",
       "      <th>362</th>\n",
       "      <td>16958.0</td>\n",
       "      <td>3069319.0</td>\n",
       "      <td>3086277.0</td>\n",
       "      <td>I leave on the 10th, the 10th is Sunday? Next ...</td>\n",
       "      <td>test</td>\n",
       "    </tr>\n",
       "    <tr>\n",
       "      <th>363</th>\n",
       "      <td>19625.0</td>\n",
       "      <td>3087055.0</td>\n",
       "      <td>3106680.0</td>\n",
       "      <td>Friday, yes, next week is gonna, be, wait. Tha...</td>\n",
       "      <td>test</td>\n",
       "    </tr>\n",
       "    <tr>\n",
       "      <th>364</th>\n",
       "      <td>14458.0</td>\n",
       "      <td>3108027.0</td>\n",
       "      <td>3122485.0</td>\n",
       "      <td>Anyways, I'll add an extra fifteen minutes ont...</td>\n",
       "      <td>test</td>\n",
       "    </tr>\n",
       "  </tbody>\n",
       "</table>\n",
       "<p>364 rows × 5 columns</p>\n",
       "</div>"
      ],
      "text/plain": [
       "                              long_duration  long_start   long_end  \\\n",
       "file                  record                                         \n",
       "meta/HH20210312.eaf   1             18050.0       450.0    18500.0   \n",
       "                      2             18370.0     18630.0    37000.0   \n",
       "                      3             20040.0     44260.0    64300.0   \n",
       "                      4              9910.0     64350.0    74260.0   \n",
       "                      5              3090.0     95630.0    98720.0   \n",
       "...                                     ...         ...        ...   \n",
       "meta/HH20220327-2.eaf 360           16195.0   3032319.0  3048514.0   \n",
       "                      361           19958.0   3049319.0  3069277.0   \n",
       "                      362           16958.0   3069319.0  3086277.0   \n",
       "                      363           19625.0   3087055.0  3106680.0   \n",
       "                      364           14458.0   3108027.0  3122485.0   \n",
       "\n",
       "                                                                          value  \\\n",
       "file                  record                                                      \n",
       "meta/HH20210312.eaf   1       Hello hello hello? Oh, this is a very big volu...   \n",
       "                      2       Sorry? Yeah we wanna share now. We can go ahea...   \n",
       "                      3       Now I just have to, alright, so now I'm re-rec...   \n",
       "                      4       He pulled them towards, ok, he pulled them tow...   \n",
       "                      5               And can you add \"ùnɛ́ɾɛ́\" after it? Yes.   \n",
       "...                                                                         ...   \n",
       "meta/HH20220327-2.eaf 360     This is so helpful, thank you Himidan, I know ...   \n",
       "                      361     But it's, it's because of the theory, it's stu...   \n",
       "                      362     I leave on the 10th, the 10th is Sunday? Next ...   \n",
       "                      363     Friday, yes, next week is gonna, be, wait. Tha...   \n",
       "                      364     Anyways, I'll add an extra fifteen minutes ont...   \n",
       "\n",
       "                             split  \n",
       "file                  record        \n",
       "meta/HH20210312.eaf   1       test  \n",
       "                      2       test  \n",
       "                      3       test  \n",
       "                      4       test  \n",
       "                      5       test  \n",
       "...                            ...  \n",
       "meta/HH20220327-2.eaf 360     test  \n",
       "                      361     test  \n",
       "                      362     test  \n",
       "                      363     test  \n",
       "                      364     test  \n",
       "\n",
       "[364 rows x 5 columns]"
      ]
     },
     "execution_count": 197,
     "metadata": {},
     "output_type": "execute_result"
    }
   ],
   "source": [
    "long_df = df.groupby(\n",
    "    ['file', 'record']\n",
    ").agg({\n",
    "    'long_duration': 'first',\n",
    "    'long_start': 'first',\n",
    "    'long_end': 'first',\n",
    "    'value': lambda l: ' '.join(l),\n",
    "    'split': 'first',\n",
    "})\n",
    "long_df"
   ]
  },
  {
   "cell_type": "code",
   "execution_count": 198,
   "metadata": {},
   "outputs": [
    {
     "data": {
      "text/html": [
       "<div>\n",
       "<style scoped>\n",
       "    .dataframe tbody tr th:only-of-type {\n",
       "        vertical-align: middle;\n",
       "    }\n",
       "\n",
       "    .dataframe tbody tr th {\n",
       "        vertical-align: top;\n",
       "    }\n",
       "\n",
       "    .dataframe thead th {\n",
       "        text-align: right;\n",
       "    }\n",
       "</style>\n",
       "<table border=\"1\" class=\"dataframe\">\n",
       "  <thead>\n",
       "    <tr style=\"text-align: right;\">\n",
       "      <th></th>\n",
       "      <th></th>\n",
       "      <th>long_duration</th>\n",
       "      <th>long_end</th>\n",
       "      <th>long_start</th>\n",
       "      <th>pct_eng</th>\n",
       "      <th>pct_misc</th>\n",
       "      <th>pct_tira</th>\n",
       "      <th>split</th>\n",
       "      <th>value</th>\n",
       "      <th>word_count</th>\n",
       "    </tr>\n",
       "    <tr>\n",
       "      <th>matrix_language</th>\n",
       "      <th>codeswitched</th>\n",
       "      <th></th>\n",
       "      <th></th>\n",
       "      <th></th>\n",
       "      <th></th>\n",
       "      <th></th>\n",
       "      <th></th>\n",
       "      <th></th>\n",
       "      <th></th>\n",
       "      <th></th>\n",
       "    </tr>\n",
       "  </thead>\n",
       "  <tbody>\n",
       "    <tr>\n",
       "      <th rowspan=\"2\" valign=\"top\">eng</th>\n",
       "      <th>False</th>\n",
       "      <td>106</td>\n",
       "      <td>106</td>\n",
       "      <td>106</td>\n",
       "      <td>106</td>\n",
       "      <td>106</td>\n",
       "      <td>106</td>\n",
       "      <td>106</td>\n",
       "      <td>106</td>\n",
       "      <td>106</td>\n",
       "    </tr>\n",
       "    <tr>\n",
       "      <th>True</th>\n",
       "      <td>234</td>\n",
       "      <td>234</td>\n",
       "      <td>234</td>\n",
       "      <td>234</td>\n",
       "      <td>234</td>\n",
       "      <td>234</td>\n",
       "      <td>234</td>\n",
       "      <td>234</td>\n",
       "      <td>234</td>\n",
       "    </tr>\n",
       "    <tr>\n",
       "      <th rowspan=\"2\" valign=\"top\">tira</th>\n",
       "      <th>False</th>\n",
       "      <td>4</td>\n",
       "      <td>4</td>\n",
       "      <td>4</td>\n",
       "      <td>4</td>\n",
       "      <td>4</td>\n",
       "      <td>4</td>\n",
       "      <td>4</td>\n",
       "      <td>4</td>\n",
       "      <td>4</td>\n",
       "    </tr>\n",
       "    <tr>\n",
       "      <th>True</th>\n",
       "      <td>20</td>\n",
       "      <td>20</td>\n",
       "      <td>20</td>\n",
       "      <td>20</td>\n",
       "      <td>20</td>\n",
       "      <td>20</td>\n",
       "      <td>20</td>\n",
       "      <td>20</td>\n",
       "      <td>20</td>\n",
       "    </tr>\n",
       "  </tbody>\n",
       "</table>\n",
       "</div>"
      ],
      "text/plain": [
       "                              long_duration  long_end  long_start  pct_eng  \\\n",
       "matrix_language codeswitched                                                 \n",
       "eng             False                   106       106         106      106   \n",
       "                True                    234       234         234      234   \n",
       "tira            False                     4         4           4        4   \n",
       "                True                     20        20          20       20   \n",
       "\n",
       "                              pct_misc  pct_tira  split  value  word_count  \n",
       "matrix_language codeswitched                                                \n",
       "eng             False              106       106    106    106         106  \n",
       "                True               234       234    234    234         234  \n",
       "tira            False                4         4      4      4           4  \n",
       "                True                20        20     20     20          20  "
      ]
     },
     "execution_count": 198,
     "metadata": {},
     "output_type": "execute_result"
    }
   ],
   "source": [
    "long_df['pct_tira']=long_df['value'].apply(get_pct_tira)\n",
    "long_df['pct_eng']=long_df['value'].apply(get_pct_eng)\n",
    "long_df['pct_misc']=long_df['value'].apply(get_pct_misc)\n",
    "long_df['word_count']=long_df['value'].apply(lambda s: len(s.split()))\n",
    "long_df['codeswitched'] = True\n",
    "long_df.loc[\n",
    "    (long_df['pct_tira']==0)|(long_df['pct_eng']==0), 'codeswitched'\n",
    "] = False\n",
    "long_df['matrix_language'] = 'eng'\n",
    "long_df.loc[\n",
    "    (long_df['pct_tira']>long_df['pct_eng']), 'matrix_language'\n",
    "] = 'tira'\n",
    "long_df.pivot_table(index=['matrix_language', 'codeswitched'], aggfunc='count')"
   ]
  },
  {
   "cell_type": "code",
   "execution_count": 199,
   "metadata": {},
   "outputs": [
    {
     "data": {
      "text/html": [
       "<div>\n",
       "<style scoped>\n",
       "    .dataframe tbody tr th:only-of-type {\n",
       "        vertical-align: middle;\n",
       "    }\n",
       "\n",
       "    .dataframe tbody tr th {\n",
       "        vertical-align: top;\n",
       "    }\n",
       "\n",
       "    .dataframe thead th {\n",
       "        text-align: right;\n",
       "    }\n",
       "</style>\n",
       "<table border=\"1\" class=\"dataframe\">\n",
       "  <thead>\n",
       "    <tr style=\"text-align: right;\">\n",
       "      <th></th>\n",
       "      <th>long_duration</th>\n",
       "      <th>pct_eng</th>\n",
       "      <th>pct_tira</th>\n",
       "      <th>value</th>\n",
       "      <th>word_count</th>\n",
       "    </tr>\n",
       "    <tr>\n",
       "      <th>file</th>\n",
       "      <th></th>\n",
       "      <th></th>\n",
       "      <th></th>\n",
       "      <th></th>\n",
       "      <th></th>\n",
       "    </tr>\n",
       "  </thead>\n",
       "  <tbody>\n",
       "    <tr>\n",
       "      <th>meta/HH20210312.eaf</th>\n",
       "      <td>1718415.0</td>\n",
       "      <td>0.879037</td>\n",
       "      <td>0.069297</td>\n",
       "      <td>109</td>\n",
       "      <td>26.917431</td>\n",
       "    </tr>\n",
       "    <tr>\n",
       "      <th>meta/HH20210913.eaf</th>\n",
       "      <td>1722086.0</td>\n",
       "      <td>0.833802</td>\n",
       "      <td>0.118581</td>\n",
       "      <td>99</td>\n",
       "      <td>36.414141</td>\n",
       "    </tr>\n",
       "    <tr>\n",
       "      <th>meta/HH20220327-2.eaf</th>\n",
       "      <td>2639582.0</td>\n",
       "      <td>0.744136</td>\n",
       "      <td>0.206078</td>\n",
       "      <td>156</td>\n",
       "      <td>35.070513</td>\n",
       "    </tr>\n",
       "  </tbody>\n",
       "</table>\n",
       "</div>"
      ],
      "text/plain": [
       "                       long_duration   pct_eng  pct_tira  value  word_count\n",
       "file                                                                       \n",
       "meta/HH20210312.eaf        1718415.0  0.879037  0.069297    109   26.917431\n",
       "meta/HH20210913.eaf        1722086.0  0.833802  0.118581     99   36.414141\n",
       "meta/HH20220327-2.eaf      2639582.0  0.744136  0.206078    156   35.070513"
      ]
     },
     "execution_count": 199,
     "metadata": {},
     "output_type": "execute_result"
    }
   ],
   "source": [
    "long_df.pivot_table(\n",
    "    index=['file',],\n",
    "    values=['pct_eng', 'pct_tira', 'long_duration', 'value', 'word_count'],\n",
    "    aggfunc={'pct_eng': 'mean', 'pct_tira': 'mean', 'long_duration': 'sum', 'value': 'count', 'word_count': 'mean'},\n",
    ")"
   ]
  },
  {
   "cell_type": "code",
   "execution_count": 200,
   "metadata": {},
   "outputs": [
    {
     "data": {
      "text/html": [
       "<div>\n",
       "<style scoped>\n",
       "    .dataframe tbody tr th:only-of-type {\n",
       "        vertical-align: middle;\n",
       "    }\n",
       "\n",
       "    .dataframe tbody tr th {\n",
       "        vertical-align: top;\n",
       "    }\n",
       "\n",
       "    .dataframe thead th {\n",
       "        text-align: right;\n",
       "    }\n",
       "</style>\n",
       "<table border=\"1\" class=\"dataframe\">\n",
       "  <thead>\n",
       "    <tr style=\"text-align: right;\">\n",
       "      <th></th>\n",
       "      <th>file</th>\n",
       "      <th>record</th>\n",
       "      <th>long_duration</th>\n",
       "      <th>long_start</th>\n",
       "      <th>long_end</th>\n",
       "      <th>value</th>\n",
       "      <th>split</th>\n",
       "      <th>pct_tira</th>\n",
       "      <th>pct_eng</th>\n",
       "      <th>pct_misc</th>\n",
       "      <th>word_count</th>\n",
       "      <th>codeswitched</th>\n",
       "      <th>matrix_language</th>\n",
       "    </tr>\n",
       "  </thead>\n",
       "  <tbody>\n",
       "    <tr>\n",
       "      <th>0</th>\n",
       "      <td>meta/HH20210312.eaf</td>\n",
       "      <td>1</td>\n",
       "      <td>18050.0</td>\n",
       "      <td>450.0</td>\n",
       "      <td>18500.0</td>\n",
       "      <td>Hello hello hello? Oh, this is a very big volu...</td>\n",
       "      <td>test</td>\n",
       "      <td>0.000000</td>\n",
       "      <td>0.972222</td>\n",
       "      <td>0.027778</td>\n",
       "      <td>36</td>\n",
       "      <td>False</td>\n",
       "      <td>eng</td>\n",
       "    </tr>\n",
       "    <tr>\n",
       "      <th>1</th>\n",
       "      <td>meta/HH20210312.eaf</td>\n",
       "      <td>2</td>\n",
       "      <td>18370.0</td>\n",
       "      <td>18630.0</td>\n",
       "      <td>37000.0</td>\n",
       "      <td>Sorry? Yeah we wanna share now. We can go ahea...</td>\n",
       "      <td>test</td>\n",
       "      <td>0.000000</td>\n",
       "      <td>0.880952</td>\n",
       "      <td>0.119048</td>\n",
       "      <td>42</td>\n",
       "      <td>False</td>\n",
       "      <td>eng</td>\n",
       "    </tr>\n",
       "    <tr>\n",
       "      <th>2</th>\n",
       "      <td>meta/HH20210312.eaf</td>\n",
       "      <td>3</td>\n",
       "      <td>20040.0</td>\n",
       "      <td>44260.0</td>\n",
       "      <td>64300.0</td>\n",
       "      <td>Now I just have to, alright, so now I'm re-rec...</td>\n",
       "      <td>test</td>\n",
       "      <td>0.000000</td>\n",
       "      <td>0.944444</td>\n",
       "      <td>0.055556</td>\n",
       "      <td>36</td>\n",
       "      <td>False</td>\n",
       "      <td>eng</td>\n",
       "    </tr>\n",
       "    <tr>\n",
       "      <th>3</th>\n",
       "      <td>meta/HH20210312.eaf</td>\n",
       "      <td>4</td>\n",
       "      <td>9910.0</td>\n",
       "      <td>64350.0</td>\n",
       "      <td>74260.0</td>\n",
       "      <td>He pulled them towards, ok, he pulled them tow...</td>\n",
       "      <td>test</td>\n",
       "      <td>0.111111</td>\n",
       "      <td>0.833333</td>\n",
       "      <td>0.055556</td>\n",
       "      <td>18</td>\n",
       "      <td>True</td>\n",
       "      <td>eng</td>\n",
       "    </tr>\n",
       "    <tr>\n",
       "      <th>4</th>\n",
       "      <td>meta/HH20210312.eaf</td>\n",
       "      <td>5</td>\n",
       "      <td>3090.0</td>\n",
       "      <td>95630.0</td>\n",
       "      <td>98720.0</td>\n",
       "      <td>And can you add \"ùnɛ́ɾɛ́\" after it? Yes.</td>\n",
       "      <td>test</td>\n",
       "      <td>0.125000</td>\n",
       "      <td>0.875000</td>\n",
       "      <td>0.000000</td>\n",
       "      <td>8</td>\n",
       "      <td>True</td>\n",
       "      <td>eng</td>\n",
       "    </tr>\n",
       "  </tbody>\n",
       "</table>\n",
       "</div>"
      ],
      "text/plain": [
       "                  file  record  long_duration  long_start  long_end  \\\n",
       "0  meta/HH20210312.eaf       1        18050.0       450.0   18500.0   \n",
       "1  meta/HH20210312.eaf       2        18370.0     18630.0   37000.0   \n",
       "2  meta/HH20210312.eaf       3        20040.0     44260.0   64300.0   \n",
       "3  meta/HH20210312.eaf       4         9910.0     64350.0   74260.0   \n",
       "4  meta/HH20210312.eaf       5         3090.0     95630.0   98720.0   \n",
       "\n",
       "                                               value split  pct_tira  \\\n",
       "0  Hello hello hello? Oh, this is a very big volu...  test  0.000000   \n",
       "1  Sorry? Yeah we wanna share now. We can go ahea...  test  0.000000   \n",
       "2  Now I just have to, alright, so now I'm re-rec...  test  0.000000   \n",
       "3  He pulled them towards, ok, he pulled them tow...  test  0.111111   \n",
       "4          And can you add \"ùnɛ́ɾɛ́\" after it? Yes.  test  0.125000   \n",
       "\n",
       "    pct_eng  pct_misc  word_count  codeswitched matrix_language  \n",
       "0  0.972222  0.027778          36         False             eng  \n",
       "1  0.880952  0.119048          42         False             eng  \n",
       "2  0.944444  0.055556          36         False             eng  \n",
       "3  0.833333  0.055556          18          True             eng  \n",
       "4  0.875000  0.000000           8          True             eng  "
      ]
     },
     "execution_count": 200,
     "metadata": {},
     "output_type": "execute_result"
    }
   ],
   "source": [
    "long_df=long_df.reset_index(drop=True)\n",
    "long_df.head()"
   ]
  },
  {
   "cell_type": "code",
   "execution_count": 222,
   "metadata": {},
   "outputs": [
    {
     "data": {
      "text/html": [
       "<div>\n",
       "<style scoped>\n",
       "    .dataframe tbody tr th:only-of-type {\n",
       "        vertical-align: middle;\n",
       "    }\n",
       "\n",
       "    .dataframe tbody tr th {\n",
       "        vertical-align: top;\n",
       "    }\n",
       "\n",
       "    .dataframe thead th {\n",
       "        text-align: right;\n",
       "    }\n",
       "</style>\n",
       "<table border=\"1\" class=\"dataframe\">\n",
       "  <thead>\n",
       "    <tr style=\"text-align: right;\">\n",
       "      <th>codeswitched</th>\n",
       "      <th>False</th>\n",
       "      <th>True</th>\n",
       "    </tr>\n",
       "    <tr>\n",
       "      <th>split</th>\n",
       "      <th></th>\n",
       "      <th></th>\n",
       "    </tr>\n",
       "  </thead>\n",
       "  <tbody>\n",
       "    <tr>\n",
       "      <th>test</th>\n",
       "      <td>23.383850</td>\n",
       "      <td>49.249433</td>\n",
       "    </tr>\n",
       "    <tr>\n",
       "      <th>validation</th>\n",
       "      <td>5.336967</td>\n",
       "      <td>23.364467</td>\n",
       "    </tr>\n",
       "  </tbody>\n",
       "</table>\n",
       "</div>"
      ],
      "text/plain": [
       "codeswitched      False      True \n",
       "split                             \n",
       "test          23.383850  49.249433\n",
       "validation     5.336967  23.364467"
      ]
     },
     "execution_count": 222,
     "metadata": {},
     "output_type": "execute_result"
    }
   ],
   "source": [
    "# long_df.pivot_table(values='split', index='file', aggfunc='count')\n",
    "long_df.pivot_table(values='long_duration', index='split', aggfunc='sum', columns=['codeswitched'])/60_000"
   ]
  },
  {
   "cell_type": "code",
   "execution_count": null,
   "metadata": {},
   "outputs": [
    {
     "name": "stderr",
     "output_type": "stream",
     "text": [
      "  0%|          | 0/3 [00:00<?, ?it/s]"
     ]
    },
    {
     "name": "stdout",
     "output_type": "stream",
     "text": [
      "meta/HH20210312.eaf\n"
     ]
    },
    {
     "name": "stderr",
     "output_type": "stream",
     "text": [
      "\n",
      "  0%|          | 0/62 [00:00<?, ?it/s]\n",
      " 45%|████▌     | 28/62 [00:00<00:00, 270.16it/s]\n",
      "100%|██████████| 62/62 [00:00<00:00, 243.35it/s]\n",
      " 33%|███▎      | 1/3 [00:04<00:08,  4.35s/it]"
     ]
    },
    {
     "name": "stdout",
     "output_type": "stream",
     "text": [
      "meta/HH20210913.eaf\n"
     ]
    },
    {
     "name": "stderr",
     "output_type": "stream",
     "text": [
      "\n",
      "  0%|          | 0/79 [00:00<?, ?it/s]\n",
      " 33%|███▎      | 26/79 [00:00<00:00, 248.11it/s]\n",
      " 65%|██████▍   | 51/79 [00:00<00:00, 243.86it/s]\n",
      "100%|██████████| 79/79 [00:00<00:00, 235.74it/s]\n",
      " 67%|██████▋   | 2/3 [00:10<00:05,  5.58s/it]"
     ]
    },
    {
     "name": "stdout",
     "output_type": "stream",
     "text": [
      "meta/HH20220327-2.eaf\n"
     ]
    },
    {
     "name": "stderr",
     "output_type": "stream",
     "text": [
      "\n",
      "  0%|          | 0/113 [00:00<?, ?it/s]\n",
      " 27%|██▋       | 30/113 [00:00<00:00, 292.74it/s]\n",
      " 53%|█████▎    | 60/113 [00:00<00:00, 288.08it/s]\n",
      "100%|██████████| 113/113 [00:00<00:00, 276.26it/s]\n",
      "100%|██████████| 3/3 [00:15<00:00,  5.24s/it]\n"
     ]
    }
   ],
   "source": [
    "ms_to_frames = lambda ms: int(ms*16)\n",
    "os.makedirs(os.path.join(tira_eval_dir,'test'), exist_ok=True)\n",
    "os.makedirs(os.path.join(tira_eval_dir,'validation'), exist_ok=True)\n",
    "\n",
    "cs_df = long_df[long_df['codeswitched']]\n",
    "\n",
    "def clip_record(row, wav):\n",
    "    start_frame = ms_to_frames(row['long_start'])\n",
    "    end_frame = ms_to_frames(row['long_end'])\n",
    "    clip = wav[:,start_frame:end_frame]\n",
    "    split=row['split']\n",
    "    clip_relpath = os.path.join(split, f\"{row['record']}.wav\")\n",
    "    clip_path = os.path.join(tira_eval_dir, clip_relpath)\n",
    "    torchaudio.save(clip_path, clip, 16_000)\n",
    "    return clip_relpath\n",
    "\n",
    "for file in tqdm(cs_df['file'].unique()):\n",
    "    print(file)\n",
    "    file_mask = cs_df['file']==file\n",
    "    split = cs_df.loc[file_mask, 'split'].iloc[0]\n",
    "    wav_fp = os.path.join(elicitation_wav_dir, os.path.basename(file).replace('.eaf', '.wav'))\n",
    "    wav = load_and_resample(wav_fp)\n",
    "    cs_df.loc[file_mask, 'file_name'] = cs_df.loc[file_mask].progress_apply(\n",
    "        lambda row: clip_record(row, wav),\n",
    "        axis=1\n",
    "    )\n",
    "cs_df.to_csv(os.path.join(tira_eval_dir, 'metadata.csv'))"
   ]
  },
  {
   "cell_type": "code",
   "execution_count": 228,
   "metadata": {},
   "outputs": [
    {
     "data": {
      "text/plain": [
       "<Axes: >"
      ]
     },
     "execution_count": 228,
     "metadata": {},
     "output_type": "execute_result"
    },
    {
     "data": {
      "image/png": "[encoded data removed]",
      "text/plain": [
       "<Figure size 432x288 with 1 Axes>"
      ]
     },
     "metadata": {
      "needs_background": "light"
     },
     "output_type": "display_data"
    },
    {
     "ename": "",
     "evalue": "",
     "output_type": "error",
     "traceback": [
      "\u001b[1;31mThe Kernel crashed while executing code in the current cell or a previous cell. \n",
      "\u001b[1;31mPlease review the code in the cell(s) to identify a possible cause of the failure. \n",
      "\u001b[1;31mClick <a href='https://aka.ms/vscodeJupyterKernelCrash'>here</a> for more info. \n",
      "\u001b[1;31mView Jupyter <a href='command:jupyter.viewOutput'>log</a> for further details."
     ]
    }
   ],
   "source": [
    "cs_df['long_duration'].hist()#.describe()/1_000"
   ]
  },
  {
   "cell_type": "code",
   "execution_count": 220,
   "metadata": {},
   "outputs": [
    {
     "name": "stderr",
     "output_type": "stream",
     "text": [
      "Resolving data files: 100%|██████████| 79/79 [00:00<00:00, 141000.01it/s]\n",
      "Resolving data files: 100%|██████████| 175/175 [00:00<00:00, 158772.05it/s]\n",
      "Downloading data files: 100%|██████████| 80/80 [00:00<00:00, 20823.16it/s]\n",
      "Downloading data files: 0it [00:00, ?it/s]\n",
      "Extracting data files: 0it [00:00, ?it/s]\n",
      "Downloading data files: 100%|██████████| 176/176 [00:00<00:00, 16758.93it/s]\n",
      "Downloading data files: 0it [00:00, ?it/s]\n",
      "Extracting data files: 0it [00:00, ?it/s]\n",
      "Generating validation split: 79 examples [00:00, 1238.71 examples/s]\n",
      "Generating test split: 175 examples [00:00, 1365.14 examples/s]\n"
     ]
    },
    {
     "data": {
      "text/plain": [
       "DatasetDict({\n",
       "    validation: Dataset({\n",
       "        features: ['audio', 'Unnamed: 0', 'file', 'record', 'long_duration', 'long_start', 'long_end', 'value', 'split', 'pct_tira', 'pct_eng', 'pct_misc', 'word_count', 'codeswitched', 'matrix_language'],\n",
       "        num_rows: 79\n",
       "    })\n",
       "    test: Dataset({\n",
       "        features: ['audio', 'Unnamed: 0', 'file', 'record', 'long_duration', 'long_start', 'long_end', 'value', 'split', 'pct_tira', 'pct_eng', 'pct_misc', 'word_count', 'codeswitched', 'matrix_language'],\n",
       "        num_rows: 175\n",
       "    })\n",
       "})"
      ]
     },
     "execution_count": 220,
     "metadata": {},
     "output_type": "execute_result"
    }
   ],
   "source": [
    "ds=load_dataset('audiofolder', data_dir=tira_eval_dir)\n",
    "ds"
   ]
  },
  {
   "cell_type": "code",
   "execution_count": 221,
   "metadata": {},
   "outputs": [
    {
     "name": "stderr",
     "output_type": "stream",
     "text": [
      "Saving the dataset (1/1 shards): 100%|██████████| 79/79 [00:00<00:00, 314.13 examples/s]\n",
      "Saving the dataset (1/1 shards): 100%|██████████| 175/175 [00:00<00:00, 333.31 examples/s]\n"
     ]
    }
   ],
   "source": [
    "ds.save_to_disk(tira_eval_dir.replace('hf-datasets', 'pyarrow-datasets'))"
   ]
  },
  {
   "cell_type": "code",
   "execution_count": 4,
   "metadata": {},
   "outputs": [
    {
     "data": {
      "text/html": [
       "<div>\n",
       "<style scoped>\n",
       "    .dataframe tbody tr th:only-of-type {\n",
       "        vertical-align: middle;\n",
       "    }\n",
       "\n",
       "    .dataframe tbody tr th {\n",
       "        vertical-align: top;\n",
       "    }\n",
       "\n",
       "    .dataframe thead th {\n",
       "        text-align: right;\n",
       "    }\n",
       "</style>\n",
       "<table border=\"1\" class=\"dataframe\">\n",
       "  <thead>\n",
       "    <tr style=\"text-align: right;\">\n",
       "      <th></th>\n",
       "      <th>file</th>\n",
       "      <th>record</th>\n",
       "      <th>long_duration</th>\n",
       "      <th>long_start</th>\n",
       "      <th>long_end</th>\n",
       "      <th>value</th>\n",
       "      <th>split</th>\n",
       "      <th>pct_tira</th>\n",
       "      <th>pct_eng</th>\n",
       "      <th>pct_misc</th>\n",
       "      <th>word_count</th>\n",
       "      <th>codeswitched</th>\n",
       "      <th>matrix_language</th>\n",
       "      <th>file_name</th>\n",
       "    </tr>\n",
       "  </thead>\n",
       "  <tbody>\n",
       "    <tr>\n",
       "      <th>3</th>\n",
       "      <td>meta/HH20210312.eaf</td>\n",
       "      <td>4</td>\n",
       "      <td>9910.0</td>\n",
       "      <td>64350.0</td>\n",
       "      <td>74260.0</td>\n",
       "      <td>He pulled them towards, ok, he pulled them tow...</td>\n",
       "      <td>test</td>\n",
       "      <td>0.111111</td>\n",
       "      <td>0.833333</td>\n",
       "      <td>0.055556</td>\n",
       "      <td>18</td>\n",
       "      <td>True</td>\n",
       "      <td>eng</td>\n",
       "      <td>test/4.wav</td>\n",
       "    </tr>\n",
       "    <tr>\n",
       "      <th>4</th>\n",
       "      <td>meta/HH20210312.eaf</td>\n",
       "      <td>5</td>\n",
       "      <td>3090.0</td>\n",
       "      <td>95630.0</td>\n",
       "      <td>98720.0</td>\n",
       "      <td>And can you add \"ùnɛ́ɾɛ́\" after it? Yes.</td>\n",
       "      <td>test</td>\n",
       "      <td>0.125000</td>\n",
       "      <td>0.875000</td>\n",
       "      <td>0.000000</td>\n",
       "      <td>8</td>\n",
       "      <td>True</td>\n",
       "      <td>eng</td>\n",
       "      <td>test/5.wav</td>\n",
       "    </tr>\n",
       "    <tr>\n",
       "      <th>5</th>\n",
       "      <td>meta/HH20210312.eaf</td>\n",
       "      <td>6</td>\n",
       "      <td>11170.0</td>\n",
       "      <td>118190.0</td>\n",
       "      <td>129360.0</td>\n",
       "      <td>Ok. And the next one would be \"he pulled them ...</td>\n",
       "      <td>test</td>\n",
       "      <td>0.117647</td>\n",
       "      <td>0.823529</td>\n",
       "      <td>0.058824</td>\n",
       "      <td>17</td>\n",
       "      <td>True</td>\n",
       "      <td>eng</td>\n",
       "      <td>test/6.wav</td>\n",
       "    </tr>\n",
       "    <tr>\n",
       "      <th>6</th>\n",
       "      <td>meta/HH20210312.eaf</td>\n",
       "      <td>7</td>\n",
       "      <td>18010.0</td>\n",
       "      <td>138870.0</td>\n",
       "      <td>156880.0</td>\n",
       "      <td>làŋə̄l What does this mean, sorry?  He pulled...</td>\n",
       "      <td>test</td>\n",
       "      <td>0.052632</td>\n",
       "      <td>0.894737</td>\n",
       "      <td>0.052632</td>\n",
       "      <td>19</td>\n",
       "      <td>True</td>\n",
       "      <td>eng</td>\n",
       "      <td>test/7.wav</td>\n",
       "    </tr>\n",
       "    <tr>\n",
       "      <th>7</th>\n",
       "      <td>meta/HH20210312.eaf</td>\n",
       "      <td>8</td>\n",
       "      <td>17300.0</td>\n",
       "      <td>166410.0</td>\n",
       "      <td>183710.0</td>\n",
       "      <td>It feels like a high vowel there or something....</td>\n",
       "      <td>test</td>\n",
       "      <td>0.100000</td>\n",
       "      <td>0.900000</td>\n",
       "      <td>0.000000</td>\n",
       "      <td>30</td>\n",
       "      <td>True</td>\n",
       "      <td>eng</td>\n",
       "      <td>test/8.wav</td>\n",
       "    </tr>\n",
       "  </tbody>\n",
       "</table>\n",
       "</div>"
      ],
      "text/plain": [
       "                  file  record  long_duration  long_start  long_end  \\\n",
       "3  meta/HH20210312.eaf       4         9910.0     64350.0   74260.0   \n",
       "4  meta/HH20210312.eaf       5         3090.0     95630.0   98720.0   \n",
       "5  meta/HH20210312.eaf       6        11170.0    118190.0  129360.0   \n",
       "6  meta/HH20210312.eaf       7        18010.0    138870.0  156880.0   \n",
       "7  meta/HH20210312.eaf       8        17300.0    166410.0  183710.0   \n",
       "\n",
       "                                               value split  pct_tira  \\\n",
       "3  He pulled them towards, ok, he pulled them tow...  test  0.111111   \n",
       "4          And can you add \"ùnɛ́ɾɛ́\" after it? Yes.  test  0.125000   \n",
       "5  Ok. And the next one would be \"he pulled them ...  test  0.117647   \n",
       "6  làŋə̄l What does this mean, sorry?  He pulled...  test  0.052632   \n",
       "7  It feels like a high vowel there or something....  test  0.100000   \n",
       "\n",
       "    pct_eng  pct_misc  word_count  codeswitched matrix_language   file_name  \n",
       "3  0.833333  0.055556          18          True             eng  test/4.wav  \n",
       "4  0.875000  0.000000           8          True             eng  test/5.wav  \n",
       "5  0.823529  0.058824          17          True             eng  test/6.wav  \n",
       "6  0.894737  0.052632          19          True             eng  test/7.wav  \n",
       "7  0.900000  0.000000          30          True             eng  test/8.wav  "
      ]
     },
     "execution_count": 4,
     "metadata": {},
     "output_type": "execute_result"
    }
   ],
   "source": [
    "df=pd.read_csv(os.path.join(tira_eval_dir,'metadata.csv'),index_col=0)\n",
    "df.head()"
   ]
  },
  {
   "cell_type": "code",
   "execution_count": 8,
   "metadata": {},
   "outputs": [
    {
     "name": "stderr",
     "output_type": "stream",
     "text": [
      "100%|██████████| 79/79 [00:23<00:00,  3.36it/s]\n"
     ]
    },
    {
     "data": {
      "text/plain": [
       "114    okay squirrel in tira is . it is ŋòɽón ŋòɽo...\n",
       "115    for good yeah i think squirrel is good actuall...\n",
       "116    and then there is another one that looks i mea...\n",
       "117    so you can say the . so ŋ̀cɔ́lɔ̀ the word for ...\n",
       "118    next on the list is . hang on hang on what is ...\n",
       "Name: value, dtype: object"
      ]
     },
     "execution_count": 8,
     "metadata": {},
     "output_type": "execute_result"
    }
   ],
   "source": [
    "norm_val = df.loc[df['split']=='validation','value'].progress_apply(normalize_tira_eng_str)\n",
    "norm_val.iloc[:5]"
   ]
  },
  {
   "cell_type": "code",
   "execution_count": 9,
   "metadata": {},
   "outputs": [
    {
     "name": "stderr",
     "output_type": "stream",
     "text": [
      "100%|██████████| 175/175 [00:47<00:00,  3.65it/s]\n"
     ]
    },
    {
     "data": {
      "text/plain": [
       "3    he pulled them towards ok he pulled them towar...\n",
       "4                and can you add ùnɛ́ɾɛ́ after it yes\n",
       "5    ok and the next one would be he pulled them ye...\n",
       "6    làŋə̄l what does this mean sorry he pulled th...\n",
       "7    it feels like a high vowel there or something ...\n",
       "Name: value, dtype: object"
      ]
     },
     "execution_count": 9,
     "metadata": {},
     "output_type": "execute_result"
    }
   ],
   "source": [
    "norm_test = df.loc[df['split']=='test','value'].progress_apply(normalize_tira_eng_str)\n",
    "norm_test.iloc[:5]"
   ]
  },
  {
   "cell_type": "code",
   "execution_count": 10,
   "metadata": {},
   "outputs": [],
   "source": [
    "with open(os.path.join(tira_eval_dir, 'validation_transcript.txt'), 'w') as f:\n",
    "    f.write('\\n'.join(norm_val))\n",
    "\n",
    "with open(os.path.join(tira_eval_dir, 'test_transcript.txt'), 'w') as f:\n",
    "    f.write('\\n'.join(norm_test))"
   ]
  }
 ],
 "metadata": {
  "kernelspec": {
   "display_name": "Python 3",
   "language": "python",
   "name": "python3"
  },
  "language_info": {
   "codemirror_mode": {
    "name": "ipython",
    "version": 3
   },
   "file_extension": ".py",
   "mimetype": "text/x-python",
   "name": "python",
   "nbconvert_exporter": "python",
   "pygments_lexer": "ipython3",
   "version": "3.9.21"
  }
 },
 "nbformat": 4,
 "nbformat_minor": 2
}
