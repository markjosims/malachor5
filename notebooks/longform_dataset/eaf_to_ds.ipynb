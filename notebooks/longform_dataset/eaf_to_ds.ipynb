{
 "cells": [
  {
   "cell_type": "code",
   "execution_count": 16,
   "metadata": {},
   "outputs": [],
   "source": [
    "from datasets import Dataset\n",
    "from pympi import Elan\n",
    "import os\n",
    "from glob import glob\n",
    "import pandas as pd\n",
    "import numpy as np\n",
    "os.chdir('/Users/markjos/projects/malachor5')\n",
    "import sys\n",
    "sys.path.append('scripts')\n",
    "from eval import get_word_language"
   ]
  },
  {
   "cell_type": "code",
   "execution_count": 2,
   "metadata": {},
   "outputs": [
    {
     "data": {
      "text/plain": [
       "['meta/HH20210312.eaf', 'meta/HH20210913.eaf', 'meta/HH20220327-2.eaf']"
      ]
     },
     "execution_count": 2,
     "metadata": {},
     "output_type": "execute_result"
    }
   ],
   "source": [
    "eafs = glob('meta/*.eaf')\n",
    "eafs"
   ]
  },
  {
   "cell_type": "code",
   "execution_count": 3,
   "metadata": {},
   "outputs": [],
   "source": [
    "def convert_eaf_to_pandas(eaf_path):\n",
    "    eaf = Elan.Eaf(eaf_path)\n",
    "    data = []\n",
    "    for tier in eaf.get_tier_names():\n",
    "        if len(tier)!=3 and not tier.isupper():\n",
    "            continue\n",
    "        for annotation in eaf.get_annotation_data_for_tier(tier):\n",
    "            data.append({\n",
    "                'tier': tier,\n",
    "                'file': eaf_path,\n",
    "                'start': annotation[0],\n",
    "                'end': annotation[1],\n",
    "                'duration': annotation[1]-annotation[0],\n",
    "                'value': annotation[2]\n",
    "            })\n",
    "    return pd.DataFrame(data)"
   ]
  },
  {
   "cell_type": "code",
   "execution_count": 4,
   "metadata": {},
   "outputs": [
    {
     "data": {
      "text/html": [
       "<div>\n",
       "<style scoped>\n",
       "    .dataframe tbody tr th:only-of-type {\n",
       "        vertical-align: middle;\n",
       "    }\n",
       "\n",
       "    .dataframe tbody tr th {\n",
       "        vertical-align: top;\n",
       "    }\n",
       "\n",
       "    .dataframe thead th {\n",
       "        text-align: right;\n",
       "    }\n",
       "</style>\n",
       "<table border=\"1\" class=\"dataframe\">\n",
       "  <thead>\n",
       "    <tr style=\"text-align: right;\">\n",
       "      <th></th>\n",
       "      <th>tier</th>\n",
       "      <th>file</th>\n",
       "      <th>start</th>\n",
       "      <th>end</th>\n",
       "      <th>duration</th>\n",
       "      <th>value</th>\n",
       "      <th>duration_min</th>\n",
       "    </tr>\n",
       "  </thead>\n",
       "  <tbody>\n",
       "    <tr>\n",
       "      <th>0</th>\n",
       "      <td>SHA</td>\n",
       "      <td>meta/HH20210312.eaf</td>\n",
       "      <td>10340</td>\n",
       "      <td>13050</td>\n",
       "      <td>2710</td>\n",
       "      <td>Alright, we got it set up.</td>\n",
       "      <td>0.045167</td>\n",
       "    </tr>\n",
       "    <tr>\n",
       "      <th>1</th>\n",
       "      <td>SHA</td>\n",
       "      <td>meta/HH20210312.eaf</td>\n",
       "      <td>23170</td>\n",
       "      <td>26460</td>\n",
       "      <td>3290</td>\n",
       "      <td>Ok we ready? So you can stop sharing.</td>\n",
       "      <td>0.054833</td>\n",
       "    </tr>\n",
       "    <tr>\n",
       "      <th>2</th>\n",
       "      <td>SHA</td>\n",
       "      <td>meta/HH20210312.eaf</td>\n",
       "      <td>44260</td>\n",
       "      <td>64300</td>\n",
       "      <td>20040</td>\n",
       "      <td>Now I just have to, alright, so now I'm re-rec...</td>\n",
       "      <td>0.334000</td>\n",
       "    </tr>\n",
       "    <tr>\n",
       "      <th>3</th>\n",
       "      <td>SHA</td>\n",
       "      <td>meta/HH20210312.eaf</td>\n",
       "      <td>72560</td>\n",
       "      <td>72780</td>\n",
       "      <td>220</td>\n",
       "      <td>-pulled them</td>\n",
       "      <td>0.003667</td>\n",
       "    </tr>\n",
       "    <tr>\n",
       "      <th>4</th>\n",
       "      <td>SHA</td>\n",
       "      <td>meta/HH20210312.eaf</td>\n",
       "      <td>96470</td>\n",
       "      <td>98280</td>\n",
       "      <td>1810</td>\n",
       "      <td>And can you add \"ùnɛ́ɾɛ́\" after it?</td>\n",
       "      <td>0.030167</td>\n",
       "    </tr>\n",
       "  </tbody>\n",
       "</table>\n",
       "</div>"
      ],
      "text/plain": [
       "  tier                 file  start    end  duration  \\\n",
       "0  SHA  meta/HH20210312.eaf  10340  13050      2710   \n",
       "1  SHA  meta/HH20210312.eaf  23170  26460      3290   \n",
       "2  SHA  meta/HH20210312.eaf  44260  64300     20040   \n",
       "3  SHA  meta/HH20210312.eaf  72560  72780       220   \n",
       "4  SHA  meta/HH20210312.eaf  96470  98280      1810   \n",
       "\n",
       "                                               value  duration_min  \n",
       "0                         Alright, we got it set up.      0.045167  \n",
       "1              Ok we ready? So you can stop sharing.      0.054833  \n",
       "2  Now I just have to, alright, so now I'm re-rec...      0.334000  \n",
       "3                                       -pulled them      0.003667  \n",
       "4               And can you add \"ùnɛ́ɾɛ́\" after it?      0.030167  "
      ]
     },
     "execution_count": 4,
     "metadata": {},
     "output_type": "execute_result"
    }
   ],
   "source": [
    "df_list=[]\n",
    "for eaf_fp in eafs:\n",
    "    # skip noisy recording\n",
    "    if '20240424' in eaf_fp:\n",
    "        continue\n",
    "    df_list.append(convert_eaf_to_pandas(eaf_fp))\n",
    "df = pd.concat(df_list)\n",
    "df['duration_min']=df['duration']/60000\n",
    "df.head()"
   ]
  },
  {
   "cell_type": "code",
   "execution_count": 5,
   "metadata": {},
   "outputs": [],
   "source": [
    "get_pct_lang = lambda s, lang: [get_word_language(w) for w in s.split()].count(lang)/len(s.split()) if s else 0\n",
    "get_pct_tira = lambda s: get_pct_lang(s, 'tira')\n",
    "get_pct_eng = lambda s: get_pct_lang(s, 'eng')\n",
    "get_pct_misc = lambda s: get_pct_lang(s, 'misc')\n",
    "\n",
    "df['pct_tira']=df['value'].apply(get_pct_tira)\n",
    "df['pct_eng']=df['value'].apply(get_pct_eng)\n",
    "df['pct_misc']=df['value'].apply(get_pct_misc)"
   ]
  },
  {
   "cell_type": "code",
   "execution_count": 6,
   "metadata": {},
   "outputs": [],
   "source": [
    "df['codeswitched'] = True\n",
    "df.loc[\n",
    "    (df['pct_tira']==0)|(df['pct_eng']==0), 'codeswitched'\n",
    "] = False\n",
    "df['matrix_language'] = 'eng'\n",
    "df.loc[\n",
    "    (df['pct_tira']>df['pct_eng']), 'matrix_language'\n",
    "] = 'tira'"
   ]
  },
  {
   "cell_type": "code",
   "execution_count": 7,
   "metadata": {},
   "outputs": [
    {
     "data": {
      "text/plain": [
       "codeswitched\n",
       "False    1673\n",
       "True      334\n",
       "Name: count, dtype: int64"
      ]
     },
     "execution_count": 7,
     "metadata": {},
     "output_type": "execute_result"
    }
   ],
   "source": [
    "df['codeswitched'].value_counts()"
   ]
  },
  {
   "cell_type": "code",
   "execution_count": 8,
   "metadata": {},
   "outputs": [
    {
     "data": {
      "text/html": [
       "<div>\n",
       "<style scoped>\n",
       "    .dataframe tbody tr th:only-of-type {\n",
       "        vertical-align: middle;\n",
       "    }\n",
       "\n",
       "    .dataframe tbody tr th {\n",
       "        vertical-align: top;\n",
       "    }\n",
       "\n",
       "    .dataframe thead th {\n",
       "        text-align: right;\n",
       "    }\n",
       "</style>\n",
       "<table border=\"1\" class=\"dataframe\">\n",
       "  <thead>\n",
       "    <tr style=\"text-align: right;\">\n",
       "      <th></th>\n",
       "      <th></th>\n",
       "      <th>duration</th>\n",
       "      <th>duration_min</th>\n",
       "      <th>end</th>\n",
       "      <th>file</th>\n",
       "      <th>pct_eng</th>\n",
       "      <th>pct_misc</th>\n",
       "      <th>pct_tira</th>\n",
       "      <th>start</th>\n",
       "      <th>tier</th>\n",
       "      <th>value</th>\n",
       "    </tr>\n",
       "    <tr>\n",
       "      <th>matrix_language</th>\n",
       "      <th>codeswitched</th>\n",
       "      <th></th>\n",
       "      <th></th>\n",
       "      <th></th>\n",
       "      <th></th>\n",
       "      <th></th>\n",
       "      <th></th>\n",
       "      <th></th>\n",
       "      <th></th>\n",
       "      <th></th>\n",
       "      <th></th>\n",
       "    </tr>\n",
       "  </thead>\n",
       "  <tbody>\n",
       "    <tr>\n",
       "      <th rowspan=\"2\" valign=\"top\">eng</th>\n",
       "      <th>False</th>\n",
       "      <td>1375</td>\n",
       "      <td>1375</td>\n",
       "      <td>1375</td>\n",
       "      <td>1375</td>\n",
       "      <td>1375</td>\n",
       "      <td>1375</td>\n",
       "      <td>1375</td>\n",
       "      <td>1375</td>\n",
       "      <td>1375</td>\n",
       "      <td>1375</td>\n",
       "    </tr>\n",
       "    <tr>\n",
       "      <th>True</th>\n",
       "      <td>274</td>\n",
       "      <td>274</td>\n",
       "      <td>274</td>\n",
       "      <td>274</td>\n",
       "      <td>274</td>\n",
       "      <td>274</td>\n",
       "      <td>274</td>\n",
       "      <td>274</td>\n",
       "      <td>274</td>\n",
       "      <td>274</td>\n",
       "    </tr>\n",
       "    <tr>\n",
       "      <th rowspan=\"2\" valign=\"top\">tira</th>\n",
       "      <th>False</th>\n",
       "      <td>298</td>\n",
       "      <td>298</td>\n",
       "      <td>298</td>\n",
       "      <td>298</td>\n",
       "      <td>298</td>\n",
       "      <td>298</td>\n",
       "      <td>298</td>\n",
       "      <td>298</td>\n",
       "      <td>298</td>\n",
       "      <td>298</td>\n",
       "    </tr>\n",
       "    <tr>\n",
       "      <th>True</th>\n",
       "      <td>60</td>\n",
       "      <td>60</td>\n",
       "      <td>60</td>\n",
       "      <td>60</td>\n",
       "      <td>60</td>\n",
       "      <td>60</td>\n",
       "      <td>60</td>\n",
       "      <td>60</td>\n",
       "      <td>60</td>\n",
       "      <td>60</td>\n",
       "    </tr>\n",
       "  </tbody>\n",
       "</table>\n",
       "</div>"
      ],
      "text/plain": [
       "                              duration  duration_min   end  file  pct_eng  \\\n",
       "matrix_language codeswitched                                                \n",
       "eng             False             1375          1375  1375  1375     1375   \n",
       "                True               274           274   274   274      274   \n",
       "tira            False              298           298   298   298      298   \n",
       "                True                60            60    60    60       60   \n",
       "\n",
       "                              pct_misc  pct_tira  start  tier  value  \n",
       "matrix_language codeswitched                                          \n",
       "eng             False             1375      1375   1375  1375   1375  \n",
       "                True               274       274    274   274    274  \n",
       "tira            False              298       298    298   298    298  \n",
       "                True                60        60     60    60     60  "
      ]
     },
     "execution_count": 8,
     "metadata": {},
     "output_type": "execute_result"
    }
   ],
   "source": [
    "df.pivot_table(index=['matrix_language', 'codeswitched'], aggfunc='count')"
   ]
  },
  {
   "cell_type": "code",
   "execution_count": 9,
   "metadata": {},
   "outputs": [
    {
     "data": {
      "text/html": [
       "<div>\n",
       "<style scoped>\n",
       "    .dataframe tbody tr th:only-of-type {\n",
       "        vertical-align: middle;\n",
       "    }\n",
       "\n",
       "    .dataframe tbody tr th {\n",
       "        vertical-align: top;\n",
       "    }\n",
       "\n",
       "    .dataframe thead th {\n",
       "        text-align: right;\n",
       "    }\n",
       "</style>\n",
       "<table border=\"1\" class=\"dataframe\">\n",
       "  <thead>\n",
       "    <tr style=\"text-align: right;\">\n",
       "      <th></th>\n",
       "      <th>duration_min</th>\n",
       "      <th>pct_eng</th>\n",
       "      <th>pct_tira</th>\n",
       "    </tr>\n",
       "    <tr>\n",
       "      <th>file</th>\n",
       "      <th></th>\n",
       "      <th></th>\n",
       "      <th></th>\n",
       "    </tr>\n",
       "  </thead>\n",
       "  <tbody>\n",
       "    <tr>\n",
       "      <th>meta/HH20210312.eaf</th>\n",
       "      <td>21.040517</td>\n",
       "      <td>0.685613</td>\n",
       "      <td>0.123367</td>\n",
       "    </tr>\n",
       "    <tr>\n",
       "      <th>meta/HH20210913.eaf</th>\n",
       "      <td>22.173100</td>\n",
       "      <td>0.725026</td>\n",
       "      <td>0.233066</td>\n",
       "    </tr>\n",
       "    <tr>\n",
       "      <th>meta/HH20220327-2.eaf</th>\n",
       "      <td>35.313800</td>\n",
       "      <td>0.712899</td>\n",
       "      <td>0.228862</td>\n",
       "    </tr>\n",
       "  </tbody>\n",
       "</table>\n",
       "</div>"
      ],
      "text/plain": [
       "                       duration_min   pct_eng  pct_tira\n",
       "file                                                   \n",
       "meta/HH20210312.eaf       21.040517  0.685613  0.123367\n",
       "meta/HH20210913.eaf       22.173100  0.725026  0.233066\n",
       "meta/HH20220327-2.eaf     35.313800  0.712899  0.228862"
      ]
     },
     "execution_count": 9,
     "metadata": {},
     "output_type": "execute_result"
    }
   ],
   "source": [
    "df.pivot_table(\n",
    "    index=['file',],\n",
    "    values=['pct_eng', 'pct_tira', 'duration_min'],\n",
    "    aggfunc={'pct_eng': 'mean', 'pct_tira': 'mean', 'duration_min': 'sum'},\n",
    ")"
   ]
  },
  {
   "cell_type": "code",
   "execution_count": 13,
   "metadata": {},
   "outputs": [
    {
     "data": {
      "text/plain": [
       "split\n",
       "test          1385\n",
       "validation     622\n",
       "Name: count, dtype: int64"
      ]
     },
     "execution_count": 13,
     "metadata": {},
     "output_type": "execute_result"
    }
   ],
   "source": [
    "df['split']='test'\n",
    "df.loc[df['file']=='meta/HH20210913.eaf', 'split']='validation'\n",
    "df['split'].value_counts()"
   ]
  },
  {
   "cell_type": "code",
   "execution_count": 14,
   "metadata": {},
   "outputs": [
    {
     "data": {
      "text/plain": [
       "0         2710\n",
       "1         6000\n",
       "2        26040\n",
       "3        26260\n",
       "4        28070\n",
       "        ...   \n",
       "851    4699994\n",
       "852    4704369\n",
       "853    4707716\n",
       "854    4708743\n",
       "855    4711645\n",
       "Name: duration, Length: 2007, dtype: int64"
      ]
     },
     "execution_count": 14,
     "metadata": {},
     "output_type": "execute_result"
    }
   ],
   "source": [
    "df['duration'].cumsum()"
   ]
  },
  {
   "cell_type": "code",
   "execution_count": 21,
   "metadata": {},
   "outputs": [
    {
     "ename": "",
     "evalue": "",
     "output_type": "error",
     "traceback": [
      "\u001b[1;31mThe Kernel crashed while executing code in the current cell or a previous cell. \n",
      "\u001b[1;31mPlease review the code in the cell(s) to identify a possible cause of the failure. \n",
      "\u001b[1;31mClick <a href='https://aka.ms/vscodeJupyterKernelCrash'>here</a> for more info. \n",
      "\u001b[1;31mView Jupyter <a href='command:jupyter.viewOutput'>log</a> for further details."
     ]
    }
   ],
   "source": [
    "# make records of up to 20s by concatenating adjacent records\n",
    "for file in df['file'].unique():\n",
    "    file_mask = df['file']==file\n",
    "    file_df = df[file_mask].sort_values('start')\n",
    "    df.loc[file_mask,'cum_duration'] = df.loc[file_mask,'duration'].cumsum()\n",
    "    df.loc[file_mask,'record'] = np.nan\n",
    "    record = 0\n",
    "    for i, row in file_df.iterrows():\n",
    "        if row['cum_duration'] > 20_000:\n",
    "            record += 1\n",
    "            df.at[i, 'record'] = record\n",
    "            ungrouped_mask = file_df['record'].isna()\n",
    "            df.loc[ungrouped_mask, 'cum_duration'] = df.loc[ungrouped_mask, 'duration'].cumsum()\n",
    "        else:\n",
    "            file_df.at[i, 'record'] = record\n",
    "    df.loc[df['file']==file, 'record'] = file_df['record']"
   ]
  }
 ],
 "metadata": {
  "kernelspec": {
   "display_name": "Python 3",
   "language": "python",
   "name": "python3"
  },
  "language_info": {
   "codemirror_mode": {
    "name": "ipython",
    "version": 3
   },
   "file_extension": ".py",
   "mimetype": "text/x-python",
   "name": "python",
   "nbconvert_exporter": "python",
   "pygments_lexer": "ipython3",
   "version": "3.9.19"
  }
 },
 "nbformat": 4,
 "nbformat_minor": 2
}
