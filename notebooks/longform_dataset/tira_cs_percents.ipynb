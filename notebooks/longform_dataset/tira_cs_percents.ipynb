{
 "cells": [
  {
   "cell_type": "code",
   "execution_count": 16,
   "metadata": {},
   "outputs": [],
   "source": [
    "import pandas as pd\n",
    "import os\n",
    "import sys\n",
    "os.chdir('/Users/markjos/projects/malachor5')\n",
    "sys.path.append('scripts')\n",
    "from lid_utils import get_word_language"
   ]
  },
  {
   "cell_type": "code",
   "execution_count": 17,
   "metadata": {},
   "outputs": [],
   "source": [
    "cs_clean_path = '/Users/markjos/projects/malachor5/data/hf-datasets/tira_cs_clean/metadata.csv'\n",
    "eval_path = '/Users/markjos/projects/malachor5/data/hf-datasets/tira-eval/metadata.csv'"
   ]
  },
  {
   "cell_type": "code",
   "execution_count": 18,
   "metadata": {},
   "outputs": [
    {
     "data": {
      "text/plain": [
       "0       [tira, tira, tira, tira, tira, eng, eng, eng, ...\n",
       "1       [tira, tira, tira, tira, tira, zulu, zulu, eng...\n",
       "2       [tira, tira, zulu, zulu, eng, eng, eng, eng, e...\n",
       "3       [tira, tira, tira, zulu, tira, eng, zulu, eng,...\n",
       "4       [tira, tira, tira, tira, zulu, eng, eng, eng, ...\n",
       "                              ...                        \n",
       "1147                                   [tira, tira, zulu]\n",
       "1148                             [tira, tira, tira, zulu]\n",
       "1149                       [tira, tira, tira, tira, zulu]\n",
       "1150                 [tira, tira, tira, tira, tira, tira]\n",
       "1151                              [tira, tira, tira, eng]\n",
       "Name: transcription, Length: 1152, dtype: object"
      ]
     },
     "execution_count": 18,
     "metadata": {},
     "output_type": "execute_result"
    }
   ],
   "source": [
    "cs_df = pd.read_csv(cs_clean_path)\n",
    "cs_langs_per_word=cs_df['transcription'].apply(lambda s:[get_word_language(w) for w in s.split()])\n",
    "cs_langs_per_word"
   ]
  },
  {
   "cell_type": "code",
   "execution_count": 19,
   "metadata": {},
   "outputs": [
    {
     "data": {
      "text/plain": [
       "count    1152.000000\n",
       "mean        0.326320\n",
       "std         0.196581\n",
       "min         0.033333\n",
       "25%         0.181818\n",
       "50%         0.272727\n",
       "75%         0.428571\n",
       "max         1.000000\n",
       "Name: pct_tira, dtype: float64"
      ]
     },
     "execution_count": 19,
     "metadata": {},
     "output_type": "execute_result"
    }
   ],
   "source": [
    "cs_df['pct_tira']=cs_langs_per_word.apply(lambda l:l.count('tira')/len(l))\n",
    "cs_df['pct_tira'].describe()"
   ]
  },
  {
   "cell_type": "code",
   "execution_count": 20,
   "metadata": {},
   "outputs": [
    {
     "data": {
      "text/plain": [
       "count    1152.000000\n",
       "mean        0.554595\n",
       "std         0.202127\n",
       "min         0.000000\n",
       "25%         0.466667\n",
       "50%         0.600000\n",
       "75%         0.700000\n",
       "max         0.904762\n",
       "Name: pct_eng, dtype: float64"
      ]
     },
     "execution_count": 20,
     "metadata": {},
     "output_type": "execute_result"
    }
   ],
   "source": [
    "cs_df['pct_eng']=cs_langs_per_word.apply(lambda l:l.count('eng')/len(l))\n",
    "cs_df['pct_eng'].describe()"
   ]
  },
  {
   "cell_type": "code",
   "execution_count": 21,
   "metadata": {},
   "outputs": [
    {
     "data": {
      "text/plain": [
       "count    1152.000000\n",
       "mean        0.001154\n",
       "std         0.012358\n",
       "min         0.000000\n",
       "25%         0.000000\n",
       "50%         0.000000\n",
       "75%         0.000000\n",
       "max         0.285714\n",
       "Name: pct_misc, dtype: float64"
      ]
     },
     "execution_count": 21,
     "metadata": {},
     "output_type": "execute_result"
    }
   ],
   "source": [
    "cs_df['pct_misc']=cs_langs_per_word.apply(lambda l:l.count('misc')/len(l))\n",
    "cs_df['pct_misc'].describe()"
   ]
  },
  {
   "cell_type": "code",
   "execution_count": 22,
   "metadata": {},
   "outputs": [
    {
     "data": {
      "text/plain": [
       "0      [eng, eng, eng, eng, misc, zulu, eng, eng, eng...\n",
       "1              [eng, eng, eng, eng, tira, eng, eng, eng]\n",
       "2      [misc, eng, eng, eng, zulu, eng, zulu, zulu, e...\n",
       "3      [tira, eng, eng, eng, eng, eng, eng, eng, eng,...\n",
       "4      [eng, eng, eng, tira, eng, eng, eng, eng, eng,...\n",
       "                             ...                        \n",
       "249    [eng, zulu, eng, eng, eng, eng, eng, eng, eng,...\n",
       "250    [misc, eng, eng, eng, eng, misc, tira, eng, en...\n",
       "251    [eng, eng, misc, zulu, eng, eng, zulu, eng, en...\n",
       "252    [eng, eng, eng, tira, tira, tira, tira, tira, ...\n",
       "253    [eng, eng, eng, eng, eng, zulu, eng, eng, eng,...\n",
       "Name: value, Length: 254, dtype: object"
      ]
     },
     "execution_count": 22,
     "metadata": {},
     "output_type": "execute_result"
    }
   ],
   "source": [
    "eval_df = pd.read_csv(eval_path)\n",
    "eval_langs_per_word=eval_df['value'].apply(lambda s:[get_word_language(w) for w in s.split()])\n",
    "eval_langs_per_word"
   ]
  },
  {
   "cell_type": "code",
   "execution_count": 23,
   "metadata": {},
   "outputs": [
    {
     "data": {
      "text/plain": [
       "count    254.000000\n",
       "mean       0.045636\n",
       "std        0.046167\n",
       "min        0.000000\n",
       "25%        0.000000\n",
       "50%        0.037749\n",
       "75%        0.066667\n",
       "max        0.250000\n",
       "Name: pct_misc, dtype: float64"
      ]
     },
     "execution_count": 23,
     "metadata": {},
     "output_type": "execute_result"
    }
   ],
   "source": [
    "eval_df['pct_misc']=eval_langs_per_word.apply(lambda l:l.count('misc')/len(l))\n",
    "eval_df['pct_misc'].describe()"
   ]
  },
  {
   "cell_type": "code",
   "execution_count": 24,
   "metadata": {},
   "outputs": [
    {
     "data": {
      "text/plain": [
       "count    254.000000\n",
       "mean       0.200551\n",
       "std        0.172572\n",
       "min        0.018182\n",
       "25%        0.088235\n",
       "50%        0.141196\n",
       "75%        0.240558\n",
       "max        0.923077\n",
       "Name: pct_tira, dtype: float64"
      ]
     },
     "execution_count": 24,
     "metadata": {},
     "output_type": "execute_result"
    }
   ],
   "source": [
    "eval_df['pct_tira']=eval_langs_per_word.apply(lambda l:l.count('tira')/len(l))\n",
    "eval_df['pct_tira'].describe()"
   ]
  },
  {
   "cell_type": "code",
   "execution_count": 25,
   "metadata": {},
   "outputs": [
    {
     "data": {
      "text/plain": [
       "count    254.000000\n",
       "mean       0.692041\n",
       "std        0.165196\n",
       "min        0.047619\n",
       "25%        0.628836\n",
       "50%        0.741338\n",
       "75%        0.798980\n",
       "max        0.937500\n",
       "Name: pct_eng, dtype: float64"
      ]
     },
     "execution_count": 25,
     "metadata": {},
     "output_type": "execute_result"
    }
   ],
   "source": [
    "cs_df['pct_eng']=eval_langs_per_word.apply(lambda l:l.count('eng')/len(l))\n",
    "cs_df['pct_eng'].describe()"
   ]
  }
 ],
 "metadata": {
  "kernelspec": {
   "display_name": "Python 3",
   "language": "python",
   "name": "python3"
  },
  "language_info": {
   "codemirror_mode": {
    "name": "ipython",
    "version": 3
   },
   "file_extension": ".py",
   "mimetype": "text/x-python",
   "name": "python",
   "nbconvert_exporter": "python",
   "pygments_lexer": "ipython3",
   "version": "3.9.21"
  }
 },
 "nbformat": 4,
 "nbformat_minor": 2
}
