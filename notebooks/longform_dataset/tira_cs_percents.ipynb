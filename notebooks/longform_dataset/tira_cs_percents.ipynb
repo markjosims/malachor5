{
 "cells": [
  {
   "cell_type": "code",
   "execution_count": 2,
   "metadata": {},
   "outputs": [],
   "source": [
    "import pandas as pd\n",
    "import os\n",
    "import sys\n",
    "os.chdir('/Users/markjos/projects/malachor5')\n",
    "sys.path.append('scripts')\n",
    "from lid_utils import get_word_language"
   ]
  },
  {
   "cell_type": "code",
   "execution_count": 3,
   "metadata": {},
   "outputs": [],
   "source": [
    "cs_clean_path = '/Users/markjos/projects/malachor5/data/hf-datasets/tira_cs_clean/metadata.csv'\n",
    "eval_path = '/Users/markjos/projects/malachor5/data/hf-datasets/tira-eval/metadata.csv'"
   ]
  },
  {
   "cell_type": "code",
   "execution_count": 4,
   "metadata": {},
   "outputs": [
    {
     "data": {
      "text/plain": [
       "0       [tira, tira, tira, tira, tira, eng, eng, eng, ...\n",
       "1       [tira, tira, tira, tira, tira, eng, eng, eng, ...\n",
       "2       [tira, tira, eng, eng, eng, eng, eng, eng, eng...\n",
       "3       [tira, tira, tira, eng, tira, eng, eng, eng, e...\n",
       "4       [tira, tira, tira, tira, eng, eng, eng, eng, e...\n",
       "                              ...                        \n",
       "1147                                    [tira, tira, eng]\n",
       "1148                              [tira, tira, tira, eng]\n",
       "1149                        [tira, tira, tira, tira, eng]\n",
       "1150                 [tira, tira, tira, tira, tira, tira]\n",
       "1151                              [tira, tira, tira, eng]\n",
       "Name: transcription, Length: 1152, dtype: object"
      ]
     },
     "execution_count": 4,
     "metadata": {},
     "output_type": "execute_result"
    }
   ],
   "source": [
    "cs_df = pd.read_csv(cs_clean_path)\n",
    "cs_langs_per_word=cs_df['transcription'].apply(lambda s:[get_word_language(w, langs=['tira', 'eng']) for w in s.split()])\n",
    "cs_langs_per_word"
   ]
  },
  {
   "cell_type": "code",
   "execution_count": 5,
   "metadata": {},
   "outputs": [
    {
     "data": {
      "text/plain": [
       "count    1152.000000\n",
       "mean        0.326320\n",
       "std         0.196581\n",
       "min         0.033333\n",
       "25%         0.181818\n",
       "50%         0.272727\n",
       "75%         0.428571\n",
       "max         1.000000\n",
       "Name: pct_tira, dtype: float64"
      ]
     },
     "execution_count": 5,
     "metadata": {},
     "output_type": "execute_result"
    }
   ],
   "source": [
    "cs_df['pct_tira']=cs_langs_per_word.apply(lambda l:l.count('tira')/len(l))\n",
    "cs_df['pct_tira'].describe()"
   ]
  },
  {
   "cell_type": "code",
   "execution_count": 6,
   "metadata": {},
   "outputs": [
    {
     "data": {
      "text/plain": [
       "count    1152.000000\n",
       "mean        0.672354\n",
       "std         0.198482\n",
       "min         0.000000\n",
       "25%         0.571429\n",
       "50%         0.727273\n",
       "75%         0.818182\n",
       "max         0.966667\n",
       "Name: pct_eng, dtype: float64"
      ]
     },
     "execution_count": 6,
     "metadata": {},
     "output_type": "execute_result"
    }
   ],
   "source": [
    "cs_df['pct_eng']=cs_langs_per_word.apply(lambda l:l.count('eng')/len(l))\n",
    "cs_df['pct_eng'].describe()"
   ]
  },
  {
   "cell_type": "code",
   "execution_count": 7,
   "metadata": {},
   "outputs": [
    {
     "data": {
      "text/plain": [
       "count    1152.000000\n",
       "mean        0.001326\n",
       "std         0.012827\n",
       "min         0.000000\n",
       "25%         0.000000\n",
       "50%         0.000000\n",
       "75%         0.000000\n",
       "max         0.285714\n",
       "Name: pct_misc, dtype: float64"
      ]
     },
     "execution_count": 7,
     "metadata": {},
     "output_type": "execute_result"
    }
   ],
   "source": [
    "cs_df['pct_misc']=cs_langs_per_word.apply(lambda l:l.count('misc')/len(l))\n",
    "cs_df['pct_misc'].describe()"
   ]
  },
  {
   "cell_type": "code",
   "execution_count": 13,
   "metadata": {},
   "outputs": [
    {
     "data": {
      "text/plain": [
       "62     [eng, eng, eng, misc, eng, eng, eng, tira, tir...\n",
       "63     [eng, eng, eng, eng, eng, eng, eng, eng, eng, ...\n",
       "64     [eng, eng, misc, eng, eng, eng, eng, eng, eng,...\n",
       "65     [eng, eng, eng, eng, eng, eng, tira, eng, eng,...\n",
       "66     [eng, eng, eng, eng, eng, eng, eng, eng, eng, ...\n",
       "                             ...                        \n",
       "136    [eng, eng, eng, eng, eng, eng, eng, tira, tira...\n",
       "137    [eng, tira, eng, eng, eng, tira, tira, eng, en...\n",
       "138    [tira, tira, tira, tira, eng, eng, eng, eng, e...\n",
       "139    [eng, eng, eng, eng, eng, eng, misc, tira, tir...\n",
       "140    [eng, eng, eng, eng, eng, eng, eng, eng, eng, ...\n",
       "Name: value, Length: 79, dtype: object"
      ]
     },
     "execution_count": 13,
     "metadata": {},
     "output_type": "execute_result"
    }
   ],
   "source": [
    "eval_df = pd.read_csv(eval_path)\n",
    "eval_langs_per_word=eval_df.loc[eval_df['split']=='validation','value'].apply(lambda s:[get_word_language(w, langs=['eng', 'tira']) for w in s.split()])\n",
    "eval_langs_per_word"
   ]
  },
  {
   "cell_type": "code",
   "execution_count": 14,
   "metadata": {},
   "outputs": [
    {
     "data": {
      "text/plain": [
       "count    79.000000\n",
       "mean      0.043035\n",
       "std       0.045059\n",
       "min       0.000000\n",
       "25%       0.000000\n",
       "50%       0.034483\n",
       "75%       0.063508\n",
       "max       0.250000\n",
       "Name: pct_misc, dtype: float64"
      ]
     },
     "execution_count": 14,
     "metadata": {},
     "output_type": "execute_result"
    }
   ],
   "source": [
    "eval_df['pct_misc']=eval_langs_per_word.apply(lambda l:l.count('misc')/len(l))\n",
    "eval_df['pct_misc'].describe()"
   ]
  },
  {
   "cell_type": "code",
   "execution_count": 15,
   "metadata": {},
   "outputs": [
    {
     "data": {
      "text/plain": [
       "count    79.000000\n",
       "mean      0.154109\n",
       "std       0.090039\n",
       "min       0.018182\n",
       "25%       0.087338\n",
       "50%       0.137931\n",
       "75%       0.202941\n",
       "max       0.461538\n",
       "Name: pct_tira, dtype: float64"
      ]
     },
     "execution_count": 15,
     "metadata": {},
     "output_type": "execute_result"
    }
   ],
   "source": [
    "eval_df['pct_tira']=eval_langs_per_word.apply(lambda l:l.count('tira')/len(l))\n",
    "eval_df['pct_tira'].describe()"
   ]
  },
  {
   "cell_type": "code",
   "execution_count": 16,
   "metadata": {},
   "outputs": [
    {
     "data": {
      "text/plain": [
       "count    79.000000\n",
       "mean      0.802855\n",
       "std       0.103741\n",
       "min       0.461538\n",
       "25%       0.750000\n",
       "50%       0.829787\n",
       "75%       0.876096\n",
       "max       0.976744\n",
       "Name: pct_eng, dtype: float64"
      ]
     },
     "execution_count": 16,
     "metadata": {},
     "output_type": "execute_result"
    }
   ],
   "source": [
    "cs_df['pct_eng']=eval_langs_per_word.apply(lambda l:l.count('eng')/len(l))\n",
    "cs_df['pct_eng'].describe()"
   ]
  },
  {
   "cell_type": "code",
   "execution_count": 17,
   "metadata": {},
   "outputs": [
    {
     "data": {
      "text/plain": [
       "0      [eng, eng, eng, eng, misc, eng, eng, eng, eng,...\n",
       "1              [eng, eng, eng, eng, tira, eng, eng, eng]\n",
       "2      [misc, eng, eng, eng, eng, eng, eng, eng, eng,...\n",
       "3      [tira, eng, eng, eng, eng, eng, eng, eng, eng,...\n",
       "4      [eng, eng, eng, tira, eng, eng, eng, eng, eng,...\n",
       "                             ...                        \n",
       "249    [eng, eng, eng, eng, eng, eng, eng, eng, eng, ...\n",
       "250    [misc, eng, eng, eng, eng, misc, tira, eng, en...\n",
       "251    [eng, eng, misc, eng, eng, eng, eng, eng, eng,...\n",
       "252    [eng, eng, eng, tira, tira, tira, tira, tira, ...\n",
       "253    [eng, eng, eng, eng, eng, eng, eng, eng, eng, ...\n",
       "Name: value, Length: 175, dtype: object"
      ]
     },
     "execution_count": 17,
     "metadata": {},
     "output_type": "execute_result"
    }
   ],
   "source": [
    "test_langs_per_word=eval_df.loc[eval_df['split']=='test','value'].apply(lambda s:[get_word_language(w, langs=['eng', 'tira']) for w in s.split()])\n",
    "test_langs_per_word"
   ]
  },
  {
   "cell_type": "code",
   "execution_count": 19,
   "metadata": {},
   "outputs": [
    {
     "data": {
      "text/plain": [
       "count    175.000000\n",
       "mean       0.047629\n",
       "std        0.046729\n",
       "min        0.000000\n",
       "25%        0.000000\n",
       "50%        0.040000\n",
       "75%        0.068966\n",
       "max        0.250000\n",
       "Name: pct_misc, dtype: float64"
      ]
     },
     "execution_count": 19,
     "metadata": {},
     "output_type": "execute_result"
    }
   ],
   "source": [
    "eval_df['pct_misc']=test_langs_per_word.apply(lambda l:l.count('misc')/len(l))\n",
    "eval_df['pct_misc'].describe()"
   ]
  },
  {
   "cell_type": "code",
   "execution_count": 20,
   "metadata": {},
   "outputs": [
    {
     "data": {
      "text/plain": [
       "count    175.000000\n",
       "mean       0.730854\n",
       "std        0.190724\n",
       "min        0.076923\n",
       "25%        0.662602\n",
       "50%        0.800000\n",
       "75%        0.861590\n",
       "max        0.951220\n",
       "Name: pct_eng, dtype: float64"
      ]
     },
     "execution_count": 20,
     "metadata": {},
     "output_type": "execute_result"
    }
   ],
   "source": [
    "eval_df['pct_eng']=test_langs_per_word.apply(lambda l:l.count('eng')/len(l))\n",
    "eval_df['pct_eng'].describe()"
   ]
  },
  {
   "cell_type": "code",
   "execution_count": 21,
   "metadata": {},
   "outputs": [
    {
     "data": {
      "text/plain": [
       "count    175.000000\n",
       "mean       0.221517\n",
       "std        0.195568\n",
       "min        0.022727\n",
       "25%        0.093750\n",
       "50%        0.142857\n",
       "75%        0.291667\n",
       "max        0.923077\n",
       "Name: pct_tira, dtype: float64"
      ]
     },
     "execution_count": 21,
     "metadata": {},
     "output_type": "execute_result"
    }
   ],
   "source": [
    "eval_df['pct_tira']=test_langs_per_word.apply(lambda l:l.count('tira')/len(l))\n",
    "eval_df['pct_tira'].describe()"
   ]
  }
 ],
 "metadata": {
  "kernelspec": {
   "display_name": "Python 3",
   "language": "python",
   "name": "python3"
  },
  "language_info": {
   "codemirror_mode": {
    "name": "ipython",
    "version": 3
   },
   "file_extension": ".py",
   "mimetype": "text/x-python",
   "name": "python",
   "nbconvert_exporter": "python",
   "pygments_lexer": "ipython3",
   "version": "3.9.21"
  }
 },
 "nbformat": 4,
 "nbformat_minor": 2
}
