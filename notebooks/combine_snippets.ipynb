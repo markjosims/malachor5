{
 "cells": [
  {
   "cell_type": "markdown",
   "metadata": {},
   "source": [
    "# Combine snippets\n",
    "Given Whisper output for Tira and English, make a csv with labels from concatenated snippets"
   ]
  },
  {
   "cell_type": "code",
   "execution_count": 155,
   "metadata": {},
   "outputs": [],
   "source": [
    "import pandas as pd\n",
    "import os\n",
    "from tqdm import tqdm\n",
    "import librosa\n",
    "import soundfile\n",
    "tqdm.pandas()\n",
    "from datasets import load_dataset"
   ]
  },
  {
   "cell_type": "code",
   "execution_count": 1,
   "metadata": {},
   "outputs": [],
   "source": [
    "metadata='/Users/markjos/projects/malachor5/data/tira-snippets-30s/metadata.csv'\n",
    "tira_snippets='/Users/markjos/projects/malachor5/data/tira-snippets-30s/tira_snippets_out.csv'\n",
    "eng_snippets='/Users/markjos/projects/malachor5/data/tira-snippets-30s/tira-cm-eng.csv'"
   ]
  },
  {
   "cell_type": "code",
   "execution_count": 4,
   "metadata": {},
   "outputs": [
    {
     "data": {
      "text/plain": [
       "((35225, 52), (25773, 54), (9162, 53))"
      ]
     },
     "execution_count": 4,
     "metadata": {},
     "output_type": "execute_result"
    }
   ],
   "source": [
    "metadata_df=pd.read_csv(metadata)\n",
    "tira_df=pd.read_csv(tira_snippets)\n",
    "eng_snippets=pd.read_csv(eng_snippets)\n",
    "\n",
    "metadata_df.shape, tira_df.shape, eng_snippets.shape"
   ]
  },
  {
   "cell_type": "markdown",
   "metadata": {},
   "source": [
    "For some reason 290 snippets got stolen by gremlins >:("
   ]
  },
  {
   "cell_type": "code",
   "execution_count": 5,
   "metadata": {},
   "outputs": [
    {
     "data": {
      "text/plain": [
       "290"
      ]
     },
     "execution_count": 5,
     "metadata": {},
     "output_type": "execute_result"
    }
   ],
   "source": [
    "35225-25773-9162"
   ]
  },
  {
   "cell_type": "code",
   "execution_count": 106,
   "metadata": {},
   "outputs": [
    {
     "data": {
      "text/plain": [
       "0                            VAD\n",
       "1                            VAD\n",
       "2                            VAD\n",
       "3                            VAD\n",
       "4        àprí jɜ̀dí ðáŋàlà\n",
       "                  ...           \n",
       "35220                        VAD\n",
       "35221              lá vr̀ðɔ̀ðɔ́\n",
       "35222              lá vr̀ðɔ̀ðɔ́\n",
       "35223                        VAD\n",
       "35224                        VAD\n",
       "Name: turn_label, Length: 35225, dtype: object"
      ]
     },
     "execution_count": 106,
     "metadata": {},
     "output_type": "execute_result"
    }
   ],
   "source": [
    "metadata_df['turn_label']"
   ]
  },
  {
   "cell_type": "markdown",
   "metadata": {},
   "source": [
    "## Merging datasets\n",
    "Create a unique identifier for each snippet"
   ]
  },
  {
   "cell_type": "code",
   "execution_count": 37,
   "metadata": {},
   "outputs": [],
   "source": [
    "metadata_df['snippet_name']=metadata_df['mother_clip']+metadata_df['clip_i'].apply(str)\n",
    "tira_df['snippet_name']=tira_df['mother_clip']+tira_df['clip_i'].apply(str)\n",
    "eng_snippets['snippet_name']=eng_snippets['mother_clip']+eng_snippets['clip_i'].apply(str)"
   ]
  },
  {
   "cell_type": "code",
   "execution_count": 110,
   "metadata": {},
   "outputs": [
    {
     "data": {
      "text/plain": [
       "\" There's no excuse for the taking.\""
      ]
     },
     "execution_count": 110,
     "metadata": {},
     "output_type": "execute_result"
    }
   ],
   "source": [
    "def get_snippet_label(row):\n",
    "    snippet_name=row['snippet_name']\n",
    "\n",
    "    tira=None\n",
    "    eng=None\n",
    "    if row['turn_label']!='VAD':\n",
    "        tira=row['turn_label']\n",
    "    elif snippet_name in tira_df['snippet_name'].values:\n",
    "        tira=tira_df.loc[tira_df['snippet_name']==snippet_name,'yoruba'].item()\n",
    "\n",
    "    if snippet_name in eng_snippets['snippet_name'].values:\n",
    "        eng=eng_snippets.loc[eng_snippets['snippet_name']==snippet_name,'english'].item()\n",
    "\n",
    "    if tira and eng:\n",
    "        print(snippet_name, tira, eng)\n",
    "    elif (not tira) and (not eng):\n",
    "        print(snippet_name)\n",
    "    return tira or eng\n",
    "\n",
    "get_snippet_label(metadata_df.iloc[0])"
   ]
  },
  {
   "cell_type": "code",
   "execution_count": 111,
   "metadata": {},
   "outputs": [
    {
     "name": "stdout",
     "output_type": "stream",
     "text": [
      "data/tira-asr/clips/HH02262021-m45s28ms065-m45s30ms126.wav(11, 11) jǎ ðáŋâl və̀lɛ̀ðà ndòbà  you\n",
      "data/tira-asr/clips/HH11042020-Zoom-m01s55ms717-m01s57ms184.wav(6, 120.465) ðə̀və̀lɛ̀ðɔ́ úrnò  Okay.\n",
      "data/tira-asr/clips/HH20220306-2-h01m09s22ms622-h01m09s26ms635.wav6\n",
      "data/tira-asr/clips/HH20220403-2-m11s57ms608-m11s59ms006.wav10\n",
      "data/tira-asr/clips/HH20220629-2-m15s55ms620-m15s58ms840.wav12\n",
      "data/tira-asr/clips/HH20230414-Zoom-2-m05s27ms066-m05s28ms599.wav0\n",
      "data/tira-asr/clips/HH20230724-m13s51ms360-m13s52ms540.wav(5, 5) làít̪ɔ̀ dìjɔ́ ɛɽɛ̀  Later, diole.\n",
      "data/tira-asr/clips/HH20240223-m48s49ms927-m48s50ms659.wav(6, 6) ðə́və́lɛ́ðáló ðàbɽà  I'm going to that other part.\n"
     ]
    }
   ],
   "source": [
    "metadata_df['snippet_transcription']=metadata_df.progress_apply(get_snippet_label, axis=1)"
   ]
  },
  {
   "cell_type": "code",
   "execution_count": 114,
   "metadata": {},
   "outputs": [
    {
     "data": {
      "text/plain": [
       "snippet_transcription\n",
       "True     35221\n",
       "False        4\n",
       "Name: count, dtype: int64"
      ]
     },
     "execution_count": 114,
     "metadata": {},
     "output_type": "execute_result"
    }
   ],
   "source": [
    "(~metadata_df['snippet_transcription'].isna()).value_counts()"
   ]
  },
  {
   "cell_type": "markdown",
   "metadata": {},
   "source": [
    "## Combine snippets\n",
    "Create a new dataset with a single transcription for all snippets in a 30s chunk"
   ]
  },
  {
   "cell_type": "code",
   "execution_count": 124,
   "metadata": {},
   "outputs": [
    {
     "data": {
      "text/plain": [
       "27.6126124343506"
      ]
     },
     "execution_count": 124,
     "metadata": {},
     "output_type": "execute_result"
    }
   ],
   "source": [
    "timestamps_30s=metadata_df['mother_timestamps_30s'].apply(eval)\n",
    "\n",
    "start_30s=timestamps_30s.apply(lambda l:l[0][0])\n",
    "end_30s=timestamps_30s.apply(lambda l:l[-1][-1])\n",
    "\n",
    "(end_30s-start_30s).mean()"
   ]
  },
  {
   "cell_type": "code",
   "execution_count": 140,
   "metadata": {},
   "outputs": [
    {
     "data": {
      "text/plain": [
       "62.264683946061034"
      ]
     },
     "execution_count": 140,
     "metadata": {},
     "output_type": "execute_result"
    }
   ],
   "source": [
    "(metadata_df['mother_end']-metadata_df['mother_start']).mean()/1_000"
   ]
  },
  {
   "cell_type": "code",
   "execution_count": 126,
   "metadata": {},
   "outputs": [],
   "source": [
    "metadata_df['end_30s']=end_30s\n",
    "metadata_df['start_30s']=start_30s"
   ]
  },
  {
   "cell_type": "code",
   "execution_count": 152,
   "metadata": {},
   "outputs": [
    {
     "name": "stderr",
     "output_type": "stream",
     "text": [
      "  0%|          | 0/4421 [00:00<?, ?it/s]/var/folders/bt/_dsrh6ld2yncbnn9vk_d2lcc0000gp/T/ipykernel_91787/2009931825.py:7: SettingWithCopyWarning: \n",
      "A value is trying to be set on a copy of a slice from a DataFrame.\n",
      "Try using .loc[row_indexer,col_indexer] = value instead\n",
      "\n",
      "See the caveats in the documentation: https://pandas.pydata.org/pandas-docs/stable/user_guide/indexing.html#returning-a-view-versus-a-copy\n",
      "  clip_snippets['clip_i']=clip_snippets['clip_i'].apply(\n",
      "100%|██████████| 4421/4421 [02:21<00:00, 31.31it/s]\n"
     ]
    },
    {
     "data": {
      "text/plain": [
       "4421"
      ]
     },
     "execution_count": 152,
     "metadata": {},
     "output_type": "execute_result"
    }
   ],
   "source": [
    "rows = []\n",
    "has_snippet_label=metadata_df[~metadata_df['snippet_transcription'].isna()].copy()\n",
    "out_clips='/Users/markjos/projects/malachor5/data/tira-code-mixed/clips'\n",
    "\n",
    "for clip in tqdm(has_snippet_label['mother_clip'].unique()):\n",
    "    clip_snippets=has_snippet_label.loc[has_snippet_label['mother_clip']==clip]\n",
    "    clip_snippets['clip_i']=clip_snippets['clip_i'].apply(\n",
    "        eval\n",
    "    ).apply(\n",
    "        lambda x: x[0] if type(x) is tuple else x\n",
    "    )\n",
    "    start_30s=clip_snippets['start_30s'].iloc[0]\n",
    "    end_30s=clip_snippets['end_30s'].iloc[0]\n",
    "\n",
    "    start_60s=clip_snippets['mother_start'].iloc[0]/1_000\n",
    "    end_60s=clip_snippets['mother_end'].iloc[0]/1_000\n",
    "\n",
    "    clip_name=clip_snippets['mother_path'].iloc[0]\n",
    "    \n",
    "    wav, sr=librosa.load('../data/tira-code-mixed-60s/clips/train/'+clip_name)\n",
    "    start_frame=int((start_30s-start_60s)*sr)\n",
    "    end_frame=int((end_30s-start_60s)*sr)\n",
    "    clipped_wav=wav[start_frame:end_frame]\n",
    "    new_clip_path = os.path.join(out_clips, clip_name)\n",
    "    soundfile.write(new_clip_path, clipped_wav, sr)\n",
    "\n",
    "    row={\n",
    "        'file_name': os.path.join('clips', clip_name),\n",
    "        'transcription': ' '.join(clip_snippets['snippet_transcription']),\n",
    "    }\n",
    "    rows.append(row)\n",
    "len(rows)\n"
   ]
  },
  {
   "cell_type": "code",
   "execution_count": 153,
   "metadata": {},
   "outputs": [
    {
     "data": {
      "text/plain": [
       "0        There's no excuse for the taking. ðùrɛ́ ŋìb...\n",
       "1        Okay, you asked me to pull? Oh, you thought y...\n",
       "2        Yes, if it's a way, it's a print, you have a ...\n",
       "3        Okay lìdèlì ðə̀bágɔ̀ ɔ́ŋ pɔ́lì àprí ja...\n",
       "4        You heard it as high lálɔ́vɔ̀ là  Would you...\n",
       "                              ...                        \n",
       "4416    íjɛ́s lá vr̀ðɜ̀ìnɔ́ lávr̀ðɔ̀ ðìnɔ̀ lá vr...\n",
       "4417     What could you also say? lá vr̀ðìðú  Yeah,...\n",
       "4418    lá vr̀ðɔ̀ðìðɔ́ lá vr̀ðɔ̀ðìðɔ́  Oh, good. l...\n",
       "4419     What took me off the train and what I expecte...\n",
       "4420    lɛ́làrɛ́ lɛ̀nðí lá vr̀ðɔ̀ðɔ́ ðɛ́t̪ɔ́ ðɛ̀dɔ̀...\n",
       "Name: transcription, Length: 4421, dtype: object"
      ]
     },
     "execution_count": 153,
     "metadata": {},
     "output_type": "execute_result"
    }
   ],
   "source": [
    "df_joined=pd.DataFrame(rows)\n",
    "df_joined['transcription']"
   ]
  },
  {
   "cell_type": "code",
   "execution_count": 154,
   "metadata": {},
   "outputs": [],
   "source": [
    "tira_cm_path='/Users/markjos/projects/malachor5/data/tira-code-mixed/'\n",
    "tira_cm_metadata='/Users/markjos/projects/malachor5/data/tira-code-mixed/metadata.csv'\n",
    "df_joined.to_csv(tira_cm_metadata, index=False)"
   ]
  },
  {
   "cell_type": "markdown",
   "metadata": {},
   "source": [
    "# Dataset creation\n",
    "Let's make this data boi, upload, train, and **go to bed**"
   ]
  },
  {
   "cell_type": "code",
   "execution_count": 156,
   "metadata": {},
   "outputs": [
    {
     "name": "stderr",
     "output_type": "stream",
     "text": [
      "Resolving data files: 100%|██████████| 4422/4422 [00:00<00:00, 30109.06it/s]\n",
      "Downloading data files: 100%|██████████| 4422/4422 [00:00<00:00, 61254.98it/s]\n",
      "Downloading data files: 0it [00:00, ?it/s]\n",
      "Extracting data files: 0it [00:00, ?it/s]\n",
      "Generating train split: 4421 examples [00:00, 9125.37 examples/s]\n"
     ]
    },
    {
     "data": {
      "text/plain": [
       "DatasetDict({\n",
       "    train: Dataset({\n",
       "        features: ['audio', 'transcription'],\n",
       "        num_rows: 4421\n",
       "    })\n",
       "})"
      ]
     },
     "execution_count": 156,
     "metadata": {},
     "output_type": "execute_result"
    }
   ],
   "source": [
    "ds=load_dataset('audiofolder', data_dir=tira_cm_path)\n",
    "ds"
   ]
  },
  {
   "cell_type": "code",
   "execution_count": 158,
   "metadata": {},
   "outputs": [
    {
     "name": "stderr",
     "output_type": "stream",
     "text": [
      "Saving the dataset (11/11 shards): 100%|██████████| 4421/4421 [00:23<00:00, 186.69 examples/s]\n"
     ]
    }
   ],
   "source": [
    "ds_path='/Users/markjos/projects/malachor5/data/pyarrow-datasets/tira-code-mixed'\n",
    "ds.save_to_disk(ds_path)"
   ]
  }
 ],
 "metadata": {
  "kernelspec": {
   "display_name": "Python 3",
   "language": "python",
   "name": "python3"
  },
  "language_info": {
   "codemirror_mode": {
    "name": "ipython",
    "version": 3
   },
   "file_extension": ".py",
   "mimetype": "text/x-python",
   "name": "python",
   "nbconvert_exporter": "python",
   "pygments_lexer": "ipython3",
   "version": "3.9.19"
  }
 },
 "nbformat": 4,
 "nbformat_minor": 2
}
