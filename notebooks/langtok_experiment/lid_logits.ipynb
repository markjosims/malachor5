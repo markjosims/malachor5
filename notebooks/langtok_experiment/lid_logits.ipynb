{
 "cells": [
  {
   "cell_type": "code",
   "execution_count": 32,
   "metadata": {},
   "outputs": [],
   "source": [
    "import torch\n",
    "import json\n",
    "import pandas as pd\n",
    "with open('../../meta/whisper_special_tokens.json') as f:\n",
    "    SPECIAL_TOKENS = json.load(f)\n",
    "LANG_TOKENS = SPECIAL_TOKENS['lang']\n",
    "LANG_TOKEN_IDS = [lang_obj['id'] for lang_obj in LANG_TOKENS.values()]\n",
    "MIN_LANG_ID = min(LANG_TOKEN_IDS)"
   ]
  },
  {
   "cell_type": "code",
   "execution_count": 33,
   "metadata": {},
   "outputs": [
    {
     "data": {
      "text/html": [
       "<div>\n",
       "<style scoped>\n",
       "    .dataframe tbody tr th:only-of-type {\n",
       "        vertical-align: middle;\n",
       "    }\n",
       "\n",
       "    .dataframe tbody tr th {\n",
       "        vertical-align: top;\n",
       "    }\n",
       "\n",
       "    .dataframe thead th {\n",
       "        text-align: right;\n",
       "    }\n",
       "</style>\n",
       "<table border=\"1\" class=\"dataframe\">\n",
       "  <thead>\n",
       "    <tr style=\"text-align: right;\">\n",
       "      <th></th>\n",
       "      <th>id</th>\n",
       "      <th>rel_id</th>\n",
       "      <th>lang</th>\n",
       "    </tr>\n",
       "  </thead>\n",
       "  <tbody>\n",
       "    <tr>\n",
       "      <th>0</th>\n",
       "      <td>50259</td>\n",
       "      <td>0</td>\n",
       "      <td>en</td>\n",
       "    </tr>\n",
       "    <tr>\n",
       "      <th>1</th>\n",
       "      <td>50260</td>\n",
       "      <td>1</td>\n",
       "      <td>zh</td>\n",
       "    </tr>\n",
       "    <tr>\n",
       "      <th>2</th>\n",
       "      <td>50261</td>\n",
       "      <td>2</td>\n",
       "      <td>de</td>\n",
       "    </tr>\n",
       "    <tr>\n",
       "      <th>3</th>\n",
       "      <td>50262</td>\n",
       "      <td>3</td>\n",
       "      <td>es</td>\n",
       "    </tr>\n",
       "    <tr>\n",
       "      <th>4</th>\n",
       "      <td>50263</td>\n",
       "      <td>4</td>\n",
       "      <td>ru</td>\n",
       "    </tr>\n",
       "    <tr>\n",
       "      <th>...</th>\n",
       "      <td>...</td>\n",
       "      <td>...</td>\n",
       "      <td>...</td>\n",
       "    </tr>\n",
       "    <tr>\n",
       "      <th>94</th>\n",
       "      <td>50353</td>\n",
       "      <td>94</td>\n",
       "      <td>ln</td>\n",
       "    </tr>\n",
       "    <tr>\n",
       "      <th>95</th>\n",
       "      <td>50354</td>\n",
       "      <td>95</td>\n",
       "      <td>ha</td>\n",
       "    </tr>\n",
       "    <tr>\n",
       "      <th>96</th>\n",
       "      <td>50355</td>\n",
       "      <td>96</td>\n",
       "      <td>ba</td>\n",
       "    </tr>\n",
       "    <tr>\n",
       "      <th>97</th>\n",
       "      <td>50356</td>\n",
       "      <td>97</td>\n",
       "      <td>jw</td>\n",
       "    </tr>\n",
       "    <tr>\n",
       "      <th>98</th>\n",
       "      <td>50357</td>\n",
       "      <td>98</td>\n",
       "      <td>su</td>\n",
       "    </tr>\n",
       "  </tbody>\n",
       "</table>\n",
       "<p>99 rows × 3 columns</p>\n",
       "</div>"
      ],
      "text/plain": [
       "       id  rel_id lang\n",
       "0   50259       0   en\n",
       "1   50260       1   zh\n",
       "2   50261       2   de\n",
       "3   50262       3   es\n",
       "4   50263       4   ru\n",
       "..    ...     ...  ...\n",
       "94  50353      94   ln\n",
       "95  50354      95   ha\n",
       "96  50355      96   ba\n",
       "97  50356      97   jw\n",
       "98  50357      98   su\n",
       "\n",
       "[99 rows x 3 columns]"
      ]
     },
     "execution_count": 33,
     "metadata": {},
     "output_type": "execute_result"
    }
   ],
   "source": [
    "lid_df = pd.DataFrame(\n",
    "    {\n",
    "        'id': lang_obj['id'],\n",
    "        'rel_id': lang_obj['id']-MIN_LANG_ID,\n",
    "        'lang': lang,\n",
    "    } for lang, lang_obj in LANG_TOKENS.items()\n",
    ")\n",
    "lid_df"
   ]
  },
  {
   "cell_type": "code",
   "execution_count": 4,
   "metadata": {},
   "outputs": [
    {
     "data": {
      "text/plain": [
       "99"
      ]
     },
     "execution_count": 4,
     "metadata": {},
     "output_type": "execute_result"
    }
   ],
   "source": [
    "lid_logits_path = '../../data/tira-clean-split_lid_logits.pt'\n",
    "lid_logits = torch.load(lid_logits_path)\n",
    "len(lid_logits)"
   ]
  },
  {
   "cell_type": "code",
   "execution_count": 7,
   "metadata": {},
   "outputs": [
    {
     "data": {
      "text/plain": [
       "torch.Size([16384])"
      ]
     },
     "execution_count": 7,
     "metadata": {},
     "output_type": "execute_result"
    }
   ],
   "source": [
    "lid_logits['en'].shape"
   ]
  },
  {
   "cell_type": "code",
   "execution_count": 19,
   "metadata": {},
   "outputs": [
    {
     "data": {
      "text/plain": [
       "tensor([[0., 0., 0.,  ..., 0., 0., 0.],\n",
       "        [0., 0., 0.,  ..., 0., 0., 0.],\n",
       "        [0., 0., 0.,  ..., 0., 0., 0.],\n",
       "        ...,\n",
       "        [0., 0., 0.,  ..., 0., 0., 0.],\n",
       "        [0., 0., 0.,  ..., 0., 0., 0.],\n",
       "        [0., 0., 0.,  ..., 0., 0., 0.]])"
      ]
     },
     "execution_count": 19,
     "metadata": {},
     "output_type": "execute_result"
    }
   ],
   "source": [
    "logit_mat = torch.zeros(16384, 99)\n",
    "logit_mat"
   ]
  },
  {
   "cell_type": "code",
   "execution_count": 23,
   "metadata": {},
   "outputs": [
    {
     "data": {
      "text/plain": [
       "(tensor(1.0000), torch.Size([16384, 99]))"
      ]
     },
     "execution_count": 23,
     "metadata": {},
     "output_type": "execute_result"
    }
   ],
   "source": [
    "for lang, logit_tensor in lid_logits.items():\n",
    "    lang_id=LANG_TOKENS[lang]['id']-MIN_LANG_ID\n",
    "    logit_mat[:,lang_id]=logit_tensor\n",
    "prob_mat = logit_mat.softmax(dim=1)\n",
    "prob_mat[0].sum(), prob_mat.shape"
   ]
  },
  {
   "cell_type": "code",
   "execution_count": 34,
   "metadata": {},
   "outputs": [],
   "source": [
    "lid_df['prob_mean']=prob_mat.mean(dim=0)\n",
    "lid_df['prob_std']=prob_mat.std(dim=0)"
   ]
  },
  {
   "cell_type": "code",
   "execution_count": 40,
   "metadata": {},
   "outputs": [
    {
     "data": {
      "text/html": [
       "<div>\n",
       "<style scoped>\n",
       "    .dataframe tbody tr th:only-of-type {\n",
       "        vertical-align: middle;\n",
       "    }\n",
       "\n",
       "    .dataframe tbody tr th {\n",
       "        vertical-align: top;\n",
       "    }\n",
       "\n",
       "    .dataframe thead th {\n",
       "        text-align: right;\n",
       "    }\n",
       "</style>\n",
       "<table border=\"1\" class=\"dataframe\">\n",
       "  <thead>\n",
       "    <tr style=\"text-align: right;\">\n",
       "      <th></th>\n",
       "      <th>id</th>\n",
       "      <th>rel_id</th>\n",
       "      <th>lang</th>\n",
       "      <th>prob_mean</th>\n",
       "      <th>prob_std</th>\n",
       "    </tr>\n",
       "  </thead>\n",
       "  <tbody>\n",
       "    <tr>\n",
       "      <th>0</th>\n",
       "      <td>50259</td>\n",
       "      <td>0</td>\n",
       "      <td>en</td>\n",
       "      <td>0.079624</td>\n",
       "      <td>0.090021</td>\n",
       "    </tr>\n",
       "    <tr>\n",
       "      <th>3</th>\n",
       "      <td>50262</td>\n",
       "      <td>3</td>\n",
       "      <td>es</td>\n",
       "      <td>0.075314</td>\n",
       "      <td>0.143020</td>\n",
       "    </tr>\n",
       "    <tr>\n",
       "      <th>59</th>\n",
       "      <td>50318</td>\n",
       "      <td>59</td>\n",
       "      <td>sw</td>\n",
       "      <td>0.057751</td>\n",
       "      <td>0.140158</td>\n",
       "    </tr>\n",
       "    <tr>\n",
       "      <th>63</th>\n",
       "      <td>50322</td>\n",
       "      <td>63</td>\n",
       "      <td>si</td>\n",
       "      <td>0.051566</td>\n",
       "      <td>0.106907</td>\n",
       "    </tr>\n",
       "    <tr>\n",
       "      <th>13</th>\n",
       "      <td>50272</td>\n",
       "      <td>13</td>\n",
       "      <td>ar</td>\n",
       "      <td>0.048845</td>\n",
       "      <td>0.119238</td>\n",
       "    </tr>\n",
       "    <tr>\n",
       "      <th>...</th>\n",
       "      <td>...</td>\n",
       "      <td>...</td>\n",
       "      <td>...</td>\n",
       "      <td>...</td>\n",
       "      <td>...</td>\n",
       "    </tr>\n",
       "    <tr>\n",
       "      <th>86</th>\n",
       "      <td>50345</td>\n",
       "      <td>86</td>\n",
       "      <td>lb</td>\n",
       "      <td>0.000058</td>\n",
       "      <td>0.000226</td>\n",
       "    </tr>\n",
       "    <tr>\n",
       "      <th>90</th>\n",
       "      <td>50349</td>\n",
       "      <td>90</td>\n",
       "      <td>mg</td>\n",
       "      <td>0.000049</td>\n",
       "      <td>0.000090</td>\n",
       "    </tr>\n",
       "    <tr>\n",
       "      <th>82</th>\n",
       "      <td>50341</td>\n",
       "      <td>82</td>\n",
       "      <td>tk</td>\n",
       "      <td>0.000010</td>\n",
       "      <td>0.000016</td>\n",
       "    </tr>\n",
       "    <tr>\n",
       "      <th>78</th>\n",
       "      <td>50337</td>\n",
       "      <td>78</td>\n",
       "      <td>uz</td>\n",
       "      <td>0.000009</td>\n",
       "      <td>0.000034</td>\n",
       "    </tr>\n",
       "    <tr>\n",
       "      <th>96</th>\n",
       "      <td>50355</td>\n",
       "      <td>96</td>\n",
       "      <td>ba</td>\n",
       "      <td>0.000009</td>\n",
       "      <td>0.000013</td>\n",
       "    </tr>\n",
       "  </tbody>\n",
       "</table>\n",
       "<p>99 rows × 5 columns</p>\n",
       "</div>"
      ],
      "text/plain": [
       "       id  rel_id lang  prob_mean  prob_std\n",
       "0   50259       0   en   0.079624  0.090021\n",
       "3   50262       3   es   0.075314  0.143020\n",
       "59  50318      59   sw   0.057751  0.140158\n",
       "63  50322      63   si   0.051566  0.106907\n",
       "13  50272      13   ar   0.048845  0.119238\n",
       "..    ...     ...  ...        ...       ...\n",
       "86  50345      86   lb   0.000058  0.000226\n",
       "90  50349      90   mg   0.000049  0.000090\n",
       "82  50341      82   tk   0.000010  0.000016\n",
       "78  50337      78   uz   0.000009  0.000034\n",
       "96  50355      96   ba   0.000009  0.000013\n",
       "\n",
       "[99 rows x 5 columns]"
      ]
     },
     "execution_count": 40,
     "metadata": {},
     "output_type": "execute_result"
    }
   ],
   "source": [
    "lid_df.sort_values('prob_mean', ascending=False)"
   ]
  }
 ],
 "metadata": {
  "kernelspec": {
   "display_name": "Python 3",
   "language": "python",
   "name": "python3"
  },
  "language_info": {
   "codemirror_mode": {
    "name": "ipython",
    "version": 3
   },
   "file_extension": ".py",
   "mimetype": "text/x-python",
   "name": "python",
   "nbconvert_exporter": "python",
   "pygments_lexer": "ipython3",
   "version": "3.9.19"
  }
 },
 "nbformat": 4,
 "nbformat_minor": 2
}
