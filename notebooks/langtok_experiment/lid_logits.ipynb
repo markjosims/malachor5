{
 "cells": [
  {
   "cell_type": "code",
   "execution_count": 1,
   "metadata": {},
   "outputs": [],
   "source": [
    "import torch\n",
    "import json\n",
    "import pandas as pd\n",
    "with open('../../meta/whisper_special_tokens.json') as f:\n",
    "    SPECIAL_TOKENS = json.load(f)\n",
    "LANG_TOKENS = SPECIAL_TOKENS['lang']\n",
    "LANG_TOKEN_IDS = [lang_obj['id'] for lang_obj in LANG_TOKENS.values()]\n",
    "MIN_LANG_ID = min(LANG_TOKEN_IDS)"
   ]
  },
  {
   "cell_type": "code",
   "execution_count": 2,
   "metadata": {},
   "outputs": [
    {
     "data": {
      "text/html": [
       "<div>\n",
       "<style scoped>\n",
       "    .dataframe tbody tr th:only-of-type {\n",
       "        vertical-align: middle;\n",
       "    }\n",
       "\n",
       "    .dataframe tbody tr th {\n",
       "        vertical-align: top;\n",
       "    }\n",
       "\n",
       "    .dataframe thead th {\n",
       "        text-align: right;\n",
       "    }\n",
       "</style>\n",
       "<table border=\"1\" class=\"dataframe\">\n",
       "  <thead>\n",
       "    <tr style=\"text-align: right;\">\n",
       "      <th></th>\n",
       "      <th>id</th>\n",
       "      <th>rel_id</th>\n",
       "      <th>lang</th>\n",
       "    </tr>\n",
       "  </thead>\n",
       "  <tbody>\n",
       "    <tr>\n",
       "      <th>0</th>\n",
       "      <td>50259</td>\n",
       "      <td>0</td>\n",
       "      <td>en</td>\n",
       "    </tr>\n",
       "    <tr>\n",
       "      <th>1</th>\n",
       "      <td>50260</td>\n",
       "      <td>1</td>\n",
       "      <td>zh</td>\n",
       "    </tr>\n",
       "    <tr>\n",
       "      <th>2</th>\n",
       "      <td>50261</td>\n",
       "      <td>2</td>\n",
       "      <td>de</td>\n",
       "    </tr>\n",
       "    <tr>\n",
       "      <th>3</th>\n",
       "      <td>50262</td>\n",
       "      <td>3</td>\n",
       "      <td>es</td>\n",
       "    </tr>\n",
       "    <tr>\n",
       "      <th>4</th>\n",
       "      <td>50263</td>\n",
       "      <td>4</td>\n",
       "      <td>ru</td>\n",
       "    </tr>\n",
       "    <tr>\n",
       "      <th>...</th>\n",
       "      <td>...</td>\n",
       "      <td>...</td>\n",
       "      <td>...</td>\n",
       "    </tr>\n",
       "    <tr>\n",
       "      <th>94</th>\n",
       "      <td>50353</td>\n",
       "      <td>94</td>\n",
       "      <td>ln</td>\n",
       "    </tr>\n",
       "    <tr>\n",
       "      <th>95</th>\n",
       "      <td>50354</td>\n",
       "      <td>95</td>\n",
       "      <td>ha</td>\n",
       "    </tr>\n",
       "    <tr>\n",
       "      <th>96</th>\n",
       "      <td>50355</td>\n",
       "      <td>96</td>\n",
       "      <td>ba</td>\n",
       "    </tr>\n",
       "    <tr>\n",
       "      <th>97</th>\n",
       "      <td>50356</td>\n",
       "      <td>97</td>\n",
       "      <td>jw</td>\n",
       "    </tr>\n",
       "    <tr>\n",
       "      <th>98</th>\n",
       "      <td>50357</td>\n",
       "      <td>98</td>\n",
       "      <td>su</td>\n",
       "    </tr>\n",
       "  </tbody>\n",
       "</table>\n",
       "<p>99 rows × 3 columns</p>\n",
       "</div>"
      ],
      "text/plain": [
       "       id  rel_id lang\n",
       "0   50259       0   en\n",
       "1   50260       1   zh\n",
       "2   50261       2   de\n",
       "3   50262       3   es\n",
       "4   50263       4   ru\n",
       "..    ...     ...  ...\n",
       "94  50353      94   ln\n",
       "95  50354      95   ha\n",
       "96  50355      96   ba\n",
       "97  50356      97   jw\n",
       "98  50357      98   su\n",
       "\n",
       "[99 rows x 3 columns]"
      ]
     },
     "execution_count": 2,
     "metadata": {},
     "output_type": "execute_result"
    }
   ],
   "source": [
    "lid_df = pd.DataFrame(\n",
    "    {\n",
    "        'id': lang_obj['id'],\n",
    "        'rel_id': lang_obj['id']-MIN_LANG_ID,\n",
    "        'lang': lang,\n",
    "    } for lang, lang_obj in LANG_TOKENS.items()\n",
    ")\n",
    "lid_df"
   ]
  },
  {
   "cell_type": "code",
   "execution_count": 12,
   "metadata": {},
   "outputs": [
    {
     "name": "stderr",
     "output_type": "stream",
     "text": [
      "C:\\Users\\marks\\AppData\\Local\\Temp\\ipykernel_16920\\3966952510.py:2: FutureWarning: You are using `torch.load` with `weights_only=False` (the current default value), which uses the default pickle module implicitly. It is possible to construct malicious pickle data which will execute arbitrary code during unpickling (See https://github.com/pytorch/pytorch/blob/main/SECURITY.md#untrusted-models for more details). In a future release, the default value for `weights_only` will be flipped to `True`. This limits the functions that could be executed during unpickling. Arbitrary objects will no longer be allowed to be loaded via this mode unless they are explicitly allowlisted by the user via `torch.serialization.add_safe_globals`. We recommend you start setting `weights_only=True` for any use case where you don't have full control of the loaded file. Please open an issue on GitHub for any issues related to this experimental feature.\n",
      "  lid_probs = torch.load(lid_logits_path)\n"
     ]
    },
    {
     "data": {
      "text/plain": [
       "99"
      ]
     },
     "execution_count": 12,
     "metadata": {},
     "output_type": "execute_result"
    }
   ],
   "source": [
    "lid_logits_path = '../../data/tira-clean-split_lid_logits.pt'\n",
    "lid_probs = torch.load(lid_logits_path)\n",
    "len(lid_probs)"
   ]
  },
  {
   "cell_type": "code",
   "execution_count": 13,
   "metadata": {},
   "outputs": [
    {
     "data": {
      "text/plain": [
       "torch.Size([16384])"
      ]
     },
     "execution_count": 13,
     "metadata": {},
     "output_type": "execute_result"
    }
   ],
   "source": [
    "lid_probs['en'].shape"
   ]
  },
  {
   "cell_type": "code",
   "execution_count": 14,
   "metadata": {},
   "outputs": [
    {
     "data": {
      "text/plain": [
       "tensor([[0., 0., 0.,  ..., 0., 0., 0.],\n",
       "        [0., 0., 0.,  ..., 0., 0., 0.],\n",
       "        [0., 0., 0.,  ..., 0., 0., 0.],\n",
       "        ...,\n",
       "        [0., 0., 0.,  ..., 0., 0., 0.],\n",
       "        [0., 0., 0.,  ..., 0., 0., 0.],\n",
       "        [0., 0., 0.,  ..., 0., 0., 0.]])"
      ]
     },
     "execution_count": 14,
     "metadata": {},
     "output_type": "execute_result"
    }
   ],
   "source": [
    "prob_mat = torch.zeros(16384, 99)\n",
    "prob_mat"
   ]
  },
  {
   "cell_type": "code",
   "execution_count": 15,
   "metadata": {},
   "outputs": [],
   "source": [
    "for lang, prob_tensor in lid_probs.items():\n",
    "    lang_id=LANG_TOKENS[lang]['id']-MIN_LANG_ID\n",
    "    prob_mat[:,lang_id]=prob_tensor"
   ]
  },
  {
   "cell_type": "code",
   "execution_count": 16,
   "metadata": {},
   "outputs": [],
   "source": [
    "lid_df['prob_mean']=prob_mat.mean(dim=0)\n",
    "lid_df['prob_std']=prob_mat.std(dim=0)"
   ]
  },
  {
   "cell_type": "code",
   "execution_count": 18,
   "metadata": {},
   "outputs": [
    {
     "data": {
      "text/html": [
       "<div>\n",
       "<style scoped>\n",
       "    .dataframe tbody tr th:only-of-type {\n",
       "        vertical-align: middle;\n",
       "    }\n",
       "\n",
       "    .dataframe tbody tr th {\n",
       "        vertical-align: top;\n",
       "    }\n",
       "\n",
       "    .dataframe thead th {\n",
       "        text-align: right;\n",
       "    }\n",
       "</style>\n",
       "<table border=\"1\" class=\"dataframe\">\n",
       "  <thead>\n",
       "    <tr style=\"text-align: right;\">\n",
       "      <th></th>\n",
       "      <th>id</th>\n",
       "      <th>rel_id</th>\n",
       "      <th>lang</th>\n",
       "      <th>prob_mean</th>\n",
       "      <th>prob_std</th>\n",
       "    </tr>\n",
       "  </thead>\n",
       "  <tbody>\n",
       "    <tr>\n",
       "      <th>0</th>\n",
       "      <td>50259</td>\n",
       "      <td>0</td>\n",
       "      <td>en</td>\n",
       "      <td>0.079624</td>\n",
       "      <td>0.090021</td>\n",
       "    </tr>\n",
       "    <tr>\n",
       "      <th>3</th>\n",
       "      <td>50262</td>\n",
       "      <td>3</td>\n",
       "      <td>es</td>\n",
       "      <td>0.075314</td>\n",
       "      <td>0.143020</td>\n",
       "    </tr>\n",
       "    <tr>\n",
       "      <th>59</th>\n",
       "      <td>50318</td>\n",
       "      <td>59</td>\n",
       "      <td>sw</td>\n",
       "      <td>0.057751</td>\n",
       "      <td>0.140158</td>\n",
       "    </tr>\n",
       "    <tr>\n",
       "      <th>63</th>\n",
       "      <td>50322</td>\n",
       "      <td>63</td>\n",
       "      <td>si</td>\n",
       "      <td>0.051566</td>\n",
       "      <td>0.106907</td>\n",
       "    </tr>\n",
       "    <tr>\n",
       "      <th>13</th>\n",
       "      <td>50272</td>\n",
       "      <td>13</td>\n",
       "      <td>ar</td>\n",
       "      <td>0.048845</td>\n",
       "      <td>0.119238</td>\n",
       "    </tr>\n",
       "    <tr>\n",
       "      <th>37</th>\n",
       "      <td>50296</td>\n",
       "      <td>37</td>\n",
       "      <td>ml</td>\n",
       "      <td>0.043713</td>\n",
       "      <td>0.144792</td>\n",
       "    </tr>\n",
       "    <tr>\n",
       "      <th>22</th>\n",
       "      <td>50281</td>\n",
       "      <td>22</td>\n",
       "      <td>el</td>\n",
       "      <td>0.033359</td>\n",
       "      <td>0.127800</td>\n",
       "    </tr>\n",
       "    <tr>\n",
       "      <th>89</th>\n",
       "      <td>50348</td>\n",
       "      <td>89</td>\n",
       "      <td>tl</td>\n",
       "      <td>0.029087</td>\n",
       "      <td>0.077079</td>\n",
       "    </tr>\n",
       "    <tr>\n",
       "      <th>15</th>\n",
       "      <td>50274</td>\n",
       "      <td>15</td>\n",
       "      <td>it</td>\n",
       "      <td>0.028131</td>\n",
       "      <td>0.082246</td>\n",
       "    </tr>\n",
       "    <tr>\n",
       "      <th>40</th>\n",
       "      <td>50299</td>\n",
       "      <td>40</td>\n",
       "      <td>te</td>\n",
       "      <td>0.027548</td>\n",
       "      <td>0.077354</td>\n",
       "    </tr>\n",
       "  </tbody>\n",
       "</table>\n",
       "</div>"
      ],
      "text/plain": [
       "       id  rel_id lang  prob_mean  prob_std\n",
       "0   50259       0   en   0.079624  0.090021\n",
       "3   50262       3   es   0.075314  0.143020\n",
       "59  50318      59   sw   0.057751  0.140158\n",
       "63  50322      63   si   0.051566  0.106907\n",
       "13  50272      13   ar   0.048845  0.119238\n",
       "37  50296      37   ml   0.043713  0.144792\n",
       "22  50281      22   el   0.033359  0.127800\n",
       "89  50348      89   tl   0.029087  0.077079\n",
       "15  50274      15   it   0.028131  0.082246\n",
       "40  50299      40   te   0.027548  0.077354"
      ]
     },
     "execution_count": 18,
     "metadata": {},
     "output_type": "execute_result"
    }
   ],
   "source": [
    "lid_df.sort_values('prob_mean', ascending=False)[:10]"
   ]
  }
 ],
 "metadata": {
  "kernelspec": {
   "display_name": ".venv",
   "language": "python",
   "name": "python3"
  },
  "language_info": {
   "codemirror_mode": {
    "name": "ipython",
    "version": 3
   },
   "file_extension": ".py",
   "mimetype": "text/x-python",
   "name": "python",
   "nbconvert_exporter": "python",
   "pygments_lexer": "ipython3",
   "version": "3.9.13"
  }
 },
 "nbformat": 4,
 "nbformat_minor": 2
}
