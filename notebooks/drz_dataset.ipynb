{
 "cells": [
  {
   "cell_type": "code",
   "execution_count": 21,
   "metadata": {},
   "outputs": [],
   "source": [
    "import pandas as pd\n",
    "import shutil\n",
    "from datetime import datetime"
   ]
  },
  {
   "cell_type": "code",
   "execution_count": 22,
   "metadata": {},
   "outputs": [
    {
     "data": {
      "text/html": [
       "<div>\n",
       "<style scoped>\n",
       "    .dataframe tbody tr th:only-of-type {\n",
       "        vertical-align: middle;\n",
       "    }\n",
       "\n",
       "    .dataframe tbody tr th {\n",
       "        vertical-align: top;\n",
       "    }\n",
       "\n",
       "    .dataframe thead th {\n",
       "        text-align: right;\n",
       "    }\n",
       "</style>\n",
       "<table border=\"1\" class=\"dataframe\">\n",
       "  <thead>\n",
       "    <tr style=\"text-align: right;\">\n",
       "      <th></th>\n",
       "      <th>start</th>\n",
       "      <th>end</th>\n",
       "      <th>text</th>\n",
       "      <th>tier</th>\n",
       "      <th>wav_source</th>\n",
       "      <th>eaf_name</th>\n",
       "    </tr>\n",
       "  </thead>\n",
       "  <tbody>\n",
       "    <tr>\n",
       "      <th>0</th>\n",
       "      <td>44650.0</td>\n",
       "      <td>47200.0</td>\n",
       "      <td>kúkù kàpɔ́ ŋɔ́mɔ̀</td>\n",
       "      <td>IPA Transcription</td>\n",
       "      <td>/G:/Shared drives/Tira/Recordings/2022-10-21-T...</td>\n",
       "      <td>/Users/markjos/Google Drive/My Drive/Speechpro...</td>\n",
       "    </tr>\n",
       "    <tr>\n",
       "      <th>1</th>\n",
       "      <td>49505.0</td>\n",
       "      <td>51325.0</td>\n",
       "      <td>kúkù kàpɔ́ ŋɔ́mɔ̀</td>\n",
       "      <td>IPA Transcription</td>\n",
       "      <td>/G:/Shared drives/Tira/Recordings/2022-10-21-T...</td>\n",
       "      <td>/Users/markjos/Google Drive/My Drive/Speechpro...</td>\n",
       "    </tr>\n",
       "    <tr>\n",
       "      <th>2</th>\n",
       "      <td>82735.0</td>\n",
       "      <td>84685.0</td>\n",
       "      <td>kúkù kápɛ̀ ŋɔ̀mɔ̀</td>\n",
       "      <td>IPA Transcription</td>\n",
       "      <td>/G:/Shared drives/Tira/Recordings/2022-10-21-T...</td>\n",
       "      <td>/Users/markjos/Google Drive/My Drive/Speechpro...</td>\n",
       "    </tr>\n",
       "    <tr>\n",
       "      <th>3</th>\n",
       "      <td>87150.0</td>\n",
       "      <td>88890.0</td>\n",
       "      <td>kúkù kápɛ̀ ŋɔ̀mɔ̀</td>\n",
       "      <td>IPA Transcription</td>\n",
       "      <td>/G:/Shared drives/Tira/Recordings/2022-10-21-T...</td>\n",
       "      <td>/Users/markjos/Google Drive/My Drive/Speechpro...</td>\n",
       "    </tr>\n",
       "    <tr>\n",
       "      <th>4</th>\n",
       "      <td>107860.0</td>\n",
       "      <td>109420.0</td>\n",
       "      <td>kúkù kâpɔ́ ŋɔ́mɔ̀</td>\n",
       "      <td>IPA Transcription</td>\n",
       "      <td>/G:/Shared drives/Tira/Recordings/2022-10-21-T...</td>\n",
       "      <td>/Users/markjos/Google Drive/My Drive/Speechpro...</td>\n",
       "    </tr>\n",
       "  </tbody>\n",
       "</table>\n",
       "</div>"
      ],
      "text/plain": [
       "      start       end                  text               tier  \\\n",
       "0   44650.0   47200.0  kúkù kàpɔ́ ŋɔ́mɔ̀  IPA Transcription   \n",
       "1   49505.0   51325.0  kúkù kàpɔ́ ŋɔ́mɔ̀  IPA Transcription   \n",
       "2   82735.0   84685.0  kúkù kápɛ̀ ŋɔ̀mɔ̀  IPA Transcription   \n",
       "3   87150.0   88890.0  kúkù kápɛ̀ ŋɔ̀mɔ̀  IPA Transcription   \n",
       "4  107860.0  109420.0  kúkù kâpɔ́ ŋɔ́mɔ̀  IPA Transcription   \n",
       "\n",
       "                                          wav_source  \\\n",
       "0  /G:/Shared drives/Tira/Recordings/2022-10-21-T...   \n",
       "1  /G:/Shared drives/Tira/Recordings/2022-10-21-T...   \n",
       "2  /G:/Shared drives/Tira/Recordings/2022-10-21-T...   \n",
       "3  /G:/Shared drives/Tira/Recordings/2022-10-21-T...   \n",
       "4  /G:/Shared drives/Tira/Recordings/2022-10-21-T...   \n",
       "\n",
       "                                            eaf_name  \n",
       "0  /Users/markjos/Google Drive/My Drive/Speechpro...  \n",
       "1  /Users/markjos/Google Drive/My Drive/Speechpro...  \n",
       "2  /Users/markjos/Google Drive/My Drive/Speechpro...  \n",
       "3  /Users/markjos/Google Drive/My Drive/Speechpro...  \n",
       "4  /Users/markjos/Google Drive/My Drive/Speechpro...  "
      ]
     },
     "execution_count": 22,
     "metadata": {},
     "output_type": "execute_result"
    }
   ],
   "source": [
    "drz_eaf_csv='../data/tira-drz/eaf_data.csv'\n",
    "df = pd.read_csv(drz_eaf_csv)\n",
    "df.head()"
   ]
  },
  {
   "cell_type": "code",
   "execution_count": 16,
   "metadata": {},
   "outputs": [
    {
     "data": {
      "text/plain": [
       "array(['IPA Transcription', 'Word', 'Translation', 'Annotation (other)',\n",
       "       'Gloss', 'Tira orthography', 'HIM', 'SHA', 'PET', 'NIN', 'MAR',\n",
       "       'MISC'], dtype=object)"
      ]
     },
     "execution_count": 16,
     "metadata": {},
     "output_type": "execute_result"
    }
   ],
   "source": [
    "df['tier'].unique()"
   ]
  },
  {
   "cell_type": "code",
   "execution_count": 18,
   "metadata": {},
   "outputs": [
    {
     "name": "stdout",
     "output_type": "stream",
     "text": [
      "(40304, 6)\n"
     ]
    },
    {
     "data": {
      "text/plain": [
       "(38828, 6)"
      ]
     },
     "execution_count": 18,
     "metadata": {},
     "output_type": "execute_result"
    }
   ],
   "source": [
    "print(df.shape)\n",
    "unneeded_tiers = ['Word', 'Annotation (other)', 'Gloss', 'Tira orthography']\n",
    "df = df[~df['tier'].isin(unneeded_tiers)]\n",
    "df.shape"
   ]
  },
  {
   "cell_type": "code",
   "execution_count": 20,
   "metadata": {},
   "outputs": [
    {
     "name": "stdout",
     "output_type": "stream",
     "text": [
      "(16931, 8)\n"
     ]
    },
    {
     "data": {
      "text/html": [
       "<div>\n",
       "<style scoped>\n",
       "    .dataframe tbody tr th:only-of-type {\n",
       "        vertical-align: middle;\n",
       "    }\n",
       "\n",
       "    .dataframe tbody tr th {\n",
       "        vertical-align: top;\n",
       "    }\n",
       "\n",
       "    .dataframe thead th {\n",
       "        text-align: right;\n",
       "    }\n",
       "</style>\n",
       "<table border=\"1\" class=\"dataframe\">\n",
       "  <thead>\n",
       "    <tr style=\"text-align: right;\">\n",
       "      <th></th>\n",
       "      <th>start</th>\n",
       "      <th>end</th>\n",
       "      <th>text</th>\n",
       "      <th>tier</th>\n",
       "      <th>wav_source</th>\n",
       "      <th>eaf_name</th>\n",
       "      <th>translation</th>\n",
       "      <th>human_transcription</th>\n",
       "    </tr>\n",
       "  </thead>\n",
       "  <tbody>\n",
       "    <tr>\n",
       "      <th>258</th>\n",
       "      <td>46273.0</td>\n",
       "      <td>48215.0</td>\n",
       "      <td>TIC</td>\n",
       "      <td>HIM</td>\n",
       "      <td>/Volumes/GoogleDrive/Shared drives/Tira/Record...</td>\n",
       "      <td>/Users/markjos/Google Drive/My Drive/Speechpro...</td>\n",
       "      <td>(you can say) ŋɛ́n ŋɔ̂ɽàt̪à nɛ̀ lə̀vɛ̌r</td>\n",
       "      <td></td>\n",
       "    </tr>\n",
       "    <tr>\n",
       "      <th>259</th>\n",
       "      <td>53609.0</td>\n",
       "      <td>55170.0</td>\n",
       "      <td>TIC</td>\n",
       "      <td>HIM</td>\n",
       "      <td>/Volumes/GoogleDrive/Shared drives/Tira/Record...</td>\n",
       "      <td>/Users/markjos/Google Drive/My Drive/Speechpro...</td>\n",
       "      <td>(yeah) ŋɛ́n ŋɔ̂ɽàt̪à nɛ̀ lə̀vɛ̌r</td>\n",
       "      <td></td>\n",
       "    </tr>\n",
       "    <tr>\n",
       "      <th>260</th>\n",
       "      <td>89735.0</td>\n",
       "      <td>91750.0</td>\n",
       "      <td>TIC</td>\n",
       "      <td>HIM</td>\n",
       "      <td>/Volumes/GoogleDrive/Shared drives/Tira/Record...</td>\n",
       "      <td>/Users/markjos/Google Drive/My Drive/Speechpro...</td>\n",
       "      <td>ŋɛ́n ŋɔ̂ɽàt̪ɔ́ nɛ̀ lə̀vɛ̌r</td>\n",
       "      <td></td>\n",
       "    </tr>\n",
       "    <tr>\n",
       "      <th>261</th>\n",
       "      <td>101726.0</td>\n",
       "      <td>104826.0</td>\n",
       "      <td>TIC</td>\n",
       "      <td>HIM</td>\n",
       "      <td>/Volumes/GoogleDrive/Shared drives/Tira/Record...</td>\n",
       "      <td>/Users/markjos/Google Drive/My Drive/Speechpro...</td>\n",
       "      <td>ŋɛ́n ŋɔ̂ɽàt̪ɔ́ nɛ̀ lə̀vɛ̀r</td>\n",
       "      <td></td>\n",
       "    </tr>\n",
       "    <tr>\n",
       "      <th>262</th>\n",
       "      <td>114226.0</td>\n",
       "      <td>116309.0</td>\n",
       "      <td>TIC</td>\n",
       "      <td>HIM</td>\n",
       "      <td>/Volumes/GoogleDrive/Shared drives/Tira/Record...</td>\n",
       "      <td>/Users/markjos/Google Drive/My Drive/Speechpro...</td>\n",
       "      <td>ŋɛ́n ŋɔ̂ɽàt̪ɔ́ nɛ̀ lə̀vɛ̀r</td>\n",
       "      <td></td>\n",
       "    </tr>\n",
       "  </tbody>\n",
       "</table>\n",
       "</div>"
      ],
      "text/plain": [
       "        start       end text tier  \\\n",
       "258   46273.0   48215.0  TIC  HIM   \n",
       "259   53609.0   55170.0  TIC  HIM   \n",
       "260   89735.0   91750.0  TIC  HIM   \n",
       "261  101726.0  104826.0  TIC  HIM   \n",
       "262  114226.0  116309.0  TIC  HIM   \n",
       "\n",
       "                                            wav_source  \\\n",
       "258  /Volumes/GoogleDrive/Shared drives/Tira/Record...   \n",
       "259  /Volumes/GoogleDrive/Shared drives/Tira/Record...   \n",
       "260  /Volumes/GoogleDrive/Shared drives/Tira/Record...   \n",
       "261  /Volumes/GoogleDrive/Shared drives/Tira/Record...   \n",
       "262  /Volumes/GoogleDrive/Shared drives/Tira/Record...   \n",
       "\n",
       "                                              eaf_name  \\\n",
       "258  /Users/markjos/Google Drive/My Drive/Speechpro...   \n",
       "259  /Users/markjos/Google Drive/My Drive/Speechpro...   \n",
       "260  /Users/markjos/Google Drive/My Drive/Speechpro...   \n",
       "261  /Users/markjos/Google Drive/My Drive/Speechpro...   \n",
       "262  /Users/markjos/Google Drive/My Drive/Speechpro...   \n",
       "\n",
       "                                   translation human_transcription  \n",
       "258  (you can say) ŋɛ́n ŋɔ̂ɽàt̪à nɛ̀ lə̀vɛ̌r                      \n",
       "259         (yeah) ŋɛ́n ŋɔ̂ɽàt̪à nɛ̀ lə̀vɛ̌r                      \n",
       "260                ŋɛ́n ŋɔ̂ɽàt̪ɔ́ nɛ̀ lə̀vɛ̌r                      \n",
       "261                ŋɛ́n ŋɔ̂ɽàt̪ɔ́ nɛ̀ lə̀vɛ̀r                      \n",
       "262                ŋɛ́n ŋɔ̂ɽàt̪ɔ́ nɛ̀ lə̀vɛ̀r                      "
      ]
     },
     "execution_count": 20,
     "metadata": {},
     "output_type": "execute_result"
    }
   ],
   "source": [
    "# find intervals where a diarization label has an existing transcription and translation\n",
    "df_wide = df.copy()\n",
    "df_wide['translation']=''\n",
    "df_wide['human_transcription']=''\n",
    "# slice all rows containing a transcription or translation interval\n",
    "text_intervals = df['tier'].isin(['IPA Transcription', 'Translation'])\n",
    "for i, row in df[text_intervals].iterrows():\n",
    "    tier = row['tier']\n",
    "    eaf_name = row['eaf_name']\n",
    "    start = row['start']\n",
    "    text = row['text']\n",
    "\n",
    "    aligned_start = (df_wide['eaf_name']==eaf_name) & (df_wide['start']==start) & (df['tier']=='HIM')\n",
    "    if df_wide[aligned_start].empty:\n",
    "        continue\n",
    "    assert len(df[aligned_start])==1, df[aligned_start]\n",
    "\n",
    "    if tier=='IPA transcription':\n",
    "        df_wide.loc[aligned_start,'human_transcription']=text\n",
    "    else:\n",
    "        df_wide.loc[aligned_start,'translation']=text\n",
    "df_wide = df_wide[~text_intervals]\n",
    "print(df_wide.shape)\n",
    "df_wide.head()"
   ]
  },
  {
   "cell_type": "code",
   "execution_count": 26,
   "metadata": {},
   "outputs": [
    {
     "data": {
      "text/plain": [
       "'2024-07-25-17-16-30-474521'"
      ]
     },
     "execution_count": 26,
     "metadata": {},
     "output_type": "execute_result"
    }
   ],
   "source": [
    "now = datetime.now()\n",
    "now_fp_friendly = str(now).replace(' ', '-')\n",
    "now_fp_friendly = str(now_fp_friendly).replace(':', '-')\n",
    "now_fp_friendly = str(now_fp_friendly).replace('.', '-')\n",
    "backup_path=drz_eaf_csv.replace('.csv', now_fp_friendly+'.csv')\n",
    "shutil.move(drz_eaf_csv, backup_path)\n",
    "df_wide.to_csv(drz_eaf_csv, index=False)"
   ]
  }
 ],
 "metadata": {
  "kernelspec": {
   "display_name": "Python 3",
   "language": "python",
   "name": "python3"
  },
  "language_info": {
   "codemirror_mode": {
    "name": "ipython",
    "version": 3
   },
   "file_extension": ".py",
   "mimetype": "text/x-python",
   "name": "python",
   "nbconvert_exporter": "python",
   "pygments_lexer": "ipython3",
   "version": "3.9.19"
  }
 },
 "nbformat": 4,
 "nbformat_minor": 2
}
