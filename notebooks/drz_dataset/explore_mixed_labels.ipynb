{
 "cells": [
  {
   "cell_type": "code",
   "execution_count": 2,
   "metadata": {},
   "outputs": [],
   "source": [
    "import pandas as pd"
   ]
  },
  {
   "cell_type": "code",
   "execution_count": 3,
   "metadata": {},
   "outputs": [
    {
     "data": {
      "text/html": [
       "<div>\n",
       "<style scoped>\n",
       "    .dataframe tbody tr th:only-of-type {\n",
       "        vertical-align: middle;\n",
       "    }\n",
       "\n",
       "    .dataframe tbody tr th {\n",
       "        vertical-align: top;\n",
       "    }\n",
       "\n",
       "    .dataframe thead th {\n",
       "        text-align: right;\n",
       "    }\n",
       "</style>\n",
       "<table border=\"1\" class=\"dataframe\">\n",
       "  <thead>\n",
       "    <tr style=\"text-align: right;\">\n",
       "      <th></th>\n",
       "      <th>start</th>\n",
       "      <th>end</th>\n",
       "      <th>text</th>\n",
       "      <th>tier</th>\n",
       "      <th>wav_source</th>\n",
       "      <th>eaf_name</th>\n",
       "      <th>translation</th>\n",
       "      <th>human_transcription</th>\n",
       "      <th>wav_clip</th>\n",
       "      <th>wav_source_macbook_path</th>\n",
       "      <th>wav_clip_macbook_path</th>\n",
       "      <th>file_name</th>\n",
       "      <th>label</th>\n",
       "    </tr>\n",
       "  </thead>\n",
       "  <tbody>\n",
       "    <tr>\n",
       "      <th>0</th>\n",
       "      <td>46273</td>\n",
       "      <td>48215</td>\n",
       "      <td>TIC</td>\n",
       "      <td>HIM</td>\n",
       "      <td>HH20220220-2.wav</td>\n",
       "      <td>HH20220220-2-AC.eaf</td>\n",
       "      <td>(you can say) the dog will run in the field</td>\n",
       "      <td>(you can say) ŋɛ́n ŋɔ̂ɽàt̪à nɛ̀ lə̀vɛ̌r</td>\n",
       "      <td>HH20220220-2_m00s46ms273_m00s48ms215.wav</td>\n",
       "      <td>/Users/markjos/Library/CloudStorage/GoogleDriv...</td>\n",
       "      <td>/Users/markjos/projects/malachor5/data/tira-dr...</td>\n",
       "      <td>wav/HH20220220-2_m00s46ms273_m00s48ms215.wav</td>\n",
       "      <td>0</td>\n",
       "    </tr>\n",
       "    <tr>\n",
       "      <th>1</th>\n",
       "      <td>53609</td>\n",
       "      <td>55170</td>\n",
       "      <td>TIC</td>\n",
       "      <td>HIM</td>\n",
       "      <td>HH20220220-2.wav</td>\n",
       "      <td>HH20220220-2-AC.eaf</td>\n",
       "      <td>(yeah) the dog will run in the field</td>\n",
       "      <td>(yeah) ŋɛ́n ŋɔ̂ɽàt̪à nɛ̀ lə̀vɛ̌r</td>\n",
       "      <td>HH20220220-2_m00s53ms609_m00s55ms170.wav</td>\n",
       "      <td>/Users/markjos/Library/CloudStorage/GoogleDriv...</td>\n",
       "      <td>/Users/markjos/projects/malachor5/data/tira-dr...</td>\n",
       "      <td>wav/HH20220220-2_m00s53ms609_m00s55ms170.wav</td>\n",
       "      <td>0</td>\n",
       "    </tr>\n",
       "    <tr>\n",
       "      <th>2</th>\n",
       "      <td>89735</td>\n",
       "      <td>91750</td>\n",
       "      <td>TIC</td>\n",
       "      <td>HIM</td>\n",
       "      <td>HH20220220-2.wav</td>\n",
       "      <td>HH20220220-2-AC.eaf</td>\n",
       "      <td>the dog will run in the field (far)</td>\n",
       "      <td>ŋɛ́n ŋɔ̂ɽàt̪ɔ́ nɛ̀ lə̀vɛ̌r</td>\n",
       "      <td>HH20220220-2_m01s29ms735_m01s31ms750.wav</td>\n",
       "      <td>/Users/markjos/Library/CloudStorage/GoogleDriv...</td>\n",
       "      <td>/Users/markjos/projects/malachor5/data/tira-dr...</td>\n",
       "      <td>wav/HH20220220-2_m01s29ms735_m01s31ms750.wav</td>\n",
       "      <td>0</td>\n",
       "    </tr>\n",
       "    <tr>\n",
       "      <th>3</th>\n",
       "      <td>101726</td>\n",
       "      <td>104826</td>\n",
       "      <td>TIC</td>\n",
       "      <td>HIM</td>\n",
       "      <td>HH20220220-2.wav</td>\n",
       "      <td>HH20220220-2-AC.eaf</td>\n",
       "      <td>the dog will run in the field (far)</td>\n",
       "      <td>ŋɛ́n ŋɔ̂ɽàt̪ɔ́ nɛ̀ lə̀vɛ̀r</td>\n",
       "      <td>HH20220220-2_m01s41ms726_m01s44ms826.wav</td>\n",
       "      <td>/Users/markjos/Library/CloudStorage/GoogleDriv...</td>\n",
       "      <td>/Users/markjos/projects/malachor5/data/tira-dr...</td>\n",
       "      <td>wav/HH20220220-2_m01s41ms726_m01s44ms826.wav</td>\n",
       "      <td>0</td>\n",
       "    </tr>\n",
       "    <tr>\n",
       "      <th>4</th>\n",
       "      <td>114226</td>\n",
       "      <td>116309</td>\n",
       "      <td>TIC</td>\n",
       "      <td>HIM</td>\n",
       "      <td>HH20220220-2.wav</td>\n",
       "      <td>HH20220220-2-AC.eaf</td>\n",
       "      <td>the dog will run in the field (far)</td>\n",
       "      <td>ŋɛ́n ŋɔ̂ɽàt̪ɔ́ nɛ̀ lə̀vɛ̀r</td>\n",
       "      <td>HH20220220-2_m01s54ms226_m01s56ms309.wav</td>\n",
       "      <td>/Users/markjos/Library/CloudStorage/GoogleDriv...</td>\n",
       "      <td>/Users/markjos/projects/malachor5/data/tira-dr...</td>\n",
       "      <td>wav/HH20220220-2_m01s54ms226_m01s56ms309.wav</td>\n",
       "      <td>0</td>\n",
       "    </tr>\n",
       "  </tbody>\n",
       "</table>\n",
       "</div>"
      ],
      "text/plain": [
       "    start     end text tier        wav_source             eaf_name  \\\n",
       "0   46273   48215  TIC  HIM  HH20220220-2.wav  HH20220220-2-AC.eaf   \n",
       "1   53609   55170  TIC  HIM  HH20220220-2.wav  HH20220220-2-AC.eaf   \n",
       "2   89735   91750  TIC  HIM  HH20220220-2.wav  HH20220220-2-AC.eaf   \n",
       "3  101726  104826  TIC  HIM  HH20220220-2.wav  HH20220220-2-AC.eaf   \n",
       "4  114226  116309  TIC  HIM  HH20220220-2.wav  HH20220220-2-AC.eaf   \n",
       "\n",
       "                                   translation  \\\n",
       "0  (you can say) the dog will run in the field   \n",
       "1         (yeah) the dog will run in the field   \n",
       "2          the dog will run in the field (far)   \n",
       "3          the dog will run in the field (far)   \n",
       "4          the dog will run in the field (far)   \n",
       "\n",
       "                         human_transcription  \\\n",
       "0  (you can say) ŋɛ́n ŋɔ̂ɽàt̪à nɛ̀ lə̀vɛ̌r   \n",
       "1         (yeah) ŋɛ́n ŋɔ̂ɽàt̪à nɛ̀ lə̀vɛ̌r   \n",
       "2                ŋɛ́n ŋɔ̂ɽàt̪ɔ́ nɛ̀ lə̀vɛ̌r   \n",
       "3                ŋɛ́n ŋɔ̂ɽàt̪ɔ́ nɛ̀ lə̀vɛ̀r   \n",
       "4                ŋɛ́n ŋɔ̂ɽàt̪ɔ́ nɛ̀ lə̀vɛ̀r   \n",
       "\n",
       "                                   wav_clip  \\\n",
       "0  HH20220220-2_m00s46ms273_m00s48ms215.wav   \n",
       "1  HH20220220-2_m00s53ms609_m00s55ms170.wav   \n",
       "2  HH20220220-2_m01s29ms735_m01s31ms750.wav   \n",
       "3  HH20220220-2_m01s41ms726_m01s44ms826.wav   \n",
       "4  HH20220220-2_m01s54ms226_m01s56ms309.wav   \n",
       "\n",
       "                             wav_source_macbook_path  \\\n",
       "0  /Users/markjos/Library/CloudStorage/GoogleDriv...   \n",
       "1  /Users/markjos/Library/CloudStorage/GoogleDriv...   \n",
       "2  /Users/markjos/Library/CloudStorage/GoogleDriv...   \n",
       "3  /Users/markjos/Library/CloudStorage/GoogleDriv...   \n",
       "4  /Users/markjos/Library/CloudStorage/GoogleDriv...   \n",
       "\n",
       "                               wav_clip_macbook_path  \\\n",
       "0  /Users/markjos/projects/malachor5/data/tira-dr...   \n",
       "1  /Users/markjos/projects/malachor5/data/tira-dr...   \n",
       "2  /Users/markjos/projects/malachor5/data/tira-dr...   \n",
       "3  /Users/markjos/projects/malachor5/data/tira-dr...   \n",
       "4  /Users/markjos/projects/malachor5/data/tira-dr...   \n",
       "\n",
       "                                      file_name  label  \n",
       "0  wav/HH20220220-2_m00s46ms273_m00s48ms215.wav      0  \n",
       "1  wav/HH20220220-2_m00s53ms609_m00s55ms170.wav      0  \n",
       "2  wav/HH20220220-2_m01s29ms735_m01s31ms750.wav      0  \n",
       "3  wav/HH20220220-2_m01s41ms726_m01s44ms826.wav      0  \n",
       "4  wav/HH20220220-2_m01s54ms226_m01s56ms309.wav      0  "
      ]
     },
     "execution_count": 3,
     "metadata": {},
     "output_type": "execute_result"
    }
   ],
   "source": [
    "drz_metadata_path = '../../data/hf-datasets/tira-drz/metadata.csv'\n",
    "df = pd.read_csv(drz_metadata_path)\n",
    "df.head()"
   ]
  },
  {
   "cell_type": "code",
   "execution_count": 4,
   "metadata": {},
   "outputs": [
    {
     "data": {
      "text/plain": [
       "array(['TIC', 'ENG', 'NOLING', 'ENGTIC', 'ENG?', 'NOLING?', 'ENF', 'TIC?',\n",
       "       'E NG', 'NOLLING', 'ENGTIC?', 'ENGT', 'EN G', 'ENGARA',\n",
       "       'SAME WITH udʒi', 'ARA', 'ENg', 'TIC\\\\',\n",
       "       'yeah ðə̀və̀lèðɔ̀ is correct one',\n",
       "       \"okay so I'm trying to say like t̪ə̀və̀lɛ̀ðɔ́ŋ ùnɛ́rɛ̀ but if I say t̪ə̀və̀lɛ̀ðɔ́ŋ ùnɛ́rɛ̀ definitely we are talking about\",\n",
       "       '!!! NOLING?', 'ENG !!! \"ah\"', 'ENG + AR', 'AR', 'ENG ENG',\n",
       "       'ENG !!!', '!!!', 'NOLING!!!', '!!! arabic',\n",
       "       'ENG !!! with laughing',\n",
       "       'TIC !!! not completely sure if this is Sharon', 'TIC !!!', 'EG',\n",
       "       '!!! not sure what language', 'ENNG'], dtype=object)"
      ]
     },
     "execution_count": 4,
     "metadata": {},
     "output_type": "execute_result"
    }
   ],
   "source": [
    "df['text'].unique()"
   ]
  },
  {
   "cell_type": "markdown",
   "metadata": {},
   "source": [
    "## Sanitize mispelled labels"
   ]
  },
  {
   "cell_type": "code",
   "execution_count": 5,
   "metadata": {},
   "outputs": [
    {
     "name": "stdout",
     "output_type": "stream",
     "text": [
      "TIC\n",
      "ENG\n",
      "NOLING\n",
      "ENGTIC\n",
      "ENG?\n",
      "NOLING?\n",
      "TIC?\n",
      "NOLLING\n",
      "ENGTIC?\n",
      "ENGT\n",
      "SAME WITH udʒi\n",
      "yeah ðə̀və̀lèðɔ̀ is correct one\n",
      "okay so I'm trying to say like t̪ə̀və̀lɛ̀ðɔ́ŋ ùnɛ́rɛ̀ but if I say t̪ə̀və̀lɛ̀ðɔ́ŋ ùnɛ́rɛ̀ definitely we are talking about\n",
      "!!! NOLING?\n",
      "ENG !!! \"ah\"\n",
      "ENG !!!\n",
      "!!!\n",
      "NOLING!!!\n",
      "TIC !!! not completely sure if this is Sharon\n",
      "TIC !!!\n",
      "!!! not sure what language\n"
     ]
    }
   ],
   "source": [
    "eng_labels = [\n",
    "    'ENG', 'ENF', 'E NG', 'EN G', 'ENGARA', 'ARA', 'ENg', 'ENG + AR', 'AR', 'ENG ENG', '!!! arabic', 'ENG !!! with laughing', 'EG', 'ENNG'\n",
    "]\n",
    "tic_labels = [\n",
    "    'TIC', 'TIC\\\\'\n",
    "]\n",
    "df['sanitized_text']=df['text']\n",
    "df.loc[df['text'].isin(eng_labels), 'sanitized_text']='ENG'\n",
    "df.loc[df['text'].isin(tic_labels), 'sanitized_text']='TIC'\n",
    "for text in df['sanitized_text'].unique():\n",
    "    print(text)"
   ]
  },
  {
   "cell_type": "code",
   "execution_count": 6,
   "metadata": {},
   "outputs": [
    {
     "data": {
      "text/plain": [
       "sanitized_text\n",
       "TIC           7912\n",
       "ENG           4594\n",
       "NOLING         877\n",
       "ENGTIC         249\n",
       "ENG?             6\n",
       "!!!              6\n",
       "NOLING?          5\n",
       "TIC?             4\n",
       "ENG !!!          4\n",
       "NOLING!!!        2\n",
       "ENG !!! \"a       1\n",
       "TIC !!!          1\n",
       "TIC !!! no       1\n",
       "SAME WITH        1\n",
       "!!! NOLING       1\n",
       "okay so I'       1\n",
       "yeah ðə̀və       1\n",
       "ENGT             1\n",
       "ENGTIC?          1\n",
       "NOLLING          1\n",
       "!!! not su       1\n",
       "Name: count, dtype: int64"
      ]
     },
     "execution_count": 6,
     "metadata": {},
     "output_type": "execute_result"
    }
   ],
   "source": [
    "df['sanitized_text'].apply(lambda s: s[:10]).value_counts()"
   ]
  }
 ],
 "metadata": {
  "kernelspec": {
   "display_name": "Python 3",
   "language": "python",
   "name": "python3"
  },
  "language_info": {
   "codemirror_mode": {
    "name": "ipython",
    "version": 3
   },
   "file_extension": ".py",
   "mimetype": "text/x-python",
   "name": "python",
   "nbconvert_exporter": "python",
   "pygments_lexer": "ipython3",
   "version": "3.9.19"
  }
 },
 "nbformat": 4,
 "nbformat_minor": 2
}
