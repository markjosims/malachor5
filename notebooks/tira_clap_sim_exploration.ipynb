{
 "cells": [
  {
   "cell_type": "code",
   "execution_count": 1,
   "metadata": {},
   "outputs": [],
   "source": [
    "import pandas as pd\n",
    "import math\n",
    "from pydub import AudioSegment\n",
    "import matplotlib.pyplot as plt\n",
    "from glob import glob\n",
    "import os\n",
    "import shutil\n",
    "import torchaudio\n",
    "import torch"
   ]
  },
  {
   "cell_type": "code",
   "execution_count": 2,
   "metadata": {},
   "outputs": [
    {
     "data": {
      "text/html": [
       "<div>\n",
       "<style scoped>\n",
       "    .dataframe tbody tr th:only-of-type {\n",
       "        vertical-align: middle;\n",
       "    }\n",
       "\n",
       "    .dataframe tbody tr th {\n",
       "        vertical-align: top;\n",
       "    }\n",
       "\n",
       "    .dataframe thead th {\n",
       "        text-align: right;\n",
       "    }\n",
       "</style>\n",
       "<table border=\"1\" class=\"dataframe\">\n",
       "  <thead>\n",
       "    <tr style=\"text-align: right;\">\n",
       "      <th></th>\n",
       "      <th>start</th>\n",
       "      <th>end</th>\n",
       "      <th>transcription</th>\n",
       "      <th>eaf_source</th>\n",
       "      <th>wav_source</th>\n",
       "      <th>raw_transcription</th>\n",
       "      <th>clip</th>\n",
       "      <th>wav_rawpath</th>\n",
       "      <th>file_name</th>\n",
       "      <th>path</th>\n",
       "      <th>...</th>\n",
       "      <th>wada_snr</th>\n",
       "      <th>nist_stnr</th>\n",
       "      <th>speaker-diarization-3.1</th>\n",
       "      <th>voice-activity-detection</th>\n",
       "      <th>whisper-large-v3</th>\n",
       "      <th>clapipa-transcription-allosaurus</th>\n",
       "      <th>vad_s</th>\n",
       "      <th>drz_s</th>\n",
       "      <th>trans_len</th>\n",
       "      <th>pcnt_speech</th>\n",
       "    </tr>\n",
       "  </thead>\n",
       "  <tbody>\n",
       "    <tr>\n",
       "      <th>0</th>\n",
       "      <td>184240.0</td>\n",
       "      <td>189330.0</td>\n",
       "      <td>mə̀nà càt̪á án âjt̪ɔ́ ŋìðə̀nɔ́ŋ ŋírɔ́t̪...</td>\n",
       "      <td>/Users/markjos/Library/CloudStorage/GoogleDriv...</td>\n",
       "      <td>/Users/markjos/Library/CloudStorage/GoogleDriv...</td>\n",
       "      <td>mə̀nà tʃàt̪á án âjt̪ɔ́ ŋìðə̀nɔ́ŋ ŋírɔ́t...</td>\n",
       "      <td>data/tira-asr/clips/HH20220719-1-m03s04ms240-m...</td>\n",
       "      <td>/Users/markjos/Library/CloudStorage/GoogleDriv...</td>\n",
       "      <td>data/tira-asr/clips/HH20220719-1-m03s04ms240-m...</td>\n",
       "      <td>HH20220719-1-m03s04ms240-m03s09ms330.wav</td>\n",
       "      <td>...</td>\n",
       "      <td>14.081620</td>\n",
       "      <td>25.00</td>\n",
       "      <td>0.031 5.009 SPEAKER_00</td>\n",
       "      <td>0.031 3.642 SPEECH;4.098 4.942 SPEECH</td>\n",
       "      <td>ለለለለለለለለለለለለለለለለለለለለለለለለለለለለለለለለለለለለለለለለለለለለለ...</td>\n",
       "      <td>0.7697</td>\n",
       "      <td>4.455</td>\n",
       "      <td>4.978</td>\n",
       "      <td>64</td>\n",
       "      <td>0.875246</td>\n",
       "    </tr>\n",
       "    <tr>\n",
       "      <th>1</th>\n",
       "      <td>271280.0</td>\n",
       "      <td>272310.0</td>\n",
       "      <td>íŋgáŋâɽìɲǎ</td>\n",
       "      <td>/Users/markjos/Library/CloudStorage/GoogleDriv...</td>\n",
       "      <td>/Users/markjos/Library/CloudStorage/GoogleDriv...</td>\n",
       "      <td>íŋgáŋâɽìɲǎ</td>\n",
       "      <td>data/tira-asr/clips/HH20220719-1-m04s31ms280-m...</td>\n",
       "      <td>/Users/markjos/Library/CloudStorage/GoogleDriv...</td>\n",
       "      <td>data/tira-asr/clips/HH20220719-1-m04s31ms280-m...</td>\n",
       "      <td>HH20220719-1-m04s31ms280-m04s32ms310.wav</td>\n",
       "      <td>...</td>\n",
       "      <td>5.625207</td>\n",
       "      <td>16.25</td>\n",
       "      <td>0.031 1.094 SPEAKER_00</td>\n",
       "      <td>0.098 1.043 SPEECH</td>\n",
       "      <td>hingga nganginya</td>\n",
       "      <td>0.7191</td>\n",
       "      <td>0.945</td>\n",
       "      <td>1.063</td>\n",
       "      <td>15</td>\n",
       "      <td>0.917476</td>\n",
       "    </tr>\n",
       "    <tr>\n",
       "      <th>2</th>\n",
       "      <td>275030.0</td>\n",
       "      <td>276050.0</td>\n",
       "      <td>íŋgáŋâɽìɲǎ</td>\n",
       "      <td>/Users/markjos/Library/CloudStorage/GoogleDriv...</td>\n",
       "      <td>/Users/markjos/Library/CloudStorage/GoogleDriv...</td>\n",
       "      <td>íŋgáŋâɽìɲǎ</td>\n",
       "      <td>data/tira-asr/clips/HH20220719-1-m04s35ms030-m...</td>\n",
       "      <td>/Users/markjos/Library/CloudStorage/GoogleDriv...</td>\n",
       "      <td>data/tira-asr/clips/HH20220719-1-m04s35ms030-m...</td>\n",
       "      <td>HH20220719-1-m04s35ms030-m04s36ms050.wav</td>\n",
       "      <td>...</td>\n",
       "      <td>4.222627</td>\n",
       "      <td>20.00</td>\n",
       "      <td>0.031 1.060 SPEAKER_00</td>\n",
       "      <td>0.031 0.959 SPEECH</td>\n",
       "      <td>Gak ngalirnya</td>\n",
       "      <td>0.5247</td>\n",
       "      <td>0.928</td>\n",
       "      <td>1.029</td>\n",
       "      <td>15</td>\n",
       "      <td>0.909804</td>\n",
       "    </tr>\n",
       "    <tr>\n",
       "      <th>3</th>\n",
       "      <td>304295.0</td>\n",
       "      <td>305015.0</td>\n",
       "      <td>íŋgáŋâɽìɲǎ</td>\n",
       "      <td>/Users/markjos/Library/CloudStorage/GoogleDriv...</td>\n",
       "      <td>/Users/markjos/Library/CloudStorage/GoogleDriv...</td>\n",
       "      <td>íŋgáŋâɽìɲǎ</td>\n",
       "      <td>data/tira-asr/clips/HH20220719-1-m05s04ms295-m...</td>\n",
       "      <td>/Users/markjos/Library/CloudStorage/GoogleDriv...</td>\n",
       "      <td>data/tira-asr/clips/HH20220719-1-m05s04ms295-m...</td>\n",
       "      <td>HH20220719-1-m05s04ms295-m05s05ms015.wav</td>\n",
       "      <td>...</td>\n",
       "      <td>2.189131</td>\n",
       "      <td>3.50</td>\n",
       "      <td>0.031 0.773 SPEAKER_00</td>\n",
       "      <td>0.031 0.723 SPEECH</td>\n",
       "      <td>gone already now</td>\n",
       "      <td>0.1008</td>\n",
       "      <td>0.692</td>\n",
       "      <td>0.742</td>\n",
       "      <td>15</td>\n",
       "      <td>0.961111</td>\n",
       "    </tr>\n",
       "    <tr>\n",
       "      <th>4</th>\n",
       "      <td>331510.0</td>\n",
       "      <td>333800.0</td>\n",
       "      <td>ŋìðə̀ní ŋrɔ̀t̪ɔ́ t̪ɔ́wə̀nì</td>\n",
       "      <td>/Users/markjos/Library/CloudStorage/GoogleDriv...</td>\n",
       "      <td>/Users/markjos/Library/CloudStorage/GoogleDriv...</td>\n",
       "      <td>ŋìðə̀ní ŋrɔ̀t̪ɔ́ t̪ɔ́wə̀nì</td>\n",
       "      <td>data/tira-asr/clips/HH20220719-1-m05s31ms510-m...</td>\n",
       "      <td>/Users/markjos/Library/CloudStorage/GoogleDriv...</td>\n",
       "      <td>data/tira-asr/clips/HH20220719-1-m05s31ms510-m...</td>\n",
       "      <td>HH20220719-1-m05s31ms510-m05s33ms800.wav</td>\n",
       "      <td>...</td>\n",
       "      <td>15.113453</td>\n",
       "      <td>26.00</td>\n",
       "      <td>0.031 2.191 SPEAKER_00</td>\n",
       "      <td>0.031 2.191 SPEECH</td>\n",
       "      <td>Ngini ngroto tawoni.</td>\n",
       "      <td>0.7299</td>\n",
       "      <td>2.160</td>\n",
       "      <td>2.160</td>\n",
       "      <td>29</td>\n",
       "      <td>0.943231</td>\n",
       "    </tr>\n",
       "  </tbody>\n",
       "</table>\n",
       "<p>5 rows × 22 columns</p>\n",
       "</div>"
      ],
      "text/plain": [
       "      start       end                                      transcription  \\\n",
       "0  184240.0  189330.0  mə̀nà càt̪á án âjt̪ɔ́ ŋìðə̀nɔ́ŋ ŋírɔ́t̪...   \n",
       "1  271280.0  272310.0                                    íŋgáŋâɽìɲǎ   \n",
       "2  275030.0  276050.0                                    íŋgáŋâɽìɲǎ   \n",
       "3  304295.0  305015.0                                    íŋgáŋâɽìɲǎ   \n",
       "4  331510.0  333800.0                      ŋìðə̀ní ŋrɔ̀t̪ɔ́ t̪ɔ́wə̀nì   \n",
       "\n",
       "                                          eaf_source  \\\n",
       "0  /Users/markjos/Library/CloudStorage/GoogleDriv...   \n",
       "1  /Users/markjos/Library/CloudStorage/GoogleDriv...   \n",
       "2  /Users/markjos/Library/CloudStorage/GoogleDriv...   \n",
       "3  /Users/markjos/Library/CloudStorage/GoogleDriv...   \n",
       "4  /Users/markjos/Library/CloudStorage/GoogleDriv...   \n",
       "\n",
       "                                          wav_source  \\\n",
       "0  /Users/markjos/Library/CloudStorage/GoogleDriv...   \n",
       "1  /Users/markjos/Library/CloudStorage/GoogleDriv...   \n",
       "2  /Users/markjos/Library/CloudStorage/GoogleDriv...   \n",
       "3  /Users/markjos/Library/CloudStorage/GoogleDriv...   \n",
       "4  /Users/markjos/Library/CloudStorage/GoogleDriv...   \n",
       "\n",
       "                                   raw_transcription  \\\n",
       "0  mə̀nà tʃàt̪á án âjt̪ɔ́ ŋìðə̀nɔ́ŋ ŋírɔ́t...   \n",
       "1                                    íŋgáŋâɽìɲǎ   \n",
       "2                                    íŋgáŋâɽìɲǎ   \n",
       "3                                    íŋgáŋâɽìɲǎ   \n",
       "4                         ŋìðə̀ní ŋrɔ̀t̪ɔ́ t̪ɔ́wə̀nì   \n",
       "\n",
       "                                                clip  \\\n",
       "0  data/tira-asr/clips/HH20220719-1-m03s04ms240-m...   \n",
       "1  data/tira-asr/clips/HH20220719-1-m04s31ms280-m...   \n",
       "2  data/tira-asr/clips/HH20220719-1-m04s35ms030-m...   \n",
       "3  data/tira-asr/clips/HH20220719-1-m05s04ms295-m...   \n",
       "4  data/tira-asr/clips/HH20220719-1-m05s31ms510-m...   \n",
       "\n",
       "                                         wav_rawpath  \\\n",
       "0  /Users/markjos/Library/CloudStorage/GoogleDriv...   \n",
       "1  /Users/markjos/Library/CloudStorage/GoogleDriv...   \n",
       "2  /Users/markjos/Library/CloudStorage/GoogleDriv...   \n",
       "3  /Users/markjos/Library/CloudStorage/GoogleDriv...   \n",
       "4  /Users/markjos/Library/CloudStorage/GoogleDriv...   \n",
       "\n",
       "                                           file_name  \\\n",
       "0  data/tira-asr/clips/HH20220719-1-m03s04ms240-m...   \n",
       "1  data/tira-asr/clips/HH20220719-1-m04s31ms280-m...   \n",
       "2  data/tira-asr/clips/HH20220719-1-m04s35ms030-m...   \n",
       "3  data/tira-asr/clips/HH20220719-1-m05s04ms295-m...   \n",
       "4  data/tira-asr/clips/HH20220719-1-m05s31ms510-m...   \n",
       "\n",
       "                                       path  ...   wada_snr  nist_stnr  \\\n",
       "0  HH20220719-1-m03s04ms240-m03s09ms330.wav  ...  14.081620      25.00   \n",
       "1  HH20220719-1-m04s31ms280-m04s32ms310.wav  ...   5.625207      16.25   \n",
       "2  HH20220719-1-m04s35ms030-m04s36ms050.wav  ...   4.222627      20.00   \n",
       "3  HH20220719-1-m05s04ms295-m05s05ms015.wav  ...   2.189131       3.50   \n",
       "4  HH20220719-1-m05s31ms510-m05s33ms800.wav  ...  15.113453      26.00   \n",
       "\n",
       "   speaker-diarization-3.1               voice-activity-detection  \\\n",
       "0   0.031 5.009 SPEAKER_00  0.031 3.642 SPEECH;4.098 4.942 SPEECH   \n",
       "1   0.031 1.094 SPEAKER_00                     0.098 1.043 SPEECH   \n",
       "2   0.031 1.060 SPEAKER_00                     0.031 0.959 SPEECH   \n",
       "3   0.031 0.773 SPEAKER_00                     0.031 0.723 SPEECH   \n",
       "4   0.031 2.191 SPEAKER_00                     0.031 2.191 SPEECH   \n",
       "\n",
       "                                    whisper-large-v3  \\\n",
       "0   ለለለለለለለለለለለለለለለለለለለለለለለለለለለለለለለለለለለለለለለለለለለለለ...   \n",
       "1                                   hingga nganginya   \n",
       "2                                      Gak ngalirnya   \n",
       "3                                   gone already now   \n",
       "4                               Ngini ngroto tawoni.   \n",
       "\n",
       "  clapipa-transcription-allosaurus  vad_s  drz_s  trans_len  pcnt_speech  \n",
       "0                           0.7697  4.455  4.978         64     0.875246  \n",
       "1                           0.7191  0.945  1.063         15     0.917476  \n",
       "2                           0.5247  0.928  1.029         15     0.909804  \n",
       "3                           0.1008  0.692  0.742         15     0.961111  \n",
       "4                           0.7299  2.160  2.160         29     0.943231  \n",
       "\n",
       "[5 rows x 22 columns]"
      ]
     },
     "execution_count": 2,
     "metadata": {},
     "output_type": "execute_result"
    }
   ],
   "source": [
    "csv_path = '../data/pyarrow-datasets/tira-asr-hf/metadata-combined.csv'\n",
    "df=pd.read_csv(csv_path)\n",
    "df.head()"
   ]
  },
  {
   "cell_type": "code",
   "execution_count": 3,
   "metadata": {},
   "outputs": [
    {
     "data": {
      "text/plain": [
       "(825, 22)"
      ]
     },
     "execution_count": 3,
     "metadata": {},
     "output_type": "execute_result"
    }
   ],
   "source": [
    "df[df['pcnt_speech']<0.6].shape"
   ]
  },
  {
   "cell_type": "code",
   "execution_count": 50,
   "metadata": {},
   "outputs": [
    {
     "data": {
      "text/plain": [
       "(2156, 23)"
      ]
     },
     "execution_count": 50,
     "metadata": {},
     "output_type": "execute_result"
    }
   ],
   "source": [
    "df[(df['clap_ipa_cos_sim']<0.6)&(df['pcnt_speech']>=0.6)].shape"
   ]
  },
  {
   "cell_type": "code",
   "execution_count": 48,
   "metadata": {},
   "outputs": [
    {
     "data": {
      "text/html": [
       "\n",
       "                    <audio controls>\n",
       "                        <source src=\"data:audio/mpeg;base64,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\" type=\"audio/mpeg\"/>\n",
       "                        Your browser does not support the audio element.\n",
       "                    </audio>\n",
       "                  "
      ],
      "text/plain": [
       "<pydub.audio_segment.AudioSegment at 0x131472eb0>"
      ]
     },
     "execution_count": 48,
     "metadata": {},
     "output_type": "execute_result"
    }
   ],
   "source": [
    "audio_path='../'+df[(df['clap_ipa_cos_sim']<0.6)&(df['pcnt_speech']>=0.6)].iloc[100]['clip']\n",
    "AudioSegment.from_wav(audio_path)"
   ]
  },
  {
   "cell_type": "code",
   "execution_count": 40,
   "metadata": {},
   "outputs": [
    {
     "data": {
      "text/html": [
       "<div>\n",
       "<style scoped>\n",
       "    .dataframe tbody tr th:only-of-type {\n",
       "        vertical-align: middle;\n",
       "    }\n",
       "\n",
       "    .dataframe tbody tr th {\n",
       "        vertical-align: top;\n",
       "    }\n",
       "\n",
       "    .dataframe thead th {\n",
       "        text-align: right;\n",
       "    }\n",
       "</style>\n",
       "<table border=\"1\" class=\"dataframe\">\n",
       "  <thead>\n",
       "    <tr style=\"text-align: right;\">\n",
       "      <th></th>\n",
       "      <th>clap_ipa_cos_sim</th>\n",
       "      <th>pcnt_speech</th>\n",
       "      <th>trans_len</th>\n",
       "      <th>duration</th>\n",
       "    </tr>\n",
       "  </thead>\n",
       "  <tbody>\n",
       "    <tr>\n",
       "      <th>clap_ipa_cos_sim</th>\n",
       "      <td>1.000000</td>\n",
       "      <td>-0.000883</td>\n",
       "      <td>0.138739</td>\n",
       "      <td>-0.089937</td>\n",
       "    </tr>\n",
       "    <tr>\n",
       "      <th>pcnt_speech</th>\n",
       "      <td>-0.000883</td>\n",
       "      <td>1.000000</td>\n",
       "      <td>-0.046698</td>\n",
       "      <td>-0.351456</td>\n",
       "    </tr>\n",
       "    <tr>\n",
       "      <th>trans_len</th>\n",
       "      <td>0.138739</td>\n",
       "      <td>-0.046698</td>\n",
       "      <td>1.000000</td>\n",
       "      <td>0.690700</td>\n",
       "    </tr>\n",
       "    <tr>\n",
       "      <th>duration</th>\n",
       "      <td>-0.089937</td>\n",
       "      <td>-0.351456</td>\n",
       "      <td>0.690700</td>\n",
       "      <td>1.000000</td>\n",
       "    </tr>\n",
       "  </tbody>\n",
       "</table>\n",
       "</div>"
      ],
      "text/plain": [
       "                  clap_ipa_cos_sim  pcnt_speech  trans_len  duration\n",
       "clap_ipa_cos_sim          1.000000    -0.000883   0.138739 -0.089937\n",
       "pcnt_speech              -0.000883     1.000000  -0.046698 -0.351456\n",
       "trans_len                 0.138739    -0.046698   1.000000  0.690700\n",
       "duration                 -0.089937    -0.351456   0.690700  1.000000"
      ]
     },
     "execution_count": 40,
     "metadata": {},
     "output_type": "execute_result"
    }
   ],
   "source": [
    "df['duration']=(df['end']-df['start'])*1_000\n",
    "df[df['pcnt_speech']>=0.6][['clap_ipa_cos_sim', 'pcnt_speech', 'trans_len', 'duration']].corr()"
   ]
  },
  {
   "cell_type": "code",
   "execution_count": 11,
   "metadata": {},
   "outputs": [
    {
     "data": {
      "text/plain": [
       "(13.295101388888888, 2040.0820510634671, 23461)"
      ]
     },
     "execution_count": 11,
     "metadata": {},
     "output_type": "execute_result"
    }
   ],
   "source": [
    "df['duration']=df['end']-df['start']\n",
    "df['duration'].sum()/3_600_000, df['duration'].mean(), len(df)"
   ]
  },
  {
   "cell_type": "code",
   "execution_count": 12,
   "metadata": {},
   "outputs": [
    {
     "data": {
      "text/plain": [
       "(185,)"
      ]
     },
     "execution_count": 12,
     "metadata": {},
     "output_type": "execute_result"
    }
   ],
   "source": [
    "df['wav_source'].unique().shape"
   ]
  },
  {
   "cell_type": "code",
   "execution_count": 13,
   "metadata": {},
   "outputs": [
    {
     "data": {
      "text/plain": [
       "0    64\n",
       "1    15\n",
       "2    15\n",
       "3    15\n",
       "4    29\n",
       "5    29\n",
       "6    29\n",
       "7    29\n",
       "8    29\n",
       "9    63\n",
       "Name: trans_len, dtype: int64"
      ]
     },
     "execution_count": 13,
     "metadata": {},
     "output_type": "execute_result"
    }
   ],
   "source": [
    "df['trans_len']=df['transcription'].str.len()\n",
    "df['trans_len'][:10]"
   ]
  },
  {
   "cell_type": "code",
   "execution_count": 14,
   "metadata": {},
   "outputs": [
    {
     "data": {
      "text/plain": [
       "(0        4.158883\n",
       " 1        2.708050\n",
       " 2        2.708050\n",
       " 3        2.708050\n",
       " 4        3.367296\n",
       "            ...   \n",
       " 23456    3.465736\n",
       " 23457    3.465736\n",
       " 23458    3.295837\n",
       " 23459    2.564949\n",
       " 23460    2.890372\n",
       " Name: trans_len_log, Length: 23461, dtype: float64,\n",
       " 0        0.000042\n",
       " 1        0.000036\n",
       " 2        0.000037\n",
       " 3        0.000040\n",
       " 4        0.000046\n",
       "            ...   \n",
       " 23456    0.000045\n",
       " 23457    0.000045\n",
       " 23458    0.000040\n",
       " 23459    0.000044\n",
       " 23460    0.000046\n",
       " Name: cos_sim_softmax, Length: 23461, dtype: float32)"
      ]
     },
     "execution_count": 14,
     "metadata": {},
     "output_type": "execute_result"
    }
   ],
   "source": [
    "df['trans_len_log']=df['trans_len'].apply(math.log)\n",
    "df['cos_sim_softmax']=torch.softmax(torch.Tensor(df['clap_ipa_cos_sim']), dim=0)\n",
    "df['cos_sim_log']=df['cos_sim_softmax'].apply(math.log)\n",
    "df['trans_len_log'], df['cos_sim_softmax']\n"
   ]
  },
  {
   "cell_type": "code",
   "execution_count": 15,
   "metadata": {},
   "outputs": [
    {
     "data": {
      "text/html": [
       "<div>\n",
       "<style scoped>\n",
       "    .dataframe tbody tr th:only-of-type {\n",
       "        vertical-align: middle;\n",
       "    }\n",
       "\n",
       "    .dataframe tbody tr th {\n",
       "        vertical-align: top;\n",
       "    }\n",
       "\n",
       "    .dataframe thead th {\n",
       "        text-align: right;\n",
       "    }\n",
       "</style>\n",
       "<table border=\"1\" class=\"dataframe\">\n",
       "  <thead>\n",
       "    <tr style=\"text-align: right;\">\n",
       "      <th></th>\n",
       "      <th>trans_len</th>\n",
       "      <th>trans_len_log</th>\n",
       "      <th>clap_ipa_cos_sim</th>\n",
       "      <th>cos_sim_softmax</th>\n",
       "      <th>cos_sim_log</th>\n",
       "      <th>clapipa-transcription-allosaurus</th>\n",
       "      <th>nist_stnr</th>\n",
       "      <th>wada_snr</th>\n",
       "    </tr>\n",
       "  </thead>\n",
       "  <tbody>\n",
       "    <tr>\n",
       "      <th>trans_len</th>\n",
       "      <td>1.000000</td>\n",
       "      <td>0.941442</td>\n",
       "      <td>0.135787</td>\n",
       "      <td>0.134313</td>\n",
       "      <td>0.135787</td>\n",
       "      <td>0.314145</td>\n",
       "      <td>0.072460</td>\n",
       "      <td>0.066681</td>\n",
       "    </tr>\n",
       "    <tr>\n",
       "      <th>trans_len_log</th>\n",
       "      <td>0.941442</td>\n",
       "      <td>1.000000</td>\n",
       "      <td>0.197276</td>\n",
       "      <td>0.198808</td>\n",
       "      <td>0.197276</td>\n",
       "      <td>0.370748</td>\n",
       "      <td>0.064069</td>\n",
       "      <td>0.043705</td>\n",
       "    </tr>\n",
       "    <tr>\n",
       "      <th>clap_ipa_cos_sim</th>\n",
       "      <td>0.135787</td>\n",
       "      <td>0.197276</td>\n",
       "      <td>1.000000</td>\n",
       "      <td>0.993525</td>\n",
       "      <td>1.000000</td>\n",
       "      <td>0.451776</td>\n",
       "      <td>-0.017467</td>\n",
       "      <td>-0.036883</td>\n",
       "    </tr>\n",
       "    <tr>\n",
       "      <th>cos_sim_softmax</th>\n",
       "      <td>0.134313</td>\n",
       "      <td>0.198808</td>\n",
       "      <td>0.993525</td>\n",
       "      <td>1.000000</td>\n",
       "      <td>0.993525</td>\n",
       "      <td>0.448111</td>\n",
       "      <td>-0.020412</td>\n",
       "      <td>-0.041530</td>\n",
       "    </tr>\n",
       "    <tr>\n",
       "      <th>cos_sim_log</th>\n",
       "      <td>0.135787</td>\n",
       "      <td>0.197276</td>\n",
       "      <td>1.000000</td>\n",
       "      <td>0.993525</td>\n",
       "      <td>1.000000</td>\n",
       "      <td>0.451776</td>\n",
       "      <td>-0.017467</td>\n",
       "      <td>-0.036883</td>\n",
       "    </tr>\n",
       "    <tr>\n",
       "      <th>clapipa-transcription-allosaurus</th>\n",
       "      <td>0.314145</td>\n",
       "      <td>0.370748</td>\n",
       "      <td>0.451776</td>\n",
       "      <td>0.448111</td>\n",
       "      <td>0.451776</td>\n",
       "      <td>1.000000</td>\n",
       "      <td>0.061152</td>\n",
       "      <td>-0.006004</td>\n",
       "    </tr>\n",
       "    <tr>\n",
       "      <th>nist_stnr</th>\n",
       "      <td>0.072460</td>\n",
       "      <td>0.064069</td>\n",
       "      <td>-0.017467</td>\n",
       "      <td>-0.020412</td>\n",
       "      <td>-0.017467</td>\n",
       "      <td>0.061152</td>\n",
       "      <td>1.000000</td>\n",
       "      <td>0.731698</td>\n",
       "    </tr>\n",
       "    <tr>\n",
       "      <th>wada_snr</th>\n",
       "      <td>0.066681</td>\n",
       "      <td>0.043705</td>\n",
       "      <td>-0.036883</td>\n",
       "      <td>-0.041530</td>\n",
       "      <td>-0.036883</td>\n",
       "      <td>-0.006004</td>\n",
       "      <td>0.731698</td>\n",
       "      <td>1.000000</td>\n",
       "    </tr>\n",
       "  </tbody>\n",
       "</table>\n",
       "</div>"
      ],
      "text/plain": [
       "                                  trans_len  trans_len_log  clap_ipa_cos_sim  \\\n",
       "trans_len                          1.000000       0.941442          0.135787   \n",
       "trans_len_log                      0.941442       1.000000          0.197276   \n",
       "clap_ipa_cos_sim                   0.135787       0.197276          1.000000   \n",
       "cos_sim_softmax                    0.134313       0.198808          0.993525   \n",
       "cos_sim_log                        0.135787       0.197276          1.000000   \n",
       "clapipa-transcription-allosaurus   0.314145       0.370748          0.451776   \n",
       "nist_stnr                          0.072460       0.064069         -0.017467   \n",
       "wada_snr                           0.066681       0.043705         -0.036883   \n",
       "\n",
       "                                  cos_sim_softmax  cos_sim_log  \\\n",
       "trans_len                                0.134313     0.135787   \n",
       "trans_len_log                            0.198808     0.197276   \n",
       "clap_ipa_cos_sim                         0.993525     1.000000   \n",
       "cos_sim_softmax                          1.000000     0.993525   \n",
       "cos_sim_log                              0.993525     1.000000   \n",
       "clapipa-transcription-allosaurus         0.448111     0.451776   \n",
       "nist_stnr                               -0.020412    -0.017467   \n",
       "wada_snr                                -0.041530    -0.036883   \n",
       "\n",
       "                                  clapipa-transcription-allosaurus  nist_stnr  \\\n",
       "trans_len                                                 0.314145   0.072460   \n",
       "trans_len_log                                             0.370748   0.064069   \n",
       "clap_ipa_cos_sim                                          0.451776  -0.017467   \n",
       "cos_sim_softmax                                           0.448111  -0.020412   \n",
       "cos_sim_log                                               0.451776  -0.017467   \n",
       "clapipa-transcription-allosaurus                          1.000000   0.061152   \n",
       "nist_stnr                                                 0.061152   1.000000   \n",
       "wada_snr                                                 -0.006004   0.731698   \n",
       "\n",
       "                                  wada_snr  \n",
       "trans_len                         0.066681  \n",
       "trans_len_log                     0.043705  \n",
       "clap_ipa_cos_sim                 -0.036883  \n",
       "cos_sim_softmax                  -0.041530  \n",
       "cos_sim_log                      -0.036883  \n",
       "clapipa-transcription-allosaurus -0.006004  \n",
       "nist_stnr                         0.731698  \n",
       "wada_snr                          1.000000  "
      ]
     },
     "execution_count": 15,
     "metadata": {},
     "output_type": "execute_result"
    }
   ],
   "source": [
    "df[['trans_len', 'trans_len_log', 'clap_ipa_cos_sim', 'cos_sim_softmax', 'cos_sim_log', 'clapipa-transcription-allosaurus', 'nist_stnr', 'wada_snr']].corr('pearson')"
   ]
  },
  {
   "cell_type": "code",
   "execution_count": 16,
   "metadata": {},
   "outputs": [
    {
     "data": {
      "text/plain": [
       "<Axes: >"
      ]
     },
     "execution_count": 16,
     "metadata": {},
     "output_type": "execute_result"
    },
    {
     "data": {
      "image/png": "[encoded data removed]",
      "text/plain": [
       "<Figure size 640x480 with 1 Axes>"
      ]
     },
     "metadata": {},
     "output_type": "display_data"
    }
   ],
   "source": [
    "df.boxplot('clap_ipa_cos_sim')"
   ]
  },
  {
   "cell_type": "code",
   "execution_count": 17,
   "metadata": {},
   "outputs": [
    {
     "data": {
      "text/plain": [
       "<Axes: >"
      ]
     },
     "execution_count": 17,
     "metadata": {},
     "output_type": "execute_result"
    },
    {
     "data": {
      "image/png": "[encoded data removed]",
      "text/plain": [
       "<Figure size 640x480 with 1 Axes>"
      ]
     },
     "metadata": {},
     "output_type": "display_data"
    }
   ],
   "source": [
    "df.boxplot('pcnt_speech')"
   ]
  },
  {
   "cell_type": "code",
   "execution_count": 18,
   "metadata": {},
   "outputs": [
    {
     "data": {
      "text/html": [
       "<div>\n",
       "<style scoped>\n",
       "    .dataframe tbody tr th:only-of-type {\n",
       "        vertical-align: middle;\n",
       "    }\n",
       "\n",
       "    .dataframe tbody tr th {\n",
       "        vertical-align: top;\n",
       "    }\n",
       "\n",
       "    .dataframe thead th {\n",
       "        text-align: right;\n",
       "    }\n",
       "</style>\n",
       "<table border=\"1\" class=\"dataframe\">\n",
       "  <thead>\n",
       "    <tr style=\"text-align: right;\">\n",
       "      <th></th>\n",
       "      <th>transcription</th>\n",
       "      <th>allosaurus</th>\n",
       "      <th>clip</th>\n",
       "      <th>clap_ipa_cos_sim</th>\n",
       "      <th>clapipa-transcription-allosaurus</th>\n",
       "    </tr>\n",
       "  </thead>\n",
       "  <tbody>\n",
       "    <tr>\n",
       "      <th>1</th>\n",
       "      <td>íŋgáŋâɽìɲǎ</td>\n",
       "      <td>ɲ i n k a ŋ n a d i ɲ a</td>\n",
       "      <td>data/tira-asr/clips/HH20220719-1-m04s31ms280-m...</td>\n",
       "      <td>0.523998</td>\n",
       "      <td>0.7191</td>\n",
       "    </tr>\n",
       "    <tr>\n",
       "      <th>2</th>\n",
       "      <td>íŋgáŋâɽìɲǎ</td>\n",
       "      <td>i ɲ t a ŋ a ɲ j a</td>\n",
       "      <td>data/tira-asr/clips/HH20220719-1-m04s35ms030-m...</td>\n",
       "      <td>0.527971</td>\n",
       "      <td>0.5247</td>\n",
       "    </tr>\n",
       "    <tr>\n",
       "      <th>12</th>\n",
       "      <td>án âjt̪ɔ́ ŋíðə̀nɔ́ŋ ŋʊ̀rɔ́t̪ɛ̌ íŋgáŋâɽìɲà</td>\n",
       "      <td>e t e ɛ n ŋ l o ð ɛ n o n b r a t e a l ɲ a</td>\n",
       "      <td>data/tira-asr/clips/HH20220719-1-m07s06ms700-m...</td>\n",
       "      <td>0.572309</td>\n",
       "      <td>0.5415</td>\n",
       "    </tr>\n",
       "    <tr>\n",
       "      <th>14</th>\n",
       "      <td>án âjt̪ɔ́ ŋíðə̀nɔ́ŋ ŋʊ̀rɔ́t̪ɛ̌ íŋgáŋâɽìɲà</td>\n",
       "      <td>b e t̪ ɔ ŋ n a ð i n ɔ ŋ r a k e a e ɲ a</td>\n",
       "      <td>data/tira-asr/clips/HH20220719-1-m07s21ms110-m...</td>\n",
       "      <td>0.571611</td>\n",
       "      <td>0.6405</td>\n",
       "    </tr>\n",
       "    <tr>\n",
       "      <th>15</th>\n",
       "      <td>ŋìðə̀nɔ́</td>\n",
       "      <td>NaN</td>\n",
       "      <td>data/tira-asr/clips/HH20220719-1-m07s43ms125-m...</td>\n",
       "      <td>0.563886</td>\n",
       "      <td>0.1548</td>\n",
       "    </tr>\n",
       "    <tr>\n",
       "      <th>...</th>\n",
       "      <td>...</td>\n",
       "      <td>...</td>\n",
       "      <td>...</td>\n",
       "      <td>...</td>\n",
       "      <td>...</td>\n",
       "    </tr>\n",
       "    <tr>\n",
       "      <th>23324</th>\n",
       "      <td>ŋgɔ́ nɔ́nà ùt̪ùlú nd̪ɔ̀bà ŋgɔ́ nɔ́nà ùt...</td>\n",
       "      <td>ʂ e k a n ʂ i ŋ ɡ a n o t o l o n d ə b a n b ...</td>\n",
       "      <td>data/tira-asr/clips/HH20230608-m56s23ms432-m56...</td>\n",
       "      <td>0.302296</td>\n",
       "      <td>0.5559</td>\n",
       "    </tr>\n",
       "    <tr>\n",
       "      <th>23354</th>\n",
       "      <td>ùcùl</td>\n",
       "      <td>o ʂ o</td>\n",
       "      <td>data/tira-asr/clips/HH20221024-m14s56ms510-m14...</td>\n",
       "      <td>0.358558</td>\n",
       "      <td>0.4436</td>\n",
       "    </tr>\n",
       "    <tr>\n",
       "      <th>23436</th>\n",
       "      <td>kàrɔ́ àprí t̪àŋó àprí</td>\n",
       "      <td>k a ɡ o ʂ a ŋ m o a p e i t̪ a ʂ</td>\n",
       "      <td>data/tira-asr/clips/HH20210830-m27s01ms608-m27...</td>\n",
       "      <td>0.494360</td>\n",
       "      <td>0.5151</td>\n",
       "    </tr>\n",
       "    <tr>\n",
       "      <th>23440</th>\n",
       "      <td>kàrɔ́ t̪àŋòŋ</td>\n",
       "      <td>k a l o t a ŋ m u m j e ʂ</td>\n",
       "      <td>data/tira-asr/clips/HH20210830-m29s13ms648-m29...</td>\n",
       "      <td>0.577541</td>\n",
       "      <td>0.4892</td>\n",
       "    </tr>\n",
       "    <tr>\n",
       "      <th>23452</th>\n",
       "      <td>t̪àrɔ́ŋt̪ɛ́ t̪àŋòŋ</td>\n",
       "      <td>t e t a l a n u</td>\n",
       "      <td>data/tira-asr/clips/HH20210830-m33s39ms979-m33...</td>\n",
       "      <td>0.155454</td>\n",
       "      <td>0.2578</td>\n",
       "    </tr>\n",
       "  </tbody>\n",
       "</table>\n",
       "<p>2357 rows × 5 columns</p>\n",
       "</div>"
      ],
      "text/plain": [
       "                                           transcription  \\\n",
       "1                                        íŋgáŋâɽìɲǎ   \n",
       "2                                        íŋgáŋâɽìɲǎ   \n",
       "12     án âjt̪ɔ́ ŋíðə̀nɔ́ŋ ŋʊ̀rɔ́t̪ɛ̌ íŋgáŋâɽìɲà   \n",
       "14     án âjt̪ɔ́ ŋíðə̀nɔ́ŋ ŋʊ̀rɔ́t̪ɛ̌ íŋgáŋâɽìɲà   \n",
       "15                                             ŋìðə̀nɔ́   \n",
       "...                                                  ...   \n",
       "23324  ŋgɔ́ nɔ́nà ùt̪ùlú nd̪ɔ̀bà ŋgɔ́ nɔ́nà ùt...   \n",
       "23354                                             ùcùl   \n",
       "23436                       kàrɔ́ àprí t̪àŋó àprí   \n",
       "23440                                    kàrɔ́ t̪àŋòŋ   \n",
       "23452                              t̪àrɔ́ŋt̪ɛ́ t̪àŋòŋ   \n",
       "\n",
       "                                              allosaurus  \\\n",
       "1                                ɲ i n k a ŋ n a d i ɲ a   \n",
       "2                                      i ɲ t a ŋ a ɲ j a   \n",
       "12           e t e ɛ n ŋ l o ð ɛ n o n b r a t e a l ɲ a   \n",
       "14              b e t̪ ɔ ŋ n a ð i n ɔ ŋ r a k e a e ɲ a   \n",
       "15                                                   NaN   \n",
       "...                                                  ...   \n",
       "23324  ʂ e k a n ʂ i ŋ ɡ a n o t o l o n d ə b a n b ...   \n",
       "23354                                              o ʂ o   \n",
       "23436                   k a ɡ o ʂ a ŋ m o a p e i t̪ a ʂ   \n",
       "23440                          k a l o t a ŋ m u m j e ʂ   \n",
       "23452                                    t e t a l a n u   \n",
       "\n",
       "                                                    clip  clap_ipa_cos_sim  \\\n",
       "1      data/tira-asr/clips/HH20220719-1-m04s31ms280-m...          0.523998   \n",
       "2      data/tira-asr/clips/HH20220719-1-m04s35ms030-m...          0.527971   \n",
       "12     data/tira-asr/clips/HH20220719-1-m07s06ms700-m...          0.572309   \n",
       "14     data/tira-asr/clips/HH20220719-1-m07s21ms110-m...          0.571611   \n",
       "15     data/tira-asr/clips/HH20220719-1-m07s43ms125-m...          0.563886   \n",
       "...                                                  ...               ...   \n",
       "23324  data/tira-asr/clips/HH20230608-m56s23ms432-m56...          0.302296   \n",
       "23354  data/tira-asr/clips/HH20221024-m14s56ms510-m14...          0.358558   \n",
       "23436  data/tira-asr/clips/HH20210830-m27s01ms608-m27...          0.494360   \n",
       "23440  data/tira-asr/clips/HH20210830-m29s13ms648-m29...          0.577541   \n",
       "23452  data/tira-asr/clips/HH20210830-m33s39ms979-m33...          0.155454   \n",
       "\n",
       "       clapipa-transcription-allosaurus  \n",
       "1                                0.7191  \n",
       "2                                0.5247  \n",
       "12                               0.5415  \n",
       "14                               0.6405  \n",
       "15                               0.1548  \n",
       "...                                 ...  \n",
       "23324                            0.5559  \n",
       "23354                            0.4436  \n",
       "23436                            0.5151  \n",
       "23440                            0.4892  \n",
       "23452                            0.2578  \n",
       "\n",
       "[2357 rows x 5 columns]"
      ]
     },
     "execution_count": 18,
     "metadata": {},
     "output_type": "execute_result"
    }
   ],
   "source": [
    "cos_sim_06 = df.loc[\n",
    "    df['clap_ipa_cos_sim']<0.6,\n",
    "    ['transcription', 'allosaurus', 'clip', 'clap_ipa_cos_sim', 'clapipa-transcription-allosaurus']\n",
    "]\n",
    "cos_sim_06"
   ]
  },
  {
   "cell_type": "code",
   "execution_count": 19,
   "metadata": {},
   "outputs": [
    {
     "data": {
      "text/html": [
       "\n",
       "                    <audio controls>\n",
       "                        <source src=\"data:audio/mpeg;base64,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\" type=\"audio/mpeg\"/>\n",
       "                        Your browser does not support the audio element.\n",
       "                    </audio>\n",
       "                  "
      ],
      "text/plain": [
       "<pydub.audio_segment.AudioSegment at 0x12edef1c0>"
      ]
     },
     "execution_count": 19,
     "metadata": {},
     "output_type": "execute_result"
    }
   ],
   "source": [
    "audio=AudioSegment.from_wav('../'+cos_sim_06.iloc[2350]['clip'])\n",
    "audio"
   ]
  },
  {
   "cell_type": "code",
   "execution_count": 20,
   "metadata": {},
   "outputs": [
    {
     "data": {
      "text/plain": [
       "<Axes: >"
      ]
     },
     "execution_count": 20,
     "metadata": {},
     "output_type": "execute_result"
    },
    {
     "data": {
      "image/png": "[encoded data removed]",
      "text/plain": [
       "<Figure size 640x480 with 1 Axes>"
      ]
     },
     "metadata": {},
     "output_type": "display_data"
    }
   ],
   "source": [
    "df.boxplot('clapipa-transcription-allosaurus')"
   ]
  },
  {
   "cell_type": "code",
   "execution_count": 21,
   "metadata": {},
   "outputs": [
    {
     "data": {
      "text/html": [
       "<div>\n",
       "<style scoped>\n",
       "    .dataframe tbody tr th:only-of-type {\n",
       "        vertical-align: middle;\n",
       "    }\n",
       "\n",
       "    .dataframe tbody tr th {\n",
       "        vertical-align: top;\n",
       "    }\n",
       "\n",
       "    .dataframe thead th {\n",
       "        text-align: right;\n",
       "    }\n",
       "</style>\n",
       "<table border=\"1\" class=\"dataframe\">\n",
       "  <thead>\n",
       "    <tr style=\"text-align: right;\">\n",
       "      <th></th>\n",
       "      <th>transcription</th>\n",
       "      <th>allosaurus</th>\n",
       "      <th>clip</th>\n",
       "      <th>clap_ipa_cos_sim</th>\n",
       "      <th>clapipa-transcription-allosaurus</th>\n",
       "    </tr>\n",
       "  </thead>\n",
       "  <tbody>\n",
       "    <tr>\n",
       "      <th>2</th>\n",
       "      <td>íŋgáŋâɽìɲǎ</td>\n",
       "      <td>i ɲ t a ŋ a ɲ j a</td>\n",
       "      <td>data/tira-asr/clips/HH20220719-1-m04s35ms030-m...</td>\n",
       "      <td>0.527971</td>\n",
       "      <td>0.5247</td>\n",
       "    </tr>\n",
       "    <tr>\n",
       "      <th>3</th>\n",
       "      <td>íŋgáŋâɽìɲǎ</td>\n",
       "      <td>t a ŋ v a</td>\n",
       "      <td>data/tira-asr/clips/HH20220719-1-m05s04ms295-m...</td>\n",
       "      <td>0.616754</td>\n",
       "      <td>0.1008</td>\n",
       "    </tr>\n",
       "    <tr>\n",
       "      <th>12</th>\n",
       "      <td>án âjt̪ɔ́ ŋíðə̀nɔ́ŋ ŋʊ̀rɔ́t̪ɛ̌ íŋgáŋâɽìɲà</td>\n",
       "      <td>e t e ɛ n ŋ l o ð ɛ n o n b r a t e a l ɲ a</td>\n",
       "      <td>data/tira-asr/clips/HH20220719-1-m07s06ms700-m...</td>\n",
       "      <td>0.572309</td>\n",
       "      <td>0.5415</td>\n",
       "    </tr>\n",
       "    <tr>\n",
       "      <th>13</th>\n",
       "      <td>ŋìðə̀nɔ̂ŋ́</td>\n",
       "      <td>n o</td>\n",
       "      <td>data/tira-asr/clips/HH20220719-1-m07s10ms510-m...</td>\n",
       "      <td>0.697518</td>\n",
       "      <td>0.0201</td>\n",
       "    </tr>\n",
       "    <tr>\n",
       "      <th>15</th>\n",
       "      <td>ŋìðə̀nɔ́</td>\n",
       "      <td>NaN</td>\n",
       "      <td>data/tira-asr/clips/HH20220719-1-m07s43ms125-m...</td>\n",
       "      <td>0.563886</td>\n",
       "      <td>0.1548</td>\n",
       "    </tr>\n",
       "    <tr>\n",
       "      <th>...</th>\n",
       "      <td>...</td>\n",
       "      <td>...</td>\n",
       "      <td>...</td>\n",
       "      <td>...</td>\n",
       "      <td>...</td>\n",
       "    </tr>\n",
       "    <tr>\n",
       "      <th>23441</th>\n",
       "      <td>kàrɔ́ t̪àŋòŋ</td>\n",
       "      <td>k a t a ŋ</td>\n",
       "      <td>data/tira-asr/clips/HH20210830-m29s20ms672-m29...</td>\n",
       "      <td>0.731578</td>\n",
       "      <td>0.3562</td>\n",
       "    </tr>\n",
       "    <tr>\n",
       "      <th>23447</th>\n",
       "      <td>t̪àrɔ́t̪ɛ́ ɔ́ɟɔ́ t̪àŋòŋ</td>\n",
       "      <td>p a r o t e o i o t a m e n d j a</td>\n",
       "      <td>data/tira-asr/clips/HH20210830-m31s55ms391-m31...</td>\n",
       "      <td>0.711016</td>\n",
       "      <td>0.5864</td>\n",
       "    </tr>\n",
       "    <tr>\n",
       "      <th>23452</th>\n",
       "      <td>t̪àrɔ́ŋt̪ɛ́ t̪àŋòŋ</td>\n",
       "      <td>t e t a l a n u</td>\n",
       "      <td>data/tira-asr/clips/HH20210830-m33s39ms979-m33...</td>\n",
       "      <td>0.155454</td>\n",
       "      <td>0.2578</td>\n",
       "    </tr>\n",
       "    <tr>\n",
       "      <th>23459</th>\n",
       "      <td>ŋárðó lúó</td>\n",
       "      <td>m a r a w a b u a</td>\n",
       "      <td>data/tira-asr/clips/HH10142020-m03s32ms061-m03...</td>\n",
       "      <td>0.703528</td>\n",
       "      <td>0.4902</td>\n",
       "    </tr>\n",
       "    <tr>\n",
       "      <th>23460</th>\n",
       "      <td>ŋgá ŋárðà lùò</td>\n",
       "      <td>d a m a r v l u</td>\n",
       "      <td>data/tira-asr/clips/HH10142020-m04s26ms973-m04...</td>\n",
       "      <td>0.755051</td>\n",
       "      <td>0.4929</td>\n",
       "    </tr>\n",
       "  </tbody>\n",
       "</table>\n",
       "<p>5495 rows × 5 columns</p>\n",
       "</div>"
      ],
      "text/plain": [
       "                                           transcription  \\\n",
       "2                                        íŋgáŋâɽìɲǎ   \n",
       "3                                        íŋgáŋâɽìɲǎ   \n",
       "12     án âjt̪ɔ́ ŋíðə̀nɔ́ŋ ŋʊ̀rɔ́t̪ɛ̌ íŋgáŋâɽìɲà   \n",
       "13                                           ŋìðə̀nɔ̂ŋ́   \n",
       "15                                             ŋìðə̀nɔ́   \n",
       "...                                                  ...   \n",
       "23441                                    kàrɔ́ t̪àŋòŋ   \n",
       "23447                         t̪àrɔ́t̪ɛ́ ɔ́ɟɔ́ t̪àŋòŋ   \n",
       "23452                              t̪àrɔ́ŋt̪ɛ́ t̪àŋòŋ   \n",
       "23459                                      ŋárðó lúó   \n",
       "23460                                 ŋgá ŋárðà lùò   \n",
       "\n",
       "                                        allosaurus  \\\n",
       "2                                i ɲ t a ŋ a ɲ j a   \n",
       "3                                        t a ŋ v a   \n",
       "12     e t e ɛ n ŋ l o ð ɛ n o n b r a t e a l ɲ a   \n",
       "13                                             n o   \n",
       "15                                             NaN   \n",
       "...                                            ...   \n",
       "23441                                    k a t a ŋ   \n",
       "23447            p a r o t e o i o t a m e n d j a   \n",
       "23452                              t e t a l a n u   \n",
       "23459                            m a r a w a b u a   \n",
       "23460                              d a m a r v l u   \n",
       "\n",
       "                                                    clip  clap_ipa_cos_sim  \\\n",
       "2      data/tira-asr/clips/HH20220719-1-m04s35ms030-m...          0.527971   \n",
       "3      data/tira-asr/clips/HH20220719-1-m05s04ms295-m...          0.616754   \n",
       "12     data/tira-asr/clips/HH20220719-1-m07s06ms700-m...          0.572309   \n",
       "13     data/tira-asr/clips/HH20220719-1-m07s10ms510-m...          0.697518   \n",
       "15     data/tira-asr/clips/HH20220719-1-m07s43ms125-m...          0.563886   \n",
       "...                                                  ...               ...   \n",
       "23441  data/tira-asr/clips/HH20210830-m29s20ms672-m29...          0.731578   \n",
       "23447  data/tira-asr/clips/HH20210830-m31s55ms391-m31...          0.711016   \n",
       "23452  data/tira-asr/clips/HH20210830-m33s39ms979-m33...          0.155454   \n",
       "23459  data/tira-asr/clips/HH10142020-m03s32ms061-m03...          0.703528   \n",
       "23460  data/tira-asr/clips/HH10142020-m04s26ms973-m04...          0.755051   \n",
       "\n",
       "       clapipa-transcription-allosaurus  \n",
       "2                                0.5247  \n",
       "3                                0.1008  \n",
       "12                               0.5415  \n",
       "13                               0.0201  \n",
       "15                               0.1548  \n",
       "...                                 ...  \n",
       "23441                            0.3562  \n",
       "23447                            0.5864  \n",
       "23452                            0.2578  \n",
       "23459                            0.4902  \n",
       "23460                            0.4929  \n",
       "\n",
       "[5495 rows x 5 columns]"
      ]
     },
     "execution_count": 21,
     "metadata": {},
     "output_type": "execute_result"
    }
   ],
   "source": [
    "clap_allo_06 = df.loc[\n",
    "    df['clapipa-transcription-allosaurus']<0.6,\n",
    "    ['transcription', 'allosaurus', 'clip', 'clap_ipa_cos_sim', 'clapipa-transcription-allosaurus']\n",
    "]\n",
    "clap_allo_06"
   ]
  },
  {
   "cell_type": "code",
   "execution_count": 22,
   "metadata": {},
   "outputs": [
    {
     "data": {
      "text/html": [
       "\n",
       "                    <audio controls>\n",
       "                        <source src=\"data:audio/mpeg;base64,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\" type=\"audio/mpeg\"/>\n",
       "                        Your browser does not support the audio element.\n",
       "                    </audio>\n",
       "                  "
      ],
      "text/plain": [
       "<pydub.audio_segment.AudioSegment at 0x12ee3e130>"
      ]
     },
     "execution_count": 22,
     "metadata": {},
     "output_type": "execute_result"
    }
   ],
   "source": [
    "audio=AudioSegment.from_wav('../'+clap_allo_06.iloc[200]['clip'])\n",
    "audio"
   ]
  },
  {
   "cell_type": "code",
   "execution_count": 23,
   "metadata": {},
   "outputs": [
    {
     "data": {
      "text/plain": [
       "((5495, 5), (2357, 5), (23461, 26))"
      ]
     },
     "execution_count": 23,
     "metadata": {},
     "output_type": "execute_result"
    }
   ],
   "source": [
    "clap_allo_06.shape, cos_sim_06.shape, df.shape"
   ]
  },
  {
   "cell_type": "code",
   "execution_count": 24,
   "metadata": {},
   "outputs": [
    {
     "data": {
      "text/plain": [
       "['/Users/markjos/projects/malachor5/data/fleurs/ms_my_sim.csv',\n",
       " '/Users/markjos/projects/malachor5/data/fleurs/ha_ng_sim.csv',\n",
       " '/Users/markjos/projects/malachor5/data/fleurs/en_us_sim.csv',\n",
       " '/Users/markjos/projects/malachor5/data/fleurs/my_mm_sim.csv',\n",
       " '/Users/markjos/projects/malachor5/data/fleurs/sv_se_sim.csv',\n",
       " '/Users/markjos/projects/malachor5/data/fleurs/az_az_sim.csv']"
      ]
     },
     "execution_count": 24,
     "metadata": {},
     "output_type": "execute_result"
    }
   ],
   "source": [
    "sim_csvs=glob('/Users/markjos/projects/malachor5/data/fleurs/*_sim.csv')\n",
    "sim_csvs"
   ]
  },
  {
   "cell_type": "code",
   "execution_count": 25,
   "metadata": {},
   "outputs": [
    {
     "data": {
      "text/html": [
       "<div>\n",
       "<style scoped>\n",
       "    .dataframe tbody tr th:only-of-type {\n",
       "        vertical-align: middle;\n",
       "    }\n",
       "\n",
       "    .dataframe tbody tr th {\n",
       "        vertical-align: top;\n",
       "    }\n",
       "\n",
       "    .dataframe thead th {\n",
       "        text-align: right;\n",
       "    }\n",
       "</style>\n",
       "<table border=\"1\" class=\"dataframe\">\n",
       "  <thead>\n",
       "    <tr style=\"text-align: right;\">\n",
       "      <th></th>\n",
       "      <th>id</th>\n",
       "      <th>num_samples</th>\n",
       "      <th>path</th>\n",
       "      <th>transcription</th>\n",
       "      <th>raw_transcription</th>\n",
       "      <th>gender</th>\n",
       "      <th>lang_id</th>\n",
       "      <th>language</th>\n",
       "      <th>lang_group_id</th>\n",
       "      <th>similarity</th>\n",
       "    </tr>\n",
       "  </thead>\n",
       "  <tbody>\n",
       "    <tr>\n",
       "      <th>0</th>\n",
       "      <td>52</td>\n",
       "      <td>296640</td>\n",
       "      <td>train/1001109680901741359.wav</td>\n",
       "      <td>pada bulan april tahun ini perintah larangan s...</td>\n",
       "      <td>Pada bulan April tahun ini, perintah larangan ...</td>\n",
       "      <td>1</td>\n",
       "      <td>62</td>\n",
       "      <td>Malay</td>\n",
       "      <td>5</td>\n",
       "      <td>0.686999</td>\n",
       "    </tr>\n",
       "    <tr>\n",
       "      <th>1</th>\n",
       "      <td>52</td>\n",
       "      <td>296640</td>\n",
       "      <td>train/1001109680901741359.wav</td>\n",
       "      <td>pada bulan april tahun ini perintah larangan s...</td>\n",
       "      <td>Pada bulan April tahun ini, perintah larangan ...</td>\n",
       "      <td>1</td>\n",
       "      <td>62</td>\n",
       "      <td>Malay</td>\n",
       "      <td>5</td>\n",
       "      <td>0.686999</td>\n",
       "    </tr>\n",
       "    <tr>\n",
       "      <th>2</th>\n",
       "      <td>458</td>\n",
       "      <td>126720</td>\n",
       "      <td>train/100125909003801384.wav</td>\n",
       "      <td>kelemahan lain lensa zoom ialah bukaan maksimu...</td>\n",
       "      <td>Kelemahan lain lensa zoom ialah bukaan maksimu...</td>\n",
       "      <td>1</td>\n",
       "      <td>62</td>\n",
       "      <td>Malay</td>\n",
       "      <td>5</td>\n",
       "      <td>0.709755</td>\n",
       "    </tr>\n",
       "    <tr>\n",
       "      <th>3</th>\n",
       "      <td>988</td>\n",
       "      <td>172800</td>\n",
       "      <td>train/10013991699955641707.wav</td>\n",
       "      <td>ini dataran tinggi yang sering dirujuk sebagai...</td>\n",
       "      <td>Ini dataran tinggi yang sering dirujuk sebagai...</td>\n",
       "      <td>1</td>\n",
       "      <td>62</td>\n",
       "      <td>Malay</td>\n",
       "      <td>5</td>\n",
       "      <td>0.709290</td>\n",
       "    </tr>\n",
       "    <tr>\n",
       "      <th>4</th>\n",
       "      <td>1143</td>\n",
       "      <td>295680</td>\n",
       "      <td>train/10019463806458249540.wav</td>\n",
       "      <td>ini ialah amalan biasa di tempat lain di uk te...</td>\n",
       "      <td>Ini ialah amalan biasa di tempat lain di UK te...</td>\n",
       "      <td>0</td>\n",
       "      <td>62</td>\n",
       "      <td>Malay</td>\n",
       "      <td>5</td>\n",
       "      <td>0.716217</td>\n",
       "    </tr>\n",
       "  </tbody>\n",
       "</table>\n",
       "</div>"
      ],
      "text/plain": [
       "     id  num_samples                            path  \\\n",
       "0    52       296640   train/1001109680901741359.wav   \n",
       "1    52       296640   train/1001109680901741359.wav   \n",
       "2   458       126720    train/100125909003801384.wav   \n",
       "3   988       172800  train/10013991699955641707.wav   \n",
       "4  1143       295680  train/10019463806458249540.wav   \n",
       "\n",
       "                                       transcription  \\\n",
       "0  pada bulan april tahun ini perintah larangan s...   \n",
       "1  pada bulan april tahun ini perintah larangan s...   \n",
       "2  kelemahan lain lensa zoom ialah bukaan maksimu...   \n",
       "3  ini dataran tinggi yang sering dirujuk sebagai...   \n",
       "4  ini ialah amalan biasa di tempat lain di uk te...   \n",
       "\n",
       "                                   raw_transcription  gender  lang_id  \\\n",
       "0  Pada bulan April tahun ini, perintah larangan ...       1       62   \n",
       "1  Pada bulan April tahun ini, perintah larangan ...       1       62   \n",
       "2  Kelemahan lain lensa zoom ialah bukaan maksimu...       1       62   \n",
       "3  Ini dataran tinggi yang sering dirujuk sebagai...       1       62   \n",
       "4  Ini ialah amalan biasa di tempat lain di UK te...       0       62   \n",
       "\n",
       "  language  lang_group_id  similarity  \n",
       "0    Malay              5    0.686999  \n",
       "1    Malay              5    0.686999  \n",
       "2    Malay              5    0.709755  \n",
       "3    Malay              5    0.709290  \n",
       "4    Malay              5    0.716217  "
      ]
     },
     "execution_count": 25,
     "metadata": {},
     "output_type": "execute_result"
    }
   ],
   "source": [
    "sim_df = pd.read_csv(sim_csvs[0])\n",
    "sim_df.head()"
   ]
  },
  {
   "cell_type": "markdown",
   "metadata": {},
   "source": [
    "# Make 1k records with duration 10-15s"
   ]
  },
  {
   "cell_type": "code",
   "execution_count": 26,
   "metadata": {},
   "outputs": [
    {
     "data": {
      "text/html": [
       "<div>\n",
       "<style scoped>\n",
       "    .dataframe tbody tr th:only-of-type {\n",
       "        vertical-align: middle;\n",
       "    }\n",
       "\n",
       "    .dataframe tbody tr th {\n",
       "        vertical-align: top;\n",
       "    }\n",
       "\n",
       "    .dataframe thead th {\n",
       "        text-align: right;\n",
       "    }\n",
       "</style>\n",
       "<table border=\"1\" class=\"dataframe\">\n",
       "  <thead>\n",
       "    <tr style=\"text-align: right;\">\n",
       "      <th></th>\n",
       "      <th>start</th>\n",
       "      <th>end</th>\n",
       "      <th>transcription</th>\n",
       "      <th>eaf_source</th>\n",
       "      <th>wav_source</th>\n",
       "      <th>raw_transcription</th>\n",
       "      <th>clip</th>\n",
       "      <th>wav_rawpath</th>\n",
       "      <th>file_name</th>\n",
       "      <th>path</th>\n",
       "      <th>...</th>\n",
       "      <th>whisper-large-v3</th>\n",
       "      <th>clapipa-transcription-allosaurus</th>\n",
       "      <th>vad_s</th>\n",
       "      <th>drz_s</th>\n",
       "      <th>trans_len</th>\n",
       "      <th>pcnt_speech</th>\n",
       "      <th>duration</th>\n",
       "      <th>trans_len_log</th>\n",
       "      <th>cos_sim_softmax</th>\n",
       "      <th>cos_sim_log</th>\n",
       "    </tr>\n",
       "  </thead>\n",
       "  <tbody>\n",
       "    <tr>\n",
       "      <th>8124</th>\n",
       "      <td>2497647.0</td>\n",
       "      <td>2498747.0</td>\n",
       "      <td>lə̀və̀lɛ̀ðɛ́l únɛ̀ɾɛ̀; kə̀ŋàcîí; ŋ̀gátɛ́v...</td>\n",
       "      <td>/Users/markjos/Library/CloudStorage/GoogleDriv...</td>\n",
       "      <td>/Users/markjos/Library/CloudStorage/GoogleDriv...</td>\n",
       "      <td>lə̀və̀lɛ̀ðɛ́l únɛ̀ɾɛ̀</td>\n",
       "      <td>[data/tira-asr/clips/HH20210305-m41s37ms647-m4...</td>\n",
       "      <td>/Users/markjos/Library/CloudStorage/GoogleDriv...</td>\n",
       "      <td>data/tira-asr/clips/HH20210305-m41s37ms647-m41...</td>\n",
       "      <td>HH20210305-m41s37ms647-m41s38ms747.wav</td>\n",
       "      <td>...</td>\n",
       "      <td>Maybe a little</td>\n",
       "      <td>0.2357</td>\n",
       "      <td>1.080</td>\n",
       "      <td>1.063</td>\n",
       "      <td>22</td>\n",
       "      <td>0.981818</td>\n",
       "      <td>13.261</td>\n",
       "      <td>3.091042</td>\n",
       "      <td>0.000050</td>\n",
       "      <td>-9.912789</td>\n",
       "    </tr>\n",
       "    <tr>\n",
       "      <th>17451</th>\n",
       "      <td>75352.0</td>\n",
       "      <td>78372.0</td>\n",
       "      <td>ŋǐn ŋìrlɛ̀ɲí tòlìɲà; ðart̪ɔlðɛ urnɔ ŋə v...</td>\n",
       "      <td>/Users/markjos/Library/CloudStorage/GoogleDriv...</td>\n",
       "      <td>/Users/markjos/Library/CloudStorage/GoogleDriv...</td>\n",
       "      <td>ŋǐn ŋìrlɛ̀ɲí tòlìɲà</td>\n",
       "      <td>[data/tira-asr/clips/HH11252020-m01s15ms352-m0...</td>\n",
       "      <td>/Users/markjos/Library/CloudStorage/GoogleDriv...</td>\n",
       "      <td>data/tira-asr/clips/HH11252020-m01s15ms352-m01...</td>\n",
       "      <td>HH11252020-m01s15ms352-m01s18ms372.wav</td>\n",
       "      <td>...</td>\n",
       "      <td>και γυρλένει το λινιά.</td>\n",
       "      <td>0.5331</td>\n",
       "      <td>2.228</td>\n",
       "      <td>2.953</td>\n",
       "      <td>25</td>\n",
       "      <td>0.737748</td>\n",
       "      <td>12.093</td>\n",
       "      <td>3.218876</td>\n",
       "      <td>0.000048</td>\n",
       "      <td>-9.936978</td>\n",
       "    </tr>\n",
       "    <tr>\n",
       "      <th>7897</th>\n",
       "      <td>2514766.0</td>\n",
       "      <td>2515986.0</td>\n",
       "      <td>kə̀ŋàcî; jà ðáŋàl ðɛ́və̀lɛ̀ðà tɔ́wə̀nì;...</td>\n",
       "      <td>/Users/markjos/Library/CloudStorage/GoogleDriv...</td>\n",
       "      <td>/Users/markjos/Library/CloudStorage/GoogleDriv...</td>\n",
       "      <td>kə̀ŋàtʃî</td>\n",
       "      <td>[data/tira-asr/clips/HH20210707-m41s54ms766-m4...</td>\n",
       "      <td>/Users/markjos/Library/CloudStorage/GoogleDriv...</td>\n",
       "      <td>data/tira-asr/clips/HH20210707-m41s54ms766-m41...</td>\n",
       "      <td>HH20210707-m41s54ms766-m41s55ms986.wav</td>\n",
       "      <td>...</td>\n",
       "      <td>Cangate.</td>\n",
       "      <td>0.3237</td>\n",
       "      <td>1.131</td>\n",
       "      <td>1.181</td>\n",
       "      <td>9</td>\n",
       "      <td>0.927049</td>\n",
       "      <td>12.899</td>\n",
       "      <td>2.197225</td>\n",
       "      <td>0.000048</td>\n",
       "      <td>-9.940310</td>\n",
       "    </tr>\n",
       "    <tr>\n",
       "      <th>6622</th>\n",
       "      <td>2208490.0</td>\n",
       "      <td>2209790.0</td>\n",
       "      <td>t̪ɔ́ ŋíà; ŋgɛ́là ŋgát̪ə̀vɔ́ ðàr; ndrí; k...</td>\n",
       "      <td>/Users/markjos/Library/CloudStorage/GoogleDriv...</td>\n",
       "      <td>/Users/markjos/Library/CloudStorage/GoogleDriv...</td>\n",
       "      <td>t̪ɔ́ ŋíà</td>\n",
       "      <td>[data/tira-asr/clips/HH20220206-2-m36s48ms490-...</td>\n",
       "      <td>/Users/markjos/Library/CloudStorage/GoogleDriv...</td>\n",
       "      <td>data/tira-asr/clips/HH20220206-2-m36s48ms490-m...</td>\n",
       "      <td>HH20220206-2-m36s48ms490-m36s49ms790.wav</td>\n",
       "      <td>...</td>\n",
       "      <td>Thongia</td>\n",
       "      <td>0.4881</td>\n",
       "      <td>0.861</td>\n",
       "      <td>1.282</td>\n",
       "      <td>10</td>\n",
       "      <td>0.662308</td>\n",
       "      <td>13.037</td>\n",
       "      <td>2.302585</td>\n",
       "      <td>0.000048</td>\n",
       "      <td>-9.943635</td>\n",
       "    </tr>\n",
       "    <tr>\n",
       "      <th>17399</th>\n",
       "      <td>3110040.0</td>\n",
       "      <td>3111280.0</td>\n",
       "      <td>rùɽú rìcə̀lò; ŋgɛ́là ŋə̀t̪ə́vɛ̀ ðár; lɛ́...</td>\n",
       "      <td>/Users/markjos/Library/CloudStorage/GoogleDriv...</td>\n",
       "      <td>/Users/markjos/Library/CloudStorage/GoogleDriv...</td>\n",
       "      <td>rùɽú rìtʃə̀lò</td>\n",
       "      <td>[data/tira-asr/clips/HH20230703-m51s50ms040-m5...</td>\n",
       "      <td>/Users/markjos/Library/CloudStorage/GoogleDriv...</td>\n",
       "      <td>data/tira-asr/clips/HH20230703-m51s50ms040-m51...</td>\n",
       "      <td>HH20230703-m51s50ms040-m51s51ms280.wav</td>\n",
       "      <td>...</td>\n",
       "      <td>രോരോരോ ചലോ</td>\n",
       "      <td>0.6972</td>\n",
       "      <td>0.911</td>\n",
       "      <td>1.147</td>\n",
       "      <td>16</td>\n",
       "      <td>0.734677</td>\n",
       "      <td>12.919</td>\n",
       "      <td>2.772589</td>\n",
       "      <td>0.000048</td>\n",
       "      <td>-9.948322</td>\n",
       "    </tr>\n",
       "  </tbody>\n",
       "</table>\n",
       "<p>5 rows × 26 columns</p>\n",
       "</div>"
      ],
      "text/plain": [
       "           start        end  \\\n",
       "8124   2497647.0  2498747.0   \n",
       "17451    75352.0    78372.0   \n",
       "7897   2514766.0  2515986.0   \n",
       "6622   2208490.0  2209790.0   \n",
       "17399  3110040.0  3111280.0   \n",
       "\n",
       "                                           transcription  \\\n",
       "8124   lə̀və̀lɛ̀ðɛ́l únɛ̀ɾɛ̀; kə̀ŋàcîí; ŋ̀gátɛ́v...   \n",
       "17451  ŋǐn ŋìrlɛ̀ɲí tòlìɲà; ðart̪ɔlðɛ urnɔ ŋə v...   \n",
       "7897   kə̀ŋàcî; jà ðáŋàl ðɛ́və̀lɛ̀ðà tɔ́wə̀nì;...   \n",
       "6622   t̪ɔ́ ŋíà; ŋgɛ́là ŋgát̪ə̀vɔ́ ðàr; ndrí; k...   \n",
       "17399  rùɽú rìcə̀lò; ŋgɛ́là ŋə̀t̪ə́vɛ̀ ðár; lɛ́...   \n",
       "\n",
       "                                              eaf_source  \\\n",
       "8124   /Users/markjos/Library/CloudStorage/GoogleDriv...   \n",
       "17451  /Users/markjos/Library/CloudStorage/GoogleDriv...   \n",
       "7897   /Users/markjos/Library/CloudStorage/GoogleDriv...   \n",
       "6622   /Users/markjos/Library/CloudStorage/GoogleDriv...   \n",
       "17399  /Users/markjos/Library/CloudStorage/GoogleDriv...   \n",
       "\n",
       "                                              wav_source  \\\n",
       "8124   /Users/markjos/Library/CloudStorage/GoogleDriv...   \n",
       "17451  /Users/markjos/Library/CloudStorage/GoogleDriv...   \n",
       "7897   /Users/markjos/Library/CloudStorage/GoogleDriv...   \n",
       "6622   /Users/markjos/Library/CloudStorage/GoogleDriv...   \n",
       "17399  /Users/markjos/Library/CloudStorage/GoogleDriv...   \n",
       "\n",
       "            raw_transcription  \\\n",
       "8124   lə̀və̀lɛ̀ðɛ́l únɛ̀ɾɛ̀   \n",
       "17451     ŋǐn ŋìrlɛ̀ɲí tòlìɲà   \n",
       "7897               kə̀ŋàtʃî   \n",
       "6622               t̪ɔ́ ŋíà   \n",
       "17399       rùɽú rìtʃə̀lò   \n",
       "\n",
       "                                                    clip  \\\n",
       "8124   [data/tira-asr/clips/HH20210305-m41s37ms647-m4...   \n",
       "17451  [data/tira-asr/clips/HH11252020-m01s15ms352-m0...   \n",
       "7897   [data/tira-asr/clips/HH20210707-m41s54ms766-m4...   \n",
       "6622   [data/tira-asr/clips/HH20220206-2-m36s48ms490-...   \n",
       "17399  [data/tira-asr/clips/HH20230703-m51s50ms040-m5...   \n",
       "\n",
       "                                             wav_rawpath  \\\n",
       "8124   /Users/markjos/Library/CloudStorage/GoogleDriv...   \n",
       "17451  /Users/markjos/Library/CloudStorage/GoogleDriv...   \n",
       "7897   /Users/markjos/Library/CloudStorage/GoogleDriv...   \n",
       "6622   /Users/markjos/Library/CloudStorage/GoogleDriv...   \n",
       "17399  /Users/markjos/Library/CloudStorage/GoogleDriv...   \n",
       "\n",
       "                                               file_name  \\\n",
       "8124   data/tira-asr/clips/HH20210305-m41s37ms647-m41...   \n",
       "17451  data/tira-asr/clips/HH11252020-m01s15ms352-m01...   \n",
       "7897   data/tira-asr/clips/HH20210707-m41s54ms766-m41...   \n",
       "6622   data/tira-asr/clips/HH20220206-2-m36s48ms490-m...   \n",
       "17399  data/tira-asr/clips/HH20230703-m51s50ms040-m51...   \n",
       "\n",
       "                                           path  ...         whisper-large-v3  \\\n",
       "8124     HH20210305-m41s37ms647-m41s38ms747.wav  ...           Maybe a little   \n",
       "17451    HH11252020-m01s15ms352-m01s18ms372.wav  ...   και γυρλένει το λινιά.   \n",
       "7897     HH20210707-m41s54ms766-m41s55ms986.wav  ...                 Cangate.   \n",
       "6622   HH20220206-2-m36s48ms490-m36s49ms790.wav  ...                  Thongia   \n",
       "17399    HH20230703-m51s50ms040-m51s51ms280.wav  ...               രോരോരോ ചലോ   \n",
       "\n",
       "       clapipa-transcription-allosaurus  vad_s  drz_s trans_len pcnt_speech  \\\n",
       "8124                             0.2357  1.080  1.063        22    0.981818   \n",
       "17451                            0.5331  2.228  2.953        25    0.737748   \n",
       "7897                             0.3237  1.131  1.181         9    0.927049   \n",
       "6622                             0.4881  0.861  1.282        10    0.662308   \n",
       "17399                            0.6972  0.911  1.147        16    0.734677   \n",
       "\n",
       "      duration  trans_len_log  cos_sim_softmax  cos_sim_log  \n",
       "8124    13.261       3.091042         0.000050    -9.912789  \n",
       "17451   12.093       3.218876         0.000048    -9.936978  \n",
       "7897    12.899       2.197225         0.000048    -9.940310  \n",
       "6622    13.037       2.302585         0.000048    -9.943635  \n",
       "17399   12.919       2.772589         0.000048    -9.948322  \n",
       "\n",
       "[5 rows x 26 columns]"
      ]
     },
     "execution_count": 26,
     "metadata": {},
     "output_type": "execute_result"
    }
   ],
   "source": [
    "df=df.sort_values('clap_ipa_cos_sim', ascending=False)\n",
    "df['duration']=(df['end']-df['start'])/1_000\n",
    "df_1k_rows = []\n",
    "i=0\n",
    "while len(df_1k_rows)<1_000:\n",
    "    new_record = df.iloc[i].copy()\n",
    "    new_record['clip']=[new_record['clip'],]\n",
    "    while new_record['duration']<12:\n",
    "        i+=1\n",
    "        concat=df.iloc[i].copy()\n",
    "        new_record['duration']+=concat['duration']\n",
    "        new_record['transcription']=new_record['transcription']+'; '+concat['transcription']\n",
    "        new_record['clip'].append(concat['clip'])\n",
    "    df_1k_rows.append(new_record)\n",
    "df_1k=pd.DataFrame(df_1k_rows)\n",
    "df_1k.head()\n"
   ]
  },
  {
   "cell_type": "code",
   "execution_count": 27,
   "metadata": {},
   "outputs": [],
   "source": [
    "def join_clips(cliplist, new_dir,):\n",
    "    # fix relative imports\n",
    "    cliplist_rel=['../'+clip for clip in cliplist]\n",
    "    i=len(glob(new_dir+'/*.wav'))\n",
    "    new_basename=f'{i}.wav'\n",
    "    audios = [torchaudio.load(audio) for audio in cliplist_rel]\n",
    "    assert all(sr==16_000 for _, sr in audios)\n",
    "    audio_concat=torch.concat([wav for wav, _ in audios], dim=1)\n",
    "    new_path=os.path.join(new_dir, new_basename)\n",
    "    torchaudio.save(new_path, audio_concat, 16_000)\n",
    "    return os.path.join('clips', new_basename)\n",
    "# join_clips(df_1k.iloc[0]['clip'], '/Users/markjos/projects/malachor5/data/tira-concat-1k/clips')"
   ]
  },
  {
   "cell_type": "code",
   "execution_count": 28,
   "metadata": {},
   "outputs": [],
   "source": [
    "clipdir_1k_concat='/Users/markjos/projects/malachor5/data/tira-concat-1k/clips'\n",
    "df_1k['file_name']=df_1k['clip'].apply(lambda clips: join_clips(clips, clipdir_1k_concat))"
   ]
  },
  {
   "cell_type": "code",
   "execution_count": 29,
   "metadata": {},
   "outputs": [],
   "source": [
    "df_1k=df_1k.rename({'filename': 'file_name'}, axis=1)"
   ]
  },
  {
   "cell_type": "code",
   "execution_count": 30,
   "metadata": {},
   "outputs": [
    {
     "data": {
      "text/plain": [
       "8124     clips/1000.wav\n",
       "17451    clips/1001.wav\n",
       "7897     clips/1002.wav\n",
       "6622     clips/1003.wav\n",
       "17399    clips/1004.wav\n",
       "              ...      \n",
       "9026     clips/1995.wav\n",
       "10269    clips/1996.wav\n",
       "2323     clips/1997.wav\n",
       "21483    clips/1998.wav\n",
       "2214     clips/1999.wav\n",
       "Name: file_name, Length: 1000, dtype: object"
      ]
     },
     "execution_count": 30,
     "metadata": {},
     "output_type": "execute_result"
    }
   ],
   "source": [
    "df_1k['file_name']"
   ]
  },
  {
   "cell_type": "code",
   "execution_count": 31,
   "metadata": {},
   "outputs": [],
   "source": [
    "df_1k.to_csv('/Users/markjos/projects/malachor5/data/tira-concat-1k/metadata.csv',index=False)"
   ]
  },
  {
   "cell_type": "code",
   "execution_count": 32,
   "metadata": {},
   "outputs": [],
   "source": [
    "def copy_clip(clippath, new_dir):\n",
    "    clippath_rel='../'+clippath\n",
    "    shutil.copy(clippath_rel, new_dir)\n",
    "    return 'clips/'+os.path.basename(clippath)\n",
    "\n",
    "clipdir_1k='/Users/markjos/projects/malachor5/data/tira-1k/clips'\n",
    "# df.iloc[:1000]['clip'].apply(lambda clips: copy_clip(clips, clipdir_1k))"
   ]
  },
  {
   "cell_type": "code",
   "execution_count": 33,
   "metadata": {},
   "outputs": [
    {
     "data": {
      "text/plain": [
       "1000"
      ]
     },
     "execution_count": 33,
     "metadata": {},
     "output_type": "execute_result"
    }
   ],
   "source": [
    "len(glob(clipdir_1k+'/*.wav'))"
   ]
  },
  {
   "cell_type": "code",
   "execution_count": 34,
   "metadata": {},
   "outputs": [],
   "source": [
    "df[:1000].to_csv(clipdir_1k+'/metadata.csv', index=False)"
   ]
  },
  {
   "cell_type": "code",
   "execution_count": 39,
   "metadata": {},
   "outputs": [
    {
     "data": {
      "image/png": "[encoded data removed]",
      "text/plain": [
       "<Figure size 1200x600 with 8 Axes>"
      ]
     },
     "metadata": {},
     "output_type": "display_data"
    }
   ],
   "source": [
    "fig, axes = plt.subplots(ncols=len(sim_csvs)+2,figsize=(12,6))\n",
    "df.boxplot('duration', ax=axes[0])\n",
    "axes[0].set_ylim(0,60)\n",
    "axes[0].set_title('Tira')\n",
    "\n",
    "df_1k.boxplot('duration', ax=axes[1])\n",
    "axes[1].set_ylim(0,60)\n",
    "axes[1].set_title('Tira concat')\n",
    "\n",
    "for i, csv_path in enumerate(sim_csvs):\n",
    "    sim_df=pd.read_csv(csv_path)\n",
    "    sim_df['duration']=sim_df['num_samples']/16_000\n",
    "    sim_df.boxplot('duration', ax=axes[i+2])\n",
    "    language=sim_df['language'].iloc[0]\n",
    "    axes[i+2].set_title(language)\n",
    "    axes[i+2].set_ylim(0,60)"
   ]
  },
  {
   "cell_type": "code",
   "execution_count": 40,
   "metadata": {},
   "outputs": [
    {
     "data": {
      "image/png": "[encoded data removed]",
      "text/plain": [
       "<Figure size 1200x600 with 8 Axes>"
      ]
     },
     "metadata": {},
     "output_type": "display_data"
    }
   ],
   "source": [
    "fig, axes = plt.subplots(ncols=len(sim_csvs)+2,figsize=(12,6))\n",
    "df.iloc[:1000].boxplot('clap_ipa_cos_sim', ax=axes[0])\n",
    "axes[0].set_title('Tira')\n",
    "axes[0].set_ylim(0,1)\n",
    "\n",
    "df_1k.boxplot('clap_ipa_cos_sim', ax=axes[1])\n",
    "axes[1].set_title('Tira_concat')\n",
    "axes[1].set_ylim(0,1)\n",
    "\n",
    "for i, csv_path in enumerate(sim_csvs):\n",
    "    sim_df=pd.read_csv(csv_path)\n",
    "    sim_df.boxplot('similarity', ax=axes[i+2])\n",
    "    language=sim_df['language'].iloc[0]\n",
    "    axes[i+2].set_title(language)\n",
    "    axes[i+2].set_ylim(0,1)"
   ]
  },
  {
   "cell_type": "markdown",
   "metadata": {},
   "source": [
    "# Make clean Tira ASR dataset"
   ]
  },
  {
   "cell_type": "code",
   "execution_count": 41,
   "metadata": {},
   "outputs": [
    {
     "data": {
      "text/plain": [
       "((20480, 26), 11.253147499999999)"
      ]
     },
     "execution_count": 41,
     "metadata": {},
     "output_type": "execute_result"
    }
   ],
   "source": [
    "clean_df=df[\n",
    "    (df['pcnt_speech']>=0.6) &\n",
    "    (df['clap_ipa_cos_sim']>=0.6)\n",
    "]\n",
    "clean_df.shape, clean_df['duration'].sum()/3_600"
   ]
  },
  {
   "cell_type": "code",
   "execution_count": 43,
   "metadata": {},
   "outputs": [
    {
     "data": {
      "text/plain": [
       "(184,)"
      ]
     },
     "execution_count": 43,
     "metadata": {},
     "output_type": "execute_result"
    }
   ],
   "source": [
    "clean_df['wav_source'].unique().shape"
   ]
  },
  {
   "cell_type": "code",
   "execution_count": 42,
   "metadata": {},
   "outputs": [
    {
     "ename": "KeyboardInterrupt",
     "evalue": "",
     "output_type": "error",
     "traceback": [
      "\u001b[0;31m---------------------------------------------------------------------------\u001b[0m",
      "\u001b[0;31mKeyboardInterrupt\u001b[0m                         Traceback (most recent call last)",
      "Input \u001b[0;32mIn [42]\u001b[0m, in \u001b[0;36m<cell line: 2>\u001b[0;34m()\u001b[0m\n\u001b[1;32m      1\u001b[0m tira_clean_dir\u001b[38;5;241m=\u001b[39m\u001b[38;5;124m'\u001b[39m\u001b[38;5;124m/Users/markjos/projects/malachor5/data/tira-clean\u001b[39m\u001b[38;5;124m'\u001b[39m\n\u001b[0;32m----> 2\u001b[0m clean_df[\u001b[38;5;124m'\u001b[39m\u001b[38;5;124mfile_name\u001b[39m\u001b[38;5;124m'\u001b[39m]\u001b[38;5;241m=\u001b[39m\u001b[43mclean_df\u001b[49m\u001b[43m[\u001b[49m\u001b[38;5;124;43m'\u001b[39;49m\u001b[38;5;124;43mclip\u001b[39;49m\u001b[38;5;124;43m'\u001b[39;49m\u001b[43m]\u001b[49m\u001b[38;5;241;43m.\u001b[39;49m\u001b[43mapply\u001b[49m\u001b[43m(\u001b[49m\u001b[38;5;28;43;01mlambda\u001b[39;49;00m\u001b[43m \u001b[49m\u001b[43mclip\u001b[49m\u001b[43m:\u001b[49m\u001b[43m \u001b[49m\u001b[43mcopy_clip\u001b[49m\u001b[43m(\u001b[49m\u001b[43mclip\u001b[49m\u001b[43m,\u001b[49m\u001b[43m \u001b[49m\u001b[43mtira_clean_dir\u001b[49m\u001b[38;5;241;43m+\u001b[39;49m\u001b[38;5;124;43m'\u001b[39;49m\u001b[38;5;124;43m/clips\u001b[39;49m\u001b[38;5;124;43m'\u001b[39;49m\u001b[43m)\u001b[49m\u001b[43m)\u001b[49m\n\u001b[1;32m      3\u001b[0m \u001b[38;5;28mprint\u001b[39m(\u001b[38;5;28mlen\u001b[39m(glob(tira_clean_dir\u001b[38;5;241m+\u001b[39m\u001b[38;5;124m'\u001b[39m\u001b[38;5;124m/clips/*.wav\u001b[39m\u001b[38;5;124m'\u001b[39m)))\n",
      "File \u001b[0;32m/usr/local/lib/python3.9/site-packages/pandas/core/series.py:4753\u001b[0m, in \u001b[0;36mSeries.apply\u001b[0;34m(self, func, convert_dtype, args, by_row, **kwargs)\u001b[0m\n\u001b[1;32m   4625\u001b[0m \u001b[38;5;28;01mdef\u001b[39;00m \u001b[38;5;21mapply\u001b[39m(\n\u001b[1;32m   4626\u001b[0m     \u001b[38;5;28mself\u001b[39m,\n\u001b[1;32m   4627\u001b[0m     func: AggFuncType,\n\u001b[0;32m   (...)\u001b[0m\n\u001b[1;32m   4632\u001b[0m     \u001b[38;5;241m*\u001b[39m\u001b[38;5;241m*\u001b[39mkwargs,\n\u001b[1;32m   4633\u001b[0m ) \u001b[38;5;241m-\u001b[39m\u001b[38;5;241m>\u001b[39m DataFrame \u001b[38;5;241m|\u001b[39m Series:\n\u001b[1;32m   4634\u001b[0m \u001b[38;5;250m    \u001b[39m\u001b[38;5;124;03m\"\"\"\u001b[39;00m\n\u001b[1;32m   4635\u001b[0m \u001b[38;5;124;03m    Invoke function on values of Series.\u001b[39;00m\n\u001b[1;32m   4636\u001b[0m \n\u001b[0;32m   (...)\u001b[0m\n\u001b[1;32m   4751\u001b[0m \u001b[38;5;124;03m    dtype: float64\u001b[39;00m\n\u001b[1;32m   4752\u001b[0m \u001b[38;5;124;03m    \"\"\"\u001b[39;00m\n\u001b[0;32m-> 4753\u001b[0m     \u001b[38;5;28;01mreturn\u001b[39;00m \u001b[43mSeriesApply\u001b[49m\u001b[43m(\u001b[49m\n\u001b[1;32m   4754\u001b[0m \u001b[43m        \u001b[49m\u001b[38;5;28;43mself\u001b[39;49m\u001b[43m,\u001b[49m\n\u001b[1;32m   4755\u001b[0m \u001b[43m        \u001b[49m\u001b[43mfunc\u001b[49m\u001b[43m,\u001b[49m\n\u001b[1;32m   4756\u001b[0m \u001b[43m        \u001b[49m\u001b[43mconvert_dtype\u001b[49m\u001b[38;5;241;43m=\u001b[39;49m\u001b[43mconvert_dtype\u001b[49m\u001b[43m,\u001b[49m\n\u001b[1;32m   4757\u001b[0m \u001b[43m        \u001b[49m\u001b[43mby_row\u001b[49m\u001b[38;5;241;43m=\u001b[39;49m\u001b[43mby_row\u001b[49m\u001b[43m,\u001b[49m\n\u001b[1;32m   4758\u001b[0m \u001b[43m        \u001b[49m\u001b[43margs\u001b[49m\u001b[38;5;241;43m=\u001b[39;49m\u001b[43margs\u001b[49m\u001b[43m,\u001b[49m\n\u001b[1;32m   4759\u001b[0m \u001b[43m        \u001b[49m\u001b[43mkwargs\u001b[49m\u001b[38;5;241;43m=\u001b[39;49m\u001b[43mkwargs\u001b[49m\u001b[43m,\u001b[49m\n\u001b[1;32m   4760\u001b[0m \u001b[43m    \u001b[49m\u001b[43m)\u001b[49m\u001b[38;5;241;43m.\u001b[39;49m\u001b[43mapply\u001b[49m\u001b[43m(\u001b[49m\u001b[43m)\u001b[49m\n",
      "File \u001b[0;32m/usr/local/lib/python3.9/site-packages/pandas/core/apply.py:1207\u001b[0m, in \u001b[0;36mSeriesApply.apply\u001b[0;34m(self)\u001b[0m\n\u001b[1;32m   1204\u001b[0m     \u001b[38;5;28;01mreturn\u001b[39;00m \u001b[38;5;28mself\u001b[39m\u001b[38;5;241m.\u001b[39mapply_compat()\n\u001b[1;32m   1206\u001b[0m \u001b[38;5;66;03m# self.func is Callable\u001b[39;00m\n\u001b[0;32m-> 1207\u001b[0m \u001b[38;5;28;01mreturn\u001b[39;00m \u001b[38;5;28;43mself\u001b[39;49m\u001b[38;5;241;43m.\u001b[39;49m\u001b[43mapply_standard\u001b[49m\u001b[43m(\u001b[49m\u001b[43m)\u001b[49m\n",
      "File \u001b[0;32m/usr/local/lib/python3.9/site-packages/pandas/core/apply.py:1287\u001b[0m, in \u001b[0;36mSeriesApply.apply_standard\u001b[0;34m(self)\u001b[0m\n\u001b[1;32m   1281\u001b[0m \u001b[38;5;66;03m# row-wise access\u001b[39;00m\n\u001b[1;32m   1282\u001b[0m \u001b[38;5;66;03m# apply doesn't have a `na_action` keyword and for backward compat reasons\u001b[39;00m\n\u001b[1;32m   1283\u001b[0m \u001b[38;5;66;03m# we need to give `na_action=\"ignore\"` for categorical data.\u001b[39;00m\n\u001b[1;32m   1284\u001b[0m \u001b[38;5;66;03m# TODO: remove the `na_action=\"ignore\"` when that default has been changed in\u001b[39;00m\n\u001b[1;32m   1285\u001b[0m \u001b[38;5;66;03m#  Categorical (GH51645).\u001b[39;00m\n\u001b[1;32m   1286\u001b[0m action \u001b[38;5;241m=\u001b[39m \u001b[38;5;124m\"\u001b[39m\u001b[38;5;124mignore\u001b[39m\u001b[38;5;124m\"\u001b[39m \u001b[38;5;28;01mif\u001b[39;00m \u001b[38;5;28misinstance\u001b[39m(obj\u001b[38;5;241m.\u001b[39mdtype, CategoricalDtype) \u001b[38;5;28;01melse\u001b[39;00m \u001b[38;5;28;01mNone\u001b[39;00m\n\u001b[0;32m-> 1287\u001b[0m mapped \u001b[38;5;241m=\u001b[39m \u001b[43mobj\u001b[49m\u001b[38;5;241;43m.\u001b[39;49m\u001b[43m_map_values\u001b[49m\u001b[43m(\u001b[49m\n\u001b[1;32m   1288\u001b[0m \u001b[43m    \u001b[49m\u001b[43mmapper\u001b[49m\u001b[38;5;241;43m=\u001b[39;49m\u001b[43mcurried\u001b[49m\u001b[43m,\u001b[49m\u001b[43m \u001b[49m\u001b[43mna_action\u001b[49m\u001b[38;5;241;43m=\u001b[39;49m\u001b[43maction\u001b[49m\u001b[43m,\u001b[49m\u001b[43m \u001b[49m\u001b[43mconvert\u001b[49m\u001b[38;5;241;43m=\u001b[39;49m\u001b[38;5;28;43mself\u001b[39;49m\u001b[38;5;241;43m.\u001b[39;49m\u001b[43mconvert_dtype\u001b[49m\n\u001b[1;32m   1289\u001b[0m \u001b[43m\u001b[49m\u001b[43m)\u001b[49m\n\u001b[1;32m   1291\u001b[0m \u001b[38;5;28;01mif\u001b[39;00m \u001b[38;5;28mlen\u001b[39m(mapped) \u001b[38;5;129;01mand\u001b[39;00m \u001b[38;5;28misinstance\u001b[39m(mapped[\u001b[38;5;241m0\u001b[39m], ABCSeries):\n\u001b[1;32m   1292\u001b[0m     \u001b[38;5;66;03m# GH#43986 Need to do list(mapped) in order to get treated as nested\u001b[39;00m\n\u001b[1;32m   1293\u001b[0m     \u001b[38;5;66;03m#  See also GH#25959 regarding EA support\u001b[39;00m\n\u001b[1;32m   1294\u001b[0m     \u001b[38;5;28;01mreturn\u001b[39;00m obj\u001b[38;5;241m.\u001b[39m_constructor_expanddim(\u001b[38;5;28mlist\u001b[39m(mapped), index\u001b[38;5;241m=\u001b[39mobj\u001b[38;5;241m.\u001b[39mindex)\n",
      "File \u001b[0;32m/usr/local/lib/python3.9/site-packages/pandas/core/base.py:921\u001b[0m, in \u001b[0;36mIndexOpsMixin._map_values\u001b[0;34m(self, mapper, na_action, convert)\u001b[0m\n\u001b[1;32m    918\u001b[0m \u001b[38;5;28;01mif\u001b[39;00m \u001b[38;5;28misinstance\u001b[39m(arr, ExtensionArray):\n\u001b[1;32m    919\u001b[0m     \u001b[38;5;28;01mreturn\u001b[39;00m arr\u001b[38;5;241m.\u001b[39mmap(mapper, na_action\u001b[38;5;241m=\u001b[39mna_action)\n\u001b[0;32m--> 921\u001b[0m \u001b[38;5;28;01mreturn\u001b[39;00m \u001b[43malgorithms\u001b[49m\u001b[38;5;241;43m.\u001b[39;49m\u001b[43mmap_array\u001b[49m\u001b[43m(\u001b[49m\u001b[43marr\u001b[49m\u001b[43m,\u001b[49m\u001b[43m \u001b[49m\u001b[43mmapper\u001b[49m\u001b[43m,\u001b[49m\u001b[43m \u001b[49m\u001b[43mna_action\u001b[49m\u001b[38;5;241;43m=\u001b[39;49m\u001b[43mna_action\u001b[49m\u001b[43m,\u001b[49m\u001b[43m \u001b[49m\u001b[43mconvert\u001b[49m\u001b[38;5;241;43m=\u001b[39;49m\u001b[43mconvert\u001b[49m\u001b[43m)\u001b[49m\n",
      "File \u001b[0;32m/usr/local/lib/python3.9/site-packages/pandas/core/algorithms.py:1814\u001b[0m, in \u001b[0;36mmap_array\u001b[0;34m(arr, mapper, na_action, convert)\u001b[0m\n\u001b[1;32m   1812\u001b[0m values \u001b[38;5;241m=\u001b[39m arr\u001b[38;5;241m.\u001b[39mastype(\u001b[38;5;28mobject\u001b[39m, copy\u001b[38;5;241m=\u001b[39m\u001b[38;5;28;01mFalse\u001b[39;00m)\n\u001b[1;32m   1813\u001b[0m \u001b[38;5;28;01mif\u001b[39;00m na_action \u001b[38;5;129;01mis\u001b[39;00m \u001b[38;5;28;01mNone\u001b[39;00m:\n\u001b[0;32m-> 1814\u001b[0m     \u001b[38;5;28;01mreturn\u001b[39;00m \u001b[43mlib\u001b[49m\u001b[38;5;241;43m.\u001b[39;49m\u001b[43mmap_infer\u001b[49m\u001b[43m(\u001b[49m\u001b[43mvalues\u001b[49m\u001b[43m,\u001b[49m\u001b[43m \u001b[49m\u001b[43mmapper\u001b[49m\u001b[43m,\u001b[49m\u001b[43m \u001b[49m\u001b[43mconvert\u001b[49m\u001b[38;5;241;43m=\u001b[39;49m\u001b[43mconvert\u001b[49m\u001b[43m)\u001b[49m\n\u001b[1;32m   1815\u001b[0m \u001b[38;5;28;01melse\u001b[39;00m:\n\u001b[1;32m   1816\u001b[0m     \u001b[38;5;28;01mreturn\u001b[39;00m lib\u001b[38;5;241m.\u001b[39mmap_infer_mask(\n\u001b[1;32m   1817\u001b[0m         values, mapper, mask\u001b[38;5;241m=\u001b[39misna(values)\u001b[38;5;241m.\u001b[39mview(np\u001b[38;5;241m.\u001b[39muint8), convert\u001b[38;5;241m=\u001b[39mconvert\n\u001b[1;32m   1818\u001b[0m     )\n",
      "File \u001b[0;32mlib.pyx:2917\u001b[0m, in \u001b[0;36mpandas._libs.lib.map_infer\u001b[0;34m()\u001b[0m\n",
      "Input \u001b[0;32mIn [42]\u001b[0m, in \u001b[0;36m<lambda>\u001b[0;34m(clip)\u001b[0m\n\u001b[1;32m      1\u001b[0m tira_clean_dir\u001b[38;5;241m=\u001b[39m\u001b[38;5;124m'\u001b[39m\u001b[38;5;124m/Users/markjos/projects/malachor5/data/tira-clean\u001b[39m\u001b[38;5;124m'\u001b[39m\n\u001b[0;32m----> 2\u001b[0m clean_df[\u001b[38;5;124m'\u001b[39m\u001b[38;5;124mfile_name\u001b[39m\u001b[38;5;124m'\u001b[39m]\u001b[38;5;241m=\u001b[39mclean_df[\u001b[38;5;124m'\u001b[39m\u001b[38;5;124mclip\u001b[39m\u001b[38;5;124m'\u001b[39m]\u001b[38;5;241m.\u001b[39mapply(\u001b[38;5;28;01mlambda\u001b[39;00m clip: \u001b[43mcopy_clip\u001b[49m\u001b[43m(\u001b[49m\u001b[43mclip\u001b[49m\u001b[43m,\u001b[49m\u001b[43m \u001b[49m\u001b[43mtira_clean_dir\u001b[49m\u001b[38;5;241;43m+\u001b[39;49m\u001b[38;5;124;43m'\u001b[39;49m\u001b[38;5;124;43m/clips\u001b[39;49m\u001b[38;5;124;43m'\u001b[39;49m\u001b[43m)\u001b[49m)\n\u001b[1;32m      3\u001b[0m \u001b[38;5;28mprint\u001b[39m(\u001b[38;5;28mlen\u001b[39m(glob(tira_clean_dir\u001b[38;5;241m+\u001b[39m\u001b[38;5;124m'\u001b[39m\u001b[38;5;124m/clips/*.wav\u001b[39m\u001b[38;5;124m'\u001b[39m)))\n",
      "Input \u001b[0;32mIn [32]\u001b[0m, in \u001b[0;36mcopy_clip\u001b[0;34m(clippath, new_dir)\u001b[0m\n\u001b[1;32m      1\u001b[0m \u001b[38;5;28;01mdef\u001b[39;00m \u001b[38;5;21mcopy_clip\u001b[39m(clippath, new_dir):\n\u001b[1;32m      2\u001b[0m     clippath_rel\u001b[38;5;241m=\u001b[39m\u001b[38;5;124m'\u001b[39m\u001b[38;5;124m../\u001b[39m\u001b[38;5;124m'\u001b[39m\u001b[38;5;241m+\u001b[39mclippath\n\u001b[0;32m----> 3\u001b[0m     \u001b[43mshutil\u001b[49m\u001b[38;5;241;43m.\u001b[39;49m\u001b[43mcopy\u001b[49m\u001b[43m(\u001b[49m\u001b[43mclippath_rel\u001b[49m\u001b[43m,\u001b[49m\u001b[43m \u001b[49m\u001b[43mnew_dir\u001b[49m\u001b[43m)\u001b[49m\n\u001b[1;32m      4\u001b[0m     \u001b[38;5;28;01mreturn\u001b[39;00m \u001b[38;5;124m'\u001b[39m\u001b[38;5;124mclips/\u001b[39m\u001b[38;5;124m'\u001b[39m\u001b[38;5;241m+\u001b[39mos\u001b[38;5;241m.\u001b[39mpath\u001b[38;5;241m.\u001b[39mbasename(clippath)\n",
      "File \u001b[0;32m/usr/local/Cellar/python@3.9/3.9.19_1/Frameworks/Python.framework/Versions/3.9/lib/python3.9/shutil.py:427\u001b[0m, in \u001b[0;36mcopy\u001b[0;34m(src, dst, follow_symlinks)\u001b[0m\n\u001b[1;32m    425\u001b[0m \u001b[38;5;28;01mif\u001b[39;00m os\u001b[38;5;241m.\u001b[39mpath\u001b[38;5;241m.\u001b[39misdir(dst):\n\u001b[1;32m    426\u001b[0m     dst \u001b[38;5;241m=\u001b[39m os\u001b[38;5;241m.\u001b[39mpath\u001b[38;5;241m.\u001b[39mjoin(dst, os\u001b[38;5;241m.\u001b[39mpath\u001b[38;5;241m.\u001b[39mbasename(src))\n\u001b[0;32m--> 427\u001b[0m \u001b[43mcopyfile\u001b[49m\u001b[43m(\u001b[49m\u001b[43msrc\u001b[49m\u001b[43m,\u001b[49m\u001b[43m \u001b[49m\u001b[43mdst\u001b[49m\u001b[43m,\u001b[49m\u001b[43m \u001b[49m\u001b[43mfollow_symlinks\u001b[49m\u001b[38;5;241;43m=\u001b[39;49m\u001b[43mfollow_symlinks\u001b[49m\u001b[43m)\u001b[49m\n\u001b[1;32m    428\u001b[0m copymode(src, dst, follow_symlinks\u001b[38;5;241m=\u001b[39mfollow_symlinks)\n\u001b[1;32m    429\u001b[0m \u001b[38;5;28;01mreturn\u001b[39;00m dst\n",
      "File \u001b[0;32m/usr/local/Cellar/python@3.9/3.9.19_1/Frameworks/Python.framework/Versions/3.9/lib/python3.9/shutil.py:270\u001b[0m, in \u001b[0;36mcopyfile\u001b[0;34m(src, dst, follow_symlinks)\u001b[0m\n\u001b[1;32m    268\u001b[0m \u001b[38;5;28;01mif\u001b[39;00m _HAS_FCOPYFILE:\n\u001b[1;32m    269\u001b[0m     \u001b[38;5;28;01mtry\u001b[39;00m:\n\u001b[0;32m--> 270\u001b[0m         \u001b[43m_fastcopy_fcopyfile\u001b[49m\u001b[43m(\u001b[49m\u001b[43mfsrc\u001b[49m\u001b[43m,\u001b[49m\u001b[43m \u001b[49m\u001b[43mfdst\u001b[49m\u001b[43m,\u001b[49m\u001b[43m \u001b[49m\u001b[43mposix\u001b[49m\u001b[38;5;241;43m.\u001b[39;49m\u001b[43m_COPYFILE_DATA\u001b[49m\u001b[43m)\u001b[49m\n\u001b[1;32m    271\u001b[0m         \u001b[38;5;28;01mreturn\u001b[39;00m dst\n\u001b[1;32m    272\u001b[0m     \u001b[38;5;28;01mexcept\u001b[39;00m _GiveupOnFastCopy:\n",
      "File \u001b[0;32m/usr/local/Cellar/python@3.9/3.9.19_1/Frameworks/Python.framework/Versions/3.9/lib/python3.9/shutil.py:105\u001b[0m, in \u001b[0;36m_fastcopy_fcopyfile\u001b[0;34m(fsrc, fdst, flags)\u001b[0m\n\u001b[1;32m    102\u001b[0m     \u001b[38;5;28;01mraise\u001b[39;00m _GiveupOnFastCopy(err)  \u001b[38;5;66;03m# not a regular file\u001b[39;00m\n\u001b[1;32m    104\u001b[0m \u001b[38;5;28;01mtry\u001b[39;00m:\n\u001b[0;32m--> 105\u001b[0m     \u001b[43mposix\u001b[49m\u001b[38;5;241;43m.\u001b[39;49m\u001b[43m_fcopyfile\u001b[49m\u001b[43m(\u001b[49m\u001b[43minfd\u001b[49m\u001b[43m,\u001b[49m\u001b[43m \u001b[49m\u001b[43moutfd\u001b[49m\u001b[43m,\u001b[49m\u001b[43m \u001b[49m\u001b[43mflags\u001b[49m\u001b[43m)\u001b[49m\n\u001b[1;32m    106\u001b[0m \u001b[38;5;28;01mexcept\u001b[39;00m \u001b[38;5;167;01mOSError\u001b[39;00m \u001b[38;5;28;01mas\u001b[39;00m err:\n\u001b[1;32m    107\u001b[0m     err\u001b[38;5;241m.\u001b[39mfilename \u001b[38;5;241m=\u001b[39m fsrc\u001b[38;5;241m.\u001b[39mname\n",
      "\u001b[0;31mKeyboardInterrupt\u001b[0m: "
     ]
    }
   ],
   "source": [
    "tira_clean_dir='/Users/markjos/projects/malachor5/data/tira-clean'\n",
    "clean_df['file_name']=clean_df['clip'].apply(lambda clip: copy_clip(clip, tira_clean_dir+'/clips'))\n",
    "print(len(glob(tira_clean_dir+'/clips/*.wav')))"
   ]
  },
  {
   "cell_type": "code",
   "execution_count": 151,
   "metadata": {},
   "outputs": [],
   "source": [
    "clean_df.to_csv(tira_clean_dir+'/metadata.csv', index=False)"
   ]
  }
 ],
 "metadata": {
  "kernelspec": {
   "display_name": "Python 3",
   "language": "python",
   "name": "python3"
  },
  "language_info": {
   "codemirror_mode": {
    "name": "ipython",
    "version": 3
   },
   "file_extension": ".py",
   "mimetype": "text/x-python",
   "name": "python",
   "nbconvert_exporter": "python",
   "pygments_lexer": "ipython3",
   "version": "3.9.19"
  }
 },
 "nbformat": 4,
 "nbformat_minor": 2
}
