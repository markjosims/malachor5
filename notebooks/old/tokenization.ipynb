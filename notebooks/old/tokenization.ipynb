{
 "cells": [
  {
   "cell_type": "code",
   "execution_count": 1,
   "metadata": {},
   "outputs": [
    {
     "name": "stderr",
     "output_type": "stream",
     "text": [
      "/usr/local/lib/python3.9/site-packages/tqdm/auto.py:21: TqdmWarning: IProgress not found. Please update jupyter and ipywidgets. See https://ipywidgets.readthedocs.io/en/stable/user_install.html\n",
      "  from .autonotebook import tqdm as notebook_tqdm\n"
     ]
    }
   ],
   "source": [
    "from transformers import WhisperTokenizer"
   ]
  },
  {
   "cell_type": "markdown",
   "metadata": {},
   "source": [
    "# Demo special tokens in Spanish and English"
   ]
  },
  {
   "cell_type": "code",
   "execution_count": 2,
   "metadata": {},
   "outputs": [],
   "source": [
    "sp_tok = WhisperTokenizer.from_pretrained(\"openai/whisper-small\", language=\"Spanish\", task=\"transcribe\")\n",
    "en_tok = WhisperTokenizer.from_pretrained(\"openai/whisper-small\", language=\"English\", task=\"transcribe\")"
   ]
  },
  {
   "cell_type": "code",
   "execution_count": 32,
   "metadata": {},
   "outputs": [],
   "source": [
    "get_toks = lambda s: [en_tok.decode(x) for x in en_tok.encode(s)]\n",
    "get_toks_nodecode = lambda s: en_tok.convert_ids_to_tokens(en_tok.encode(s))"
   ]
  },
  {
   "cell_type": "code",
   "execution_count": 27,
   "metadata": {},
   "outputs": [
    {
     "data": {
      "text/plain": [
       "['<|startoftranscript|>',\n",
       " '<|en|>',\n",
       " '<|transcribe|>',\n",
       " '<|notimestamps|>',\n",
       " 'he',\n",
       " 'llo',\n",
       " ' my',\n",
       " ' name',\n",
       " ' is',\n",
       " '<|endoftext|>']"
      ]
     },
     "execution_count": 27,
     "metadata": {},
     "output_type": "execute_result"
    }
   ],
   "source": [
    "get_toks('hello my name is')"
   ]
  },
  {
   "cell_type": "code",
   "execution_count": 28,
   "metadata": {},
   "outputs": [
    {
     "data": {
      "text/plain": [
       "['<|startoftranscript|>',\n",
       " '<|en|>',\n",
       " '<|transcribe|>',\n",
       " '<|notimestamps|>',\n",
       " 'B',\n",
       " 'om',\n",
       " ' dia',\n",
       " ' meus',\n",
       " ' car',\n",
       " 'as',\n",
       " '<|endoftext|>']"
      ]
     },
     "execution_count": 28,
     "metadata": {},
     "output_type": "execute_result"
    }
   ],
   "source": [
    "get_toks(\"Bom dia meus caras\")"
   ]
  },
  {
   "cell_type": "code",
   "execution_count": 30,
   "metadata": {},
   "outputs": [
    {
     "data": {
      "text/plain": [
       "['<|startoftranscript|>',\n",
       " '<|en|>',\n",
       " '<|transcribe|>',\n",
       " '<|notimestamps|>',\n",
       " 'да',\n",
       " ' свид',\n",
       " 'ания',\n",
       " '<|endoftext|>']"
      ]
     },
     "execution_count": 30,
     "metadata": {},
     "output_type": "execute_result"
    }
   ],
   "source": [
    "get_toks(\"да свидания\")"
   ]
  },
  {
   "cell_type": "code",
   "execution_count": 34,
   "metadata": {},
   "outputs": [
    {
     "data": {
      "text/plain": [
       "['<|startoftranscript|>',\n",
       " '<|en|>',\n",
       " '<|transcribe|>',\n",
       " '<|notimestamps|>',\n",
       " '機',\n",
       " '器',\n",
       " '學',\n",
       " '習',\n",
       " '<|endoftext|>']"
      ]
     },
     "execution_count": 34,
     "metadata": {},
     "output_type": "execute_result"
    }
   ],
   "source": [
    "get_toks(\"機器學習\")"
   ]
  },
  {
   "cell_type": "code",
   "execution_count": 44,
   "metadata": {},
   "outputs": [
    {
     "data": {
      "text/plain": [
       "['<|startoftranscript|>',\n",
       " '<|en|>',\n",
       " '<|transcribe|>',\n",
       " '<|notimestamps|>',\n",
       " 'ìķĪë',\n",
       " 'ħķ',\n",
       " 'íķĺìĦ¸ìļĶ',\n",
       " '<|endoftext|>']"
      ]
     },
     "execution_count": 44,
     "metadata": {},
     "output_type": "execute_result"
    }
   ],
   "source": [
    "get_toks_nodecode(\"안녕하세요\")"
   ]
  },
  {
   "cell_type": "code",
   "execution_count": 42,
   "metadata": {},
   "outputs": [
    {
     "data": {
      "text/plain": [
       "['<|startoftranscript|>',\n",
       " '<|en|>',\n",
       " '<|transcribe|>',\n",
       " '<|notimestamps|>',\n",
       " '你好',\n",
       " '<|endoftext|>']"
      ]
     },
     "execution_count": 42,
     "metadata": {},
     "output_type": "execute_result"
    }
   ],
   "source": [
    "get_toks('你好')"
   ]
  },
  {
   "cell_type": "code",
   "execution_count": 33,
   "metadata": {},
   "outputs": [
    {
     "data": {
      "text/plain": [
       "['<|startoftranscript|>',\n",
       " '<|en|>',\n",
       " '<|transcribe|>',\n",
       " '<|notimestamps|>',\n",
       " 'a',\n",
       " 'Ì',\n",
       " 'Ģ',\n",
       " 'p',\n",
       " 'É',\n",
       " '¾',\n",
       " 'i',\n",
       " 'Ìģ',\n",
       " 'Ġji',\n",
       " 'Ìģ',\n",
       " 'c',\n",
       " 'ÉĻ',\n",
       " 'Ì',\n",
       " 'Ģ',\n",
       " 'lo',\n",
       " 'Ì',\n",
       " 'Ģ',\n",
       " '<|endoftext|>']"
      ]
     },
     "execution_count": 33,
     "metadata": {},
     "output_type": "execute_result"
    }
   ],
   "source": [
    "get_toks_nodecode(\"àpɾí jícə̀lò\")"
   ]
  },
  {
   "cell_type": "markdown",
   "metadata": {},
   "source": [
    "# vocabulary extension\n",
    "- make a list of new tokens to add to output layer\n",
    "- Agatha vocab initialization for low-resource languages\n",
    "- "
   ]
  }
 ],
 "metadata": {
  "kernelspec": {
   "display_name": "Python 3",
   "language": "python",
   "name": "python3"
  },
  "language_info": {
   "codemirror_mode": {
    "name": "ipython",
    "version": 3
   },
   "file_extension": ".py",
   "mimetype": "text/x-python",
   "name": "python",
   "nbconvert_exporter": "python",
   "pygments_lexer": "ipython3",
   "version": "3.9.19"
  }
 },
 "nbformat": 4,
 "nbformat_minor": 2
}
