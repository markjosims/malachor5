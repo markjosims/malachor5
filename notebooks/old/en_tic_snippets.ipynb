{
 "cells": [
  {
   "cell_type": "code",
   "execution_count": 155,
   "metadata": {},
   "outputs": [],
   "source": [
    "import pandas as pd\n",
    "import numpy as np\n",
    "import librosa\n",
    "import soundfile\n",
    "from datasets import load_dataset, load_from_disk, DatasetDict\n",
    "from glob import glob\n",
    "import os\n",
    "from tqdm import tqdm\n",
    "tqdm.pandas()\n",
    "import sys\n",
    "sys.path.append('/Users/markjos/projects/malachor5/scripts')\n",
    "from asr_dataset import clip_segment, validate_clipfile"
   ]
  },
  {
   "cell_type": "code",
   "execution_count": 129,
   "metadata": {},
   "outputs": [],
   "source": [
    "sli_csv='/Users/markjos/projects/malachor5/data/tira-snippets-30s-uncondensed/tira-cm-snip-sli.csv'"
   ]
  },
  {
   "cell_type": "code",
   "execution_count": 130,
   "metadata": {},
   "outputs": [],
   "source": [
    "sli_df=pd.read_csv(sli_csv)"
   ]
  },
  {
   "cell_type": "code",
   "execution_count": 131,
   "metadata": {},
   "outputs": [
    {
     "data": {
      "text/html": [
       "<div>\n",
       "<style scoped>\n",
       "    .dataframe tbody tr th:only-of-type {\n",
       "        vertical-align: middle;\n",
       "    }\n",
       "\n",
       "    .dataframe tbody tr th {\n",
       "        vertical-align: top;\n",
       "    }\n",
       "\n",
       "    .dataframe thead th {\n",
       "        text-align: right;\n",
       "    }\n",
       "</style>\n",
       "<table border=\"1\" class=\"dataframe\">\n",
       "  <thead>\n",
       "    <tr style=\"text-align: right;\">\n",
       "      <th></th>\n",
       "      <th>label</th>\n",
       "      <th>audio_path</th>\n",
       "      <th>output</th>\n",
       "    </tr>\n",
       "  </thead>\n",
       "  <tbody>\n",
       "    <tr>\n",
       "      <th>0</th>\n",
       "      <td>NaN</td>\n",
       "      <td>HH01082021-m03s07ms011-m04s09ms552-m0.0s17.0ms...</td>\n",
       "      <td>1</td>\n",
       "    </tr>\n",
       "    <tr>\n",
       "      <th>1</th>\n",
       "      <td>NaN</td>\n",
       "      <td>HH01082021-m03s07ms011-m04s09ms552-m0.0s20.0ms...</td>\n",
       "      <td>0</td>\n",
       "    </tr>\n",
       "    <tr>\n",
       "      <th>2</th>\n",
       "      <td>NaN</td>\n",
       "      <td>HH01082021-m03s07ms011-m04s09ms552-m0.0s22.0ms...</td>\n",
       "      <td>0</td>\n",
       "    </tr>\n",
       "    <tr>\n",
       "      <th>3</th>\n",
       "      <td>NaN</td>\n",
       "      <td>HH01082021-m03s07ms011-m04s09ms552-m0.0s25.0ms...</td>\n",
       "      <td>1</td>\n",
       "    </tr>\n",
       "    <tr>\n",
       "      <th>4</th>\n",
       "      <td>NaN</td>\n",
       "      <td>HH01082021-m03s07ms011-m04s09ms552-m0.0s25.0ms...</td>\n",
       "      <td>1</td>\n",
       "    </tr>\n",
       "  </tbody>\n",
       "</table>\n",
       "</div>"
      ],
      "text/plain": [
       "   label                                         audio_path  output\n",
       "0    NaN  HH01082021-m03s07ms011-m04s09ms552-m0.0s17.0ms...       1\n",
       "1    NaN  HH01082021-m03s07ms011-m04s09ms552-m0.0s20.0ms...       0\n",
       "2    NaN  HH01082021-m03s07ms011-m04s09ms552-m0.0s22.0ms...       0\n",
       "3    NaN  HH01082021-m03s07ms011-m04s09ms552-m0.0s25.0ms...       1\n",
       "4    NaN  HH01082021-m03s07ms011-m04s09ms552-m0.0s25.0ms...       1"
      ]
     },
     "execution_count": 131,
     "metadata": {},
     "output_type": "execute_result"
    }
   ],
   "source": [
    "sli_df.head()"
   ]
  },
  {
   "cell_type": "markdown",
   "metadata": {},
   "source": [
    "## Reintroduce columns\n",
    "Merge `sli_df` with `snippets_df`"
   ]
  },
  {
   "cell_type": "code",
   "execution_count": 132,
   "metadata": {},
   "outputs": [
    {
     "data": {
      "text/html": [
       "<div>\n",
       "<style scoped>\n",
       "    .dataframe tbody tr th:only-of-type {\n",
       "        vertical-align: middle;\n",
       "    }\n",
       "\n",
       "    .dataframe tbody tr th {\n",
       "        vertical-align: top;\n",
       "    }\n",
       "\n",
       "    .dataframe thead th {\n",
       "        text-align: right;\n",
       "    }\n",
       "</style>\n",
       "<table border=\"1\" class=\"dataframe\">\n",
       "  <thead>\n",
       "    <tr style=\"text-align: right;\">\n",
       "      <th></th>\n",
       "      <th>file_name</th>\n",
       "      <th>start</th>\n",
       "      <th>end</th>\n",
       "      <th>turn_label</th>\n",
       "      <th>mother_old_start</th>\n",
       "      <th>mother_old_end</th>\n",
       "      <th>mother_transcription</th>\n",
       "      <th>mother_eaf_source</th>\n",
       "      <th>mother_wav_source</th>\n",
       "      <th>mother_raw_transcription</th>\n",
       "      <th>...</th>\n",
       "      <th>mother_end_list</th>\n",
       "      <th>mother_trans_list</th>\n",
       "      <th>mother_pairwise_cos_sim</th>\n",
       "      <th>mother_vad_timestamps</th>\n",
       "      <th>mother_tira_timestamps</th>\n",
       "      <th>mother_merged_timestamps</th>\n",
       "      <th>mother_merged_labels</th>\n",
       "      <th>mother_timestamps_30s</th>\n",
       "      <th>mother_labels_30s</th>\n",
       "      <th>mother_turns_30s</th>\n",
       "    </tr>\n",
       "  </thead>\n",
       "  <tbody>\n",
       "    <tr>\n",
       "      <th>0</th>\n",
       "      <td>/Users/markjos/projects/malachor5/data/tira-sn...</td>\n",
       "      <td>204.440</td>\n",
       "      <td>205.807</td>\n",
       "      <td>VAD</td>\n",
       "      <td>217011</td>\n",
       "      <td>219552</td>\n",
       "      <td>àprí jɜ̀dí ðáŋàlà</td>\n",
       "      <td>/Users/markjos/Library/CloudStorage/GoogleDriv...</td>\n",
       "      <td>/Users/markjos/Library/CloudStorage/GoogleDriv...</td>\n",
       "      <td>àprí jɜ̀dí ðáŋàlà</td>\n",
       "      <td>...</td>\n",
       "      <td>[219552.0, 225023.0]</td>\n",
       "      <td>['àprí jɜ̀dí ðáŋàlà', 'àprí jɜ̀dí ðá...</td>\n",
       "      <td>0.659426</td>\n",
       "      <td>[(195.19299999999998, 195.834, 196.475), (198....</td>\n",
       "      <td>[(217.011, 218.2815, 219.552), (221.371, 223.1...</td>\n",
       "      <td>[(195.19299999999998, 195.834, 196.475), (198....</td>\n",
       "      <td>['VAD', 'VAD', 'VAD', 'VAD', 'VAD', 'VAD', 'VA...</td>\n",
       "      <td>((204.44, 205.12349999999998, 205.807), (207.2...</td>\n",
       "      <td>('VAD', 'VAD', 'VAD', 'VAD', 'VAD', 'àprí jɜ...</td>\n",
       "      <td>[(204.44, 205.12349999999998, 205.807, 'VAD'),...</td>\n",
       "    </tr>\n",
       "    <tr>\n",
       "      <th>1</th>\n",
       "      <td>/Users/markjos/projects/malachor5/data/tira-sn...</td>\n",
       "      <td>207.275</td>\n",
       "      <td>208.777</td>\n",
       "      <td>VAD</td>\n",
       "      <td>217011</td>\n",
       "      <td>219552</td>\n",
       "      <td>àprí jɜ̀dí ðáŋàlà</td>\n",
       "      <td>/Users/markjos/Library/CloudStorage/GoogleDriv...</td>\n",
       "      <td>/Users/markjos/Library/CloudStorage/GoogleDriv...</td>\n",
       "      <td>àprí jɜ̀dí ðáŋàlà</td>\n",
       "      <td>...</td>\n",
       "      <td>[219552.0, 225023.0]</td>\n",
       "      <td>['àprí jɜ̀dí ðáŋàlà', 'àprí jɜ̀dí ðá...</td>\n",
       "      <td>0.659426</td>\n",
       "      <td>[(195.19299999999998, 195.834, 196.475), (198....</td>\n",
       "      <td>[(217.011, 218.2815, 219.552), (221.371, 223.1...</td>\n",
       "      <td>[(195.19299999999998, 195.834, 196.475), (198....</td>\n",
       "      <td>['VAD', 'VAD', 'VAD', 'VAD', 'VAD', 'VAD', 'VA...</td>\n",
       "      <td>((204.44, 205.12349999999998, 205.807), (207.2...</td>\n",
       "      <td>('VAD', 'VAD', 'VAD', 'VAD', 'VAD', 'àprí jɜ...</td>\n",
       "      <td>[(204.44, 205.12349999999998, 205.807, 'VAD'),...</td>\n",
       "    </tr>\n",
       "    <tr>\n",
       "      <th>2</th>\n",
       "      <td>/Users/markjos/projects/malachor5/data/tira-sn...</td>\n",
       "      <td>209.705</td>\n",
       "      <td>211.561</td>\n",
       "      <td>VAD</td>\n",
       "      <td>217011</td>\n",
       "      <td>219552</td>\n",
       "      <td>àprí jɜ̀dí ðáŋàlà</td>\n",
       "      <td>/Users/markjos/Library/CloudStorage/GoogleDriv...</td>\n",
       "      <td>/Users/markjos/Library/CloudStorage/GoogleDriv...</td>\n",
       "      <td>àprí jɜ̀dí ðáŋàlà</td>\n",
       "      <td>...</td>\n",
       "      <td>[219552.0, 225023.0]</td>\n",
       "      <td>['àprí jɜ̀dí ðáŋàlà', 'àprí jɜ̀dí ðá...</td>\n",
       "      <td>0.659426</td>\n",
       "      <td>[(195.19299999999998, 195.834, 196.475), (198....</td>\n",
       "      <td>[(217.011, 218.2815, 219.552), (221.371, 223.1...</td>\n",
       "      <td>[(195.19299999999998, 195.834, 196.475), (198....</td>\n",
       "      <td>['VAD', 'VAD', 'VAD', 'VAD', 'VAD', 'VAD', 'VA...</td>\n",
       "      <td>((204.44, 205.12349999999998, 205.807), (207.2...</td>\n",
       "      <td>('VAD', 'VAD', 'VAD', 'VAD', 'VAD', 'àprí jɜ...</td>\n",
       "      <td>[(204.44, 205.12349999999998, 205.807, 'VAD'),...</td>\n",
       "    </tr>\n",
       "    <tr>\n",
       "      <th>3</th>\n",
       "      <td>/Users/markjos/projects/malachor5/data/tira-sn...</td>\n",
       "      <td>212.034</td>\n",
       "      <td>212.354</td>\n",
       "      <td>VAD</td>\n",
       "      <td>217011</td>\n",
       "      <td>219552</td>\n",
       "      <td>àprí jɜ̀dí ðáŋàlà</td>\n",
       "      <td>/Users/markjos/Library/CloudStorage/GoogleDriv...</td>\n",
       "      <td>/Users/markjos/Library/CloudStorage/GoogleDriv...</td>\n",
       "      <td>àprí jɜ̀dí ðáŋàlà</td>\n",
       "      <td>...</td>\n",
       "      <td>[219552.0, 225023.0]</td>\n",
       "      <td>['àprí jɜ̀dí ðáŋàlà', 'àprí jɜ̀dí ðá...</td>\n",
       "      <td>0.659426</td>\n",
       "      <td>[(195.19299999999998, 195.834, 196.475), (198....</td>\n",
       "      <td>[(217.011, 218.2815, 219.552), (221.371, 223.1...</td>\n",
       "      <td>[(195.19299999999998, 195.834, 196.475), (198....</td>\n",
       "      <td>['VAD', 'VAD', 'VAD', 'VAD', 'VAD', 'VAD', 'VA...</td>\n",
       "      <td>((204.44, 205.12349999999998, 205.807), (207.2...</td>\n",
       "      <td>('VAD', 'VAD', 'VAD', 'VAD', 'VAD', 'àprí jɜ...</td>\n",
       "      <td>[(204.44, 205.12349999999998, 205.807, 'VAD'),...</td>\n",
       "    </tr>\n",
       "    <tr>\n",
       "      <th>4</th>\n",
       "      <td>/Users/markjos/projects/malachor5/data/tira-sn...</td>\n",
       "      <td>212.675</td>\n",
       "      <td>215.173</td>\n",
       "      <td>VAD</td>\n",
       "      <td>217011</td>\n",
       "      <td>219552</td>\n",
       "      <td>àprí jɜ̀dí ðáŋàlà</td>\n",
       "      <td>/Users/markjos/Library/CloudStorage/GoogleDriv...</td>\n",
       "      <td>/Users/markjos/Library/CloudStorage/GoogleDriv...</td>\n",
       "      <td>àprí jɜ̀dí ðáŋàlà</td>\n",
       "      <td>...</td>\n",
       "      <td>[219552.0, 225023.0]</td>\n",
       "      <td>['àprí jɜ̀dí ðáŋàlà', 'àprí jɜ̀dí ðá...</td>\n",
       "      <td>0.659426</td>\n",
       "      <td>[(195.19299999999998, 195.834, 196.475), (198....</td>\n",
       "      <td>[(217.011, 218.2815, 219.552), (221.371, 223.1...</td>\n",
       "      <td>[(195.19299999999998, 195.834, 196.475), (198....</td>\n",
       "      <td>['VAD', 'VAD', 'VAD', 'VAD', 'VAD', 'VAD', 'VA...</td>\n",
       "      <td>((204.44, 205.12349999999998, 205.807), (207.2...</td>\n",
       "      <td>('VAD', 'VAD', 'VAD', 'VAD', 'VAD', 'àprí jɜ...</td>\n",
       "      <td>[(204.44, 205.12349999999998, 205.807, 'VAD'),...</td>\n",
       "    </tr>\n",
       "  </tbody>\n",
       "</table>\n",
       "<p>5 rows × 47 columns</p>\n",
       "</div>"
      ],
      "text/plain": [
       "                                           file_name    start      end  \\\n",
       "0  /Users/markjos/projects/malachor5/data/tira-sn...  204.440  205.807   \n",
       "1  /Users/markjos/projects/malachor5/data/tira-sn...  207.275  208.777   \n",
       "2  /Users/markjos/projects/malachor5/data/tira-sn...  209.705  211.561   \n",
       "3  /Users/markjos/projects/malachor5/data/tira-sn...  212.034  212.354   \n",
       "4  /Users/markjos/projects/malachor5/data/tira-sn...  212.675  215.173   \n",
       "\n",
       "  turn_label  mother_old_start  mother_old_end     mother_transcription  \\\n",
       "0        VAD            217011          219552  àprí jɜ̀dí ðáŋàlà   \n",
       "1        VAD            217011          219552  àprí jɜ̀dí ðáŋàlà   \n",
       "2        VAD            217011          219552  àprí jɜ̀dí ðáŋàlà   \n",
       "3        VAD            217011          219552  àprí jɜ̀dí ðáŋàlà   \n",
       "4        VAD            217011          219552  àprí jɜ̀dí ðáŋàlà   \n",
       "\n",
       "                                   mother_eaf_source  \\\n",
       "0  /Users/markjos/Library/CloudStorage/GoogleDriv...   \n",
       "1  /Users/markjos/Library/CloudStorage/GoogleDriv...   \n",
       "2  /Users/markjos/Library/CloudStorage/GoogleDriv...   \n",
       "3  /Users/markjos/Library/CloudStorage/GoogleDriv...   \n",
       "4  /Users/markjos/Library/CloudStorage/GoogleDriv...   \n",
       "\n",
       "                                   mother_wav_source mother_raw_transcription  \\\n",
       "0  /Users/markjos/Library/CloudStorage/GoogleDriv...  àprí jɜ̀dí ðáŋàlà   \n",
       "1  /Users/markjos/Library/CloudStorage/GoogleDriv...  àprí jɜ̀dí ðáŋàlà   \n",
       "2  /Users/markjos/Library/CloudStorage/GoogleDriv...  àprí jɜ̀dí ðáŋàlà   \n",
       "3  /Users/markjos/Library/CloudStorage/GoogleDriv...  àprí jɜ̀dí ðáŋàlà   \n",
       "4  /Users/markjos/Library/CloudStorage/GoogleDriv...  àprí jɜ̀dí ðáŋàlà   \n",
       "\n",
       "   ...       mother_end_list  \\\n",
       "0  ...  [219552.0, 225023.0]   \n",
       "1  ...  [219552.0, 225023.0]   \n",
       "2  ...  [219552.0, 225023.0]   \n",
       "3  ...  [219552.0, 225023.0]   \n",
       "4  ...  [219552.0, 225023.0]   \n",
       "\n",
       "                                   mother_trans_list mother_pairwise_cos_sim  \\\n",
       "0  ['àprí jɜ̀dí ðáŋàlà', 'àprí jɜ̀dí ðá...                0.659426   \n",
       "1  ['àprí jɜ̀dí ðáŋàlà', 'àprí jɜ̀dí ðá...                0.659426   \n",
       "2  ['àprí jɜ̀dí ðáŋàlà', 'àprí jɜ̀dí ðá...                0.659426   \n",
       "3  ['àprí jɜ̀dí ðáŋàlà', 'àprí jɜ̀dí ðá...                0.659426   \n",
       "4  ['àprí jɜ̀dí ðáŋàlà', 'àprí jɜ̀dí ðá...                0.659426   \n",
       "\n",
       "                               mother_vad_timestamps  \\\n",
       "0  [(195.19299999999998, 195.834, 196.475), (198....   \n",
       "1  [(195.19299999999998, 195.834, 196.475), (198....   \n",
       "2  [(195.19299999999998, 195.834, 196.475), (198....   \n",
       "3  [(195.19299999999998, 195.834, 196.475), (198....   \n",
       "4  [(195.19299999999998, 195.834, 196.475), (198....   \n",
       "\n",
       "                              mother_tira_timestamps  \\\n",
       "0  [(217.011, 218.2815, 219.552), (221.371, 223.1...   \n",
       "1  [(217.011, 218.2815, 219.552), (221.371, 223.1...   \n",
       "2  [(217.011, 218.2815, 219.552), (221.371, 223.1...   \n",
       "3  [(217.011, 218.2815, 219.552), (221.371, 223.1...   \n",
       "4  [(217.011, 218.2815, 219.552), (221.371, 223.1...   \n",
       "\n",
       "                            mother_merged_timestamps  \\\n",
       "0  [(195.19299999999998, 195.834, 196.475), (198....   \n",
       "1  [(195.19299999999998, 195.834, 196.475), (198....   \n",
       "2  [(195.19299999999998, 195.834, 196.475), (198....   \n",
       "3  [(195.19299999999998, 195.834, 196.475), (198....   \n",
       "4  [(195.19299999999998, 195.834, 196.475), (198....   \n",
       "\n",
       "                                mother_merged_labels  \\\n",
       "0  ['VAD', 'VAD', 'VAD', 'VAD', 'VAD', 'VAD', 'VA...   \n",
       "1  ['VAD', 'VAD', 'VAD', 'VAD', 'VAD', 'VAD', 'VA...   \n",
       "2  ['VAD', 'VAD', 'VAD', 'VAD', 'VAD', 'VAD', 'VA...   \n",
       "3  ['VAD', 'VAD', 'VAD', 'VAD', 'VAD', 'VAD', 'VA...   \n",
       "4  ['VAD', 'VAD', 'VAD', 'VAD', 'VAD', 'VAD', 'VA...   \n",
       "\n",
       "                               mother_timestamps_30s  \\\n",
       "0  ((204.44, 205.12349999999998, 205.807), (207.2...   \n",
       "1  ((204.44, 205.12349999999998, 205.807), (207.2...   \n",
       "2  ((204.44, 205.12349999999998, 205.807), (207.2...   \n",
       "3  ((204.44, 205.12349999999998, 205.807), (207.2...   \n",
       "4  ((204.44, 205.12349999999998, 205.807), (207.2...   \n",
       "\n",
       "                                   mother_labels_30s  \\\n",
       "0  ('VAD', 'VAD', 'VAD', 'VAD', 'VAD', 'àprí jɜ...   \n",
       "1  ('VAD', 'VAD', 'VAD', 'VAD', 'VAD', 'àprí jɜ...   \n",
       "2  ('VAD', 'VAD', 'VAD', 'VAD', 'VAD', 'àprí jɜ...   \n",
       "3  ('VAD', 'VAD', 'VAD', 'VAD', 'VAD', 'àprí jɜ...   \n",
       "4  ('VAD', 'VAD', 'VAD', 'VAD', 'VAD', 'àprí jɜ...   \n",
       "\n",
       "                                    mother_turns_30s  \n",
       "0  [(204.44, 205.12349999999998, 205.807, 'VAD'),...  \n",
       "1  [(204.44, 205.12349999999998, 205.807, 'VAD'),...  \n",
       "2  [(204.44, 205.12349999999998, 205.807, 'VAD'),...  \n",
       "3  [(204.44, 205.12349999999998, 205.807, 'VAD'),...  \n",
       "4  [(204.44, 205.12349999999998, 205.807, 'VAD'),...  \n",
       "\n",
       "[5 rows x 47 columns]"
      ]
     },
     "execution_count": 132,
     "metadata": {},
     "output_type": "execute_result"
    }
   ],
   "source": [
    "snippets_data='/Users/markjos/projects/malachor5/data/tira-snippets-30s-uncondensed/metadata.csv'\n",
    "snippets_df=pd.read_csv(snippets_data)\n",
    "snippets_df=snippets_df[snippets_df['mother_split']=='train']\n",
    "snippets_df.head()"
   ]
  },
  {
   "cell_type": "code",
   "execution_count": 133,
   "metadata": {},
   "outputs": [
    {
     "data": {
      "text/html": [
       "<div>\n",
       "<style scoped>\n",
       "    .dataframe tbody tr th:only-of-type {\n",
       "        vertical-align: middle;\n",
       "    }\n",
       "\n",
       "    .dataframe tbody tr th {\n",
       "        vertical-align: top;\n",
       "    }\n",
       "\n",
       "    .dataframe thead th {\n",
       "        text-align: right;\n",
       "    }\n",
       "</style>\n",
       "<table border=\"1\" class=\"dataframe\">\n",
       "  <thead>\n",
       "    <tr style=\"text-align: right;\">\n",
       "      <th></th>\n",
       "      <th>label</th>\n",
       "      <th>audio_path</th>\n",
       "      <th>output</th>\n",
       "      <th>file_name</th>\n",
       "      <th>start</th>\n",
       "      <th>end</th>\n",
       "      <th>turn_label</th>\n",
       "      <th>mother_old_start</th>\n",
       "      <th>mother_old_end</th>\n",
       "      <th>mother_transcription</th>\n",
       "      <th>...</th>\n",
       "      <th>mother_end_list</th>\n",
       "      <th>mother_trans_list</th>\n",
       "      <th>mother_pairwise_cos_sim</th>\n",
       "      <th>mother_vad_timestamps</th>\n",
       "      <th>mother_tira_timestamps</th>\n",
       "      <th>mother_merged_timestamps</th>\n",
       "      <th>mother_merged_labels</th>\n",
       "      <th>mother_timestamps_30s</th>\n",
       "      <th>mother_labels_30s</th>\n",
       "      <th>mother_turns_30s</th>\n",
       "    </tr>\n",
       "  </thead>\n",
       "  <tbody>\n",
       "    <tr>\n",
       "      <th>0</th>\n",
       "      <td>NaN</td>\n",
       "      <td>HH01082021-m03s07ms011-m04s09ms552-m0.0s17.0ms...</td>\n",
       "      <td>1</td>\n",
       "      <td>/Users/markjos/projects/malachor5/data/tira-sn...</td>\n",
       "      <td>204.440</td>\n",
       "      <td>205.807</td>\n",
       "      <td>VAD</td>\n",
       "      <td>217011</td>\n",
       "      <td>219552</td>\n",
       "      <td>àprí jɜ̀dí ðáŋàlà</td>\n",
       "      <td>...</td>\n",
       "      <td>[219552.0, 225023.0]</td>\n",
       "      <td>['àprí jɜ̀dí ðáŋàlà', 'àprí jɜ̀dí ðá...</td>\n",
       "      <td>0.659426</td>\n",
       "      <td>[(195.19299999999998, 195.834, 196.475), (198....</td>\n",
       "      <td>[(217.011, 218.2815, 219.552), (221.371, 223.1...</td>\n",
       "      <td>[(195.19299999999998, 195.834, 196.475), (198....</td>\n",
       "      <td>['VAD', 'VAD', 'VAD', 'VAD', 'VAD', 'VAD', 'VA...</td>\n",
       "      <td>((204.44, 205.12349999999998, 205.807), (207.2...</td>\n",
       "      <td>('VAD', 'VAD', 'VAD', 'VAD', 'VAD', 'àprí jɜ...</td>\n",
       "      <td>[(204.44, 205.12349999999998, 205.807, 'VAD'),...</td>\n",
       "    </tr>\n",
       "    <tr>\n",
       "      <th>1</th>\n",
       "      <td>NaN</td>\n",
       "      <td>HH01082021-m03s07ms011-m04s09ms552-m0.0s20.0ms...</td>\n",
       "      <td>0</td>\n",
       "      <td>/Users/markjos/projects/malachor5/data/tira-sn...</td>\n",
       "      <td>207.275</td>\n",
       "      <td>208.777</td>\n",
       "      <td>VAD</td>\n",
       "      <td>217011</td>\n",
       "      <td>219552</td>\n",
       "      <td>àprí jɜ̀dí ðáŋàlà</td>\n",
       "      <td>...</td>\n",
       "      <td>[219552.0, 225023.0]</td>\n",
       "      <td>['àprí jɜ̀dí ðáŋàlà', 'àprí jɜ̀dí ðá...</td>\n",
       "      <td>0.659426</td>\n",
       "      <td>[(195.19299999999998, 195.834, 196.475), (198....</td>\n",
       "      <td>[(217.011, 218.2815, 219.552), (221.371, 223.1...</td>\n",
       "      <td>[(195.19299999999998, 195.834, 196.475), (198....</td>\n",
       "      <td>['VAD', 'VAD', 'VAD', 'VAD', 'VAD', 'VAD', 'VA...</td>\n",
       "      <td>((204.44, 205.12349999999998, 205.807), (207.2...</td>\n",
       "      <td>('VAD', 'VAD', 'VAD', 'VAD', 'VAD', 'àprí jɜ...</td>\n",
       "      <td>[(204.44, 205.12349999999998, 205.807, 'VAD'),...</td>\n",
       "    </tr>\n",
       "    <tr>\n",
       "      <th>2</th>\n",
       "      <td>NaN</td>\n",
       "      <td>HH01082021-m03s07ms011-m04s09ms552-m0.0s22.0ms...</td>\n",
       "      <td>0</td>\n",
       "      <td>/Users/markjos/projects/malachor5/data/tira-sn...</td>\n",
       "      <td>209.705</td>\n",
       "      <td>211.561</td>\n",
       "      <td>VAD</td>\n",
       "      <td>217011</td>\n",
       "      <td>219552</td>\n",
       "      <td>àprí jɜ̀dí ðáŋàlà</td>\n",
       "      <td>...</td>\n",
       "      <td>[219552.0, 225023.0]</td>\n",
       "      <td>['àprí jɜ̀dí ðáŋàlà', 'àprí jɜ̀dí ðá...</td>\n",
       "      <td>0.659426</td>\n",
       "      <td>[(195.19299999999998, 195.834, 196.475), (198....</td>\n",
       "      <td>[(217.011, 218.2815, 219.552), (221.371, 223.1...</td>\n",
       "      <td>[(195.19299999999998, 195.834, 196.475), (198....</td>\n",
       "      <td>['VAD', 'VAD', 'VAD', 'VAD', 'VAD', 'VAD', 'VA...</td>\n",
       "      <td>((204.44, 205.12349999999998, 205.807), (207.2...</td>\n",
       "      <td>('VAD', 'VAD', 'VAD', 'VAD', 'VAD', 'àprí jɜ...</td>\n",
       "      <td>[(204.44, 205.12349999999998, 205.807, 'VAD'),...</td>\n",
       "    </tr>\n",
       "    <tr>\n",
       "      <th>3</th>\n",
       "      <td>NaN</td>\n",
       "      <td>HH01082021-m03s07ms011-m04s09ms552-m0.0s25.0ms...</td>\n",
       "      <td>1</td>\n",
       "      <td>/Users/markjos/projects/malachor5/data/tira-sn...</td>\n",
       "      <td>212.034</td>\n",
       "      <td>212.354</td>\n",
       "      <td>VAD</td>\n",
       "      <td>217011</td>\n",
       "      <td>219552</td>\n",
       "      <td>àprí jɜ̀dí ðáŋàlà</td>\n",
       "      <td>...</td>\n",
       "      <td>[219552.0, 225023.0]</td>\n",
       "      <td>['àprí jɜ̀dí ðáŋàlà', 'àprí jɜ̀dí ðá...</td>\n",
       "      <td>0.659426</td>\n",
       "      <td>[(195.19299999999998, 195.834, 196.475), (198....</td>\n",
       "      <td>[(217.011, 218.2815, 219.552), (221.371, 223.1...</td>\n",
       "      <td>[(195.19299999999998, 195.834, 196.475), (198....</td>\n",
       "      <td>['VAD', 'VAD', 'VAD', 'VAD', 'VAD', 'VAD', 'VA...</td>\n",
       "      <td>((204.44, 205.12349999999998, 205.807), (207.2...</td>\n",
       "      <td>('VAD', 'VAD', 'VAD', 'VAD', 'VAD', 'àprí jɜ...</td>\n",
       "      <td>[(204.44, 205.12349999999998, 205.807, 'VAD'),...</td>\n",
       "    </tr>\n",
       "    <tr>\n",
       "      <th>4</th>\n",
       "      <td>NaN</td>\n",
       "      <td>HH01082021-m03s07ms011-m04s09ms552-m0.0s25.0ms...</td>\n",
       "      <td>1</td>\n",
       "      <td>/Users/markjos/projects/malachor5/data/tira-sn...</td>\n",
       "      <td>212.675</td>\n",
       "      <td>215.173</td>\n",
       "      <td>VAD</td>\n",
       "      <td>217011</td>\n",
       "      <td>219552</td>\n",
       "      <td>àprí jɜ̀dí ðáŋàlà</td>\n",
       "      <td>...</td>\n",
       "      <td>[219552.0, 225023.0]</td>\n",
       "      <td>['àprí jɜ̀dí ðáŋàlà', 'àprí jɜ̀dí ðá...</td>\n",
       "      <td>0.659426</td>\n",
       "      <td>[(195.19299999999998, 195.834, 196.475), (198....</td>\n",
       "      <td>[(217.011, 218.2815, 219.552), (221.371, 223.1...</td>\n",
       "      <td>[(195.19299999999998, 195.834, 196.475), (198....</td>\n",
       "      <td>['VAD', 'VAD', 'VAD', 'VAD', 'VAD', 'VAD', 'VA...</td>\n",
       "      <td>((204.44, 205.12349999999998, 205.807), (207.2...</td>\n",
       "      <td>('VAD', 'VAD', 'VAD', 'VAD', 'VAD', 'àprí jɜ...</td>\n",
       "      <td>[(204.44, 205.12349999999998, 205.807, 'VAD'),...</td>\n",
       "    </tr>\n",
       "  </tbody>\n",
       "</table>\n",
       "<p>5 rows × 50 columns</p>\n",
       "</div>"
      ],
      "text/plain": [
       "   label                                         audio_path  output  \\\n",
       "0    NaN  HH01082021-m03s07ms011-m04s09ms552-m0.0s17.0ms...       1   \n",
       "1    NaN  HH01082021-m03s07ms011-m04s09ms552-m0.0s20.0ms...       0   \n",
       "2    NaN  HH01082021-m03s07ms011-m04s09ms552-m0.0s22.0ms...       0   \n",
       "3    NaN  HH01082021-m03s07ms011-m04s09ms552-m0.0s25.0ms...       1   \n",
       "4    NaN  HH01082021-m03s07ms011-m04s09ms552-m0.0s25.0ms...       1   \n",
       "\n",
       "                                           file_name    start      end  \\\n",
       "0  /Users/markjos/projects/malachor5/data/tira-sn...  204.440  205.807   \n",
       "1  /Users/markjos/projects/malachor5/data/tira-sn...  207.275  208.777   \n",
       "2  /Users/markjos/projects/malachor5/data/tira-sn...  209.705  211.561   \n",
       "3  /Users/markjos/projects/malachor5/data/tira-sn...  212.034  212.354   \n",
       "4  /Users/markjos/projects/malachor5/data/tira-sn...  212.675  215.173   \n",
       "\n",
       "  turn_label  mother_old_start  mother_old_end     mother_transcription  ...  \\\n",
       "0        VAD            217011          219552  àprí jɜ̀dí ðáŋàlà  ...   \n",
       "1        VAD            217011          219552  àprí jɜ̀dí ðáŋàlà  ...   \n",
       "2        VAD            217011          219552  àprí jɜ̀dí ðáŋàlà  ...   \n",
       "3        VAD            217011          219552  àprí jɜ̀dí ðáŋàlà  ...   \n",
       "4        VAD            217011          219552  àprí jɜ̀dí ðáŋàlà  ...   \n",
       "\n",
       "        mother_end_list                                  mother_trans_list  \\\n",
       "0  [219552.0, 225023.0]  ['àprí jɜ̀dí ðáŋàlà', 'àprí jɜ̀dí ðá...   \n",
       "1  [219552.0, 225023.0]  ['àprí jɜ̀dí ðáŋàlà', 'àprí jɜ̀dí ðá...   \n",
       "2  [219552.0, 225023.0]  ['àprí jɜ̀dí ðáŋàlà', 'àprí jɜ̀dí ðá...   \n",
       "3  [219552.0, 225023.0]  ['àprí jɜ̀dí ðáŋàlà', 'àprí jɜ̀dí ðá...   \n",
       "4  [219552.0, 225023.0]  ['àprí jɜ̀dí ðáŋàlà', 'àprí jɜ̀dí ðá...   \n",
       "\n",
       "  mother_pairwise_cos_sim                              mother_vad_timestamps  \\\n",
       "0                0.659426  [(195.19299999999998, 195.834, 196.475), (198....   \n",
       "1                0.659426  [(195.19299999999998, 195.834, 196.475), (198....   \n",
       "2                0.659426  [(195.19299999999998, 195.834, 196.475), (198....   \n",
       "3                0.659426  [(195.19299999999998, 195.834, 196.475), (198....   \n",
       "4                0.659426  [(195.19299999999998, 195.834, 196.475), (198....   \n",
       "\n",
       "                              mother_tira_timestamps  \\\n",
       "0  [(217.011, 218.2815, 219.552), (221.371, 223.1...   \n",
       "1  [(217.011, 218.2815, 219.552), (221.371, 223.1...   \n",
       "2  [(217.011, 218.2815, 219.552), (221.371, 223.1...   \n",
       "3  [(217.011, 218.2815, 219.552), (221.371, 223.1...   \n",
       "4  [(217.011, 218.2815, 219.552), (221.371, 223.1...   \n",
       "\n",
       "                            mother_merged_timestamps  \\\n",
       "0  [(195.19299999999998, 195.834, 196.475), (198....   \n",
       "1  [(195.19299999999998, 195.834, 196.475), (198....   \n",
       "2  [(195.19299999999998, 195.834, 196.475), (198....   \n",
       "3  [(195.19299999999998, 195.834, 196.475), (198....   \n",
       "4  [(195.19299999999998, 195.834, 196.475), (198....   \n",
       "\n",
       "                                mother_merged_labels  \\\n",
       "0  ['VAD', 'VAD', 'VAD', 'VAD', 'VAD', 'VAD', 'VA...   \n",
       "1  ['VAD', 'VAD', 'VAD', 'VAD', 'VAD', 'VAD', 'VA...   \n",
       "2  ['VAD', 'VAD', 'VAD', 'VAD', 'VAD', 'VAD', 'VA...   \n",
       "3  ['VAD', 'VAD', 'VAD', 'VAD', 'VAD', 'VAD', 'VA...   \n",
       "4  ['VAD', 'VAD', 'VAD', 'VAD', 'VAD', 'VAD', 'VA...   \n",
       "\n",
       "                               mother_timestamps_30s  \\\n",
       "0  ((204.44, 205.12349999999998, 205.807), (207.2...   \n",
       "1  ((204.44, 205.12349999999998, 205.807), (207.2...   \n",
       "2  ((204.44, 205.12349999999998, 205.807), (207.2...   \n",
       "3  ((204.44, 205.12349999999998, 205.807), (207.2...   \n",
       "4  ((204.44, 205.12349999999998, 205.807), (207.2...   \n",
       "\n",
       "                                   mother_labels_30s  \\\n",
       "0  ('VAD', 'VAD', 'VAD', 'VAD', 'VAD', 'àprí jɜ...   \n",
       "1  ('VAD', 'VAD', 'VAD', 'VAD', 'VAD', 'àprí jɜ...   \n",
       "2  ('VAD', 'VAD', 'VAD', 'VAD', 'VAD', 'àprí jɜ...   \n",
       "3  ('VAD', 'VAD', 'VAD', 'VAD', 'VAD', 'àprí jɜ...   \n",
       "4  ('VAD', 'VAD', 'VAD', 'VAD', 'VAD', 'àprí jɜ...   \n",
       "\n",
       "                                    mother_turns_30s  \n",
       "0  [(204.44, 205.12349999999998, 205.807, 'VAD'),...  \n",
       "1  [(204.44, 205.12349999999998, 205.807, 'VAD'),...  \n",
       "2  [(204.44, 205.12349999999998, 205.807, 'VAD'),...  \n",
       "3  [(204.44, 205.12349999999998, 205.807, 'VAD'),...  \n",
       "4  [(204.44, 205.12349999999998, 205.807, 'VAD'),...  \n",
       "\n",
       "[5 rows x 50 columns]"
      ]
     },
     "execution_count": 133,
     "metadata": {},
     "output_type": "execute_result"
    }
   ],
   "source": [
    "snippets_df['audio_path']=snippets_df['file_name'].apply(os.path.basename)\n",
    "merge_df=pd.merge(sli_df, snippets_df, on='audio_path')\n",
    "merge_df.head()"
   ]
  },
  {
   "cell_type": "code",
   "execution_count": 134,
   "metadata": {},
   "outputs": [
    {
     "data": {
      "text/plain": [
       "((43079, 50), (43088, 3), (43079, 48))"
      ]
     },
     "execution_count": 134,
     "metadata": {},
     "output_type": "execute_result"
    }
   ],
   "source": [
    "merge_df.shape, sli_df.shape, snippets_df.shape"
   ]
  },
  {
   "cell_type": "code",
   "execution_count": 135,
   "metadata": {},
   "outputs": [],
   "source": [
    "sli_df=merge_df"
   ]
  },
  {
   "cell_type": "markdown",
   "metadata": {},
   "source": [
    "It seems 9 records have been consumed by the abyss. ¯\\\\_(ツ)_/¯\n",
    "\n",
    "Let's add a column for the index of a snippet within a clip"
   ]
  },
  {
   "cell_type": "code",
   "execution_count": 136,
   "metadata": {},
   "outputs": [],
   "source": [
    "sli_df['mother_start_list']=sli_df['mother_start_list'].apply(eval)"
   ]
  },
  {
   "cell_type": "code",
   "execution_count": 137,
   "metadata": {},
   "outputs": [],
   "source": [
    "sli_df['mother_start_list']=sli_df['mother_start_list'].apply(lambda l:[int(x) for x in l])"
   ]
  },
  {
   "cell_type": "code",
   "execution_count": 138,
   "metadata": {},
   "outputs": [
    {
     "data": {
      "text/html": [
       "<div>\n",
       "<style scoped>\n",
       "    .dataframe tbody tr th:only-of-type {\n",
       "        vertical-align: middle;\n",
       "    }\n",
       "\n",
       "    .dataframe tbody tr th {\n",
       "        vertical-align: top;\n",
       "    }\n",
       "\n",
       "    .dataframe thead th {\n",
       "        text-align: right;\n",
       "    }\n",
       "</style>\n",
       "<table border=\"1\" class=\"dataframe\">\n",
       "  <thead>\n",
       "    <tr style=\"text-align: right;\">\n",
       "      <th></th>\n",
       "      <th>start</th>\n",
       "      <th>mother_path</th>\n",
       "      <th>clip_i</th>\n",
       "    </tr>\n",
       "  </thead>\n",
       "  <tbody>\n",
       "    <tr>\n",
       "      <th>0</th>\n",
       "      <td>204.440</td>\n",
       "      <td>HH01082021-m03s07ms011-m04s09ms552.wav</td>\n",
       "      <td>0</td>\n",
       "    </tr>\n",
       "    <tr>\n",
       "      <th>1</th>\n",
       "      <td>207.275</td>\n",
       "      <td>HH01082021-m03s07ms011-m04s09ms552.wav</td>\n",
       "      <td>1</td>\n",
       "    </tr>\n",
       "    <tr>\n",
       "      <th>2</th>\n",
       "      <td>209.705</td>\n",
       "      <td>HH01082021-m03s07ms011-m04s09ms552.wav</td>\n",
       "      <td>2</td>\n",
       "    </tr>\n",
       "    <tr>\n",
       "      <th>3</th>\n",
       "      <td>212.034</td>\n",
       "      <td>HH01082021-m03s07ms011-m04s09ms552.wav</td>\n",
       "      <td>3</td>\n",
       "    </tr>\n",
       "    <tr>\n",
       "      <th>4</th>\n",
       "      <td>212.675</td>\n",
       "      <td>HH01082021-m03s07ms011-m04s09ms552.wav</td>\n",
       "      <td>4</td>\n",
       "    </tr>\n",
       "    <tr>\n",
       "      <th>5</th>\n",
       "      <td>217.011</td>\n",
       "      <td>HH01082021-m03s07ms011-m04s09ms552.wav</td>\n",
       "      <td>5</td>\n",
       "    </tr>\n",
       "    <tr>\n",
       "      <th>6</th>\n",
       "      <td>221.371</td>\n",
       "      <td>HH01082021-m03s07ms011-m04s09ms552.wav</td>\n",
       "      <td>6</td>\n",
       "    </tr>\n",
       "    <tr>\n",
       "      <th>7</th>\n",
       "      <td>227.154</td>\n",
       "      <td>HH01082021-m03s07ms011-m04s09ms552.wav</td>\n",
       "      <td>7</td>\n",
       "    </tr>\n",
       "    <tr>\n",
       "      <th>8</th>\n",
       "      <td>229.837</td>\n",
       "      <td>HH01082021-m03s07ms011-m04s09ms552.wav</td>\n",
       "      <td>8</td>\n",
       "    </tr>\n",
       "    <tr>\n",
       "      <th>9</th>\n",
       "      <td>271.910</td>\n",
       "      <td>HH01082021-m04s13ms401-m05s16ms528.wav</td>\n",
       "      <td>0</td>\n",
       "    </tr>\n",
       "    <tr>\n",
       "      <th>10</th>\n",
       "      <td>274.627</td>\n",
       "      <td>HH01082021-m04s13ms401-m05s16ms528.wav</td>\n",
       "      <td>1</td>\n",
       "    </tr>\n",
       "    <tr>\n",
       "      <th>11</th>\n",
       "      <td>277.698</td>\n",
       "      <td>HH01082021-m04s13ms401-m05s16ms528.wav</td>\n",
       "      <td>2</td>\n",
       "    </tr>\n",
       "    <tr>\n",
       "      <th>12</th>\n",
       "      <td>283.401</td>\n",
       "      <td>HH01082021-m04s13ms401-m05s16ms528.wav</td>\n",
       "      <td>3</td>\n",
       "    </tr>\n",
       "    <tr>\n",
       "      <th>13</th>\n",
       "      <td>288.835</td>\n",
       "      <td>HH01082021-m04s13ms401-m05s16ms528.wav</td>\n",
       "      <td>4</td>\n",
       "    </tr>\n",
       "    <tr>\n",
       "      <th>14</th>\n",
       "      <td>292.514</td>\n",
       "      <td>HH01082021-m04s13ms401-m05s16ms528.wav</td>\n",
       "      <td>5</td>\n",
       "    </tr>\n",
       "    <tr>\n",
       "      <th>15</th>\n",
       "      <td>297.189</td>\n",
       "      <td>HH01082021-m04s13ms401-m05s16ms528.wav</td>\n",
       "      <td>6</td>\n",
       "    </tr>\n",
       "    <tr>\n",
       "      <th>16</th>\n",
       "      <td>300.142</td>\n",
       "      <td>HH01082021-m04s13ms401-m05s16ms528.wav</td>\n",
       "      <td>7</td>\n",
       "    </tr>\n",
       "    <tr>\n",
       "      <th>17</th>\n",
       "      <td>362.146</td>\n",
       "      <td>HH01082021-m05s43ms451-m06s47ms362.wav</td>\n",
       "      <td>0</td>\n",
       "    </tr>\n",
       "    <tr>\n",
       "      <th>18</th>\n",
       "      <td>364.491</td>\n",
       "      <td>HH01082021-m05s43ms451-m06s47ms362.wav</td>\n",
       "      <td>1</td>\n",
       "    </tr>\n",
       "    <tr>\n",
       "      <th>19</th>\n",
       "      <td>370.499</td>\n",
       "      <td>HH01082021-m05s43ms451-m06s47ms362.wav</td>\n",
       "      <td>2</td>\n",
       "    </tr>\n",
       "  </tbody>\n",
       "</table>\n",
       "</div>"
      ],
      "text/plain": [
       "      start                             mother_path  clip_i\n",
       "0   204.440  HH01082021-m03s07ms011-m04s09ms552.wav       0\n",
       "1   207.275  HH01082021-m03s07ms011-m04s09ms552.wav       1\n",
       "2   209.705  HH01082021-m03s07ms011-m04s09ms552.wav       2\n",
       "3   212.034  HH01082021-m03s07ms011-m04s09ms552.wav       3\n",
       "4   212.675  HH01082021-m03s07ms011-m04s09ms552.wav       4\n",
       "5   217.011  HH01082021-m03s07ms011-m04s09ms552.wav       5\n",
       "6   221.371  HH01082021-m03s07ms011-m04s09ms552.wav       6\n",
       "7   227.154  HH01082021-m03s07ms011-m04s09ms552.wav       7\n",
       "8   229.837  HH01082021-m03s07ms011-m04s09ms552.wav       8\n",
       "9   271.910  HH01082021-m04s13ms401-m05s16ms528.wav       0\n",
       "10  274.627  HH01082021-m04s13ms401-m05s16ms528.wav       1\n",
       "11  277.698  HH01082021-m04s13ms401-m05s16ms528.wav       2\n",
       "12  283.401  HH01082021-m04s13ms401-m05s16ms528.wav       3\n",
       "13  288.835  HH01082021-m04s13ms401-m05s16ms528.wav       4\n",
       "14  292.514  HH01082021-m04s13ms401-m05s16ms528.wav       5\n",
       "15  297.189  HH01082021-m04s13ms401-m05s16ms528.wav       6\n",
       "16  300.142  HH01082021-m04s13ms401-m05s16ms528.wav       7\n",
       "17  362.146  HH01082021-m05s43ms451-m06s47ms362.wav       0\n",
       "18  364.491  HH01082021-m05s43ms451-m06s47ms362.wav       1\n",
       "19  370.499  HH01082021-m05s43ms451-m06s47ms362.wav       2"
      ]
     },
     "execution_count": 138,
     "metadata": {},
     "output_type": "execute_result"
    }
   ],
   "source": [
    "sli_df['clip_i']=0\n",
    "def set_clip_indices(mother_clip):\n",
    "    brothers=sli_df[sli_df['mother_path']==mother_clip].copy()\n",
    "    brothers=brothers.sort_values('start')\n",
    "    sli_df.loc[brothers.index, 'clip_i']=list(range(len(brothers)))\n",
    "    \n",
    "pd.Series(sli_df['mother_path'].unique()).apply(set_clip_indices)\n",
    "sli_df.sort_values(['mother_path','clip_i'])[['start', 'mother_path', 'clip_i']].iloc[:20]"
   ]
  },
  {
   "cell_type": "markdown",
   "metadata": {},
   "source": [
    "Now let's condense English records using a while loop\n",
    "\n",
    "Rip numpy array operations :("
   ]
  },
  {
   "cell_type": "code",
   "execution_count": 139,
   "metadata": {},
   "outputs": [
    {
     "data": {
      "text/plain": [
       "(       start      end  output\n",
       " 895  309.779  310.572       1\n",
       " 896  310.994  312.192       1\n",
       " 897  313.610  316.495       1\n",
       " 898  317.407  318.014       1\n",
       " 899  318.554  319.010       0\n",
       " 900  319.583  321.372       1\n",
       " 901  321.727  322.604       1\n",
       " 902  323.920  324.241       1\n",
       " 903  325.050  326.477       0\n",
       " 904  329.169  331.302       0\n",
       " 905  334.413  336.899       0,\n",
       "        start      end  output\n",
       " 898  309.779  318.014       1\n",
       " 899  318.554  319.010       0\n",
       " 902  319.583  324.241       1\n",
       " 903  325.050  326.477       0\n",
       " 904  329.169  331.302       0\n",
       " 905  334.413  336.899       0)"
      ]
     },
     "execution_count": 139,
     "metadata": {},
     "output_type": "execute_result"
    }
   ],
   "source": [
    "def condense_records(mother_path):\n",
    "    record_df=sli_df[sli_df['mother_path']==mother_path]\n",
    "    condensed_rows=[]\n",
    "    i=0\n",
    "    while i<len(record_df):\n",
    "        row=record_df.iloc[i]\n",
    "        start=row['start']\n",
    "        start_i=row['clip_i']\n",
    "        end_i=start_i\n",
    "        i+=1\n",
    "        if row['output']!=1:\n",
    "            condensed_rows.append(row)\n",
    "            continue\n",
    "        while i<len(record_df) and record_df.iloc[i]['output']==1:\n",
    "            row=record_df.iloc[i]\n",
    "            end_i=row['end']\n",
    "            i+=1\n",
    "        new_row=row.copy()\n",
    "        new_row['start']=start\n",
    "        new_row['clip_i']=(start_i,end_i)\n",
    "        condensed_rows.append(new_row)\n",
    "    return condensed_rows\n",
    "\n",
    "first_clip = sli_df['mother_path'][900]\n",
    "sli_df[sli_df['mother_path']==first_clip][['start', 'end', 'output']],\\\n",
    "pd.DataFrame(condense_records(first_clip))[['start', 'end', 'output']]"
   ]
  },
  {
   "cell_type": "code",
   "execution_count": 140,
   "metadata": {},
   "outputs": [
    {
     "name": "stderr",
     "output_type": "stream",
     "text": [
      "100%|██████████| 4421/4421 [00:20<00:00, 214.10it/s]\n"
     ]
    }
   ],
   "source": [
    "records=[]\n",
    "for clip_path in tqdm(sli_df['mother_path'].unique()):\n",
    "    records.extend(condense_records(clip_path))\n",
    "condensed_df=pd.DataFrame(records)"
   ]
  },
  {
   "cell_type": "code",
   "execution_count": 141,
   "metadata": {},
   "outputs": [
    {
     "data": {
      "text/plain": [
       "(output\n",
       " True     26063\n",
       " False     9162\n",
       " Name: count, dtype: int64,\n",
       " output\n",
       " True     26063\n",
       " False    17016\n",
       " Name: count, dtype: int64)"
      ]
     },
     "execution_count": 141,
     "metadata": {},
     "output_type": "execute_result"
    }
   ],
   "source": [
    "(condensed_df['output']==0).value_counts(), (sli_df['output']==0).value_counts()"
   ]
  },
  {
   "cell_type": "code",
   "execution_count": 142,
   "metadata": {},
   "outputs": [
    {
     "data": {
      "text/plain": [
       "Index(['label', 'audio_path', 'output', 'file_name', 'start', 'end',\n",
       "       'turn_label', 'mother_old_start', 'mother_old_end',\n",
       "       'mother_transcription', 'mother_eaf_source', 'mother_wav_source',\n",
       "       'mother_raw_transcription', 'mother_clip', 'mother_wav_rawpath',\n",
       "       'mother_path', 'mother_allosaurus', 'mother_clap_ipa_cos_sim',\n",
       "       'mother_wada_snr', 'mother_nist_stnr', 'mother_speaker-diarization-3.1',\n",
       "       'mother_voice-activity-detection', 'mother_whisper-large-v3',\n",
       "       'mother_clapipa-transcription-allosaurus', 'mother_vad_s',\n",
       "       'mother_drz_s', 'mother_trans_len', 'mother_pcnt_speech',\n",
       "       'mother_trans_len_sq', 'mother_trans_len_log', 'mother_cos_sim_softmax',\n",
       "       'mother_cos_sim_log', 'mother_duration', 'mother_split', 'mother_start',\n",
       "       'mother_end', 'mother_overlap', 'mother_num_overlap',\n",
       "       'mother_overlap_split', 'mother_start_list', 'mother_end_list',\n",
       "       'mother_trans_list', 'mother_pairwise_cos_sim', 'mother_vad_timestamps',\n",
       "       'mother_tira_timestamps', 'mother_merged_timestamps',\n",
       "       'mother_merged_labels', 'mother_timestamps_30s', 'mother_labels_30s',\n",
       "       'mother_turns_30s', 'clip_i'],\n",
       "      dtype='object')"
      ]
     },
     "execution_count": 142,
     "metadata": {},
     "output_type": "execute_result"
    }
   ],
   "source": [
    "condensed_df.columns"
   ]
  },
  {
   "cell_type": "code",
   "execution_count": 143,
   "metadata": {},
   "outputs": [
    {
     "data": {
      "text/plain": [
       "0         187011\n",
       "1         187011\n",
       "2         187011\n",
       "4         187011\n",
       "5         187011\n",
       "          ...   \n",
       "43073    1892560\n",
       "43074    1892560\n",
       "43075    1892560\n",
       "43077    1892560\n",
       "43078    1892560\n",
       "Name: mother_start, Length: 35225, dtype: int64"
      ]
     },
     "execution_count": 143,
     "metadata": {},
     "output_type": "execute_result"
    }
   ],
   "source": [
    "condensed_df['mother_start']"
   ]
  },
  {
   "cell_type": "code",
   "execution_count": 146,
   "metadata": {},
   "outputs": [
    {
     "data": {
      "text/plain": [
       "'/Users/markjos/projects/malachor5/data/tira-snippets-30s/clips/eng/HH01082021-m00s17ms429-m00s18ms796.wav'"
      ]
     },
     "execution_count": 146,
     "metadata": {},
     "output_type": "execute_result"
    }
   ],
   "source": [
    "snippet_dir='/Users/markjos/projects/malachor5/data/tira-snippets-30s/clips'\n",
    "\n",
    "def make_clips_for_record(row, target_dir=snippet_dir):\n",
    "    clip=row['mother_path']\n",
    "    split = row['mother_split']\n",
    "    clip_fullpath=os.path.join('/Users/markjos/projects/malachor5/data/tira-code-mixed/clips', split, clip)\n",
    "    lang='tira' if row['output']==0 else 'eng'\n",
    "    wav_source=row['mother_wav_source']\n",
    "    record_start=row['mother_start']\n",
    "    wav, _= librosa.load(clip_fullpath, sr=16_000, mono=True)\n",
    "    start=int(row['start']*1_000)-record_start\n",
    "    end=int(row['end']*1_000)-record_start\n",
    "    new_clip=clip_segment(\n",
    "        wav=wav,\n",
    "        start_ms=start,\n",
    "        end_ms=end,\n",
    "        wav_basename=os.path.basename(wav_source),\n",
    "        target_dir=os.path.join(target_dir, lang),\n",
    "    )\n",
    "    return new_clip\n",
    "\n",
    "make_clips_for_record(condensed_df.iloc[0])"
   ]
  },
  {
   "cell_type": "code",
   "execution_count": 147,
   "metadata": {},
   "outputs": [
    {
     "name": "stderr",
     "output_type": "stream",
     "text": [
      "  0%|          | 0/35225 [00:00<?, ?it/s]"
     ]
    },
    {
     "name": "stderr",
     "output_type": "stream",
     "text": [
      "100%|██████████| 35225/35225 [00:01<00:00, 26509.28it/s]\n"
     ]
    }
   ],
   "source": [
    "condensed_df['file_name_condensed']=condensed_df.progress_apply(make_clips_for_record, axis=1)"
   ]
  },
  {
   "cell_type": "code",
   "execution_count": 148,
   "metadata": {},
   "outputs": [],
   "source": [
    "snippets_condensed='/Users/markjos/projects/malachor5/data/tira-snippets-30s'\n",
    "condensed_df['file_name_condensed']=condensed_df['file_name_condensed'].apply(\n",
    "    lambda fp: os.path.relpath(fp, snippets_condensed)\n",
    ")\n",
    "metadata='/Users/markjos/projects/malachor5/data/tira-snippets-30s/metadata.csv'\n",
    "condensed_df.rename({'file_name': 'file_name_uncondensed', 'file_name_condensed': 'file_name'},axis=1).to_csv(metadata, index=False)"
   ]
  },
  {
   "cell_type": "code",
   "execution_count": 149,
   "metadata": {},
   "outputs": [
    {
     "data": {
      "text/plain": [
       "'clips/eng/HH01082021-m00s17ms429-m00s18ms796.wav'"
      ]
     },
     "execution_count": 149,
     "metadata": {},
     "output_type": "execute_result"
    }
   ],
   "source": [
    "metadata=pd.read_csv(metadata)\n",
    "metadata['file_name'][0]"
   ]
  },
  {
   "cell_type": "code",
   "execution_count": 150,
   "metadata": {},
   "outputs": [
    {
     "data": {
      "text/plain": [
       "'clips/eng/HH01082021-m00s17ms429-m00s18ms796.wav'"
      ]
     },
     "execution_count": 150,
     "metadata": {},
     "output_type": "execute_result"
    }
   ],
   "source": [
    "condensed_df['file_name_condensed'][0]"
   ]
  },
  {
   "cell_type": "code",
   "execution_count": 151,
   "metadata": {},
   "outputs": [
    {
     "name": "stderr",
     "output_type": "stream",
     "text": [
      "Resolving data files: 100%|██████████| 34936/34936 [00:00<00:00, 62399.77it/s] \n",
      "Downloading data files: 100%|██████████| 34936/34936 [00:00<00:00, 61128.44it/s]\n",
      "Downloading data files: 0it [00:00, ?it/s]\n",
      "Extracting data files: 0it [00:00, ?it/s]\n",
      "Generating train split: 34935 examples [00:21, 1593.91 examples/s]\n"
     ]
    },
    {
     "data": {
      "text/plain": [
       "DatasetDict({\n",
       "    train: Dataset({\n",
       "        features: ['audio', 'label', 'audio_path', 'output', 'file_name_uncondensed', 'start', 'end', 'turn_label', 'mother_old_start', 'mother_old_end', 'mother_transcription', 'mother_eaf_source', 'mother_wav_source', 'mother_raw_transcription', 'mother_clip', 'mother_wav_rawpath', 'mother_path', 'mother_allosaurus', 'mother_clap_ipa_cos_sim', 'mother_wada_snr', 'mother_nist_stnr', 'mother_speaker-diarization-3.1', 'mother_voice-activity-detection', 'mother_whisper-large-v3', 'mother_clapipa-transcription-allosaurus', 'mother_vad_s', 'mother_drz_s', 'mother_trans_len', 'mother_pcnt_speech', 'mother_trans_len_sq', 'mother_trans_len_log', 'mother_cos_sim_softmax', 'mother_cos_sim_log', 'mother_duration', 'mother_split', 'mother_start', 'mother_end', 'mother_overlap', 'mother_num_overlap', 'mother_overlap_split', 'mother_start_list', 'mother_end_list', 'mother_trans_list', 'mother_pairwise_cos_sim', 'mother_vad_timestamps', 'mother_tira_timestamps', 'mother_merged_timestamps', 'mother_merged_labels', 'mother_timestamps_30s', 'mother_labels_30s', 'mother_turns_30s', 'clip_i'],\n",
       "        num_rows: 34935\n",
       "    })\n",
       "})"
      ]
     },
     "execution_count": 151,
     "metadata": {},
     "output_type": "execute_result"
    }
   ],
   "source": [
    "ds=load_dataset('audiofolder', data_dir=snippets_condensed)\n",
    "ds"
   ]
  },
  {
   "cell_type": "code",
   "execution_count": 153,
   "metadata": {},
   "outputs": [
    {
     "name": "stderr",
     "output_type": "stream",
     "text": [
      "Filter: 100%|██████████| 34935/34935 [00:45<00:00, 775.02 examples/s]\n",
      "Filter: 100%|██████████| 34935/34935 [00:43<00:00, 799.11 examples/s]\n"
     ]
    },
    {
     "data": {
      "text/plain": [
       "DatasetDict({\n",
       "    eng: DatasetDict({\n",
       "        train: Dataset({\n",
       "            features: ['audio', 'label', 'audio_path', 'output', 'file_name_uncondensed', 'start', 'end', 'turn_label', 'mother_old_start', 'mother_old_end', 'mother_transcription', 'mother_eaf_source', 'mother_wav_source', 'mother_raw_transcription', 'mother_clip', 'mother_wav_rawpath', 'mother_path', 'mother_allosaurus', 'mother_clap_ipa_cos_sim', 'mother_wada_snr', 'mother_nist_stnr', 'mother_speaker-diarization-3.1', 'mother_voice-activity-detection', 'mother_whisper-large-v3', 'mother_clapipa-transcription-allosaurus', 'mother_vad_s', 'mother_drz_s', 'mother_trans_len', 'mother_pcnt_speech', 'mother_trans_len_sq', 'mother_trans_len_log', 'mother_cos_sim_softmax', 'mother_cos_sim_log', 'mother_duration', 'mother_split', 'mother_start', 'mother_end', 'mother_overlap', 'mother_num_overlap', 'mother_overlap_split', 'mother_start_list', 'mother_end_list', 'mother_trans_list', 'mother_pairwise_cos_sim', 'mother_vad_timestamps', 'mother_tira_timestamps', 'mother_merged_timestamps', 'mother_merged_labels', 'mother_timestamps_30s', 'mother_labels_30s', 'mother_turns_30s', 'clip_i'],\n",
       "            num_rows: 9162\n",
       "        })\n",
       "    })\n",
       "    tira: DatasetDict({\n",
       "        train: Dataset({\n",
       "            features: ['audio', 'label', 'audio_path', 'output', 'file_name_uncondensed', 'start', 'end', 'turn_label', 'mother_old_start', 'mother_old_end', 'mother_transcription', 'mother_eaf_source', 'mother_wav_source', 'mother_raw_transcription', 'mother_clip', 'mother_wav_rawpath', 'mother_path', 'mother_allosaurus', 'mother_clap_ipa_cos_sim', 'mother_wada_snr', 'mother_nist_stnr', 'mother_speaker-diarization-3.1', 'mother_voice-activity-detection', 'mother_whisper-large-v3', 'mother_clapipa-transcription-allosaurus', 'mother_vad_s', 'mother_drz_s', 'mother_trans_len', 'mother_pcnt_speech', 'mother_trans_len_sq', 'mother_trans_len_log', 'mother_cos_sim_softmax', 'mother_cos_sim_log', 'mother_duration', 'mother_split', 'mother_start', 'mother_end', 'mother_overlap', 'mother_num_overlap', 'mother_overlap_split', 'mother_start_list', 'mother_end_list', 'mother_trans_list', 'mother_pairwise_cos_sim', 'mother_vad_timestamps', 'mother_tira_timestamps', 'mother_merged_timestamps', 'mother_merged_labels', 'mother_timestamps_30s', 'mother_labels_30s', 'mother_turns_30s', 'clip_i'],\n",
       "            num_rows: 25773\n",
       "        })\n",
       "    })\n",
       "})"
      ]
     },
     "execution_count": 153,
     "metadata": {},
     "output_type": "execute_result"
    }
   ],
   "source": [
    "ds_lang_split=DatasetDict()\n",
    "ds_lang_split['eng']=ds.filter(lambda r:r['output']==1)\n",
    "ds_lang_split['tira']=ds.filter(lambda r:r['output']==0)\n",
    "ds_lang_split"
   ]
  },
  {
   "cell_type": "code",
   "execution_count": 154,
   "metadata": {},
   "outputs": [
    {
     "name": "stderr",
     "output_type": "stream",
     "text": [
      "Saving the dataset (3/3 shards): 100%|██████████| 9162/9162 [00:10<00:00, 912.01 examples/s] \n",
      "Saving the dataset (4/4 shards): 100%|██████████| 25773/25773 [00:18<00:00, 1391.20 examples/s]\n"
     ]
    }
   ],
   "source": [
    "ds_path='/Users/markjos/projects/malachor5/data/pyarrow-datasets/tira-snippets'\n",
    "ds_lang_split.save_to_disk(ds_path)"
   ]
  },
  {
   "cell_type": "code",
   "execution_count": 158,
   "metadata": {},
   "outputs": [
    {
     "data": {
      "text/plain": [
       "DatasetDict({\n",
       "    train: Dataset({\n",
       "        features: ['audio', 'label', 'audio_path', 'output', 'file_name_uncondensed', 'start', 'end', 'turn_label', 'mother_old_start', 'mother_old_end', 'mother_transcription', 'mother_eaf_source', 'mother_wav_source', 'mother_raw_transcription', 'mother_clip', 'mother_wav_rawpath', 'mother_path', 'mother_allosaurus', 'mother_clap_ipa_cos_sim', 'mother_wada_snr', 'mother_nist_stnr', 'mother_speaker-diarization-3.1', 'mother_voice-activity-detection', 'mother_whisper-large-v3', 'mother_clapipa-transcription-allosaurus', 'mother_vad_s', 'mother_drz_s', 'mother_trans_len', 'mother_pcnt_speech', 'mother_trans_len_sq', 'mother_trans_len_log', 'mother_cos_sim_softmax', 'mother_cos_sim_log', 'mother_duration', 'mother_split', 'mother_start', 'mother_end', 'mother_overlap', 'mother_num_overlap', 'mother_overlap_split', 'mother_start_list', 'mother_end_list', 'mother_trans_list', 'mother_pairwise_cos_sim', 'mother_vad_timestamps', 'mother_tira_timestamps', 'mother_merged_timestamps', 'mother_merged_labels', 'mother_timestamps_30s', 'mother_labels_30s', 'mother_turns_30s', 'clip_i'],\n",
       "        num_rows: 25773\n",
       "    })\n",
       "})"
      ]
     },
     "execution_count": 158,
     "metadata": {},
     "output_type": "execute_result"
    }
   ],
   "source": [
    "load_from_disk(ds_path+'/tira')"
   ]
  }
 ],
 "metadata": {
  "kernelspec": {
   "display_name": "Python 3",
   "language": "python",
   "name": "python3"
  },
  "language_info": {
   "codemirror_mode": {
    "name": "ipython",
    "version": 3
   },
   "file_extension": ".py",
   "mimetype": "text/x-python",
   "name": "python",
   "nbconvert_exporter": "python",
   "pygments_lexer": "ipython3",
   "version": "3.9.19"
  }
 },
 "nbformat": 4,
 "nbformat_minor": 2
}
