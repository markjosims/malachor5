{
 "cells": [
  {
   "cell_type": "code",
   "execution_count": 12,
   "id": "353de260",
   "metadata": {},
   "outputs": [],
   "source": [
    "from pympi import Praat\n",
    "import json\n",
    "import os\n",
    "from glob import glob\n",
    "import numpy as np\n",
    "import matplotlib.pyplot as plt\n",
    "import seaborn as sns\n",
    "import pandas as pd\n",
    "from sklearn.metrics import roc_curve\n",
    "from scipy.optimize import brentq\n",
    "from scipy.interpolate import interp1d\n",
    "from tqdm import tqdm\n",
    "\n",
    "import sys\n",
    "project_root = r'C:\\projects\\malachor5'\n",
    "os.chdir(project_root)\n",
    "sys.path.append('scripts')\n",
    "from kws import get_sliding_window"
   ]
  },
  {
   "cell_type": "markdown",
   "id": "d26ad316",
   "metadata": {},
   "source": [
    "# Load data\n",
    "Load forced-aligned TextGrids and KWS probabilities."
   ]
  },
  {
   "cell_type": "code",
   "execution_count": 13,
   "id": "43e90c1e",
   "metadata": {},
   "outputs": [],
   "source": [
    "textgrid_dir = r'C:\\projects\\malachor5\\data\\tira_eval_mfa_aligned'\n",
    "kws_out_dir = r'C:\\projects\\malachor5\\data\\tira_eval_kws'"
   ]
  },
  {
   "cell_type": "code",
   "execution_count": 14,
   "id": "492b1f46",
   "metadata": {},
   "outputs": [
    {
     "data": {
      "text/plain": [
       "['C:\\\\projects\\\\malachor5\\\\data\\\\tira_eval_mfa_aligned\\\\HH20210312.TextGrid',\n",
       " 'C:\\\\projects\\\\malachor5\\\\data\\\\tira_eval_mfa_aligned\\\\HH20210913.TextGrid',\n",
       " 'C:\\\\projects\\\\malachor5\\\\data\\\\tira_eval_mfa_aligned\\\\HH20220327-2.TextGrid']"
      ]
     },
     "execution_count": 14,
     "metadata": {},
     "output_type": "execute_result"
    }
   ],
   "source": [
    "tg_paths = glob(os.path.join(textgrid_dir, '*.TextGrid'))\n",
    "tg_paths"
   ]
  },
  {
   "cell_type": "code",
   "execution_count": 15,
   "id": "3d891f2d",
   "metadata": {},
   "outputs": [
    {
     "data": {
      "text/plain": [
       "['C:\\\\projects\\\\malachor5\\\\data\\\\tira_eval_kws\\\\HH20210312.json',\n",
       " 'C:\\\\projects\\\\malachor5\\\\data\\\\tira_eval_kws\\\\HH20210913.json',\n",
       " 'C:\\\\projects\\\\malachor5\\\\data\\\\tira_eval_kws\\\\HH20220327-2.json']"
      ]
     },
     "execution_count": 15,
     "metadata": {},
     "output_type": "execute_result"
    }
   ],
   "source": [
    "json_paths = glob(os.path.join(kws_out_dir, '*.json'))\n",
    "json_paths"
   ]
  },
  {
   "cell_type": "markdown",
   "id": "175463cc",
   "metadata": {},
   "source": [
    "# Keyword search / ground truth correlation\n",
    "How close do the KWS probabilities from CLAP-IPA correlate to the ground truth timestamps of the given word?\n",
    "\n",
    "Getting the KWS probabilities into vector form is easy: just index the column from the matrix."
   ]
  },
  {
   "cell_type": "code",
   "execution_count": 16,
   "id": "81bbdf75",
   "metadata": {},
   "outputs": [
    {
     "data": {
      "text/plain": [
       "((5329, 18), 18, 5329)"
      ]
     },
     "execution_count": 16,
     "metadata": {},
     "output_type": "execute_result"
    }
   ],
   "source": [
    "with open(json_paths[0], encoding='utf8') as f:\n",
    "    kws_json = json.load(f)\n",
    "keywords = kws_json['keywords']\n",
    "timestamps = kws_json['timestamps']\n",
    "sim_mat = kws_json['similarity_matrix']\n",
    "sim_mat = np.array(sim_mat)\n",
    "sim_mat.shape, len(keywords), len(timestamps)"
   ]
  },
  {
   "cell_type": "markdown",
   "id": "56900000",
   "metadata": {},
   "source": [
    "Ground truth vectors will require some more querying: get all intervals at a given timepoint and check if the interval value corresponds to the keyword or a word within the keyword.\n",
    "\n",
    "`pympi` doesn't allow direct querying of intervals, so first let's make a dataframe from the textgrid."
   ]
  },
  {
   "cell_type": "code",
   "execution_count": 17,
   "id": "936a0c4e",
   "metadata": {},
   "outputs": [
    {
     "data": {
      "text/html": [
       "<div>\n",
       "<style scoped>\n",
       "    .dataframe tbody tr th:only-of-type {\n",
       "        vertical-align: middle;\n",
       "    }\n",
       "\n",
       "    .dataframe tbody tr th {\n",
       "        vertical-align: top;\n",
       "    }\n",
       "\n",
       "    .dataframe thead th {\n",
       "        text-align: right;\n",
       "    }\n",
       "</style>\n",
       "<table border=\"1\" class=\"dataframe\">\n",
       "  <thead>\n",
       "    <tr style=\"text-align: right;\">\n",
       "      <th></th>\n",
       "      <th>start</th>\n",
       "      <th>end</th>\n",
       "      <th>text</th>\n",
       "      <th>speaker</th>\n",
       "    </tr>\n",
       "  </thead>\n",
       "  <tbody>\n",
       "    <tr>\n",
       "      <th>0</th>\n",
       "      <td>0.00</td>\n",
       "      <td>0.45</td>\n",
       "      <td></td>\n",
       "      <td>HIM</td>\n",
       "    </tr>\n",
       "    <tr>\n",
       "      <th>1</th>\n",
       "      <td>0.45</td>\n",
       "      <td>0.98</td>\n",
       "      <td>hello</td>\n",
       "      <td>HIM</td>\n",
       "    </tr>\n",
       "    <tr>\n",
       "      <th>2</th>\n",
       "      <td>0.98</td>\n",
       "      <td>1.33</td>\n",
       "      <td>hello</td>\n",
       "      <td>HIM</td>\n",
       "    </tr>\n",
       "    <tr>\n",
       "      <th>3</th>\n",
       "      <td>1.33</td>\n",
       "      <td>1.66</td>\n",
       "      <td>hello</td>\n",
       "      <td>HIM</td>\n",
       "    </tr>\n",
       "    <tr>\n",
       "      <th>4</th>\n",
       "      <td>1.66</td>\n",
       "      <td>1.69</td>\n",
       "      <td>oh</td>\n",
       "      <td>HIM</td>\n",
       "    </tr>\n",
       "  </tbody>\n",
       "</table>\n",
       "</div>"
      ],
      "text/plain": [
       "   start   end   text speaker\n",
       "0   0.00  0.45            HIM\n",
       "1   0.45  0.98  hello     HIM\n",
       "2   0.98  1.33  hello     HIM\n",
       "3   1.33  1.66  hello     HIM\n",
       "4   1.66  1.69     oh     HIM"
      ]
     },
     "execution_count": 17,
     "metadata": {},
     "output_type": "execute_result"
    }
   ],
   "source": [
    "def textgrid_to_df(textgrid_path):\n",
    "    tg = Praat.TextGrid(textgrid_path)\n",
    "    rows = []\n",
    "    for tier in tg.get_tiers():\n",
    "        if 'words' not in tier.name:\n",
    "            continue\n",
    "        speaker = tier.name.split()[0]\n",
    "        for start, end, val in tier.get_all_intervals():\n",
    "            rows.append({\n",
    "                'start': start,\n",
    "                'end': end,\n",
    "                'text': val,\n",
    "                'speaker': speaker\n",
    "            })\n",
    "    return pd.DataFrame(rows)\n",
    "df=textgrid_to_df(tg_paths[0])\n",
    "df.head()"
   ]
  },
  {
   "cell_type": "markdown",
   "id": "3779a043",
   "metadata": {},
   "source": [
    "Then write a function to find all timestamps from a list that are hits for a given keyword."
   ]
  },
  {
   "cell_type": "code",
   "execution_count": 18,
   "id": "feb2d0d2",
   "metadata": {},
   "outputs": [],
   "source": [
    "def is_keyword_hit(df, keyword, midpoint):\n",
    "    midpoint_mask = (df['start']<=midpoint) & (df['end']>=midpoint)\n",
    "    keyword_mask = df['text'].isin(keyword.split())\n",
    "    return 1 if (midpoint_mask & keyword_mask).sum() > 0 else 0\n",
    "\n",
    "def get_midpoints(timestamps):\n",
    "    return [(timestamp['end_s']+timestamp['start_s'])/2 for timestamp in timestamps]\n",
    "\n",
    "def timestamp_hits(df, keyword, timestamps):\n",
    "    midpoints = get_midpoints(timestamps)\n",
    "    return np.array([is_keyword_hit(df, keyword, t) for t in midpoints])\n",
    "\n",
    "hits = timestamp_hits(df, keywords[0], timestamps)"
   ]
  },
  {
   "cell_type": "code",
   "execution_count": 19,
   "id": "311e3e53",
   "metadata": {},
   "outputs": [
    {
     "data": {
      "image/png": "[encoded data removed]",
      "text/plain": [
       "<Figure size 640x480 with 1 Axes>"
      ]
     },
     "metadata": {},
     "output_type": "display_data"
    }
   ],
   "source": [
    "i = 0\n",
    "kw_probs = sim_mat[:,i]\n",
    "ground_truth = timestamp_hits(df, keywords[i], timestamps)\n",
    "midpoints = get_midpoints(timestamps)\n",
    "\n",
    "plt.scatter(midpoints, kw_probs, c='blue')\n",
    "plt.scatter(midpoints, ground_truth, c='red')\n",
    "plt.show()\n"
   ]
  },
  {
   "cell_type": "markdown",
   "id": "ae54af4a",
   "metadata": {},
   "source": [
    "# EER\n",
    "Plot the ROC curve and write a function to get the Equal Error Rate for keyword detection"
   ]
  },
  {
   "cell_type": "code",
   "execution_count": 20,
   "id": "e4c000e5",
   "metadata": {},
   "outputs": [
    {
     "data": {
      "image/png": "[encoded data removed]",
      "text/plain": [
       "<Figure size 640x480 with 1 Axes>"
      ]
     },
     "metadata": {},
     "output_type": "display_data"
    }
   ],
   "source": [
    "fpr, tpr, thresholds=roc_curve(ground_truth, kw_probs)\n",
    "plt.scatter(fpr, tpr)\n",
    "plt.ylabel('True positive rate')\n",
    "plt.xlabel('False positive rate')\n",
    "plt.show()"
   ]
  },
  {
   "cell_type": "code",
   "execution_count": 21,
   "id": "33b536f0",
   "metadata": {},
   "outputs": [
    {
     "data": {
      "text/plain": [
       "(0.13607115821459553, array(0.52232796))"
      ]
     },
     "execution_count": 21,
     "metadata": {},
     "output_type": "execute_result"
    }
   ],
   "source": [
    "# taken from https://yangcha.github.io/EER-ROC/ on 18 Apr 2025\n",
    "eer = brentq(lambda x : 1. - x - interp1d(fpr, tpr)(x), 0., 1.)\n",
    "thresh = interp1d(fpr, thresholds)(eer)\n",
    "eer, thresh"
   ]
  },
  {
   "cell_type": "markdown",
   "id": "8f8de69f",
   "metadata": {},
   "source": [
    "# Put it all together"
   ]
  },
  {
   "cell_type": "code",
   "execution_count": 22,
   "id": "13569b2a",
   "metadata": {},
   "outputs": [
    {
     "name": "stdout",
     "output_type": "stream",
     "text": [
      "C:\\projects\\malachor5\\data\\tira_eval_mfa_aligned\\HH20210312.TextGrid\n"
     ]
    },
    {
     "name": "stderr",
     "output_type": "stream",
     "text": [
      "100%|██████████| 18/18 [01:12<00:00,  4.01s/it]\n"
     ]
    },
    {
     "name": "stdout",
     "output_type": "stream",
     "text": [
      "C:\\projects\\malachor5\\data\\tira_eval_mfa_aligned\\HH20210913.TextGrid\n"
     ]
    },
    {
     "name": "stderr",
     "output_type": "stream",
     "text": [
      "100%|██████████| 23/23 [01:57<00:00,  5.12s/it]\n"
     ]
    },
    {
     "name": "stdout",
     "output_type": "stream",
     "text": [
      "C:\\projects\\malachor5\\data\\tira_eval_mfa_aligned\\HH20220327-2.TextGrid\n"
     ]
    },
    {
     "name": "stderr",
     "output_type": "stream",
     "text": [
      "100%|██████████| 60/60 [05:05<00:00,  5.10s/it]\n"
     ]
    },
    {
     "data": {
      "text/html": [
       "<div>\n",
       "<style scoped>\n",
       "    .dataframe tbody tr th:only-of-type {\n",
       "        vertical-align: middle;\n",
       "    }\n",
       "\n",
       "    .dataframe tbody tr th {\n",
       "        vertical-align: top;\n",
       "    }\n",
       "\n",
       "    .dataframe thead th {\n",
       "        text-align: right;\n",
       "    }\n",
       "</style>\n",
       "<table border=\"1\" class=\"dataframe\">\n",
       "  <thead>\n",
       "    <tr style=\"text-align: right;\">\n",
       "      <th></th>\n",
       "      <th>keyword</th>\n",
       "      <th>eer</th>\n",
       "      <th>threshold</th>\n",
       "    </tr>\n",
       "  </thead>\n",
       "  <tbody>\n",
       "    <tr>\n",
       "      <th>0</th>\n",
       "      <td>làŋə̀l və́lɛ̂ðɛ̀</td>\n",
       "      <td>0.136071</td>\n",
       "      <td>0.522328</td>\n",
       "    </tr>\n",
       "    <tr>\n",
       "      <th>1</th>\n",
       "      <td>a ló</td>\n",
       "      <td>0.577552</td>\n",
       "      <td>0.142707</td>\n",
       "    </tr>\n",
       "    <tr>\n",
       "      <th>2</th>\n",
       "      <td>laŋ</td>\n",
       "      <td>0.186937</td>\n",
       "      <td>0.297374</td>\n",
       "    </tr>\n",
       "    <tr>\n",
       "      <th>3</th>\n",
       "      <td>jɛ jə</td>\n",
       "      <td>0.176305</td>\n",
       "      <td>0.287465</td>\n",
       "    </tr>\n",
       "    <tr>\n",
       "      <th>4</th>\n",
       "      <td>lâlló və́lɛ̀ðɔ́</td>\n",
       "      <td>0.085677</td>\n",
       "      <td>0.571142</td>\n",
       "    </tr>\n",
       "  </tbody>\n",
       "</table>\n",
       "</div>"
      ],
      "text/plain": [
       "             keyword       eer  threshold\n",
       "0  làŋə̀l və́lɛ̂ðɛ̀  0.136071   0.522328\n",
       "1              a ló  0.577552   0.142707\n",
       "2                laŋ  0.186937   0.297374\n",
       "3              jɛ jə  0.176305   0.287465\n",
       "4  lâlló və́lɛ̀ðɔ́  0.085677   0.571142"
      ]
     },
     "execution_count": 22,
     "metadata": {},
     "output_type": "execute_result"
    }
   ],
   "source": [
    "kw_rows = []\n",
    "\n",
    "for json_path, tg_path in zip(json_paths, tg_paths):\n",
    "    print(tg_path)\n",
    "    with open(json_path, encoding='utf8') as f:\n",
    "        kws_json = json.load(f)\n",
    "    keywords = kws_json['keywords']\n",
    "    timestamps = kws_json['timestamps']\n",
    "    sim_mat = kws_json['similarity_matrix']\n",
    "    sim_mat = np.array(sim_mat)\n",
    "\n",
    "    df = textgrid_to_df(tg_path)\n",
    "\n",
    "    for i, keyword in enumerate(tqdm(keywords)):\n",
    "        kw_probs = sim_mat[:,i]\n",
    "        ground_truth = timestamp_hits(df, keyword, timestamps)\n",
    "        if not ground_truth.sum():\n",
    "            # tqdm.write(\"keyword not found, skipping...\")\n",
    "            continue\n",
    "        # tqdm.write(keyword)\n",
    "        fpr, tpr, thresholds=roc_curve(ground_truth, kw_probs)\n",
    "\n",
    "        eer = brentq(lambda x : 1. - x - interp1d(fpr, tpr)(x), 0., 1.)\n",
    "        thresh = interp1d(fpr, thresholds)(eer).item()\n",
    "        # tqdm.write(f\"{eer=:.2f}\\t{thresh=:.2f}\")\n",
    "\n",
    "        kw_rows.append({'keyword': keyword, 'eer': eer, 'threshold': thresh})\n",
    "kw_df = pd.DataFrame(kw_rows)\n",
    "kw_df.head()"
   ]
  },
  {
   "cell_type": "code",
   "execution_count": 23,
   "id": "d0053f6f",
   "metadata": {},
   "outputs": [
    {
     "data": {
      "image/png": "[encoded data removed]",
      "text/plain": [
       "<Figure size 1000x600 with 1 Axes>"
      ]
     },
     "metadata": {},
     "output_type": "display_data"
    }
   ],
   "source": [
    "plt.figure(figsize=(10, 6))\n",
    "kw_df['charlen']=kw_df['keyword'].str.len()\n",
    "fig=sns.scatterplot(kw_df, x='eer', y='threshold', hue='charlen')\n",
    "# fig.set_xlim(0,1)\n",
    "# fig.set_ylim(0,1)\n",
    "for _, row in kw_df.iterrows():\n",
    "    plt.text(row['eer'], row['threshold'], row['keyword'])\n",
    "plt.show()"
   ]
  },
  {
   "cell_type": "markdown",
   "id": "f3d7dbaa",
   "metadata": {},
   "source": [
    "# Inference w/in 10s window\n",
    "Let's do the same but instead see what EER we obtain using the max similarity w/in a 10sec window (since this is closer to the actual inference case).\n",
    "\n",
    "First create a list of timestamps with window length 10s and shift 2s, then using the similarity matrix get the maximum cosine similarity for the domain of the longer window."
   ]
  },
  {
   "cell_type": "code",
   "execution_count": 24,
   "id": "cc5dda46",
   "metadata": {},
   "outputs": [
    {
     "data": {
      "text/plain": [
       "{'start_s': 3125.0, 'end_s': 3126.5965}"
      ]
     },
     "execution_count": 24,
     "metadata": {},
     "output_type": "execute_result"
    }
   ],
   "source": [
    "timestamps[-1]"
   ]
  },
  {
   "cell_type": "code",
   "execution_count": 25,
   "id": "aa34592c",
   "metadata": {},
   "outputs": [
    {
     "name": "stdout",
     "output_type": "stream",
     "text": [
      "C:\\projects\\malachor5\\data\\tira_eval_mfa_aligned\\HH20210312.TextGrid\n"
     ]
    },
    {
     "ename": "KeyError",
     "evalue": "'end'",
     "output_type": "error",
     "traceback": [
      "\u001b[31m---------------------------------------------------------------------------\u001b[39m",
      "\u001b[31mKeyError\u001b[39m                                  Traceback (most recent call last)",
      "\u001b[36mCell\u001b[39m\u001b[36m \u001b[39m\u001b[32mIn[25]\u001b[39m\u001b[32m, line 9\u001b[39m\n\u001b[32m      7\u001b[39m keywords = kws_json[\u001b[33m'\u001b[39m\u001b[33mkeywords\u001b[39m\u001b[33m'\u001b[39m]\n\u001b[32m      8\u001b[39m timestamps_2s = kws_json[\u001b[33m'\u001b[39m\u001b[33mtimestamps\u001b[39m\u001b[33m'\u001b[39m]\n\u001b[32m----> \u001b[39m\u001b[32m9\u001b[39m max_time = \u001b[43mtimestamps_2s\u001b[49m\u001b[43m[\u001b[49m\u001b[43m-\u001b[49m\u001b[32;43m1\u001b[39;49m\u001b[43m]\u001b[49m\u001b[43m[\u001b[49m\u001b[33;43m'\u001b[39;49m\u001b[33;43mend\u001b[39;49m\u001b[33;43m'\u001b[39;49m\u001b[43m]\u001b[49m\n\u001b[32m     10\u001b[39m timestamps_10s = get_sliding_window()\n\u001b[32m     12\u001b[39m sim_mat = kws_json[\u001b[33m'\u001b[39m\u001b[33msimilarity_matrix\u001b[39m\u001b[33m'\u001b[39m]\n",
      "\u001b[31mKeyError\u001b[39m: 'end'"
     ]
    }
   ],
   "source": [
    "kw_10sec_rows = []\n",
    "\n",
    "for json_path, tg_path in zip(json_paths, tg_paths):\n",
    "    print(tg_path)\n",
    "    with open(json_path, encoding='utf8') as f:\n",
    "        kws_json = json.load(f)\n",
    "    keywords = kws_json['keywords']\n",
    "    timestamps_2s = kws_json['timestamps']\n",
    "    max_time = timestamps_2s[-1]['end']\n",
    "    timestamps_10s = get_sliding_window()\n",
    "\n",
    "    sim_mat = kws_json['similarity_matrix']\n",
    "    sim_mat = np.array(sim_mat)\n",
    "\n",
    "    df = textgrid_to_df(tg_path)\n",
    "\n",
    "    for i, keyword in enumerate(tqdm(keywords)):\n",
    "        kw_probs = sim_mat[:,i]\n",
    "        ground_truth = timestamp_hits(df, keyword, timestamps)\n",
    "        if not ground_truth.sum():\n",
    "            # tqdm.write(\"keyword not found, skipping...\")\n",
    "            continue\n",
    "        # tqdm.write(keyword)\n",
    "        fpr, tpr, thresholds=roc_curve(ground_truth, kw_probs)\n",
    "\n",
    "        eer = brentq(lambda x : 1. - x - interp1d(fpr, tpr)(x), 0., 1.)\n",
    "        thresh = interp1d(fpr, thresholds)(eer).item()\n",
    "        # tqdm.write(f\"{eer=:.2f}\\t{thresh=:.2f}\")\n",
    "\n",
    "        kw_10sec_rows.append({'keyword': keyword, 'eer': eer, 'threshold': thresh})\n",
    "kw_10sec_df = pd.DataFrame(kw_10sec_rows)\n",
    "kw_10sec_df.head()"
   ]
  }
 ],
 "metadata": {
  "kernelspec": {
   "display_name": ".venv",
   "language": "python",
   "name": "python3"
  },
  "language_info": {
   "codemirror_mode": {
    "name": "ipython",
    "version": 3
   },
   "file_extension": ".py",
   "mimetype": "text/x-python",
   "name": "python",
   "nbconvert_exporter": "python",
   "pygments_lexer": "ipython3",
   "version": "3.12.10"
  }
 },
 "nbformat": 4,
 "nbformat_minor": 5
}
