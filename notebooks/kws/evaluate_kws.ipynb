{
 "cells": [
  {
   "cell_type": "code",
   "execution_count": 42,
   "id": "353de260",
   "metadata": {},
   "outputs": [],
   "source": [
    "from pympi import Praat\n",
    "import json\n",
    "import os\n",
    "from glob import glob\n",
    "import numpy as np\n",
    "import matplotlib.pyplot as plt\n",
    "import pandas as pd\n",
    "from sklearn.metrics import roc_curve\n",
    "from scipy.optimize import brentq\n",
    "from scipy.interpolate import interp1d\n",
    "from tqdm import tqdm"
   ]
  },
  {
   "cell_type": "markdown",
   "id": "d26ad316",
   "metadata": {},
   "source": [
    "# Load data\n",
    "Load forced-aligned TextGrids and KWS probabilities."
   ]
  },
  {
   "cell_type": "code",
   "execution_count": 28,
   "id": "43e90c1e",
   "metadata": {},
   "outputs": [],
   "source": [
    "textgrid_dir = r'C:\\projects\\malachor5\\data\\tira_eval_mfa_aligned'\n",
    "kws_out_dir = r'C:\\projects\\malachor5\\data\\tira_eval_kws'"
   ]
  },
  {
   "cell_type": "code",
   "execution_count": 29,
   "id": "492b1f46",
   "metadata": {},
   "outputs": [
    {
     "data": {
      "text/plain": [
       "['C:\\\\projects\\\\malachor5\\\\data\\\\tira_eval_mfa_aligned\\\\HH20210312.TextGrid',\n",
       " 'C:\\\\projects\\\\malachor5\\\\data\\\\tira_eval_mfa_aligned\\\\HH20210913.TextGrid',\n",
       " 'C:\\\\projects\\\\malachor5\\\\data\\\\tira_eval_mfa_aligned\\\\HH20220327-2.TextGrid']"
      ]
     },
     "execution_count": 29,
     "metadata": {},
     "output_type": "execute_result"
    }
   ],
   "source": [
    "tg_paths = glob(os.path.join(textgrid_dir, '*.TextGrid'))\n",
    "tg_paths"
   ]
  },
  {
   "cell_type": "code",
   "execution_count": 30,
   "id": "3d891f2d",
   "metadata": {},
   "outputs": [
    {
     "data": {
      "text/plain": [
       "['C:\\\\projects\\\\malachor5\\\\data\\\\tira_eval_kws\\\\HH20210312.json',\n",
       " 'C:\\\\projects\\\\malachor5\\\\data\\\\tira_eval_kws\\\\HH20210913.json',\n",
       " 'C:\\\\projects\\\\malachor5\\\\data\\\\tira_eval_kws\\\\HH20220327-2.json']"
      ]
     },
     "execution_count": 30,
     "metadata": {},
     "output_type": "execute_result"
    }
   ],
   "source": [
    "json_paths = glob(os.path.join(kws_out_dir, '*.json'))\n",
    "json_paths"
   ]
  },
  {
   "cell_type": "markdown",
   "id": "175463cc",
   "metadata": {},
   "source": [
    "# Keyword search / ground truth correlation\n",
    "How close do the KWS probabilities from CLAP-IPA correlate to the ground truth timestamps of the given word?\n",
    "\n",
    "Getting the KWS probabilities into vector form is easy: just index the column from the matrix."
   ]
  },
  {
   "cell_type": "code",
   "execution_count": 31,
   "id": "81bbdf75",
   "metadata": {},
   "outputs": [
    {
     "data": {
      "text/plain": [
       "((5329, 18), 18, 5329)"
      ]
     },
     "execution_count": 31,
     "metadata": {},
     "output_type": "execute_result"
    }
   ],
   "source": [
    "with open(json_paths[0], encoding='utf8') as f:\n",
    "    kws_json = json.load(f)\n",
    "keywords = kws_json['keywords']\n",
    "timestamps = kws_json['timestamps']\n",
    "sim_mat = kws_json['similarity_matrix']\n",
    "sim_mat = np.array(sim_mat)\n",
    "sim_mat.shape, len(keywords), len(timestamps)"
   ]
  },
  {
   "cell_type": "markdown",
   "id": "56900000",
   "metadata": {},
   "source": [
    "Ground truth vectors will require some more querying: get all intervals at a given timepoint and check if the interval value corresponds to the keyword or a word within the keyword.\n",
    "\n",
    "`pympi` doesn't allow direct querying of intervals, so first let's make a dataframe from the textgrid."
   ]
  },
  {
   "cell_type": "code",
   "execution_count": 32,
   "id": "936a0c4e",
   "metadata": {},
   "outputs": [
    {
     "data": {
      "text/html": [
       "<div>\n",
       "<style scoped>\n",
       "    .dataframe tbody tr th:only-of-type {\n",
       "        vertical-align: middle;\n",
       "    }\n",
       "\n",
       "    .dataframe tbody tr th {\n",
       "        vertical-align: top;\n",
       "    }\n",
       "\n",
       "    .dataframe thead th {\n",
       "        text-align: right;\n",
       "    }\n",
       "</style>\n",
       "<table border=\"1\" class=\"dataframe\">\n",
       "  <thead>\n",
       "    <tr style=\"text-align: right;\">\n",
       "      <th></th>\n",
       "      <th>start</th>\n",
       "      <th>end</th>\n",
       "      <th>text</th>\n",
       "      <th>speaker</th>\n",
       "    </tr>\n",
       "  </thead>\n",
       "  <tbody>\n",
       "    <tr>\n",
       "      <th>0</th>\n",
       "      <td>0.00</td>\n",
       "      <td>0.45</td>\n",
       "      <td></td>\n",
       "      <td>HIM</td>\n",
       "    </tr>\n",
       "    <tr>\n",
       "      <th>1</th>\n",
       "      <td>0.45</td>\n",
       "      <td>0.98</td>\n",
       "      <td>hello</td>\n",
       "      <td>HIM</td>\n",
       "    </tr>\n",
       "    <tr>\n",
       "      <th>2</th>\n",
       "      <td>0.98</td>\n",
       "      <td>1.33</td>\n",
       "      <td>hello</td>\n",
       "      <td>HIM</td>\n",
       "    </tr>\n",
       "    <tr>\n",
       "      <th>3</th>\n",
       "      <td>1.33</td>\n",
       "      <td>1.66</td>\n",
       "      <td>hello</td>\n",
       "      <td>HIM</td>\n",
       "    </tr>\n",
       "    <tr>\n",
       "      <th>4</th>\n",
       "      <td>1.66</td>\n",
       "      <td>1.69</td>\n",
       "      <td>oh</td>\n",
       "      <td>HIM</td>\n",
       "    </tr>\n",
       "  </tbody>\n",
       "</table>\n",
       "</div>"
      ],
      "text/plain": [
       "   start   end   text speaker\n",
       "0   0.00  0.45            HIM\n",
       "1   0.45  0.98  hello     HIM\n",
       "2   0.98  1.33  hello     HIM\n",
       "3   1.33  1.66  hello     HIM\n",
       "4   1.66  1.69     oh     HIM"
      ]
     },
     "execution_count": 32,
     "metadata": {},
     "output_type": "execute_result"
    }
   ],
   "source": [
    "def textgrid_to_df(textgrid_path):\n",
    "    tg = Praat.TextGrid(textgrid_path)\n",
    "    rows = []\n",
    "    for tier in tg.get_tiers():\n",
    "        if 'words' not in tier.name:\n",
    "            continue\n",
    "        speaker = tier.name.split()[0]\n",
    "        for start, end, val in tier.get_all_intervals():\n",
    "            rows.append({\n",
    "                'start': start,\n",
    "                'end': end,\n",
    "                'text': val,\n",
    "                'speaker': speaker\n",
    "            })\n",
    "    return pd.DataFrame(rows)\n",
    "df=textgrid_to_df(tg_paths[0])\n",
    "df.head()"
   ]
  },
  {
   "cell_type": "markdown",
   "id": "3779a043",
   "metadata": {},
   "source": [
    "Then write a function to find all timestamps from a list that are hits for a given keyword."
   ]
  },
  {
   "cell_type": "code",
   "execution_count": 33,
   "id": "feb2d0d2",
   "metadata": {},
   "outputs": [],
   "source": [
    "def is_keyword_hit(df, keyword, midpoint):\n",
    "    midpoint_mask = (df['start']<=midpoint) & (df['end']>=midpoint)\n",
    "    keyword_mask = df['text'].isin(keyword.split())\n",
    "    return 1 if (midpoint_mask & keyword_mask).sum() > 0 else 0\n",
    "\n",
    "def get_midpoints(timestamps):\n",
    "    return [(timestamp['end_s']+timestamp['start_s'])/2 for timestamp in timestamps]\n",
    "\n",
    "def timestamp_hits(df, keyword, timestamps):\n",
    "    midpoints = get_midpoints(timestamps)\n",
    "    return np.array([is_keyword_hit(df, keyword, t) for t in midpoints])\n",
    "\n",
    "hits = timestamp_hits(df, keywords[0], timestamps)"
   ]
  },
  {
   "cell_type": "code",
   "execution_count": 34,
   "id": "311e3e53",
   "metadata": {},
   "outputs": [
    {
     "data": {
      "image/png": "[encoded data removed]",
      "text/plain": [
       "<Figure size 640x480 with 1 Axes>"
      ]
     },
     "metadata": {},
     "output_type": "display_data"
    }
   ],
   "source": [
    "i = 0\n",
    "kw_probs = sim_mat[:,i]\n",
    "ground_truth = timestamp_hits(df, keywords[i], timestamps)\n",
    "midpoints = get_midpoints(timestamps)\n",
    "\n",
    "plt.scatter(midpoints, kw_probs, c='blue')\n",
    "plt.scatter(midpoints, ground_truth, c='red')\n",
    "plt.show()\n"
   ]
  },
  {
   "cell_type": "markdown",
   "id": "ae54af4a",
   "metadata": {},
   "source": [
    "# EER\n",
    "Plot the ROC curve and write a function to get the Equal Error Rate for keyword detection"
   ]
  },
  {
   "cell_type": "code",
   "execution_count": 35,
   "id": "e4c000e5",
   "metadata": {},
   "outputs": [
    {
     "data": {
      "image/png": "[encoded data removed]",
      "text/plain": [
       "<Figure size 640x480 with 1 Axes>"
      ]
     },
     "metadata": {},
     "output_type": "display_data"
    }
   ],
   "source": [
    "fpr, tpr, thresholds=roc_curve(ground_truth, kw_probs)\n",
    "plt.scatter(fpr, tpr)\n",
    "plt.ylabel('True positive rate')\n",
    "plt.xlabel('False positive rate')\n",
    "plt.show()"
   ]
  },
  {
   "cell_type": "code",
   "execution_count": 36,
   "id": "33b536f0",
   "metadata": {},
   "outputs": [
    {
     "data": {
      "text/plain": [
       "(0.13607115821459553, array(0.52232796))"
      ]
     },
     "execution_count": 36,
     "metadata": {},
     "output_type": "execute_result"
    }
   ],
   "source": [
    "# taken from https://yangcha.github.io/EER-ROC/ on 18 Apr 2025\n",
    "eer = brentq(lambda x : 1. - x - interp1d(fpr, tpr)(x), 0., 1.)\n",
    "thresh = interp1d(fpr, thresholds)(eer)\n",
    "eer, thresh"
   ]
  },
  {
   "cell_type": "markdown",
   "id": "8f8de69f",
   "metadata": {},
   "source": [
    "# Put it all together"
   ]
  },
  {
   "cell_type": "code",
   "execution_count": 48,
   "id": "13569b2a",
   "metadata": {},
   "outputs": [
    {
     "name": "stdout",
     "output_type": "stream",
     "text": [
      "C:\\projects\\malachor5\\data\\tira_eval_mfa_aligned\\HH20210312.TextGrid\n",
      "làŋə̀l və́lɛ̂ðɛ̀\n",
      "eer=0.14\tthresh=0.52\n",
      "a ló\n",
      "eer=0.58\tthresh=0.14\n",
      "laŋ\n",
      "eer=0.19\tthresh=0.30\n",
      "jɛ jə\n",
      "eer=0.18\tthresh=0.29\n",
      "lâlló və́lɛ̀ðɔ́\n",
      "eer=0.09\tthresh=0.57\n",
      "C:\\projects\\malachor5\\data\\tira_eval_mfa_aligned\\HH20210913.TextGrid\n",
      "ðə̂\n",
      "eer=0.49\tthresh=0.21\n",
      "ðə̀mbɾɔ́\n",
      "eer=0.25\tthresh=0.23\n",
      "ɔ́ɾɔ́\n",
      "eer=0.36\tthresh=0.20\n",
      "ɔɾɔ\n",
      "eer=0.29\tthresh=0.24\n",
      "cɔ́lɔ̀\n",
      "eer=0.16\tthresh=0.31\n",
      "ɛ̀ɾɛ̀ð\n",
      "eer=0.22\tthresh=0.29\n",
      "ðɛ̀\n",
      "eer=0.08\tthresh=0.43\n",
      "lɔ́ɾɔ́\n",
      "eer=0.20\tthresh=0.33\n",
      "ɛ̀bɛ̀\n",
      "eer=0.29\tthresh=0.28\n",
      "ŋ̀cɔ́lɔ̀\n",
      "eer=0.32\tthresh=0.22\n",
      "C:\\projects\\malachor5\\data\\tira_eval_mfa_aligned\\HH20220327-2.TextGrid\n",
      "kɛ̀\n",
      "eer=0.31\tthresh=0.22\n",
      "lɔ̀mɔ̀\n",
      "eer=0.23\tthresh=0.21\n",
      "nɛ̀ ɛ̀ðɛ̀\n",
      "eer=0.44\tthresh=0.21\n",
      "àn ɔ́ɟɔ̀\n",
      "eer=0.14\tthresh=0.27\n",
      "àn ɔ́ɟɔ́\n",
      "eer=0.20\tthresh=0.24\n",
      "giɲ\n",
      "eer=0.21\tthresh=0.17\n",
      "nɛ̀\n",
      "eer=0.37\tthresh=0.21\n",
      "ɛ̀ðɛ̀\n",
      "eer=0.38\tthresh=0.20\n",
      "àn ɔ́ɟɔ́ kà\n",
      "eer=0.14\tthresh=0.33\n",
      "nɛ̀ lɔ̀mɔ̀\n",
      "eer=0.36\tthresh=0.18\n",
      "lìjɔ́ àpɾí nɛ̀ lɔ̀mɔ̀\n",
      "eer=0.28\tthresh=0.27\n",
      "àn ɔ́ndì kìjɔ́ àpɾí nɛ̀ ɛ̀ðɛ̀\n",
      "eer=0.50\tthresh=0.24\n",
      "àpɾí ìjɔ́ ɔ́ndì nɛ̀ ɛ̀ðɛ̀\n",
      "eer=0.39\tthresh=0.24\n",
      "lìjɔ́ àpɾí ɛ̀ðɛ̀ nɛ̀\n",
      "eer=0.34\tthresh=0.26\n",
      "àpɾí ìjɔ́ lɔ́mɔ̀ nɛ̀ ɔ́ndì\n",
      "eer=0.34\tthresh=0.24\n",
      "ɔ́ɟɔ́\n",
      "eer=0.32\tthresh=0.23\n"
     ]
    }
   ],
   "source": [
    "for json_path, tg_path in zip(json_paths, tg_paths):\n",
    "    print(tg_path)\n",
    "    with open(json_path, encoding='utf8') as f:\n",
    "        kws_json = json.load(f)\n",
    "    keywords = kws_json['keywords']\n",
    "    timestamps = kws_json['timestamps']\n",
    "    sim_mat = kws_json['similarity_matrix']\n",
    "    sim_mat = np.array(sim_mat)\n",
    "\n",
    "    df = textgrid_to_df(tg_path)\n",
    "\n",
    "    for i, keyword in enumerate(keywords):\n",
    "        kw_probs = sim_mat[:,i]\n",
    "        ground_truth = timestamp_hits(df, keyword, timestamps)\n",
    "        if not ground_truth.sum():\n",
    "            # tqdm.write(\"keyword not found, skipping...\")\n",
    "            continue\n",
    "        tqdm.write(keyword)\n",
    "        fpr, tpr, thresholds=roc_curve(ground_truth, kw_probs)\n",
    "\n",
    "        eer = brentq(lambda x : 1. - x - interp1d(fpr, tpr)(x), 0., 1.)\n",
    "        thresh = interp1d(fpr, thresholds)(eer).item()\n",
    "        tqdm.write(f\"{eer=:.2f}\\t{thresh=:.2f}\")\n"
   ]
  }
 ],
 "metadata": {
  "kernelspec": {
   "display_name": ".venv",
   "language": "python",
   "name": "python3"
  },
  "language_info": {
   "codemirror_mode": {
    "name": "ipython",
    "version": 3
   },
   "file_extension": ".py",
   "mimetype": "text/x-python",
   "name": "python",
   "nbconvert_exporter": "python",
   "pygments_lexer": "ipython3",
   "version": "3.9.13"
  }
 },
 "nbformat": 4,
 "nbformat_minor": 5
}
