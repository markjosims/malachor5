{
 "cells": [
  {
   "cell_type": "code",
   "execution_count": 74,
   "id": "bdc7f812",
   "metadata": {},
   "outputs": [],
   "source": [
    "from glob import glob\n",
    "\n",
    "import os\n",
    "os.chdir(r'C:\\projects\\malachor5')\n",
    "import sys\n",
    "import json\n",
    "import torch\n",
    "from tqdm import tqdm\n",
    "sys.path.append('scripts')\n",
    "from hmm_utils import KeySimilarityMatrix, init_keyword_hmm\n",
    "from kws import textgrid_to_df, timestamp_hits\n",
    "from copy import deepcopy\n",
    "from jiwer import cer, wer\n",
    "kws_eval_files = glob(r\"C:\\projects\\malachor5\\data\\keyword_search\\tira_eval_kws\\*.json\")"
   ]
  },
  {
   "cell_type": "code",
   "execution_count": 2,
   "id": "88aab6f5",
   "metadata": {},
   "outputs": [
    {
     "name": "stderr",
     "output_type": "stream",
     "text": [
      "100%|██████████| 5/5 [00:03<00:00,  1.34it/s]\n",
      "100%|██████████| 5/5 [00:02<00:00,  1.79it/s]\n",
      "100%|██████████| 5/5 [00:06<00:00,  1.25s/it]\n",
      "100%|██████████| 3/3 [00:12<00:00,  4.26s/it]\n"
     ]
    }
   ],
   "source": [
    "file2matrices = {}\n",
    "stems = set(os.path.basename(filepath).split('-')[0] for filepath in kws_eval_files)\n",
    "\n",
    "get_window_len = lambda filepath: float(\n",
    "    os.path.basename(filepath)\n",
    "        .split('-')[1]\n",
    "        .removesuffix('.json')\n",
    "        .removesuffix('sec')\n",
    "        .replace('_', '.')\n",
    ")\n",
    "\n",
    "for stem in tqdm(stems):\n",
    "    stem_files = [filepath for filepath in kws_eval_files if stem in filepath]\n",
    "    window_lens = set(get_window_len(filepath) for filepath in stem_files)\n",
    "    file2matrices[stem]={}\n",
    "    for window_len in tqdm(window_lens):\n",
    "        file_with_len = [filepath for filepath in stem_files if get_window_len(filepath)==window_len][0]\n",
    "        with open(file_with_len, encoding='utf8') as f:\n",
    "            json_obj = json.load(f)\n",
    "        sim_mat = torch.tensor(json_obj['similarity_matrix'])\n",
    "        oov_probs = torch.tensor(json_obj['oov_probs'])\n",
    "        file2matrices[stem][window_len]={}\n",
    "        file2matrices[stem][window_len]['sim_mat']=sim_mat\n",
    "        file2matrices[stem][window_len]['oov_probs']=oov_probs\n",
    "        file2matrices[stem][window_len]['timestamps']=json_obj['timestamps']\n",
    "        if 'keywords' not in file2matrices[stem]:\n",
    "            file2matrices[stem]['keywords']=json_obj['keywords']"
   ]
  },
  {
   "cell_type": "code",
   "execution_count": 3,
   "id": "7cc75dab",
   "metadata": {},
   "outputs": [],
   "source": [
    "tgs = glob(r\"C:\\projects\\malachor5\\data\\keyword_search\\tira_eval_mfa_aligned\\*.TextGrid\")\n",
    "for stem in stems:\n",
    "    stem_tg = [tg for tg in tgs if stem in tg][0]\n",
    "    file2matrices[stem]['textgrid']=stem_tg"
   ]
  },
  {
   "cell_type": "code",
   "execution_count": 4,
   "id": "07948e70",
   "metadata": {},
   "outputs": [],
   "source": [
    "kw_files = glob(r\"C:\\projects\\malachor5\\data\\keyword_search\\keyword_lists\\*.txt\")\n",
    "for stem in stems:\n",
    "    stem_kwfile = [kwfile for kwfile in kw_files if stem in kwfile][0]\n",
    "    with open(stem_kwfile, encoding='utf8') as f:\n",
    "        keyphrases = [x.strip() for x in f.readlines()]\n",
    "    file2matrices[stem]['keyphrases']=keyphrases"
   ]
  },
  {
   "cell_type": "code",
   "execution_count": 7,
   "id": "35c30f45",
   "metadata": {},
   "outputs": [],
   "source": [
    "keyphrases=file2matrices['HH20210913']['keyphrases']\n",
    "keywords=file2matrices['HH20210913']['keywords']\n",
    "timestamps=file2matrices['HH20210913'][0.5]['timestamps']\n",
    "sim_mat=file2matrices['HH20210913'][0.5]['sim_mat']\n",
    "oov_probs=file2matrices['HH20210913'][0.5]['oov_probs']\n",
    "tg_path=file2matrices['HH20210913']['textgrid']\n",
    "tg_df=textgrid_to_df(tg_path)"
   ]
  },
  {
   "cell_type": "code",
   "execution_count": 8,
   "id": "97803330",
   "metadata": {},
   "outputs": [
    {
     "name": "stderr",
     "output_type": "stream",
     "text": [
      "100%|██████████| 23/23 [01:47<00:00,  4.67s/it]\n"
     ]
    }
   ],
   "source": [
    "ground_truth = torch.zeros_like(sim_mat)\n",
    "for i, keyword in tqdm(enumerate(keywords), total=len(keywords)):\n",
    "    ground_truth[:,i] = torch.tensor(timestamp_hits(tg_df, keyword, timestamps))"
   ]
  },
  {
   "cell_type": "code",
   "execution_count": 9,
   "id": "376fb6c3",
   "metadata": {},
   "outputs": [
    {
     "data": {
      "text/plain": [
       "tensor([13, 13, 13, 13, 13, 13, 21, 21, 21, 21, 21, 21, 13, 13, 12, 12, 12, 12,\n",
       "        13, 13, 21, 21, 21, 21, 21, 21, 21, 21, 21, 21, 21, 21, 21, 21, 12, 12,\n",
       "        12, 12, 15, 15, 15, 12, 12, 12, 12, 12, 12, 12, 12, 13, 13, 13, 13, 13,\n",
       "        13, 13, 13, 13, 13, 13, 13, 13, 13, 13, 13, 13, 13, 13, 13, 13, 13, 13,\n",
       "        13, 13, 13, 13, 13, 13, 13, 13, 13, 13, 13, 13, 13, 18, 18, 18, 18, 18,\n",
       "        18,  2,  2,  2,  2,  2,  2,  2,  2,  2,  2,  2,  2,  2,  2, 17, 17, 17,\n",
       "        17, 17, 17, 17, 17, 17, 17,  2,  2,  2,  2,  2,  2,  2,  2,  2,  2, 17,\n",
       "        17, 17, 17, 17, 17, 17, 17, 17, 17, 17,  7,  7, 17, 17, 17, 17, 17, 17,\n",
       "        17, 17, 17, 17, 17, 17, 17, 17, 17, 17,  7,  7, 17, 17,  7,  7, 17, 17,\n",
       "         7,  7, 17, 17,  7,  7, 17, 17,  7,  7, 17, 17,  7,  7, 17, 17,  7,  7,\n",
       "        17, 17,  7,  7, 19, 19, 19, 19, 19, 19,  7,  7, 19, 19,  7,  7, 19, 19,\n",
       "        19, 19, 19, 19, 19, 19, 19, 19, 19, 19, 19, 19, 19, 19, 19, 19,  7,  7,\n",
       "        19, 19,  7,  7, 19, 19,  7,  7,  7,  7, 22, 22, 19, 19, 19, 19, 19, 19,\n",
       "        19, 19, 19, 19, 19, 19,  3,  3, 19, 19,  3,  3, 19,  3,  3, 19,  7,  7,\n",
       "        19, 19, 19, 19, 19, 19, 19, 19, 19, 19, 19, 17, 17,  7,  7, 19, 19, 19,\n",
       "        19,  7,  7, 19, 19, 19, 19, 14, 14, 14, 14,  5,  5,  5,  5, 14, 14,  5,\n",
       "         5,  5,  5,  5,  5, 10, 10, 10, 10, 10, 10, 10, 10, 10, 10, 10, 10, 10,\n",
       "        10, 10, 10, 10, 10, 10, 10, 10, 10, 10, 10,  8,  8,  8,  8,  8,  8,  8,\n",
       "         8,  8,  8,  8,  8,  8,  8,  8,  8,  8,  8,  8, 11, 11,  1,  1,  1,  1,\n",
       "         1,  1,  8,  8,  4,  4,  4,  4,  8,  8,  8,  8,  4,  4,  4,  4,  4,  4,\n",
       "         4,  4,  4,  4,  4,  4,  4,  4,  4,  4,  4,  4,  4,  4,  4,  4,  4,  4,\n",
       "         4,  4, 16, 16, 16, 16, 16, 16, 16, 16,  9,  9,  9,  9,  4,  4,  9,  9,\n",
       "         4,  4,  4,  4,  9,  9,  4,  4,  4,  4,  4,  4,  4,  4,  4,  4,  4,  4,\n",
       "         4,  4,  4,  4,  4,  4,  4,  4,  4,  4, 11, 11, 11, 11, 11, 11, 11, 11,\n",
       "        11, 11, 11, 11, 11, 11, 11, 11, 11,  4,  4,  4,  4,  4,  4,  4,  4,  4,\n",
       "         4,  4,  4])"
      ]
     },
     "execution_count": 9,
     "metadata": {},
     "output_type": "execute_result"
    }
   ],
   "source": [
    "kw_idcs=ground_truth.argmax(dim=1)\n",
    "kw_idcs[kw_idcs>0]"
   ]
  },
  {
   "cell_type": "code",
   "execution_count": 10,
   "id": "19cf6a7b",
   "metadata": {},
   "outputs": [],
   "source": [
    "hmm_prefit, states = init_keyword_hmm(keyphrases, keywords)\n",
    "hmm_bw = deepcopy(hmm_prefit)"
   ]
  },
  {
   "cell_type": "code",
   "execution_count": 11,
   "id": "b25b413b",
   "metadata": {},
   "outputs": [],
   "source": [
    "emission_mat=torch.concat([sim_mat, oov_probs[:,None]], dim=1).unsqueeze(0)"
   ]
  },
  {
   "cell_type": "code",
   "execution_count": 16,
   "id": "a19abf08",
   "metadata": {},
   "outputs": [
    {
     "data": {
      "text/plain": [
       "[(KeySimilarityMatrix(), KeySimilarityMatrix(), 0.004347826086956522),\n",
       " (KeySimilarityMatrix(), KeySimilarityMatrix(), 0.004347826086956522),\n",
       " (KeySimilarityMatrix(), KeySimilarityMatrix(), 0.245),\n",
       " (KeySimilarityMatrix(), KeySimilarityMatrix(), 0.245),\n",
       " (KeySimilarityMatrix(), KeySimilarityMatrix(), 0.004347826086956522),\n",
       " (KeySimilarityMatrix(), KeySimilarityMatrix(), 0.004347826086956522),\n",
       " (KeySimilarityMatrix(), KeySimilarityMatrix(), 0.245),\n",
       " (KeySimilarityMatrix(), KeySimilarityMatrix(), 0.245),\n",
       " (KeySimilarityMatrix(), KeySimilarityMatrix(), 0.004347826086956522),\n",
       " (KeySimilarityMatrix(), KeySimilarityMatrix(), 0.004347826086956522),\n",
       " (KeySimilarityMatrix(), KeySimilarityMatrix(), 0.49),\n",
       " (KeySimilarityMatrix(), KeySimilarityMatrix(), 0.245),\n",
       " (KeySimilarityMatrix(), KeySimilarityMatrix(), 0.245),\n",
       " (KeySimilarityMatrix(), KeySimilarityMatrix(), 0.004347826086956522),\n",
       " (KeySimilarityMatrix(), KeySimilarityMatrix(), 0.004347826086956522),\n",
       " (KeySimilarityMatrix(), KeySimilarityMatrix(), 0.245),\n",
       " (KeySimilarityMatrix(), KeySimilarityMatrix(), 0.245),\n",
       " (KeySimilarityMatrix(), KeySimilarityMatrix(), 0.004347826086956522),\n",
       " (KeySimilarityMatrix(), KeySimilarityMatrix(), 0.004347826086956522),\n",
       " (KeySimilarityMatrix(), KeySimilarityMatrix(), 0.245),\n",
       " (KeySimilarityMatrix(), KeySimilarityMatrix(), 0.245),\n",
       " (KeySimilarityMatrix(), KeySimilarityMatrix(), 0.004347826086956522),\n",
       " (KeySimilarityMatrix(), KeySimilarityMatrix(), 0.004347826086956522),\n",
       " (KeySimilarityMatrix(), KeySimilarityMatrix(), 0.245),\n",
       " (KeySimilarityMatrix(), KeySimilarityMatrix(), 0.245),\n",
       " (KeySimilarityMatrix(), KeySimilarityMatrix(), 0.004347826086956522),\n",
       " (KeySimilarityMatrix(), KeySimilarityMatrix(), 0.004347826086956522),\n",
       " (KeySimilarityMatrix(), KeySimilarityMatrix(), 0.245),\n",
       " (KeySimilarityMatrix(), KeySimilarityMatrix(), 0.245),\n",
       " (KeySimilarityMatrix(), KeySimilarityMatrix(), 0.004347826086956522),\n",
       " (KeySimilarityMatrix(), KeySimilarityMatrix(), 0.004347826086956522),\n",
       " (KeySimilarityMatrix(), KeySimilarityMatrix(), 0.245),\n",
       " (KeySimilarityMatrix(), KeySimilarityMatrix(), 0.245),\n",
       " (KeySimilarityMatrix(), KeySimilarityMatrix(), 0.004347826086956522),\n",
       " (KeySimilarityMatrix(), KeySimilarityMatrix(), 0.004347826086956522),\n",
       " (KeySimilarityMatrix(), KeySimilarityMatrix(), 0.245),\n",
       " (KeySimilarityMatrix(), KeySimilarityMatrix(), 0.245),\n",
       " (KeySimilarityMatrix(), KeySimilarityMatrix(), 0.004347826086956522),\n",
       " (KeySimilarityMatrix(), KeySimilarityMatrix(), 0.004347826086956522),\n",
       " (KeySimilarityMatrix(), KeySimilarityMatrix(), 0.245),\n",
       " (KeySimilarityMatrix(), KeySimilarityMatrix(), 0.245),\n",
       " (KeySimilarityMatrix(), KeySimilarityMatrix(), 0.004347826086956522),\n",
       " (KeySimilarityMatrix(), KeySimilarityMatrix(), 0.004347826086956522),\n",
       " (KeySimilarityMatrix(), KeySimilarityMatrix(), 0.245),\n",
       " (KeySimilarityMatrix(), KeySimilarityMatrix(), 0.245),\n",
       " (KeySimilarityMatrix(), KeySimilarityMatrix(), 0.004347826086956522),\n",
       " (KeySimilarityMatrix(), KeySimilarityMatrix(), 0.004347826086956522),\n",
       " (KeySimilarityMatrix(), KeySimilarityMatrix(), 0.245),\n",
       " (KeySimilarityMatrix(), KeySimilarityMatrix(), 0.245),\n",
       " (KeySimilarityMatrix(), KeySimilarityMatrix(), 0.004347826086956522),\n",
       " (KeySimilarityMatrix(), KeySimilarityMatrix(), 0.004347826086956522),\n",
       " (KeySimilarityMatrix(), KeySimilarityMatrix(), 0.245),\n",
       " (KeySimilarityMatrix(), KeySimilarityMatrix(), 0.245),\n",
       " (KeySimilarityMatrix(), KeySimilarityMatrix(), 0.004347826086956522),\n",
       " (KeySimilarityMatrix(), KeySimilarityMatrix(), 0.004347826086956522),\n",
       " (KeySimilarityMatrix(), KeySimilarityMatrix(), 0.245),\n",
       " (KeySimilarityMatrix(), KeySimilarityMatrix(), 0.245),\n",
       " (KeySimilarityMatrix(), KeySimilarityMatrix(), 0.004347826086956522),\n",
       " (KeySimilarityMatrix(), KeySimilarityMatrix(), 0.004347826086956522),\n",
       " (KeySimilarityMatrix(), KeySimilarityMatrix(), 0.245),\n",
       " (KeySimilarityMatrix(), KeySimilarityMatrix(), 0.245),\n",
       " (KeySimilarityMatrix(), KeySimilarityMatrix(), 0.004347826086956522),\n",
       " (KeySimilarityMatrix(), KeySimilarityMatrix(), 0.004347826086956522),\n",
       " (KeySimilarityMatrix(), KeySimilarityMatrix(), 0.245),\n",
       " (KeySimilarityMatrix(), KeySimilarityMatrix(), 0.245),\n",
       " (KeySimilarityMatrix(), KeySimilarityMatrix(), 0.004347826086956522),\n",
       " (KeySimilarityMatrix(), KeySimilarityMatrix(), 0.004347826086956522),\n",
       " (KeySimilarityMatrix(), KeySimilarityMatrix(), 0.245),\n",
       " (KeySimilarityMatrix(), KeySimilarityMatrix(), 0.245),\n",
       " (KeySimilarityMatrix(), KeySimilarityMatrix(), 0.004347826086956522),\n",
       " (KeySimilarityMatrix(), KeySimilarityMatrix(), 0.004347826086956522),\n",
       " (KeySimilarityMatrix(), KeySimilarityMatrix(), 0.245),\n",
       " (KeySimilarityMatrix(), KeySimilarityMatrix(), 0.245),\n",
       " (KeySimilarityMatrix(), KeySimilarityMatrix(), 0.004347826086956522),\n",
       " (KeySimilarityMatrix(), KeySimilarityMatrix(), 0.004347826086956522),\n",
       " (KeySimilarityMatrix(), KeySimilarityMatrix(), 0.245),\n",
       " (KeySimilarityMatrix(), KeySimilarityMatrix(), 0.245),\n",
       " (KeySimilarityMatrix(), KeySimilarityMatrix(), 0.004347826086956522),\n",
       " (KeySimilarityMatrix(), KeySimilarityMatrix(), 0.004347826086956522),\n",
       " (KeySimilarityMatrix(), KeySimilarityMatrix(), 0.245),\n",
       " (KeySimilarityMatrix(), KeySimilarityMatrix(), 0.245),\n",
       " (KeySimilarityMatrix(), KeySimilarityMatrix(), 0.004347826086956522),\n",
       " (KeySimilarityMatrix(), KeySimilarityMatrix(), 0.004347826086956522),\n",
       " (KeySimilarityMatrix(), KeySimilarityMatrix(), 0.245),\n",
       " (KeySimilarityMatrix(), KeySimilarityMatrix(), 0.245),\n",
       " (KeySimilarityMatrix(), KeySimilarityMatrix(), 0.004347826086956522),\n",
       " (KeySimilarityMatrix(), KeySimilarityMatrix(), 0.004347826086956522),\n",
       " (KeySimilarityMatrix(), KeySimilarityMatrix(), 0.245),\n",
       " (KeySimilarityMatrix(), KeySimilarityMatrix(), 0.245),\n",
       " (KeySimilarityMatrix(), KeySimilarityMatrix(), 0.004347826086956522),\n",
       " (KeySimilarityMatrix(), KeySimilarityMatrix(), 0.004347826086956522),\n",
       " (KeySimilarityMatrix(), KeySimilarityMatrix(), 0.245),\n",
       " (KeySimilarityMatrix(), KeySimilarityMatrix(), 0.245),\n",
       " (KeySimilarityMatrix(), KeySimilarityMatrix(), 0.445),\n",
       " (KeySimilarityMatrix(), KeySimilarityMatrix(), 0.445),\n",
       " (KeySimilarityMatrix(), KeySimilarityMatrix(), 0.445),\n",
       " (KeySimilarityMatrix(), KeySimilarityMatrix(), 0.445),\n",
       " (KeySimilarityMatrix(), KeySimilarityMatrix(), 0.5),\n",
       " (KeySimilarityMatrix(), KeySimilarityMatrix(), 0.0004347826086956522),\n",
       " (KeySimilarityMatrix(), KeySimilarityMatrix(), 0.0004347826086956522),\n",
       " (KeySimilarityMatrix(), KeySimilarityMatrix(), 0.005),\n",
       " (KeySimilarityMatrix(), KeySimilarityMatrix(), 0.005),\n",
       " (KeySimilarityMatrix(), KeySimilarityMatrix(), 0.5),\n",
       " (KeySimilarityMatrix(), KeySimilarityMatrix(), 0.0004347826086956522),\n",
       " (KeySimilarityMatrix(), KeySimilarityMatrix(), 0.0004347826086956522),\n",
       " (KeySimilarityMatrix(), KeySimilarityMatrix(), 0.005),\n",
       " (KeySimilarityMatrix(), KeySimilarityMatrix(), 0.005),\n",
       " (KeySimilarityMatrix(), KeySimilarityMatrix(), 0.5),\n",
       " (KeySimilarityMatrix(), KeySimilarityMatrix(), 0.005),\n",
       " (KeySimilarityMatrix(), KeySimilarityMatrix(), 0.005),\n",
       " (KeySimilarityMatrix(), KeySimilarityMatrix(), 0.5),\n",
       " (KeySimilarityMatrix(), KeySimilarityMatrix(), 0.0004347826086956522),\n",
       " (KeySimilarityMatrix(), KeySimilarityMatrix(), 0.0004347826086956522),\n",
       " (KeySimilarityMatrix(), KeySimilarityMatrix(), 0.5),\n",
       " (KeySimilarityMatrix(), KeySimilarityMatrix(), 0.0004347826086956522),\n",
       " (KeySimilarityMatrix(), KeySimilarityMatrix(), 0.0004347826086956522),\n",
       " (KeySimilarityMatrix(), KeySimilarityMatrix(), 0.005),\n",
       " (KeySimilarityMatrix(), KeySimilarityMatrix(), 0.005),\n",
       " (KeySimilarityMatrix(), KeySimilarityMatrix(), 0.5),\n",
       " (KeySimilarityMatrix(), KeySimilarityMatrix(), 0.0004347826086956522),\n",
       " (KeySimilarityMatrix(), KeySimilarityMatrix(), 0.0004347826086956522),\n",
       " (KeySimilarityMatrix(), KeySimilarityMatrix(), 0.005),\n",
       " (KeySimilarityMatrix(), KeySimilarityMatrix(), 0.005),\n",
       " (KeySimilarityMatrix(), KeySimilarityMatrix(), 0.5),\n",
       " (KeySimilarityMatrix(), KeySimilarityMatrix(), 0.0004347826086956522),\n",
       " (KeySimilarityMatrix(), KeySimilarityMatrix(), 0.0004347826086956522),\n",
       " (KeySimilarityMatrix(), KeySimilarityMatrix(), 0.005),\n",
       " (KeySimilarityMatrix(), KeySimilarityMatrix(), 0.005),\n",
       " (KeySimilarityMatrix(), KeySimilarityMatrix(), 0.5),\n",
       " (KeySimilarityMatrix(), KeySimilarityMatrix(), 0.0004347826086956522),\n",
       " (KeySimilarityMatrix(), KeySimilarityMatrix(), 0.0004347826086956522),\n",
       " (KeySimilarityMatrix(), KeySimilarityMatrix(), 0.005),\n",
       " (KeySimilarityMatrix(), KeySimilarityMatrix(), 0.005),\n",
       " (KeySimilarityMatrix(), KeySimilarityMatrix(), 0.5),\n",
       " (KeySimilarityMatrix(), KeySimilarityMatrix(), 0.0004347826086956522),\n",
       " (KeySimilarityMatrix(), KeySimilarityMatrix(), 0.0004347826086956522),\n",
       " (KeySimilarityMatrix(), KeySimilarityMatrix(), 0.005),\n",
       " (KeySimilarityMatrix(), KeySimilarityMatrix(), 0.005),\n",
       " (KeySimilarityMatrix(), KeySimilarityMatrix(), 0.5),\n",
       " (KeySimilarityMatrix(), KeySimilarityMatrix(), 0.0004347826086956522),\n",
       " (KeySimilarityMatrix(), KeySimilarityMatrix(), 0.0004347826086956522),\n",
       " (KeySimilarityMatrix(), KeySimilarityMatrix(), 0.005),\n",
       " (KeySimilarityMatrix(), KeySimilarityMatrix(), 0.005),\n",
       " (KeySimilarityMatrix(), KeySimilarityMatrix(), 0.5),\n",
       " (KeySimilarityMatrix(), KeySimilarityMatrix(), 0.0004347826086956522),\n",
       " (KeySimilarityMatrix(), KeySimilarityMatrix(), 0.0004347826086956522),\n",
       " (KeySimilarityMatrix(), KeySimilarityMatrix(), 0.005),\n",
       " (KeySimilarityMatrix(), KeySimilarityMatrix(), 0.005),\n",
       " (KeySimilarityMatrix(), KeySimilarityMatrix(), 0.5),\n",
       " (KeySimilarityMatrix(), KeySimilarityMatrix(), 0.0004347826086956522),\n",
       " (KeySimilarityMatrix(), KeySimilarityMatrix(), 0.0004347826086956522),\n",
       " (KeySimilarityMatrix(), KeySimilarityMatrix(), 0.005),\n",
       " (KeySimilarityMatrix(), KeySimilarityMatrix(), 0.005),\n",
       " (KeySimilarityMatrix(), KeySimilarityMatrix(), 0.5),\n",
       " (KeySimilarityMatrix(), KeySimilarityMatrix(), 0.0004347826086956522),\n",
       " (KeySimilarityMatrix(), KeySimilarityMatrix(), 0.0004347826086956522),\n",
       " (KeySimilarityMatrix(), KeySimilarityMatrix(), 0.005),\n",
       " (KeySimilarityMatrix(), KeySimilarityMatrix(), 0.005),\n",
       " (KeySimilarityMatrix(), KeySimilarityMatrix(), 0.5),\n",
       " (KeySimilarityMatrix(), KeySimilarityMatrix(), 0.0004347826086956522),\n",
       " (KeySimilarityMatrix(), KeySimilarityMatrix(), 0.0004347826086956522),\n",
       " (KeySimilarityMatrix(), KeySimilarityMatrix(), 0.005),\n",
       " (KeySimilarityMatrix(), KeySimilarityMatrix(), 0.005),\n",
       " (KeySimilarityMatrix(), KeySimilarityMatrix(), 0.5),\n",
       " (KeySimilarityMatrix(), KeySimilarityMatrix(), 0.0004347826086956522),\n",
       " (KeySimilarityMatrix(), KeySimilarityMatrix(), 0.0004347826086956522),\n",
       " (KeySimilarityMatrix(), KeySimilarityMatrix(), 0.005),\n",
       " (KeySimilarityMatrix(), KeySimilarityMatrix(), 0.005),\n",
       " (KeySimilarityMatrix(), KeySimilarityMatrix(), 0.5),\n",
       " (KeySimilarityMatrix(), KeySimilarityMatrix(), 0.0004347826086956522),\n",
       " (KeySimilarityMatrix(), KeySimilarityMatrix(), 0.0004347826086956522),\n",
       " (KeySimilarityMatrix(), KeySimilarityMatrix(), 0.005),\n",
       " (KeySimilarityMatrix(), KeySimilarityMatrix(), 0.005),\n",
       " (KeySimilarityMatrix(), KeySimilarityMatrix(), 0.5),\n",
       " (KeySimilarityMatrix(), KeySimilarityMatrix(), 0.0004347826086956522),\n",
       " (KeySimilarityMatrix(), KeySimilarityMatrix(), 0.0004347826086956522),\n",
       " (KeySimilarityMatrix(), KeySimilarityMatrix(), 0.005),\n",
       " (KeySimilarityMatrix(), KeySimilarityMatrix(), 0.005),\n",
       " (KeySimilarityMatrix(), KeySimilarityMatrix(), 0.5),\n",
       " (KeySimilarityMatrix(), KeySimilarityMatrix(), 0.0004347826086956522),\n",
       " (KeySimilarityMatrix(), KeySimilarityMatrix(), 0.0004347826086956522),\n",
       " (KeySimilarityMatrix(), KeySimilarityMatrix(), 0.005),\n",
       " (KeySimilarityMatrix(), KeySimilarityMatrix(), 0.005),\n",
       " (KeySimilarityMatrix(), KeySimilarityMatrix(), 0.5),\n",
       " (KeySimilarityMatrix(), KeySimilarityMatrix(), 0.0004347826086956522),\n",
       " (KeySimilarityMatrix(), KeySimilarityMatrix(), 0.0004347826086956522),\n",
       " (KeySimilarityMatrix(), KeySimilarityMatrix(), 0.005),\n",
       " (KeySimilarityMatrix(), KeySimilarityMatrix(), 0.005),\n",
       " (KeySimilarityMatrix(), KeySimilarityMatrix(), 0.5),\n",
       " (KeySimilarityMatrix(), KeySimilarityMatrix(), 0.0004347826086956522),\n",
       " (KeySimilarityMatrix(), KeySimilarityMatrix(), 0.0004347826086956522),\n",
       " (KeySimilarityMatrix(), KeySimilarityMatrix(), 0.005),\n",
       " (KeySimilarityMatrix(), KeySimilarityMatrix(), 0.005),\n",
       " (KeySimilarityMatrix(), KeySimilarityMatrix(), 0.5),\n",
       " (KeySimilarityMatrix(), KeySimilarityMatrix(), 0.0004347826086956522),\n",
       " (KeySimilarityMatrix(), KeySimilarityMatrix(), 0.0004347826086956522),\n",
       " (KeySimilarityMatrix(), KeySimilarityMatrix(), 0.005),\n",
       " (KeySimilarityMatrix(), KeySimilarityMatrix(), 0.005),\n",
       " (KeySimilarityMatrix(), KeySimilarityMatrix(), 0.5),\n",
       " (KeySimilarityMatrix(), KeySimilarityMatrix(), 0.0004347826086956522),\n",
       " (KeySimilarityMatrix(), KeySimilarityMatrix(), 0.0004347826086956522),\n",
       " (KeySimilarityMatrix(), KeySimilarityMatrix(), 0.005),\n",
       " (KeySimilarityMatrix(), KeySimilarityMatrix(), 0.005),\n",
       " (KeySimilarityMatrix(), KeySimilarityMatrix(), 0.5),\n",
       " (KeySimilarityMatrix(), KeySimilarityMatrix(), 0.0004347826086956522),\n",
       " (KeySimilarityMatrix(), KeySimilarityMatrix(), 0.0004347826086956522),\n",
       " (KeySimilarityMatrix(), KeySimilarityMatrix(), 0.005),\n",
       " (KeySimilarityMatrix(), KeySimilarityMatrix(), 0.005),\n",
       " (KeySimilarityMatrix(), KeySimilarityMatrix(), 0.5),\n",
       " (KeySimilarityMatrix(), KeySimilarityMatrix(), 0.0004347826086956522),\n",
       " (KeySimilarityMatrix(), KeySimilarityMatrix(), 0.0004347826086956522),\n",
       " (KeySimilarityMatrix(), KeySimilarityMatrix(), 0.005),\n",
       " (KeySimilarityMatrix(), KeySimilarityMatrix(), 0.005),\n",
       " (KeySimilarityMatrix(), Silent(), 0.038461538461538464),\n",
       " (Silent(), KeySimilarityMatrix(), 0.038461538461538464),\n",
       " (KeySimilarityMatrix(), Silent(), 0.038461538461538464),\n",
       " (Silent(), KeySimilarityMatrix(), 0.038461538461538464),\n",
       " (KeySimilarityMatrix(), Silent(), 0.038461538461538464),\n",
       " (Silent(), KeySimilarityMatrix(), 0.038461538461538464),\n",
       " (KeySimilarityMatrix(), Silent(), 0.038461538461538464),\n",
       " (Silent(), KeySimilarityMatrix(), 0.038461538461538464),\n",
       " (KeySimilarityMatrix(), Silent(), 0.038461538461538464),\n",
       " (Silent(), KeySimilarityMatrix(), 0.038461538461538464),\n",
       " (KeySimilarityMatrix(), Silent(), 0.038461538461538464),\n",
       " (Silent(), KeySimilarityMatrix(), 0.038461538461538464),\n",
       " (KeySimilarityMatrix(), Silent(), 0.038461538461538464),\n",
       " (Silent(), KeySimilarityMatrix(), 0.038461538461538464),\n",
       " (KeySimilarityMatrix(), Silent(), 0.038461538461538464),\n",
       " (Silent(), KeySimilarityMatrix(), 0.038461538461538464),\n",
       " (KeySimilarityMatrix(), Silent(), 0.038461538461538464),\n",
       " (Silent(), KeySimilarityMatrix(), 0.038461538461538464),\n",
       " (KeySimilarityMatrix(), Silent(), 0.038461538461538464),\n",
       " (Silent(), KeySimilarityMatrix(), 0.038461538461538464),\n",
       " (KeySimilarityMatrix(), Silent(), 0.038461538461538464),\n",
       " (Silent(), KeySimilarityMatrix(), 0.038461538461538464),\n",
       " (KeySimilarityMatrix(), Silent(), 0.038461538461538464),\n",
       " (Silent(), KeySimilarityMatrix(), 0.038461538461538464),\n",
       " (KeySimilarityMatrix(), Silent(), 0.038461538461538464),\n",
       " (Silent(), KeySimilarityMatrix(), 0.038461538461538464),\n",
       " (KeySimilarityMatrix(), Silent(), 0.038461538461538464),\n",
       " (Silent(), KeySimilarityMatrix(), 0.038461538461538464),\n",
       " (KeySimilarityMatrix(), Silent(), 0.038461538461538464),\n",
       " (Silent(), KeySimilarityMatrix(), 0.038461538461538464),\n",
       " (KeySimilarityMatrix(), Silent(), 0.038461538461538464),\n",
       " (Silent(), KeySimilarityMatrix(), 0.038461538461538464),\n",
       " (KeySimilarityMatrix(), Silent(), 0.038461538461538464),\n",
       " (Silent(), KeySimilarityMatrix(), 0.038461538461538464),\n",
       " (KeySimilarityMatrix(), Silent(), 0.038461538461538464),\n",
       " (Silent(), KeySimilarityMatrix(), 0.038461538461538464),\n",
       " (KeySimilarityMatrix(), Silent(), 0.038461538461538464),\n",
       " (Silent(), KeySimilarityMatrix(), 0.038461538461538464),\n",
       " (KeySimilarityMatrix(), Silent(), 0.038461538461538464),\n",
       " (Silent(), KeySimilarityMatrix(), 0.038461538461538464),\n",
       " (KeySimilarityMatrix(), Silent(), 0.038461538461538464),\n",
       " (Silent(), KeySimilarityMatrix(), 0.038461538461538464),\n",
       " (KeySimilarityMatrix(), Silent(), 0.038461538461538464),\n",
       " (Silent(), KeySimilarityMatrix(), 0.038461538461538464),\n",
       " (KeySimilarityMatrix(), Silent(), 0.038461538461538464),\n",
       " (Silent(), KeySimilarityMatrix(), 0.038461538461538464),\n",
       " (KeySimilarityMatrix(), Silent(), 0.038461538461538464),\n",
       " (Silent(), KeySimilarityMatrix(), 0.038461538461538464),\n",
       " (KeySimilarityMatrix(), Silent(), 0.038461538461538464),\n",
       " (Silent(), KeySimilarityMatrix(), 0.038461538461538464),\n",
       " (KeySimilarityMatrix(), Silent(), 0.038461538461538464),\n",
       " (Silent(), KeySimilarityMatrix(), 0.038461538461538464)]"
      ]
     },
     "execution_count": 16,
     "metadata": {},
     "output_type": "execute_result"
    }
   ],
   "source": [
    "hmm_prefit.edges"
   ]
  },
  {
   "cell_type": "code",
   "execution_count": 58,
   "id": "b8369001",
   "metadata": {},
   "outputs": [
    {
     "data": {
      "text/plain": [
       "tensor([[[    nan,     nan,     nan,  ...,     nan,     nan,     nan],\n",
       "         [    nan,     nan,     nan,  ...,     nan,     nan,     nan],\n",
       "         [    nan,     nan,     nan,  ...,     nan,     nan,     nan],\n",
       "         ...,\n",
       "         [    nan,     nan,     nan,  ...,     nan,     nan,     nan],\n",
       "         [-3.7621, -3.8908, -3.9489,  ..., -3.7290, -3.4059, -3.4059],\n",
       "         [-3.2581, -3.2581, -3.2581,  ..., -3.2581, -3.2581, -3.2581]]])"
      ]
     },
     "execution_count": 58,
     "metadata": {},
     "output_type": "execute_result"
    }
   ],
   "source": [
    "bw=hmm_prefit.backward(emission_mat)\n",
    "bw"
   ]
  },
  {
   "cell_type": "code",
   "execution_count": 30,
   "id": "796455ae",
   "metadata": {},
   "outputs": [
    {
     "data": {
      "text/plain": [
       "tensor([[[-4.5236, -5.3604, -5.4243,  ..., -4.3505, -3.3035, -3.3035],\n",
       "         [-6.4340, -7.9089, -8.0804,  ..., -5.5795, -2.5784, -2.5784],\n",
       "         [-7.7539, -9.0649, -9.3165,  ..., -6.9986, -2.6426, -2.6426],\n",
       "         ...,\n",
       "         [    nan,     nan,     nan,  ...,     nan,     nan,     nan],\n",
       "         [    nan,     nan,     nan,  ...,     nan,     nan,     nan],\n",
       "         [    nan,     nan,     nan,  ...,     nan,     nan,     nan]]])"
      ]
     },
     "execution_count": 30,
     "metadata": {},
     "output_type": "execute_result"
    }
   ],
   "source": [
    "fw=hmm_bw.forward(emission_mat)\n",
    "fw"
   ]
  },
  {
   "cell_type": "code",
   "execution_count": 56,
   "id": "dcf8daf2",
   "metadata": {},
   "outputs": [
    {
     "data": {
      "text/plain": [
       "tensor([[ 0,  0,  0,  0, 12, 26, 26, 26, 26, 26, 26, 26, 26, 26, 26, 26, 26, 26,\n",
       "         26, 26]])"
      ]
     },
     "execution_count": 56,
     "metadata": {},
     "output_type": "execute_result"
    }
   ],
   "source": [
    "fw_nan=fw.isnan().sum(dim=-1)\n",
    "fw_nan[:,:20]"
   ]
  },
  {
   "cell_type": "code",
   "execution_count": null,
   "id": "b594b1ac",
   "metadata": {},
   "outputs": [
    {
     "data": {
      "text/plain": [
       "torch.Size([1, 15175])"
      ]
     },
     "execution_count": 60,
     "metadata": {},
     "output_type": "execute_result"
    }
   ],
   "source": [
    "viterbi=hmm_prefit.viterbi(emission_mat)\n",
    "viterbi.shape"
   ]
  },
  {
   "cell_type": "code",
   "execution_count": 75,
   "id": "71bffcd6",
   "metadata": {},
   "outputs": [
    {
     "data": {
      "text/plain": [
       "33.496688741721854"
      ]
     },
     "execution_count": 75,
     "metadata": {},
     "output_type": "execute_result"
    }
   ],
   "source": [
    "kw_str = ' '.join(str(x) for x in kw_idcs.tolist() if x!=0)\n",
    "viterbi_str = ' '.join(str(x) for x in viterbi.squeeze().tolist() if x!=0)\n",
    "wer(kw_str, viterbi_str)"
   ]
  }
 ],
 "metadata": {
  "kernelspec": {
   "display_name": ".venv",
   "language": "python",
   "name": "python3"
  },
  "language_info": {
   "codemirror_mode": {
    "name": "ipython",
    "version": 3
   },
   "file_extension": ".py",
   "mimetype": "text/x-python",
   "name": "python",
   "nbconvert_exporter": "python",
   "pygments_lexer": "ipython3",
   "version": "3.12.10"
  }
 },
 "nbformat": 4,
 "nbformat_minor": 5
}
