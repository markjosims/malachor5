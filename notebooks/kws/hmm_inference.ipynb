{
 "cells": [
  {
   "cell_type": "markdown",
   "id": "a0e456bc",
   "metadata": {},
   "source": [
    "# hmm_inference\n",
    "Evaluate HMM-boosted KWS inference using keyword similarity matrices."
   ]
  },
  {
   "cell_type": "code",
   "execution_count": 2,
   "id": "bdc7f812",
   "metadata": {},
   "outputs": [
    {
     "name": "stderr",
     "output_type": "stream",
     "text": [
      "c:\\projects\\malachor5\\.venv\\Lib\\site-packages\\tqdm\\auto.py:21: TqdmWarning: IProgress not found. Please update jupyter and ipywidgets. See https://ipywidgets.readthedocs.io/en/stable/user_install.html\n",
      "  from .autonotebook import tqdm as notebook_tqdm\n",
      "C:\\Users\\marks\\AppData\\Roaming\\uv\\python\\cpython-3.12.10-windows-x86_64-none\\Lib\\inspect.py:1007: UserWarning: Module 'speechbrain.pretrained' was deprecated, redirecting to 'speechbrain.inference'. Please update your script. This is a change from SpeechBrain 1.0. See: https://github.com/speechbrain/speechbrain/releases/tag/v1.0.0\n",
      "  if ismodule(module) and hasattr(module, '__file__'):\n"
     ]
    }
   ],
   "source": [
    "from glob import glob\n",
    "\n",
    "import os\n",
    "os.chdir(r'C:\\projects\\malachor5')\n",
    "import sys\n",
    "import json\n",
    "import torch\n",
    "import numpy as np\n",
    "from tqdm import tqdm\n",
    "sys.path.append('scripts')\n",
    "from hmm_utils import KeySimilarityMatrix, init_keyword_hmm\n",
    "from kws import textgrid_to_df, timestamp_hits\n",
    "from copy import deepcopy\n",
    "from jiwer import cer, wer\n",
    "import pandas as pd\n",
    "from tqdm import tqdm\n",
    "import seaborn as sns\n",
    "kws_eval_files = glob(r\"C:\\projects\\malachor5\\data\\keyword_search\\tira_eval_kws\\*.json\")"
   ]
  },
  {
   "cell_type": "markdown",
   "id": "a76f5886",
   "metadata": {},
   "source": [
    "Reload any changes made to local scripts"
   ]
  },
  {
   "cell_type": "code",
   "execution_count": 3,
   "id": "9af4e620",
   "metadata": {},
   "outputs": [],
   "source": [
    "from importlib import reload\n",
    "import kws\n",
    "import hmm_utils\n",
    "reload(kws)\n",
    "reload(hmm_utils)\n",
    "from hmm_utils import KeySimilarityMatrix, init_keyword_hmm\n",
    "from kws import textgrid_to_df, timestamp_hits"
   ]
  },
  {
   "cell_type": "code",
   "execution_count": 4,
   "id": "88aab6f5",
   "metadata": {},
   "outputs": [
    {
     "name": "stderr",
     "output_type": "stream",
     "text": [
      "100%|██████████| 5/5 [00:05<00:00,  1.10s/it]\n",
      "100%|██████████| 5/5 [00:02<00:00,  2.13it/s]\n",
      "100%|██████████| 5/5 [00:03<00:00,  1.49it/s]\n",
      "100%|██████████| 3/3 [00:11<00:00,  3.75s/it]\n"
     ]
    }
   ],
   "source": [
    "file2matrices = {}\n",
    "stems = set(os.path.basename(filepath).split('-')[0] for filepath in kws_eval_files)\n",
    "\n",
    "get_window_len = lambda filepath: float(\n",
    "    os.path.basename(filepath)\n",
    "        .split('-')[1]\n",
    "        .removesuffix('.json')\n",
    "        .removesuffix('sec')\n",
    "        .replace('_', '.')\n",
    ")\n",
    "\n",
    "for stem in tqdm(stems):\n",
    "    stem_files = [filepath for filepath in kws_eval_files if stem in filepath]\n",
    "    window_lens = set(get_window_len(filepath) for filepath in stem_files)\n",
    "    file2matrices[stem]={}\n",
    "    for window_len in tqdm(window_lens):\n",
    "        file_with_len = [filepath for filepath in stem_files if get_window_len(filepath)==window_len][0]\n",
    "        with open(file_with_len, encoding='utf8') as f:\n",
    "            json_obj = json.load(f)\n",
    "        sim_mat = torch.tensor(json_obj['similarity_matrix'])\n",
    "        oov_probs = torch.tensor(json_obj['oov_probs'])\n",
    "        file2matrices[stem][window_len]={}\n",
    "        file2matrices[stem][window_len]['sim_mat']=sim_mat\n",
    "        file2matrices[stem][window_len]['oov_probs']=oov_probs\n",
    "        file2matrices[stem][window_len]['timestamps']=json_obj['timestamps']\n",
    "        if 'keywords' not in file2matrices[stem]:\n",
    "            file2matrices[stem]['keywords']=json_obj['keywords']"
   ]
  },
  {
   "cell_type": "code",
   "execution_count": 5,
   "id": "7cc75dab",
   "metadata": {},
   "outputs": [],
   "source": [
    "tgs = glob(r\"C:\\projects\\malachor5\\data\\keyword_search\\tira_eval_mfa_aligned\\*.TextGrid\")\n",
    "for stem in stems:\n",
    "    stem_tg = [tg for tg in tgs if stem in tg][0]\n",
    "    file2matrices[stem]['textgrid']=stem_tg"
   ]
  },
  {
   "cell_type": "code",
   "execution_count": 6,
   "id": "07948e70",
   "metadata": {},
   "outputs": [],
   "source": [
    "kw_files = glob(r\"C:\\projects\\malachor5\\data\\keyword_search\\keyword_lists\\*.txt\")\n",
    "for stem in stems:\n",
    "    stem_kwfile = [kwfile for kwfile in kw_files if stem in kwfile][0]\n",
    "    with open(stem_kwfile, encoding='utf8') as f:\n",
    "        keyphrases = [x.strip() for x in f.readlines()]\n",
    "    file2matrices[stem]['keyphrases']=keyphrases"
   ]
  },
  {
   "cell_type": "code",
   "execution_count": 7,
   "id": "35c30f45",
   "metadata": {},
   "outputs": [],
   "source": [
    "stem = 'HH20220327n2'\n",
    "keyphrases=file2matrices[stem]['keyphrases']\n",
    "keywords=file2matrices[stem]['keywords']\n",
    "timestamps=file2matrices[stem][0.5]['timestamps']\n",
    "sim_mat=file2matrices[stem][0.5]['sim_mat']\n",
    "oov_probs=file2matrices[stem][0.5]['oov_probs']\n",
    "tg_path=file2matrices[stem]['textgrid']\n",
    "tg_df=textgrid_to_df(tg_path)"
   ]
  },
  {
   "cell_type": "code",
   "execution_count": 8,
   "id": "97803330",
   "metadata": {},
   "outputs": [
    {
     "name": "stderr",
     "output_type": "stream",
     "text": [
      "  0%|          | 0/54 [00:00<?, ?it/s]"
     ]
    },
    {
     "name": "stderr",
     "output_type": "stream",
     "text": [
      "100%|██████████| 54/54 [03:13<00:00,  3.58s/it]\n"
     ]
    }
   ],
   "source": [
    "ground_truth = torch.zeros_like(sim_mat)\n",
    "for i, keyword in tqdm(enumerate(keywords), total=len(keywords)):\n",
    "    ground_truth[:,i] = torch.tensor(timestamp_hits(tg_df, keyword, timestamps))"
   ]
  },
  {
   "cell_type": "code",
   "execution_count": 9,
   "id": "376fb6c3",
   "metadata": {},
   "outputs": [
    {
     "data": {
      "text/plain": [
       "tensor([27, 27, 27,  ..., 29, 29, 29])"
      ]
     },
     "execution_count": 9,
     "metadata": {},
     "output_type": "execute_result"
    }
   ],
   "source": [
    "kw_idcs=ground_truth.argmax(dim=1)\n",
    "kw_idcs[kw_idcs>0]"
   ]
  },
  {
   "cell_type": "code",
   "execution_count": 12,
   "id": "b25b413b",
   "metadata": {},
   "outputs": [
    {
     "data": {
      "text/plain": [
       "tensor([[[0.0194, 0.0183, 0.0158,  ..., 0.0182, 0.0190, 0.0381],\n",
       "         [0.0194, 0.0186, 0.0158,  ..., 0.0181, 0.0190, 0.0382],\n",
       "         [0.0194, 0.0187, 0.0158,  ..., 0.0184, 0.0190, 0.0377],\n",
       "         ...,\n",
       "         [0.0193, 0.0191, 0.0158,  ..., 0.0180, 0.0193, 0.0383],\n",
       "         [0.0194, 0.0196, 0.0155,  ..., 0.0179, 0.0190, 0.0379],\n",
       "         [0.0196, 0.0189, 0.0156,  ..., 0.0179, 0.0186, 0.0389]]])"
      ]
     },
     "execution_count": 12,
     "metadata": {},
     "output_type": "execute_result"
    }
   ],
   "source": [
    "emission_mat=torch.concat([sim_mat, oov_probs[:,None]], dim=1).unsqueeze(0)\n",
    "smx_col_mat=emission_mat.softmax(dim=2)\n",
    "smx_row_mat=emission_mat.softmax(dim=1)\n",
    "sig_mat=emission_mat.sigmoid()\n",
    "smx_col_mat"
   ]
  },
  {
   "cell_type": "code",
   "execution_count": 29,
   "id": "73aa5cf1",
   "metadata": {},
   "outputs": [
    {
     "name": "stdout",
     "output_type": "stream",
     "text": [
      "              precision    recall  f1-score   support\n",
      "\n",
      "     lòɽgà       0.86      0.97      0.91      9569\n",
      "      lùbó       0.83      0.33      0.48        15\n",
      "   jìgèɲɔ́       0.43      0.41      0.42        22\n",
      "      ɔ́ndì       0.71      0.43      0.53       110\n",
      "   cícə̀lò       0.88      0.28      0.42        25\n",
      "      kàŋú       0.55      0.39      0.45        70\n",
      "      lɔ́mɔ̀       0.85      0.48      0.61        69\n",
      "      kúkù       0.75      0.52      0.61       387\n",
      "      cùbɔ̀       0.67      0.17      0.27        24\n",
      "     ŋgìɲɔ́       0.39      0.31      0.34        49\n",
      "     ŋòɽgà       0.75      0.15      0.25        20\n",
      "      cə̀mú       1.00      0.14      0.25        14\n",
      "       ɛ̀ðɛ̀       0.60      0.34      0.43        86\n",
      "         nɛ̀       0.69      0.26      0.38       111\n",
      "      lídɔ́       0.81      0.80      0.80       100\n",
      "   kɛ̀gìɲɔ́       0.35      0.28      0.31        58\n",
      "     ŋgèɲɔ́       0.66      0.38      0.48        60\n",
      "         kà       0.67      0.09      0.16        43\n",
      "      lɔ̀bó       1.00      1.00      1.00         2\n",
      "       ɛ́là       0.90      0.52      0.66        83\n",
      "      kágɛ̀       0.73      0.37      0.49        89\n",
      "      lídí       0.64      0.39      0.48        54\n",
      "   làvàrà       1.00      0.33      0.50        12\n",
      "      lìjɔ́       0.67      0.34      0.45        58\n",
      "      àpɾì       0.75      0.62      0.68       169\n",
      "      ŋɔ̀bò       0.72      0.28      0.41        46\n",
      "   ðə́píðɔ́       0.60      0.29      0.39        21\n",
      "     lɔ̀ɽgà       0.58      0.25      0.35        28\n",
      "         àn       0.57      0.48      0.52       329\n",
      " dɔ́ɽðàt̪à       0.82      0.42      0.55        67\n",
      "         kɛ̀       0.75      0.22      0.34        27\n",
      "  kɛ̀ŋgìɲɔ́       0.33      0.05      0.08        21\n",
      "    t̪át̪ɛ̀       0.92      0.35      0.51        31\n",
      "       lɜ́ú       0.65      0.30      0.41        86\n",
      "       ɔ́ɟɔ̀       0.79      0.51      0.62       104\n",
      "      ŋə̀bò       0.38      0.06      0.11        48\n",
      "     ŋgɛ́là       0.56      0.56      0.56         9\n",
      "   kɛ̀gèɲɔ́       0.57      0.36      0.44        11\n",
      "      lə̀bó       0.58      0.74      0.65        34\n",
      "       ìjɔ́       0.77      0.17      0.27       139\n",
      "        ŋgì       1.00      0.33      0.50         3\n",
      "         giɲ       0.50      0.05      0.10        19\n",
      "         lá       0.62      0.23      0.33        80\n",
      "  t̪ɛ̀gìɲɔ́       0.83      0.20      0.32        25\n",
      "      kìjɔ́       0.58      0.17      0.26        42\n",
      "      cùbó       0.67      0.43      0.52        37\n",
      "\n",
      "    accuracy                           0.84     12506\n",
      "   macro avg       0.69      0.36      0.45     12506\n",
      "weighted avg       0.82      0.84      0.81     12506\n",
      "\n"
     ]
    }
   ],
   "source": [
    "from sklearn.discriminant_analysis import LinearDiscriminantAnalysis\n",
    "from sklearn.metrics import classification_report\n",
    "\n",
    "lda = LinearDiscriminantAnalysis()\n",
    "X = emission_mat.squeeze()\n",
    "lda.fit(X, kw_idcs)\n",
    "yhat = lda.predict(X)\n",
    "class_labels = [keywords[i] for i in lda.classes_]\n",
    "print(classification_report(yhat, kw_idcs, target_names=class_labels))\n",
    "# len(keywords)"
   ]
  },
  {
   "cell_type": "code",
   "execution_count": 132,
   "id": "497dac17",
   "metadata": {},
   "outputs": [],
   "source": [
    "hmm_prefit, states = init_keyword_hmm(\n",
    "    keyphrases,\n",
    "    keywords,\n",
    "    enter_prob = 0.01,      # default 0.1\n",
    "    self_trans_prob = 0.5,  # default 0.5\n",
    "    early_exit_prob = 0.01, # default 0.01\n",
    "    late_enter_prob = 0.01, # default 0.01\n",
    ")\n",
    "hmm_bw = deepcopy(hmm_prefit)"
   ]
  },
  {
   "cell_type": "code",
   "execution_count": 133,
   "id": "ebc875b6",
   "metadata": {},
   "outputs": [],
   "source": [
    "def dedup_list(l):\n",
    "    l_out = []\n",
    "    prev_x = None\n",
    "    for x in l:\n",
    "        if x==prev_x:\n",
    "            continue\n",
    "        l_out.append(x)\n",
    "        prev_x = x\n",
    "    return l_out"
   ]
  },
  {
   "cell_type": "markdown",
   "id": "a0003a84",
   "metadata": {},
   "source": [
    "# Grid search\n",
    "HH20210913\n",
    "First grid search:\n",
    "- enter_prob on logscale from 0.01 to 0.2, 5 vals\n",
    "- self_trans_prob on logscale from 0.1 to 0.9, 5 vals\n",
    "- best value WER=0.96 at self-trans=0.519, enter_prob doesn't seem to have an effect\n",
    "\n",
    "Second grid search:\n",
    "- enter_prob on logscale from 0.4 to 0.6, 5 vals\n",
    "- early exit and late enter prob on [0.001, 0.01, 0.1]\n",
    "- best value WER=0.94 at self_trans=0.4, early exit/later enter don't seem to have an effect\n",
    "HH20210312\n",
    "- best value WER=0.896 at self_trans=0.4\n",
    "HH20220327n2\n",
    "- self_trans_prob on logscale from 0.3 to 0.7, 10 vals\n",
    "- best value WER="
   ]
  },
  {
   "cell_type": "code",
   "execution_count": 134,
   "id": "b594b1ac",
   "metadata": {},
   "outputs": [
    {
     "name": "stderr",
     "output_type": "stream",
     "text": [
      "  0%|          | 0/10 [00:00<?, ?it/s]"
     ]
    },
    {
     "name": "stderr",
     "output_type": "stream",
     "text": [
      "100%|██████████| 10/10 [19:07<00:00, 114.80s/it]\n"
     ]
    }
   ],
   "source": [
    "kw_str = ' '.join(str(x) for x in kw_idcs.tolist() if x!=0)\n",
    "kw_dedup = ' '.join(str(x) for x in dedup_list(kw_idcs.tolist()) if x!=0)\n",
    "scores = []\n",
    "\n",
    "enter_prob = 0.1        # default 0.1\n",
    "self_trans_prob = 0.5   # default 0.5\n",
    "early_exit_prob = 0.01  # default 0.01\n",
    "late_enter_prob = 0.01  # default 0.01\n",
    "\n",
    "# for enter_prob in tqdm(np.logspace(np.log10(0.01), np.log10(0.2), num=5)):\n",
    "# for early_exit_prob in [0.001, 0.01, 0.1]:\n",
    "late_enter_prob = early_exit_prob\n",
    "for self_trans_prob in tqdm(np.logspace(np.log10(0.3), np.log10(0.7), num=10)):\n",
    "        hmm_prefit, states = init_keyword_hmm(\n",
    "            keyphrases,\n",
    "            keywords,\n",
    "            enter_prob = enter_prob,\n",
    "            self_trans_prob = self_trans_prob,\n",
    "            early_exit_prob = early_exit_prob,\n",
    "            late_enter_prob = late_enter_prob,\n",
    "        )\n",
    "        viterbi=hmm_prefit.viterbi(smx_row_mat)\n",
    "        viterbi_str = ' '.join(str(x) for x in viterbi.squeeze().tolist() if x!=0)\n",
    "        viterbi_dedup = ' '.join(str(x) for x in dedup_list(viterbi.squeeze().tolist()) if x!=0)\n",
    "        wer_val=wer(kw_str, viterbi_str)\n",
    "        wer_dedup=wer(kw_dedup, viterbi_dedup)\n",
    "        scores.append({\n",
    "            \"wer\": wer_val,\n",
    "            \"wer_dedup\": wer_dedup,\n",
    "            \"enter_prob\": enter_prob,\n",
    "            \"self_trans_prob\": self_trans_prob,\n",
    "            \"early_exit_prob\": early_exit_prob,\n",
    "            \"late_enter_prob\": late_enter_prob,\n",
    "        })\n",
    "df = pd.DataFrame(scores)"
   ]
  },
  {
   "cell_type": "code",
   "execution_count": 142,
   "id": "16592b1f",
   "metadata": {},
   "outputs": [
    {
     "data": {
      "text/html": [
       "<div>\n",
       "<style scoped>\n",
       "    .dataframe tbody tr th:only-of-type {\n",
       "        vertical-align: middle;\n",
       "    }\n",
       "\n",
       "    .dataframe tbody tr th {\n",
       "        vertical-align: top;\n",
       "    }\n",
       "\n",
       "    .dataframe thead th {\n",
       "        text-align: right;\n",
       "    }\n",
       "</style>\n",
       "<table border=\"1\" class=\"dataframe\">\n",
       "  <thead>\n",
       "    <tr style=\"text-align: right;\">\n",
       "      <th></th>\n",
       "      <th>wer</th>\n",
       "      <th>wer_dedup</th>\n",
       "      <th>enter_prob</th>\n",
       "      <th>self_trans_prob</th>\n",
       "      <th>early_exit_prob</th>\n",
       "      <th>late_enter_prob</th>\n",
       "    </tr>\n",
       "  </thead>\n",
       "  <tbody>\n",
       "    <tr>\n",
       "      <th>wer</th>\n",
       "      <td>1.000000</td>\n",
       "      <td>0.027559</td>\n",
       "      <td>NaN</td>\n",
       "      <td>0.606905</td>\n",
       "      <td>NaN</td>\n",
       "      <td>NaN</td>\n",
       "    </tr>\n",
       "    <tr>\n",
       "      <th>wer_dedup</th>\n",
       "      <td>0.027559</td>\n",
       "      <td>1.000000</td>\n",
       "      <td>NaN</td>\n",
       "      <td>-0.664711</td>\n",
       "      <td>NaN</td>\n",
       "      <td>NaN</td>\n",
       "    </tr>\n",
       "    <tr>\n",
       "      <th>enter_prob</th>\n",
       "      <td>NaN</td>\n",
       "      <td>NaN</td>\n",
       "      <td>NaN</td>\n",
       "      <td>NaN</td>\n",
       "      <td>NaN</td>\n",
       "      <td>NaN</td>\n",
       "    </tr>\n",
       "    <tr>\n",
       "      <th>self_trans_prob</th>\n",
       "      <td>0.606905</td>\n",
       "      <td>-0.664711</td>\n",
       "      <td>NaN</td>\n",
       "      <td>1.000000</td>\n",
       "      <td>NaN</td>\n",
       "      <td>NaN</td>\n",
       "    </tr>\n",
       "    <tr>\n",
       "      <th>early_exit_prob</th>\n",
       "      <td>NaN</td>\n",
       "      <td>NaN</td>\n",
       "      <td>NaN</td>\n",
       "      <td>NaN</td>\n",
       "      <td>NaN</td>\n",
       "      <td>NaN</td>\n",
       "    </tr>\n",
       "    <tr>\n",
       "      <th>late_enter_prob</th>\n",
       "      <td>NaN</td>\n",
       "      <td>NaN</td>\n",
       "      <td>NaN</td>\n",
       "      <td>NaN</td>\n",
       "      <td>NaN</td>\n",
       "      <td>NaN</td>\n",
       "    </tr>\n",
       "  </tbody>\n",
       "</table>\n",
       "</div>"
      ],
      "text/plain": [
       "                      wer  wer_dedup  enter_prob  self_trans_prob  \\\n",
       "wer              1.000000   0.027559         NaN         0.606905   \n",
       "wer_dedup        0.027559   1.000000         NaN        -0.664711   \n",
       "enter_prob            NaN        NaN         NaN              NaN   \n",
       "self_trans_prob  0.606905  -0.664711         NaN         1.000000   \n",
       "early_exit_prob       NaN        NaN         NaN              NaN   \n",
       "late_enter_prob       NaN        NaN         NaN              NaN   \n",
       "\n",
       "                 early_exit_prob  late_enter_prob  \n",
       "wer                          NaN              NaN  \n",
       "wer_dedup                    NaN              NaN  \n",
       "enter_prob                   NaN              NaN  \n",
       "self_trans_prob              NaN              NaN  \n",
       "early_exit_prob              NaN              NaN  \n",
       "late_enter_prob              NaN              NaN  "
      ]
     },
     "execution_count": 142,
     "metadata": {},
     "output_type": "execute_result"
    }
   ],
   "source": [
    "df.corr()"
   ]
  },
  {
   "cell_type": "code",
   "execution_count": 143,
   "id": "566e7117",
   "metadata": {},
   "outputs": [
    {
     "data": {
      "text/html": [
       "<div>\n",
       "<style scoped>\n",
       "    .dataframe tbody tr th:only-of-type {\n",
       "        vertical-align: middle;\n",
       "    }\n",
       "\n",
       "    .dataframe tbody tr th {\n",
       "        vertical-align: top;\n",
       "    }\n",
       "\n",
       "    .dataframe thead th {\n",
       "        text-align: right;\n",
       "    }\n",
       "</style>\n",
       "<table border=\"1\" class=\"dataframe\">\n",
       "  <thead>\n",
       "    <tr style=\"text-align: right;\">\n",
       "      <th></th>\n",
       "      <th>wer</th>\n",
       "      <th>wer_dedup</th>\n",
       "      <th>enter_prob</th>\n",
       "      <th>self_trans_prob</th>\n",
       "      <th>early_exit_prob</th>\n",
       "      <th>late_enter_prob</th>\n",
       "    </tr>\n",
       "  </thead>\n",
       "  <tbody>\n",
       "    <tr>\n",
       "      <th>4</th>\n",
       "      <td>7.084775</td>\n",
       "      <td>0.945652</td>\n",
       "      <td>0.1</td>\n",
       "      <td>0.437186</td>\n",
       "      <td>0.01</td>\n",
       "      <td>0.01</td>\n",
       "    </tr>\n",
       "    <tr>\n",
       "      <th>5</th>\n",
       "      <td>7.085928</td>\n",
       "      <td>0.959783</td>\n",
       "      <td>0.1</td>\n",
       "      <td>0.480344</td>\n",
       "      <td>0.01</td>\n",
       "      <td>0.01</td>\n",
       "    </tr>\n",
       "    <tr>\n",
       "      <th>3</th>\n",
       "      <td>7.078431</td>\n",
       "      <td>0.960870</td>\n",
       "      <td>0.1</td>\n",
       "      <td>0.397906</td>\n",
       "      <td>0.01</td>\n",
       "      <td>0.01</td>\n",
       "    </tr>\n",
       "    <tr>\n",
       "      <th>6</th>\n",
       "      <td>7.107843</td>\n",
       "      <td>0.976087</td>\n",
       "      <td>0.1</td>\n",
       "      <td>0.527763</td>\n",
       "      <td>0.01</td>\n",
       "      <td>0.01</td>\n",
       "    </tr>\n",
       "    <tr>\n",
       "      <th>7</th>\n",
       "      <td>7.098039</td>\n",
       "      <td>0.980435</td>\n",
       "      <td>0.1</td>\n",
       "      <td>0.579863</td>\n",
       "      <td>0.01</td>\n",
       "      <td>0.01</td>\n",
       "    </tr>\n",
       "    <tr>\n",
       "      <th>8</th>\n",
       "      <td>7.106690</td>\n",
       "      <td>0.984783</td>\n",
       "      <td>0.1</td>\n",
       "      <td>0.637106</td>\n",
       "      <td>0.01</td>\n",
       "      <td>0.01</td>\n",
       "    </tr>\n",
       "    <tr>\n",
       "      <th>9</th>\n",
       "      <td>7.107843</td>\n",
       "      <td>0.985870</td>\n",
       "      <td>0.1</td>\n",
       "      <td>0.700000</td>\n",
       "      <td>0.01</td>\n",
       "      <td>0.01</td>\n",
       "    </tr>\n",
       "    <tr>\n",
       "      <th>2</th>\n",
       "      <td>7.086505</td>\n",
       "      <td>1.123913</td>\n",
       "      <td>0.1</td>\n",
       "      <td>0.362154</td>\n",
       "      <td>0.01</td>\n",
       "      <td>0.01</td>\n",
       "    </tr>\n",
       "    <tr>\n",
       "      <th>0</th>\n",
       "      <td>7.099193</td>\n",
       "      <td>1.191304</td>\n",
       "      <td>0.1</td>\n",
       "      <td>0.300000</td>\n",
       "      <td>0.01</td>\n",
       "      <td>0.01</td>\n",
       "    </tr>\n",
       "    <tr>\n",
       "      <th>1</th>\n",
       "      <td>7.093426</td>\n",
       "      <td>1.227174</td>\n",
       "      <td>0.1</td>\n",
       "      <td>0.329615</td>\n",
       "      <td>0.01</td>\n",
       "      <td>0.01</td>\n",
       "    </tr>\n",
       "  </tbody>\n",
       "</table>\n",
       "</div>"
      ],
      "text/plain": [
       "        wer  wer_dedup  enter_prob  self_trans_prob  early_exit_prob  \\\n",
       "4  7.084775   0.945652         0.1         0.437186             0.01   \n",
       "5  7.085928   0.959783         0.1         0.480344             0.01   \n",
       "3  7.078431   0.960870         0.1         0.397906             0.01   \n",
       "6  7.107843   0.976087         0.1         0.527763             0.01   \n",
       "7  7.098039   0.980435         0.1         0.579863             0.01   \n",
       "8  7.106690   0.984783         0.1         0.637106             0.01   \n",
       "9  7.107843   0.985870         0.1         0.700000             0.01   \n",
       "2  7.086505   1.123913         0.1         0.362154             0.01   \n",
       "0  7.099193   1.191304         0.1         0.300000             0.01   \n",
       "1  7.093426   1.227174         0.1         0.329615             0.01   \n",
       "\n",
       "   late_enter_prob  \n",
       "4             0.01  \n",
       "5             0.01  \n",
       "3             0.01  \n",
       "6             0.01  \n",
       "7             0.01  \n",
       "8             0.01  \n",
       "9             0.01  \n",
       "2             0.01  \n",
       "0             0.01  \n",
       "1             0.01  "
      ]
     },
     "execution_count": 143,
     "metadata": {},
     "output_type": "execute_result"
    }
   ],
   "source": [
    "df.sort_values(by='wer_dedup')"
   ]
  },
  {
   "cell_type": "code",
   "execution_count": 137,
   "id": "30d4285e",
   "metadata": {},
   "outputs": [
    {
     "data": {
      "text/plain": [
       "<Axes: xlabel='self_trans_prob', ylabel='enter_prob'>"
      ]
     },
     "execution_count": 137,
     "metadata": {},
     "output_type": "execute_result"
    },
    {
     "data": {
      "image/png": "[encoded data removed]",
      "text/plain": [
       "<Figure size 640x480 with 1 Axes>"
      ]
     },
     "metadata": {},
     "output_type": "display_data"
    }
   ],
   "source": [
    "sns.scatterplot(df, x='self_trans_prob', y='enter_prob', hue='wer_dedup')"
   ]
  },
  {
   "cell_type": "code",
   "execution_count": 138,
   "id": "cd5c2f7b",
   "metadata": {},
   "outputs": [],
   "source": [
    "trans, responsibility, starts, ends, logprob = hmm_bw.forward_backward(smx_row_mat)"
   ]
  },
  {
   "cell_type": "code",
   "execution_count": 144,
   "id": "df5f09e3",
   "metadata": {},
   "outputs": [
    {
     "data": {
      "text/plain": [
       "SparseHMM(\n",
       "  (start): Silent()\n",
       "  (end): Silent()\n",
       "  (distributions): ModuleList(\n",
       "    (0-81): 82 x KeySimilarityMatrix()\n",
       "  )\n",
       ")"
      ]
     },
     "execution_count": 144,
     "metadata": {},
     "output_type": "execute_result"
    }
   ],
   "source": [
    "hmm_bw.fit(smx_row_mat)"
   ]
  },
  {
   "cell_type": "code",
   "execution_count": 149,
   "id": "4382b18b",
   "metadata": {},
   "outputs": [
    {
     "data": {
      "text/plain": [
       "0.9986244841815681"
      ]
     },
     "execution_count": 149,
     "metadata": {},
     "output_type": "execute_result"
    }
   ],
   "source": [
    "# viterbi=hmm_bw.viterbi(smx_col_mat)\n",
    "kw_str = ' '.join(str(x) for x in dedup_list(kw_idcs.tolist()))\n",
    "viterbi_str = ' '.join(str(x) for x in dedup_list(viterbi.squeeze().tolist()))\n",
    "wer(kw_str, viterbi_str)"
   ]
  }
 ],
 "metadata": {
  "kernelspec": {
   "display_name": ".venv",
   "language": "python",
   "name": "python3"
  },
  "language_info": {
   "codemirror_mode": {
    "name": "ipython",
    "version": 3
   },
   "file_extension": ".py",
   "mimetype": "text/x-python",
   "name": "python",
   "nbconvert_exporter": "python",
   "pygments_lexer": "ipython3",
   "version": "3.12.10"
  }
 },
 "nbformat": 4,
 "nbformat_minor": 5
}
