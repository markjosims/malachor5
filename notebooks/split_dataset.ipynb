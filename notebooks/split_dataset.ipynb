{
 "cells": [
  {
   "cell_type": "code",
   "execution_count": 206,
   "metadata": {},
   "outputs": [],
   "source": [
    "import pandas as pd\n",
    "from datasets import load_from_disk\n",
    "from tqdm import tqdm\n",
    "import numpy as np\n",
    "import sys\n",
    "import os\n",
    "import librosa\n",
    "from tqdm import tqdm\n",
    "import io\n",
    "tqdm.pandas()\n",
    "sys.path.append('/Users/markjos/projects/malachor5/scripts')\n",
    "from asr_dataset import clip_segment, validate_clipfile"
   ]
  },
  {
   "cell_type": "code",
   "execution_count": 207,
   "metadata": {},
   "outputs": [],
   "source": [
    "split_ds_path='/Users/markjos/projects/malachor5/data/pyarrow-datasets/tira-clean-split'"
   ]
  },
  {
   "cell_type": "code",
   "execution_count": 208,
   "metadata": {},
   "outputs": [
    {
     "data": {
      "text/plain": [
       "DatasetDict({\n",
       "    train: Dataset({\n",
       "        features: ['audio', 'start', 'end', 'transcription', 'eaf_source', 'wav_source', 'raw_transcription', 'clip', 'wav_rawpath', 'path', 'allosaurus', 'clap_ipa_cos_sim', 'wada_snr', 'nist_stnr', 'speaker-diarization-3.1', 'voice-activity-detection', 'whisper-large-v3', 'clapipa-transcription-allosaurus', 'vad_s', 'drz_s', 'trans_len', 'pcnt_speech', 'trans_len_sq', 'trans_len_log', 'cos_sim_softmax', 'cos_sim_log', 'duration'],\n",
       "        num_rows: 16384\n",
       "    })\n",
       "    validation: Dataset({\n",
       "        features: ['audio', 'start', 'end', 'transcription', 'eaf_source', 'wav_source', 'raw_transcription', 'clip', 'wav_rawpath', 'path', 'allosaurus', 'clap_ipa_cos_sim', 'wada_snr', 'nist_stnr', 'speaker-diarization-3.1', 'voice-activity-detection', 'whisper-large-v3', 'clapipa-transcription-allosaurus', 'vad_s', 'drz_s', 'trans_len', 'pcnt_speech', 'trans_len_sq', 'trans_len_log', 'cos_sim_softmax', 'cos_sim_log', 'duration'],\n",
       "        num_rows: 2048\n",
       "    })\n",
       "    test: Dataset({\n",
       "        features: ['audio', 'start', 'end', 'transcription', 'eaf_source', 'wav_source', 'raw_transcription', 'clip', 'wav_rawpath', 'path', 'allosaurus', 'clap_ipa_cos_sim', 'wada_snr', 'nist_stnr', 'speaker-diarization-3.1', 'voice-activity-detection', 'whisper-large-v3', 'clapipa-transcription-allosaurus', 'vad_s', 'drz_s', 'trans_len', 'pcnt_speech', 'trans_len_sq', 'trans_len_log', 'cos_sim_softmax', 'cos_sim_log', 'duration'],\n",
       "        num_rows: 2048\n",
       "    })\n",
       "})"
      ]
     },
     "execution_count": 208,
     "metadata": {},
     "output_type": "execute_result"
    }
   ],
   "source": [
    "ds=load_from_disk(split_ds_path)\n",
    "ds"
   ]
  },
  {
   "cell_type": "code",
   "execution_count": 209,
   "metadata": {},
   "outputs": [
    {
     "name": "stdout",
     "output_type": "stream",
     "text": [
      "(20480, 27)\n"
     ]
    },
    {
     "data": {
      "text/html": [
       "<div>\n",
       "<style scoped>\n",
       "    .dataframe tbody tr th:only-of-type {\n",
       "        vertical-align: middle;\n",
       "    }\n",
       "\n",
       "    .dataframe tbody tr th {\n",
       "        vertical-align: top;\n",
       "    }\n",
       "\n",
       "    .dataframe thead th {\n",
       "        text-align: right;\n",
       "    }\n",
       "</style>\n",
       "<table border=\"1\" class=\"dataframe\">\n",
       "  <thead>\n",
       "    <tr style=\"text-align: right;\">\n",
       "      <th></th>\n",
       "      <th>start</th>\n",
       "      <th>end</th>\n",
       "      <th>transcription</th>\n",
       "      <th>eaf_source</th>\n",
       "      <th>wav_source</th>\n",
       "      <th>raw_transcription</th>\n",
       "      <th>clip</th>\n",
       "      <th>wav_rawpath</th>\n",
       "      <th>path</th>\n",
       "      <th>allosaurus</th>\n",
       "      <th>...</th>\n",
       "      <th>vad_s</th>\n",
       "      <th>drz_s</th>\n",
       "      <th>trans_len</th>\n",
       "      <th>pcnt_speech</th>\n",
       "      <th>trans_len_sq</th>\n",
       "      <th>trans_len_log</th>\n",
       "      <th>cos_sim_softmax</th>\n",
       "      <th>cos_sim_log</th>\n",
       "      <th>duration</th>\n",
       "      <th>split</th>\n",
       "    </tr>\n",
       "  </thead>\n",
       "  <tbody>\n",
       "    <tr>\n",
       "      <th>0</th>\n",
       "      <td>217011.0</td>\n",
       "      <td>219552.0</td>\n",
       "      <td>àprí jɜ̀dí ðáŋàlà</td>\n",
       "      <td>/Users/markjos/Library/CloudStorage/GoogleDriv...</td>\n",
       "      <td>/Users/markjos/Library/CloudStorage/GoogleDriv...</td>\n",
       "      <td>àprí jɜ̀dí ðáŋàlà</td>\n",
       "      <td>data/tira-asr/clips/HH01082021-m03s37ms011-m03...</td>\n",
       "      <td>/Users/markjos/Library/CloudStorage/GoogleDriv...</td>\n",
       "      <td>HH01082021-m03s37ms011-m03s39ms552.wav</td>\n",
       "      <td>a e i a d i ɡ a m a l a</td>\n",
       "      <td>...</td>\n",
       "      <td>2.379</td>\n",
       "      <td>2.447</td>\n",
       "      <td>23</td>\n",
       "      <td>0.936246</td>\n",
       "      <td>3.135494</td>\n",
       "      <td>3.135494</td>\n",
       "      <td>0.000044</td>\n",
       "      <td>-10.039731</td>\n",
       "      <td>2.541</td>\n",
       "      <td>train</td>\n",
       "    </tr>\n",
       "    <tr>\n",
       "      <th>1</th>\n",
       "      <td>221371.0</td>\n",
       "      <td>225023.0</td>\n",
       "      <td>àprí jɜ̀dí ðáŋàlà</td>\n",
       "      <td>/Users/markjos/Library/CloudStorage/GoogleDriv...</td>\n",
       "      <td>/Users/markjos/Library/CloudStorage/GoogleDriv...</td>\n",
       "      <td>àprí jɜ̀dí ðáŋàlà</td>\n",
       "      <td>data/tira-asr/clips/HH01082021-m03s41ms371-m03...</td>\n",
       "      <td>/Users/markjos/Library/CloudStorage/GoogleDriv...</td>\n",
       "      <td>HH01082021-m03s41ms371-m03s45ms023.wav</td>\n",
       "      <td>a j a d i v a n a l a</td>\n",
       "      <td>...</td>\n",
       "      <td>3.375</td>\n",
       "      <td>3.510</td>\n",
       "      <td>23</td>\n",
       "      <td>0.924151</td>\n",
       "      <td>3.135494</td>\n",
       "      <td>3.135494</td>\n",
       "      <td>0.000044</td>\n",
       "      <td>-10.028157</td>\n",
       "      <td>3.652</td>\n",
       "      <td>train</td>\n",
       "    </tr>\n",
       "    <tr>\n",
       "      <th>2</th>\n",
       "      <td>283401.0</td>\n",
       "      <td>286528.0</td>\n",
       "      <td>àprí jə̀və̀lɛ̀ðɔ́ ðáŋàlà</td>\n",
       "      <td>/Users/markjos/Library/CloudStorage/GoogleDriv...</td>\n",
       "      <td>/Users/markjos/Library/CloudStorage/GoogleDriv...</td>\n",
       "      <td>àprí jə̀və̀lɛ̀ðɔ́ ðáŋàlà</td>\n",
       "      <td>data/tira-asr/clips/HH01082021-m04s43ms401-m04...</td>\n",
       "      <td>/Users/markjos/Library/CloudStorage/GoogleDriv...</td>\n",
       "      <td>HH01082021-m04s43ms401-m04s46ms528.wav</td>\n",
       "      <td>a p e i e p e l e ð a l a m a l a</td>\n",
       "      <td>...</td>\n",
       "      <td>3.088</td>\n",
       "      <td>3.037</td>\n",
       "      <td>29</td>\n",
       "      <td>0.987528</td>\n",
       "      <td>3.367296</td>\n",
       "      <td>3.367296</td>\n",
       "      <td>0.000042</td>\n",
       "      <td>-10.080580</td>\n",
       "      <td>3.127</td>\n",
       "      <td>train</td>\n",
       "    </tr>\n",
       "    <tr>\n",
       "      <th>3</th>\n",
       "      <td>288835.0</td>\n",
       "      <td>291580.0</td>\n",
       "      <td>àprí jə̀və̀lɛ̀ðɔ́ ðáŋàlà</td>\n",
       "      <td>/Users/markjos/Library/CloudStorage/GoogleDriv...</td>\n",
       "      <td>/Users/markjos/Library/CloudStorage/GoogleDriv...</td>\n",
       "      <td>àprí jə̀və̀lɛ̀ðɔ́ ðáŋàlà</td>\n",
       "      <td>data/tira-asr/clips/HH01082021-m04s48ms835-m04...</td>\n",
       "      <td>/Users/markjos/Library/CloudStorage/GoogleDriv...</td>\n",
       "      <td>HH01082021-m04s48ms835-m04s51ms580.wav</td>\n",
       "      <td>a t e i j a p e d e ð a ɡ a n a ð a</td>\n",
       "      <td>...</td>\n",
       "      <td>2.413</td>\n",
       "      <td>2.649</td>\n",
       "      <td>29</td>\n",
       "      <td>0.879053</td>\n",
       "      <td>3.367296</td>\n",
       "      <td>3.367296</td>\n",
       "      <td>0.000044</td>\n",
       "      <td>-10.025673</td>\n",
       "      <td>2.745</td>\n",
       "      <td>train</td>\n",
       "    </tr>\n",
       "    <tr>\n",
       "      <th>4</th>\n",
       "      <td>304737.0</td>\n",
       "      <td>307762.0</td>\n",
       "      <td>àprí jə̀və̀lɛ̀ðɔ́ ðáŋàlà</td>\n",
       "      <td>/Users/markjos/Library/CloudStorage/GoogleDriv...</td>\n",
       "      <td>/Users/markjos/Library/CloudStorage/GoogleDriv...</td>\n",
       "      <td>àprí jə̀və̀lɛ̀ðɔ́ ðáŋàlà</td>\n",
       "      <td>data/tira-asr/clips/HH01082021-m05s04ms737-m05...</td>\n",
       "      <td>/Users/markjos/Library/CloudStorage/GoogleDriv...</td>\n",
       "      <td>HH01082021-m05s04ms737-m05s07ms762.wav</td>\n",
       "      <td>a e j e ð e d e ð a l a m a l a</td>\n",
       "      <td>...</td>\n",
       "      <td>2.920</td>\n",
       "      <td>2.919</td>\n",
       "      <td>29</td>\n",
       "      <td>0.965289</td>\n",
       "      <td>3.367296</td>\n",
       "      <td>3.367296</td>\n",
       "      <td>0.000042</td>\n",
       "      <td>-10.068530</td>\n",
       "      <td>3.025</td>\n",
       "      <td>train</td>\n",
       "    </tr>\n",
       "  </tbody>\n",
       "</table>\n",
       "<p>5 rows × 27 columns</p>\n",
       "</div>"
      ],
      "text/plain": [
       "      start       end                  transcription  \\\n",
       "0  217011.0  219552.0        àprí jɜ̀dí ðáŋàlà   \n",
       "1  221371.0  225023.0        àprí jɜ̀dí ðáŋàlà   \n",
       "2  283401.0  286528.0  àprí jə̀və̀lɛ̀ðɔ́ ðáŋàlà   \n",
       "3  288835.0  291580.0  àprí jə̀və̀lɛ̀ðɔ́ ðáŋàlà   \n",
       "4  304737.0  307762.0  àprí jə̀və̀lɛ̀ðɔ́ ðáŋàlà   \n",
       "\n",
       "                                          eaf_source  \\\n",
       "0  /Users/markjos/Library/CloudStorage/GoogleDriv...   \n",
       "1  /Users/markjos/Library/CloudStorage/GoogleDriv...   \n",
       "2  /Users/markjos/Library/CloudStorage/GoogleDriv...   \n",
       "3  /Users/markjos/Library/CloudStorage/GoogleDriv...   \n",
       "4  /Users/markjos/Library/CloudStorage/GoogleDriv...   \n",
       "\n",
       "                                          wav_source  \\\n",
       "0  /Users/markjos/Library/CloudStorage/GoogleDriv...   \n",
       "1  /Users/markjos/Library/CloudStorage/GoogleDriv...   \n",
       "2  /Users/markjos/Library/CloudStorage/GoogleDriv...   \n",
       "3  /Users/markjos/Library/CloudStorage/GoogleDriv...   \n",
       "4  /Users/markjos/Library/CloudStorage/GoogleDriv...   \n",
       "\n",
       "               raw_transcription  \\\n",
       "0        àprí jɜ̀dí ðáŋàlà   \n",
       "1        àprí jɜ̀dí ðáŋàlà   \n",
       "2  àprí jə̀və̀lɛ̀ðɔ́ ðáŋàlà   \n",
       "3  àprí jə̀və̀lɛ̀ðɔ́ ðáŋàlà   \n",
       "4  àprí jə̀və̀lɛ̀ðɔ́ ðáŋàlà   \n",
       "\n",
       "                                                clip  \\\n",
       "0  data/tira-asr/clips/HH01082021-m03s37ms011-m03...   \n",
       "1  data/tira-asr/clips/HH01082021-m03s41ms371-m03...   \n",
       "2  data/tira-asr/clips/HH01082021-m04s43ms401-m04...   \n",
       "3  data/tira-asr/clips/HH01082021-m04s48ms835-m04...   \n",
       "4  data/tira-asr/clips/HH01082021-m05s04ms737-m05...   \n",
       "\n",
       "                                         wav_rawpath  \\\n",
       "0  /Users/markjos/Library/CloudStorage/GoogleDriv...   \n",
       "1  /Users/markjos/Library/CloudStorage/GoogleDriv...   \n",
       "2  /Users/markjos/Library/CloudStorage/GoogleDriv...   \n",
       "3  /Users/markjos/Library/CloudStorage/GoogleDriv...   \n",
       "4  /Users/markjos/Library/CloudStorage/GoogleDriv...   \n",
       "\n",
       "                                     path  \\\n",
       "0  HH01082021-m03s37ms011-m03s39ms552.wav   \n",
       "1  HH01082021-m03s41ms371-m03s45ms023.wav   \n",
       "2  HH01082021-m04s43ms401-m04s46ms528.wav   \n",
       "3  HH01082021-m04s48ms835-m04s51ms580.wav   \n",
       "4  HH01082021-m05s04ms737-m05s07ms762.wav   \n",
       "\n",
       "                            allosaurus  ...  vad_s  drz_s  trans_len  \\\n",
       "0              a e i a d i ɡ a m a l a  ...  2.379  2.447         23   \n",
       "1                a j a d i v a n a l a  ...  3.375  3.510         23   \n",
       "2    a p e i e p e l e ð a l a m a l a  ...  3.088  3.037         29   \n",
       "3  a t e i j a p e d e ð a ɡ a n a ð a  ...  2.413  2.649         29   \n",
       "4      a e j e ð e d e ð a l a m a l a  ...  2.920  2.919         29   \n",
       "\n",
       "  pcnt_speech trans_len_sq trans_len_log  cos_sim_softmax  cos_sim_log  \\\n",
       "0    0.936246     3.135494      3.135494         0.000044   -10.039731   \n",
       "1    0.924151     3.135494      3.135494         0.000044   -10.028157   \n",
       "2    0.987528     3.367296      3.367296         0.000042   -10.080580   \n",
       "3    0.879053     3.367296      3.367296         0.000044   -10.025673   \n",
       "4    0.965289     3.367296      3.367296         0.000042   -10.068530   \n",
       "\n",
       "   duration  split  \n",
       "0     2.541  train  \n",
       "1     3.652  train  \n",
       "2     3.127  train  \n",
       "3     2.745  train  \n",
       "4     3.025  train  \n",
       "\n",
       "[5 rows x 27 columns]"
      ]
     },
     "execution_count": 209,
     "metadata": {},
     "output_type": "execute_result"
    }
   ],
   "source": [
    "# df=pd.DataFrame(columns=ds['train'].column_names+['split'])\n",
    "split_dfs=[]\n",
    "for split in ds:\n",
    "    split_df=ds[split].remove_columns('audio').to_pandas()\n",
    "    split_df['split']=split\n",
    "    split_dfs.append(split_df)\n",
    "df=pd.concat(split_dfs, ignore_index=True)\n",
    "print(df.shape)\n",
    "df.head()"
   ]
  },
  {
   "cell_type": "code",
   "execution_count": 211,
   "metadata": {},
   "outputs": [
    {
     "name": "stdout",
     "output_type": "stream",
     "text": [
      "Train records: 16384\t\ttrain hours 9.475035277777778\n",
      "Validation records: 2048\tvalidation hours 1.126686388888889\n",
      "Test records: 2048\t\ttest hours 0.6514258333333333\n"
     ]
    }
   ],
   "source": [
    "train_len=df[df['split']=='train'].shape[0]\n",
    "train_hours=df.loc[df['split']=='train', 'duration'].sum()/3_600\n",
    "print(f\"Train records: {train_len}\\t\\ttrain hours {train_hours}\")\n",
    "\n",
    "validation_len=df[df['split']=='validation'].shape[0]\n",
    "validation_hours=df.loc[df['split']=='validation', 'duration'].sum()/3_600\n",
    "print(f\"Validation records: {validation_len}\\tvalidation hours {validation_hours}\")\n",
    "\n",
    "test_len=df[df['split']=='test'].shape[0]\n",
    "test_hours=df.loc[df['split']=='test', 'duration'].sum()/3_600\n",
    "print(f\"Test records: {test_len}\\t\\ttest hours {test_hours}\")\n"
   ]
  },
  {
   "cell_type": "code",
   "execution_count": 6,
   "metadata": {},
   "outputs": [
    {
     "data": {
      "text/plain": [
       "start                                                                        217011.0\n",
       "end                                                                          219552.0\n",
       "transcription                                                 àprí jɜ̀dí ðáŋàlà\n",
       "eaf_source                          /Users/markjos/Library/CloudStorage/GoogleDriv...\n",
       "wav_source                          /Users/markjos/Library/CloudStorage/GoogleDriv...\n",
       "raw_transcription                                             àprí jɜ̀dí ðáŋàlà\n",
       "clip                                data/tira-asr/clips/HH01082021-m03s37ms011-m03...\n",
       "wav_rawpath                         /Users/markjos/Library/CloudStorage/GoogleDriv...\n",
       "path                                           HH01082021-m03s37ms011-m03s39ms552.wav\n",
       "allosaurus                                                    a e i a d i ɡ a m a l a\n",
       "clap_ipa_cos_sim                                                             0.705214\n",
       "wada_snr                                                                    14.765366\n",
       "nist_stnr                                                                       23.75\n",
       "speaker-diarization-3.1                                        0.031 2.478 SPEAKER_00\n",
       "voice-activity-detection                                           0.166 2.545 SPEECH\n",
       "whisper-large-v3                                                        اپری یدی ذہنہ\n",
       "clapipa-transcription-allosaurus                                               0.5571\n",
       "vad_s                                                                           2.379\n",
       "drz_s                                                                           2.447\n",
       "trans_len                                                                          23\n",
       "pcnt_speech                                                                  0.936246\n",
       "trans_len_sq                                                                 3.135494\n",
       "trans_len_log                                                                3.135494\n",
       "cos_sim_softmax                                                              0.000044\n",
       "cos_sim_log                                                                -10.039731\n",
       "duration                                                                        2.541\n",
       "split                                                                           train\n",
       "Name: 0, dtype: object"
      ]
     },
     "execution_count": 6,
     "metadata": {},
     "output_type": "execute_result"
    }
   ],
   "source": [
    "df.loc[0]"
   ]
  },
  {
   "cell_type": "markdown",
   "metadata": {},
   "source": [
    "There are 45 ungrammatical sentences in the dataset. Whoops."
   ]
  },
  {
   "cell_type": "code",
   "execution_count": 7,
   "metadata": {},
   "outputs": [
    {
     "data": {
      "text/plain": [
       "raw_transcription\n",
       "False    20435\n",
       "True        45\n",
       "Name: count, dtype: int64"
      ]
     },
     "execution_count": 7,
     "metadata": {},
     "output_type": "execute_result"
    }
   ],
   "source": [
    "df['raw_transcription'].str.contains('\\*').value_counts()"
   ]
  },
  {
   "cell_type": "markdown",
   "metadata": {},
   "source": [
    "The train split contains 21 recordings not found in test or validation. Neither test nor validation partitions have any recordings only found in them, but they each have 1 recording not found in train."
   ]
  },
  {
   "cell_type": "code",
   "execution_count": 8,
   "metadata": {},
   "outputs": [
    {
     "data": {
      "text/plain": [
       "((21,), (1,), (1,))"
      ]
     },
     "execution_count": 8,
     "metadata": {},
     "output_type": "execute_result"
    }
   ],
   "source": [
    "train=df['split']=='train'\n",
    "validation=df['split']=='validation'\n",
    "test=df['split']=='test'\n",
    "\n",
    "train_wavs=pd.Series(df[train]['wav_source'].unique())\n",
    "val_wavs=pd.Series(df[validation]['wav_source'].unique())\n",
    "test_wavs=pd.Series(df[test]['wav_source'].unique())\n",
    "\n",
    "df['split']\n",
    "train_only = train_wavs[~train_wavs.isin(val_wavs) & ~train_wavs.isin(test_wavs)]\n",
    "val_only = val_wavs[~val_wavs.isin(train_wavs)]# & ~val_wavs.isin(test_wavs)]\n",
    "test_only = test_wavs[~test_wavs.isin(train_wavs)]# & ~test_wavs.isin(val_wavs)]\n",
    "\n",
    "train_only.shape, val_only.shape, test_only.shape"
   ]
  },
  {
   "cell_type": "markdown",
   "metadata": {},
   "source": [
    "Let's add 30s before and after each record and see how many overlaps we create."
   ]
  },
  {
   "cell_type": "code",
   "execution_count": 9,
   "metadata": {},
   "outputs": [
    {
     "data": {
      "text/html": [
       "<div>\n",
       "<style scoped>\n",
       "    .dataframe tbody tr th:only-of-type {\n",
       "        vertical-align: middle;\n",
       "    }\n",
       "\n",
       "    .dataframe tbody tr th {\n",
       "        vertical-align: top;\n",
       "    }\n",
       "\n",
       "    .dataframe thead th {\n",
       "        text-align: right;\n",
       "    }\n",
       "</style>\n",
       "<table border=\"1\" class=\"dataframe\">\n",
       "  <thead>\n",
       "    <tr style=\"text-align: right;\">\n",
       "      <th></th>\n",
       "      <th>long_start</th>\n",
       "      <th>long_end</th>\n",
       "    </tr>\n",
       "  </thead>\n",
       "  <tbody>\n",
       "    <tr>\n",
       "      <th>0</th>\n",
       "      <td>187011.0</td>\n",
       "      <td>249552.0</td>\n",
       "    </tr>\n",
       "    <tr>\n",
       "      <th>1</th>\n",
       "      <td>191371.0</td>\n",
       "      <td>255023.0</td>\n",
       "    </tr>\n",
       "    <tr>\n",
       "      <th>2</th>\n",
       "      <td>253401.0</td>\n",
       "      <td>316528.0</td>\n",
       "    </tr>\n",
       "    <tr>\n",
       "      <th>3</th>\n",
       "      <td>258835.0</td>\n",
       "      <td>321580.0</td>\n",
       "    </tr>\n",
       "    <tr>\n",
       "      <th>4</th>\n",
       "      <td>274737.0</td>\n",
       "      <td>337762.0</td>\n",
       "    </tr>\n",
       "    <tr>\n",
       "      <th>...</th>\n",
       "      <td>...</td>\n",
       "      <td>...</td>\n",
       "    </tr>\n",
       "    <tr>\n",
       "      <th>20475</th>\n",
       "      <td>554799.0</td>\n",
       "      <td>615373.0</td>\n",
       "    </tr>\n",
       "    <tr>\n",
       "      <th>20476</th>\n",
       "      <td>1964053.0</td>\n",
       "      <td>2024599.0</td>\n",
       "    </tr>\n",
       "    <tr>\n",
       "      <th>20477</th>\n",
       "      <td>1402547.0</td>\n",
       "      <td>1463467.0</td>\n",
       "    </tr>\n",
       "    <tr>\n",
       "      <th>20478</th>\n",
       "      <td>1587160.0</td>\n",
       "      <td>1647733.0</td>\n",
       "    </tr>\n",
       "    <tr>\n",
       "      <th>20479</th>\n",
       "      <td>1718333.0</td>\n",
       "      <td>1778933.0</td>\n",
       "    </tr>\n",
       "  </tbody>\n",
       "</table>\n",
       "<p>20480 rows × 2 columns</p>\n",
       "</div>"
      ],
      "text/plain": [
       "       long_start   long_end\n",
       "0        187011.0   249552.0\n",
       "1        191371.0   255023.0\n",
       "2        253401.0   316528.0\n",
       "3        258835.0   321580.0\n",
       "4        274737.0   337762.0\n",
       "...           ...        ...\n",
       "20475    554799.0   615373.0\n",
       "20476   1964053.0  2024599.0\n",
       "20477   1402547.0  1463467.0\n",
       "20478   1587160.0  1647733.0\n",
       "20479   1718333.0  1778933.0\n",
       "\n",
       "[20480 rows x 2 columns]"
      ]
     },
     "execution_count": 9,
     "metadata": {},
     "output_type": "execute_result"
    }
   ],
   "source": [
    "# remaining=((30-df['duration'])*1_000).astype(int)\n",
    "df['long_start']=df['start']-30_000\n",
    "df['long_end']=df['end']+30_000\n",
    "df[['long_start', 'long_end']]"
   ]
  },
  {
   "cell_type": "code",
   "execution_count": 10,
   "metadata": {},
   "outputs": [
    {
     "data": {
      "text/plain": [
       "0                                                   [0, 1]\n",
       "1                                                   [0, 1]\n",
       "2                                                [2, 3, 4]\n",
       "3                                                [2, 3, 4]\n",
       "4                                                [2, 3, 4]\n",
       "                               ...                        \n",
       "20475    [15837, 15838, 15839, 15840, 15841, 15842, 158...\n",
       "20476                                [15913, 15914, 20476]\n",
       "20477    [16018, 16019, 16020, 16021, 16022, 16023, 160...\n",
       "20478                                [16025, 16026, 20478]\n",
       "20479                  [16366, 16367, 16368, 16369, 20479]\n",
       "Name: overlap, Length: 20480, dtype: object"
      ]
     },
     "execution_count": 10,
     "metadata": {},
     "output_type": "execute_result"
    }
   ],
   "source": [
    "def find_overlap(row):\n",
    "    start=row['long_start']\n",
    "    end=row['long_end']\n",
    "    wav=row['wav_source']\n",
    "\n",
    "    has_wav=df['wav_source']==wav\n",
    "    after_start=df['start']>=start\n",
    "    before_end=df['end']<=end\n",
    "    overlap=has_wav&after_start&before_end\n",
    "    return df.loc[overlap].index.tolist()\n",
    "df['overlap']=df.apply(find_overlap, axis=1)\n",
    "df['overlap']"
   ]
  },
  {
   "cell_type": "code",
   "execution_count": 11,
   "metadata": {},
   "outputs": [
    {
     "data": {
      "text/plain": [
       "6.39443359375"
      ]
     },
     "execution_count": 11,
     "metadata": {},
     "output_type": "execute_result"
    }
   ],
   "source": [
    "df['num_overlap']=df['overlap'].apply(len)\n",
    "df['num_overlap'].mean()"
   ]
  },
  {
   "cell_type": "code",
   "execution_count": 12,
   "metadata": {},
   "outputs": [
    {
     "data": {
      "text/plain": [
       "0                                           [train, train]\n",
       "1                                           [train, train]\n",
       "2                                    [train, train, train]\n",
       "3                                    [train, train, train]\n",
       "4                                    [train, train, train]\n",
       "                               ...                        \n",
       "20475    [train, train, train, train, train, train, tra...\n",
       "20476                                 [train, train, test]\n",
       "20477    [train, train, train, train, train, train, tra...\n",
       "20478                                 [train, train, test]\n",
       "20479                   [train, train, train, train, test]\n",
       "Name: overlap_split, Length: 20480, dtype: object"
      ]
     },
     "execution_count": 12,
     "metadata": {},
     "output_type": "execute_result"
    }
   ],
   "source": [
    "get_split_from_index = lambda ilist: [df.at[i, 'split'] for i in ilist]\n",
    "df['overlap_split']=df['overlap'].apply(get_split_from_index)\n",
    "df['overlap_split']"
   ]
  },
  {
   "cell_type": "code",
   "execution_count": 13,
   "metadata": {},
   "outputs": [
    {
     "data": {
      "text/plain": [
       "overlap_split\n",
       "{train}                      13367\n",
       "{validation, train}           2322\n",
       "{train, test}                 2124\n",
       "{test}                         931\n",
       "{validation}                   921\n",
       "{validation, test}             438\n",
       "{validation, train, test}      377\n",
       "Name: count, dtype: int64"
      ]
     },
     "execution_count": 13,
     "metadata": {},
     "output_type": "execute_result"
    }
   ],
   "source": [
    "df['overlap_split'].apply(set).value_counts()"
   ]
  },
  {
   "cell_type": "markdown",
   "metadata": {},
   "source": [
    "Let's pick a subset of records such that there is overlap between any of them.\n",
    "Let's also exclude an record which has labels from multiple splits included."
   ]
  },
  {
   "cell_type": "code",
   "execution_count": 14,
   "metadata": {},
   "outputs": [
    {
     "name": "stderr",
     "output_type": "stream",
     "text": [
      "100%|██████████| 20480/20480 [00:02<00:00, 9913.09it/s]\n"
     ]
    },
    {
     "data": {
      "text/plain": [
       "(5354, 32)"
      ]
     },
     "execution_count": 14,
     "metadata": {},
     "output_type": "execute_result"
    }
   ],
   "source": [
    "collapsed_idcs=[]\n",
    "covered_idcs=[]\n",
    "for i, row in tqdm(df.iterrows(), total=len(df)):\n",
    "    if len(set(row['overlap_split']))>1:\n",
    "        # ignore recrods that overlap with labels from multiple partitions\n",
    "        continue\n",
    "    # if no labels in this record have been picked already, add to subset\n",
    "    if not any(j in collapsed_idcs for j in row['overlap']):\n",
    "        collapsed_idcs.append(i)\n",
    "        covered_idcs.extend(row['overlap'])\n",
    "df_sub=df.loc[collapsed_idcs]\n",
    "df_sub.shape"
   ]
  },
  {
   "cell_type": "markdown",
   "metadata": {},
   "source": [
    "Let's update the 'start', 'end' and 'transcription' columns to have the values for each label within the interval."
   ]
  },
  {
   "cell_type": "code",
   "execution_count": 15,
   "metadata": {},
   "outputs": [],
   "source": [
    "get_values_for_overlap_span = lambda idcs, col: df.loc[idcs][col].tolist()\n",
    "\n",
    "df_sub['start_list']=df['overlap'].apply(lambda x: get_values_for_overlap_span(x, 'start'))\n",
    "df_sub['end_list']=df['overlap'].apply(lambda x: get_values_for_overlap_span(x, 'end'))\n",
    "df_sub['trans_list']=df['overlap'].apply(lambda x: get_values_for_overlap_span(x, 'transcription'))"
   ]
  },
  {
   "cell_type": "code",
   "execution_count": 16,
   "metadata": {},
   "outputs": [
    {
     "data": {
      "text/plain": [
       "0        [àprí jɜ̀dí ðáŋàlà, àprí jɜ̀dí ðáŋà...\n",
       "2        [àprí jə̀və̀lɛ̀ðɔ́ ðáŋàlà, àprí jə̀və̀l...\n",
       "5        [àprí jàvə́lɛ̀ðɛ̌ ðàŋàlà, àprí jàvə́l...\n",
       "7        [àprí jávə̀lɛ̀ðɔ́ ðáŋàlà, àprí jávə̀l...\n",
       "10       [àprí jávə̀lɛ̀ðɔ́ ðáŋàlà, àprí jávə̀l...\n",
       "                               ...                        \n",
       "20439                                         [làrdɜ̀dì]\n",
       "20440                                       [lɛ̀àrdɛ̀dì]\n",
       "20455    [là t̪ə́rvàvɛ̀, là t̪ə́rvàvì, lìjàjɔ̀, ...\n",
       "20459    [lìjàjɔ̀, là jájɛ̀, là jájɛ̀, lə̀jàrjɔ́...\n",
       "20466                                   [là bŕɽàɽìðì]\n",
       "Name: trans_list, Length: 5354, dtype: object"
      ]
     },
     "execution_count": 16,
     "metadata": {},
     "output_type": "execute_result"
    }
   ],
   "source": [
    "df_sub['trans_list']"
   ]
  },
  {
   "cell_type": "markdown",
   "metadata": {},
   "source": [
    "Let's load phone embeddings so we can find which records have the most diversity of Tira labels"
   ]
  },
  {
   "cell_type": "code",
   "execution_count": 17,
   "metadata": {},
   "outputs": [
    {
     "data": {
      "text/plain": [
       "torch.Size([20480, 512])"
      ]
     },
     "execution_count": 17,
     "metadata": {},
     "output_type": "execute_result"
    }
   ],
   "source": [
    "import torch\n",
    "from torch.nn.functional import cosine_similarity\n",
    "phone_embed_path='/Users/markjos/projects/malachor5/data/pyarrow-datasets/tira-clean-split/clap_ipa_phone_embeds.pt'\n",
    "embeds=torch.load(phone_embed_path)\n",
    "embeds.shape"
   ]
  },
  {
   "cell_type": "code",
   "execution_count": 18,
   "metadata": {},
   "outputs": [
    {
     "data": {
      "text/plain": [
       "torch.Size([20480])"
      ]
     },
     "execution_count": 18,
     "metadata": {},
     "output_type": "execute_result"
    }
   ],
   "source": [
    "cosine_similarity(embeds, embeds, dim=1).shape"
   ]
  },
  {
   "cell_type": "code",
   "execution_count": 19,
   "metadata": {},
   "outputs": [
    {
     "data": {
      "text/plain": [
       "torch.Size([512])"
      ]
     },
     "execution_count": 19,
     "metadata": {},
     "output_type": "execute_result"
    }
   ],
   "source": [
    "embeds.mean(dim=0).shape"
   ]
  },
  {
   "cell_type": "code",
   "execution_count": 20,
   "metadata": {},
   "outputs": [
    {
     "data": {
      "text/plain": [
       "<Axes: >"
      ]
     },
     "execution_count": 20,
     "metadata": {},
     "output_type": "execute_result"
    },
    {
     "data": {
      "image/png": "[encoded data removed]",
      "text/plain": [
       "<Figure size 432x288 with 1 Axes>"
      ]
     },
     "metadata": {
      "needs_background": "light"
     },
     "output_type": "display_data"
    }
   ],
   "source": [
    "def pairwise_cos_sim(idcs):\n",
    "    if len(idcs)==0:\n",
    "        return 1\n",
    "    embed_list=[]\n",
    "    comparanda=[]\n",
    "    for i in idcs:\n",
    "        embed=embeds[i]\n",
    "        other_idcs = [j for j in idcs if j!=i]\n",
    "        other_embeds = embeds[other_idcs]\n",
    "        embed_list.append(embed)\n",
    "        comparanda.append(other_embeds.mean(dim=0))\n",
    "    return cosine_similarity(torch.stack(embed_list), torch.stack(comparanda)).mean().item()\n",
    "\n",
    "df_sub['pairwise_cos_sim']=df_sub['overlap'].apply(pairwise_cos_sim)\n",
    "df_sub.boxplot('pairwise_cos_sim')"
   ]
  },
  {
   "cell_type": "code",
   "execution_count": 29,
   "metadata": {},
   "outputs": [
    {
     "data": {
      "text/html": [
       "<div>\n",
       "<style scoped>\n",
       "    .dataframe tbody tr th:only-of-type {\n",
       "        vertical-align: middle;\n",
       "    }\n",
       "\n",
       "    .dataframe tbody tr th {\n",
       "        vertical-align: top;\n",
       "    }\n",
       "\n",
       "    .dataframe thead th {\n",
       "        text-align: right;\n",
       "    }\n",
       "</style>\n",
       "<table border=\"1\" class=\"dataframe\">\n",
       "  <thead>\n",
       "    <tr style=\"text-align: right;\">\n",
       "      <th></th>\n",
       "      <th>old_start</th>\n",
       "      <th>old_end</th>\n",
       "      <th>transcription</th>\n",
       "      <th>eaf_source</th>\n",
       "      <th>wav_source</th>\n",
       "      <th>raw_transcription</th>\n",
       "      <th>clip</th>\n",
       "      <th>wav_rawpath</th>\n",
       "      <th>path</th>\n",
       "      <th>allosaurus</th>\n",
       "      <th>...</th>\n",
       "      <th>split</th>\n",
       "      <th>start</th>\n",
       "      <th>end</th>\n",
       "      <th>overlap</th>\n",
       "      <th>num_overlap</th>\n",
       "      <th>overlap_split</th>\n",
       "      <th>start_list</th>\n",
       "      <th>end_list</th>\n",
       "      <th>trans_list</th>\n",
       "      <th>pairwise_cos_sim</th>\n",
       "    </tr>\n",
       "  </thead>\n",
       "  <tbody>\n",
       "    <tr>\n",
       "      <th>0</th>\n",
       "      <td>217011.0</td>\n",
       "      <td>219552.0</td>\n",
       "      <td>àprí jɜ̀dí ðáŋàlà</td>\n",
       "      <td>/Users/markjos/Library/CloudStorage/GoogleDriv...</td>\n",
       "      <td>/Users/markjos/Library/CloudStorage/GoogleDriv...</td>\n",
       "      <td>àprí jɜ̀dí ðáŋàlà</td>\n",
       "      <td>data/tira-asr/clips/HH01082021-m03s37ms011-m03...</td>\n",
       "      <td>/Users/markjos/Library/CloudStorage/GoogleDriv...</td>\n",
       "      <td>HH01082021-m03s37ms011-m03s39ms552.wav</td>\n",
       "      <td>a e i a d i ɡ a m a l a</td>\n",
       "      <td>...</td>\n",
       "      <td>train</td>\n",
       "      <td>187011.0</td>\n",
       "      <td>249552.0</td>\n",
       "      <td>[0, 1]</td>\n",
       "      <td>2</td>\n",
       "      <td>[train, train]</td>\n",
       "      <td>[217011.0, 221371.0]</td>\n",
       "      <td>[219552.0, 225023.0]</td>\n",
       "      <td>[àprí jɜ̀dí ðáŋàlà, àprí jɜ̀dí ðáŋà...</td>\n",
       "      <td>0.659426</td>\n",
       "    </tr>\n",
       "    <tr>\n",
       "      <th>2</th>\n",
       "      <td>283401.0</td>\n",
       "      <td>286528.0</td>\n",
       "      <td>àprí jə̀və̀lɛ̀ðɔ́ ðáŋàlà</td>\n",
       "      <td>/Users/markjos/Library/CloudStorage/GoogleDriv...</td>\n",
       "      <td>/Users/markjos/Library/CloudStorage/GoogleDriv...</td>\n",
       "      <td>àprí jə̀və̀lɛ̀ðɔ́ ðáŋàlà</td>\n",
       "      <td>data/tira-asr/clips/HH01082021-m04s43ms401-m04...</td>\n",
       "      <td>/Users/markjos/Library/CloudStorage/GoogleDriv...</td>\n",
       "      <td>HH01082021-m04s43ms401-m04s46ms528.wav</td>\n",
       "      <td>a p e i e p e l e ð a l a m a l a</td>\n",
       "      <td>...</td>\n",
       "      <td>train</td>\n",
       "      <td>253401.0</td>\n",
       "      <td>316528.0</td>\n",
       "      <td>[2, 3, 4]</td>\n",
       "      <td>3</td>\n",
       "      <td>[train, train, train]</td>\n",
       "      <td>[283401.0, 288835.0, 304737.0]</td>\n",
       "      <td>[286528.0, 291580.0, 307762.0]</td>\n",
       "      <td>[àprí jə̀və̀lɛ̀ðɔ́ ðáŋàlà, àprí jə̀və̀l...</td>\n",
       "      <td>0.270774</td>\n",
       "    </tr>\n",
       "    <tr>\n",
       "      <th>5</th>\n",
       "      <td>373451.0</td>\n",
       "      <td>377362.0</td>\n",
       "      <td>àprí jàvə́lɛ̀ðɛ̌ ðàŋàlà</td>\n",
       "      <td>/Users/markjos/Library/CloudStorage/GoogleDriv...</td>\n",
       "      <td>/Users/markjos/Library/CloudStorage/GoogleDriv...</td>\n",
       "      <td>àprí jàvə́lɛ̀ðɛ̌ ðàŋàlà</td>\n",
       "      <td>data/tira-asr/clips/HH01082021-m06s13ms451-m06...</td>\n",
       "      <td>/Users/markjos/Library/CloudStorage/GoogleDriv...</td>\n",
       "      <td>HH01082021-m06s13ms451-m06s17ms362.wav</td>\n",
       "      <td>a p i j a b ɛ l ɛ j e d e b a ŋ a l a</td>\n",
       "      <td>...</td>\n",
       "      <td>train</td>\n",
       "      <td>343451.0</td>\n",
       "      <td>407362.0</td>\n",
       "      <td>[5, 6]</td>\n",
       "      <td>2</td>\n",
       "      <td>[train, train]</td>\n",
       "      <td>[373451.0, 378899.0]</td>\n",
       "      <td>[377362.0, 383279.0]</td>\n",
       "      <td>[àprí jàvə́lɛ̀ðɛ̌ ðàŋàlà, àprí jàvə́l...</td>\n",
       "      <td>0.285611</td>\n",
       "    </tr>\n",
       "    <tr>\n",
       "      <th>7</th>\n",
       "      <td>514659.0</td>\n",
       "      <td>518038.0</td>\n",
       "      <td>àprí jávə̀lɛ̀ðɔ́ ðáŋàlà</td>\n",
       "      <td>/Users/markjos/Library/CloudStorage/GoogleDriv...</td>\n",
       "      <td>/Users/markjos/Library/CloudStorage/GoogleDriv...</td>\n",
       "      <td>àprí jávə̀lɛ̀ðɔ́ ðáŋàlà</td>\n",
       "      <td>data/tira-asr/clips/HH01082021-m08s34ms659-m08...</td>\n",
       "      <td>/Users/markjos/Library/CloudStorage/GoogleDriv...</td>\n",
       "      <td>HH01082021-m08s34ms659-m08s38ms038.wav</td>\n",
       "      <td>a p r e ʂ i j a b ɛ l i ð ɔ r a ŋ a n a</td>\n",
       "      <td>...</td>\n",
       "      <td>train</td>\n",
       "      <td>484659.0</td>\n",
       "      <td>548038.0</td>\n",
       "      <td>[7, 8, 9]</td>\n",
       "      <td>3</td>\n",
       "      <td>[train, train, train]</td>\n",
       "      <td>[514659.0, 524380.0, 540389.0]</td>\n",
       "      <td>[518038.0, 527963.0, 543475.0]</td>\n",
       "      <td>[àprí jávə̀lɛ̀ðɔ́ ðáŋàlà, àprí jávə̀l...</td>\n",
       "      <td>0.690790</td>\n",
       "    </tr>\n",
       "    <tr>\n",
       "      <th>10</th>\n",
       "      <td>564731.0</td>\n",
       "      <td>567740.0</td>\n",
       "      <td>àprí jávə̀lɛ̀ðɔ́ ðáŋàlà</td>\n",
       "      <td>/Users/markjos/Library/CloudStorage/GoogleDriv...</td>\n",
       "      <td>/Users/markjos/Library/CloudStorage/GoogleDriv...</td>\n",
       "      <td>àprí jávə̀lɛ̀ðɔ́ ðáŋàlà</td>\n",
       "      <td>data/tira-asr/clips/HH01082021-m09s24ms731-m09...</td>\n",
       "      <td>/Users/markjos/Library/CloudStorage/GoogleDriv...</td>\n",
       "      <td>HH01082021-m09s24ms731-m09s27ms740.wav</td>\n",
       "      <td>a e a b l e ð e ð a m a ð a</td>\n",
       "      <td>...</td>\n",
       "      <td>train</td>\n",
       "      <td>534731.0</td>\n",
       "      <td>597740.0</td>\n",
       "      <td>[9, 10, 11]</td>\n",
       "      <td>3</td>\n",
       "      <td>[train, train, train]</td>\n",
       "      <td>[540389.0, 564731.0, 590317.0]</td>\n",
       "      <td>[543475.0, 567740.0, 593363.0]</td>\n",
       "      <td>[àprí jávə̀lɛ̀ðɔ́ ðáŋàlà, àprí jávə̀l...</td>\n",
       "      <td>0.920946</td>\n",
       "    </tr>\n",
       "  </tbody>\n",
       "</table>\n",
       "<p>5 rows × 36 columns</p>\n",
       "</div>"
      ],
      "text/plain": [
       "    old_start   old_end                  transcription  \\\n",
       "0    217011.0  219552.0        àprí jɜ̀dí ðáŋàlà   \n",
       "2    283401.0  286528.0  àprí jə̀və̀lɛ̀ðɔ́ ðáŋàlà   \n",
       "5    373451.0  377362.0  àprí jàvə́lɛ̀ðɛ̌ ðàŋàlà   \n",
       "7    514659.0  518038.0  àprí jávə̀lɛ̀ðɔ́ ðáŋàlà   \n",
       "10   564731.0  567740.0  àprí jávə̀lɛ̀ðɔ́ ðáŋàlà   \n",
       "\n",
       "                                           eaf_source  \\\n",
       "0   /Users/markjos/Library/CloudStorage/GoogleDriv...   \n",
       "2   /Users/markjos/Library/CloudStorage/GoogleDriv...   \n",
       "5   /Users/markjos/Library/CloudStorage/GoogleDriv...   \n",
       "7   /Users/markjos/Library/CloudStorage/GoogleDriv...   \n",
       "10  /Users/markjos/Library/CloudStorage/GoogleDriv...   \n",
       "\n",
       "                                           wav_source  \\\n",
       "0   /Users/markjos/Library/CloudStorage/GoogleDriv...   \n",
       "2   /Users/markjos/Library/CloudStorage/GoogleDriv...   \n",
       "5   /Users/markjos/Library/CloudStorage/GoogleDriv...   \n",
       "7   /Users/markjos/Library/CloudStorage/GoogleDriv...   \n",
       "10  /Users/markjos/Library/CloudStorage/GoogleDriv...   \n",
       "\n",
       "                raw_transcription  \\\n",
       "0         àprí jɜ̀dí ðáŋàlà   \n",
       "2   àprí jə̀və̀lɛ̀ðɔ́ ðáŋàlà   \n",
       "5   àprí jàvə́lɛ̀ðɛ̌ ðàŋàlà   \n",
       "7   àprí jávə̀lɛ̀ðɔ́ ðáŋàlà   \n",
       "10  àprí jávə̀lɛ̀ðɔ́ ðáŋàlà   \n",
       "\n",
       "                                                 clip  \\\n",
       "0   data/tira-asr/clips/HH01082021-m03s37ms011-m03...   \n",
       "2   data/tira-asr/clips/HH01082021-m04s43ms401-m04...   \n",
       "5   data/tira-asr/clips/HH01082021-m06s13ms451-m06...   \n",
       "7   data/tira-asr/clips/HH01082021-m08s34ms659-m08...   \n",
       "10  data/tira-asr/clips/HH01082021-m09s24ms731-m09...   \n",
       "\n",
       "                                          wav_rawpath  \\\n",
       "0   /Users/markjos/Library/CloudStorage/GoogleDriv...   \n",
       "2   /Users/markjos/Library/CloudStorage/GoogleDriv...   \n",
       "5   /Users/markjos/Library/CloudStorage/GoogleDriv...   \n",
       "7   /Users/markjos/Library/CloudStorage/GoogleDriv...   \n",
       "10  /Users/markjos/Library/CloudStorage/GoogleDriv...   \n",
       "\n",
       "                                      path  \\\n",
       "0   HH01082021-m03s37ms011-m03s39ms552.wav   \n",
       "2   HH01082021-m04s43ms401-m04s46ms528.wav   \n",
       "5   HH01082021-m06s13ms451-m06s17ms362.wav   \n",
       "7   HH01082021-m08s34ms659-m08s38ms038.wav   \n",
       "10  HH01082021-m09s24ms731-m09s27ms740.wav   \n",
       "\n",
       "                                 allosaurus  ...  split     start       end  \\\n",
       "0                   a e i a d i ɡ a m a l a  ...  train  187011.0  249552.0   \n",
       "2         a p e i e p e l e ð a l a m a l a  ...  train  253401.0  316528.0   \n",
       "5     a p i j a b ɛ l ɛ j e d e b a ŋ a l a  ...  train  343451.0  407362.0   \n",
       "7   a p r e ʂ i j a b ɛ l i ð ɔ r a ŋ a n a  ...  train  484659.0  548038.0   \n",
       "10              a e a b l e ð e ð a m a ð a  ...  train  534731.0  597740.0   \n",
       "\n",
       "        overlap num_overlap          overlap_split  \\\n",
       "0        [0, 1]           2         [train, train]   \n",
       "2     [2, 3, 4]           3  [train, train, train]   \n",
       "5        [5, 6]           2         [train, train]   \n",
       "7     [7, 8, 9]           3  [train, train, train]   \n",
       "10  [9, 10, 11]           3  [train, train, train]   \n",
       "\n",
       "                        start_list                        end_list  \\\n",
       "0             [217011.0, 221371.0]            [219552.0, 225023.0]   \n",
       "2   [283401.0, 288835.0, 304737.0]  [286528.0, 291580.0, 307762.0]   \n",
       "5             [373451.0, 378899.0]            [377362.0, 383279.0]   \n",
       "7   [514659.0, 524380.0, 540389.0]  [518038.0, 527963.0, 543475.0]   \n",
       "10  [540389.0, 564731.0, 590317.0]  [543475.0, 567740.0, 593363.0]   \n",
       "\n",
       "                                           trans_list  pairwise_cos_sim  \n",
       "0   [àprí jɜ̀dí ðáŋàlà, àprí jɜ̀dí ðáŋà...          0.659426  \n",
       "2   [àprí jə̀və̀lɛ̀ðɔ́ ðáŋàlà, àprí jə̀və̀l...          0.270774  \n",
       "5   [àprí jàvə́lɛ̀ðɛ̌ ðàŋàlà, àprí jàvə́l...          0.285611  \n",
       "7   [àprí jávə̀lɛ̀ðɔ́ ðáŋàlà, àprí jávə̀l...          0.690790  \n",
       "10  [àprí jávə̀lɛ̀ðɔ́ ðáŋàlà, àprí jávə̀l...          0.920946  \n",
       "\n",
       "[5 rows x 36 columns]"
      ]
     },
     "execution_count": 29,
     "metadata": {},
     "output_type": "execute_result"
    }
   ],
   "source": [
    "df_sub=df_sub.rename({\n",
    "    'start':'old_start',\n",
    "    'end':'old_end',\n",
    "    'long_start':'start',\n",
    "    'long_end':'end',\n",
    "}, axis=1)\n",
    "df_sub.head()"
   ]
  },
  {
   "cell_type": "code",
   "execution_count": 34,
   "metadata": {},
   "outputs": [
    {
     "data": {
      "text/html": [
       "<div>\n",
       "<style scoped>\n",
       "    .dataframe tbody tr th:only-of-type {\n",
       "        vertical-align: middle;\n",
       "    }\n",
       "\n",
       "    .dataframe tbody tr th {\n",
       "        vertical-align: top;\n",
       "    }\n",
       "\n",
       "    .dataframe thead th {\n",
       "        text-align: right;\n",
       "    }\n",
       "</style>\n",
       "<table border=\"1\" class=\"dataframe\">\n",
       "  <thead>\n",
       "    <tr style=\"text-align: right;\">\n",
       "      <th></th>\n",
       "      <th>old_start</th>\n",
       "      <th>old_end</th>\n",
       "      <th>transcription</th>\n",
       "      <th>eaf_source</th>\n",
       "      <th>wav_source</th>\n",
       "      <th>raw_transcription</th>\n",
       "      <th>clip</th>\n",
       "      <th>wav_rawpath</th>\n",
       "      <th>path</th>\n",
       "      <th>allosaurus</th>\n",
       "      <th>...</th>\n",
       "      <th>split</th>\n",
       "      <th>start</th>\n",
       "      <th>end</th>\n",
       "      <th>overlap</th>\n",
       "      <th>num_overlap</th>\n",
       "      <th>overlap_split</th>\n",
       "      <th>start_list</th>\n",
       "      <th>end_list</th>\n",
       "      <th>trans_list</th>\n",
       "      <th>pairwise_cos_sim</th>\n",
       "    </tr>\n",
       "  </thead>\n",
       "  <tbody>\n",
       "    <tr>\n",
       "      <th>0</th>\n",
       "      <td>217011</td>\n",
       "      <td>219552</td>\n",
       "      <td>àprí jɜ̀dí ðáŋàlà</td>\n",
       "      <td>/Users/markjos/Library/CloudStorage/GoogleDriv...</td>\n",
       "      <td>/Users/markjos/Library/CloudStorage/GoogleDriv...</td>\n",
       "      <td>àprí jɜ̀dí ðáŋàlà</td>\n",
       "      <td>data/tira-asr/clips/HH01082021-m03s37ms011-m03...</td>\n",
       "      <td>/Users/markjos/Library/CloudStorage/GoogleDriv...</td>\n",
       "      <td>HH01082021-m03s37ms011-m03s39ms552.wav</td>\n",
       "      <td>a e i a d i ɡ a m a l a</td>\n",
       "      <td>...</td>\n",
       "      <td>train</td>\n",
       "      <td>187011</td>\n",
       "      <td>249552</td>\n",
       "      <td>[0, 1]</td>\n",
       "      <td>2</td>\n",
       "      <td>[train, train]</td>\n",
       "      <td>[217011.0, 221371.0]</td>\n",
       "      <td>[219552.0, 225023.0]</td>\n",
       "      <td>[àprí jɜ̀dí ðáŋàlà, àprí jɜ̀dí ðáŋà...</td>\n",
       "      <td>0.659426</td>\n",
       "    </tr>\n",
       "    <tr>\n",
       "      <th>2</th>\n",
       "      <td>283401</td>\n",
       "      <td>286528</td>\n",
       "      <td>àprí jə̀və̀lɛ̀ðɔ́ ðáŋàlà</td>\n",
       "      <td>/Users/markjos/Library/CloudStorage/GoogleDriv...</td>\n",
       "      <td>/Users/markjos/Library/CloudStorage/GoogleDriv...</td>\n",
       "      <td>àprí jə̀və̀lɛ̀ðɔ́ ðáŋàlà</td>\n",
       "      <td>data/tira-asr/clips/HH01082021-m04s43ms401-m04...</td>\n",
       "      <td>/Users/markjos/Library/CloudStorage/GoogleDriv...</td>\n",
       "      <td>HH01082021-m04s43ms401-m04s46ms528.wav</td>\n",
       "      <td>a p e i e p e l e ð a l a m a l a</td>\n",
       "      <td>...</td>\n",
       "      <td>train</td>\n",
       "      <td>253401</td>\n",
       "      <td>316528</td>\n",
       "      <td>[2, 3, 4]</td>\n",
       "      <td>3</td>\n",
       "      <td>[train, train, train]</td>\n",
       "      <td>[283401.0, 288835.0, 304737.0]</td>\n",
       "      <td>[286528.0, 291580.0, 307762.0]</td>\n",
       "      <td>[àprí jə̀və̀lɛ̀ðɔ́ ðáŋàlà, àprí jə̀və̀l...</td>\n",
       "      <td>0.270774</td>\n",
       "    </tr>\n",
       "    <tr>\n",
       "      <th>5</th>\n",
       "      <td>373451</td>\n",
       "      <td>377362</td>\n",
       "      <td>àprí jàvə́lɛ̀ðɛ̌ ðàŋàlà</td>\n",
       "      <td>/Users/markjos/Library/CloudStorage/GoogleDriv...</td>\n",
       "      <td>/Users/markjos/Library/CloudStorage/GoogleDriv...</td>\n",
       "      <td>àprí jàvə́lɛ̀ðɛ̌ ðàŋàlà</td>\n",
       "      <td>data/tira-asr/clips/HH01082021-m06s13ms451-m06...</td>\n",
       "      <td>/Users/markjos/Library/CloudStorage/GoogleDriv...</td>\n",
       "      <td>HH01082021-m06s13ms451-m06s17ms362.wav</td>\n",
       "      <td>a p i j a b ɛ l ɛ j e d e b a ŋ a l a</td>\n",
       "      <td>...</td>\n",
       "      <td>train</td>\n",
       "      <td>343451</td>\n",
       "      <td>407362</td>\n",
       "      <td>[5, 6]</td>\n",
       "      <td>2</td>\n",
       "      <td>[train, train]</td>\n",
       "      <td>[373451.0, 378899.0]</td>\n",
       "      <td>[377362.0, 383279.0]</td>\n",
       "      <td>[àprí jàvə́lɛ̀ðɛ̌ ðàŋàlà, àprí jàvə́l...</td>\n",
       "      <td>0.285611</td>\n",
       "    </tr>\n",
       "    <tr>\n",
       "      <th>7</th>\n",
       "      <td>514659</td>\n",
       "      <td>518038</td>\n",
       "      <td>àprí jávə̀lɛ̀ðɔ́ ðáŋàlà</td>\n",
       "      <td>/Users/markjos/Library/CloudStorage/GoogleDriv...</td>\n",
       "      <td>/Users/markjos/Library/CloudStorage/GoogleDriv...</td>\n",
       "      <td>àprí jávə̀lɛ̀ðɔ́ ðáŋàlà</td>\n",
       "      <td>data/tira-asr/clips/HH01082021-m08s34ms659-m08...</td>\n",
       "      <td>/Users/markjos/Library/CloudStorage/GoogleDriv...</td>\n",
       "      <td>HH01082021-m08s34ms659-m08s38ms038.wav</td>\n",
       "      <td>a p r e ʂ i j a b ɛ l i ð ɔ r a ŋ a n a</td>\n",
       "      <td>...</td>\n",
       "      <td>train</td>\n",
       "      <td>484659</td>\n",
       "      <td>548038</td>\n",
       "      <td>[7, 8, 9]</td>\n",
       "      <td>3</td>\n",
       "      <td>[train, train, train]</td>\n",
       "      <td>[514659.0, 524380.0, 540389.0]</td>\n",
       "      <td>[518038.0, 527963.0, 543475.0]</td>\n",
       "      <td>[àprí jávə̀lɛ̀ðɔ́ ðáŋàlà, àprí jávə̀l...</td>\n",
       "      <td>0.690790</td>\n",
       "    </tr>\n",
       "    <tr>\n",
       "      <th>10</th>\n",
       "      <td>564731</td>\n",
       "      <td>567740</td>\n",
       "      <td>àprí jávə̀lɛ̀ðɔ́ ðáŋàlà</td>\n",
       "      <td>/Users/markjos/Library/CloudStorage/GoogleDriv...</td>\n",
       "      <td>/Users/markjos/Library/CloudStorage/GoogleDriv...</td>\n",
       "      <td>àprí jávə̀lɛ̀ðɔ́ ðáŋàlà</td>\n",
       "      <td>data/tira-asr/clips/HH01082021-m09s24ms731-m09...</td>\n",
       "      <td>/Users/markjos/Library/CloudStorage/GoogleDriv...</td>\n",
       "      <td>HH01082021-m09s24ms731-m09s27ms740.wav</td>\n",
       "      <td>a e a b l e ð e ð a m a ð a</td>\n",
       "      <td>...</td>\n",
       "      <td>train</td>\n",
       "      <td>534731</td>\n",
       "      <td>597740</td>\n",
       "      <td>[9, 10, 11]</td>\n",
       "      <td>3</td>\n",
       "      <td>[train, train, train]</td>\n",
       "      <td>[540389.0, 564731.0, 590317.0]</td>\n",
       "      <td>[543475.0, 567740.0, 593363.0]</td>\n",
       "      <td>[àprí jávə̀lɛ̀ðɔ́ ðáŋàlà, àprí jávə̀l...</td>\n",
       "      <td>0.920946</td>\n",
       "    </tr>\n",
       "  </tbody>\n",
       "</table>\n",
       "<p>5 rows × 36 columns</p>\n",
       "</div>"
      ],
      "text/plain": [
       "    old_start  old_end                  transcription  \\\n",
       "0      217011   219552        àprí jɜ̀dí ðáŋàlà   \n",
       "2      283401   286528  àprí jə̀və̀lɛ̀ðɔ́ ðáŋàlà   \n",
       "5      373451   377362  àprí jàvə́lɛ̀ðɛ̌ ðàŋàlà   \n",
       "7      514659   518038  àprí jávə̀lɛ̀ðɔ́ ðáŋàlà   \n",
       "10     564731   567740  àprí jávə̀lɛ̀ðɔ́ ðáŋàlà   \n",
       "\n",
       "                                           eaf_source  \\\n",
       "0   /Users/markjos/Library/CloudStorage/GoogleDriv...   \n",
       "2   /Users/markjos/Library/CloudStorage/GoogleDriv...   \n",
       "5   /Users/markjos/Library/CloudStorage/GoogleDriv...   \n",
       "7   /Users/markjos/Library/CloudStorage/GoogleDriv...   \n",
       "10  /Users/markjos/Library/CloudStorage/GoogleDriv...   \n",
       "\n",
       "                                           wav_source  \\\n",
       "0   /Users/markjos/Library/CloudStorage/GoogleDriv...   \n",
       "2   /Users/markjos/Library/CloudStorage/GoogleDriv...   \n",
       "5   /Users/markjos/Library/CloudStorage/GoogleDriv...   \n",
       "7   /Users/markjos/Library/CloudStorage/GoogleDriv...   \n",
       "10  /Users/markjos/Library/CloudStorage/GoogleDriv...   \n",
       "\n",
       "                raw_transcription  \\\n",
       "0         àprí jɜ̀dí ðáŋàlà   \n",
       "2   àprí jə̀və̀lɛ̀ðɔ́ ðáŋàlà   \n",
       "5   àprí jàvə́lɛ̀ðɛ̌ ðàŋàlà   \n",
       "7   àprí jávə̀lɛ̀ðɔ́ ðáŋàlà   \n",
       "10  àprí jávə̀lɛ̀ðɔ́ ðáŋàlà   \n",
       "\n",
       "                                                 clip  \\\n",
       "0   data/tira-asr/clips/HH01082021-m03s37ms011-m03...   \n",
       "2   data/tira-asr/clips/HH01082021-m04s43ms401-m04...   \n",
       "5   data/tira-asr/clips/HH01082021-m06s13ms451-m06...   \n",
       "7   data/tira-asr/clips/HH01082021-m08s34ms659-m08...   \n",
       "10  data/tira-asr/clips/HH01082021-m09s24ms731-m09...   \n",
       "\n",
       "                                          wav_rawpath  \\\n",
       "0   /Users/markjos/Library/CloudStorage/GoogleDriv...   \n",
       "2   /Users/markjos/Library/CloudStorage/GoogleDriv...   \n",
       "5   /Users/markjos/Library/CloudStorage/GoogleDriv...   \n",
       "7   /Users/markjos/Library/CloudStorage/GoogleDriv...   \n",
       "10  /Users/markjos/Library/CloudStorage/GoogleDriv...   \n",
       "\n",
       "                                      path  \\\n",
       "0   HH01082021-m03s37ms011-m03s39ms552.wav   \n",
       "2   HH01082021-m04s43ms401-m04s46ms528.wav   \n",
       "5   HH01082021-m06s13ms451-m06s17ms362.wav   \n",
       "7   HH01082021-m08s34ms659-m08s38ms038.wav   \n",
       "10  HH01082021-m09s24ms731-m09s27ms740.wav   \n",
       "\n",
       "                                 allosaurus  ...  split   start     end  \\\n",
       "0                   a e i a d i ɡ a m a l a  ...  train  187011  249552   \n",
       "2         a p e i e p e l e ð a l a m a l a  ...  train  253401  316528   \n",
       "5     a p i j a b ɛ l ɛ j e d e b a ŋ a l a  ...  train  343451  407362   \n",
       "7   a p r e ʂ i j a b ɛ l i ð ɔ r a ŋ a n a  ...  train  484659  548038   \n",
       "10              a e a b l e ð e ð a m a ð a  ...  train  534731  597740   \n",
       "\n",
       "        overlap num_overlap          overlap_split  \\\n",
       "0        [0, 1]           2         [train, train]   \n",
       "2     [2, 3, 4]           3  [train, train, train]   \n",
       "5        [5, 6]           2         [train, train]   \n",
       "7     [7, 8, 9]           3  [train, train, train]   \n",
       "10  [9, 10, 11]           3  [train, train, train]   \n",
       "\n",
       "                        start_list                        end_list  \\\n",
       "0             [217011.0, 221371.0]            [219552.0, 225023.0]   \n",
       "2   [283401.0, 288835.0, 304737.0]  [286528.0, 291580.0, 307762.0]   \n",
       "5             [373451.0, 378899.0]            [377362.0, 383279.0]   \n",
       "7   [514659.0, 524380.0, 540389.0]  [518038.0, 527963.0, 543475.0]   \n",
       "10  [540389.0, 564731.0, 590317.0]  [543475.0, 567740.0, 593363.0]   \n",
       "\n",
       "                                           trans_list  pairwise_cos_sim  \n",
       "0   [àprí jɜ̀dí ðáŋàlà, àprí jɜ̀dí ðáŋà...          0.659426  \n",
       "2   [àprí jə̀və̀lɛ̀ðɔ́ ðáŋàlà, àprí jə̀və̀l...          0.270774  \n",
       "5   [àprí jàvə́lɛ̀ðɛ̌ ðàŋàlà, àprí jàvə́l...          0.285611  \n",
       "7   [àprí jávə̀lɛ̀ðɔ́ ðáŋàlà, àprí jávə̀l...          0.690790  \n",
       "10  [àprí jávə̀lɛ̀ðɔ́ ðáŋàlà, àprí jávə̀l...          0.920946  \n",
       "\n",
       "[5 rows x 36 columns]"
      ]
     },
     "execution_count": 34,
     "metadata": {},
     "output_type": "execute_result"
    }
   ],
   "source": [
    "for column in ['start', 'end', 'old_start', 'old_end']:\n",
    "    df_sub[column]=df_sub[column].astype(int)\n",
    "df_sub.head()"
   ]
  },
  {
   "cell_type": "code",
   "execution_count": 104,
   "metadata": {},
   "outputs": [],
   "source": [
    "codemixed_csv='../data/tira-code-mixed/metadata.csv'"
   ]
  },
  {
   "cell_type": "code",
   "execution_count": null,
   "metadata": {},
   "outputs": [],
   "source": [
    "df_sub.to_csv(codemixed_csv, index=False)"
   ]
  },
  {
   "cell_type": "code",
   "execution_count": 105,
   "metadata": {},
   "outputs": [
    {
     "data": {
      "text/html": [
       "<div>\n",
       "<style scoped>\n",
       "    .dataframe tbody tr th:only-of-type {\n",
       "        vertical-align: middle;\n",
       "    }\n",
       "\n",
       "    .dataframe tbody tr th {\n",
       "        vertical-align: top;\n",
       "    }\n",
       "\n",
       "    .dataframe thead th {\n",
       "        text-align: right;\n",
       "    }\n",
       "</style>\n",
       "<table border=\"1\" class=\"dataframe\">\n",
       "  <thead>\n",
       "    <tr style=\"text-align: right;\">\n",
       "      <th></th>\n",
       "      <th>old_start</th>\n",
       "      <th>old_end</th>\n",
       "      <th>transcription</th>\n",
       "      <th>eaf_source</th>\n",
       "      <th>wav_source</th>\n",
       "      <th>raw_transcription</th>\n",
       "      <th>clip</th>\n",
       "      <th>wav_rawpath</th>\n",
       "      <th>path</th>\n",
       "      <th>allosaurus</th>\n",
       "      <th>...</th>\n",
       "      <th>split</th>\n",
       "      <th>start</th>\n",
       "      <th>end</th>\n",
       "      <th>overlap</th>\n",
       "      <th>num_overlap</th>\n",
       "      <th>overlap_split</th>\n",
       "      <th>start_list</th>\n",
       "      <th>end_list</th>\n",
       "      <th>trans_list</th>\n",
       "      <th>pairwise_cos_sim</th>\n",
       "    </tr>\n",
       "  </thead>\n",
       "  <tbody>\n",
       "    <tr>\n",
       "      <th>0</th>\n",
       "      <td>217011</td>\n",
       "      <td>219552</td>\n",
       "      <td>àprí jɜ̀dí ðáŋàlà</td>\n",
       "      <td>/Users/markjos/Library/CloudStorage/GoogleDriv...</td>\n",
       "      <td>/Users/markjos/Library/CloudStorage/GoogleDriv...</td>\n",
       "      <td>àprí jɜ̀dí ðáŋàlà</td>\n",
       "      <td>data/tira-asr/clips/HH01082021-m03s37ms011-m03...</td>\n",
       "      <td>/Users/markjos/Library/CloudStorage/GoogleDriv...</td>\n",
       "      <td>HH01082021-m03s37ms011-m03s39ms552.wav</td>\n",
       "      <td>a e i a d i ɡ a m a l a</td>\n",
       "      <td>...</td>\n",
       "      <td>train</td>\n",
       "      <td>187011</td>\n",
       "      <td>249552</td>\n",
       "      <td>[0, 1]</td>\n",
       "      <td>2</td>\n",
       "      <td>['train', 'train']</td>\n",
       "      <td>[217011.0, 221371.0]</td>\n",
       "      <td>[219552.0, 225023.0]</td>\n",
       "      <td>['àprí jɜ̀dí ðáŋàlà', 'àprí jɜ̀dí ðá...</td>\n",
       "      <td>0.659426</td>\n",
       "    </tr>\n",
       "    <tr>\n",
       "      <th>1</th>\n",
       "      <td>283401</td>\n",
       "      <td>286528</td>\n",
       "      <td>àprí jə̀və̀lɛ̀ðɔ́ ðáŋàlà</td>\n",
       "      <td>/Users/markjos/Library/CloudStorage/GoogleDriv...</td>\n",
       "      <td>/Users/markjos/Library/CloudStorage/GoogleDriv...</td>\n",
       "      <td>àprí jə̀və̀lɛ̀ðɔ́ ðáŋàlà</td>\n",
       "      <td>data/tira-asr/clips/HH01082021-m04s43ms401-m04...</td>\n",
       "      <td>/Users/markjos/Library/CloudStorage/GoogleDriv...</td>\n",
       "      <td>HH01082021-m04s43ms401-m04s46ms528.wav</td>\n",
       "      <td>a p e i e p e l e ð a l a m a l a</td>\n",
       "      <td>...</td>\n",
       "      <td>train</td>\n",
       "      <td>253401</td>\n",
       "      <td>316528</td>\n",
       "      <td>[2, 3, 4]</td>\n",
       "      <td>3</td>\n",
       "      <td>['train', 'train', 'train']</td>\n",
       "      <td>[283401.0, 288835.0, 304737.0]</td>\n",
       "      <td>[286528.0, 291580.0, 307762.0]</td>\n",
       "      <td>['àprí jə̀və̀lɛ̀ðɔ́ ðáŋàlà', 'àprí jə̀v...</td>\n",
       "      <td>0.270774</td>\n",
       "    </tr>\n",
       "    <tr>\n",
       "      <th>2</th>\n",
       "      <td>373451</td>\n",
       "      <td>377362</td>\n",
       "      <td>àprí jàvə́lɛ̀ðɛ̌ ðàŋàlà</td>\n",
       "      <td>/Users/markjos/Library/CloudStorage/GoogleDriv...</td>\n",
       "      <td>/Users/markjos/Library/CloudStorage/GoogleDriv...</td>\n",
       "      <td>àprí jàvə́lɛ̀ðɛ̌ ðàŋàlà</td>\n",
       "      <td>data/tira-asr/clips/HH01082021-m06s13ms451-m06...</td>\n",
       "      <td>/Users/markjos/Library/CloudStorage/GoogleDriv...</td>\n",
       "      <td>HH01082021-m06s13ms451-m06s17ms362.wav</td>\n",
       "      <td>a p i j a b ɛ l ɛ j e d e b a ŋ a l a</td>\n",
       "      <td>...</td>\n",
       "      <td>train</td>\n",
       "      <td>343451</td>\n",
       "      <td>407362</td>\n",
       "      <td>[5, 6]</td>\n",
       "      <td>2</td>\n",
       "      <td>['train', 'train']</td>\n",
       "      <td>[373451.0, 378899.0]</td>\n",
       "      <td>[377362.0, 383279.0]</td>\n",
       "      <td>['àprí jàvə́lɛ̀ðɛ̌ ðàŋàlà', 'àprí jàv...</td>\n",
       "      <td>0.285611</td>\n",
       "    </tr>\n",
       "    <tr>\n",
       "      <th>3</th>\n",
       "      <td>514659</td>\n",
       "      <td>518038</td>\n",
       "      <td>àprí jávə̀lɛ̀ðɔ́ ðáŋàlà</td>\n",
       "      <td>/Users/markjos/Library/CloudStorage/GoogleDriv...</td>\n",
       "      <td>/Users/markjos/Library/CloudStorage/GoogleDriv...</td>\n",
       "      <td>àprí jávə̀lɛ̀ðɔ́ ðáŋàlà</td>\n",
       "      <td>data/tira-asr/clips/HH01082021-m08s34ms659-m08...</td>\n",
       "      <td>/Users/markjos/Library/CloudStorage/GoogleDriv...</td>\n",
       "      <td>HH01082021-m08s34ms659-m08s38ms038.wav</td>\n",
       "      <td>a p r e ʂ i j a b ɛ l i ð ɔ r a ŋ a n a</td>\n",
       "      <td>...</td>\n",
       "      <td>train</td>\n",
       "      <td>484659</td>\n",
       "      <td>548038</td>\n",
       "      <td>[7, 8, 9]</td>\n",
       "      <td>3</td>\n",
       "      <td>['train', 'train', 'train']</td>\n",
       "      <td>[514659.0, 524380.0, 540389.0]</td>\n",
       "      <td>[518038.0, 527963.0, 543475.0]</td>\n",
       "      <td>['àprí jávə̀lɛ̀ðɔ́ ðáŋàlà', 'àprí jáv...</td>\n",
       "      <td>0.690790</td>\n",
       "    </tr>\n",
       "    <tr>\n",
       "      <th>4</th>\n",
       "      <td>564731</td>\n",
       "      <td>567740</td>\n",
       "      <td>àprí jávə̀lɛ̀ðɔ́ ðáŋàlà</td>\n",
       "      <td>/Users/markjos/Library/CloudStorage/GoogleDriv...</td>\n",
       "      <td>/Users/markjos/Library/CloudStorage/GoogleDriv...</td>\n",
       "      <td>àprí jávə̀lɛ̀ðɔ́ ðáŋàlà</td>\n",
       "      <td>data/tira-asr/clips/HH01082021-m09s24ms731-m09...</td>\n",
       "      <td>/Users/markjos/Library/CloudStorage/GoogleDriv...</td>\n",
       "      <td>HH01082021-m09s24ms731-m09s27ms740.wav</td>\n",
       "      <td>a e a b l e ð e ð a m a ð a</td>\n",
       "      <td>...</td>\n",
       "      <td>train</td>\n",
       "      <td>534731</td>\n",
       "      <td>597740</td>\n",
       "      <td>[9, 10, 11]</td>\n",
       "      <td>3</td>\n",
       "      <td>['train', 'train', 'train']</td>\n",
       "      <td>[540389.0, 564731.0, 590317.0]</td>\n",
       "      <td>[543475.0, 567740.0, 593363.0]</td>\n",
       "      <td>['àprí jávə̀lɛ̀ðɔ́ ðáŋàlà', 'àprí jáv...</td>\n",
       "      <td>0.920946</td>\n",
       "    </tr>\n",
       "  </tbody>\n",
       "</table>\n",
       "<p>5 rows × 36 columns</p>\n",
       "</div>"
      ],
      "text/plain": [
       "   old_start  old_end                  transcription  \\\n",
       "0     217011   219552        àprí jɜ̀dí ðáŋàlà   \n",
       "1     283401   286528  àprí jə̀və̀lɛ̀ðɔ́ ðáŋàlà   \n",
       "2     373451   377362  àprí jàvə́lɛ̀ðɛ̌ ðàŋàlà   \n",
       "3     514659   518038  àprí jávə̀lɛ̀ðɔ́ ðáŋàlà   \n",
       "4     564731   567740  àprí jávə̀lɛ̀ðɔ́ ðáŋàlà   \n",
       "\n",
       "                                          eaf_source  \\\n",
       "0  /Users/markjos/Library/CloudStorage/GoogleDriv...   \n",
       "1  /Users/markjos/Library/CloudStorage/GoogleDriv...   \n",
       "2  /Users/markjos/Library/CloudStorage/GoogleDriv...   \n",
       "3  /Users/markjos/Library/CloudStorage/GoogleDriv...   \n",
       "4  /Users/markjos/Library/CloudStorage/GoogleDriv...   \n",
       "\n",
       "                                          wav_source  \\\n",
       "0  /Users/markjos/Library/CloudStorage/GoogleDriv...   \n",
       "1  /Users/markjos/Library/CloudStorage/GoogleDriv...   \n",
       "2  /Users/markjos/Library/CloudStorage/GoogleDriv...   \n",
       "3  /Users/markjos/Library/CloudStorage/GoogleDriv...   \n",
       "4  /Users/markjos/Library/CloudStorage/GoogleDriv...   \n",
       "\n",
       "               raw_transcription  \\\n",
       "0        àprí jɜ̀dí ðáŋàlà   \n",
       "1  àprí jə̀və̀lɛ̀ðɔ́ ðáŋàlà   \n",
       "2  àprí jàvə́lɛ̀ðɛ̌ ðàŋàlà   \n",
       "3  àprí jávə̀lɛ̀ðɔ́ ðáŋàlà   \n",
       "4  àprí jávə̀lɛ̀ðɔ́ ðáŋàlà   \n",
       "\n",
       "                                                clip  \\\n",
       "0  data/tira-asr/clips/HH01082021-m03s37ms011-m03...   \n",
       "1  data/tira-asr/clips/HH01082021-m04s43ms401-m04...   \n",
       "2  data/tira-asr/clips/HH01082021-m06s13ms451-m06...   \n",
       "3  data/tira-asr/clips/HH01082021-m08s34ms659-m08...   \n",
       "4  data/tira-asr/clips/HH01082021-m09s24ms731-m09...   \n",
       "\n",
       "                                         wav_rawpath  \\\n",
       "0  /Users/markjos/Library/CloudStorage/GoogleDriv...   \n",
       "1  /Users/markjos/Library/CloudStorage/GoogleDriv...   \n",
       "2  /Users/markjos/Library/CloudStorage/GoogleDriv...   \n",
       "3  /Users/markjos/Library/CloudStorage/GoogleDriv...   \n",
       "4  /Users/markjos/Library/CloudStorage/GoogleDriv...   \n",
       "\n",
       "                                     path  \\\n",
       "0  HH01082021-m03s37ms011-m03s39ms552.wav   \n",
       "1  HH01082021-m04s43ms401-m04s46ms528.wav   \n",
       "2  HH01082021-m06s13ms451-m06s17ms362.wav   \n",
       "3  HH01082021-m08s34ms659-m08s38ms038.wav   \n",
       "4  HH01082021-m09s24ms731-m09s27ms740.wav   \n",
       "\n",
       "                                allosaurus  ...  split   start     end  \\\n",
       "0                  a e i a d i ɡ a m a l a  ...  train  187011  249552   \n",
       "1        a p e i e p e l e ð a l a m a l a  ...  train  253401  316528   \n",
       "2    a p i j a b ɛ l ɛ j e d e b a ŋ a l a  ...  train  343451  407362   \n",
       "3  a p r e ʂ i j a b ɛ l i ð ɔ r a ŋ a n a  ...  train  484659  548038   \n",
       "4              a e a b l e ð e ð a m a ð a  ...  train  534731  597740   \n",
       "\n",
       "       overlap num_overlap                overlap_split  \\\n",
       "0       [0, 1]           2           ['train', 'train']   \n",
       "1    [2, 3, 4]           3  ['train', 'train', 'train']   \n",
       "2       [5, 6]           2           ['train', 'train']   \n",
       "3    [7, 8, 9]           3  ['train', 'train', 'train']   \n",
       "4  [9, 10, 11]           3  ['train', 'train', 'train']   \n",
       "\n",
       "                       start_list                        end_list  \\\n",
       "0            [217011.0, 221371.0]            [219552.0, 225023.0]   \n",
       "1  [283401.0, 288835.0, 304737.0]  [286528.0, 291580.0, 307762.0]   \n",
       "2            [373451.0, 378899.0]            [377362.0, 383279.0]   \n",
       "3  [514659.0, 524380.0, 540389.0]  [518038.0, 527963.0, 543475.0]   \n",
       "4  [540389.0, 564731.0, 590317.0]  [543475.0, 567740.0, 593363.0]   \n",
       "\n",
       "                                          trans_list  pairwise_cos_sim  \n",
       "0  ['àprí jɜ̀dí ðáŋàlà', 'àprí jɜ̀dí ðá...          0.659426  \n",
       "1  ['àprí jə̀və̀lɛ̀ðɔ́ ðáŋàlà', 'àprí jə̀v...          0.270774  \n",
       "2  ['àprí jàvə́lɛ̀ðɛ̌ ðàŋàlà', 'àprí jàv...          0.285611  \n",
       "3  ['àprí jávə̀lɛ̀ðɔ́ ðáŋàlà', 'àprí jáv...          0.690790  \n",
       "4  ['àprí jávə̀lɛ̀ðɔ́ ðáŋàlà', 'àprí jáv...          0.920946  \n",
       "\n",
       "[5 rows x 36 columns]"
      ]
     },
     "execution_count": 105,
     "metadata": {},
     "output_type": "execute_result"
    }
   ],
   "source": [
    "df_sub=pd.read_csv(codemixed_csv)\n",
    "df_sub.head()"
   ]
  },
  {
   "cell_type": "markdown",
   "metadata": {},
   "source": [
    "Let's fix `metadata.csv`, it should only have non-broken records and should include the `file_name` column."
   ]
  },
  {
   "cell_type": "code",
   "execution_count": 112,
   "metadata": {},
   "outputs": [
    {
     "data": {
      "text/plain": [
       "((5354, 37), (5318, 42))"
      ]
     },
     "execution_count": 112,
     "metadata": {},
     "output_type": "execute_result"
    }
   ],
   "source": [
    "broken_csv='/Users/markjos/projects/malachor5/data/tira-code-mixed/metadata_w_broken.csv'\n",
    "broken_df=pd.read_csv(broken_csv)\n",
    "broken_df.shape"
   ]
  },
  {
   "cell_type": "code",
   "execution_count": 119,
   "metadata": {},
   "outputs": [
    {
     "data": {
      "text/plain": [
       "(36,\n",
       " ['clips/test/HH20220712-2-h-1m59s54ms175-m00s54ms955.wav',\n",
       "  'clips/test/HH20210927-h-1m59s49ms620-m00s50ms190.wav',\n",
       "  'clips/test/HH20211123-h-1m59s41ms140-m00s41ms750.wav',\n",
       "  'clips/train/HH04092021-h-1m59s51ms980-m00s53ms620.wav',\n",
       "  'clips/train/HH20211116-2-h-1m59s49ms435-m00s52ms089.wav',\n",
       "  'clips/train/HH20231104-h-1m59s43ms240-m00s45ms600.wav',\n",
       "  'clips/train/HH09242020-h-1m59s38ms308-m00s39ms708.wav',\n",
       "  'clips/train/HH20230420-1-Zoom-h-1m59s47ms650-m00s49ms140.wav',\n",
       "  'clips/train/HH20231229-h-1m59s57ms200-m00s58ms710.wav',\n",
       "  'clips/train/HH20230929-h-1m59s55ms300-m00s58ms590.wav',\n",
       "  'clips/train/HH20220828-h-1m59s40ms860-m00s43ms380.wav',\n",
       "  'clips/train/HH20240126-h-1m59s43ms586-m00s45ms479.wav',\n",
       "  'clips/train/HH20220405-h-1m59s43ms050-m00s44ms860.wav',\n",
       "  'clips/train/HH20220224-h-1m59s39ms410-m00s41ms490.wav',\n",
       "  'clips/train/HH09022020-h-1m59s59ms485-m01s00ms958.wav',\n",
       "  'clips/train/HH20230524-1-h-1m59s53ms980-m00s57ms380.wav',\n",
       "  'clips/train/HH20220111-2-h-1m59s48ms892-m00s50ms932.wav',\n",
       "  'clips/train/HH11252020-h-1m59s55ms200-m00s58ms790.wav',\n",
       "  'clips/train/HH20230915-h-1m59s57ms350-m00s59ms020.wav',\n",
       "  'clips/train/HH20220403-2-h-1m59s48ms800-m00s50ms910.wav',\n",
       "  'clips/train/HH20210430-h-1m59s44ms480-m00s47ms120.wav',\n",
       "  'clips/train/HH20230503-h-1m59s49ms610-m00s51ms670.wav',\n",
       "  'clips/train/HH01292021-1-h-1m59s30ms840-m00s32ms988.wav',\n",
       "  'clips/train/HH08142020-h-1m59s46ms380-m00s47ms750.wav',\n",
       "  'clips/train/HH20230531-2-h-1m59s51ms920-m00s55ms470.wav',\n",
       "  'clips/train/HH20211122-h-1m59s35ms150-m00s38ms540.wav',\n",
       "  'clips/train/HH20220326-2-h-1m59s42ms190-m00s43ms690.wav',\n",
       "  'clips/train/HH10072020-h-1m59s52ms860-m00s54ms680.wav',\n",
       "  'clips/train/HH20210804-h-1m59s38ms480-m00s39ms910.wav',\n",
       "  'clips/train/HH20220714-h-1m59s37ms580-m00s39ms630.wav',\n",
       "  'clips/train/HH20220326-5-h-1m59s34ms600-m00s36ms650.wav',\n",
       "  'clips/train/HH20210528-h-1m59s54ms000-m00s56ms982.wav',\n",
       "  'clips/train/HH20220326-4-h-1m59s34ms880-m00s36ms722.wav',\n",
       "  'clips/validation/HH20220124.m4a-h-1m59s33ms660-m00s35ms520.wav',\n",
       "  'clips/validation/HH20230420-4-h-1m59s49ms160-m00s51ms170.wav',\n",
       "  'clips/validation/HH20221114-h-1m59s43ms890-m00s48ms500.wav'])"
      ]
     },
     "execution_count": 119,
     "metadata": {},
     "output_type": "execute_result"
    }
   ],
   "source": [
    "invalid_clip_file='/Users/markjos/projects/malachor5/data/tira-code-mixed/invalid_clips.txt'\n",
    "with open(invalid_clip_file) as f:\n",
    "    broken_clips=[\n",
    "        os.path.relpath(line.split()[0], 'data/tira-code-mixed') for line in f.readlines()\n",
    "    ]\n",
    "len(broken_clips), broken_clips"
   ]
  },
  {
   "cell_type": "code",
   "execution_count": 120,
   "metadata": {},
   "outputs": [
    {
     "data": {
      "text/plain": [
       "0       clips/train/HH01082021-m03s07ms011-m04s09ms552...\n",
       "1       clips/train/HH01082021-m04s13ms401-m05s16ms528...\n",
       "2       clips/train/HH01082021-m05s43ms451-m06s47ms362...\n",
       "3       clips/train/HH01082021-m08s04ms659-m09s08ms038...\n",
       "4       clips/train/HH01082021-m08s54ms731-m09s57ms740...\n",
       "                              ...                        \n",
       "5349    clips/test/HH20231104-m24s55ms175-m25s56ms855.wav\n",
       "5350    clips/test/HH20231104-m25s26ms450-m26s27ms670.wav\n",
       "5351    clips/test/HH20231104-m29s43ms445-m30s44ms895.wav\n",
       "5352    clips/test/HH20231104-m30s17ms145-m31s18ms435.wav\n",
       "5353    clips/test/HH20231104-m33s08ms935-m34s10ms845.wav\n",
       "Name: file_name, Length: 5354, dtype: object"
      ]
     },
     "execution_count": 120,
     "metadata": {},
     "output_type": "execute_result"
    }
   ],
   "source": [
    "broken_df['file_name']"
   ]
  },
  {
   "cell_type": "code",
   "execution_count": 121,
   "metadata": {},
   "outputs": [
    {
     "data": {
      "text/plain": [
       "file_name\n",
       "False    5318\n",
       "True       36\n",
       "Name: count, dtype: int64"
      ]
     },
     "execution_count": 121,
     "metadata": {},
     "output_type": "execute_result"
    }
   ],
   "source": [
    "is_broken=broken_df['file_name'].isin(broken_clips)\n",
    "is_broken.value_counts()"
   ]
  },
  {
   "cell_type": "code",
   "execution_count": 125,
   "metadata": {},
   "outputs": [
    {
     "data": {
      "text/plain": [
       "(5318, 37)"
      ]
     },
     "execution_count": 125,
     "metadata": {},
     "output_type": "execute_result"
    }
   ],
   "source": [
    "df=broken_df[~is_broken]\n",
    "df.shape"
   ]
  },
  {
   "cell_type": "code",
   "execution_count": 123,
   "metadata": {},
   "outputs": [],
   "source": [
    "df.to_csv(codemixed_csv, index=False)"
   ]
  },
  {
   "cell_type": "markdown",
   "metadata": {},
   "source": [
    "Now that we've got VAD timestamps from PyAnnote, let's make records into 30s long sequences of speech chunks so we can use Whisper to transcribe the individual chunks"
   ]
  },
  {
   "cell_type": "code",
   "execution_count": 75,
   "metadata": {},
   "outputs": [
    {
     "data": {
      "text/html": [
       "<div>\n",
       "<style scoped>\n",
       "    .dataframe tbody tr th:only-of-type {\n",
       "        vertical-align: middle;\n",
       "    }\n",
       "\n",
       "    .dataframe tbody tr th {\n",
       "        vertical-align: top;\n",
       "    }\n",
       "\n",
       "    .dataframe thead th {\n",
       "        text-align: right;\n",
       "    }\n",
       "</style>\n",
       "<table border=\"1\" class=\"dataframe\">\n",
       "  <thead>\n",
       "    <tr style=\"text-align: right;\">\n",
       "      <th></th>\n",
       "      <th>old_start</th>\n",
       "      <th>old_end</th>\n",
       "      <th>transcription</th>\n",
       "      <th>eaf_source</th>\n",
       "      <th>wav_source</th>\n",
       "      <th>raw_transcription</th>\n",
       "      <th>clip</th>\n",
       "      <th>wav_rawpath</th>\n",
       "      <th>path</th>\n",
       "      <th>allosaurus</th>\n",
       "      <th>...</th>\n",
       "      <th>split</th>\n",
       "      <th>start</th>\n",
       "      <th>end</th>\n",
       "      <th>overlap</th>\n",
       "      <th>num_overlap</th>\n",
       "      <th>overlap_split</th>\n",
       "      <th>start_list</th>\n",
       "      <th>end_list</th>\n",
       "      <th>trans_list</th>\n",
       "      <th>pairwise_cos_sim</th>\n",
       "    </tr>\n",
       "  </thead>\n",
       "  <tbody>\n",
       "    <tr>\n",
       "      <th>0</th>\n",
       "      <td>217011</td>\n",
       "      <td>219552</td>\n",
       "      <td>àprí jɜ̀dí ðáŋàlà</td>\n",
       "      <td>/Users/markjos/Library/CloudStorage/GoogleDriv...</td>\n",
       "      <td>/Users/markjos/Library/CloudStorage/GoogleDriv...</td>\n",
       "      <td>àprí jɜ̀dí ðáŋàlà</td>\n",
       "      <td>data/tira-asr/clips/HH01082021-m03s37ms011-m03...</td>\n",
       "      <td>/Users/markjos/Library/CloudStorage/GoogleDriv...</td>\n",
       "      <td>HH01082021-m03s07ms011-m04s09ms552.wav</td>\n",
       "      <td>a e i a d i ɡ a m a l a</td>\n",
       "      <td>...</td>\n",
       "      <td>train</td>\n",
       "      <td>187011</td>\n",
       "      <td>249552</td>\n",
       "      <td>[0, 1]</td>\n",
       "      <td>2</td>\n",
       "      <td>['train', 'train']</td>\n",
       "      <td>[217011.0, 221371.0]</td>\n",
       "      <td>[219552.0, 225023.0]</td>\n",
       "      <td>['àprí jɜ̀dí ðáŋàlà', 'àprí jɜ̀dí ðá...</td>\n",
       "      <td>0.659426</td>\n",
       "    </tr>\n",
       "    <tr>\n",
       "      <th>1</th>\n",
       "      <td>283401</td>\n",
       "      <td>286528</td>\n",
       "      <td>àprí jə̀və̀lɛ̀ðɔ́ ðáŋàlà</td>\n",
       "      <td>/Users/markjos/Library/CloudStorage/GoogleDriv...</td>\n",
       "      <td>/Users/markjos/Library/CloudStorage/GoogleDriv...</td>\n",
       "      <td>àprí jə̀və̀lɛ̀ðɔ́ ðáŋàlà</td>\n",
       "      <td>data/tira-asr/clips/HH01082021-m04s43ms401-m04...</td>\n",
       "      <td>/Users/markjos/Library/CloudStorage/GoogleDriv...</td>\n",
       "      <td>HH01082021-m04s13ms401-m05s16ms528.wav</td>\n",
       "      <td>a p e i e p e l e ð a l a m a l a</td>\n",
       "      <td>...</td>\n",
       "      <td>train</td>\n",
       "      <td>253401</td>\n",
       "      <td>316528</td>\n",
       "      <td>[2, 3, 4]</td>\n",
       "      <td>3</td>\n",
       "      <td>['train', 'train', 'train']</td>\n",
       "      <td>[283401.0, 288835.0, 304737.0]</td>\n",
       "      <td>[286528.0, 291580.0, 307762.0]</td>\n",
       "      <td>['àprí jə̀və̀lɛ̀ðɔ́ ðáŋàlà', 'àprí jə̀v...</td>\n",
       "      <td>0.270774</td>\n",
       "    </tr>\n",
       "    <tr>\n",
       "      <th>2</th>\n",
       "      <td>373451</td>\n",
       "      <td>377362</td>\n",
       "      <td>àprí jàvə́lɛ̀ðɛ̌ ðàŋàlà</td>\n",
       "      <td>/Users/markjos/Library/CloudStorage/GoogleDriv...</td>\n",
       "      <td>/Users/markjos/Library/CloudStorage/GoogleDriv...</td>\n",
       "      <td>àprí jàvə́lɛ̀ðɛ̌ ðàŋàlà</td>\n",
       "      <td>data/tira-asr/clips/HH01082021-m06s13ms451-m06...</td>\n",
       "      <td>/Users/markjos/Library/CloudStorage/GoogleDriv...</td>\n",
       "      <td>HH01082021-m05s43ms451-m06s47ms362.wav</td>\n",
       "      <td>a p i j a b ɛ l ɛ j e d e b a ŋ a l a</td>\n",
       "      <td>...</td>\n",
       "      <td>train</td>\n",
       "      <td>343451</td>\n",
       "      <td>407362</td>\n",
       "      <td>[5, 6]</td>\n",
       "      <td>2</td>\n",
       "      <td>['train', 'train']</td>\n",
       "      <td>[373451.0, 378899.0]</td>\n",
       "      <td>[377362.0, 383279.0]</td>\n",
       "      <td>['àprí jàvə́lɛ̀ðɛ̌ ðàŋàlà', 'àprí jàv...</td>\n",
       "      <td>0.285611</td>\n",
       "    </tr>\n",
       "    <tr>\n",
       "      <th>3</th>\n",
       "      <td>514659</td>\n",
       "      <td>518038</td>\n",
       "      <td>àprí jávə̀lɛ̀ðɔ́ ðáŋàlà</td>\n",
       "      <td>/Users/markjos/Library/CloudStorage/GoogleDriv...</td>\n",
       "      <td>/Users/markjos/Library/CloudStorage/GoogleDriv...</td>\n",
       "      <td>àprí jávə̀lɛ̀ðɔ́ ðáŋàlà</td>\n",
       "      <td>data/tira-asr/clips/HH01082021-m08s34ms659-m08...</td>\n",
       "      <td>/Users/markjos/Library/CloudStorage/GoogleDriv...</td>\n",
       "      <td>HH01082021-m08s04ms659-m09s08ms038.wav</td>\n",
       "      <td>a p r e ʂ i j a b ɛ l i ð ɔ r a ŋ a n a</td>\n",
       "      <td>...</td>\n",
       "      <td>train</td>\n",
       "      <td>484659</td>\n",
       "      <td>548038</td>\n",
       "      <td>[7, 8, 9]</td>\n",
       "      <td>3</td>\n",
       "      <td>['train', 'train', 'train']</td>\n",
       "      <td>[514659.0, 524380.0, 540389.0]</td>\n",
       "      <td>[518038.0, 527963.0, 543475.0]</td>\n",
       "      <td>['àprí jávə̀lɛ̀ðɔ́ ðáŋàlà', 'àprí jáv...</td>\n",
       "      <td>0.690790</td>\n",
       "    </tr>\n",
       "    <tr>\n",
       "      <th>4</th>\n",
       "      <td>564731</td>\n",
       "      <td>567740</td>\n",
       "      <td>àprí jávə̀lɛ̀ðɔ́ ðáŋàlà</td>\n",
       "      <td>/Users/markjos/Library/CloudStorage/GoogleDriv...</td>\n",
       "      <td>/Users/markjos/Library/CloudStorage/GoogleDriv...</td>\n",
       "      <td>àprí jávə̀lɛ̀ðɔ́ ðáŋàlà</td>\n",
       "      <td>data/tira-asr/clips/HH01082021-m09s24ms731-m09...</td>\n",
       "      <td>/Users/markjos/Library/CloudStorage/GoogleDriv...</td>\n",
       "      <td>HH01082021-m08s54ms731-m09s57ms740.wav</td>\n",
       "      <td>a e a b l e ð e ð a m a ð a</td>\n",
       "      <td>...</td>\n",
       "      <td>train</td>\n",
       "      <td>534731</td>\n",
       "      <td>597740</td>\n",
       "      <td>[9, 10, 11]</td>\n",
       "      <td>3</td>\n",
       "      <td>['train', 'train', 'train']</td>\n",
       "      <td>[540389.0, 564731.0, 590317.0]</td>\n",
       "      <td>[543475.0, 567740.0, 593363.0]</td>\n",
       "      <td>['àprí jávə̀lɛ̀ðɔ́ ðáŋàlà', 'àprí jáv...</td>\n",
       "      <td>0.920946</td>\n",
       "    </tr>\n",
       "  </tbody>\n",
       "</table>\n",
       "<p>5 rows × 36 columns</p>\n",
       "</div>"
      ],
      "text/plain": [
       "   old_start  old_end                  transcription  \\\n",
       "0     217011   219552        àprí jɜ̀dí ðáŋàlà   \n",
       "1     283401   286528  àprí jə̀və̀lɛ̀ðɔ́ ðáŋàlà   \n",
       "2     373451   377362  àprí jàvə́lɛ̀ðɛ̌ ðàŋàlà   \n",
       "3     514659   518038  àprí jávə̀lɛ̀ðɔ́ ðáŋàlà   \n",
       "4     564731   567740  àprí jávə̀lɛ̀ðɔ́ ðáŋàlà   \n",
       "\n",
       "                                          eaf_source  \\\n",
       "0  /Users/markjos/Library/CloudStorage/GoogleDriv...   \n",
       "1  /Users/markjos/Library/CloudStorage/GoogleDriv...   \n",
       "2  /Users/markjos/Library/CloudStorage/GoogleDriv...   \n",
       "3  /Users/markjos/Library/CloudStorage/GoogleDriv...   \n",
       "4  /Users/markjos/Library/CloudStorage/GoogleDriv...   \n",
       "\n",
       "                                          wav_source  \\\n",
       "0  /Users/markjos/Library/CloudStorage/GoogleDriv...   \n",
       "1  /Users/markjos/Library/CloudStorage/GoogleDriv...   \n",
       "2  /Users/markjos/Library/CloudStorage/GoogleDriv...   \n",
       "3  /Users/markjos/Library/CloudStorage/GoogleDriv...   \n",
       "4  /Users/markjos/Library/CloudStorage/GoogleDriv...   \n",
       "\n",
       "               raw_transcription  \\\n",
       "0        àprí jɜ̀dí ðáŋàlà   \n",
       "1  àprí jə̀və̀lɛ̀ðɔ́ ðáŋàlà   \n",
       "2  àprí jàvə́lɛ̀ðɛ̌ ðàŋàlà   \n",
       "3  àprí jávə̀lɛ̀ðɔ́ ðáŋàlà   \n",
       "4  àprí jávə̀lɛ̀ðɔ́ ðáŋàlà   \n",
       "\n",
       "                                                clip  \\\n",
       "0  data/tira-asr/clips/HH01082021-m03s37ms011-m03...   \n",
       "1  data/tira-asr/clips/HH01082021-m04s43ms401-m04...   \n",
       "2  data/tira-asr/clips/HH01082021-m06s13ms451-m06...   \n",
       "3  data/tira-asr/clips/HH01082021-m08s34ms659-m08...   \n",
       "4  data/tira-asr/clips/HH01082021-m09s24ms731-m09...   \n",
       "\n",
       "                                         wav_rawpath  \\\n",
       "0  /Users/markjos/Library/CloudStorage/GoogleDriv...   \n",
       "1  /Users/markjos/Library/CloudStorage/GoogleDriv...   \n",
       "2  /Users/markjos/Library/CloudStorage/GoogleDriv...   \n",
       "3  /Users/markjos/Library/CloudStorage/GoogleDriv...   \n",
       "4  /Users/markjos/Library/CloudStorage/GoogleDriv...   \n",
       "\n",
       "                                     path  \\\n",
       "0  HH01082021-m03s07ms011-m04s09ms552.wav   \n",
       "1  HH01082021-m04s13ms401-m05s16ms528.wav   \n",
       "2  HH01082021-m05s43ms451-m06s47ms362.wav   \n",
       "3  HH01082021-m08s04ms659-m09s08ms038.wav   \n",
       "4  HH01082021-m08s54ms731-m09s57ms740.wav   \n",
       "\n",
       "                                allosaurus  ...  split   start     end  \\\n",
       "0                  a e i a d i ɡ a m a l a  ...  train  187011  249552   \n",
       "1        a p e i e p e l e ð a l a m a l a  ...  train  253401  316528   \n",
       "2    a p i j a b ɛ l ɛ j e d e b a ŋ a l a  ...  train  343451  407362   \n",
       "3  a p r e ʂ i j a b ɛ l i ð ɔ r a ŋ a n a  ...  train  484659  548038   \n",
       "4              a e a b l e ð e ð a m a ð a  ...  train  534731  597740   \n",
       "\n",
       "       overlap num_overlap                overlap_split  \\\n",
       "0       [0, 1]           2           ['train', 'train']   \n",
       "1    [2, 3, 4]           3  ['train', 'train', 'train']   \n",
       "2       [5, 6]           2           ['train', 'train']   \n",
       "3    [7, 8, 9]           3  ['train', 'train', 'train']   \n",
       "4  [9, 10, 11]           3  ['train', 'train', 'train']   \n",
       "\n",
       "                       start_list                        end_list  \\\n",
       "0            [217011.0, 221371.0]            [219552.0, 225023.0]   \n",
       "1  [283401.0, 288835.0, 304737.0]  [286528.0, 291580.0, 307762.0]   \n",
       "2            [373451.0, 378899.0]            [377362.0, 383279.0]   \n",
       "3  [514659.0, 524380.0, 540389.0]  [518038.0, 527963.0, 543475.0]   \n",
       "4  [540389.0, 564731.0, 590317.0]  [543475.0, 567740.0, 593363.0]   \n",
       "\n",
       "                                          trans_list  pairwise_cos_sim  \n",
       "0  ['àprí jɜ̀dí ðáŋàlà', 'àprí jɜ̀dí ðá...          0.659426  \n",
       "1  ['àprí jə̀və̀lɛ̀ðɔ́ ðáŋàlà', 'àprí jə̀v...          0.270774  \n",
       "2  ['àprí jàvə́lɛ̀ðɛ̌ ðàŋàlà', 'àprí jàv...          0.285611  \n",
       "3  ['àprí jávə̀lɛ̀ðɔ́ ðáŋàlà', 'àprí jáv...          0.690790  \n",
       "4  ['àprí jávə̀lɛ̀ðɔ́ ðáŋàlà', 'àprí jáv...          0.920946  \n",
       "\n",
       "[5 rows x 36 columns]"
      ]
     },
     "execution_count": 75,
     "metadata": {},
     "output_type": "execute_result"
    }
   ],
   "source": [
    "vad_csv='/Users/markjos/projects/malachor5/data/tira-code-mixed/tira-code-mixed-vad.csv'\n",
    "vad_df=pd.read_csv(vad_csv)\n",
    "vad_df.head()"
   ]
  },
  {
   "cell_type": "markdown",
   "metadata": {},
   "source": [
    "Before we continue, gotta insert the `file_name` column from the metadata."
   ]
  },
  {
   "cell_type": "code",
   "execution_count": 132,
   "metadata": {},
   "outputs": [
    {
     "data": {
      "text/plain": [
       "((5318, 43), (5318, 42))"
      ]
     },
     "execution_count": 132,
     "metadata": {},
     "output_type": "execute_result"
    }
   ],
   "source": [
    "merged_df=pd.merge(vad_df, df[['clip', 'file_name']], how='inner', on='clip')\n",
    "merged_df.shape, vad_df.shape"
   ]
  },
  {
   "cell_type": "code",
   "execution_count": 133,
   "metadata": {},
   "outputs": [],
   "source": [
    "vad_df=merged_df"
   ]
  },
  {
   "cell_type": "markdown",
   "metadata": {},
   "source": [
    "First, let's make the VAD and Tira timestamps into lists of tuples of floats"
   ]
  },
  {
   "cell_type": "code",
   "execution_count": 76,
   "metadata": {},
   "outputs": [
    {
     "data": {
      "text/plain": [
       "0       8.182 9.464 SPEECH;11.573 12.603 SPEECH;13.548...\n",
       "1       0.284 0.976 SPEECH;2.461 6.545 SPEECH;7.051 8....\n",
       "2       0.031 0.706 SPEECH;4.739 5.988 SPEECH;10.240 1...\n",
       "3       0.655 0.959 SPEECH;4.047 4.418 SPEECH;5.127 6....\n",
       "4       5.870 8.536 SPEECH;12.653 14.948 SPEECH;16.805...\n",
       "                              ...                        \n",
       "5313    1.516 2.444 SPEECH;3.524 4.553 SPEECH;8.924 9....\n",
       "5314    0.031 0.925 SPEECH;1.938 4.233 SPEECH;4.570 5....\n",
       "5315    1.988 2.630 SPEECH;5.245 6.359 SPEECH;8.620 10...\n",
       "5316    3.102 3.305 SPEECH;3.693 4.148 SPEECH;8.063 10...\n",
       "5317    0.031 0.757 SPEECH;5.887 9.447 SPEECH;10.392 1...\n",
       "Name: voice-activity-detection, Length: 5318, dtype: object"
      ]
     },
     "execution_count": 76,
     "metadata": {},
     "output_type": "execute_result"
    }
   ],
   "source": [
    "vad_df['voice-activity-detection']"
   ]
  },
  {
   "cell_type": "code",
   "execution_count": 77,
   "metadata": {},
   "outputs": [
    {
     "data": {
      "text/plain": [
       "('8.182 9.464 SPEECH;11.573 12.603 SPEECH;13.548 17.159 SPEECH;17.429 18.796 SPEECH;20.264 21.766 SPEECH;22.694 24.550 SPEECH;25.023 25.343 SPEECH;25.664 28.162 SPEECH;30.153 32.482 SPEECH;34.523 37.797 SPEECH;40.143 41.425 SPEECH;42.826 45.188 SPEECH;46.117 48.563 SPEECH;50.538 52.428 SPEECH;54.082 54.554 SPEECH;55.212 60.359 SPEECH;60.882 61.439 SPEECH;62.063 62.570 SPEECH;',\n",
       " 187.011,\n",
       " [(195.19299999999998, 195.834, 196.475),\n",
       "  (198.584, 199.099, 199.614),\n",
       "  (200.559, 202.3645, 204.17),\n",
       "  (204.44, 205.12349999999998, 205.807),\n",
       "  (207.275, 208.026, 208.777),\n",
       "  (209.70499999999998, 210.63299999999998, 211.561),\n",
       "  (212.034, 212.194, 212.35399999999998),\n",
       "  (212.675, 213.924, 215.173),\n",
       "  (217.164, 218.3285, 219.493),\n",
       "  (221.534, 223.171, 224.808),\n",
       "  (227.154, 227.795, 228.43599999999998),\n",
       "  (229.837, 231.018, 232.199),\n",
       "  (233.128, 234.351, 235.574),\n",
       "  (237.54899999999998, 238.49399999999997, 239.439),\n",
       "  (241.093, 241.329, 241.565),\n",
       "  (242.223, 244.7965, 247.37),\n",
       "  (247.893, 248.17149999999998, 248.45),\n",
       "  (249.074, 249.3275, 249.581)])"
      ]
     },
     "execution_count": 77,
     "metadata": {},
     "output_type": "execute_result"
    }
   ],
   "source": [
    "def vad_str_to_list(row):\n",
    "    vad_str=row['voice-activity-detection']\n",
    "    record_start=row['start']/1_000\n",
    "    vad_str=vad_str.removesuffix(';')\n",
    "    segments=vad_str.split(sep=';')\n",
    "    start_list = [float(segment.split()[0])+record_start for segment in segments]\n",
    "    end_list = [float(segment.split()[1])+record_start for segment in segments]\n",
    "    mid_list = [(start+end)/2 for start, end in zip(start_list, end_list)]\n",
    "\n",
    "    return list(zip(start_list, mid_list, end_list))\n",
    "vad_df['voice-activity-detection'][0], vad_df['start'][0]/1_000, vad_str_to_list(vad_df.iloc[0])"
   ]
  },
  {
   "cell_type": "code",
   "execution_count": 78,
   "metadata": {},
   "outputs": [
    {
     "data": {
      "text/plain": [
       "0       [(195.19299999999998, 195.834, 196.475), (198....\n",
       "1       [(253.685, 254.031, 254.377), (255.86200000000...\n",
       "2       [(343.482, 343.81950000000006, 344.15700000000...\n",
       "3       [(485.31399999999996, 485.466, 485.618), (488....\n",
       "4       [(540.601, 541.934, 543.2669999999999), (547.3...\n",
       "                              ...                        \n",
       "5313    [(1496.691, 1497.155, 1497.619), (1498.6989999...\n",
       "5314    [(1526.481, 1526.9279999999999, 1527.375), (15...\n",
       "5315    [(1785.433, 1785.754, 1786.075), (1788.6899999...\n",
       "5316    [(1820.247, 1820.3485, 1820.45), (1820.838, 18...\n",
       "5317    [(1988.966, 1989.329, 1989.692), (1994.822, 19...\n",
       "Name: vad_timestamps, Length: 5318, dtype: object"
      ]
     },
     "execution_count": 78,
     "metadata": {},
     "output_type": "execute_result"
    }
   ],
   "source": [
    "vad_df['vad_timestamps']=vad_df.apply(vad_str_to_list, axis=1)\n",
    "vad_df['vad_timestamps']"
   ]
  },
  {
   "cell_type": "code",
   "execution_count": 79,
   "metadata": {},
   "outputs": [
    {
     "data": {
      "text/plain": [
       "0       [(217.011, 218.2815, 219.552), (221.371, 223.1...\n",
       "1       [(283.401, 284.96450000000004, 286.528), (288....\n",
       "2       [(373.451, 375.40650000000005, 377.362), (378....\n",
       "3       [(514.659, 516.3485000000001, 518.038), (524.3...\n",
       "4       [(540.389, 541.932, 543.475), (564.731, 566.23...\n",
       "                              ...                        \n",
       "5313           [(1525.175, 1526.0149999999999, 1526.855)]\n",
       "5314                        [(1556.45, 1557.06, 1557.67)]\n",
       "5315    [(1803.505, 1804.1550000000002, 1804.805), (18...\n",
       "5316    [(1828.475, 1829.1999999999998, 1829.925), (18...\n",
       "5317           [(2018.935, 2019.8899999999999, 2020.845)]\n",
       "Name: tira_timestamps, Length: 5318, dtype: object"
      ]
     },
     "execution_count": 79,
     "metadata": {},
     "output_type": "execute_result"
    }
   ],
   "source": [
    "def get_tira_timestamps(row):\n",
    "    starts_ms = eval(row['start_list'])\n",
    "    ends_ms = eval(row['end_list'])\n",
    "    start_list = [start/1_000 for start in starts_ms]\n",
    "    end_list = [end/1_000 for end in ends_ms]\n",
    "    mid_list = [(start+end)/2 for start, end in zip(start_list, end_list)]\n",
    "\n",
    "    return list(zip(start_list, mid_list, end_list))\n",
    "tira_timestamps=vad_df.apply(get_tira_timestamps, axis=1)\n",
    "vad_df['tira_timestamps']=tira_timestamps\n",
    "vad_df['tira_timestamps']"
   ]
  },
  {
   "cell_type": "markdown",
   "metadata": {},
   "source": [
    "Now let's merge the VAD timestamps with the existing timestamps, preferring Tira in cases of overlap"
   ]
  },
  {
   "cell_type": "code",
   "execution_count": 80,
   "metadata": {},
   "outputs": [
    {
     "data": {
      "text/plain": [
       "(tira_timestamps    [(217.011, 218.2815, 219.552), (221.371, 223.1...\n",
       " vad_timestamps     [(195.19299999999998, 195.834, 196.475), (198....\n",
       " Name: 0, dtype: object,\n",
       " [(195.19299999999998, 195.834, 196.475),\n",
       "  (198.584, 199.099, 199.614),\n",
       "  (200.559, 202.3645, 204.17),\n",
       "  (204.44, 205.12349999999998, 205.807),\n",
       "  (207.275, 208.026, 208.777),\n",
       "  (209.70499999999998, 210.63299999999998, 211.561),\n",
       "  (212.034, 212.194, 212.35399999999998),\n",
       "  (212.675, 213.924, 215.173),\n",
       "  (217.011, 218.2815, 219.552),\n",
       "  (221.371, 223.197, 225.023),\n",
       "  (227.154, 227.795, 228.43599999999998),\n",
       "  (229.837, 231.018, 232.199),\n",
       "  (233.128, 234.351, 235.574),\n",
       "  (237.54899999999998, 238.49399999999997, 239.439),\n",
       "  (241.093, 241.329, 241.565),\n",
       "  (242.223, 244.7965, 247.37),\n",
       "  (247.893, 248.17149999999998, 248.45),\n",
       "  (249.074, 249.3275, 249.581)])"
      ]
     },
     "execution_count": 80,
     "metadata": {},
     "output_type": "execute_result"
    }
   ],
   "source": [
    "def merge_timestamps(row):\n",
    "    vad_timestamps = row['vad_timestamps']\n",
    "    tira_timestamps = row['tira_timestamps']\n",
    "    merged_timestamps = []\n",
    "    i, j = 0, 0\n",
    "    while (i<len(vad_timestamps)) and (j<len(tira_timestamps)):\n",
    "        vad_start, vad_mid, vad_end = vad_timestamps[i]\n",
    "        start, mid, end = tira_timestamps[j]\n",
    "        if (vad_mid >= start) and (vad_mid <= end):\n",
    "            # vad interval overlaps with Tira interval\n",
    "            # skip vad interval and add Tira\n",
    "            merged_timestamps.append(tira_timestamps[j])\n",
    "            i+=1\n",
    "            j+=1\n",
    "        elif (vad_start<start):\n",
    "            # vad interval precedes Tira interval\n",
    "            # add vad\n",
    "            merged_timestamps.append(vad_timestamps[i])\n",
    "            i+=1\n",
    "        else:\n",
    "            # Tira interval precedes vad\n",
    "            # add Tira\n",
    "            merged_timestamps.append(tira_timestamps[j])\n",
    "            j+=1\n",
    "    if i<len(vad_timestamps):\n",
    "        merged_timestamps.extend(vad_timestamps[i:])\n",
    "    if j<len(tira_timestamps):\n",
    "        merged_timestamps.extend(tira_timestamps[j:])\n",
    "    return merged_timestamps\n",
    "\n",
    "vad_df[['tira_timestamps', 'vad_timestamps']].iloc[0], merge_timestamps(vad_df.iloc[0])"
   ]
  },
  {
   "cell_type": "code",
   "execution_count": 81,
   "metadata": {},
   "outputs": [
    {
     "data": {
      "text/plain": [
       "0       [(195.19299999999998, 195.834, 196.475), (198....\n",
       "1       [(253.685, 254.031, 254.377), (255.86200000000...\n",
       "2       [(343.482, 343.81950000000006, 344.15700000000...\n",
       "3       [(485.31399999999996, 485.466, 485.618), (488....\n",
       "4       [(540.389, 541.932, 543.475), (547.384, 548.53...\n",
       "                              ...                        \n",
       "5313    [(1496.691, 1497.155, 1497.619), (1498.6989999...\n",
       "5314    [(1526.481, 1526.9279999999999, 1527.375), (15...\n",
       "5315    [(1785.433, 1785.754, 1786.075), (1788.6899999...\n",
       "5316    [(1820.247, 1820.3485, 1820.45), (1820.838, 18...\n",
       "5317    [(1988.966, 1989.329, 1989.692), (1994.822, 19...\n",
       "Name: merged_timestamps, Length: 5318, dtype: object"
      ]
     },
     "execution_count": 81,
     "metadata": {},
     "output_type": "execute_result"
    }
   ],
   "source": [
    "vad_df['merged_timestamps']=vad_df.apply(merge_timestamps, axis=1)\n",
    "vad_df['merged_timestamps']"
   ]
  },
  {
   "cell_type": "markdown",
   "metadata": {},
   "source": [
    "For each record,\n",
    "- identify middle segment\n",
    "- iteratively add preceding and following segment until adding another would make record longer than 30s"
   ]
  },
  {
   "cell_type": "code",
   "execution_count": 82,
   "metadata": {},
   "outputs": [
    {
     "data": {
      "text/plain": [
       "0        218.2815\n",
       "1        284.9645\n",
       "2        375.4065\n",
       "3        516.3485\n",
       "4        566.2355\n",
       "          ...    \n",
       "5313    1526.0150\n",
       "5314    1557.0600\n",
       "5315    1814.1700\n",
       "5316    1847.7900\n",
       "5317    2019.8900\n",
       "Length: 5318, dtype: float64"
      ]
     },
     "execution_count": 82,
     "metadata": {},
     "output_type": "execute_result"
    }
   ],
   "source": [
    "(vad_df['old_start']+vad_df['old_end'])/2_000"
   ]
  },
  {
   "cell_type": "code",
   "execution_count": 90,
   "metadata": {},
   "outputs": [
    {
     "data": {
      "text/plain": [
       "([(195.19299999999998, 195.834, 196.475),\n",
       "  (198.584, 199.099, 199.614),\n",
       "  (200.559, 202.3645, 204.17),\n",
       "  (204.44, 205.12349999999998, 205.807),\n",
       "  (207.275, 208.026, 208.777),\n",
       "  (209.70499999999998, 210.63299999999998, 211.561),\n",
       "  (212.034, 212.194, 212.35399999999998),\n",
       "  (212.675, 213.924, 215.173),\n",
       "  (217.011, 218.2815, 219.552),\n",
       "  (221.371, 223.197, 225.023),\n",
       "  (227.154, 227.795, 228.43599999999998),\n",
       "  (229.837, 231.018, 232.199),\n",
       "  (233.128, 234.351, 235.574),\n",
       "  (237.54899999999998, 238.49399999999997, 239.439),\n",
       "  (241.093, 241.329, 241.565),\n",
       "  (242.223, 244.7965, 247.37),\n",
       "  (247.893, 248.17149999999998, 248.45),\n",
       "  (249.074, 249.3275, 249.581)],\n",
       " [(195.19299999999998, 195.834, 196.475),\n",
       "  (198.584, 199.099, 199.614),\n",
       "  (200.559, 202.3645, 204.17),\n",
       "  (204.44, 205.12349999999998, 205.807),\n",
       "  (207.275, 208.026, 208.777),\n",
       "  (209.70499999999998, 210.63299999999998, 211.561),\n",
       "  (212.034, 212.194, 212.35399999999998),\n",
       "  (212.675, 213.924, 215.173),\n",
       "  (217.011, 218.2815, 219.552),\n",
       "  (221.371, 223.197, 225.023)])"
      ]
     },
     "execution_count": 90,
     "metadata": {},
     "output_type": "execute_result"
    }
   ],
   "source": [
    "def get_total_len(timestamps):\n",
    "    if len(timestamps)==0:\n",
    "        return 0\n",
    "    begin = min(timestamps, key=lambda t:t[0])[0]\n",
    "    end = max(timestamps, key=lambda t:t[2])[2]\n",
    "    return end-begin\n",
    "\n",
    "def trim_to_30s(row):\n",
    "    midpoint=(row['start']+row['end'])/2_000\n",
    "    timestamps=row['merged_timestamps']\n",
    "    midpoints=np.array([timestamp[1] for timestamp in timestamps])\n",
    "    dist_from_midpoint=np.abs(midpoints-midpoint)\n",
    "    \n",
    "    new_timestamps = []\n",
    "    while (get_total_len(new_timestamps)<30) and dist_from_midpoint.min()<np.inf:\n",
    "        nearest_mid_i = np.argmin(dist_from_midpoint)\n",
    "        new_timestamps.append(timestamps[nearest_mid_i])\n",
    "        dist_from_midpoint[nearest_mid_i]=np.inf\n",
    "    # exclude last record so we stay under 30s\n",
    "    new_timestamps=new_timestamps[:-1]\n",
    "    # sort timestamps by start time\n",
    "    new_timestamps.sort(key=lambda t:t[0])\n",
    "    return new_timestamps\n",
    "\n",
    "vad_df['merged_timestamps'][0], trim_to_30s(vad_df.iloc[0])"
   ]
  },
  {
   "cell_type": "code",
   "execution_count": 91,
   "metadata": {},
   "outputs": [
    {
     "data": {
      "text/plain": [
       "0       [(195.19299999999998, 195.834, 196.475), (198....\n",
       "1       [(253.685, 254.031, 254.377), (255.86200000000...\n",
       "2       [(343.482, 343.81950000000006, 344.15700000000...\n",
       "3       [(485.31399999999996, 485.466, 485.618), (488....\n",
       "4       [(540.389, 541.932, 543.475), (547.384, 548.53...\n",
       "                              ...                        \n",
       "5313    [(1496.691, 1497.155, 1497.619), (1498.6989999...\n",
       "5314    [(1526.481, 1526.9279999999999, 1527.375), (15...\n",
       "5315    [(1785.433, 1785.754, 1786.075), (1788.6899999...\n",
       "5316    [(1820.247, 1820.3485, 1820.45), (1820.838, 18...\n",
       "5317    [(1988.966, 1989.329, 1989.692), (1994.822, 19...\n",
       "Name: timestamps, Length: 5318, dtype: object"
      ]
     },
     "execution_count": 91,
     "metadata": {},
     "output_type": "execute_result"
    }
   ],
   "source": [
    "vad_df['timestamps']=vad_df.apply(trim_to_30s, axis=1)\n",
    "vad_df['timestamps']"
   ]
  },
  {
   "cell_type": "code",
   "execution_count": 85,
   "metadata": {},
   "outputs": [],
   "source": [
    "vad_df['60s_start']=vad_df['start']\n",
    "vad_df['60s_end']=vad_df['end']"
   ]
  },
  {
   "cell_type": "code",
   "execution_count": 92,
   "metadata": {},
   "outputs": [
    {
     "data": {
      "text/html": [
       "<div>\n",
       "<style scoped>\n",
       "    .dataframe tbody tr th:only-of-type {\n",
       "        vertical-align: middle;\n",
       "    }\n",
       "\n",
       "    .dataframe tbody tr th {\n",
       "        vertical-align: top;\n",
       "    }\n",
       "\n",
       "    .dataframe thead th {\n",
       "        text-align: right;\n",
       "    }\n",
       "</style>\n",
       "<table border=\"1\" class=\"dataframe\">\n",
       "  <thead>\n",
       "    <tr style=\"text-align: right;\">\n",
       "      <th></th>\n",
       "      <th>start</th>\n",
       "      <th>end</th>\n",
       "      <th>duration</th>\n",
       "    </tr>\n",
       "  </thead>\n",
       "  <tbody>\n",
       "    <tr>\n",
       "      <th>0</th>\n",
       "      <td>195.193</td>\n",
       "      <td>225.023</td>\n",
       "      <td>29.830</td>\n",
       "    </tr>\n",
       "    <tr>\n",
       "      <th>1</th>\n",
       "      <td>253.685</td>\n",
       "      <td>280.854</td>\n",
       "      <td>27.169</td>\n",
       "    </tr>\n",
       "    <tr>\n",
       "      <th>2</th>\n",
       "      <td>343.482</td>\n",
       "      <td>372.946</td>\n",
       "      <td>29.464</td>\n",
       "    </tr>\n",
       "    <tr>\n",
       "      <th>3</th>\n",
       "      <td>485.314</td>\n",
       "      <td>512.753</td>\n",
       "      <td>27.439</td>\n",
       "    </tr>\n",
       "    <tr>\n",
       "      <th>4</th>\n",
       "      <td>540.389</td>\n",
       "      <td>570.334</td>\n",
       "      <td>29.945</td>\n",
       "    </tr>\n",
       "    <tr>\n",
       "      <th>...</th>\n",
       "      <td>...</td>\n",
       "      <td>...</td>\n",
       "      <td>...</td>\n",
       "    </tr>\n",
       "    <tr>\n",
       "      <th>5313</th>\n",
       "      <td>1496.691</td>\n",
       "      <td>1524.973</td>\n",
       "      <td>28.282</td>\n",
       "    </tr>\n",
       "    <tr>\n",
       "      <th>5314</th>\n",
       "      <td>1526.481</td>\n",
       "      <td>1554.898</td>\n",
       "      <td>28.417</td>\n",
       "    </tr>\n",
       "    <tr>\n",
       "      <th>5315</th>\n",
       "      <td>1785.433</td>\n",
       "      <td>1814.895</td>\n",
       "      <td>29.462</td>\n",
       "    </tr>\n",
       "    <tr>\n",
       "      <th>5316</th>\n",
       "      <td>1820.247</td>\n",
       "      <td>1848.435</td>\n",
       "      <td>28.188</td>\n",
       "    </tr>\n",
       "    <tr>\n",
       "      <th>5317</th>\n",
       "      <td>1988.966</td>\n",
       "      <td>2017.653</td>\n",
       "      <td>28.687</td>\n",
       "    </tr>\n",
       "  </tbody>\n",
       "</table>\n",
       "<p>5318 rows × 3 columns</p>\n",
       "</div>"
      ],
      "text/plain": [
       "         start       end  duration\n",
       "0      195.193   225.023    29.830\n",
       "1      253.685   280.854    27.169\n",
       "2      343.482   372.946    29.464\n",
       "3      485.314   512.753    27.439\n",
       "4      540.389   570.334    29.945\n",
       "...        ...       ...       ...\n",
       "5313  1496.691  1524.973    28.282\n",
       "5314  1526.481  1554.898    28.417\n",
       "5315  1785.433  1814.895    29.462\n",
       "5316  1820.247  1848.435    28.188\n",
       "5317  1988.966  2017.653    28.687\n",
       "\n",
       "[5318 rows x 3 columns]"
      ]
     },
     "execution_count": 92,
     "metadata": {},
     "output_type": "execute_result"
    }
   ],
   "source": [
    "vad_df['start']=vad_df['timestamps'].apply(lambda l:l[0][0])\n",
    "vad_df['end']=vad_df['timestamps'].apply(lambda l:l[-1][-1])\n",
    "vad_df['duration']=vad_df['end']-vad_df['start']\n",
    "\n",
    "vad_df[['start', 'end', 'duration']]"
   ]
  },
  {
   "cell_type": "code",
   "execution_count": 93,
   "metadata": {},
   "outputs": [
    {
     "data": {
      "text/plain": [
       "<Axes: >"
      ]
     },
     "execution_count": 93,
     "metadata": {},
     "output_type": "execute_result"
    },
    {
     "data": {
      "image/png": "[encoded data removed]",
      "text/plain": [
       "<Figure size 432x288 with 1 Axes>"
      ]
     },
     "metadata": {
      "needs_background": "light"
     },
     "output_type": "display_data"
    }
   ],
   "source": [
    "vad_df.boxplot('duration')"
   ]
  },
  {
   "cell_type": "markdown",
   "metadata": {},
   "source": [
    "Now we gotta snip-snip the segments for each record and put them in a new dataset. We're gonna have to match these back to the original records eventually, so let's double check that the `file_name` column will serve as a unique identifier."
   ]
  },
  {
   "cell_type": "code",
   "execution_count": 134,
   "metadata": {},
   "outputs": [
    {
     "data": {
      "text/plain": [
       "(5318, 5318)"
      ]
     },
     "execution_count": 134,
     "metadata": {},
     "output_type": "execute_result"
    }
   ],
   "source": [
    "len(vad_df['file_name'].unique()), len(vad_df)"
   ]
  },
  {
   "cell_type": "markdown",
   "metadata": {},
   "source": [
    "Cool, that will work then. Commence snipification."
   ]
  },
  {
   "cell_type": "code",
   "execution_count": 198,
   "metadata": {},
   "outputs": [
    {
     "data": {
      "text/html": [
       "<div>\n",
       "<style scoped>\n",
       "    .dataframe tbody tr th:only-of-type {\n",
       "        vertical-align: middle;\n",
       "    }\n",
       "\n",
       "    .dataframe tbody tr th {\n",
       "        vertical-align: top;\n",
       "    }\n",
       "\n",
       "    .dataframe thead th {\n",
       "        text-align: right;\n",
       "    }\n",
       "</style>\n",
       "<table border=\"1\" class=\"dataframe\">\n",
       "  <thead>\n",
       "    <tr style=\"text-align: right;\">\n",
       "      <th></th>\n",
       "      <th>file_name</th>\n",
       "      <th>start</th>\n",
       "      <th>end</th>\n",
       "      <th>mother_old_start</th>\n",
       "      <th>mother_old_end</th>\n",
       "      <th>mother_transcription</th>\n",
       "      <th>mother_eaf_source</th>\n",
       "      <th>mother_wav_source</th>\n",
       "      <th>mother_raw_transcription</th>\n",
       "      <th>mother_clip</th>\n",
       "      <th>...</th>\n",
       "      <th>mother_overlap</th>\n",
       "      <th>mother_num_overlap</th>\n",
       "      <th>mother_overlap_split</th>\n",
       "      <th>mother_start_list</th>\n",
       "      <th>mother_end_list</th>\n",
       "      <th>mother_trans_list</th>\n",
       "      <th>mother_pairwise_cos_sim</th>\n",
       "      <th>mother_60s_start</th>\n",
       "      <th>mother_60s_end</th>\n",
       "      <th>mother_file_name</th>\n",
       "    </tr>\n",
       "  </thead>\n",
       "  <tbody>\n",
       "    <tr>\n",
       "      <th>0</th>\n",
       "      <td>/Users/markjos/projects/malachor5/data/tira-co...</td>\n",
       "      <td>195.193</td>\n",
       "      <td>196.475</td>\n",
       "      <td>217011</td>\n",
       "      <td>219552</td>\n",
       "      <td>àprí jɜ̀dí ðáŋàlà</td>\n",
       "      <td>/Users/markjos/Library/CloudStorage/GoogleDriv...</td>\n",
       "      <td>/Users/markjos/Library/CloudStorage/GoogleDriv...</td>\n",
       "      <td>àprí jɜ̀dí ðáŋàlà</td>\n",
       "      <td>data/tira-asr/clips/HH01082021-m03s37ms011-m03...</td>\n",
       "      <td>...</td>\n",
       "      <td>[0, 1]</td>\n",
       "      <td>2</td>\n",
       "      <td>['train', 'train']</td>\n",
       "      <td>[217011.0, 221371.0]</td>\n",
       "      <td>[219552.0, 225023.0]</td>\n",
       "      <td>['àprí jɜ̀dí ðáŋàlà', 'àprí jɜ̀dí ðá...</td>\n",
       "      <td>0.659426</td>\n",
       "      <td>187011</td>\n",
       "      <td>249552</td>\n",
       "      <td>clips/train/HH01082021-m03s07ms011-m04s09ms552...</td>\n",
       "    </tr>\n",
       "    <tr>\n",
       "      <th>1</th>\n",
       "      <td>/Users/markjos/projects/malachor5/data/tira-co...</td>\n",
       "      <td>198.584</td>\n",
       "      <td>199.614</td>\n",
       "      <td>217011</td>\n",
       "      <td>219552</td>\n",
       "      <td>àprí jɜ̀dí ðáŋàlà</td>\n",
       "      <td>/Users/markjos/Library/CloudStorage/GoogleDriv...</td>\n",
       "      <td>/Users/markjos/Library/CloudStorage/GoogleDriv...</td>\n",
       "      <td>àprí jɜ̀dí ðáŋàlà</td>\n",
       "      <td>data/tira-asr/clips/HH01082021-m03s37ms011-m03...</td>\n",
       "      <td>...</td>\n",
       "      <td>[0, 1]</td>\n",
       "      <td>2</td>\n",
       "      <td>['train', 'train']</td>\n",
       "      <td>[217011.0, 221371.0]</td>\n",
       "      <td>[219552.0, 225023.0]</td>\n",
       "      <td>['àprí jɜ̀dí ðáŋàlà', 'àprí jɜ̀dí ðá...</td>\n",
       "      <td>0.659426</td>\n",
       "      <td>187011</td>\n",
       "      <td>249552</td>\n",
       "      <td>clips/train/HH01082021-m03s07ms011-m04s09ms552...</td>\n",
       "    </tr>\n",
       "    <tr>\n",
       "      <th>2</th>\n",
       "      <td>/Users/markjos/projects/malachor5/data/tira-co...</td>\n",
       "      <td>200.559</td>\n",
       "      <td>204.170</td>\n",
       "      <td>217011</td>\n",
       "      <td>219552</td>\n",
       "      <td>àprí jɜ̀dí ðáŋàlà</td>\n",
       "      <td>/Users/markjos/Library/CloudStorage/GoogleDriv...</td>\n",
       "      <td>/Users/markjos/Library/CloudStorage/GoogleDriv...</td>\n",
       "      <td>àprí jɜ̀dí ðáŋàlà</td>\n",
       "      <td>data/tira-asr/clips/HH01082021-m03s37ms011-m03...</td>\n",
       "      <td>...</td>\n",
       "      <td>[0, 1]</td>\n",
       "      <td>2</td>\n",
       "      <td>['train', 'train']</td>\n",
       "      <td>[217011.0, 221371.0]</td>\n",
       "      <td>[219552.0, 225023.0]</td>\n",
       "      <td>['àprí jɜ̀dí ðáŋàlà', 'àprí jɜ̀dí ðá...</td>\n",
       "      <td>0.659426</td>\n",
       "      <td>187011</td>\n",
       "      <td>249552</td>\n",
       "      <td>clips/train/HH01082021-m03s07ms011-m04s09ms552...</td>\n",
       "    </tr>\n",
       "    <tr>\n",
       "      <th>3</th>\n",
       "      <td>/Users/markjos/projects/malachor5/data/tira-co...</td>\n",
       "      <td>204.440</td>\n",
       "      <td>205.807</td>\n",
       "      <td>217011</td>\n",
       "      <td>219552</td>\n",
       "      <td>àprí jɜ̀dí ðáŋàlà</td>\n",
       "      <td>/Users/markjos/Library/CloudStorage/GoogleDriv...</td>\n",
       "      <td>/Users/markjos/Library/CloudStorage/GoogleDriv...</td>\n",
       "      <td>àprí jɜ̀dí ðáŋàlà</td>\n",
       "      <td>data/tira-asr/clips/HH01082021-m03s37ms011-m03...</td>\n",
       "      <td>...</td>\n",
       "      <td>[0, 1]</td>\n",
       "      <td>2</td>\n",
       "      <td>['train', 'train']</td>\n",
       "      <td>[217011.0, 221371.0]</td>\n",
       "      <td>[219552.0, 225023.0]</td>\n",
       "      <td>['àprí jɜ̀dí ðáŋàlà', 'àprí jɜ̀dí ðá...</td>\n",
       "      <td>0.659426</td>\n",
       "      <td>187011</td>\n",
       "      <td>249552</td>\n",
       "      <td>clips/train/HH01082021-m03s07ms011-m04s09ms552...</td>\n",
       "    </tr>\n",
       "    <tr>\n",
       "      <th>4</th>\n",
       "      <td>/Users/markjos/projects/malachor5/data/tira-co...</td>\n",
       "      <td>207.275</td>\n",
       "      <td>208.777</td>\n",
       "      <td>217011</td>\n",
       "      <td>219552</td>\n",
       "      <td>àprí jɜ̀dí ðáŋàlà</td>\n",
       "      <td>/Users/markjos/Library/CloudStorage/GoogleDriv...</td>\n",
       "      <td>/Users/markjos/Library/CloudStorage/GoogleDriv...</td>\n",
       "      <td>àprí jɜ̀dí ðáŋàlà</td>\n",
       "      <td>data/tira-asr/clips/HH01082021-m03s37ms011-m03...</td>\n",
       "      <td>...</td>\n",
       "      <td>[0, 1]</td>\n",
       "      <td>2</td>\n",
       "      <td>['train', 'train']</td>\n",
       "      <td>[217011.0, 221371.0]</td>\n",
       "      <td>[219552.0, 225023.0]</td>\n",
       "      <td>['àprí jɜ̀dí ðáŋàlà', 'àprí jɜ̀dí ðá...</td>\n",
       "      <td>0.659426</td>\n",
       "      <td>187011</td>\n",
       "      <td>249552</td>\n",
       "      <td>clips/train/HH01082021-m03s07ms011-m04s09ms552...</td>\n",
       "    </tr>\n",
       "    <tr>\n",
       "      <th>5</th>\n",
       "      <td>/Users/markjos/projects/malachor5/data/tira-co...</td>\n",
       "      <td>209.705</td>\n",
       "      <td>211.561</td>\n",
       "      <td>217011</td>\n",
       "      <td>219552</td>\n",
       "      <td>àprí jɜ̀dí ðáŋàlà</td>\n",
       "      <td>/Users/markjos/Library/CloudStorage/GoogleDriv...</td>\n",
       "      <td>/Users/markjos/Library/CloudStorage/GoogleDriv...</td>\n",
       "      <td>àprí jɜ̀dí ðáŋàlà</td>\n",
       "      <td>data/tira-asr/clips/HH01082021-m03s37ms011-m03...</td>\n",
       "      <td>...</td>\n",
       "      <td>[0, 1]</td>\n",
       "      <td>2</td>\n",
       "      <td>['train', 'train']</td>\n",
       "      <td>[217011.0, 221371.0]</td>\n",
       "      <td>[219552.0, 225023.0]</td>\n",
       "      <td>['àprí jɜ̀dí ðáŋàlà', 'àprí jɜ̀dí ðá...</td>\n",
       "      <td>0.659426</td>\n",
       "      <td>187011</td>\n",
       "      <td>249552</td>\n",
       "      <td>clips/train/HH01082021-m03s07ms011-m04s09ms552...</td>\n",
       "    </tr>\n",
       "    <tr>\n",
       "      <th>6</th>\n",
       "      <td>/Users/markjos/projects/malachor5/data/tira-co...</td>\n",
       "      <td>212.034</td>\n",
       "      <td>212.354</td>\n",
       "      <td>217011</td>\n",
       "      <td>219552</td>\n",
       "      <td>àprí jɜ̀dí ðáŋàlà</td>\n",
       "      <td>/Users/markjos/Library/CloudStorage/GoogleDriv...</td>\n",
       "      <td>/Users/markjos/Library/CloudStorage/GoogleDriv...</td>\n",
       "      <td>àprí jɜ̀dí ðáŋàlà</td>\n",
       "      <td>data/tira-asr/clips/HH01082021-m03s37ms011-m03...</td>\n",
       "      <td>...</td>\n",
       "      <td>[0, 1]</td>\n",
       "      <td>2</td>\n",
       "      <td>['train', 'train']</td>\n",
       "      <td>[217011.0, 221371.0]</td>\n",
       "      <td>[219552.0, 225023.0]</td>\n",
       "      <td>['àprí jɜ̀dí ðáŋàlà', 'àprí jɜ̀dí ðá...</td>\n",
       "      <td>0.659426</td>\n",
       "      <td>187011</td>\n",
       "      <td>249552</td>\n",
       "      <td>clips/train/HH01082021-m03s07ms011-m04s09ms552...</td>\n",
       "    </tr>\n",
       "    <tr>\n",
       "      <th>7</th>\n",
       "      <td>/Users/markjos/projects/malachor5/data/tira-co...</td>\n",
       "      <td>212.675</td>\n",
       "      <td>215.173</td>\n",
       "      <td>217011</td>\n",
       "      <td>219552</td>\n",
       "      <td>àprí jɜ̀dí ðáŋàlà</td>\n",
       "      <td>/Users/markjos/Library/CloudStorage/GoogleDriv...</td>\n",
       "      <td>/Users/markjos/Library/CloudStorage/GoogleDriv...</td>\n",
       "      <td>àprí jɜ̀dí ðáŋàlà</td>\n",
       "      <td>data/tira-asr/clips/HH01082021-m03s37ms011-m03...</td>\n",
       "      <td>...</td>\n",
       "      <td>[0, 1]</td>\n",
       "      <td>2</td>\n",
       "      <td>['train', 'train']</td>\n",
       "      <td>[217011.0, 221371.0]</td>\n",
       "      <td>[219552.0, 225023.0]</td>\n",
       "      <td>['àprí jɜ̀dí ðáŋàlà', 'àprí jɜ̀dí ðá...</td>\n",
       "      <td>0.659426</td>\n",
       "      <td>187011</td>\n",
       "      <td>249552</td>\n",
       "      <td>clips/train/HH01082021-m03s07ms011-m04s09ms552...</td>\n",
       "    </tr>\n",
       "    <tr>\n",
       "      <th>8</th>\n",
       "      <td>/Users/markjos/projects/malachor5/data/tira-co...</td>\n",
       "      <td>217.011</td>\n",
       "      <td>219.552</td>\n",
       "      <td>217011</td>\n",
       "      <td>219552</td>\n",
       "      <td>àprí jɜ̀dí ðáŋàlà</td>\n",
       "      <td>/Users/markjos/Library/CloudStorage/GoogleDriv...</td>\n",
       "      <td>/Users/markjos/Library/CloudStorage/GoogleDriv...</td>\n",
       "      <td>àprí jɜ̀dí ðáŋàlà</td>\n",
       "      <td>data/tira-asr/clips/HH01082021-m03s37ms011-m03...</td>\n",
       "      <td>...</td>\n",
       "      <td>[0, 1]</td>\n",
       "      <td>2</td>\n",
       "      <td>['train', 'train']</td>\n",
       "      <td>[217011.0, 221371.0]</td>\n",
       "      <td>[219552.0, 225023.0]</td>\n",
       "      <td>['àprí jɜ̀dí ðáŋàlà', 'àprí jɜ̀dí ðá...</td>\n",
       "      <td>0.659426</td>\n",
       "      <td>187011</td>\n",
       "      <td>249552</td>\n",
       "      <td>clips/train/HH01082021-m03s07ms011-m04s09ms552...</td>\n",
       "    </tr>\n",
       "    <tr>\n",
       "      <th>9</th>\n",
       "      <td>/Users/markjos/projects/malachor5/data/tira-co...</td>\n",
       "      <td>221.371</td>\n",
       "      <td>225.023</td>\n",
       "      <td>217011</td>\n",
       "      <td>219552</td>\n",
       "      <td>àprí jɜ̀dí ðáŋàlà</td>\n",
       "      <td>/Users/markjos/Library/CloudStorage/GoogleDriv...</td>\n",
       "      <td>/Users/markjos/Library/CloudStorage/GoogleDriv...</td>\n",
       "      <td>àprí jɜ̀dí ðáŋàlà</td>\n",
       "      <td>data/tira-asr/clips/HH01082021-m03s37ms011-m03...</td>\n",
       "      <td>...</td>\n",
       "      <td>[0, 1]</td>\n",
       "      <td>2</td>\n",
       "      <td>['train', 'train']</td>\n",
       "      <td>[217011.0, 221371.0]</td>\n",
       "      <td>[219552.0, 225023.0]</td>\n",
       "      <td>['àprí jɜ̀dí ðáŋàlà', 'àprí jɜ̀dí ðá...</td>\n",
       "      <td>0.659426</td>\n",
       "      <td>187011</td>\n",
       "      <td>249552</td>\n",
       "      <td>clips/train/HH01082021-m03s07ms011-m04s09ms552...</td>\n",
       "    </tr>\n",
       "  </tbody>\n",
       "</table>\n",
       "<p>10 rows × 42 columns</p>\n",
       "</div>"
      ],
      "text/plain": [
       "                                           file_name    start      end  \\\n",
       "0  /Users/markjos/projects/malachor5/data/tira-co...  195.193  196.475   \n",
       "1  /Users/markjos/projects/malachor5/data/tira-co...  198.584  199.614   \n",
       "2  /Users/markjos/projects/malachor5/data/tira-co...  200.559  204.170   \n",
       "3  /Users/markjos/projects/malachor5/data/tira-co...  204.440  205.807   \n",
       "4  /Users/markjos/projects/malachor5/data/tira-co...  207.275  208.777   \n",
       "5  /Users/markjos/projects/malachor5/data/tira-co...  209.705  211.561   \n",
       "6  /Users/markjos/projects/malachor5/data/tira-co...  212.034  212.354   \n",
       "7  /Users/markjos/projects/malachor5/data/tira-co...  212.675  215.173   \n",
       "8  /Users/markjos/projects/malachor5/data/tira-co...  217.011  219.552   \n",
       "9  /Users/markjos/projects/malachor5/data/tira-co...  221.371  225.023   \n",
       "\n",
       "   mother_old_start  mother_old_end     mother_transcription  \\\n",
       "0            217011          219552  àprí jɜ̀dí ðáŋàlà   \n",
       "1            217011          219552  àprí jɜ̀dí ðáŋàlà   \n",
       "2            217011          219552  àprí jɜ̀dí ðáŋàlà   \n",
       "3            217011          219552  àprí jɜ̀dí ðáŋàlà   \n",
       "4            217011          219552  àprí jɜ̀dí ðáŋàlà   \n",
       "5            217011          219552  àprí jɜ̀dí ðáŋàlà   \n",
       "6            217011          219552  àprí jɜ̀dí ðáŋàlà   \n",
       "7            217011          219552  àprí jɜ̀dí ðáŋàlà   \n",
       "8            217011          219552  àprí jɜ̀dí ðáŋàlà   \n",
       "9            217011          219552  àprí jɜ̀dí ðáŋàlà   \n",
       "\n",
       "                                   mother_eaf_source  \\\n",
       "0  /Users/markjos/Library/CloudStorage/GoogleDriv...   \n",
       "1  /Users/markjos/Library/CloudStorage/GoogleDriv...   \n",
       "2  /Users/markjos/Library/CloudStorage/GoogleDriv...   \n",
       "3  /Users/markjos/Library/CloudStorage/GoogleDriv...   \n",
       "4  /Users/markjos/Library/CloudStorage/GoogleDriv...   \n",
       "5  /Users/markjos/Library/CloudStorage/GoogleDriv...   \n",
       "6  /Users/markjos/Library/CloudStorage/GoogleDriv...   \n",
       "7  /Users/markjos/Library/CloudStorage/GoogleDriv...   \n",
       "8  /Users/markjos/Library/CloudStorage/GoogleDriv...   \n",
       "9  /Users/markjos/Library/CloudStorage/GoogleDriv...   \n",
       "\n",
       "                                   mother_wav_source mother_raw_transcription  \\\n",
       "0  /Users/markjos/Library/CloudStorage/GoogleDriv...  àprí jɜ̀dí ðáŋàlà   \n",
       "1  /Users/markjos/Library/CloudStorage/GoogleDriv...  àprí jɜ̀dí ðáŋàlà   \n",
       "2  /Users/markjos/Library/CloudStorage/GoogleDriv...  àprí jɜ̀dí ðáŋàlà   \n",
       "3  /Users/markjos/Library/CloudStorage/GoogleDriv...  àprí jɜ̀dí ðáŋàlà   \n",
       "4  /Users/markjos/Library/CloudStorage/GoogleDriv...  àprí jɜ̀dí ðáŋàlà   \n",
       "5  /Users/markjos/Library/CloudStorage/GoogleDriv...  àprí jɜ̀dí ðáŋàlà   \n",
       "6  /Users/markjos/Library/CloudStorage/GoogleDriv...  àprí jɜ̀dí ðáŋàlà   \n",
       "7  /Users/markjos/Library/CloudStorage/GoogleDriv...  àprí jɜ̀dí ðáŋàlà   \n",
       "8  /Users/markjos/Library/CloudStorage/GoogleDriv...  àprí jɜ̀dí ðáŋàlà   \n",
       "9  /Users/markjos/Library/CloudStorage/GoogleDriv...  àprí jɜ̀dí ðáŋàlà   \n",
       "\n",
       "                                         mother_clip  ... mother_overlap  \\\n",
       "0  data/tira-asr/clips/HH01082021-m03s37ms011-m03...  ...         [0, 1]   \n",
       "1  data/tira-asr/clips/HH01082021-m03s37ms011-m03...  ...         [0, 1]   \n",
       "2  data/tira-asr/clips/HH01082021-m03s37ms011-m03...  ...         [0, 1]   \n",
       "3  data/tira-asr/clips/HH01082021-m03s37ms011-m03...  ...         [0, 1]   \n",
       "4  data/tira-asr/clips/HH01082021-m03s37ms011-m03...  ...         [0, 1]   \n",
       "5  data/tira-asr/clips/HH01082021-m03s37ms011-m03...  ...         [0, 1]   \n",
       "6  data/tira-asr/clips/HH01082021-m03s37ms011-m03...  ...         [0, 1]   \n",
       "7  data/tira-asr/clips/HH01082021-m03s37ms011-m03...  ...         [0, 1]   \n",
       "8  data/tira-asr/clips/HH01082021-m03s37ms011-m03...  ...         [0, 1]   \n",
       "9  data/tira-asr/clips/HH01082021-m03s37ms011-m03...  ...         [0, 1]   \n",
       "\n",
       "  mother_num_overlap mother_overlap_split     mother_start_list  \\\n",
       "0                  2   ['train', 'train']  [217011.0, 221371.0]   \n",
       "1                  2   ['train', 'train']  [217011.0, 221371.0]   \n",
       "2                  2   ['train', 'train']  [217011.0, 221371.0]   \n",
       "3                  2   ['train', 'train']  [217011.0, 221371.0]   \n",
       "4                  2   ['train', 'train']  [217011.0, 221371.0]   \n",
       "5                  2   ['train', 'train']  [217011.0, 221371.0]   \n",
       "6                  2   ['train', 'train']  [217011.0, 221371.0]   \n",
       "7                  2   ['train', 'train']  [217011.0, 221371.0]   \n",
       "8                  2   ['train', 'train']  [217011.0, 221371.0]   \n",
       "9                  2   ['train', 'train']  [217011.0, 221371.0]   \n",
       "\n",
       "        mother_end_list                                  mother_trans_list  \\\n",
       "0  [219552.0, 225023.0]  ['àprí jɜ̀dí ðáŋàlà', 'àprí jɜ̀dí ðá...   \n",
       "1  [219552.0, 225023.0]  ['àprí jɜ̀dí ðáŋàlà', 'àprí jɜ̀dí ðá...   \n",
       "2  [219552.0, 225023.0]  ['àprí jɜ̀dí ðáŋàlà', 'àprí jɜ̀dí ðá...   \n",
       "3  [219552.0, 225023.0]  ['àprí jɜ̀dí ðáŋàlà', 'àprí jɜ̀dí ðá...   \n",
       "4  [219552.0, 225023.0]  ['àprí jɜ̀dí ðáŋàlà', 'àprí jɜ̀dí ðá...   \n",
       "5  [219552.0, 225023.0]  ['àprí jɜ̀dí ðáŋàlà', 'àprí jɜ̀dí ðá...   \n",
       "6  [219552.0, 225023.0]  ['àprí jɜ̀dí ðáŋàlà', 'àprí jɜ̀dí ðá...   \n",
       "7  [219552.0, 225023.0]  ['àprí jɜ̀dí ðáŋàlà', 'àprí jɜ̀dí ðá...   \n",
       "8  [219552.0, 225023.0]  ['àprí jɜ̀dí ðáŋàlà', 'àprí jɜ̀dí ðá...   \n",
       "9  [219552.0, 225023.0]  ['àprí jɜ̀dí ðáŋàlà', 'àprí jɜ̀dí ðá...   \n",
       "\n",
       "  mother_pairwise_cos_sim mother_60s_start mother_60s_end  \\\n",
       "0                0.659426           187011         249552   \n",
       "1                0.659426           187011         249552   \n",
       "2                0.659426           187011         249552   \n",
       "3                0.659426           187011         249552   \n",
       "4                0.659426           187011         249552   \n",
       "5                0.659426           187011         249552   \n",
       "6                0.659426           187011         249552   \n",
       "7                0.659426           187011         249552   \n",
       "8                0.659426           187011         249552   \n",
       "9                0.659426           187011         249552   \n",
       "\n",
       "                                    mother_file_name  \n",
       "0  clips/train/HH01082021-m03s07ms011-m04s09ms552...  \n",
       "1  clips/train/HH01082021-m03s07ms011-m04s09ms552...  \n",
       "2  clips/train/HH01082021-m03s07ms011-m04s09ms552...  \n",
       "3  clips/train/HH01082021-m03s07ms011-m04s09ms552...  \n",
       "4  clips/train/HH01082021-m03s07ms011-m04s09ms552...  \n",
       "5  clips/train/HH01082021-m03s07ms011-m04s09ms552...  \n",
       "6  clips/train/HH01082021-m03s07ms011-m04s09ms552...  \n",
       "7  clips/train/HH01082021-m03s07ms011-m04s09ms552...  \n",
       "8  clips/train/HH01082021-m03s07ms011-m04s09ms552...  \n",
       "9  clips/train/HH01082021-m03s07ms011-m04s09ms552...  \n",
       "\n",
       "[10 rows x 42 columns]"
      ]
     },
     "execution_count": 198,
     "metadata": {},
     "output_type": "execute_result"
    }
   ],
   "source": [
    "snippet_dir='/Users/markjos/projects/malachor5/data/tira-code-mixed-snippets'\n",
    "snippet_clips='/Users/markjos/projects/malachor5/data/tira-code-mixed-snippets/clips'\n",
    "\n",
    "def make_clips_for_record(row):\n",
    "    clip=row['file_name']\n",
    "    clip_fullpath=os.path.join('../data/tira-code-mixed', clip)\n",
    "    record_start=row['60s_start']\n",
    "    timestamps = row['timestamps']\n",
    "    snippet_paths=[]\n",
    "    for timestamp in timestamps:\n",
    "        start=(timestamp[0]*1_000)-record_start\n",
    "        end=(timestamp[-1]*1_000)-record_start\n",
    "\n",
    "        wav, _= librosa.load(clip_fullpath, sr=16_000, mono=True)\n",
    "\n",
    "        snippet_paths.append(clip_segment(\n",
    "            wav=wav,\n",
    "            start_ms=start,\n",
    "            end_ms=end,\n",
    "            wav_basename=clip,\n",
    "            target_dir=snippet_dir,\n",
    "        ))\n",
    "    record_df = pd.DataFrame({\n",
    "        'file_name': snippet_paths,\n",
    "        'start': [t[0] for t in timestamps],\n",
    "        'end': [t[-1] for t in timestamps],\n",
    "    })\n",
    "    for col, val in row.items():\n",
    "        if type(val) is list:\n",
    "            continue\n",
    "        record_df['mother_'+col]=val\n",
    "    \n",
    "    return record_df\n",
    "\n",
    "make_clips_for_record(vad_df.iloc[0])"
   ]
  },
  {
   "cell_type": "code",
   "execution_count": 199,
   "metadata": {},
   "outputs": [
    {
     "name": "stderr",
     "output_type": "stream",
     "text": [
      "  0%|          | 0/5318 [00:00<?, ?it/s]"
     ]
    },
    {
     "name": "stderr",
     "output_type": "stream",
     "text": [
      "100%|██████████| 5318/5318 [04:03<00:00, 21.85it/s]\n"
     ]
    }
   ],
   "source": [
    "record_dfs=vad_df.progress_apply(make_clips_for_record, axis=1)\n"
   ]
  },
  {
   "cell_type": "code",
   "execution_count": 200,
   "metadata": {},
   "outputs": [
    {
     "data": {
      "text/plain": [
       "(53209, 42)"
      ]
     },
     "execution_count": 200,
     "metadata": {},
     "output_type": "execute_result"
    }
   ],
   "source": [
    "snippet_df=pd.concat(record_dfs.tolist())\n",
    "snippet_df.shape"
   ]
  },
  {
   "cell_type": "code",
   "execution_count": 201,
   "metadata": {},
   "outputs": [],
   "source": [
    "snippet_df['file_name']=snippet_df['file_name'].apply(lambda p: os.path.relpath(p, '/Users/markjos/projects/malachor5/data/tira-code-mixed-snippets/'))"
   ]
  },
  {
   "cell_type": "code",
   "execution_count": 202,
   "metadata": {},
   "outputs": [],
   "source": [
    "snippet_metadata='/Users/markjos/projects/malachor5/data/tira-code-mixed-snippets/metadata.csv'\n",
    "snippet_df.to_csv(snippet_metadata, index=False)"
   ]
  },
  {
   "cell_type": "code",
   "execution_count": 162,
   "metadata": {},
   "outputs": [],
   "source": [
    "from datasets import load_dataset, load_from_disk"
   ]
  },
  {
   "cell_type": "code",
   "execution_count": 203,
   "metadata": {},
   "outputs": [
    {
     "name": "stderr",
     "output_type": "stream",
     "text": [
      "Resolving data files: 100%|██████████| 43719/43719 [00:00<00:00, 149589.56it/s]\n",
      "Resolving data files: 100%|██████████| 4721/4721 [00:00<00:00, 26729.09it/s]\n",
      "Resolving data files: 100%|██████████| 4769/4769 [00:00<00:00, 45207.17it/s]\n",
      "Downloading data files: 100%|██████████| 43720/43720 [00:00<00:00, 68918.32it/s]\n",
      "Downloading data files: 0it [00:00, ?it/s]\n",
      "Extracting data files: 0it [00:00, ?it/s]\n",
      "Downloading data files: 100%|██████████| 4722/4722 [00:00<00:00, 65518.87it/s]\n",
      "Downloading data files: 0it [00:00, ?it/s]\n",
      "Extracting data files: 0it [00:00, ?it/s]\n",
      "Downloading data files: 100%|██████████| 4770/4770 [00:00<00:00, 67360.57it/s]\n",
      "Downloading data files: 0it [00:00, ?it/s]\n",
      "Extracting data files: 0it [00:00, ?it/s]\n",
      "Generating train split: 43719 examples [00:17, 2562.07 examples/s]\n",
      "Generating validation split: 4721 examples [00:04, 1021.81 examples/s]\n",
      "Generating test split: 4769 examples [00:04, 1059.82 examples/s]\n"
     ]
    },
    {
     "data": {
      "text/plain": [
       "DatasetDict({\n",
       "    train: Dataset({\n",
       "        features: ['audio', 'start', 'end', 'mother_old_start', 'mother_old_end', 'mother_transcription', 'mother_eaf_source', 'mother_wav_source', 'mother_raw_transcription', 'mother_clip', 'mother_wav_rawpath', 'mother_path', 'mother_allosaurus', 'mother_clap_ipa_cos_sim', 'mother_wada_snr', 'mother_nist_stnr', 'mother_speaker-diarization-3.1', 'mother_voice-activity-detection', 'mother_whisper-large-v3', 'mother_clapipa-transcription-allosaurus', 'mother_vad_s', 'mother_drz_s', 'mother_trans_len', 'mother_pcnt_speech', 'mother_trans_len_sq', 'mother_trans_len_log', 'mother_cos_sim_softmax', 'mother_cos_sim_log', 'mother_duration', 'mother_split', 'mother_start', 'mother_end', 'mother_overlap', 'mother_num_overlap', 'mother_overlap_split', 'mother_start_list', 'mother_end_list', 'mother_trans_list', 'mother_pairwise_cos_sim', 'mother_60s_start', 'mother_60s_end', 'mother_file_name'],\n",
       "        num_rows: 43719\n",
       "    })\n",
       "    validation: Dataset({\n",
       "        features: ['audio', 'start', 'end', 'mother_old_start', 'mother_old_end', 'mother_transcription', 'mother_eaf_source', 'mother_wav_source', 'mother_raw_transcription', 'mother_clip', 'mother_wav_rawpath', 'mother_path', 'mother_allosaurus', 'mother_clap_ipa_cos_sim', 'mother_wada_snr', 'mother_nist_stnr', 'mother_speaker-diarization-3.1', 'mother_voice-activity-detection', 'mother_whisper-large-v3', 'mother_clapipa-transcription-allosaurus', 'mother_vad_s', 'mother_drz_s', 'mother_trans_len', 'mother_pcnt_speech', 'mother_trans_len_sq', 'mother_trans_len_log', 'mother_cos_sim_softmax', 'mother_cos_sim_log', 'mother_duration', 'mother_split', 'mother_start', 'mother_end', 'mother_overlap', 'mother_num_overlap', 'mother_overlap_split', 'mother_start_list', 'mother_end_list', 'mother_trans_list', 'mother_pairwise_cos_sim', 'mother_60s_start', 'mother_60s_end', 'mother_file_name'],\n",
       "        num_rows: 4721\n",
       "    })\n",
       "    test: Dataset({\n",
       "        features: ['audio', 'start', 'end', 'mother_old_start', 'mother_old_end', 'mother_transcription', 'mother_eaf_source', 'mother_wav_source', 'mother_raw_transcription', 'mother_clip', 'mother_wav_rawpath', 'mother_path', 'mother_allosaurus', 'mother_clap_ipa_cos_sim', 'mother_wada_snr', 'mother_nist_stnr', 'mother_speaker-diarization-3.1', 'mother_voice-activity-detection', 'mother_whisper-large-v3', 'mother_clapipa-transcription-allosaurus', 'mother_vad_s', 'mother_drz_s', 'mother_trans_len', 'mother_pcnt_speech', 'mother_trans_len_sq', 'mother_trans_len_log', 'mother_cos_sim_softmax', 'mother_cos_sim_log', 'mother_duration', 'mother_split', 'mother_start', 'mother_end', 'mother_overlap', 'mother_num_overlap', 'mother_overlap_split', 'mother_start_list', 'mother_end_list', 'mother_trans_list', 'mother_pairwise_cos_sim', 'mother_60s_start', 'mother_60s_end', 'mother_file_name'],\n",
       "        num_rows: 4769\n",
       "    })\n",
       "})"
      ]
     },
     "execution_count": 203,
     "metadata": {},
     "output_type": "execute_result"
    }
   ],
   "source": [
    "ds=load_dataset('audiofolder', data_dir=snippet_dir)\n",
    "ds"
   ]
  },
  {
   "cell_type": "code",
   "execution_count": 204,
   "metadata": {},
   "outputs": [
    {
     "name": "stderr",
     "output_type": "stream",
     "text": [
      "Saving the dataset (5/5 shards): 100%|██████████| 43719/43719 [00:25<00:00, 1747.82 examples/s]\n"
     ]
    }
   ],
   "source": [
    "train_path='/Users/markjos/projects/malachor5/data/pyarrow-datasets/tira-code-mixed-snippets-train'\n",
    "ds['train'].save_to_disk(train_path)"
   ]
  },
  {
   "cell_type": "code",
   "execution_count": 176,
   "metadata": {},
   "outputs": [],
   "source": [
    "ds_train=load_from_disk(train_path)"
   ]
  },
  {
   "cell_type": "code",
   "execution_count": 181,
   "metadata": {},
   "outputs": [
    {
     "data": {
      "text/plain": [
       "{'audio': {'path': '/Users/markjos/projects/malachor5/data/tira-code-mixed-snippets/clips/test/HH07242020-Zoom2-m04s50ms022-m05s50ms844-m04s57ms360-m04s58ms119.wav',\n",
       "  'array': array([], dtype=float64),\n",
       "  'sampling_rate': 16000},\n",
       " 'start': 297.36,\n",
       " 'end': 298.119,\n",
       " 'mother_old_start': 320022,\n",
       " 'mother_old_end': 320844,\n",
       " 'mother_transcription': 'ɛ́ɾɔ̀ðɔ̀',\n",
       " 'mother_eaf_source': '/Users/markjos/Library/CloudStorage/GoogleDrive-mjsimmons@ucsd.edu/Shared drives/Tira/Recordings/2020-07-24-Tira/HH07242020-Zoom2.eaf',\n",
       " 'mother_wav_source': '/Users/markjos/Library/CloudStorage/GoogleDrive-mjsimmons@ucsd.edu/Shared drives/Tira/Recordings/2020-07-24-Tira/HH07242020-Zoom2.wav',\n",
       " 'mother_raw_transcription': 'ɛ́ːɾɔ̀ðɔ̀',\n",
       " 'mother_clip': 'data/tira-asr/clips/HH07242020-Zoom2-m05s20ms022-m05s20ms844.wav',\n",
       " 'mother_wav_rawpath': '/Users/markjos/Library/CloudStorage/GoogleDrive-mjsimmons@ucsd.edu/Shared drives/Tira/Recordings/07242020-Tira/HH07242020-Zoom2.wav',\n",
       " 'mother_path': 'HH07242020-Zoom2-m04s50ms022-m05s50ms844.wav',\n",
       " 'mother_allosaurus': 'k i r o',\n",
       " 'mother_clap_ipa_cos_sim': 0.7201653718948364,\n",
       " 'mother_wada_snr': 26.632081573473386,\n",
       " 'mother_nist_stnr': 42.75,\n",
       " 'mother_speaker-diarization-3.1': '0.031 0.807 SPEAKER_00',\n",
       " 'mother_voice-activity-detection': '0.031 0.453 SPEECH;1.533 2.140 SPEECH;2.950 3.473 SPEECH;4.773 6.697 SPEECH;7.338 8.097 SPEECH;9.346 10.173 SPEECH;12.012 12.451 SPEECH;12.738 15.320 SPEECH;15.826 16.197 SPEECH;16.788 17.463 SPEECH;17.615 19.083 SPEECH;19.640 20.855 SPEECH;21.395 22.087 SPEECH;23.268 23.453 SPEECH;24.550 27.757 SPEECH;27.993 28.583 SPEECH;28.887 30.777 SPEECH;31.165 31.756 SPEECH;32.144 32.448 SPEECH;33.764 35.317 SPEECH;35.536 38.590 SPEECH;39.569 39.991 SPEECH;41.830 42.286 SPEECH;44.362 47.973 SPEECH;49.458 50.842 SPEECH;56.174 59.650 SPEECH;',\n",
       " 'mother_whisper-large-v3': ' at all though.',\n",
       " 'mother_clapipa-transcription-allosaurus': 0.3248,\n",
       " 'mother_vad_s': 0.742,\n",
       " 'mother_drz_s': 0.776,\n",
       " 'mother_trans_len': 8,\n",
       " 'mother_pcnt_speech': 0.902676399026764,\n",
       " 'mother_trans_len_sq': 2.079441541679836,\n",
       " 'mother_trans_len_log': 2.079441541679836,\n",
       " 'mother_cos_sim_softmax': 4.4288783e-05,\n",
       " 'mother_cos_sim_log': -10.024779116103968,\n",
       " 'mother_duration': 28.55200000000002,\n",
       " 'mother_split': 'test',\n",
       " 'mother_start': 290.053,\n",
       " 'mother_end': 318.605,\n",
       " 'mother_overlap': '[18575]',\n",
       " 'mother_num_overlap': 1,\n",
       " 'mother_overlap_split': \"['test']\",\n",
       " 'mother_start_list': '[320022.0]',\n",
       " 'mother_end_list': '[320844.0]',\n",
       " 'mother_trans_list': \"['ɛ́ɾɔ̀ðɔ̀']\",\n",
       " 'mother_pairwise_cos_sim': None,\n",
       " 'mother_60s_start': 290022,\n",
       " 'mother_60s_end': 350844,\n",
       " 'mother_file_name': 'clips/test/HH07242020-Zoom2-m04s50ms022-m05s50ms844.wav'}"
      ]
     },
     "execution_count": 181,
     "metadata": {},
     "output_type": "execute_result"
    }
   ],
   "source": [
    "ds['test'][500]"
   ]
  },
  {
   "cell_type": "code",
   "execution_count": 177,
   "metadata": {},
   "outputs": [
    {
     "name": "stderr",
     "output_type": "stream",
     "text": [
      "Map: 100%|██████████| 43719/43719 [00:32<00:00, 1364.72 examples/s]\n",
      "Map: 100%|██████████| 4721/4721 [00:03<00:00, 1340.07 examples/s]\n",
      "Map: 100%|██████████| 4769/4769 [00:03<00:00, 1388.11 examples/s]\n"
     ]
    },
    {
     "data": {
      "text/plain": [
       "''"
      ]
     },
     "execution_count": 177,
     "metadata": {},
     "output_type": "execute_result"
    }
   ],
   "source": [
    "f=io.StringIO()\n",
    "ds.map(lambda r: validate_clipfile(f, r['audio']['path'], wav_obj=r['audio']['array']))\n",
    "f.read()"
   ]
  },
  {
   "cell_type": "code",
   "execution_count": 213,
   "metadata": {},
   "outputs": [
    {
     "name": "stdout",
     "output_type": "stream",
     "text": [
      "train\n",
      "43719 18.470685277777797\n",
      "validation\n",
      "4721 1.9533944444444504\n",
      "test\n",
      "4769 1.9545952777777789\n"
     ]
    }
   ],
   "source": [
    "snippet_df['duration']=snippet_df['end']-snippet_df['start']\n",
    "\n",
    "print('train')\n",
    "print(snippet_df[snippet_df['mother_split']=='train'].shape[0], snippet_df.loc[snippet_df['mother_split']=='train', 'duration'].sum()/3_600)\n",
    "\n",
    "print('validation')\n",
    "print(snippet_df[snippet_df['mother_split']=='validation'].shape[0], snippet_df.loc[snippet_df['mother_split']=='validation', 'duration'].sum()/3_600)\n",
    "\n",
    "print('test')\n",
    "print(snippet_df[snippet_df['mother_split']=='test'].shape[0], snippet_df.loc[snippet_df['mother_split']=='test', 'duration'].sum()/3_600)"
   ]
  },
  {
   "cell_type": "code",
   "execution_count": 216,
   "metadata": {},
   "outputs": [
    {
     "name": "stdout",
     "output_type": "stream",
     "text": [
      "train\n",
      "4421 34.27652861111113\n",
      "validation\n",
      "470 3.658173333333336\n",
      "test\n",
      "427 3.3736352777777796\n"
     ]
    }
   ],
   "source": [
    "vad_df['duration']=vad_df['end']-vad_df['start']\n",
    "\n",
    "print('train')\n",
    "print(vad_df[vad_df['split']=='train'].shape[0], vad_df.loc[vad_df['split']=='train', 'duration'].sum()/3_600)\n",
    "\n",
    "print('validation')\n",
    "print(vad_df[vad_df['split']=='validation'].shape[0], vad_df.loc[vad_df['split']=='validation', 'duration'].sum()/3_600)\n",
    "\n",
    "print('test')\n",
    "print(vad_df[vad_df['split']=='test'].shape[0], vad_df.loc[vad_df['split']=='test', 'duration'].sum()/3_600)"
   ]
  },
  {
   "cell_type": "code",
   "execution_count": null,
   "metadata": {},
   "outputs": [],
   "source": []
  }
 ],
 "metadata": {
  "kernelspec": {
   "display_name": "Python 3",
   "language": "python",
   "name": "python3"
  },
  "language_info": {
   "codemirror_mode": {
    "name": "ipython",
    "version": 3
   },
   "file_extension": ".py",
   "mimetype": "text/x-python",
   "name": "python",
   "nbconvert_exporter": "python",
   "pygments_lexer": "ipython3",
   "version": "3.9.19"
  }
 },
 "nbformat": 4,
 "nbformat_minor": 2
}
