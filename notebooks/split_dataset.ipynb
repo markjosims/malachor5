{
 "cells": [
  {
   "cell_type": "code",
   "execution_count": 1,
   "metadata": {},
   "outputs": [
    {
     "name": "stderr",
     "output_type": "stream",
     "text": [
      "/usr/local/lib/python3.9/site-packages/tqdm/auto.py:21: TqdmWarning: IProgress not found. Please update jupyter and ipywidgets. See https://ipywidgets.readthedocs.io/en/stable/user_install.html\n",
      "  from .autonotebook import tqdm as notebook_tqdm\n"
     ]
    }
   ],
   "source": [
    "import pandas as pd\n",
    "from datasets import load_from_disk"
   ]
  },
  {
   "cell_type": "code",
   "execution_count": 2,
   "metadata": {},
   "outputs": [],
   "source": [
    "split_ds_path='/Users/markjos/projects/malachor5/data/pyarrow-datasets/tira-clean-split'"
   ]
  },
  {
   "cell_type": "code",
   "execution_count": 3,
   "metadata": {},
   "outputs": [
    {
     "data": {
      "text/plain": [
       "DatasetDict({\n",
       "    train: Dataset({\n",
       "        features: ['audio', 'start', 'end', 'transcription', 'eaf_source', 'wav_source', 'raw_transcription', 'clip', 'wav_rawpath', 'path', 'allosaurus', 'clap_ipa_cos_sim', 'wada_snr', 'nist_stnr', 'speaker-diarization-3.1', 'voice-activity-detection', 'whisper-large-v3', 'clapipa-transcription-allosaurus', 'vad_s', 'drz_s', 'trans_len', 'pcnt_speech', 'trans_len_sq', 'trans_len_log', 'cos_sim_softmax', 'cos_sim_log', 'duration'],\n",
       "        num_rows: 16384\n",
       "    })\n",
       "    validation: Dataset({\n",
       "        features: ['audio', 'start', 'end', 'transcription', 'eaf_source', 'wav_source', 'raw_transcription', 'clip', 'wav_rawpath', 'path', 'allosaurus', 'clap_ipa_cos_sim', 'wada_snr', 'nist_stnr', 'speaker-diarization-3.1', 'voice-activity-detection', 'whisper-large-v3', 'clapipa-transcription-allosaurus', 'vad_s', 'drz_s', 'trans_len', 'pcnt_speech', 'trans_len_sq', 'trans_len_log', 'cos_sim_softmax', 'cos_sim_log', 'duration'],\n",
       "        num_rows: 2048\n",
       "    })\n",
       "    test: Dataset({\n",
       "        features: ['audio', 'start', 'end', 'transcription', 'eaf_source', 'wav_source', 'raw_transcription', 'clip', 'wav_rawpath', 'path', 'allosaurus', 'clap_ipa_cos_sim', 'wada_snr', 'nist_stnr', 'speaker-diarization-3.1', 'voice-activity-detection', 'whisper-large-v3', 'clapipa-transcription-allosaurus', 'vad_s', 'drz_s', 'trans_len', 'pcnt_speech', 'trans_len_sq', 'trans_len_log', 'cos_sim_softmax', 'cos_sim_log', 'duration'],\n",
       "        num_rows: 2048\n",
       "    })\n",
       "})"
      ]
     },
     "execution_count": 3,
     "metadata": {},
     "output_type": "execute_result"
    }
   ],
   "source": [
    "ds=load_from_disk(split_ds_path)\n",
    "ds"
   ]
  },
  {
   "cell_type": "code",
   "execution_count": 6,
   "metadata": {},
   "outputs": [
    {
     "name": "stdout",
     "output_type": "stream",
     "text": [
      "(20480, 27)\n"
     ]
    },
    {
     "data": {
      "text/html": [
       "<div>\n",
       "<style scoped>\n",
       "    .dataframe tbody tr th:only-of-type {\n",
       "        vertical-align: middle;\n",
       "    }\n",
       "\n",
       "    .dataframe tbody tr th {\n",
       "        vertical-align: top;\n",
       "    }\n",
       "\n",
       "    .dataframe thead th {\n",
       "        text-align: right;\n",
       "    }\n",
       "</style>\n",
       "<table border=\"1\" class=\"dataframe\">\n",
       "  <thead>\n",
       "    <tr style=\"text-align: right;\">\n",
       "      <th></th>\n",
       "      <th>start</th>\n",
       "      <th>end</th>\n",
       "      <th>transcription</th>\n",
       "      <th>eaf_source</th>\n",
       "      <th>wav_source</th>\n",
       "      <th>raw_transcription</th>\n",
       "      <th>clip</th>\n",
       "      <th>wav_rawpath</th>\n",
       "      <th>path</th>\n",
       "      <th>allosaurus</th>\n",
       "      <th>...</th>\n",
       "      <th>vad_s</th>\n",
       "      <th>drz_s</th>\n",
       "      <th>trans_len</th>\n",
       "      <th>pcnt_speech</th>\n",
       "      <th>trans_len_sq</th>\n",
       "      <th>trans_len_log</th>\n",
       "      <th>cos_sim_softmax</th>\n",
       "      <th>cos_sim_log</th>\n",
       "      <th>duration</th>\n",
       "      <th>split</th>\n",
       "    </tr>\n",
       "  </thead>\n",
       "  <tbody>\n",
       "    <tr>\n",
       "      <th>0</th>\n",
       "      <td>217011.0</td>\n",
       "      <td>219552.0</td>\n",
       "      <td>àprí jɜ̀dí ðáŋàlà</td>\n",
       "      <td>/Users/markjos/Library/CloudStorage/GoogleDriv...</td>\n",
       "      <td>/Users/markjos/Library/CloudStorage/GoogleDriv...</td>\n",
       "      <td>àprí jɜ̀dí ðáŋàlà</td>\n",
       "      <td>data/tira-asr/clips/HH01082021-m03s37ms011-m03...</td>\n",
       "      <td>/Users/markjos/Library/CloudStorage/GoogleDriv...</td>\n",
       "      <td>HH01082021-m03s37ms011-m03s39ms552.wav</td>\n",
       "      <td>a e i a d i ɡ a m a l a</td>\n",
       "      <td>...</td>\n",
       "      <td>2.379</td>\n",
       "      <td>2.447</td>\n",
       "      <td>23</td>\n",
       "      <td>0.936246</td>\n",
       "      <td>3.135494</td>\n",
       "      <td>3.135494</td>\n",
       "      <td>0.000044</td>\n",
       "      <td>-10.039731</td>\n",
       "      <td>2.541</td>\n",
       "      <td>train</td>\n",
       "    </tr>\n",
       "    <tr>\n",
       "      <th>1</th>\n",
       "      <td>221371.0</td>\n",
       "      <td>225023.0</td>\n",
       "      <td>àprí jɜ̀dí ðáŋàlà</td>\n",
       "      <td>/Users/markjos/Library/CloudStorage/GoogleDriv...</td>\n",
       "      <td>/Users/markjos/Library/CloudStorage/GoogleDriv...</td>\n",
       "      <td>àprí jɜ̀dí ðáŋàlà</td>\n",
       "      <td>data/tira-asr/clips/HH01082021-m03s41ms371-m03...</td>\n",
       "      <td>/Users/markjos/Library/CloudStorage/GoogleDriv...</td>\n",
       "      <td>HH01082021-m03s41ms371-m03s45ms023.wav</td>\n",
       "      <td>a j a d i v a n a l a</td>\n",
       "      <td>...</td>\n",
       "      <td>3.375</td>\n",
       "      <td>3.510</td>\n",
       "      <td>23</td>\n",
       "      <td>0.924151</td>\n",
       "      <td>3.135494</td>\n",
       "      <td>3.135494</td>\n",
       "      <td>0.000044</td>\n",
       "      <td>-10.028157</td>\n",
       "      <td>3.652</td>\n",
       "      <td>train</td>\n",
       "    </tr>\n",
       "    <tr>\n",
       "      <th>2</th>\n",
       "      <td>283401.0</td>\n",
       "      <td>286528.0</td>\n",
       "      <td>àprí jə̀və̀lɛ̀ðɔ́ ðáŋàlà</td>\n",
       "      <td>/Users/markjos/Library/CloudStorage/GoogleDriv...</td>\n",
       "      <td>/Users/markjos/Library/CloudStorage/GoogleDriv...</td>\n",
       "      <td>àprí jə̀və̀lɛ̀ðɔ́ ðáŋàlà</td>\n",
       "      <td>data/tira-asr/clips/HH01082021-m04s43ms401-m04...</td>\n",
       "      <td>/Users/markjos/Library/CloudStorage/GoogleDriv...</td>\n",
       "      <td>HH01082021-m04s43ms401-m04s46ms528.wav</td>\n",
       "      <td>a p e i e p e l e ð a l a m a l a</td>\n",
       "      <td>...</td>\n",
       "      <td>3.088</td>\n",
       "      <td>3.037</td>\n",
       "      <td>29</td>\n",
       "      <td>0.987528</td>\n",
       "      <td>3.367296</td>\n",
       "      <td>3.367296</td>\n",
       "      <td>0.000042</td>\n",
       "      <td>-10.080580</td>\n",
       "      <td>3.127</td>\n",
       "      <td>train</td>\n",
       "    </tr>\n",
       "    <tr>\n",
       "      <th>3</th>\n",
       "      <td>288835.0</td>\n",
       "      <td>291580.0</td>\n",
       "      <td>àprí jə̀və̀lɛ̀ðɔ́ ðáŋàlà</td>\n",
       "      <td>/Users/markjos/Library/CloudStorage/GoogleDriv...</td>\n",
       "      <td>/Users/markjos/Library/CloudStorage/GoogleDriv...</td>\n",
       "      <td>àprí jə̀və̀lɛ̀ðɔ́ ðáŋàlà</td>\n",
       "      <td>data/tira-asr/clips/HH01082021-m04s48ms835-m04...</td>\n",
       "      <td>/Users/markjos/Library/CloudStorage/GoogleDriv...</td>\n",
       "      <td>HH01082021-m04s48ms835-m04s51ms580.wav</td>\n",
       "      <td>a t e i j a p e d e ð a ɡ a n a ð a</td>\n",
       "      <td>...</td>\n",
       "      <td>2.413</td>\n",
       "      <td>2.649</td>\n",
       "      <td>29</td>\n",
       "      <td>0.879053</td>\n",
       "      <td>3.367296</td>\n",
       "      <td>3.367296</td>\n",
       "      <td>0.000044</td>\n",
       "      <td>-10.025673</td>\n",
       "      <td>2.745</td>\n",
       "      <td>train</td>\n",
       "    </tr>\n",
       "    <tr>\n",
       "      <th>4</th>\n",
       "      <td>304737.0</td>\n",
       "      <td>307762.0</td>\n",
       "      <td>àprí jə̀və̀lɛ̀ðɔ́ ðáŋàlà</td>\n",
       "      <td>/Users/markjos/Library/CloudStorage/GoogleDriv...</td>\n",
       "      <td>/Users/markjos/Library/CloudStorage/GoogleDriv...</td>\n",
       "      <td>àprí jə̀və̀lɛ̀ðɔ́ ðáŋàlà</td>\n",
       "      <td>data/tira-asr/clips/HH01082021-m05s04ms737-m05...</td>\n",
       "      <td>/Users/markjos/Library/CloudStorage/GoogleDriv...</td>\n",
       "      <td>HH01082021-m05s04ms737-m05s07ms762.wav</td>\n",
       "      <td>a e j e ð e d e ð a l a m a l a</td>\n",
       "      <td>...</td>\n",
       "      <td>2.920</td>\n",
       "      <td>2.919</td>\n",
       "      <td>29</td>\n",
       "      <td>0.965289</td>\n",
       "      <td>3.367296</td>\n",
       "      <td>3.367296</td>\n",
       "      <td>0.000042</td>\n",
       "      <td>-10.068530</td>\n",
       "      <td>3.025</td>\n",
       "      <td>train</td>\n",
       "    </tr>\n",
       "  </tbody>\n",
       "</table>\n",
       "<p>5 rows × 27 columns</p>\n",
       "</div>"
      ],
      "text/plain": [
       "      start       end                  transcription  \\\n",
       "0  217011.0  219552.0        àprí jɜ̀dí ðáŋàlà   \n",
       "1  221371.0  225023.0        àprí jɜ̀dí ðáŋàlà   \n",
       "2  283401.0  286528.0  àprí jə̀və̀lɛ̀ðɔ́ ðáŋàlà   \n",
       "3  288835.0  291580.0  àprí jə̀və̀lɛ̀ðɔ́ ðáŋàlà   \n",
       "4  304737.0  307762.0  àprí jə̀və̀lɛ̀ðɔ́ ðáŋàlà   \n",
       "\n",
       "                                          eaf_source  \\\n",
       "0  /Users/markjos/Library/CloudStorage/GoogleDriv...   \n",
       "1  /Users/markjos/Library/CloudStorage/GoogleDriv...   \n",
       "2  /Users/markjos/Library/CloudStorage/GoogleDriv...   \n",
       "3  /Users/markjos/Library/CloudStorage/GoogleDriv...   \n",
       "4  /Users/markjos/Library/CloudStorage/GoogleDriv...   \n",
       "\n",
       "                                          wav_source  \\\n",
       "0  /Users/markjos/Library/CloudStorage/GoogleDriv...   \n",
       "1  /Users/markjos/Library/CloudStorage/GoogleDriv...   \n",
       "2  /Users/markjos/Library/CloudStorage/GoogleDriv...   \n",
       "3  /Users/markjos/Library/CloudStorage/GoogleDriv...   \n",
       "4  /Users/markjos/Library/CloudStorage/GoogleDriv...   \n",
       "\n",
       "               raw_transcription  \\\n",
       "0        àprí jɜ̀dí ðáŋàlà   \n",
       "1        àprí jɜ̀dí ðáŋàlà   \n",
       "2  àprí jə̀və̀lɛ̀ðɔ́ ðáŋàlà   \n",
       "3  àprí jə̀və̀lɛ̀ðɔ́ ðáŋàlà   \n",
       "4  àprí jə̀və̀lɛ̀ðɔ́ ðáŋàlà   \n",
       "\n",
       "                                                clip  \\\n",
       "0  data/tira-asr/clips/HH01082021-m03s37ms011-m03...   \n",
       "1  data/tira-asr/clips/HH01082021-m03s41ms371-m03...   \n",
       "2  data/tira-asr/clips/HH01082021-m04s43ms401-m04...   \n",
       "3  data/tira-asr/clips/HH01082021-m04s48ms835-m04...   \n",
       "4  data/tira-asr/clips/HH01082021-m05s04ms737-m05...   \n",
       "\n",
       "                                         wav_rawpath  \\\n",
       "0  /Users/markjos/Library/CloudStorage/GoogleDriv...   \n",
       "1  /Users/markjos/Library/CloudStorage/GoogleDriv...   \n",
       "2  /Users/markjos/Library/CloudStorage/GoogleDriv...   \n",
       "3  /Users/markjos/Library/CloudStorage/GoogleDriv...   \n",
       "4  /Users/markjos/Library/CloudStorage/GoogleDriv...   \n",
       "\n",
       "                                     path  \\\n",
       "0  HH01082021-m03s37ms011-m03s39ms552.wav   \n",
       "1  HH01082021-m03s41ms371-m03s45ms023.wav   \n",
       "2  HH01082021-m04s43ms401-m04s46ms528.wav   \n",
       "3  HH01082021-m04s48ms835-m04s51ms580.wav   \n",
       "4  HH01082021-m05s04ms737-m05s07ms762.wav   \n",
       "\n",
       "                            allosaurus  ...  vad_s  drz_s  trans_len  \\\n",
       "0              a e i a d i ɡ a m a l a  ...  2.379  2.447         23   \n",
       "1                a j a d i v a n a l a  ...  3.375  3.510         23   \n",
       "2    a p e i e p e l e ð a l a m a l a  ...  3.088  3.037         29   \n",
       "3  a t e i j a p e d e ð a ɡ a n a ð a  ...  2.413  2.649         29   \n",
       "4      a e j e ð e d e ð a l a m a l a  ...  2.920  2.919         29   \n",
       "\n",
       "  pcnt_speech trans_len_sq trans_len_log  cos_sim_softmax  cos_sim_log  \\\n",
       "0    0.936246     3.135494      3.135494         0.000044   -10.039731   \n",
       "1    0.924151     3.135494      3.135494         0.000044   -10.028157   \n",
       "2    0.987528     3.367296      3.367296         0.000042   -10.080580   \n",
       "3    0.879053     3.367296      3.367296         0.000044   -10.025673   \n",
       "4    0.965289     3.367296      3.367296         0.000042   -10.068530   \n",
       "\n",
       "   duration  split  \n",
       "0     2.541  train  \n",
       "1     3.652  train  \n",
       "2     3.127  train  \n",
       "3     2.745  train  \n",
       "4     3.025  train  \n",
       "\n",
       "[5 rows x 27 columns]"
      ]
     },
     "execution_count": 6,
     "metadata": {},
     "output_type": "execute_result"
    }
   ],
   "source": [
    "# df=pd.DataFrame(columns=ds['train'].column_names+['split'])\n",
    "split_dfs=[]\n",
    "for split in ds:\n",
    "    split_df=ds[split].remove_columns('audio').to_pandas()\n",
    "    split_df['split']=split\n",
    "    split_dfs.append(split_df)\n",
    "df=pd.concat(split_dfs)\n",
    "print(df.shape)\n",
    "df.head()"
   ]
  },
  {
   "cell_type": "markdown",
   "metadata": {},
   "source": [
    "# There are 45 ungrammatical sentences in the dataset"
   ]
  },
  {
   "cell_type": "code",
   "execution_count": 16,
   "metadata": {},
   "outputs": [
    {
     "data": {
      "text/plain": [
       "raw_transcription\n",
       "False    20435\n",
       "True        45\n",
       "Name: count, dtype: int64"
      ]
     },
     "execution_count": 16,
     "metadata": {},
     "output_type": "execute_result"
    }
   ],
   "source": [
    "df['raw_transcription'].str.contains('\\*').value_counts()"
   ]
  },
  {
   "cell_type": "code",
   "execution_count": 23,
   "metadata": {},
   "outputs": [
    {
     "data": {
      "text/plain": [
       "((21,), (0,), (0,))"
      ]
     },
     "execution_count": 23,
     "metadata": {},
     "output_type": "execute_result"
    }
   ],
   "source": [
    "train=df['split']=='train'\n",
    "validation=df['split']=='validation'\n",
    "test=df['split']=='test'\n",
    "\n",
    "train_wavs=pd.Series(df[train]['wav_source'].unique())\n",
    "val_wavs=pd.Series(df[validation]['wav_source'].unique())\n",
    "test_wavs=pd.Series(df[test]['wav_source'].unique())\n",
    "\n",
    "df['split']\n",
    "train_only = train_wavs[~train_wavs.isin(val_wavs) & ~train_wavs.isin(test_wavs)]\n",
    "val_only = val_wavs[~val_wavs.isin(train_wavs) & ~val_wavs.isin(test_wavs)]\n",
    "test_only = test_wavs[~test_wavs.isin(val_wavs) & ~test_wavs.isin(train_wavs)]\n",
    "\n",
    "train_only.shape, val_only.shape, test_only.shape"
   ]
  },
  {
   "cell_type": "code",
   "execution_count": null,
   "metadata": {},
   "outputs": [],
   "source": []
  }
 ],
 "metadata": {
  "kernelspec": {
   "display_name": "Python 3",
   "language": "python",
   "name": "python3"
  },
  "language_info": {
   "codemirror_mode": {
    "name": "ipython",
    "version": 3
   },
   "file_extension": ".py",
   "mimetype": "text/x-python",
   "name": "python",
   "nbconvert_exporter": "python",
   "pygments_lexer": "ipython3",
   "version": "3.9.19"
  }
 },
 "nbformat": 4,
 "nbformat_minor": 2
}
