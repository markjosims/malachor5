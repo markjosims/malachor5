{
 "cells": [
  {
   "cell_type": "code",
   "execution_count": 2,
   "metadata": {},
   "outputs": [
    {
     "name": "stderr",
     "output_type": "stream",
     "text": [
      "/usr/local/lib/python3.9/site-packages/tqdm/auto.py:21: TqdmWarning: IProgress not found. Please update jupyter and ipywidgets. See https://ipywidgets.readthedocs.io/en/stable/user_install.html\n",
      "  from .autonotebook import tqdm as notebook_tqdm\n"
     ]
    }
   ],
   "source": [
    "import pandas as pd\n",
    "from datasets import load_from_disk\n",
    "from tqdm import tqdm"
   ]
  },
  {
   "cell_type": "code",
   "execution_count": 3,
   "metadata": {},
   "outputs": [],
   "source": [
    "split_ds_path='/Users/markjos/projects/malachor5/data/pyarrow-datasets/tira-clean-split'"
   ]
  },
  {
   "cell_type": "code",
   "execution_count": 4,
   "metadata": {},
   "outputs": [
    {
     "data": {
      "text/plain": [
       "DatasetDict({\n",
       "    train: Dataset({\n",
       "        features: ['audio', 'start', 'end', 'transcription', 'eaf_source', 'wav_source', 'raw_transcription', 'clip', 'wav_rawpath', 'path', 'allosaurus', 'clap_ipa_cos_sim', 'wada_snr', 'nist_stnr', 'speaker-diarization-3.1', 'voice-activity-detection', 'whisper-large-v3', 'clapipa-transcription-allosaurus', 'vad_s', 'drz_s', 'trans_len', 'pcnt_speech', 'trans_len_sq', 'trans_len_log', 'cos_sim_softmax', 'cos_sim_log', 'duration'],\n",
       "        num_rows: 16384\n",
       "    })\n",
       "    validation: Dataset({\n",
       "        features: ['audio', 'start', 'end', 'transcription', 'eaf_source', 'wav_source', 'raw_transcription', 'clip', 'wav_rawpath', 'path', 'allosaurus', 'clap_ipa_cos_sim', 'wada_snr', 'nist_stnr', 'speaker-diarization-3.1', 'voice-activity-detection', 'whisper-large-v3', 'clapipa-transcription-allosaurus', 'vad_s', 'drz_s', 'trans_len', 'pcnt_speech', 'trans_len_sq', 'trans_len_log', 'cos_sim_softmax', 'cos_sim_log', 'duration'],\n",
       "        num_rows: 2048\n",
       "    })\n",
       "    test: Dataset({\n",
       "        features: ['audio', 'start', 'end', 'transcription', 'eaf_source', 'wav_source', 'raw_transcription', 'clip', 'wav_rawpath', 'path', 'allosaurus', 'clap_ipa_cos_sim', 'wada_snr', 'nist_stnr', 'speaker-diarization-3.1', 'voice-activity-detection', 'whisper-large-v3', 'clapipa-transcription-allosaurus', 'vad_s', 'drz_s', 'trans_len', 'pcnt_speech', 'trans_len_sq', 'trans_len_log', 'cos_sim_softmax', 'cos_sim_log', 'duration'],\n",
       "        num_rows: 2048\n",
       "    })\n",
       "})"
      ]
     },
     "execution_count": 4,
     "metadata": {},
     "output_type": "execute_result"
    }
   ],
   "source": [
    "ds=load_from_disk(split_ds_path)\n",
    "ds"
   ]
  },
  {
   "cell_type": "code",
   "execution_count": 5,
   "metadata": {},
   "outputs": [
    {
     "name": "stdout",
     "output_type": "stream",
     "text": [
      "(20480, 27)\n"
     ]
    },
    {
     "data": {
      "text/html": [
       "<div>\n",
       "<style scoped>\n",
       "    .dataframe tbody tr th:only-of-type {\n",
       "        vertical-align: middle;\n",
       "    }\n",
       "\n",
       "    .dataframe tbody tr th {\n",
       "        vertical-align: top;\n",
       "    }\n",
       "\n",
       "    .dataframe thead th {\n",
       "        text-align: right;\n",
       "    }\n",
       "</style>\n",
       "<table border=\"1\" class=\"dataframe\">\n",
       "  <thead>\n",
       "    <tr style=\"text-align: right;\">\n",
       "      <th></th>\n",
       "      <th>start</th>\n",
       "      <th>end</th>\n",
       "      <th>transcription</th>\n",
       "      <th>eaf_source</th>\n",
       "      <th>wav_source</th>\n",
       "      <th>raw_transcription</th>\n",
       "      <th>clip</th>\n",
       "      <th>wav_rawpath</th>\n",
       "      <th>path</th>\n",
       "      <th>allosaurus</th>\n",
       "      <th>...</th>\n",
       "      <th>vad_s</th>\n",
       "      <th>drz_s</th>\n",
       "      <th>trans_len</th>\n",
       "      <th>pcnt_speech</th>\n",
       "      <th>trans_len_sq</th>\n",
       "      <th>trans_len_log</th>\n",
       "      <th>cos_sim_softmax</th>\n",
       "      <th>cos_sim_log</th>\n",
       "      <th>duration</th>\n",
       "      <th>split</th>\n",
       "    </tr>\n",
       "  </thead>\n",
       "  <tbody>\n",
       "    <tr>\n",
       "      <th>0</th>\n",
       "      <td>217011.0</td>\n",
       "      <td>219552.0</td>\n",
       "      <td>àprí jɜ̀dí ðáŋàlà</td>\n",
       "      <td>/Users/markjos/Library/CloudStorage/GoogleDriv...</td>\n",
       "      <td>/Users/markjos/Library/CloudStorage/GoogleDriv...</td>\n",
       "      <td>àprí jɜ̀dí ðáŋàlà</td>\n",
       "      <td>data/tira-asr/clips/HH01082021-m03s37ms011-m03...</td>\n",
       "      <td>/Users/markjos/Library/CloudStorage/GoogleDriv...</td>\n",
       "      <td>HH01082021-m03s37ms011-m03s39ms552.wav</td>\n",
       "      <td>a e i a d i ɡ a m a l a</td>\n",
       "      <td>...</td>\n",
       "      <td>2.379</td>\n",
       "      <td>2.447</td>\n",
       "      <td>23</td>\n",
       "      <td>0.936246</td>\n",
       "      <td>3.135494</td>\n",
       "      <td>3.135494</td>\n",
       "      <td>0.000044</td>\n",
       "      <td>-10.039731</td>\n",
       "      <td>2.541</td>\n",
       "      <td>train</td>\n",
       "    </tr>\n",
       "    <tr>\n",
       "      <th>1</th>\n",
       "      <td>221371.0</td>\n",
       "      <td>225023.0</td>\n",
       "      <td>àprí jɜ̀dí ðáŋàlà</td>\n",
       "      <td>/Users/markjos/Library/CloudStorage/GoogleDriv...</td>\n",
       "      <td>/Users/markjos/Library/CloudStorage/GoogleDriv...</td>\n",
       "      <td>àprí jɜ̀dí ðáŋàlà</td>\n",
       "      <td>data/tira-asr/clips/HH01082021-m03s41ms371-m03...</td>\n",
       "      <td>/Users/markjos/Library/CloudStorage/GoogleDriv...</td>\n",
       "      <td>HH01082021-m03s41ms371-m03s45ms023.wav</td>\n",
       "      <td>a j a d i v a n a l a</td>\n",
       "      <td>...</td>\n",
       "      <td>3.375</td>\n",
       "      <td>3.510</td>\n",
       "      <td>23</td>\n",
       "      <td>0.924151</td>\n",
       "      <td>3.135494</td>\n",
       "      <td>3.135494</td>\n",
       "      <td>0.000044</td>\n",
       "      <td>-10.028157</td>\n",
       "      <td>3.652</td>\n",
       "      <td>train</td>\n",
       "    </tr>\n",
       "    <tr>\n",
       "      <th>2</th>\n",
       "      <td>283401.0</td>\n",
       "      <td>286528.0</td>\n",
       "      <td>àprí jə̀və̀lɛ̀ðɔ́ ðáŋàlà</td>\n",
       "      <td>/Users/markjos/Library/CloudStorage/GoogleDriv...</td>\n",
       "      <td>/Users/markjos/Library/CloudStorage/GoogleDriv...</td>\n",
       "      <td>àprí jə̀və̀lɛ̀ðɔ́ ðáŋàlà</td>\n",
       "      <td>data/tira-asr/clips/HH01082021-m04s43ms401-m04...</td>\n",
       "      <td>/Users/markjos/Library/CloudStorage/GoogleDriv...</td>\n",
       "      <td>HH01082021-m04s43ms401-m04s46ms528.wav</td>\n",
       "      <td>a p e i e p e l e ð a l a m a l a</td>\n",
       "      <td>...</td>\n",
       "      <td>3.088</td>\n",
       "      <td>3.037</td>\n",
       "      <td>29</td>\n",
       "      <td>0.987528</td>\n",
       "      <td>3.367296</td>\n",
       "      <td>3.367296</td>\n",
       "      <td>0.000042</td>\n",
       "      <td>-10.080580</td>\n",
       "      <td>3.127</td>\n",
       "      <td>train</td>\n",
       "    </tr>\n",
       "    <tr>\n",
       "      <th>3</th>\n",
       "      <td>288835.0</td>\n",
       "      <td>291580.0</td>\n",
       "      <td>àprí jə̀və̀lɛ̀ðɔ́ ðáŋàlà</td>\n",
       "      <td>/Users/markjos/Library/CloudStorage/GoogleDriv...</td>\n",
       "      <td>/Users/markjos/Library/CloudStorage/GoogleDriv...</td>\n",
       "      <td>àprí jə̀və̀lɛ̀ðɔ́ ðáŋàlà</td>\n",
       "      <td>data/tira-asr/clips/HH01082021-m04s48ms835-m04...</td>\n",
       "      <td>/Users/markjos/Library/CloudStorage/GoogleDriv...</td>\n",
       "      <td>HH01082021-m04s48ms835-m04s51ms580.wav</td>\n",
       "      <td>a t e i j a p e d e ð a ɡ a n a ð a</td>\n",
       "      <td>...</td>\n",
       "      <td>2.413</td>\n",
       "      <td>2.649</td>\n",
       "      <td>29</td>\n",
       "      <td>0.879053</td>\n",
       "      <td>3.367296</td>\n",
       "      <td>3.367296</td>\n",
       "      <td>0.000044</td>\n",
       "      <td>-10.025673</td>\n",
       "      <td>2.745</td>\n",
       "      <td>train</td>\n",
       "    </tr>\n",
       "    <tr>\n",
       "      <th>4</th>\n",
       "      <td>304737.0</td>\n",
       "      <td>307762.0</td>\n",
       "      <td>àprí jə̀və̀lɛ̀ðɔ́ ðáŋàlà</td>\n",
       "      <td>/Users/markjos/Library/CloudStorage/GoogleDriv...</td>\n",
       "      <td>/Users/markjos/Library/CloudStorage/GoogleDriv...</td>\n",
       "      <td>àprí jə̀və̀lɛ̀ðɔ́ ðáŋàlà</td>\n",
       "      <td>data/tira-asr/clips/HH01082021-m05s04ms737-m05...</td>\n",
       "      <td>/Users/markjos/Library/CloudStorage/GoogleDriv...</td>\n",
       "      <td>HH01082021-m05s04ms737-m05s07ms762.wav</td>\n",
       "      <td>a e j e ð e d e ð a l a m a l a</td>\n",
       "      <td>...</td>\n",
       "      <td>2.920</td>\n",
       "      <td>2.919</td>\n",
       "      <td>29</td>\n",
       "      <td>0.965289</td>\n",
       "      <td>3.367296</td>\n",
       "      <td>3.367296</td>\n",
       "      <td>0.000042</td>\n",
       "      <td>-10.068530</td>\n",
       "      <td>3.025</td>\n",
       "      <td>train</td>\n",
       "    </tr>\n",
       "  </tbody>\n",
       "</table>\n",
       "<p>5 rows × 27 columns</p>\n",
       "</div>"
      ],
      "text/plain": [
       "      start       end                  transcription  \\\n",
       "0  217011.0  219552.0        àprí jɜ̀dí ðáŋàlà   \n",
       "1  221371.0  225023.0        àprí jɜ̀dí ðáŋàlà   \n",
       "2  283401.0  286528.0  àprí jə̀və̀lɛ̀ðɔ́ ðáŋàlà   \n",
       "3  288835.0  291580.0  àprí jə̀və̀lɛ̀ðɔ́ ðáŋàlà   \n",
       "4  304737.0  307762.0  àprí jə̀və̀lɛ̀ðɔ́ ðáŋàlà   \n",
       "\n",
       "                                          eaf_source  \\\n",
       "0  /Users/markjos/Library/CloudStorage/GoogleDriv...   \n",
       "1  /Users/markjos/Library/CloudStorage/GoogleDriv...   \n",
       "2  /Users/markjos/Library/CloudStorage/GoogleDriv...   \n",
       "3  /Users/markjos/Library/CloudStorage/GoogleDriv...   \n",
       "4  /Users/markjos/Library/CloudStorage/GoogleDriv...   \n",
       "\n",
       "                                          wav_source  \\\n",
       "0  /Users/markjos/Library/CloudStorage/GoogleDriv...   \n",
       "1  /Users/markjos/Library/CloudStorage/GoogleDriv...   \n",
       "2  /Users/markjos/Library/CloudStorage/GoogleDriv...   \n",
       "3  /Users/markjos/Library/CloudStorage/GoogleDriv...   \n",
       "4  /Users/markjos/Library/CloudStorage/GoogleDriv...   \n",
       "\n",
       "               raw_transcription  \\\n",
       "0        àprí jɜ̀dí ðáŋàlà   \n",
       "1        àprí jɜ̀dí ðáŋàlà   \n",
       "2  àprí jə̀və̀lɛ̀ðɔ́ ðáŋàlà   \n",
       "3  àprí jə̀və̀lɛ̀ðɔ́ ðáŋàlà   \n",
       "4  àprí jə̀və̀lɛ̀ðɔ́ ðáŋàlà   \n",
       "\n",
       "                                                clip  \\\n",
       "0  data/tira-asr/clips/HH01082021-m03s37ms011-m03...   \n",
       "1  data/tira-asr/clips/HH01082021-m03s41ms371-m03...   \n",
       "2  data/tira-asr/clips/HH01082021-m04s43ms401-m04...   \n",
       "3  data/tira-asr/clips/HH01082021-m04s48ms835-m04...   \n",
       "4  data/tira-asr/clips/HH01082021-m05s04ms737-m05...   \n",
       "\n",
       "                                         wav_rawpath  \\\n",
       "0  /Users/markjos/Library/CloudStorage/GoogleDriv...   \n",
       "1  /Users/markjos/Library/CloudStorage/GoogleDriv...   \n",
       "2  /Users/markjos/Library/CloudStorage/GoogleDriv...   \n",
       "3  /Users/markjos/Library/CloudStorage/GoogleDriv...   \n",
       "4  /Users/markjos/Library/CloudStorage/GoogleDriv...   \n",
       "\n",
       "                                     path  \\\n",
       "0  HH01082021-m03s37ms011-m03s39ms552.wav   \n",
       "1  HH01082021-m03s41ms371-m03s45ms023.wav   \n",
       "2  HH01082021-m04s43ms401-m04s46ms528.wav   \n",
       "3  HH01082021-m04s48ms835-m04s51ms580.wav   \n",
       "4  HH01082021-m05s04ms737-m05s07ms762.wav   \n",
       "\n",
       "                            allosaurus  ...  vad_s  drz_s  trans_len  \\\n",
       "0              a e i a d i ɡ a m a l a  ...  2.379  2.447         23   \n",
       "1                a j a d i v a n a l a  ...  3.375  3.510         23   \n",
       "2    a p e i e p e l e ð a l a m a l a  ...  3.088  3.037         29   \n",
       "3  a t e i j a p e d e ð a ɡ a n a ð a  ...  2.413  2.649         29   \n",
       "4      a e j e ð e d e ð a l a m a l a  ...  2.920  2.919         29   \n",
       "\n",
       "  pcnt_speech trans_len_sq trans_len_log  cos_sim_softmax  cos_sim_log  \\\n",
       "0    0.936246     3.135494      3.135494         0.000044   -10.039731   \n",
       "1    0.924151     3.135494      3.135494         0.000044   -10.028157   \n",
       "2    0.987528     3.367296      3.367296         0.000042   -10.080580   \n",
       "3    0.879053     3.367296      3.367296         0.000044   -10.025673   \n",
       "4    0.965289     3.367296      3.367296         0.000042   -10.068530   \n",
       "\n",
       "   duration  split  \n",
       "0     2.541  train  \n",
       "1     3.652  train  \n",
       "2     3.127  train  \n",
       "3     2.745  train  \n",
       "4     3.025  train  \n",
       "\n",
       "[5 rows x 27 columns]"
      ]
     },
     "execution_count": 5,
     "metadata": {},
     "output_type": "execute_result"
    }
   ],
   "source": [
    "# df=pd.DataFrame(columns=ds['train'].column_names+['split'])\n",
    "split_dfs=[]\n",
    "for split in ds:\n",
    "    split_df=ds[split].remove_columns('audio').to_pandas()\n",
    "    split_df['split']=split\n",
    "    split_dfs.append(split_df)\n",
    "df=pd.concat(split_dfs, ignore_index=True)\n",
    "print(df.shape)\n",
    "df.head()"
   ]
  },
  {
   "cell_type": "code",
   "execution_count": 6,
   "metadata": {},
   "outputs": [
    {
     "data": {
      "text/plain": [
       "start                                                                        217011.0\n",
       "end                                                                          219552.0\n",
       "transcription                                                 àprí jɜ̀dí ðáŋàlà\n",
       "eaf_source                          /Users/markjos/Library/CloudStorage/GoogleDriv...\n",
       "wav_source                          /Users/markjos/Library/CloudStorage/GoogleDriv...\n",
       "raw_transcription                                             àprí jɜ̀dí ðáŋàlà\n",
       "clip                                data/tira-asr/clips/HH01082021-m03s37ms011-m03...\n",
       "wav_rawpath                         /Users/markjos/Library/CloudStorage/GoogleDriv...\n",
       "path                                           HH01082021-m03s37ms011-m03s39ms552.wav\n",
       "allosaurus                                                    a e i a d i ɡ a m a l a\n",
       "clap_ipa_cos_sim                                                             0.705214\n",
       "wada_snr                                                                    14.765366\n",
       "nist_stnr                                                                       23.75\n",
       "speaker-diarization-3.1                                        0.031 2.478 SPEAKER_00\n",
       "voice-activity-detection                                           0.166 2.545 SPEECH\n",
       "whisper-large-v3                                                        اپری یدی ذہنہ\n",
       "clapipa-transcription-allosaurus                                               0.5571\n",
       "vad_s                                                                           2.379\n",
       "drz_s                                                                           2.447\n",
       "trans_len                                                                          23\n",
       "pcnt_speech                                                                  0.936246\n",
       "trans_len_sq                                                                 3.135494\n",
       "trans_len_log                                                                3.135494\n",
       "cos_sim_softmax                                                              0.000044\n",
       "cos_sim_log                                                                -10.039731\n",
       "duration                                                                        2.541\n",
       "split                                                                           train\n",
       "Name: 0, dtype: object"
      ]
     },
     "execution_count": 6,
     "metadata": {},
     "output_type": "execute_result"
    }
   ],
   "source": [
    "df.loc[0]"
   ]
  },
  {
   "cell_type": "markdown",
   "metadata": {},
   "source": [
    "There are 45 ungrammatical sentences in the dataset. Whoops."
   ]
  },
  {
   "cell_type": "code",
   "execution_count": 7,
   "metadata": {},
   "outputs": [
    {
     "data": {
      "text/plain": [
       "raw_transcription\n",
       "False    20435\n",
       "True        45\n",
       "Name: count, dtype: int64"
      ]
     },
     "execution_count": 7,
     "metadata": {},
     "output_type": "execute_result"
    }
   ],
   "source": [
    "df['raw_transcription'].str.contains('\\*').value_counts()"
   ]
  },
  {
   "cell_type": "markdown",
   "metadata": {},
   "source": [
    "The train split contains 21 recordings not found in test or validation. Neither test nor validation partitions have any recordings only found in them, but they each have 1 recording not found in train."
   ]
  },
  {
   "cell_type": "code",
   "execution_count": 8,
   "metadata": {},
   "outputs": [
    {
     "data": {
      "text/plain": [
       "((21,), (1,), (1,))"
      ]
     },
     "execution_count": 8,
     "metadata": {},
     "output_type": "execute_result"
    }
   ],
   "source": [
    "train=df['split']=='train'\n",
    "validation=df['split']=='validation'\n",
    "test=df['split']=='test'\n",
    "\n",
    "train_wavs=pd.Series(df[train]['wav_source'].unique())\n",
    "val_wavs=pd.Series(df[validation]['wav_source'].unique())\n",
    "test_wavs=pd.Series(df[test]['wav_source'].unique())\n",
    "\n",
    "df['split']\n",
    "train_only = train_wavs[~train_wavs.isin(val_wavs) & ~train_wavs.isin(test_wavs)]\n",
    "val_only = val_wavs[~val_wavs.isin(train_wavs)]# & ~val_wavs.isin(test_wavs)]\n",
    "test_only = test_wavs[~test_wavs.isin(train_wavs)]# & ~test_wavs.isin(val_wavs)]\n",
    "\n",
    "train_only.shape, val_only.shape, test_only.shape"
   ]
  },
  {
   "cell_type": "markdown",
   "metadata": {},
   "source": [
    "Let's add 30s before and after each record and see how many overlaps we create."
   ]
  },
  {
   "cell_type": "code",
   "execution_count": 9,
   "metadata": {},
   "outputs": [
    {
     "data": {
      "text/html": [
       "<div>\n",
       "<style scoped>\n",
       "    .dataframe tbody tr th:only-of-type {\n",
       "        vertical-align: middle;\n",
       "    }\n",
       "\n",
       "    .dataframe tbody tr th {\n",
       "        vertical-align: top;\n",
       "    }\n",
       "\n",
       "    .dataframe thead th {\n",
       "        text-align: right;\n",
       "    }\n",
       "</style>\n",
       "<table border=\"1\" class=\"dataframe\">\n",
       "  <thead>\n",
       "    <tr style=\"text-align: right;\">\n",
       "      <th></th>\n",
       "      <th>long_start</th>\n",
       "      <th>long_end</th>\n",
       "    </tr>\n",
       "  </thead>\n",
       "  <tbody>\n",
       "    <tr>\n",
       "      <th>0</th>\n",
       "      <td>187011.0</td>\n",
       "      <td>249552.0</td>\n",
       "    </tr>\n",
       "    <tr>\n",
       "      <th>1</th>\n",
       "      <td>191371.0</td>\n",
       "      <td>255023.0</td>\n",
       "    </tr>\n",
       "    <tr>\n",
       "      <th>2</th>\n",
       "      <td>253401.0</td>\n",
       "      <td>316528.0</td>\n",
       "    </tr>\n",
       "    <tr>\n",
       "      <th>3</th>\n",
       "      <td>258835.0</td>\n",
       "      <td>321580.0</td>\n",
       "    </tr>\n",
       "    <tr>\n",
       "      <th>4</th>\n",
       "      <td>274737.0</td>\n",
       "      <td>337762.0</td>\n",
       "    </tr>\n",
       "    <tr>\n",
       "      <th>...</th>\n",
       "      <td>...</td>\n",
       "      <td>...</td>\n",
       "    </tr>\n",
       "    <tr>\n",
       "      <th>20475</th>\n",
       "      <td>554799.0</td>\n",
       "      <td>615373.0</td>\n",
       "    </tr>\n",
       "    <tr>\n",
       "      <th>20476</th>\n",
       "      <td>1964053.0</td>\n",
       "      <td>2024599.0</td>\n",
       "    </tr>\n",
       "    <tr>\n",
       "      <th>20477</th>\n",
       "      <td>1402547.0</td>\n",
       "      <td>1463467.0</td>\n",
       "    </tr>\n",
       "    <tr>\n",
       "      <th>20478</th>\n",
       "      <td>1587160.0</td>\n",
       "      <td>1647733.0</td>\n",
       "    </tr>\n",
       "    <tr>\n",
       "      <th>20479</th>\n",
       "      <td>1718333.0</td>\n",
       "      <td>1778933.0</td>\n",
       "    </tr>\n",
       "  </tbody>\n",
       "</table>\n",
       "<p>20480 rows × 2 columns</p>\n",
       "</div>"
      ],
      "text/plain": [
       "       long_start   long_end\n",
       "0        187011.0   249552.0\n",
       "1        191371.0   255023.0\n",
       "2        253401.0   316528.0\n",
       "3        258835.0   321580.0\n",
       "4        274737.0   337762.0\n",
       "...           ...        ...\n",
       "20475    554799.0   615373.0\n",
       "20476   1964053.0  2024599.0\n",
       "20477   1402547.0  1463467.0\n",
       "20478   1587160.0  1647733.0\n",
       "20479   1718333.0  1778933.0\n",
       "\n",
       "[20480 rows x 2 columns]"
      ]
     },
     "execution_count": 9,
     "metadata": {},
     "output_type": "execute_result"
    }
   ],
   "source": [
    "# remaining=((30-df['duration'])*1_000).astype(int)\n",
    "df['long_start']=df['start']-30_000\n",
    "df['long_end']=df['end']+30_000\n",
    "df[['long_start', 'long_end']]"
   ]
  },
  {
   "cell_type": "code",
   "execution_count": 10,
   "metadata": {},
   "outputs": [
    {
     "data": {
      "text/plain": [
       "0                                                   [0, 1]\n",
       "1                                                   [0, 1]\n",
       "2                                                [2, 3, 4]\n",
       "3                                                [2, 3, 4]\n",
       "4                                                [2, 3, 4]\n",
       "                               ...                        \n",
       "20475    [15837, 15838, 15839, 15840, 15841, 15842, 158...\n",
       "20476                                [15913, 15914, 20476]\n",
       "20477    [16018, 16019, 16020, 16021, 16022, 16023, 160...\n",
       "20478                                [16025, 16026, 20478]\n",
       "20479                  [16366, 16367, 16368, 16369, 20479]\n",
       "Name: overlap, Length: 20480, dtype: object"
      ]
     },
     "execution_count": 10,
     "metadata": {},
     "output_type": "execute_result"
    }
   ],
   "source": [
    "def find_overlap(row):\n",
    "    start=row['long_start']\n",
    "    end=row['long_end']\n",
    "    wav=row['wav_source']\n",
    "\n",
    "    has_wav=df['wav_source']==wav\n",
    "    after_start=df['start']>=start\n",
    "    before_end=df['end']<=end\n",
    "    overlap=has_wav&after_start&before_end\n",
    "    return df.loc[overlap].index.tolist()\n",
    "df['overlap']=df.apply(find_overlap, axis=1)\n",
    "df['overlap']"
   ]
  },
  {
   "cell_type": "code",
   "execution_count": 11,
   "metadata": {},
   "outputs": [
    {
     "data": {
      "text/plain": [
       "6.39443359375"
      ]
     },
     "execution_count": 11,
     "metadata": {},
     "output_type": "execute_result"
    }
   ],
   "source": [
    "df['num_overlap']=df['overlap'].apply(len)\n",
    "df['num_overlap'].mean()"
   ]
  },
  {
   "cell_type": "code",
   "execution_count": 12,
   "metadata": {},
   "outputs": [
    {
     "data": {
      "text/plain": [
       "0                                           [train, train]\n",
       "1                                           [train, train]\n",
       "2                                    [train, train, train]\n",
       "3                                    [train, train, train]\n",
       "4                                    [train, train, train]\n",
       "                               ...                        \n",
       "20475    [train, train, train, train, train, train, tra...\n",
       "20476                                 [train, train, test]\n",
       "20477    [train, train, train, train, train, train, tra...\n",
       "20478                                 [train, train, test]\n",
       "20479                   [train, train, train, train, test]\n",
       "Name: overlap_split, Length: 20480, dtype: object"
      ]
     },
     "execution_count": 12,
     "metadata": {},
     "output_type": "execute_result"
    }
   ],
   "source": [
    "get_split_from_index = lambda ilist: [df.at[i, 'split'] for i in ilist]\n",
    "df['overlap_split']=df['overlap'].apply(get_split_from_index)\n",
    "df['overlap_split']"
   ]
  },
  {
   "cell_type": "code",
   "execution_count": 13,
   "metadata": {},
   "outputs": [
    {
     "data": {
      "text/plain": [
       "overlap_split\n",
       "{train}                      13367\n",
       "{validation, train}           2322\n",
       "{train, test}                 2124\n",
       "{test}                         931\n",
       "{validation}                   921\n",
       "{validation, test}             438\n",
       "{validation, train, test}      377\n",
       "Name: count, dtype: int64"
      ]
     },
     "execution_count": 13,
     "metadata": {},
     "output_type": "execute_result"
    }
   ],
   "source": [
    "df['overlap_split'].apply(set).value_counts()"
   ]
  },
  {
   "cell_type": "markdown",
   "metadata": {},
   "source": [
    "Let's pick a subset of records such that there is overlap between any of them.\n",
    "Let's also exclude an record which has labels from multiple splits included."
   ]
  },
  {
   "cell_type": "code",
   "execution_count": 14,
   "metadata": {},
   "outputs": [
    {
     "name": "stderr",
     "output_type": "stream",
     "text": [
      "100%|██████████| 20480/20480 [00:02<00:00, 9913.09it/s]\n"
     ]
    },
    {
     "data": {
      "text/plain": [
       "(5354, 32)"
      ]
     },
     "execution_count": 14,
     "metadata": {},
     "output_type": "execute_result"
    }
   ],
   "source": [
    "collapsed_idcs=[]\n",
    "covered_idcs=[]\n",
    "for i, row in tqdm(df.iterrows(), total=len(df)):\n",
    "    if len(set(row['overlap_split']))>1:\n",
    "        # ignore recrods that overlap with labels from multiple partitions\n",
    "        continue\n",
    "    # if no labels in this record have been picked already, add to subset\n",
    "    if not any(j in collapsed_idcs for j in row['overlap']):\n",
    "        collapsed_idcs.append(i)\n",
    "        covered_idcs.extend(row['overlap'])\n",
    "df_sub=df.loc[collapsed_idcs]\n",
    "df_sub.shape"
   ]
  },
  {
   "cell_type": "markdown",
   "metadata": {},
   "source": [
    "Let's update the 'start', 'end' and 'transcription' columns to have the values for each label within the interval."
   ]
  },
  {
   "cell_type": "code",
   "execution_count": 15,
   "metadata": {},
   "outputs": [],
   "source": [
    "get_values_for_overlap_span = lambda idcs, col: df.loc[idcs][col].tolist()\n",
    "\n",
    "df_sub['start_list']=df['overlap'].apply(lambda x: get_values_for_overlap_span(x, 'start'))\n",
    "df_sub['end_list']=df['overlap'].apply(lambda x: get_values_for_overlap_span(x, 'end'))\n",
    "df_sub['trans_list']=df['overlap'].apply(lambda x: get_values_for_overlap_span(x, 'transcription'))"
   ]
  },
  {
   "cell_type": "code",
   "execution_count": 16,
   "metadata": {},
   "outputs": [
    {
     "data": {
      "text/plain": [
       "0        [àprí jɜ̀dí ðáŋàlà, àprí jɜ̀dí ðáŋà...\n",
       "2        [àprí jə̀və̀lɛ̀ðɔ́ ðáŋàlà, àprí jə̀və̀l...\n",
       "5        [àprí jàvə́lɛ̀ðɛ̌ ðàŋàlà, àprí jàvə́l...\n",
       "7        [àprí jávə̀lɛ̀ðɔ́ ðáŋàlà, àprí jávə̀l...\n",
       "10       [àprí jávə̀lɛ̀ðɔ́ ðáŋàlà, àprí jávə̀l...\n",
       "                               ...                        \n",
       "20439                                         [làrdɜ̀dì]\n",
       "20440                                       [lɛ̀àrdɛ̀dì]\n",
       "20455    [là t̪ə́rvàvɛ̀, là t̪ə́rvàvì, lìjàjɔ̀, ...\n",
       "20459    [lìjàjɔ̀, là jájɛ̀, là jájɛ̀, lə̀jàrjɔ́...\n",
       "20466                                   [là bŕɽàɽìðì]\n",
       "Name: trans_list, Length: 5354, dtype: object"
      ]
     },
     "execution_count": 16,
     "metadata": {},
     "output_type": "execute_result"
    }
   ],
   "source": [
    "df_sub['trans_list']"
   ]
  },
  {
   "cell_type": "markdown",
   "metadata": {},
   "source": [
    "Let's load phone embeddings so we can find which records have the most diversity of Tira labels"
   ]
  },
  {
   "cell_type": "code",
   "execution_count": 17,
   "metadata": {},
   "outputs": [
    {
     "data": {
      "text/plain": [
       "torch.Size([20480, 512])"
      ]
     },
     "execution_count": 17,
     "metadata": {},
     "output_type": "execute_result"
    }
   ],
   "source": [
    "import torch\n",
    "from torch.nn.functional import cosine_similarity\n",
    "phone_embed_path='/Users/markjos/projects/malachor5/data/pyarrow-datasets/tira-clean-split/clap_ipa_phone_embeds.pt'\n",
    "embeds=torch.load(phone_embed_path)\n",
    "embeds.shape"
   ]
  },
  {
   "cell_type": "code",
   "execution_count": 18,
   "metadata": {},
   "outputs": [
    {
     "data": {
      "text/plain": [
       "torch.Size([20480])"
      ]
     },
     "execution_count": 18,
     "metadata": {},
     "output_type": "execute_result"
    }
   ],
   "source": [
    "cosine_similarity(embeds, embeds, dim=1).shape"
   ]
  },
  {
   "cell_type": "code",
   "execution_count": 19,
   "metadata": {},
   "outputs": [
    {
     "data": {
      "text/plain": [
       "torch.Size([512])"
      ]
     },
     "execution_count": 19,
     "metadata": {},
     "output_type": "execute_result"
    }
   ],
   "source": [
    "embeds.mean(dim=0).shape"
   ]
  },
  {
   "cell_type": "code",
   "execution_count": 20,
   "metadata": {},
   "outputs": [
    {
     "data": {
      "text/plain": [
       "<Axes: >"
      ]
     },
     "execution_count": 20,
     "metadata": {},
     "output_type": "execute_result"
    },
    {
     "data": {
      "image/png": "[encoded data removed]",
      "text/plain": [
       "<Figure size 432x288 with 1 Axes>"
      ]
     },
     "metadata": {
      "needs_background": "light"
     },
     "output_type": "display_data"
    }
   ],
   "source": [
    "def pairwise_cos_sim(idcs):\n",
    "    if len(idcs)==0:\n",
    "        return 1\n",
    "    embed_list=[]\n",
    "    comparanda=[]\n",
    "    for i in idcs:\n",
    "        embed=embeds[i]\n",
    "        other_idcs = [j for j in idcs if j!=i]\n",
    "        other_embeds = embeds[other_idcs]\n",
    "        embed_list.append(embed)\n",
    "        comparanda.append(other_embeds.mean(dim=0))\n",
    "    return cosine_similarity(torch.stack(embed_list), torch.stack(comparanda)).mean().item()\n",
    "\n",
    "df_sub['pairwise_cos_sim']=df_sub['overlap'].apply(pairwise_cos_sim)\n",
    "df_sub.boxplot('pairwise_cos_sim')"
   ]
  },
  {
   "cell_type": "code",
   "execution_count": 29,
   "metadata": {},
   "outputs": [
    {
     "data": {
      "text/html": [
       "<div>\n",
       "<style scoped>\n",
       "    .dataframe tbody tr th:only-of-type {\n",
       "        vertical-align: middle;\n",
       "    }\n",
       "\n",
       "    .dataframe tbody tr th {\n",
       "        vertical-align: top;\n",
       "    }\n",
       "\n",
       "    .dataframe thead th {\n",
       "        text-align: right;\n",
       "    }\n",
       "</style>\n",
       "<table border=\"1\" class=\"dataframe\">\n",
       "  <thead>\n",
       "    <tr style=\"text-align: right;\">\n",
       "      <th></th>\n",
       "      <th>old_start</th>\n",
       "      <th>old_end</th>\n",
       "      <th>transcription</th>\n",
       "      <th>eaf_source</th>\n",
       "      <th>wav_source</th>\n",
       "      <th>raw_transcription</th>\n",
       "      <th>clip</th>\n",
       "      <th>wav_rawpath</th>\n",
       "      <th>path</th>\n",
       "      <th>allosaurus</th>\n",
       "      <th>...</th>\n",
       "      <th>split</th>\n",
       "      <th>start</th>\n",
       "      <th>end</th>\n",
       "      <th>overlap</th>\n",
       "      <th>num_overlap</th>\n",
       "      <th>overlap_split</th>\n",
       "      <th>start_list</th>\n",
       "      <th>end_list</th>\n",
       "      <th>trans_list</th>\n",
       "      <th>pairwise_cos_sim</th>\n",
       "    </tr>\n",
       "  </thead>\n",
       "  <tbody>\n",
       "    <tr>\n",
       "      <th>0</th>\n",
       "      <td>217011.0</td>\n",
       "      <td>219552.0</td>\n",
       "      <td>àprí jɜ̀dí ðáŋàlà</td>\n",
       "      <td>/Users/markjos/Library/CloudStorage/GoogleDriv...</td>\n",
       "      <td>/Users/markjos/Library/CloudStorage/GoogleDriv...</td>\n",
       "      <td>àprí jɜ̀dí ðáŋàlà</td>\n",
       "      <td>data/tira-asr/clips/HH01082021-m03s37ms011-m03...</td>\n",
       "      <td>/Users/markjos/Library/CloudStorage/GoogleDriv...</td>\n",
       "      <td>HH01082021-m03s37ms011-m03s39ms552.wav</td>\n",
       "      <td>a e i a d i ɡ a m a l a</td>\n",
       "      <td>...</td>\n",
       "      <td>train</td>\n",
       "      <td>187011.0</td>\n",
       "      <td>249552.0</td>\n",
       "      <td>[0, 1]</td>\n",
       "      <td>2</td>\n",
       "      <td>[train, train]</td>\n",
       "      <td>[217011.0, 221371.0]</td>\n",
       "      <td>[219552.0, 225023.0]</td>\n",
       "      <td>[àprí jɜ̀dí ðáŋàlà, àprí jɜ̀dí ðáŋà...</td>\n",
       "      <td>0.659426</td>\n",
       "    </tr>\n",
       "    <tr>\n",
       "      <th>2</th>\n",
       "      <td>283401.0</td>\n",
       "      <td>286528.0</td>\n",
       "      <td>àprí jə̀və̀lɛ̀ðɔ́ ðáŋàlà</td>\n",
       "      <td>/Users/markjos/Library/CloudStorage/GoogleDriv...</td>\n",
       "      <td>/Users/markjos/Library/CloudStorage/GoogleDriv...</td>\n",
       "      <td>àprí jə̀və̀lɛ̀ðɔ́ ðáŋàlà</td>\n",
       "      <td>data/tira-asr/clips/HH01082021-m04s43ms401-m04...</td>\n",
       "      <td>/Users/markjos/Library/CloudStorage/GoogleDriv...</td>\n",
       "      <td>HH01082021-m04s43ms401-m04s46ms528.wav</td>\n",
       "      <td>a p e i e p e l e ð a l a m a l a</td>\n",
       "      <td>...</td>\n",
       "      <td>train</td>\n",
       "      <td>253401.0</td>\n",
       "      <td>316528.0</td>\n",
       "      <td>[2, 3, 4]</td>\n",
       "      <td>3</td>\n",
       "      <td>[train, train, train]</td>\n",
       "      <td>[283401.0, 288835.0, 304737.0]</td>\n",
       "      <td>[286528.0, 291580.0, 307762.0]</td>\n",
       "      <td>[àprí jə̀və̀lɛ̀ðɔ́ ðáŋàlà, àprí jə̀və̀l...</td>\n",
       "      <td>0.270774</td>\n",
       "    </tr>\n",
       "    <tr>\n",
       "      <th>5</th>\n",
       "      <td>373451.0</td>\n",
       "      <td>377362.0</td>\n",
       "      <td>àprí jàvə́lɛ̀ðɛ̌ ðàŋàlà</td>\n",
       "      <td>/Users/markjos/Library/CloudStorage/GoogleDriv...</td>\n",
       "      <td>/Users/markjos/Library/CloudStorage/GoogleDriv...</td>\n",
       "      <td>àprí jàvə́lɛ̀ðɛ̌ ðàŋàlà</td>\n",
       "      <td>data/tira-asr/clips/HH01082021-m06s13ms451-m06...</td>\n",
       "      <td>/Users/markjos/Library/CloudStorage/GoogleDriv...</td>\n",
       "      <td>HH01082021-m06s13ms451-m06s17ms362.wav</td>\n",
       "      <td>a p i j a b ɛ l ɛ j e d e b a ŋ a l a</td>\n",
       "      <td>...</td>\n",
       "      <td>train</td>\n",
       "      <td>343451.0</td>\n",
       "      <td>407362.0</td>\n",
       "      <td>[5, 6]</td>\n",
       "      <td>2</td>\n",
       "      <td>[train, train]</td>\n",
       "      <td>[373451.0, 378899.0]</td>\n",
       "      <td>[377362.0, 383279.0]</td>\n",
       "      <td>[àprí jàvə́lɛ̀ðɛ̌ ðàŋàlà, àprí jàvə́l...</td>\n",
       "      <td>0.285611</td>\n",
       "    </tr>\n",
       "    <tr>\n",
       "      <th>7</th>\n",
       "      <td>514659.0</td>\n",
       "      <td>518038.0</td>\n",
       "      <td>àprí jávə̀lɛ̀ðɔ́ ðáŋàlà</td>\n",
       "      <td>/Users/markjos/Library/CloudStorage/GoogleDriv...</td>\n",
       "      <td>/Users/markjos/Library/CloudStorage/GoogleDriv...</td>\n",
       "      <td>àprí jávə̀lɛ̀ðɔ́ ðáŋàlà</td>\n",
       "      <td>data/tira-asr/clips/HH01082021-m08s34ms659-m08...</td>\n",
       "      <td>/Users/markjos/Library/CloudStorage/GoogleDriv...</td>\n",
       "      <td>HH01082021-m08s34ms659-m08s38ms038.wav</td>\n",
       "      <td>a p r e ʂ i j a b ɛ l i ð ɔ r a ŋ a n a</td>\n",
       "      <td>...</td>\n",
       "      <td>train</td>\n",
       "      <td>484659.0</td>\n",
       "      <td>548038.0</td>\n",
       "      <td>[7, 8, 9]</td>\n",
       "      <td>3</td>\n",
       "      <td>[train, train, train]</td>\n",
       "      <td>[514659.0, 524380.0, 540389.0]</td>\n",
       "      <td>[518038.0, 527963.0, 543475.0]</td>\n",
       "      <td>[àprí jávə̀lɛ̀ðɔ́ ðáŋàlà, àprí jávə̀l...</td>\n",
       "      <td>0.690790</td>\n",
       "    </tr>\n",
       "    <tr>\n",
       "      <th>10</th>\n",
       "      <td>564731.0</td>\n",
       "      <td>567740.0</td>\n",
       "      <td>àprí jávə̀lɛ̀ðɔ́ ðáŋàlà</td>\n",
       "      <td>/Users/markjos/Library/CloudStorage/GoogleDriv...</td>\n",
       "      <td>/Users/markjos/Library/CloudStorage/GoogleDriv...</td>\n",
       "      <td>àprí jávə̀lɛ̀ðɔ́ ðáŋàlà</td>\n",
       "      <td>data/tira-asr/clips/HH01082021-m09s24ms731-m09...</td>\n",
       "      <td>/Users/markjos/Library/CloudStorage/GoogleDriv...</td>\n",
       "      <td>HH01082021-m09s24ms731-m09s27ms740.wav</td>\n",
       "      <td>a e a b l e ð e ð a m a ð a</td>\n",
       "      <td>...</td>\n",
       "      <td>train</td>\n",
       "      <td>534731.0</td>\n",
       "      <td>597740.0</td>\n",
       "      <td>[9, 10, 11]</td>\n",
       "      <td>3</td>\n",
       "      <td>[train, train, train]</td>\n",
       "      <td>[540389.0, 564731.0, 590317.0]</td>\n",
       "      <td>[543475.0, 567740.0, 593363.0]</td>\n",
       "      <td>[àprí jávə̀lɛ̀ðɔ́ ðáŋàlà, àprí jávə̀l...</td>\n",
       "      <td>0.920946</td>\n",
       "    </tr>\n",
       "  </tbody>\n",
       "</table>\n",
       "<p>5 rows × 36 columns</p>\n",
       "</div>"
      ],
      "text/plain": [
       "    old_start   old_end                  transcription  \\\n",
       "0    217011.0  219552.0        àprí jɜ̀dí ðáŋàlà   \n",
       "2    283401.0  286528.0  àprí jə̀və̀lɛ̀ðɔ́ ðáŋàlà   \n",
       "5    373451.0  377362.0  àprí jàvə́lɛ̀ðɛ̌ ðàŋàlà   \n",
       "7    514659.0  518038.0  àprí jávə̀lɛ̀ðɔ́ ðáŋàlà   \n",
       "10   564731.0  567740.0  àprí jávə̀lɛ̀ðɔ́ ðáŋàlà   \n",
       "\n",
       "                                           eaf_source  \\\n",
       "0   /Users/markjos/Library/CloudStorage/GoogleDriv...   \n",
       "2   /Users/markjos/Library/CloudStorage/GoogleDriv...   \n",
       "5   /Users/markjos/Library/CloudStorage/GoogleDriv...   \n",
       "7   /Users/markjos/Library/CloudStorage/GoogleDriv...   \n",
       "10  /Users/markjos/Library/CloudStorage/GoogleDriv...   \n",
       "\n",
       "                                           wav_source  \\\n",
       "0   /Users/markjos/Library/CloudStorage/GoogleDriv...   \n",
       "2   /Users/markjos/Library/CloudStorage/GoogleDriv...   \n",
       "5   /Users/markjos/Library/CloudStorage/GoogleDriv...   \n",
       "7   /Users/markjos/Library/CloudStorage/GoogleDriv...   \n",
       "10  /Users/markjos/Library/CloudStorage/GoogleDriv...   \n",
       "\n",
       "                raw_transcription  \\\n",
       "0         àprí jɜ̀dí ðáŋàlà   \n",
       "2   àprí jə̀və̀lɛ̀ðɔ́ ðáŋàlà   \n",
       "5   àprí jàvə́lɛ̀ðɛ̌ ðàŋàlà   \n",
       "7   àprí jávə̀lɛ̀ðɔ́ ðáŋàlà   \n",
       "10  àprí jávə̀lɛ̀ðɔ́ ðáŋàlà   \n",
       "\n",
       "                                                 clip  \\\n",
       "0   data/tira-asr/clips/HH01082021-m03s37ms011-m03...   \n",
       "2   data/tira-asr/clips/HH01082021-m04s43ms401-m04...   \n",
       "5   data/tira-asr/clips/HH01082021-m06s13ms451-m06...   \n",
       "7   data/tira-asr/clips/HH01082021-m08s34ms659-m08...   \n",
       "10  data/tira-asr/clips/HH01082021-m09s24ms731-m09...   \n",
       "\n",
       "                                          wav_rawpath  \\\n",
       "0   /Users/markjos/Library/CloudStorage/GoogleDriv...   \n",
       "2   /Users/markjos/Library/CloudStorage/GoogleDriv...   \n",
       "5   /Users/markjos/Library/CloudStorage/GoogleDriv...   \n",
       "7   /Users/markjos/Library/CloudStorage/GoogleDriv...   \n",
       "10  /Users/markjos/Library/CloudStorage/GoogleDriv...   \n",
       "\n",
       "                                      path  \\\n",
       "0   HH01082021-m03s37ms011-m03s39ms552.wav   \n",
       "2   HH01082021-m04s43ms401-m04s46ms528.wav   \n",
       "5   HH01082021-m06s13ms451-m06s17ms362.wav   \n",
       "7   HH01082021-m08s34ms659-m08s38ms038.wav   \n",
       "10  HH01082021-m09s24ms731-m09s27ms740.wav   \n",
       "\n",
       "                                 allosaurus  ...  split     start       end  \\\n",
       "0                   a e i a d i ɡ a m a l a  ...  train  187011.0  249552.0   \n",
       "2         a p e i e p e l e ð a l a m a l a  ...  train  253401.0  316528.0   \n",
       "5     a p i j a b ɛ l ɛ j e d e b a ŋ a l a  ...  train  343451.0  407362.0   \n",
       "7   a p r e ʂ i j a b ɛ l i ð ɔ r a ŋ a n a  ...  train  484659.0  548038.0   \n",
       "10              a e a b l e ð e ð a m a ð a  ...  train  534731.0  597740.0   \n",
       "\n",
       "        overlap num_overlap          overlap_split  \\\n",
       "0        [0, 1]           2         [train, train]   \n",
       "2     [2, 3, 4]           3  [train, train, train]   \n",
       "5        [5, 6]           2         [train, train]   \n",
       "7     [7, 8, 9]           3  [train, train, train]   \n",
       "10  [9, 10, 11]           3  [train, train, train]   \n",
       "\n",
       "                        start_list                        end_list  \\\n",
       "0             [217011.0, 221371.0]            [219552.0, 225023.0]   \n",
       "2   [283401.0, 288835.0, 304737.0]  [286528.0, 291580.0, 307762.0]   \n",
       "5             [373451.0, 378899.0]            [377362.0, 383279.0]   \n",
       "7   [514659.0, 524380.0, 540389.0]  [518038.0, 527963.0, 543475.0]   \n",
       "10  [540389.0, 564731.0, 590317.0]  [543475.0, 567740.0, 593363.0]   \n",
       "\n",
       "                                           trans_list  pairwise_cos_sim  \n",
       "0   [àprí jɜ̀dí ðáŋàlà, àprí jɜ̀dí ðáŋà...          0.659426  \n",
       "2   [àprí jə̀və̀lɛ̀ðɔ́ ðáŋàlà, àprí jə̀və̀l...          0.270774  \n",
       "5   [àprí jàvə́lɛ̀ðɛ̌ ðàŋàlà, àprí jàvə́l...          0.285611  \n",
       "7   [àprí jávə̀lɛ̀ðɔ́ ðáŋàlà, àprí jávə̀l...          0.690790  \n",
       "10  [àprí jávə̀lɛ̀ðɔ́ ðáŋàlà, àprí jávə̀l...          0.920946  \n",
       "\n",
       "[5 rows x 36 columns]"
      ]
     },
     "execution_count": 29,
     "metadata": {},
     "output_type": "execute_result"
    }
   ],
   "source": [
    "df_sub=df_sub.rename({\n",
    "    'start':'old_start',\n",
    "    'end':'old_end',\n",
    "    'long_start':'start',\n",
    "    'long_end':'end',\n",
    "}, axis=1)\n",
    "df_sub.head()"
   ]
  },
  {
   "cell_type": "code",
   "execution_count": 34,
   "metadata": {},
   "outputs": [
    {
     "data": {
      "text/html": [
       "<div>\n",
       "<style scoped>\n",
       "    .dataframe tbody tr th:only-of-type {\n",
       "        vertical-align: middle;\n",
       "    }\n",
       "\n",
       "    .dataframe tbody tr th {\n",
       "        vertical-align: top;\n",
       "    }\n",
       "\n",
       "    .dataframe thead th {\n",
       "        text-align: right;\n",
       "    }\n",
       "</style>\n",
       "<table border=\"1\" class=\"dataframe\">\n",
       "  <thead>\n",
       "    <tr style=\"text-align: right;\">\n",
       "      <th></th>\n",
       "      <th>old_start</th>\n",
       "      <th>old_end</th>\n",
       "      <th>transcription</th>\n",
       "      <th>eaf_source</th>\n",
       "      <th>wav_source</th>\n",
       "      <th>raw_transcription</th>\n",
       "      <th>clip</th>\n",
       "      <th>wav_rawpath</th>\n",
       "      <th>path</th>\n",
       "      <th>allosaurus</th>\n",
       "      <th>...</th>\n",
       "      <th>split</th>\n",
       "      <th>start</th>\n",
       "      <th>end</th>\n",
       "      <th>overlap</th>\n",
       "      <th>num_overlap</th>\n",
       "      <th>overlap_split</th>\n",
       "      <th>start_list</th>\n",
       "      <th>end_list</th>\n",
       "      <th>trans_list</th>\n",
       "      <th>pairwise_cos_sim</th>\n",
       "    </tr>\n",
       "  </thead>\n",
       "  <tbody>\n",
       "    <tr>\n",
       "      <th>0</th>\n",
       "      <td>217011</td>\n",
       "      <td>219552</td>\n",
       "      <td>àprí jɜ̀dí ðáŋàlà</td>\n",
       "      <td>/Users/markjos/Library/CloudStorage/GoogleDriv...</td>\n",
       "      <td>/Users/markjos/Library/CloudStorage/GoogleDriv...</td>\n",
       "      <td>àprí jɜ̀dí ðáŋàlà</td>\n",
       "      <td>data/tira-asr/clips/HH01082021-m03s37ms011-m03...</td>\n",
       "      <td>/Users/markjos/Library/CloudStorage/GoogleDriv...</td>\n",
       "      <td>HH01082021-m03s37ms011-m03s39ms552.wav</td>\n",
       "      <td>a e i a d i ɡ a m a l a</td>\n",
       "      <td>...</td>\n",
       "      <td>train</td>\n",
       "      <td>187011</td>\n",
       "      <td>249552</td>\n",
       "      <td>[0, 1]</td>\n",
       "      <td>2</td>\n",
       "      <td>[train, train]</td>\n",
       "      <td>[217011.0, 221371.0]</td>\n",
       "      <td>[219552.0, 225023.0]</td>\n",
       "      <td>[àprí jɜ̀dí ðáŋàlà, àprí jɜ̀dí ðáŋà...</td>\n",
       "      <td>0.659426</td>\n",
       "    </tr>\n",
       "    <tr>\n",
       "      <th>2</th>\n",
       "      <td>283401</td>\n",
       "      <td>286528</td>\n",
       "      <td>àprí jə̀və̀lɛ̀ðɔ́ ðáŋàlà</td>\n",
       "      <td>/Users/markjos/Library/CloudStorage/GoogleDriv...</td>\n",
       "      <td>/Users/markjos/Library/CloudStorage/GoogleDriv...</td>\n",
       "      <td>àprí jə̀və̀lɛ̀ðɔ́ ðáŋàlà</td>\n",
       "      <td>data/tira-asr/clips/HH01082021-m04s43ms401-m04...</td>\n",
       "      <td>/Users/markjos/Library/CloudStorage/GoogleDriv...</td>\n",
       "      <td>HH01082021-m04s43ms401-m04s46ms528.wav</td>\n",
       "      <td>a p e i e p e l e ð a l a m a l a</td>\n",
       "      <td>...</td>\n",
       "      <td>train</td>\n",
       "      <td>253401</td>\n",
       "      <td>316528</td>\n",
       "      <td>[2, 3, 4]</td>\n",
       "      <td>3</td>\n",
       "      <td>[train, train, train]</td>\n",
       "      <td>[283401.0, 288835.0, 304737.0]</td>\n",
       "      <td>[286528.0, 291580.0, 307762.0]</td>\n",
       "      <td>[àprí jə̀və̀lɛ̀ðɔ́ ðáŋàlà, àprí jə̀və̀l...</td>\n",
       "      <td>0.270774</td>\n",
       "    </tr>\n",
       "    <tr>\n",
       "      <th>5</th>\n",
       "      <td>373451</td>\n",
       "      <td>377362</td>\n",
       "      <td>àprí jàvə́lɛ̀ðɛ̌ ðàŋàlà</td>\n",
       "      <td>/Users/markjos/Library/CloudStorage/GoogleDriv...</td>\n",
       "      <td>/Users/markjos/Library/CloudStorage/GoogleDriv...</td>\n",
       "      <td>àprí jàvə́lɛ̀ðɛ̌ ðàŋàlà</td>\n",
       "      <td>data/tira-asr/clips/HH01082021-m06s13ms451-m06...</td>\n",
       "      <td>/Users/markjos/Library/CloudStorage/GoogleDriv...</td>\n",
       "      <td>HH01082021-m06s13ms451-m06s17ms362.wav</td>\n",
       "      <td>a p i j a b ɛ l ɛ j e d e b a ŋ a l a</td>\n",
       "      <td>...</td>\n",
       "      <td>train</td>\n",
       "      <td>343451</td>\n",
       "      <td>407362</td>\n",
       "      <td>[5, 6]</td>\n",
       "      <td>2</td>\n",
       "      <td>[train, train]</td>\n",
       "      <td>[373451.0, 378899.0]</td>\n",
       "      <td>[377362.0, 383279.0]</td>\n",
       "      <td>[àprí jàvə́lɛ̀ðɛ̌ ðàŋàlà, àprí jàvə́l...</td>\n",
       "      <td>0.285611</td>\n",
       "    </tr>\n",
       "    <tr>\n",
       "      <th>7</th>\n",
       "      <td>514659</td>\n",
       "      <td>518038</td>\n",
       "      <td>àprí jávə̀lɛ̀ðɔ́ ðáŋàlà</td>\n",
       "      <td>/Users/markjos/Library/CloudStorage/GoogleDriv...</td>\n",
       "      <td>/Users/markjos/Library/CloudStorage/GoogleDriv...</td>\n",
       "      <td>àprí jávə̀lɛ̀ðɔ́ ðáŋàlà</td>\n",
       "      <td>data/tira-asr/clips/HH01082021-m08s34ms659-m08...</td>\n",
       "      <td>/Users/markjos/Library/CloudStorage/GoogleDriv...</td>\n",
       "      <td>HH01082021-m08s34ms659-m08s38ms038.wav</td>\n",
       "      <td>a p r e ʂ i j a b ɛ l i ð ɔ r a ŋ a n a</td>\n",
       "      <td>...</td>\n",
       "      <td>train</td>\n",
       "      <td>484659</td>\n",
       "      <td>548038</td>\n",
       "      <td>[7, 8, 9]</td>\n",
       "      <td>3</td>\n",
       "      <td>[train, train, train]</td>\n",
       "      <td>[514659.0, 524380.0, 540389.0]</td>\n",
       "      <td>[518038.0, 527963.0, 543475.0]</td>\n",
       "      <td>[àprí jávə̀lɛ̀ðɔ́ ðáŋàlà, àprí jávə̀l...</td>\n",
       "      <td>0.690790</td>\n",
       "    </tr>\n",
       "    <tr>\n",
       "      <th>10</th>\n",
       "      <td>564731</td>\n",
       "      <td>567740</td>\n",
       "      <td>àprí jávə̀lɛ̀ðɔ́ ðáŋàlà</td>\n",
       "      <td>/Users/markjos/Library/CloudStorage/GoogleDriv...</td>\n",
       "      <td>/Users/markjos/Library/CloudStorage/GoogleDriv...</td>\n",
       "      <td>àprí jávə̀lɛ̀ðɔ́ ðáŋàlà</td>\n",
       "      <td>data/tira-asr/clips/HH01082021-m09s24ms731-m09...</td>\n",
       "      <td>/Users/markjos/Library/CloudStorage/GoogleDriv...</td>\n",
       "      <td>HH01082021-m09s24ms731-m09s27ms740.wav</td>\n",
       "      <td>a e a b l e ð e ð a m a ð a</td>\n",
       "      <td>...</td>\n",
       "      <td>train</td>\n",
       "      <td>534731</td>\n",
       "      <td>597740</td>\n",
       "      <td>[9, 10, 11]</td>\n",
       "      <td>3</td>\n",
       "      <td>[train, train, train]</td>\n",
       "      <td>[540389.0, 564731.0, 590317.0]</td>\n",
       "      <td>[543475.0, 567740.0, 593363.0]</td>\n",
       "      <td>[àprí jávə̀lɛ̀ðɔ́ ðáŋàlà, àprí jávə̀l...</td>\n",
       "      <td>0.920946</td>\n",
       "    </tr>\n",
       "  </tbody>\n",
       "</table>\n",
       "<p>5 rows × 36 columns</p>\n",
       "</div>"
      ],
      "text/plain": [
       "    old_start  old_end                  transcription  \\\n",
       "0      217011   219552        àprí jɜ̀dí ðáŋàlà   \n",
       "2      283401   286528  àprí jə̀və̀lɛ̀ðɔ́ ðáŋàlà   \n",
       "5      373451   377362  àprí jàvə́lɛ̀ðɛ̌ ðàŋàlà   \n",
       "7      514659   518038  àprí jávə̀lɛ̀ðɔ́ ðáŋàlà   \n",
       "10     564731   567740  àprí jávə̀lɛ̀ðɔ́ ðáŋàlà   \n",
       "\n",
       "                                           eaf_source  \\\n",
       "0   /Users/markjos/Library/CloudStorage/GoogleDriv...   \n",
       "2   /Users/markjos/Library/CloudStorage/GoogleDriv...   \n",
       "5   /Users/markjos/Library/CloudStorage/GoogleDriv...   \n",
       "7   /Users/markjos/Library/CloudStorage/GoogleDriv...   \n",
       "10  /Users/markjos/Library/CloudStorage/GoogleDriv...   \n",
       "\n",
       "                                           wav_source  \\\n",
       "0   /Users/markjos/Library/CloudStorage/GoogleDriv...   \n",
       "2   /Users/markjos/Library/CloudStorage/GoogleDriv...   \n",
       "5   /Users/markjos/Library/CloudStorage/GoogleDriv...   \n",
       "7   /Users/markjos/Library/CloudStorage/GoogleDriv...   \n",
       "10  /Users/markjos/Library/CloudStorage/GoogleDriv...   \n",
       "\n",
       "                raw_transcription  \\\n",
       "0         àprí jɜ̀dí ðáŋàlà   \n",
       "2   àprí jə̀və̀lɛ̀ðɔ́ ðáŋàlà   \n",
       "5   àprí jàvə́lɛ̀ðɛ̌ ðàŋàlà   \n",
       "7   àprí jávə̀lɛ̀ðɔ́ ðáŋàlà   \n",
       "10  àprí jávə̀lɛ̀ðɔ́ ðáŋàlà   \n",
       "\n",
       "                                                 clip  \\\n",
       "0   data/tira-asr/clips/HH01082021-m03s37ms011-m03...   \n",
       "2   data/tira-asr/clips/HH01082021-m04s43ms401-m04...   \n",
       "5   data/tira-asr/clips/HH01082021-m06s13ms451-m06...   \n",
       "7   data/tira-asr/clips/HH01082021-m08s34ms659-m08...   \n",
       "10  data/tira-asr/clips/HH01082021-m09s24ms731-m09...   \n",
       "\n",
       "                                          wav_rawpath  \\\n",
       "0   /Users/markjos/Library/CloudStorage/GoogleDriv...   \n",
       "2   /Users/markjos/Library/CloudStorage/GoogleDriv...   \n",
       "5   /Users/markjos/Library/CloudStorage/GoogleDriv...   \n",
       "7   /Users/markjos/Library/CloudStorage/GoogleDriv...   \n",
       "10  /Users/markjos/Library/CloudStorage/GoogleDriv...   \n",
       "\n",
       "                                      path  \\\n",
       "0   HH01082021-m03s37ms011-m03s39ms552.wav   \n",
       "2   HH01082021-m04s43ms401-m04s46ms528.wav   \n",
       "5   HH01082021-m06s13ms451-m06s17ms362.wav   \n",
       "7   HH01082021-m08s34ms659-m08s38ms038.wav   \n",
       "10  HH01082021-m09s24ms731-m09s27ms740.wav   \n",
       "\n",
       "                                 allosaurus  ...  split   start     end  \\\n",
       "0                   a e i a d i ɡ a m a l a  ...  train  187011  249552   \n",
       "2         a p e i e p e l e ð a l a m a l a  ...  train  253401  316528   \n",
       "5     a p i j a b ɛ l ɛ j e d e b a ŋ a l a  ...  train  343451  407362   \n",
       "7   a p r e ʂ i j a b ɛ l i ð ɔ r a ŋ a n a  ...  train  484659  548038   \n",
       "10              a e a b l e ð e ð a m a ð a  ...  train  534731  597740   \n",
       "\n",
       "        overlap num_overlap          overlap_split  \\\n",
       "0        [0, 1]           2         [train, train]   \n",
       "2     [2, 3, 4]           3  [train, train, train]   \n",
       "5        [5, 6]           2         [train, train]   \n",
       "7     [7, 8, 9]           3  [train, train, train]   \n",
       "10  [9, 10, 11]           3  [train, train, train]   \n",
       "\n",
       "                        start_list                        end_list  \\\n",
       "0             [217011.0, 221371.0]            [219552.0, 225023.0]   \n",
       "2   [283401.0, 288835.0, 304737.0]  [286528.0, 291580.0, 307762.0]   \n",
       "5             [373451.0, 378899.0]            [377362.0, 383279.0]   \n",
       "7   [514659.0, 524380.0, 540389.0]  [518038.0, 527963.0, 543475.0]   \n",
       "10  [540389.0, 564731.0, 590317.0]  [543475.0, 567740.0, 593363.0]   \n",
       "\n",
       "                                           trans_list  pairwise_cos_sim  \n",
       "0   [àprí jɜ̀dí ðáŋàlà, àprí jɜ̀dí ðáŋà...          0.659426  \n",
       "2   [àprí jə̀və̀lɛ̀ðɔ́ ðáŋàlà, àprí jə̀və̀l...          0.270774  \n",
       "5   [àprí jàvə́lɛ̀ðɛ̌ ðàŋàlà, àprí jàvə́l...          0.285611  \n",
       "7   [àprí jávə̀lɛ̀ðɔ́ ðáŋàlà, àprí jávə̀l...          0.690790  \n",
       "10  [àprí jávə̀lɛ̀ðɔ́ ðáŋàlà, àprí jávə̀l...          0.920946  \n",
       "\n",
       "[5 rows x 36 columns]"
      ]
     },
     "execution_count": 34,
     "metadata": {},
     "output_type": "execute_result"
    }
   ],
   "source": [
    "for column in ['start', 'end', 'old_start', 'old_end']:\n",
    "    df_sub[column]=df_sub[column].astype(int)\n",
    "df_sub.head()"
   ]
  },
  {
   "cell_type": "code",
   "execution_count": 35,
   "metadata": {},
   "outputs": [],
   "source": [
    "df_sub.to_csv('../data/tira-code-mixed/metadata.csv',index=False)"
   ]
  }
 ],
 "metadata": {
  "kernelspec": {
   "display_name": "Python 3",
   "language": "python",
   "name": "python3"
  },
  "language_info": {
   "codemirror_mode": {
    "name": "ipython",
    "version": 3
   },
   "file_extension": ".py",
   "mimetype": "text/x-python",
   "name": "python",
   "nbconvert_exporter": "python",
   "pygments_lexer": "ipython3",
   "version": "3.9.19"
  }
 },
 "nbformat": 4,
 "nbformat_minor": 2
}
