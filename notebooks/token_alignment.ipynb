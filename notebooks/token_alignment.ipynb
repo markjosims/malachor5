{
 "cells": [
  {
   "cell_type": "code",
   "execution_count": 4,
   "metadata": {},
   "outputs": [],
   "source": [
    "import numpy as np\n",
    "from collections import defaultdict"
   ]
  },
  {
   "cell_type": "code",
   "execution_count": 25,
   "metadata": {},
   "outputs": [],
   "source": [
    "ipa_seqs = [\n",
    "    [1, 10, 5],\n",
    "    [10, 20, 9],\n",
    "]\n",
    "\n",
    "whisper_seqs = [\n",
    "    [20, 9, 2],\n",
    "    [11, 13, 6, 10],\n",
    "]\n",
    "\n",
    "ipa_vocab_size = np.max(np.concatenate(ipa_seqs))\n",
    "whisper_vocab_size = np.max(np.concatenate(whisper_seqs))\n",
    "\n",
    "prob_mat = np.zeros(ipa_vocab_size, whisper_vocab_size)"
   ]
  },
  {
   "cell_type": "code",
   "execution_count": null,
   "metadata": {},
   "outputs": [],
   "source": [
    "# def initialize_probs(ipa_seqs, whisper_seqs, prob_mat):\n",
    "    # for "
   ]
  }
 ],
 "metadata": {
  "kernelspec": {
   "display_name": "Python 3",
   "language": "python",
   "name": "python3"
  },
  "language_info": {
   "codemirror_mode": {
    "name": "ipython",
    "version": 3
   },
   "file_extension": ".py",
   "mimetype": "text/x-python",
   "name": "python",
   "nbconvert_exporter": "python",
   "pygments_lexer": "ipython3",
   "version": "3.9.19"
  }
 },
 "nbformat": 4,
 "nbformat_minor": 2
}
