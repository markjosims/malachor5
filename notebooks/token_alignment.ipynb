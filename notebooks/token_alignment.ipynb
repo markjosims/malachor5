{
 "cells": [
  {
   "cell_type": "code",
   "execution_count": 4,
   "metadata": {},
   "outputs": [],
   "source": [
    "import numpy as np\n",
    "from collections import defaultdict"
   ]
  },
  {
   "cell_type": "code",
   "execution_count": 103,
   "metadata": {},
   "outputs": [],
   "source": [
    "ipa_seqs = [\n",
    "    [1, 10, 5],\n",
    "    [10, 25, 9],\n",
    "]\n",
    "\n",
    "whisper_seqs = [\n",
    "    [20, 9, 2],\n",
    "    [11, 13, 6, 10],\n",
    "]\n",
    "\n",
    "ipa_vocab_size = np.max(np.concatenate(ipa_seqs))+1\n",
    "whisper_vocab_size = np.max(np.concatenate(whisper_seqs))+1\n",
    "\n",
    "eps=1e-6\n",
    "sum_sqd_dist = np.full([whisper_vocab_size, ipa_vocab_size], eps)\n",
    "ipa_token_counts = np.full(ipa_vocab_size, eps)"
   ]
  },
  {
   "cell_type": "code",
   "execution_count": 104,
   "metadata": {},
   "outputs": [
    {
     "data": {
      "text/plain": [
       "(21, 26)"
      ]
     },
     "execution_count": 104,
     "metadata": {},
     "output_type": "execute_result"
    }
   ],
   "source": [
    "sum_sqd_dist.shape"
   ]
  },
  {
   "cell_type": "code",
   "execution_count": 105,
   "metadata": {},
   "outputs": [
    {
     "data": {
      "text/plain": [
       "(26,)"
      ]
     },
     "execution_count": 105,
     "metadata": {},
     "output_type": "execute_result"
    }
   ],
   "source": [
    "sum_sqd_dist.sum(axis=0).shape"
   ]
  },
  {
   "cell_type": "code",
   "execution_count": 107,
   "metadata": {},
   "outputs": [
    {
     "data": {
      "text/plain": [
       "array([9.9999790e-08, 9.9999790e-08, 7.9999842e-01, 9.9999790e-08,\n",
       "       9.9999790e-08, 9.9999790e-08, 9.9999790e-08, 9.9999790e-08,\n",
       "       9.9999790e-08, 1.9999968e-01, 9.9999790e-08, 9.9999790e-08,\n",
       "       9.9999790e-08, 9.9999790e-08, 9.9999790e-08, 9.9999790e-08,\n",
       "       9.9999790e-08, 9.9999790e-08, 9.9999790e-08, 9.9999790e-08,\n",
       "       9.9999790e-08])"
      ]
     },
     "execution_count": 107,
     "metadata": {},
     "output_type": "execute_result"
    }
   ],
   "source": [
    "def initialize_probs(ipa_seqs, whisper_seqs, sum_sqd_dist, ipa_token_counts):\n",
    "    for ipa_seq, whisper_seq in zip(ipa_seqs, whisper_seqs):\n",
    "        for i, ipa_token in enumerate(ipa_seq):\n",
    "            ipa_token_counts[ipa_token]+=1\n",
    "            for j, whisper_token in enumerate(whisper_seq):\n",
    "                sum_sqd_dist[whisper_token,ipa_token]+=(i-j)**2\n",
    "    prob_unnorm = sum_sqd_dist/(ipa_token_counts)\n",
    "    sum_prob_unnorm = prob_unnorm.sum(axis=0)\n",
    "    prob_norm=prob_unnorm/sum_prob_unnorm\n",
    "    return prob_norm\n",
    "    \n",
    "initialize_probs(ipa_seqs, whisper_seqs, sum_sqd_dist, ipa_token_counts).T[1]"
   ]
  }
 ],
 "metadata": {
  "kernelspec": {
   "display_name": "Python 3",
   "language": "python",
   "name": "python3"
  },
  "language_info": {
   "codemirror_mode": {
    "name": "ipython",
    "version": 3
   },
   "file_extension": ".py",
   "mimetype": "text/x-python",
   "name": "python",
   "nbconvert_exporter": "python",
   "pygments_lexer": "ipython3",
   "version": "3.9.19"
  }
 },
 "nbformat": 4,
 "nbformat_minor": 2
}
