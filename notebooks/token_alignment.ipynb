{
 "cells": [
  {
   "cell_type": "code",
   "execution_count": 4,
   "metadata": {},
   "outputs": [],
   "source": [
    "import numpy as np\n",
    "from collections import defaultdict"
   ]
  },
  {
   "cell_type": "code",
   "execution_count": 5,
   "metadata": {},
   "outputs": [],
   "source": [
    "# Initialize counts and probabilities\n",
    "def initialize_probs(ipa_vocab_size, whisper_vocab_size):\n",
    "    # Initialize uniform probability distribution\n",
    "    alignment_probs = np.ones((ipa_vocab_size, whisper_vocab_size)) / whisper_vocab_size\n",
    "    return alignment_probs"
   ]
  },
  {
   "cell_type": "code",
   "execution_count": 6,
   "metadata": {},
   "outputs": [],
   "source": [
    "# E-Step: Calculate alignment probabilities for each pair of sequences\n",
    "def expectation_step(whisper_seqs, ipa_seqs, alignment_probs):\n",
    "    alignments = []\n",
    "    \n",
    "    for whisper_seq, ipa_seq in zip(whisper_seqs, ipa_seqs):\n",
    "        seq_alignment = np.zeros((len(ipa_seq), len(whisper_seq)))\n",
    "        \n",
    "        for i, ipa_token in enumerate(ipa_seq):\n",
    "            for j, whisper_token in enumerate(whisper_seq):\n",
    "                seq_alignment[i, j] = alignment_probs[ipa_token, whisper_token]\n",
    "        \n",
    "        # Normalize alignment to form a probability distribution\n",
    "        seq_alignment /= seq_alignment.sum(axis=1, keepdims=True)\n",
    "        alignments.append(seq_alignment)\n",
    "    \n",
    "    return alignments"
   ]
  },
  {
   "cell_type": "code",
   "execution_count": 7,
   "metadata": {},
   "outputs": [],
   "source": [
    "# M-Step: Update the alignment probabilities based on the E-step\n",
    "def maximization_step(alignments, whisper_seqs, ipa_seqs, ipa_vocab_size, whisper_vocab_size):\n",
    "    # Initialize count matrix\n",
    "    new_alignment_probs = np.zeros((ipa_vocab_size, whisper_vocab_size))\n",
    "\n",
    "    for seq_alignment, whisper_seq, ipa_seq in zip(alignments, whisper_seqs, ipa_seqs):\n",
    "        for i, ipa_token in enumerate(ipa_seq):\n",
    "            for j, whisper_token in enumerate(whisper_seq):\n",
    "                new_alignment_probs[ipa_token, whisper_token] += seq_alignment[i, j]\n",
    "\n",
    "    # Normalize to get probability distributions\n",
    "    new_alignment_probs /= new_alignment_probs.sum(axis=1, keepdims=True)\n",
    "    \n",
    "    return new_alignment_probs"
   ]
  },
  {
   "cell_type": "code",
   "execution_count": 8,
   "metadata": {},
   "outputs": [],
   "source": [
    "# EM Algorithm\n",
    "def train_em(whisper_seqs, ipa_seqs, ipa_vocab_size, whisper_vocab_size, n_iter=10):\n",
    "    # Step 1: Initialize probabilities\n",
    "    alignment_probs = initialize_probs(ipa_vocab_size, whisper_vocab_size)\n",
    "\n",
    "    for iteration in range(n_iter):\n",
    "        # Step 2: E-Step\n",
    "        alignments = expectation_step(whisper_seqs, ipa_seqs, alignment_probs)\n",
    "        \n",
    "        # Step 3: M-Step\n",
    "        alignment_probs = maximization_step(alignments, whisper_seqs, ipa_seqs, ipa_vocab_size, whisper_vocab_size)\n",
    "\n",
    "        print(f\"Iteration {iteration + 1}: Updated alignment probabilities\")\n",
    "    \n",
    "    return alignment_probs"
   ]
  },
  {
   "cell_type": "code",
   "execution_count": 20,
   "metadata": {},
   "outputs": [
    {
     "name": "stdout",
     "output_type": "stream",
     "text": [
      "Iteration 1: Updated alignment probabilities\n",
      "Iteration 2: Updated alignment probabilities\n",
      "Iteration 3: Updated alignment probabilities\n",
      "Iteration 4: Updated alignment probabilities\n",
      "Iteration 5: Updated alignment probabilities\n",
      "Iteration 6: Updated alignment probabilities\n",
      "Iteration 7: Updated alignment probabilities\n",
      "Iteration 8: Updated alignment probabilities\n",
      "Iteration 9: Updated alignment probabilities\n",
      "Iteration 10: Updated alignment probabilities\n"
     ]
    },
    {
     "name": "stderr",
     "output_type": "stream",
     "text": [
      "/var/folders/bt/_dsrh6ld2yncbnn9vk_d2lcc0000gp/T/ipykernel_29980/1906352901.py:12: RuntimeWarning: invalid value encountered in divide\n",
      "  new_alignment_probs /= new_alignment_probs.sum(axis=1, keepdims=True)\n"
     ]
    }
   ],
   "source": [
    "# Example sequences (list of sequences of token indices)\n",
    "whisper_seqs = [\n",
    "    # [1, 10, 20, 30],\n",
    "    # [5, 15, 25],\n",
    "    # [8, 18, 28, 38, 48]\n",
    "    [1,2,3],\n",
    "    [3,2,1],\n",
    "]\n",
    "whisper_vocab_size = np.max(np.concatenate(whisper_seqs))+1\n",
    "\n",
    "ipa_seqs = [\n",
    "    [1,2,3],\n",
    "    [3,2,1],\n",
    "    # [2, 12, 22],\n",
    "    # [6, 16],\n",
    "    # [9, 19, 29]\n",
    "]\n",
    "ipa_vocab_size = np.max(np.concatenate(ipa_seqs))+1\n",
    "\n",
    "# Train the EM model\n",
    "alignment_probs = train_em(whisper_seqs, ipa_seqs, ipa_vocab_size, whisper_vocab_size, n_iter=10)\n",
    "\n",
    "# alignment_probs[i, j] gives the probability of mapping IPA token i to Whisper token j"
   ]
  },
  {
   "cell_type": "code",
   "execution_count": 18,
   "metadata": {},
   "outputs": [
    {
     "data": {
      "text/plain": [
       "(4, 4)"
      ]
     },
     "execution_count": 18,
     "metadata": {},
     "output_type": "execute_result"
    }
   ],
   "source": [
    "alignment_probs.shape"
   ]
  },
  {
   "cell_type": "code",
   "execution_count": 21,
   "metadata": {},
   "outputs": [
    {
     "data": {
      "text/plain": [
       "array([[       nan,        nan,        nan,        nan],\n",
       "       [0.        , 0.33333333, 0.33333333, 0.33333333],\n",
       "       [0.        , 0.33333333, 0.33333333, 0.33333333],\n",
       "       [0.        , 0.33333333, 0.33333333, 0.33333333]])"
      ]
     },
     "execution_count": 21,
     "metadata": {},
     "output_type": "execute_result"
    }
   ],
   "source": [
    "alignment_probs"
   ]
  }
 ],
 "metadata": {
  "kernelspec": {
   "display_name": "Python 3",
   "language": "python",
   "name": "python3"
  },
  "language_info": {
   "codemirror_mode": {
    "name": "ipython",
    "version": 3
   },
   "file_extension": ".py",
   "mimetype": "text/x-python",
   "name": "python",
   "nbconvert_exporter": "python",
   "pygments_lexer": "ipython3",
   "version": "3.9.19"
  }
 },
 "nbformat": 4,
 "nbformat_minor": 2
}
