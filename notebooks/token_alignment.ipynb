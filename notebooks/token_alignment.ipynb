{
 "cells": [
  {
   "cell_type": "code",
   "execution_count": 4,
   "metadata": {},
   "outputs": [],
   "source": [
    "import numpy as np\n",
    "from collections import defaultdict"
   ]
  },
  {
   "cell_type": "code",
   "execution_count": 65,
   "metadata": {},
   "outputs": [],
   "source": [
    "ipa_seqs = [\n",
    "    [1, 10, 5],\n",
    "    [10, 25, 9],\n",
    "]\n",
    "\n",
    "whisper_seqs = [\n",
    "    [20, 9, 2],\n",
    "    [11, 13, 6, 10],\n",
    "]\n",
    "\n",
    "ipa_vocab_size = np.max(np.concatenate(ipa_seqs))+1\n",
    "whisper_vocab_size = np.max(np.concatenate(whisper_seqs))+1\n",
    "\n",
    "sum_sqd_dist = np.zeros([whisper_vocab_size, ipa_vocab_size])\n",
    "ipa_token_counts = np.zeros(ipa_vocab_size)"
   ]
  },
  {
   "cell_type": "code",
   "execution_count": 66,
   "metadata": {},
   "outputs": [
    {
     "data": {
      "text/plain": [
       "(21, 26)"
      ]
     },
     "execution_count": 66,
     "metadata": {},
     "output_type": "execute_result"
    }
   ],
   "source": [
    "sum_sqd_dist.shape"
   ]
  },
  {
   "cell_type": "code",
   "execution_count": 67,
   "metadata": {},
   "outputs": [
    {
     "data": {
      "text/plain": [
       "(1, 26)"
      ]
     },
     "execution_count": 67,
     "metadata": {},
     "output_type": "execute_result"
    }
   ],
   "source": [
    "np.expand_dims(ipa_token_counts, axis=0).shape"
   ]
  },
  {
   "cell_type": "code",
   "execution_count": 72,
   "metadata": {},
   "outputs": [
    {
     "data": {
      "text/plain": [
       "array([  0.,   0., 150.,   0.,   0.,   0., 225.,   0.,   0.,  50., 575.,\n",
       "       125.,   0.,  75.,   0.,   0.,   0.,   0.,   0.,   0., 150.])"
      ]
     },
     "execution_count": 72,
     "metadata": {},
     "output_type": "execute_result"
    }
   ],
   "source": [
    "def initialize_probs(ipa_seqs, whisper_seqs, sum_sqd_dist, ipa_token_counts):\n",
    "    for ipa_seq, whisper_seq in zip(ipa_seqs, whisper_seqs):\n",
    "        for i, ipa_token in enumerate(ipa_seq):\n",
    "            ipa_token_counts[ipa_token]+=1\n",
    "            for j, whisper_token in enumerate(whisper_seq):\n",
    "                sum_sqd_dist[whisper_token,ipa_token]+=(i-j)**2\n",
    "    prob_unnorm = np.matmul(sum_sqd_dist, ipa_token_counts)\n",
    "    return prob_unnorm\n",
    "    \n",
    "initialize_probs(ipa_seqs, whisper_seqs, sum_sqd_dist, ipa_token_counts)"
   ]
  }
 ],
 "metadata": {
  "kernelspec": {
   "display_name": "Python 3",
   "language": "python",
   "name": "python3"
  },
  "language_info": {
   "codemirror_mode": {
    "name": "ipython",
    "version": 3
   },
   "file_extension": ".py",
   "mimetype": "text/x-python",
   "name": "python",
   "nbconvert_exporter": "python",
   "pygments_lexer": "ipython3",
   "version": "3.9.19"
  }
 },
 "nbformat": 4,
 "nbformat_minor": 2
}
