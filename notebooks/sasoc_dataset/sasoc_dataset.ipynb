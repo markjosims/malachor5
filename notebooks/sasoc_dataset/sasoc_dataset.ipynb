{
 "cells": [
  {
   "cell_type": "code",
   "execution_count": 4,
   "metadata": {},
   "outputs": [],
   "source": [
    "import os\n",
    "os.chdir('/Users/markjos/projects/malachor5')\n",
    "import xml.etree.ElementTree as ET\n",
    "import pandas as pd"
   ]
  },
  {
   "cell_type": "code",
   "execution_count": 8,
   "metadata": {},
   "outputs": [
    {
     "name": "stdout",
     "output_type": "stream",
     "text": [
      "root Corpus {} 2\n",
      "branch SoapOpera {} 131\n",
      "subbranch Source_Description {} 1\n",
      "subbranch speaker_list {} 40\n",
      "subbranch episode {} 11\n",
      "subbranch episode {} 3\n",
      "subbranch episode {} 30\n",
      "branch SoapOpera {} 118\n",
      "subbranch Source_Description {} 1\n",
      "subbranch speaker_list {} 65\n",
      "subbranch episode {} 47\n",
      "subbranch episode {} 39\n",
      "subbranch episode {} 40\n"
     ]
    }
   ],
   "source": [
    "zulu_xml = 'data/SASOC/balanced_engzul.xml'\n",
    "xslt_path = 'data/SASOC/tabulate_corpus.xslt'\n",
    "tree = ET.parse(zulu_xml)\n",
    "root = tree.getroot()\n",
    "print(\"root\", root.tag, root.attrib, len(root))\n",
    "for branch in root:\n",
    "    print(\"branch\", branch.tag, branch.attrib, len(branch))\n",
    "    for subbranch in branch[:5]:\n",
    "        print(\"subbranch\", subbranch.tag, subbranch.attrib, len(subbranch))\n"
   ]
  },
  {
   "cell_type": "code",
   "execution_count": 33,
   "metadata": {},
   "outputs": [
    {
     "data": {
      "text/html": [
       "<div>\n",
       "<style scoped>\n",
       "    .dataframe tbody tr th:only-of-type {\n",
       "        vertical-align: middle;\n",
       "    }\n",
       "\n",
       "    .dataframe tbody tr th {\n",
       "        vertical-align: top;\n",
       "    }\n",
       "\n",
       "    .dataframe thead th {\n",
       "        text-align: right;\n",
       "    }\n",
       "</style>\n",
       "<table border=\"1\" class=\"dataframe\">\n",
       "  <thead>\n",
       "    <tr style=\"text-align: right;\">\n",
       "      <th></th>\n",
       "      <th>index</th>\n",
       "      <th>transcription</th>\n",
       "      <th>lang_id</th>\n",
       "      <th>speaker_id</th>\n",
       "      <th>audio</th>\n",
       "      <th>duration</th>\n",
       "    </tr>\n",
       "  </thead>\n",
       "  <tbody>\n",
       "    <tr>\n",
       "      <th>0</th>\n",
       "      <td>0</td>\n",
       "      <td>i had no idea so much preparation went into a ...</td>\n",
       "      <td>eng</td>\n",
       "      <td>AKHONA</td>\n",
       "      <td>AKHONA_13-02-12_101.wav</td>\n",
       "      <td>3654.0</td>\n",
       "    </tr>\n",
       "    <tr>\n",
       "      <th>1</th>\n",
       "      <td>0</td>\n",
       "      <td>then you should know that i will go very far t...</td>\n",
       "      <td>eng</td>\n",
       "      <td>AKHONA</td>\n",
       "      <td>AKHONA_13-02-12_149.wav</td>\n",
       "      <td>3597.0</td>\n",
       "    </tr>\n",
       "    <tr>\n",
       "      <th>2</th>\n",
       "      <td>0</td>\n",
       "      <td>wenzani</td>\n",
       "      <td>zul</td>\n",
       "      <td>SENZO</td>\n",
       "      <td>SENZO_13-02-12_179.wav</td>\n",
       "      <td>428.0</td>\n",
       "    </tr>\n",
       "    <tr>\n",
       "      <th>3</th>\n",
       "      <td>0</td>\n",
       "      <td>yini indaba</td>\n",
       "      <td>zul</td>\n",
       "      <td>SENZO</td>\n",
       "      <td>SENZO_13-02-12_181.wav</td>\n",
       "      <td>396.0</td>\n",
       "    </tr>\n",
       "    <tr>\n",
       "      <th>4</th>\n",
       "      <td>0</td>\n",
       "      <td>ufunani</td>\n",
       "      <td>zul</td>\n",
       "      <td>SENZO</td>\n",
       "      <td>SENZO_13-02-12_182.wav</td>\n",
       "      <td>344.0</td>\n",
       "    </tr>\n",
       "    <tr>\n",
       "      <th>...</th>\n",
       "      <td>...</td>\n",
       "      <td>...</td>\n",
       "      <td>...</td>\n",
       "      <td>...</td>\n",
       "      <td>...</td>\n",
       "      <td>...</td>\n",
       "    </tr>\n",
       "    <tr>\n",
       "      <th>16182</th>\n",
       "      <td>1</td>\n",
       "      <td>property</td>\n",
       "      <td>eng</td>\n",
       "      <td>SUFFOCATE</td>\n",
       "      <td>SUFFOCATE_13-11-07_177.wav</td>\n",
       "      <td>2964.0</td>\n",
       "    </tr>\n",
       "    <tr>\n",
       "      <th>16183</th>\n",
       "      <td>2</td>\n",
       "      <td>umuntu lomuntu esikhuluma ngaye</td>\n",
       "      <td>zul</td>\n",
       "      <td>SUFFOCATE</td>\n",
       "      <td>SUFFOCATE_13-11-07_177.wav</td>\n",
       "      <td>2964.0</td>\n",
       "    </tr>\n",
       "    <tr>\n",
       "      <th>16184</th>\n",
       "      <td>0</td>\n",
       "      <td>no</td>\n",
       "      <td>eng</td>\n",
       "      <td>SUFFOCATE</td>\n",
       "      <td>SUFFOCATE_13-11-07_184.wav</td>\n",
       "      <td>2161.0</td>\n",
       "    </tr>\n",
       "    <tr>\n",
       "      <th>16185</th>\n",
       "      <td>1</td>\n",
       "      <td>mangabe angeke abuyele kuye lomuntu mos</td>\n",
       "      <td>zul</td>\n",
       "      <td>SUFFOCATE</td>\n",
       "      <td>SUFFOCATE_13-11-07_184.wav</td>\n",
       "      <td>2161.0</td>\n",
       "    </tr>\n",
       "    <tr>\n",
       "      <th>16186</th>\n",
       "      <td>0</td>\n",
       "      <td>phuma uhambe manje</td>\n",
       "      <td>zul</td>\n",
       "      <td>SUFFOCATE</td>\n",
       "      <td>SUFFOCATE_13-11-07_193.wav</td>\n",
       "      <td>808.0</td>\n",
       "    </tr>\n",
       "  </tbody>\n",
       "</table>\n",
       "<p>16187 rows × 6 columns</p>\n",
       "</div>"
      ],
      "text/plain": [
       "       index                                      transcription lang_id  \\\n",
       "0          0  i had no idea so much preparation went into a ...     eng   \n",
       "1          0  then you should know that i will go very far t...     eng   \n",
       "2          0                                            wenzani     zul   \n",
       "3          0                                        yini indaba     zul   \n",
       "4          0                                            ufunani     zul   \n",
       "...      ...                                                ...     ...   \n",
       "16182      1                                           property     eng   \n",
       "16183      2                    umuntu lomuntu esikhuluma ngaye     zul   \n",
       "16184      0                                                 no     eng   \n",
       "16185      1            mangabe angeke abuyele kuye lomuntu mos     zul   \n",
       "16186      0                                 phuma uhambe manje     zul   \n",
       "\n",
       "      speaker_id                       audio  duration  \n",
       "0         AKHONA     AKHONA_13-02-12_101.wav    3654.0  \n",
       "1         AKHONA     AKHONA_13-02-12_149.wav    3597.0  \n",
       "2          SENZO      SENZO_13-02-12_179.wav     428.0  \n",
       "3          SENZO      SENZO_13-02-12_181.wav     396.0  \n",
       "4          SENZO      SENZO_13-02-12_182.wav     344.0  \n",
       "...          ...                         ...       ...  \n",
       "16182  SUFFOCATE  SUFFOCATE_13-11-07_177.wav    2964.0  \n",
       "16183  SUFFOCATE  SUFFOCATE_13-11-07_177.wav    2964.0  \n",
       "16184  SUFFOCATE  SUFFOCATE_13-11-07_184.wav    2161.0  \n",
       "16185  SUFFOCATE  SUFFOCATE_13-11-07_184.wav    2161.0  \n",
       "16186  SUFFOCATE  SUFFOCATE_13-11-07_193.wav     808.0  \n",
       "\n",
       "[16187 rows x 6 columns]"
      ]
     },
     "execution_count": 33,
     "metadata": {},
     "output_type": "execute_result"
    }
   ],
   "source": [
    "df=pd.read_xml(zulu_xml, stylesheet=xslt_path)\n",
    "df"
   ]
  },
  {
   "cell_type": "code",
   "execution_count": 51,
   "metadata": {},
   "outputs": [
    {
     "data": {
      "text/plain": [
       "lang_id\n",
       "zul                                                    4362\n",
       "zul,eng                                                1239\n",
       "eng                                                    1225\n",
       "zul,eng,zul                                             789\n",
       "eng,zul                                                 738\n",
       "eng,zul,eng                                             318\n",
       "zul,eng,zul,eng                                         248\n",
       "eng,zul,eng,zul                                         151\n",
       "zul,eng,zul,eng,zul                                     119\n",
       "eng,zul,eng,zul,eng                                      59\n",
       "zul,eng,zul,eng,zul,eng                                  42\n",
       "eng,zul,eng,zul,eng,zul                                  24\n",
       "zul,eng,zul,eng,zul,eng,zul                              24\n",
       "eng,zul,eng,zul,eng,zul,eng                              12\n",
       "zul,eng,zul,eng,zul,eng,zul,eng                           6\n",
       "zul,eng,zul,eng,zul,eng,zul,eng,zul                       6\n",
       "eng,zul,eng,zul,eng,zul,eng,zul                           3\n",
       "zul,eng,zul,eng,zul,eng,zul,eng,zul,eng,zul               1\n",
       "eng,zul,eng,zul,eng,zul,eng,zul,eng                       1\n",
       "zul,eng,zul,eng,zul,eng,zul,eng,zul,eng,zul,eng,zul       1\n",
       "eng,zul,eng,zul,eng,zul,eng,zul,eng,zul,eng,zul           1\n",
       "zul,eng,zul,eng,zul,eng,zul,eng,zul,eng                   1\n",
       "eng,zul,eng,zul,eng,zul,eng,zul,eng,zul                   1\n",
       "Name: count, dtype: int64"
      ]
     },
     "execution_count": 51,
     "metadata": {},
     "output_type": "execute_result"
    }
   ],
   "source": [
    "grouped_df=df.groupby('audio').agg({\n",
    "    'transcription': ' '.join,\n",
    "    'lang_id': ','.join,\n",
    "    'duration': 'sum',\n",
    "    'speaker_id': 'first',\n",
    "})\n",
    "grouped_df['lang_id'].value_counts()"
   ]
  },
  {
   "cell_type": "code",
   "execution_count": 52,
   "metadata": {},
   "outputs": [
    {
     "data": {
      "text/plain": [
       "92.73778333333334"
      ]
     },
     "execution_count": 52,
     "metadata": {},
     "output_type": "execute_result"
    }
   ],
   "source": [
    "grouped_df.loc[\n",
    "    grouped_df['lang_id']=='eng',\n",
    "    'duration'\n",
    "].sum()/60_000"
   ]
  },
  {
   "cell_type": "code",
   "execution_count": 53,
   "metadata": {},
   "outputs": [
    {
     "data": {
      "text/plain": [
       "92.76985"
      ]
     },
     "execution_count": 53,
     "metadata": {},
     "output_type": "execute_result"
    }
   ],
   "source": [
    "grouped_df.loc[\n",
    "    grouped_df['lang_id']=='zul',\n",
    "    'duration'\n",
    "].sum()/60_000"
   ]
  },
  {
   "cell_type": "code",
   "execution_count": 50,
   "metadata": {},
   "outputs": [
    {
     "data": {
      "text/plain": [
       "430.43915"
      ]
     },
     "execution_count": 50,
     "metadata": {},
     "output_type": "execute_result"
    }
   ],
   "source": [
    "grouped_df.loc[\n",
    "    grouped_df['lang_id'].str.contains(','),\n",
    "    'duration'\n",
    "].sum()/60_000"
   ]
  }
 ],
 "metadata": {
  "kernelspec": {
   "display_name": "Python 3",
   "language": "python",
   "name": "python3"
  },
  "language_info": {
   "codemirror_mode": {
    "name": "ipython",
    "version": 3
   },
   "file_extension": ".py",
   "mimetype": "text/x-python",
   "name": "python",
   "nbconvert_exporter": "python",
   "pygments_lexer": "ipython3",
   "version": "3.9.19"
  }
 },
 "nbformat": 4,
 "nbformat_minor": 2
}
