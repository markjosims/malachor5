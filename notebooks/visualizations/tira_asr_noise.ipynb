{
 "cells": [
  {
   "cell_type": "markdown",
   "id": "8cf4a9e9",
   "metadata": {},
   "source": [
    "# tira_asr_noise\n",
    "Measure correlation between various nosie measures on Tira ASR dataset\n",
    "Sample 5 rows from each 10 bins of each measure and set aside for hand eval,\n",
    "then visualize correlation of hand eval with objective measures."
   ]
  },
  {
   "cell_type": "code",
   "execution_count": 27,
   "id": "259410e0",
   "metadata": {},
   "outputs": [],
   "source": [
    "from datasets import load_from_disk\n",
    "from scipy.stats import pearsonr\n",
    "from scipy.stats.mstats import mquantiles\n",
    "import pandas as pd\n",
    "import numpy as np\n",
    "import torchaudio\n",
    "import torch\n",
    "import os"
   ]
  },
  {
   "cell_type": "code",
   "execution_count": 28,
   "id": "81e9966b",
   "metadata": {},
   "outputs": [],
   "source": [
    "ds_path = r'C:\\projects\\malachor5\\data\\dataset_clips\\tira-asr\\unprocessed_audio_ds'\n",
    "hand_eval_dir = r\"C:\\projects\\malachor5\\data\\dataset_clips\\tira-asr\\hand-eval\"\n",
    "transcription_path = r\"C:\\projects\\malachor5\\data\\dataset_clips\\tira-asr\\transcriptions.csv\"\n",
    "os.makedirs(hand_eval_dir, exist_ok=True)"
   ]
  },
  {
   "cell_type": "code",
   "execution_count": 29,
   "id": "e7cea4e1",
   "metadata": {},
   "outputs": [
    {
     "data": {
      "text/html": [
       "<div>\n",
       "<style scoped>\n",
       "    .dataframe tbody tr th:only-of-type {\n",
       "        vertical-align: middle;\n",
       "    }\n",
       "\n",
       "    .dataframe tbody tr th {\n",
       "        vertical-align: top;\n",
       "    }\n",
       "\n",
       "    .dataframe thead th {\n",
       "        text-align: right;\n",
       "    }\n",
       "</style>\n",
       "<table border=\"1\" class=\"dataframe\">\n",
       "  <thead>\n",
       "    <tr style=\"text-align: right;\">\n",
       "      <th></th>\n",
       "      <th>audio_basename</th>\n",
       "      <th>start</th>\n",
       "      <th>end</th>\n",
       "      <th>duration</th>\n",
       "      <th>text</th>\n",
       "      <th>eaf_basename</th>\n",
       "    </tr>\n",
       "    <tr>\n",
       "      <th>index</th>\n",
       "      <th></th>\n",
       "      <th></th>\n",
       "      <th></th>\n",
       "      <th></th>\n",
       "      <th></th>\n",
       "      <th></th>\n",
       "    </tr>\n",
       "  </thead>\n",
       "  <tbody>\n",
       "    <tr>\n",
       "      <th>0</th>\n",
       "      <td>HH20210707.wav</td>\n",
       "      <td>1350</td>\n",
       "      <td>2110</td>\n",
       "      <td>760</td>\n",
       "      <td>ɛ̀vɛ̀</td>\n",
       "      <td>HH20210707.eaf</td>\n",
       "    </tr>\n",
       "    <tr>\n",
       "      <th>1</th>\n",
       "      <td>HH20210707.wav</td>\n",
       "      <td>7900</td>\n",
       "      <td>9640</td>\n",
       "      <td>1740</td>\n",
       "      <td>ɛ̀vɛ̀ jìcə̀lò</td>\n",
       "      <td>HH20210707.eaf</td>\n",
       "    </tr>\n",
       "    <tr>\n",
       "      <th>2</th>\n",
       "      <td>HH20210707.wav</td>\n",
       "      <td>14135</td>\n",
       "      <td>17165</td>\n",
       "      <td>3030</td>\n",
       "      <td>ɪ́ŋgɛ́lǎ ŋ̀gáíjà ɛ̀vɛ̀</td>\n",
       "      <td>HH20210707.eaf</td>\n",
       "    </tr>\n",
       "    <tr>\n",
       "      <th>3</th>\n",
       "      <td>HH20210707.wav</td>\n",
       "      <td>26445</td>\n",
       "      <td>27065</td>\n",
       "      <td>620</td>\n",
       "      <td>càt̪à</td>\n",
       "      <td>HH20210707.eaf</td>\n",
       "    </tr>\n",
       "    <tr>\n",
       "      <th>4</th>\n",
       "      <td>HH20210707.wav</td>\n",
       "      <td>31830</td>\n",
       "      <td>34130</td>\n",
       "      <td>2300</td>\n",
       "      <td>ɪ́ŋgɛ́là ŋgáíjà ɛ̀vɛ̀ càt̪à</td>\n",
       "      <td>HH20210707.eaf</td>\n",
       "    </tr>\n",
       "    <tr>\n",
       "      <th>...</th>\n",
       "      <td>...</td>\n",
       "      <td>...</td>\n",
       "      <td>...</td>\n",
       "      <td>...</td>\n",
       "      <td>...</td>\n",
       "      <td>...</td>\n",
       "    </tr>\n",
       "    <tr>\n",
       "      <th>70759</th>\n",
       "      <td>HH20240308.wav</td>\n",
       "      <td>1926200</td>\n",
       "      <td>1927170</td>\n",
       "      <td>970</td>\n",
       "      <td>lá vr̀ðɔ̀ðɔ́</td>\n",
       "      <td>HH20240308.eaf</td>\n",
       "    </tr>\n",
       "    <tr>\n",
       "      <th>70760</th>\n",
       "      <td>HH20240308.wav</td>\n",
       "      <td>1938970</td>\n",
       "      <td>1940030</td>\n",
       "      <td>1060</td>\n",
       "      <td>lá vr̀ðɔ̀ðɔ́</td>\n",
       "      <td>HH20240308.eaf</td>\n",
       "    </tr>\n",
       "    <tr>\n",
       "      <th>70761</th>\n",
       "      <td>HH20240308.wav</td>\n",
       "      <td>1942570</td>\n",
       "      <td>1943470</td>\n",
       "      <td>900</td>\n",
       "      <td>lá vr̀ðɔ̀ðɔ́</td>\n",
       "      <td>HH20240308.eaf</td>\n",
       "    </tr>\n",
       "    <tr>\n",
       "      <th>70995</th>\n",
       "      <td>HH20230315.wav</td>\n",
       "      <td>843760</td>\n",
       "      <td>845730</td>\n",
       "      <td>1970</td>\n",
       "      <td>àn láɾò lá ŕlànd̪ɛ̀ ðɔ́ɾà ùnɛ́ɾɛ̂</td>\n",
       "      <td>HH20230315.eaf</td>\n",
       "    </tr>\n",
       "    <tr>\n",
       "      <th>70996</th>\n",
       "      <td>HH20230315.wav</td>\n",
       "      <td>889010</td>\n",
       "      <td>891400</td>\n",
       "      <td>2390</td>\n",
       "      <td>àn ðɔ́ɾà ðá láɾò r̀lànd̪ɛ̀ ùnɛ́ɾɛ̂</td>\n",
       "      <td>HH20230315.eaf</td>\n",
       "    </tr>\n",
       "  </tbody>\n",
       "</table>\n",
       "<p>23261 rows × 6 columns</p>\n",
       "</div>"
      ],
      "text/plain": [
       "       audio_basename    start      end  duration  \\\n",
       "index                                               \n",
       "0      HH20210707.wav     1350     2110       760   \n",
       "1      HH20210707.wav     7900     9640      1740   \n",
       "2      HH20210707.wav    14135    17165      3030   \n",
       "3      HH20210707.wav    26445    27065       620   \n",
       "4      HH20210707.wav    31830    34130      2300   \n",
       "...               ...      ...      ...       ...   \n",
       "70759  HH20240308.wav  1926200  1927170       970   \n",
       "70760  HH20240308.wav  1938970  1940030      1060   \n",
       "70761  HH20240308.wav  1942570  1943470       900   \n",
       "70995  HH20230315.wav   843760   845730      1970   \n",
       "70996  HH20230315.wav   889010   891400      2390   \n",
       "\n",
       "                                            text    eaf_basename  \n",
       "index                                                             \n",
       "0                                          ɛ̀vɛ̀  HH20210707.eaf  \n",
       "1                                ɛ̀vɛ̀ jìcə̀lò  HH20210707.eaf  \n",
       "2                     ɪ́ŋgɛ́lǎ ŋ̀gáíjà ɛ̀vɛ̀  HH20210707.eaf  \n",
       "3                                        càt̪à  HH20210707.eaf  \n",
       "4              ɪ́ŋgɛ́là ŋgáíjà ɛ̀vɛ̀ càt̪à  HH20210707.eaf  \n",
       "...                                          ...             ...  \n",
       "70759                              lá vr̀ðɔ̀ðɔ́  HH20240308.eaf  \n",
       "70760                              lá vr̀ðɔ̀ðɔ́  HH20240308.eaf  \n",
       "70761                              lá vr̀ðɔ̀ðɔ́  HH20240308.eaf  \n",
       "70995  àn láɾò lá ŕlànd̪ɛ̀ ðɔ́ɾà ùnɛ́ɾɛ̂  HH20230315.eaf  \n",
       "70996  àn ðɔ́ɾà ðá láɾò r̀lànd̪ɛ̀ ùnɛ́ɾɛ̂  HH20230315.eaf  \n",
       "\n",
       "[23261 rows x 6 columns]"
      ]
     },
     "execution_count": 29,
     "metadata": {},
     "output_type": "execute_result"
    }
   ],
   "source": [
    "transcriptions = pd.read_csv(transcription_path, index_col='index')\n",
    "transcriptions"
   ]
  },
  {
   "cell_type": "code",
   "execution_count": 30,
   "id": "2c83574c",
   "metadata": {},
   "outputs": [
    {
     "data": {
      "text/plain": [
       "Dataset({\n",
       "    features: ['audio', 'clip_name', 'index', 'vad_chunks', 'speech_embed', 'text_embed', 'embed_cos_sim', 'wada_snr', 'nist_snr', 'duration', 'vad_duration', 'vad_pct'],\n",
       "    num_rows: 23261\n",
       "})"
      ]
     },
     "execution_count": 30,
     "metadata": {},
     "output_type": "execute_result"
    }
   ],
   "source": [
    "ds = load_from_disk(ds_path)\n",
    "ds"
   ]
  },
  {
   "cell_type": "code",
   "execution_count": 31,
   "id": "4fd1a747",
   "metadata": {},
   "outputs": [
    {
     "name": "stdout",
     "output_type": "stream",
     "text": [
      "vad_duration vad_pct PearsonRResult(statistic=np.float64(-0.058665296830645614), pvalue=np.float64(3.409606635791288e-19))\n",
      "vad_duration embed_cos_sim PearsonRResult(statistic=np.float64(-0.047300970979111956), pvalue=np.float64(5.284043368062316e-13))\n",
      "vad_duration wada_snr PearsonRResult(statistic=np.float64(0.08268366055430638), pvalue=np.float64(1.4155284764961584e-36))\n",
      "vad_duration nist_snr PearsonRResult(statistic=np.float64(0.14086636331862154), pvalue=np.float64(2.1873407475885328e-103))\n",
      "vad_pct embed_cos_sim PearsonRResult(statistic=np.float64(0.18004735228096272), pvalue=np.float64(1.0561006451866381e-168))\n",
      "vad_pct wada_snr PearsonRResult(statistic=np.float64(-0.3433066376292787), pvalue=np.float64(0.0))\n",
      "vad_pct nist_snr PearsonRResult(statistic=np.float64(-0.29215886904184274), pvalue=np.float64(0.0))\n",
      "embed_cos_sim wada_snr PearsonRResult(statistic=np.float64(-0.028318656206717613), pvalue=np.float64(1.5626254087926876e-05))\n",
      "embed_cos_sim nist_snr PearsonRResult(statistic=np.float64(-0.008147257914243944), pvalue=np.float64(0.21403829393412174))\n",
      "wada_snr nist_snr PearsonRResult(statistic=np.float64(0.7318030036489218), pvalue=np.float64(0.0))\n"
     ]
    }
   ],
   "source": [
    "quality_measures = ['vad_duration', 'vad_pct', 'embed_cos_sim', 'wada_snr', 'nist_snr']\n",
    "for i, measure_1 in enumerate(quality_measures[:-1]):\n",
    "    for j, measure_2 in enumerate(quality_measures[i+1:]):\n",
    "        corr = pearsonr(ds[measure_1], ds[measure_2])\n",
    "        print(measure_1, measure_2, corr)"
   ]
  },
  {
   "cell_type": "code",
   "execution_count": 32,
   "id": "ccce9760",
   "metadata": {},
   "outputs": [
    {
     "name": "stdout",
     "output_type": "stream",
     "text": [
      "vad_duration\n",
      "vad_pct\n",
      "embed_cos_sim\n",
      "wada_snr\n",
      "nist_snr\n"
     ]
    },
    {
     "data": {
      "text/plain": [
       "([np.int64(4536),\n",
       "  np.int64(9841),\n",
       "  np.int64(13865),\n",
       "  np.int64(21864),\n",
       "  np.int64(7588)],\n",
       " 250)"
      ]
     },
     "execution_count": 32,
     "metadata": {},
     "output_type": "execute_result"
    }
   ],
   "source": [
    "rows_added = []\n",
    "bin_sample_n = 5\n",
    "for measure in quality_measures:\n",
    "    print(measure)\n",
    "    bins = mquantiles(ds[measure], prob=np.linspace(0,1,10))\n",
    "    binned_measure = np.digitize(ds[measure], bins)\n",
    "    for bin in range(1, bins.shape[0]+1):\n",
    "        # print(bin, binned_measure[binned_measure==bin].shape)\n",
    "        bin_idcs = np.argwhere(binned_measure==bin).squeeze()\n",
    "        for _ in range(bin_sample_n):\n",
    "            new_idx = np.random.choice(bin_idcs)\n",
    "            while new_idx in rows_added:\n",
    "                new_idx = np.random.choice(bin_idcs)\n",
    "            rows_added.append(new_idx)\n",
    "rows_added[:5], len(rows_added)"
   ]
  },
  {
   "cell_type": "code",
   "execution_count": 33,
   "id": "b8a72f7b",
   "metadata": {},
   "outputs": [
    {
     "data": {
      "text/plain": [
       "Dataset({\n",
       "    features: ['audio', 'clip_name', 'index', 'vad_chunks', 'speech_embed', 'text_embed', 'embed_cos_sim', 'wada_snr', 'nist_snr', 'duration', 'vad_duration', 'vad_pct'],\n",
       "    num_rows: 250\n",
       "})"
      ]
     },
     "execution_count": 33,
     "metadata": {},
     "output_type": "execute_result"
    }
   ],
   "source": [
    "hand_eval_ds = ds.select(rows_added)\n",
    "hand_eval_ds"
   ]
  },
  {
   "cell_type": "code",
   "execution_count": 34,
   "id": "1857f96d",
   "metadata": {},
   "outputs": [
    {
     "name": "stderr",
     "output_type": "stream",
     "text": [
      "Map: 100%|██████████| 250/250 [00:01<00:00, 141.58 examples/s]\n"
     ]
    }
   ],
   "source": [
    "wav_files = []\n",
    "def row_to_wav(row, outdir: str) -> None:\n",
    "    \"\"\"\n",
    "    Reads samples from a Dataset Audio row (in the form of a dictionary)\n",
    "    and save as a wav in the specified `outdir`.\n",
    "    \"\"\"\n",
    "    index = row['index']\n",
    "    path = os.path.join(outdir, f\"{index}.wav\")\n",
    "    wav_files.append(path)\n",
    "    wav_array = row['audio']['array']\n",
    "    sr = row['audio']['sampling_rate']\n",
    "    # cast to torch tensor and make 2D\n",
    "    wav_tensor = torch.Tensor(wav_array).unsqueeze(0)\n",
    "    torchaudio.save(path, wav_tensor, sr)\n",
    "\n",
    "    text = transcriptions.at[index, 'text']\n",
    "\n",
    "    return {\"index\":index, \"filename\": os.path.basename(path), \"text\": text}\n",
    "\n",
    "df = hand_eval_ds.map(lambda row: row_to_wav(row, hand_eval_dir), remove_columns=hand_eval_ds.column_names).to_pandas()\n",
    "df = df.set_index(\"index\")\n",
    "df=df.sort_index()\n",
    "likert_cols = [\n",
    "    \"Audio quality\",\n",
    "    \"Crosstalk\",\n",
    "    \"Only Tira spoken?\",\n",
    "    \"Disfluencies?\",\n",
    "    \"Tira transcription accuracy\",\n",
    "]\n",
    "for col in likert_cols:\n",
    "    df[col]=''\n",
    "df.to_excel(os.path.join(hand_eval_dir, 'eval.xlsx'))\n"
   ]
  }
 ],
 "metadata": {
  "kernelspec": {
   "display_name": ".venv",
   "language": "python",
   "name": "python3"
  },
  "language_info": {
   "codemirror_mode": {
    "name": "ipython",
    "version": 3
   },
   "file_extension": ".py",
   "mimetype": "text/x-python",
   "name": "python",
   "nbconvert_exporter": "python",
   "pygments_lexer": "ipython3",
   "version": "3.12.10"
  }
 },
 "nbformat": 4,
 "nbformat_minor": 5
}
