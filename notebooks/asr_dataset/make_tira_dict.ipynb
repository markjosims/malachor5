{
 "cells": [
  {
   "cell_type": "code",
   "execution_count": null,
   "metadata": {},
   "outputs": [
    {
     "name": "stderr",
     "output_type": "stream",
     "text": [
      "/usr/local/lib/python3.9/site-packages/tqdm/auto.py:21: TqdmWarning: IProgress not found. Please update jupyter and ipywidgets. See https://ipywidgets.readthedocs.io/en/stable/user_install.html\n",
      "  from .autonotebook import tqdm as notebook_tqdm\n"
     ]
    }
   ],
   "source": [
    "import pandas as pd\n",
    "import os\n",
    "os.chdir('/Users/markjos/projects/malachor5')\n",
    "import sys\n",
    "sys.path.append('scripts')\n",
    "from lid_utils import get_word_language"
   ]
  },
  {
   "cell_type": "code",
   "execution_count": 2,
   "metadata": {},
   "outputs": [],
   "source": [
    "tira_dict_path = 'meta/tira_words.txt'\n",
    "tira_asr_metadata = 'data/hf-datasets/tira-clean/metadata.csv'\n",
    "tira_eval_metadata = 'data/hf-datasets/tira-eval/metadata.csv'"
   ]
  },
  {
   "cell_type": "code",
   "execution_count": 3,
   "metadata": {},
   "outputs": [],
   "source": [
    "asr_df = pd.read_csv(tira_asr_metadata)\n",
    "eval_df = pd.read_csv(tira_eval_metadata)"
   ]
  },
  {
   "cell_type": "code",
   "execution_count": 4,
   "metadata": {},
   "outputs": [
    {
     "data": {
      "text/plain": [
       "(['ɲàvə̀lɛ̀ðà', 'ɲàcìlò', 'ɛ́tɛ́və́lɛ̀ðɛ̀', 'kɜ̀ŋcìðìjìt̪ɔ́', 'ɛ́ɽɛ̀'],\n",
       " 8595)"
      ]
     },
     "execution_count": 4,
     "metadata": {},
     "output_type": "execute_result"
    }
   ],
   "source": [
    "asr_words = set()\n",
    "asr_df.transcription.str.split().apply(asr_words.update)\n",
    "list(asr_words)[:5], len(asr_words)"
   ]
  },
  {
   "cell_type": "code",
   "execution_count": 9,
   "metadata": {},
   "outputs": [
    {
     "data": {
      "text/plain": [
       "(['àn,', 'və́lɛ̂ðɛ̀ló?', 'ɔ́ndì', '-ló.', '\"emakəŋe\".'], 400)"
      ]
     },
     "execution_count": 9,
     "metadata": {},
     "output_type": "execute_result"
    }
   ],
   "source": [
    "eval_words = set()\n",
    "eval_df.value.str.split().apply(eval_words.update)\n",
    "eval_tira_words = [word for word in eval_words if get_word_language(word)=='tira']\n",
    "eval_eng_words = [word for word in eval_words if word not in eval_tira_words]\n",
    "list(eval_tira_words)[:5], len(eval_tira_words)"
   ]
  },
  {
   "cell_type": "code",
   "execution_count": 15,
   "metadata": {},
   "outputs": [
    {
     "data": {
      "text/plain": [
       "(['post-verbal', 'agreement.', 'get?', 'whole', 'structure,'], 1423)"
      ]
     },
     "execution_count": 15,
     "metadata": {},
     "output_type": "execute_result"
    }
   ],
   "source": [
    "list(eval_eng_words)[:5], len(eval_eng_words)"
   ]
  },
  {
   "cell_type": "code",
   "execution_count": 16,
   "metadata": {},
   "outputs": [
    {
     "data": {
      "text/plain": [
       "312"
      ]
     },
     "execution_count": 16,
     "metadata": {},
     "output_type": "execute_result"
    }
   ],
   "source": [
    "all_tira_words = asr_words.union(eval_tira_words)\n",
    "len(all_tira_words)-len(asr_words)"
   ]
  },
  {
   "cell_type": "code",
   "execution_count": 17,
   "metadata": {},
   "outputs": [],
   "source": [
    "with open(tira_dict_path, 'w') as f:\n",
    "    f.writelines('\\n'.join(all_tira_words))"
   ]
  }
 ],
 "metadata": {
  "kernelspec": {
   "display_name": "Python 3",
   "language": "python",
   "name": "python3"
  },
  "language_info": {
   "codemirror_mode": {
    "name": "ipython",
    "version": 3
   },
   "file_extension": ".py",
   "mimetype": "text/x-python",
   "name": "python",
   "nbconvert_exporter": "python",
   "pygments_lexer": "ipython3",
   "version": "3.9.21"
  }
 },
 "nbformat": 4,
 "nbformat_minor": 2
}
