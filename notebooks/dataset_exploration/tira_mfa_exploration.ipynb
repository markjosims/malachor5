{
 "cells": [
  {
   "cell_type": "markdown",
   "id": "abb69e7d",
   "metadata": {},
   "source": [
    "# tira_mfa_exploration\n",
    "Get distribution data from MFA alignments.\n",
    "In theory, we should be able to spot deviant transcriptions through introspection of FA output,\n",
    "e.g. missing words in the transcription will result in weirdly long word alignments and vice versa."
   ]
  },
  {
   "cell_type": "code",
   "execution_count": null,
   "id": "2a517fda",
   "metadata": {},
   "outputs": [],
   "source": [
    "import pandas as pd\n",
    "import numpy as np\n",
    "import seaborn as sns\n",
    "from glob import glob\n",
    "from tqdm import tqdm\n",
    "import matplotlib.pyplot as plt\n",
    "\n",
    "import os\n",
    "os.chdir(r'C:\\projects\\malachor5')\n",
    "import sys\n",
    "sys.path.append(r'C:\\projects\\malachor5\\scripts')\n",
    "from kws import textgrid_to_df"
   ]
  },
  {
   "cell_type": "markdown",
   "metadata": {},
   "source": [
    "Aggregate all aligned TextGrids into a single DataFrame"
   ]
  },
  {
   "cell_type": "code",
   "execution_count": 2,
   "id": "e559021c",
   "metadata": {},
   "outputs": [
    {
     "name": "stderr",
     "output_type": "stream",
     "text": [
      "100%|██████████| 23204/23204 [00:28<00:00, 824.74it/s]\n"
     ]
    },
    {
     "name": "stdout",
     "output_type": "stream",
     "text": [
      "504854\n"
     ]
    },
    {
     "data": {
      "text/html": [
       "<div>\n",
       "<style scoped>\n",
       "    .dataframe tbody tr th:only-of-type {\n",
       "        vertical-align: middle;\n",
       "    }\n",
       "\n",
       "    .dataframe tbody tr th {\n",
       "        vertical-align: top;\n",
       "    }\n",
       "\n",
       "    .dataframe thead th {\n",
       "        text-align: right;\n",
       "    }\n",
       "</style>\n",
       "<table border=\"1\" class=\"dataframe\">\n",
       "  <thead>\n",
       "    <tr style=\"text-align: right;\">\n",
       "      <th></th>\n",
       "      <th>start</th>\n",
       "      <th>end</th>\n",
       "      <th>text</th>\n",
       "      <th>speaker</th>\n",
       "      <th>tier</th>\n",
       "      <th>filename</th>\n",
       "    </tr>\n",
       "  </thead>\n",
       "  <tbody>\n",
       "    <tr>\n",
       "      <th>0</th>\n",
       "      <td>0.00</td>\n",
       "      <td>0.05</td>\n",
       "      <td></td>\n",
       "      <td>words</td>\n",
       "      <td>words</td>\n",
       "      <td>C:\\projects\\malachor5\\data\\dataset_clips\\tira-...</td>\n",
       "    </tr>\n",
       "    <tr>\n",
       "      <th>1</th>\n",
       "      <td>0.05</td>\n",
       "      <td>0.67</td>\n",
       "      <td>ɛ̀vɛ̀</td>\n",
       "      <td>words</td>\n",
       "      <td>words</td>\n",
       "      <td>C:\\projects\\malachor5\\data\\dataset_clips\\tira-...</td>\n",
       "    </tr>\n",
       "    <tr>\n",
       "      <th>2</th>\n",
       "      <td>0.67</td>\n",
       "      <td>0.76</td>\n",
       "      <td></td>\n",
       "      <td>words</td>\n",
       "      <td>words</td>\n",
       "      <td>C:\\projects\\malachor5\\data\\dataset_clips\\tira-...</td>\n",
       "    </tr>\n",
       "    <tr>\n",
       "      <th>3</th>\n",
       "      <td>0.00</td>\n",
       "      <td>0.05</td>\n",
       "      <td></td>\n",
       "      <td>phones</td>\n",
       "      <td>phones</td>\n",
       "      <td>C:\\projects\\malachor5\\data\\dataset_clips\\tira-...</td>\n",
       "    </tr>\n",
       "    <tr>\n",
       "      <th>4</th>\n",
       "      <td>0.05</td>\n",
       "      <td>0.09</td>\n",
       "      <td>ɛ</td>\n",
       "      <td>phones</td>\n",
       "      <td>phones</td>\n",
       "      <td>C:\\projects\\malachor5\\data\\dataset_clips\\tira-...</td>\n",
       "    </tr>\n",
       "  </tbody>\n",
       "</table>\n",
       "</div>"
      ],
      "text/plain": [
       "   start   end   text speaker    tier  \\\n",
       "0   0.00  0.05          words   words   \n",
       "1   0.05  0.67  ɛ̀vɛ̀   words   words   \n",
       "2   0.67  0.76          words   words   \n",
       "3   0.00  0.05         phones  phones   \n",
       "4   0.05  0.09      ɛ  phones  phones   \n",
       "\n",
       "                                            filename  \n",
       "0  C:\\projects\\malachor5\\data\\dataset_clips\\tira-...  \n",
       "1  C:\\projects\\malachor5\\data\\dataset_clips\\tira-...  \n",
       "2  C:\\projects\\malachor5\\data\\dataset_clips\\tira-...  \n",
       "3  C:\\projects\\malachor5\\data\\dataset_clips\\tira-...  \n",
       "4  C:\\projects\\malachor5\\data\\dataset_clips\\tira-...  "
      ]
     },
     "execution_count": 2,
     "metadata": {},
     "output_type": "execute_result"
    }
   ],
   "source": [
    "align_dir = r'C:\\projects\\malachor5\\data\\dataset_clips\\tira-asr\\mfa_output\\himidan'\n",
    "tg_paths = glob(os.path.join(align_dir, '*.TextGrid'))\n",
    "df_list = []\n",
    "for tg_path in tqdm(tg_paths):\n",
    "    tg_df = textgrid_to_df(tg_path, words_only=False)\n",
    "    tg_df['filename']=tg_path\n",
    "    df_list.append(tg_df)\n",
    "df=pd.concat(df_list)\n",
    "print(len(df))\n",
    "df.head()"
   ]
  },
  {
   "cell_type": "code",
   "execution_count": 11,
   "id": "feaf620d",
   "metadata": {},
   "outputs": [
    {
     "data": {
      "text/html": [
       "<div>\n",
       "<style scoped>\n",
       "    .dataframe tbody tr th:only-of-type {\n",
       "        vertical-align: middle;\n",
       "    }\n",
       "\n",
       "    .dataframe tbody tr th {\n",
       "        vertical-align: top;\n",
       "    }\n",
       "\n",
       "    .dataframe thead th {\n",
       "        text-align: right;\n",
       "    }\n",
       "</style>\n",
       "<table border=\"1\" class=\"dataframe\">\n",
       "  <thead>\n",
       "    <tr style=\"text-align: right;\">\n",
       "      <th></th>\n",
       "      <th>start</th>\n",
       "      <th>end</th>\n",
       "      <th>text</th>\n",
       "      <th>speaker</th>\n",
       "      <th>tier</th>\n",
       "      <th>filename</th>\n",
       "      <th>duration</th>\n",
       "    </tr>\n",
       "    <tr>\n",
       "      <th>index</th>\n",
       "      <th></th>\n",
       "      <th></th>\n",
       "      <th></th>\n",
       "      <th></th>\n",
       "      <th></th>\n",
       "      <th></th>\n",
       "      <th></th>\n",
       "    </tr>\n",
       "  </thead>\n",
       "  <tbody>\n",
       "    <tr>\n",
       "      <th>0</th>\n",
       "      <td>0.00</td>\n",
       "      <td>0.05</td>\n",
       "      <td></td>\n",
       "      <td>words</td>\n",
       "      <td>words</td>\n",
       "      <td>C:\\projects\\malachor5\\data\\dataset_clips\\tira-...</td>\n",
       "      <td>0.05</td>\n",
       "    </tr>\n",
       "    <tr>\n",
       "      <th>0</th>\n",
       "      <td>0.05</td>\n",
       "      <td>0.67</td>\n",
       "      <td>ɛ̀vɛ̀</td>\n",
       "      <td>words</td>\n",
       "      <td>words</td>\n",
       "      <td>C:\\projects\\malachor5\\data\\dataset_clips\\tira-...</td>\n",
       "      <td>0.62</td>\n",
       "    </tr>\n",
       "    <tr>\n",
       "      <th>0</th>\n",
       "      <td>0.67</td>\n",
       "      <td>0.76</td>\n",
       "      <td></td>\n",
       "      <td>words</td>\n",
       "      <td>words</td>\n",
       "      <td>C:\\projects\\malachor5\\data\\dataset_clips\\tira-...</td>\n",
       "      <td>0.09</td>\n",
       "    </tr>\n",
       "    <tr>\n",
       "      <th>0</th>\n",
       "      <td>0.00</td>\n",
       "      <td>0.05</td>\n",
       "      <td></td>\n",
       "      <td>phones</td>\n",
       "      <td>phones</td>\n",
       "      <td>C:\\projects\\malachor5\\data\\dataset_clips\\tira-...</td>\n",
       "      <td>0.05</td>\n",
       "    </tr>\n",
       "    <tr>\n",
       "      <th>0</th>\n",
       "      <td>0.05</td>\n",
       "      <td>0.09</td>\n",
       "      <td>ɛ</td>\n",
       "      <td>phones</td>\n",
       "      <td>phones</td>\n",
       "      <td>C:\\projects\\malachor5\\data\\dataset_clips\\tira-...</td>\n",
       "      <td>0.04</td>\n",
       "    </tr>\n",
       "  </tbody>\n",
       "</table>\n",
       "</div>"
      ],
      "text/plain": [
       "       start   end   text speaker    tier  \\\n",
       "index                                       \n",
       "0       0.00  0.05          words   words   \n",
       "0       0.05  0.67  ɛ̀vɛ̀   words   words   \n",
       "0       0.67  0.76          words   words   \n",
       "0       0.00  0.05         phones  phones   \n",
       "0       0.05  0.09      ɛ  phones  phones   \n",
       "\n",
       "                                                filename  duration  \n",
       "index                                                               \n",
       "0      C:\\projects\\malachor5\\data\\dataset_clips\\tira-...      0.05  \n",
       "0      C:\\projects\\malachor5\\data\\dataset_clips\\tira-...      0.62  \n",
       "0      C:\\projects\\malachor5\\data\\dataset_clips\\tira-...      0.09  \n",
       "0      C:\\projects\\malachor5\\data\\dataset_clips\\tira-...      0.05  \n",
       "0      C:\\projects\\malachor5\\data\\dataset_clips\\tira-...      0.04  "
      ]
     },
     "execution_count": 11,
     "metadata": {},
     "output_type": "execute_result"
    }
   ],
   "source": [
    "df['index']=df['filename'].apply(os.path.basename).str.replace('.TextGrid', '').astype(int)\n",
    "df=df.set_index('index')\n",
    "df['duration']=df['end']-df['start']\n",
    "df.head()"
   ]
  },
  {
   "cell_type": "markdown",
   "id": "b78c336b",
   "metadata": {},
   "source": [
    "# Check transcriptions\n",
    "Compare transcription stored in textgrid with `.lab` file in case MFA changed anything."
   ]
  },
  {
   "cell_type": "code",
   "execution_count": 37,
   "id": "2e620656",
   "metadata": {},
   "outputs": [
    {
     "data": {
      "text/plain": [
       "'ɛ̀vɛ̀ jìcə̀lò'"
      ]
     },
     "execution_count": 37,
     "metadata": {},
     "output_type": "execute_result"
    }
   ],
   "source": [
    "def get_transcription_for_tg(df, idx, words_mask=None):\n",
    "    if words_mask is None:\n",
    "        words_mask = df['tier']=='words'\n",
    "    word_df = df[words_mask].loc[idx]\n",
    "    if type(word_df) is pd.Series:\n",
    "        return word_df['text']\n",
    "    word_df = word_df.sort_values('start')\n",
    "    words = ' '.join(word_df['text'].tolist())\n",
    "    # remove double whitespace\n",
    "    words = ' '.join(words.split())\n",
    "    return words\n",
    "\n",
    "get_transcription_for_tg(df, 1)"
   ]
  },
  {
   "cell_type": "code",
   "execution_count": null,
   "id": "2b782f15",
   "metadata": {},
   "outputs": [
    {
     "name": "stderr",
     "output_type": "stream",
     "text": [
      "  4%|▍         | 966/23261 [00:25<09:54, 37.52it/s]\n"
     ]
    },
    {
     "ename": "KeyError",
     "evalue": "13563",
     "output_type": "error",
     "traceback": [
      "\u001b[31m---------------------------------------------------------------------------\u001b[39m",
      "\u001b[31mKeyError\u001b[39m                                  Traceback (most recent call last)",
      "\u001b[36mFile \u001b[39m\u001b[32mc:\\projects\\malachor5\\.venv\\Lib\\site-packages\\pandas\\core\\indexes\\base.py:3805\u001b[39m, in \u001b[36mIndex.get_loc\u001b[39m\u001b[34m(self, key)\u001b[39m\n\u001b[32m   3804\u001b[39m \u001b[38;5;28;01mtry\u001b[39;00m:\n\u001b[32m-> \u001b[39m\u001b[32m3805\u001b[39m     \u001b[38;5;28;01mreturn\u001b[39;00m \u001b[38;5;28;43mself\u001b[39;49m\u001b[43m.\u001b[49m\u001b[43m_engine\u001b[49m\u001b[43m.\u001b[49m\u001b[43mget_loc\u001b[49m\u001b[43m(\u001b[49m\u001b[43mcasted_key\u001b[49m\u001b[43m)\u001b[49m\n\u001b[32m   3806\u001b[39m \u001b[38;5;28;01mexcept\u001b[39;00m \u001b[38;5;167;01mKeyError\u001b[39;00m \u001b[38;5;28;01mas\u001b[39;00m err:\n",
      "\u001b[36mFile \u001b[39m\u001b[32mindex.pyx:167\u001b[39m, in \u001b[36mpandas._libs.index.IndexEngine.get_loc\u001b[39m\u001b[34m()\u001b[39m\n",
      "\u001b[36mFile \u001b[39m\u001b[32mindex.pyx:191\u001b[39m, in \u001b[36mpandas._libs.index.IndexEngine.get_loc\u001b[39m\u001b[34m()\u001b[39m\n",
      "\u001b[36mFile \u001b[39m\u001b[32mindex.pyx:234\u001b[39m, in \u001b[36mpandas._libs.index.IndexEngine._get_loc_duplicates\u001b[39m\u001b[34m()\u001b[39m\n",
      "\u001b[36mFile \u001b[39m\u001b[32mindex.pyx:242\u001b[39m, in \u001b[36mpandas._libs.index.IndexEngine._maybe_get_bool_indexer\u001b[39m\u001b[34m()\u001b[39m\n",
      "\u001b[36mFile \u001b[39m\u001b[32mindex.pyx:134\u001b[39m, in \u001b[36mpandas._libs.index._unpack_bool_indexer\u001b[39m\u001b[34m()\u001b[39m\n",
      "\u001b[31mKeyError\u001b[39m: 13563",
      "\nThe above exception was the direct cause of the following exception:\n",
      "\u001b[31mKeyError\u001b[39m                                  Traceback (most recent call last)",
      "\u001b[36mCell\u001b[39m\u001b[36m \u001b[39m\u001b[32mIn[38]\u001b[39m\u001b[32m, line 11\u001b[39m\n\u001b[32m      9\u001b[39m     \u001b[38;5;28;01mwith\u001b[39;00m \u001b[38;5;28mopen\u001b[39m(lab_file, encoding=\u001b[33m'\u001b[39m\u001b[33mutf8\u001b[39m\u001b[33m'\u001b[39m) \u001b[38;5;28;01mas\u001b[39;00m f:\n\u001b[32m     10\u001b[39m         label = f.read().strip()\n\u001b[32m---> \u001b[39m\u001b[32m11\u001b[39m     mfa_label = \u001b[43mget_transcription_for_tg\u001b[49m\u001b[43m(\u001b[49m\u001b[43mdf\u001b[49m\u001b[43m,\u001b[49m\u001b[43m \u001b[49m\u001b[43midx\u001b[49m\u001b[43m,\u001b[49m\u001b[43m \u001b[49m\u001b[43mwords_mask\u001b[49m\u001b[43m=\u001b[49m\u001b[43mwords_mask\u001b[49m\u001b[43m)\u001b[49m\n\u001b[32m     12\u001b[39m     label_rows.append({\n\u001b[32m     13\u001b[39m         \u001b[33m'\u001b[39m\u001b[33mlabel\u001b[39m\u001b[33m'\u001b[39m: label,\n\u001b[32m     14\u001b[39m         \u001b[33m'\u001b[39m\u001b[33mmfa_label\u001b[39m\u001b[33m'\u001b[39m: mfa_label,\n\u001b[32m     15\u001b[39m         \u001b[33m'\u001b[39m\u001b[33mindex\u001b[39m\u001b[33m'\u001b[39m: idx,\n\u001b[32m     16\u001b[39m         \u001b[33m'\u001b[39m\u001b[33mfilepath\u001b[39m\u001b[33m'\u001b[39m: lab_file,\n\u001b[32m     17\u001b[39m     })\n\u001b[32m     18\u001b[39m lab_df = pd.DataFrame(label_rows)\n",
      "\u001b[36mCell\u001b[39m\u001b[36m \u001b[39m\u001b[32mIn[37]\u001b[39m\u001b[32m, line 4\u001b[39m, in \u001b[36mget_transcription_for_tg\u001b[39m\u001b[34m(df, idx, words_mask)\u001b[39m\n\u001b[32m      2\u001b[39m \u001b[38;5;28;01mif\u001b[39;00m words_mask \u001b[38;5;129;01mis\u001b[39;00m \u001b[38;5;28;01mNone\u001b[39;00m:\n\u001b[32m      3\u001b[39m     words_mask = df[\u001b[33m'\u001b[39m\u001b[33mtier\u001b[39m\u001b[33m'\u001b[39m]==\u001b[33m'\u001b[39m\u001b[33mwords\u001b[39m\u001b[33m'\u001b[39m\n\u001b[32m----> \u001b[39m\u001b[32m4\u001b[39m word_df = \u001b[43mdf\u001b[49m\u001b[43m[\u001b[49m\u001b[43mwords_mask\u001b[49m\u001b[43m]\u001b[49m\u001b[43m.\u001b[49m\u001b[43mloc\u001b[49m\u001b[43m[\u001b[49m\u001b[43midx\u001b[49m\u001b[43m]\u001b[49m\n\u001b[32m      5\u001b[39m \u001b[38;5;28;01mif\u001b[39;00m \u001b[38;5;28mtype\u001b[39m(word_df) \u001b[38;5;129;01mis\u001b[39;00m pd.Series:\n\u001b[32m      6\u001b[39m     \u001b[38;5;28;01mreturn\u001b[39;00m word_df[\u001b[33m'\u001b[39m\u001b[33mtext\u001b[39m\u001b[33m'\u001b[39m]\n",
      "\u001b[36mFile \u001b[39m\u001b[32mc:\\projects\\malachor5\\.venv\\Lib\\site-packages\\pandas\\core\\indexing.py:1191\u001b[39m, in \u001b[36m_LocationIndexer.__getitem__\u001b[39m\u001b[34m(self, key)\u001b[39m\n\u001b[32m   1189\u001b[39m maybe_callable = com.apply_if_callable(key, \u001b[38;5;28mself\u001b[39m.obj)\n\u001b[32m   1190\u001b[39m maybe_callable = \u001b[38;5;28mself\u001b[39m._check_deprecated_callable_usage(key, maybe_callable)\n\u001b[32m-> \u001b[39m\u001b[32m1191\u001b[39m \u001b[38;5;28;01mreturn\u001b[39;00m \u001b[38;5;28;43mself\u001b[39;49m\u001b[43m.\u001b[49m\u001b[43m_getitem_axis\u001b[49m\u001b[43m(\u001b[49m\u001b[43mmaybe_callable\u001b[49m\u001b[43m,\u001b[49m\u001b[43m \u001b[49m\u001b[43maxis\u001b[49m\u001b[43m=\u001b[49m\u001b[43maxis\u001b[49m\u001b[43m)\u001b[49m\n",
      "\u001b[36mFile \u001b[39m\u001b[32mc:\\projects\\malachor5\\.venv\\Lib\\site-packages\\pandas\\core\\indexing.py:1431\u001b[39m, in \u001b[36m_LocIndexer._getitem_axis\u001b[39m\u001b[34m(self, key, axis)\u001b[39m\n\u001b[32m   1429\u001b[39m \u001b[38;5;66;03m# fall thru to straight lookup\u001b[39;00m\n\u001b[32m   1430\u001b[39m \u001b[38;5;28mself\u001b[39m._validate_key(key, axis)\n\u001b[32m-> \u001b[39m\u001b[32m1431\u001b[39m \u001b[38;5;28;01mreturn\u001b[39;00m \u001b[38;5;28;43mself\u001b[39;49m\u001b[43m.\u001b[49m\u001b[43m_get_label\u001b[49m\u001b[43m(\u001b[49m\u001b[43mkey\u001b[49m\u001b[43m,\u001b[49m\u001b[43m \u001b[49m\u001b[43maxis\u001b[49m\u001b[43m=\u001b[49m\u001b[43maxis\u001b[49m\u001b[43m)\u001b[49m\n",
      "\u001b[36mFile \u001b[39m\u001b[32mc:\\projects\\malachor5\\.venv\\Lib\\site-packages\\pandas\\core\\indexing.py:1381\u001b[39m, in \u001b[36m_LocIndexer._get_label\u001b[39m\u001b[34m(self, label, axis)\u001b[39m\n\u001b[32m   1379\u001b[39m \u001b[38;5;28;01mdef\u001b[39;00m\u001b[38;5;250m \u001b[39m\u001b[34m_get_label\u001b[39m(\u001b[38;5;28mself\u001b[39m, label, axis: AxisInt):\n\u001b[32m   1380\u001b[39m     \u001b[38;5;66;03m# GH#5567 this will fail if the label is not present in the axis.\u001b[39;00m\n\u001b[32m-> \u001b[39m\u001b[32m1381\u001b[39m     \u001b[38;5;28;01mreturn\u001b[39;00m \u001b[38;5;28;43mself\u001b[39;49m\u001b[43m.\u001b[49m\u001b[43mobj\u001b[49m\u001b[43m.\u001b[49m\u001b[43mxs\u001b[49m\u001b[43m(\u001b[49m\u001b[43mlabel\u001b[49m\u001b[43m,\u001b[49m\u001b[43m \u001b[49m\u001b[43maxis\u001b[49m\u001b[43m=\u001b[49m\u001b[43maxis\u001b[49m\u001b[43m)\u001b[49m\n",
      "\u001b[36mFile \u001b[39m\u001b[32mc:\\projects\\malachor5\\.venv\\Lib\\site-packages\\pandas\\core\\generic.py:4301\u001b[39m, in \u001b[36mNDFrame.xs\u001b[39m\u001b[34m(self, key, axis, level, drop_level)\u001b[39m\n\u001b[32m   4299\u001b[39m             new_index = index[loc]\n\u001b[32m   4300\u001b[39m \u001b[38;5;28;01melse\u001b[39;00m:\n\u001b[32m-> \u001b[39m\u001b[32m4301\u001b[39m     loc = \u001b[43mindex\u001b[49m\u001b[43m.\u001b[49m\u001b[43mget_loc\u001b[49m\u001b[43m(\u001b[49m\u001b[43mkey\u001b[49m\u001b[43m)\u001b[49m\n\u001b[32m   4303\u001b[39m     \u001b[38;5;28;01mif\u001b[39;00m \u001b[38;5;28misinstance\u001b[39m(loc, np.ndarray):\n\u001b[32m   4304\u001b[39m         \u001b[38;5;28;01mif\u001b[39;00m loc.dtype == np.bool_:\n",
      "\u001b[36mFile \u001b[39m\u001b[32mc:\\projects\\malachor5\\.venv\\Lib\\site-packages\\pandas\\core\\indexes\\base.py:3812\u001b[39m, in \u001b[36mIndex.get_loc\u001b[39m\u001b[34m(self, key)\u001b[39m\n\u001b[32m   3807\u001b[39m     \u001b[38;5;28;01mif\u001b[39;00m \u001b[38;5;28misinstance\u001b[39m(casted_key, \u001b[38;5;28mslice\u001b[39m) \u001b[38;5;129;01mor\u001b[39;00m (\n\u001b[32m   3808\u001b[39m         \u001b[38;5;28misinstance\u001b[39m(casted_key, abc.Iterable)\n\u001b[32m   3809\u001b[39m         \u001b[38;5;129;01mand\u001b[39;00m \u001b[38;5;28many\u001b[39m(\u001b[38;5;28misinstance\u001b[39m(x, \u001b[38;5;28mslice\u001b[39m) \u001b[38;5;28;01mfor\u001b[39;00m x \u001b[38;5;129;01min\u001b[39;00m casted_key)\n\u001b[32m   3810\u001b[39m     ):\n\u001b[32m   3811\u001b[39m         \u001b[38;5;28;01mraise\u001b[39;00m InvalidIndexError(key)\n\u001b[32m-> \u001b[39m\u001b[32m3812\u001b[39m     \u001b[38;5;28;01mraise\u001b[39;00m \u001b[38;5;167;01mKeyError\u001b[39;00m(key) \u001b[38;5;28;01mfrom\u001b[39;00m\u001b[38;5;250m \u001b[39m\u001b[34;01merr\u001b[39;00m\n\u001b[32m   3813\u001b[39m \u001b[38;5;28;01mexcept\u001b[39;00m \u001b[38;5;167;01mTypeError\u001b[39;00m:\n\u001b[32m   3814\u001b[39m     \u001b[38;5;66;03m# If we have a listlike key, _check_indexing_error will raise\u001b[39;00m\n\u001b[32m   3815\u001b[39m     \u001b[38;5;66;03m#  InvalidIndexError. Otherwise we fall through and re-raise\u001b[39;00m\n\u001b[32m   3816\u001b[39m     \u001b[38;5;66;03m#  the TypeError.\u001b[39;00m\n\u001b[32m   3817\u001b[39m     \u001b[38;5;28mself\u001b[39m._check_indexing_error(key)\n",
      "\u001b[31mKeyError\u001b[39m: 13563"
     ]
    }
   ],
   "source": [
    "input_dir = r'C:\\projects\\malachor5\\data\\dataset_clips\\tira-asr\\mfa_input\\himidan'\n",
    "lab_paths = glob(os.path.join(input_dir, '*.lab'))\n",
    "\n",
    "label_rows = []\n",
    "words_mask = df['tier']=='words'\n",
    "\n",
    "for lab_file in tqdm(lab_paths):\n",
    "    idx = int(os.path.basename(lab_file).removesuffix('.lab'))\n",
    "    with open(lab_file, encoding='utf8') as f:\n",
    "        label = f.read().strip()\n",
    "    if idx not in df.index:\n",
    "        continue\n",
    "    mfa_label = get_transcription_for_tg(df, idx, words_mask=words_mask)\n",
    "    label_rows.append({\n",
    "        'label': label,\n",
    "        'mfa_label': mfa_label,\n",
    "        'index': idx,\n",
    "        'filepath': lab_file,\n",
    "    })\n",
    "lab_df = pd.DataFrame(label_rows)\n"
   ]
  },
  {
   "cell_type": "markdown",
   "id": "1808fba1",
   "metadata": {},
   "source": [
    "Get average/median/min/max/std of word/phone length for each training record and save to a separate DataFrame:"
   ]
  },
  {
   "cell_type": "code",
   "execution_count": 27,
   "id": "da17c8a5",
   "metadata": {},
   "outputs": [
    {
     "name": "stderr",
     "output_type": "stream",
     "text": [
      "100%|██████████| 23204/23204 [00:37<00:00, 617.91it/s]\n"
     ]
    }
   ],
   "source": [
    "ds_record_rows = []\n",
    "phone_mask = df['tier']=='phones'\n",
    "word_mask = df['tier']=='words'\n",
    "nonempty_mask = df['text']!=''\n",
    "words_df=df[word_mask&nonempty_mask]\n",
    "phones_df=df[phone_mask&nonempty_mask]\n",
    "for index in tqdm(df.index.unique()):\n",
    "    words_for_index = words_df.loc[index]\n",
    "    phones_for_index =  phones_df.loc[index]\n",
    "    ds_record_rows.append({\n",
    "        \"index\": index,\n",
    "        \"wordlen_max\": words_for_index['duration'].max(),\n",
    "        \"wordlen_min\": words_for_index['duration'].min(),\n",
    "        \"wordlen_med\": np.median(words_for_index['duration']),\n",
    "        \"wordlen_avg\": words_for_index['duration'].mean(),\n",
    "        \"wordlen_std\": words_for_index['duration'].std(),\n",
    "\n",
    "        \"phonelen_max\": phones_for_index['duration'].max(),\n",
    "        \"phonelen_min\": phones_for_index['duration'].min(),\n",
    "        \"phonelen_med\": np.median(phones_for_index['duration']),\n",
    "        \"phonelen_avg\": phones_for_index['duration'].mean(),\n",
    "        \"phonelen_std\": phones_for_index['duration'].std(),\n",
    "    })\n",
    "record_df = pd.DataFrame(ds_record_rows)"
   ]
  },
  {
   "cell_type": "code",
   "execution_count": 38,
   "id": "17402327",
   "metadata": {},
   "outputs": [
    {
     "data": {
      "text/plain": [
       "<Axes: >"
      ]
     },
     "execution_count": 38,
     "metadata": {},
     "output_type": "execute_result"
    },
    {
     "data": {
      "image/png": "[encoded data removed]",
      "text/plain": [
       "<Figure size 640x480 with 1 Axes>"
      ]
     },
     "metadata": {},
     "output_type": "display_data"
    }
   ],
   "source": [
    "plt.yscale('log')\n",
    "record_df['phonelen_avg'].hist()\n"
   ]
  },
  {
   "cell_type": "code",
   "execution_count": 31,
   "id": "f45af419",
   "metadata": {},
   "outputs": [
    {
     "data": {
      "text/plain": [
       "np.float64(0.9655662816755731)"
      ]
     },
     "execution_count": 31,
     "metadata": {},
     "output_type": "execute_result"
    }
   ],
   "source": [
    "(record_df['wordlen_std']<0.5).sum()/len(record_df)"
   ]
  },
  {
   "cell_type": "code",
   "execution_count": 34,
   "id": "63d8952e",
   "metadata": {},
   "outputs": [
    {
     "data": {
      "text/plain": [
       "np.float64(0.986295466298914)"
      ]
     },
     "execution_count": 34,
     "metadata": {},
     "output_type": "execute_result"
    }
   ],
   "source": [
    "(record_df['phonelen_std']<0.25).sum()/len(record_df)\n"
   ]
  },
  {
   "cell_type": "code",
   "execution_count": null,
   "id": "9c894f13",
   "metadata": {},
   "outputs": [],
   "source": [
    "align_metadata_csv = r'C:\\projects\\malachor5\\data\\dataset_clips\\tira-asr\\mfa_output\\alignment_metadata.csv'\n",
    "record_df.to_csv(align_metadata_csv)"
   ]
  }
 ],
 "metadata": {
  "kernelspec": {
   "display_name": ".venv",
   "language": "python",
   "name": "python3"
  },
  "language_info": {
   "codemirror_mode": {
    "name": "ipython",
    "version": 3
   },
   "file_extension": ".py",
   "mimetype": "text/x-python",
   "name": "python",
   "nbconvert_exporter": "python",
   "pygments_lexer": "ipython3",
   "version": "3.12.10"
  }
 },
 "nbformat": 4,
 "nbformat_minor": 5
}
