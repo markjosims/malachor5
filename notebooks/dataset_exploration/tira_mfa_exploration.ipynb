{
 "cells": [
  {
   "cell_type": "markdown",
   "id": "abb69e7d",
   "metadata": {},
   "source": [
    "# tira_mfa_exploration\n",
    "Get distribution data from MFA alignments.\n",
    "In theory, we should be able to spot deviant transcriptions through introspection of FA output,\n",
    "e.g. missing words in the transcription will result in weirdly long word alignments and vice versa."
   ]
  },
  {
   "cell_type": "code",
   "execution_count": null,
   "id": "2a517fda",
   "metadata": {},
   "outputs": [],
   "source": [
    "import pandas as pd\n",
    "import numpy as np\n",
    "import seaborn as sns\n",
    "from glob import glob\n",
    "from tqdm import tqdm\n",
    "import matplotlib.pyplot as plt\n",
    "\n",
    "import os\n",
    "os.chdir(r'C:\\projects\\malachor5')\n",
    "import sys\n",
    "sys.path.append(r'C:\\projects\\malachor5\\scripts')\n",
    "from kws import textgrid_to_df\n",
    "from string_norm import unicode_normalize"
   ]
  },
  {
   "cell_type": "markdown",
   "metadata": {},
   "source": [
    "Aggregate all aligned TextGrids into a single DataFrame"
   ]
  },
  {
   "cell_type": "code",
   "execution_count": 2,
   "id": "e559021c",
   "metadata": {},
   "outputs": [
    {
     "name": "stderr",
     "output_type": "stream",
     "text": [
      "100%|██████████| 23204/23204 [00:28<00:00, 824.74it/s]\n"
     ]
    },
    {
     "name": "stdout",
     "output_type": "stream",
     "text": [
      "504854\n"
     ]
    },
    {
     "data": {
      "text/html": [
       "<div>\n",
       "<style scoped>\n",
       "    .dataframe tbody tr th:only-of-type {\n",
       "        vertical-align: middle;\n",
       "    }\n",
       "\n",
       "    .dataframe tbody tr th {\n",
       "        vertical-align: top;\n",
       "    }\n",
       "\n",
       "    .dataframe thead th {\n",
       "        text-align: right;\n",
       "    }\n",
       "</style>\n",
       "<table border=\"1\" class=\"dataframe\">\n",
       "  <thead>\n",
       "    <tr style=\"text-align: right;\">\n",
       "      <th></th>\n",
       "      <th>start</th>\n",
       "      <th>end</th>\n",
       "      <th>text</th>\n",
       "      <th>speaker</th>\n",
       "      <th>tier</th>\n",
       "      <th>filename</th>\n",
       "    </tr>\n",
       "  </thead>\n",
       "  <tbody>\n",
       "    <tr>\n",
       "      <th>0</th>\n",
       "      <td>0.00</td>\n",
       "      <td>0.05</td>\n",
       "      <td></td>\n",
       "      <td>words</td>\n",
       "      <td>words</td>\n",
       "      <td>C:\\projects\\malachor5\\data\\dataset_clips\\tira-...</td>\n",
       "    </tr>\n",
       "    <tr>\n",
       "      <th>1</th>\n",
       "      <td>0.05</td>\n",
       "      <td>0.67</td>\n",
       "      <td>ɛ̀vɛ̀</td>\n",
       "      <td>words</td>\n",
       "      <td>words</td>\n",
       "      <td>C:\\projects\\malachor5\\data\\dataset_clips\\tira-...</td>\n",
       "    </tr>\n",
       "    <tr>\n",
       "      <th>2</th>\n",
       "      <td>0.67</td>\n",
       "      <td>0.76</td>\n",
       "      <td></td>\n",
       "      <td>words</td>\n",
       "      <td>words</td>\n",
       "      <td>C:\\projects\\malachor5\\data\\dataset_clips\\tira-...</td>\n",
       "    </tr>\n",
       "    <tr>\n",
       "      <th>3</th>\n",
       "      <td>0.00</td>\n",
       "      <td>0.05</td>\n",
       "      <td></td>\n",
       "      <td>phones</td>\n",
       "      <td>phones</td>\n",
       "      <td>C:\\projects\\malachor5\\data\\dataset_clips\\tira-...</td>\n",
       "    </tr>\n",
       "    <tr>\n",
       "      <th>4</th>\n",
       "      <td>0.05</td>\n",
       "      <td>0.09</td>\n",
       "      <td>ɛ</td>\n",
       "      <td>phones</td>\n",
       "      <td>phones</td>\n",
       "      <td>C:\\projects\\malachor5\\data\\dataset_clips\\tira-...</td>\n",
       "    </tr>\n",
       "  </tbody>\n",
       "</table>\n",
       "</div>"
      ],
      "text/plain": [
       "   start   end   text speaker    tier  \\\n",
       "0   0.00  0.05          words   words   \n",
       "1   0.05  0.67  ɛ̀vɛ̀   words   words   \n",
       "2   0.67  0.76          words   words   \n",
       "3   0.00  0.05         phones  phones   \n",
       "4   0.05  0.09      ɛ  phones  phones   \n",
       "\n",
       "                                            filename  \n",
       "0  C:\\projects\\malachor5\\data\\dataset_clips\\tira-...  \n",
       "1  C:\\projects\\malachor5\\data\\dataset_clips\\tira-...  \n",
       "2  C:\\projects\\malachor5\\data\\dataset_clips\\tira-...  \n",
       "3  C:\\projects\\malachor5\\data\\dataset_clips\\tira-...  \n",
       "4  C:\\projects\\malachor5\\data\\dataset_clips\\tira-...  "
      ]
     },
     "execution_count": 2,
     "metadata": {},
     "output_type": "execute_result"
    }
   ],
   "source": [
    "align_dir = r'C:\\projects\\malachor5\\data\\dataset_clips\\tira-asr\\mfa_output\\himidan'\n",
    "tg_paths = glob(os.path.join(align_dir, '*.TextGrid'))\n",
    "df_list = []\n",
    "for tg_path in tqdm(tg_paths):\n",
    "    tg_df = textgrid_to_df(tg_path, words_only=False)\n",
    "    tg_df['filename']=tg_path\n",
    "    df_list.append(tg_df)\n",
    "df=pd.concat(df_list)\n",
    "print(len(df))\n",
    "df.head()"
   ]
  },
  {
   "cell_type": "code",
   "execution_count": 11,
   "id": "feaf620d",
   "metadata": {},
   "outputs": [
    {
     "data": {
      "text/html": [
       "<div>\n",
       "<style scoped>\n",
       "    .dataframe tbody tr th:only-of-type {\n",
       "        vertical-align: middle;\n",
       "    }\n",
       "\n",
       "    .dataframe tbody tr th {\n",
       "        vertical-align: top;\n",
       "    }\n",
       "\n",
       "    .dataframe thead th {\n",
       "        text-align: right;\n",
       "    }\n",
       "</style>\n",
       "<table border=\"1\" class=\"dataframe\">\n",
       "  <thead>\n",
       "    <tr style=\"text-align: right;\">\n",
       "      <th></th>\n",
       "      <th>start</th>\n",
       "      <th>end</th>\n",
       "      <th>text</th>\n",
       "      <th>speaker</th>\n",
       "      <th>tier</th>\n",
       "      <th>filename</th>\n",
       "      <th>duration</th>\n",
       "    </tr>\n",
       "    <tr>\n",
       "      <th>index</th>\n",
       "      <th></th>\n",
       "      <th></th>\n",
       "      <th></th>\n",
       "      <th></th>\n",
       "      <th></th>\n",
       "      <th></th>\n",
       "      <th></th>\n",
       "    </tr>\n",
       "  </thead>\n",
       "  <tbody>\n",
       "    <tr>\n",
       "      <th>0</th>\n",
       "      <td>0.00</td>\n",
       "      <td>0.05</td>\n",
       "      <td></td>\n",
       "      <td>words</td>\n",
       "      <td>words</td>\n",
       "      <td>C:\\projects\\malachor5\\data\\dataset_clips\\tira-...</td>\n",
       "      <td>0.05</td>\n",
       "    </tr>\n",
       "    <tr>\n",
       "      <th>0</th>\n",
       "      <td>0.05</td>\n",
       "      <td>0.67</td>\n",
       "      <td>ɛ̀vɛ̀</td>\n",
       "      <td>words</td>\n",
       "      <td>words</td>\n",
       "      <td>C:\\projects\\malachor5\\data\\dataset_clips\\tira-...</td>\n",
       "      <td>0.62</td>\n",
       "    </tr>\n",
       "    <tr>\n",
       "      <th>0</th>\n",
       "      <td>0.67</td>\n",
       "      <td>0.76</td>\n",
       "      <td></td>\n",
       "      <td>words</td>\n",
       "      <td>words</td>\n",
       "      <td>C:\\projects\\malachor5\\data\\dataset_clips\\tira-...</td>\n",
       "      <td>0.09</td>\n",
       "    </tr>\n",
       "    <tr>\n",
       "      <th>0</th>\n",
       "      <td>0.00</td>\n",
       "      <td>0.05</td>\n",
       "      <td></td>\n",
       "      <td>phones</td>\n",
       "      <td>phones</td>\n",
       "      <td>C:\\projects\\malachor5\\data\\dataset_clips\\tira-...</td>\n",
       "      <td>0.05</td>\n",
       "    </tr>\n",
       "    <tr>\n",
       "      <th>0</th>\n",
       "      <td>0.05</td>\n",
       "      <td>0.09</td>\n",
       "      <td>ɛ</td>\n",
       "      <td>phones</td>\n",
       "      <td>phones</td>\n",
       "      <td>C:\\projects\\malachor5\\data\\dataset_clips\\tira-...</td>\n",
       "      <td>0.04</td>\n",
       "    </tr>\n",
       "  </tbody>\n",
       "</table>\n",
       "</div>"
      ],
      "text/plain": [
       "       start   end   text speaker    tier  \\\n",
       "index                                       \n",
       "0       0.00  0.05          words   words   \n",
       "0       0.05  0.67  ɛ̀vɛ̀   words   words   \n",
       "0       0.67  0.76          words   words   \n",
       "0       0.00  0.05         phones  phones   \n",
       "0       0.05  0.09      ɛ  phones  phones   \n",
       "\n",
       "                                                filename  duration  \n",
       "index                                                               \n",
       "0      C:\\projects\\malachor5\\data\\dataset_clips\\tira-...      0.05  \n",
       "0      C:\\projects\\malachor5\\data\\dataset_clips\\tira-...      0.62  \n",
       "0      C:\\projects\\malachor5\\data\\dataset_clips\\tira-...      0.09  \n",
       "0      C:\\projects\\malachor5\\data\\dataset_clips\\tira-...      0.05  \n",
       "0      C:\\projects\\malachor5\\data\\dataset_clips\\tira-...      0.04  "
      ]
     },
     "execution_count": 11,
     "metadata": {},
     "output_type": "execute_result"
    }
   ],
   "source": [
    "df['index']=df['filename'].apply(os.path.basename).str.replace('.TextGrid', '').astype(int)\n",
    "df=df.set_index('index')\n",
    "df['duration']=df['end']-df['start']\n",
    "df.head()"
   ]
  },
  {
   "cell_type": "markdown",
   "id": "b78c336b",
   "metadata": {},
   "source": [
    "# Check transcriptions\n",
    "Compare transcription stored in textgrid with `.lab` file in case MFA changed anything."
   ]
  },
  {
   "cell_type": "code",
   "execution_count": 37,
   "id": "2e620656",
   "metadata": {},
   "outputs": [
    {
     "data": {
      "text/plain": [
       "'ɛ̀vɛ̀ jìcə̀lò'"
      ]
     },
     "execution_count": 37,
     "metadata": {},
     "output_type": "execute_result"
    }
   ],
   "source": [
    "def get_transcription_for_tg(df, idx, words_mask=None):\n",
    "    if words_mask is None:\n",
    "        words_mask = df['tier']=='words'\n",
    "    word_df = df[words_mask].loc[idx]\n",
    "    if type(word_df) is pd.Series:\n",
    "        return word_df['text']\n",
    "    word_df = word_df.sort_values('start')\n",
    "    words = ' '.join(word_df['text'].tolist())\n",
    "    # remove double whitespace\n",
    "    words = ' '.join(words.split())\n",
    "    return words\n",
    "\n",
    "get_transcription_for_tg(df, 1)"
   ]
  },
  {
   "cell_type": "code",
   "execution_count": 39,
   "id": "2b782f15",
   "metadata": {},
   "outputs": [
    {
     "name": "stderr",
     "output_type": "stream",
     "text": [
      "100%|██████████| 23261/23261 [11:45<00:00, 32.97it/s]\n"
     ]
    }
   ],
   "source": [
    "input_dir = r'C:\\projects\\malachor5\\data\\dataset_clips\\tira-asr\\mfa_input\\himidan'\n",
    "lab_paths = glob(os.path.join(input_dir, '*.lab'))\n",
    "\n",
    "label_rows = []\n",
    "words_mask = df['tier']=='words'\n",
    "\n",
    "for lab_file in tqdm(lab_paths):\n",
    "    idx = int(os.path.basename(lab_file).removesuffix('.lab'))\n",
    "    with open(lab_file, encoding='utf8') as f:\n",
    "        label = f.read().strip()\n",
    "    if idx not in df.index:\n",
    "        continue\n",
    "    mfa_label = get_transcription_for_tg(df, idx, words_mask=words_mask)\n",
    "    label_rows.append({\n",
    "        'label': label,\n",
    "        'mfa_label': mfa_label,\n",
    "        'index': idx,\n",
    "        'filepath': lab_file,\n",
    "    })\n",
    "lab_df = pd.DataFrame(label_rows)\n"
   ]
  },
  {
   "cell_type": "code",
   "execution_count": null,
   "id": "9668a62d",
   "metadata": {},
   "outputs": [],
   "source": [
    "lab_df['label']"
   ]
  },
  {
   "cell_type": "code",
   "execution_count": 48,
   "id": "80caf54f",
   "metadata": {},
   "outputs": [
    {
     "data": {
      "text/html": [
       "<div>\n",
       "<style scoped>\n",
       "    .dataframe tbody tr th:only-of-type {\n",
       "        vertical-align: middle;\n",
       "    }\n",
       "\n",
       "    .dataframe tbody tr th {\n",
       "        vertical-align: top;\n",
       "    }\n",
       "\n",
       "    .dataframe thead th {\n",
       "        text-align: right;\n",
       "    }\n",
       "</style>\n",
       "<table border=\"1\" class=\"dataframe\">\n",
       "  <thead>\n",
       "    <tr style=\"text-align: right;\">\n",
       "      <th></th>\n",
       "      <th>label</th>\n",
       "      <th>mfa_label</th>\n",
       "      <th>index</th>\n",
       "      <th>filepath</th>\n",
       "    </tr>\n",
       "  </thead>\n",
       "  <tbody>\n",
       "    <tr>\n",
       "      <th>1</th>\n",
       "      <td>ɛ̀vɛ̀ jìcə̀lò</td>\n",
       "      <td>ɛ̀vɛ̀ jìcə̀lò</td>\n",
       "      <td>1</td>\n",
       "      <td>C:\\projects\\malachor5\\data\\dataset_clips\\tira-...</td>\n",
       "    </tr>\n",
       "    <tr>\n",
       "      <th>3</th>\n",
       "      <td>káŋcîí ùrnɔ̀</td>\n",
       "      <td>káŋcîí ùrnɔ̀</td>\n",
       "      <td>100</td>\n",
       "      <td>C:\\projects\\malachor5\\data\\dataset_clips\\tira-...</td>\n",
       "    </tr>\n",
       "    <tr>\n",
       "      <th>7</th>\n",
       "      <td>jíŋgávə́lɛ̂ðɛ̌ ðàŋàlà ùnɛ́ɾɛ̀</td>\n",
       "      <td>jíŋgávə́lɛ̂ðɛ̌ ðàŋàlà ùnɛ́ɾɛ̀</td>\n",
       "      <td>10305</td>\n",
       "      <td>C:\\projects\\malachor5\\data\\dataset_clips\\tira-...</td>\n",
       "    </tr>\n",
       "    <tr>\n",
       "      <th>8</th>\n",
       "      <td>jǐŋgávə́lɛ̂ðɛ̌ ðàŋàlà ùnɛ́ɾɛ̀</td>\n",
       "      <td>jǐŋgávə́lɛ̂ðɛ̌ ðàŋàlà ùnɛ́ɾɛ̀</td>\n",
       "      <td>10306</td>\n",
       "      <td>C:\\projects\\malachor5\\data\\dataset_clips\\tira-...</td>\n",
       "    </tr>\n",
       "    <tr>\n",
       "      <th>9</th>\n",
       "      <td>ìŋgávə́lɛ̂ðɛ̀ ðàŋàlà ùnɛ̀ɾɛ̀</td>\n",
       "      <td>ìŋgávə́lɛ̂ðɛ̀ ðàŋàlà ùnɛ̀ɾɛ̀</td>\n",
       "      <td>10307</td>\n",
       "      <td>C:\\projects\\malachor5\\data\\dataset_clips\\tira-...</td>\n",
       "    </tr>\n",
       "    <tr>\n",
       "      <th>...</th>\n",
       "      <td>...</td>\n",
       "      <td>...</td>\n",
       "      <td>...</td>\n",
       "      <td>...</td>\n",
       "    </tr>\n",
       "    <tr>\n",
       "      <th>23199</th>\n",
       "      <td>làllúvə́lɛ̂ðɛ̀ ùnɛ́ɾɛ̀</td>\n",
       "      <td>làllúvə́lɛ̂ðɛ̀ ùnɛ́ɾɛ̀</td>\n",
       "      <td>9849</td>\n",
       "      <td>C:\\projects\\malachor5\\data\\dataset_clips\\tira-...</td>\n",
       "    </tr>\n",
       "    <tr>\n",
       "      <th>23200</th>\n",
       "      <td>làlvə́lɛ̂ðɛ̀ ùnɛ́ɾɛ̀ làllúvə́lɛ̂ðɛ̀ ùnɛ́ɾɛ̀</td>\n",
       "      <td>làlvə́lɛ̂ðɛ̀ ùnɛ́ɾɛ̀ làllúvə́lɛ̂ðɛ̀ ùnɛ́ɾɛ̀</td>\n",
       "      <td>9850</td>\n",
       "      <td>C:\\projects\\malachor5\\data\\dataset_clips\\tira-...</td>\n",
       "    </tr>\n",
       "    <tr>\n",
       "      <th>23201</th>\n",
       "      <td>làlvə́lɛ̂ðɛ̀ ùnɛ́ɾɛ̀ làllúvə́lɛ̂ðɛ̀ ùnɛ́ɾɛ̀</td>\n",
       "      <td>làlvə́lɛ̂ðɛ̀ ùnɛ́ɾɛ̀ làllúvə́lɛ̂ðɛ̀ ùnɛ́ɾɛ̀</td>\n",
       "      <td>9851</td>\n",
       "      <td>C:\\projects\\malachor5\\data\\dataset_clips\\tira-...</td>\n",
       "    </tr>\n",
       "    <tr>\n",
       "      <th>23202</th>\n",
       "      <td>làllúvə́lɛ̂ðɛ̀ ùnɛ́ɾɛ̀</td>\n",
       "      <td>làllúvə́lɛ̂ðɛ̀ ùnɛ́ɾɛ̀</td>\n",
       "      <td>9852</td>\n",
       "      <td>C:\\projects\\malachor5\\data\\dataset_clips\\tira-...</td>\n",
       "    </tr>\n",
       "    <tr>\n",
       "      <th>23203</th>\n",
       "      <td>káŋcîí ùrnɔ̀</td>\n",
       "      <td>káŋcîí ùrnɔ̀</td>\n",
       "      <td>99</td>\n",
       "      <td>C:\\projects\\malachor5\\data\\dataset_clips\\tira-...</td>\n",
       "    </tr>\n",
       "  </tbody>\n",
       "</table>\n",
       "<p>22596 rows × 4 columns</p>\n",
       "</div>"
      ],
      "text/plain": [
       "                                                  label  \\\n",
       "1                                       ɛ̀vɛ̀ jìcə̀lò   \n",
       "3                                      káŋcîí ùrnɔ̀   \n",
       "7                   jíŋgávə́lɛ̂ðɛ̌ ðàŋàlà ùnɛ́ɾɛ̀   \n",
       "8                   jǐŋgávə́lɛ̂ðɛ̌ ðàŋàlà ùnɛ́ɾɛ̀   \n",
       "9                    ìŋgávə́lɛ̂ðɛ̀ ðàŋàlà ùnɛ̀ɾɛ̀   \n",
       "...                                                 ...   \n",
       "23199                         làllúvə́lɛ̂ðɛ̀ ùnɛ́ɾɛ̀   \n",
       "23200  làlvə́lɛ̂ðɛ̀ ùnɛ́ɾɛ̀ làllúvə́lɛ̂ðɛ̀ ùnɛ́ɾɛ̀   \n",
       "23201  làlvə́lɛ̂ðɛ̀ ùnɛ́ɾɛ̀ làllúvə́lɛ̂ðɛ̀ ùnɛ́ɾɛ̀   \n",
       "23202                         làllúvə́lɛ̂ðɛ̀ ùnɛ́ɾɛ̀   \n",
       "23203                                  káŋcîí ùrnɔ̀   \n",
       "\n",
       "                                         mfa_label  index  \\\n",
       "1                                    ɛ̀vɛ̀ jìcə̀lò      1   \n",
       "3                                     káŋcîí ùrnɔ̀    100   \n",
       "7                    jíŋgávə́lɛ̂ðɛ̌ ðàŋàlà ùnɛ́ɾɛ̀  10305   \n",
       "8                    jǐŋgávə́lɛ̂ðɛ̌ ðàŋàlà ùnɛ́ɾɛ̀  10306   \n",
       "9                     ìŋgávə́lɛ̂ðɛ̀ ðàŋàlà ùnɛ̀ɾɛ̀  10307   \n",
       "...                                            ...    ...   \n",
       "23199                       làllúvə́lɛ̂ðɛ̀ ùnɛ́ɾɛ̀   9849   \n",
       "23200  làlvə́lɛ̂ðɛ̀ ùnɛ́ɾɛ̀ làllúvə́lɛ̂ðɛ̀ ùnɛ́ɾɛ̀   9850   \n",
       "23201  làlvə́lɛ̂ðɛ̀ ùnɛ́ɾɛ̀ làllúvə́lɛ̂ðɛ̀ ùnɛ́ɾɛ̀   9851   \n",
       "23202                       làllúvə́lɛ̂ðɛ̀ ùnɛ́ɾɛ̀   9852   \n",
       "23203                                 káŋcîí ùrnɔ̀     99   \n",
       "\n",
       "                                                filepath  \n",
       "1      C:\\projects\\malachor5\\data\\dataset_clips\\tira-...  \n",
       "3      C:\\projects\\malachor5\\data\\dataset_clips\\tira-...  \n",
       "7      C:\\projects\\malachor5\\data\\dataset_clips\\tira-...  \n",
       "8      C:\\projects\\malachor5\\data\\dataset_clips\\tira-...  \n",
       "9      C:\\projects\\malachor5\\data\\dataset_clips\\tira-...  \n",
       "...                                                  ...  \n",
       "23199  C:\\projects\\malachor5\\data\\dataset_clips\\tira-...  \n",
       "23200  C:\\projects\\malachor5\\data\\dataset_clips\\tira-...  \n",
       "23201  C:\\projects\\malachor5\\data\\dataset_clips\\tira-...  \n",
       "23202  C:\\projects\\malachor5\\data\\dataset_clips\\tira-...  \n",
       "23203  C:\\projects\\malachor5\\data\\dataset_clips\\tira-...  \n",
       "\n",
       "[22596 rows x 4 columns]"
      ]
     },
     "execution_count": 48,
     "metadata": {},
     "output_type": "execute_result"
    }
   ],
   "source": [
    "labels_equal_mask = (lab_df['label'].str.strip()==lab_df['mfa_label'].str.strip())\n",
    "lab_df[~labels_equal_mask]\n",
    "# labels_equal_mask.value_counts()"
   ]
  },
  {
   "cell_type": "code",
   "execution_count": 57,
   "id": "365c9bdd",
   "metadata": {},
   "outputs": [
    {
     "data": {
      "text/plain": [
       "('ɛ ̀ v ɛ ̀   j ì c ə ̀ l ò', 'ɛ ̀ v ɛ ̀   j i ̀ c ə ̀ l o ̀')"
      ]
     },
     "execution_count": 57,
     "metadata": {},
     "output_type": "execute_result"
    }
   ],
   "source": [
    "mfalab=lab_df[~labels_equal_mask].iloc[0]['mfa_label']\n",
    "lab=lab_df[~labels_equal_mask].iloc[0]['label']\n",
    "len(mfalab), len(lab)\n",
    "' '.join(mfalab), ' '.join(lab)"
   ]
  },
  {
   "cell_type": "markdown",
   "id": "1808fba1",
   "metadata": {},
   "source": [
    "Get average/median/min/max/std of word/phone length for each training record and save to a separate DataFrame:"
   ]
  },
  {
   "cell_type": "code",
   "execution_count": 27,
   "id": "da17c8a5",
   "metadata": {},
   "outputs": [
    {
     "name": "stderr",
     "output_type": "stream",
     "text": [
      "100%|██████████| 23204/23204 [00:37<00:00, 617.91it/s]\n"
     ]
    }
   ],
   "source": [
    "ds_record_rows = []\n",
    "phone_mask = df['tier']=='phones'\n",
    "word_mask = df['tier']=='words'\n",
    "nonempty_mask = df['text']!=''\n",
    "words_df=df[word_mask&nonempty_mask]\n",
    "phones_df=df[phone_mask&nonempty_mask]\n",
    "for index in tqdm(df.index.unique()):\n",
    "    words_for_index = words_df.loc[index]\n",
    "    phones_for_index =  phones_df.loc[index]\n",
    "    ds_record_rows.append({\n",
    "        \"index\": index,\n",
    "        \"wordlen_max\": words_for_index['duration'].max(),\n",
    "        \"wordlen_min\": words_for_index['duration'].min(),\n",
    "        \"wordlen_med\": np.median(words_for_index['duration']),\n",
    "        \"wordlen_avg\": words_for_index['duration'].mean(),\n",
    "        \"wordlen_std\": words_for_index['duration'].std(),\n",
    "\n",
    "        \"phonelen_max\": phones_for_index['duration'].max(),\n",
    "        \"phonelen_min\": phones_for_index['duration'].min(),\n",
    "        \"phonelen_med\": np.median(phones_for_index['duration']),\n",
    "        \"phonelen_avg\": phones_for_index['duration'].mean(),\n",
    "        \"phonelen_std\": phones_for_index['duration'].std(),\n",
    "    })\n",
    "record_df = pd.DataFrame(ds_record_rows)"
   ]
  },
  {
   "cell_type": "code",
   "execution_count": 38,
   "id": "17402327",
   "metadata": {},
   "outputs": [
    {
     "data": {
      "text/plain": [
       "<Axes: >"
      ]
     },
     "execution_count": 38,
     "metadata": {},
     "output_type": "execute_result"
    },
    {
     "data": {
      "image/png": "[encoded data removed]",
      "text/plain": [
       "<Figure size 640x480 with 1 Axes>"
      ]
     },
     "metadata": {},
     "output_type": "display_data"
    }
   ],
   "source": [
    "plt.yscale('log')\n",
    "record_df['phonelen_avg'].hist()\n"
   ]
  },
  {
   "cell_type": "code",
   "execution_count": 31,
   "id": "f45af419",
   "metadata": {},
   "outputs": [
    {
     "data": {
      "text/plain": [
       "np.float64(0.9655662816755731)"
      ]
     },
     "execution_count": 31,
     "metadata": {},
     "output_type": "execute_result"
    }
   ],
   "source": [
    "(record_df['wordlen_std']<0.5).sum()/len(record_df)"
   ]
  },
  {
   "cell_type": "code",
   "execution_count": 34,
   "id": "63d8952e",
   "metadata": {},
   "outputs": [
    {
     "data": {
      "text/plain": [
       "np.float64(0.986295466298914)"
      ]
     },
     "execution_count": 34,
     "metadata": {},
     "output_type": "execute_result"
    }
   ],
   "source": [
    "(record_df['phonelen_std']<0.25).sum()/len(record_df)\n"
   ]
  },
  {
   "cell_type": "code",
   "execution_count": null,
   "id": "9c894f13",
   "metadata": {},
   "outputs": [],
   "source": [
    "align_metadata_csv = r'C:\\projects\\malachor5\\data\\dataset_clips\\tira-asr\\mfa_output\\alignment_metadata.csv'\n",
    "record_df.to_csv(align_metadata_csv)"
   ]
  }
 ],
 "metadata": {
  "kernelspec": {
   "display_name": ".venv",
   "language": "python",
   "name": "python3"
  },
  "language_info": {
   "codemirror_mode": {
    "name": "ipython",
    "version": 3
   },
   "file_extension": ".py",
   "mimetype": "text/x-python",
   "name": "python",
   "nbconvert_exporter": "python",
   "pygments_lexer": "ipython3",
   "version": "3.12.10"
  }
 },
 "nbformat": 4,
 "nbformat_minor": 5
}
