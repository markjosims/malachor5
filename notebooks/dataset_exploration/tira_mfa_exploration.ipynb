{
 "cells": [
  {
   "cell_type": "markdown",
   "id": "abb69e7d",
   "metadata": {},
   "source": [
    "# tira_mfa_exploration\n",
    "Get distribution data from MFA alignments.\n",
    "In theory, we should be able to spot deviant transcriptions through introspection of FA output,\n",
    "e.g. missing words in the transcription will result in weirdly long word alignments and vice versa."
   ]
  },
  {
   "cell_type": "code",
   "execution_count": 1,
   "id": "2a517fda",
   "metadata": {},
   "outputs": [
    {
     "name": "stderr",
     "output_type": "stream",
     "text": [
      "c:\\projects\\malachor5\\.venv\\Lib\\site-packages\\tqdm\\auto.py:21: TqdmWarning: IProgress not found. Please update jupyter and ipywidgets. See https://ipywidgets.readthedocs.io/en/stable/user_install.html\n",
      "  from .autonotebook import tqdm as notebook_tqdm\n",
      "C:\\Users\\marks\\AppData\\Roaming\\uv\\python\\cpython-3.12.10-windows-x86_64-none\\Lib\\inspect.py:1007: UserWarning: Module 'speechbrain.pretrained' was deprecated, redirecting to 'speechbrain.inference'. Please update your script. This is a change from SpeechBrain 1.0. See: https://github.com/speechbrain/speechbrain/releases/tag/v1.0.0\n",
      "  if ismodule(module) and hasattr(module, '__file__'):\n"
     ]
    }
   ],
   "source": [
    "import pandas as pd\n",
    "import numpy as np\n",
    "import seaborn as sns\n",
    "from glob import glob\n",
    "from tqdm import tqdm\n",
    "import matplotlib.pyplot as plt\n",
    "\n",
    "import os\n",
    "os.chdir(r'C:\\projects\\malachor5')\n",
    "import sys\n",
    "sys.path.append(r'C:\\projects\\malachor5\\scripts')\n",
    "from kws import textgrid_to_df\n",
    "from string_norm import unicode_normalize"
   ]
  },
  {
   "cell_type": "markdown",
   "metadata": {},
   "source": [
    "Aggregate all aligned TextGrids into a single DataFrame"
   ]
  },
  {
   "cell_type": "code",
   "execution_count": 2,
   "id": "e559021c",
   "metadata": {},
   "outputs": [
    {
     "name": "stderr",
     "output_type": "stream",
     "text": [
      "100%|██████████| 23204/23204 [04:46<00:00, 81.07it/s] \n"
     ]
    },
    {
     "name": "stdout",
     "output_type": "stream",
     "text": [
      "504854\n"
     ]
    },
    {
     "data": {
      "text/html": [
       "<div>\n",
       "<style scoped>\n",
       "    .dataframe tbody tr th:only-of-type {\n",
       "        vertical-align: middle;\n",
       "    }\n",
       "\n",
       "    .dataframe tbody tr th {\n",
       "        vertical-align: top;\n",
       "    }\n",
       "\n",
       "    .dataframe thead th {\n",
       "        text-align: right;\n",
       "    }\n",
       "</style>\n",
       "<table border=\"1\" class=\"dataframe\">\n",
       "  <thead>\n",
       "    <tr style=\"text-align: right;\">\n",
       "      <th></th>\n",
       "      <th>start</th>\n",
       "      <th>end</th>\n",
       "      <th>text</th>\n",
       "      <th>speaker</th>\n",
       "      <th>tier</th>\n",
       "      <th>filename</th>\n",
       "    </tr>\n",
       "  </thead>\n",
       "  <tbody>\n",
       "    <tr>\n",
       "      <th>0</th>\n",
       "      <td>0.00</td>\n",
       "      <td>0.05</td>\n",
       "      <td></td>\n",
       "      <td>words</td>\n",
       "      <td>words</td>\n",
       "      <td>C:\\projects\\malachor5\\data\\dataset_clips\\tira-...</td>\n",
       "    </tr>\n",
       "    <tr>\n",
       "      <th>1</th>\n",
       "      <td>0.05</td>\n",
       "      <td>0.67</td>\n",
       "      <td>ɛ̀vɛ̀</td>\n",
       "      <td>words</td>\n",
       "      <td>words</td>\n",
       "      <td>C:\\projects\\malachor5\\data\\dataset_clips\\tira-...</td>\n",
       "    </tr>\n",
       "    <tr>\n",
       "      <th>2</th>\n",
       "      <td>0.67</td>\n",
       "      <td>0.76</td>\n",
       "      <td></td>\n",
       "      <td>words</td>\n",
       "      <td>words</td>\n",
       "      <td>C:\\projects\\malachor5\\data\\dataset_clips\\tira-...</td>\n",
       "    </tr>\n",
       "    <tr>\n",
       "      <th>3</th>\n",
       "      <td>0.00</td>\n",
       "      <td>0.05</td>\n",
       "      <td></td>\n",
       "      <td>phones</td>\n",
       "      <td>phones</td>\n",
       "      <td>C:\\projects\\malachor5\\data\\dataset_clips\\tira-...</td>\n",
       "    </tr>\n",
       "    <tr>\n",
       "      <th>4</th>\n",
       "      <td>0.05</td>\n",
       "      <td>0.09</td>\n",
       "      <td>ɛ</td>\n",
       "      <td>phones</td>\n",
       "      <td>phones</td>\n",
       "      <td>C:\\projects\\malachor5\\data\\dataset_clips\\tira-...</td>\n",
       "    </tr>\n",
       "  </tbody>\n",
       "</table>\n",
       "</div>"
      ],
      "text/plain": [
       "   start   end   text speaker    tier  \\\n",
       "0   0.00  0.05          words   words   \n",
       "1   0.05  0.67  ɛ̀vɛ̀   words   words   \n",
       "2   0.67  0.76          words   words   \n",
       "3   0.00  0.05         phones  phones   \n",
       "4   0.05  0.09      ɛ  phones  phones   \n",
       "\n",
       "                                            filename  \n",
       "0  C:\\projects\\malachor5\\data\\dataset_clips\\tira-...  \n",
       "1  C:\\projects\\malachor5\\data\\dataset_clips\\tira-...  \n",
       "2  C:\\projects\\malachor5\\data\\dataset_clips\\tira-...  \n",
       "3  C:\\projects\\malachor5\\data\\dataset_clips\\tira-...  \n",
       "4  C:\\projects\\malachor5\\data\\dataset_clips\\tira-...  "
      ]
     },
     "execution_count": 2,
     "metadata": {},
     "output_type": "execute_result"
    }
   ],
   "source": [
    "align_dir = r'C:\\projects\\malachor5\\data\\dataset_clips\\tira-asr\\mfa_output\\himidan'\n",
    "tg_paths = glob(os.path.join(align_dir, '*.TextGrid'))\n",
    "df_list = []\n",
    "for tg_path in tqdm(tg_paths):\n",
    "    tg_df = textgrid_to_df(tg_path, words_only=False)\n",
    "    tg_df['filename']=tg_path\n",
    "    df_list.append(tg_df)\n",
    "df=pd.concat(df_list)\n",
    "print(len(df))\n",
    "df.head()"
   ]
  },
  {
   "cell_type": "code",
   "execution_count": null,
   "id": "815c028d",
   "metadata": {},
   "outputs": [
    {
     "ename": "ValueError",
     "evalue": "Can only compare identically-labeled Series objects",
     "output_type": "error",
     "traceback": [
      "\u001b[31m---------------------------------------------------------------------------\u001b[39m",
      "\u001b[31mValueError\u001b[39m                                Traceback (most recent call last)",
      "\u001b[36mCell\u001b[39m\u001b[36m \u001b[39m\u001b[32mIn[4]\u001b[39m\u001b[32m, line 3\u001b[39m\n\u001b[32m      1\u001b[39m spn_mask = df[\u001b[33m'\u001b[39m\u001b[33mtext\u001b[39m\u001b[33m'\u001b[39m]==\u001b[33m'\u001b[39m\u001b[33mspn\u001b[39m\u001b[33m'\u001b[39m\n\u001b[32m      2\u001b[39m oov_midpts = (df.loc[spn_mask, \u001b[33m'\u001b[39m\u001b[33mend\u001b[39m\u001b[33m'\u001b[39m] - df.loc[spn_mask, \u001b[33m'\u001b[39m\u001b[33mstart\u001b[39m\u001b[33m'\u001b[39m])/\u001b[32m2\u001b[39m\n\u001b[32m----> \u001b[39m\u001b[32m3\u001b[39m oov_mask = (\u001b[43mdf\u001b[49m\u001b[43m[\u001b[49m\u001b[33;43m'\u001b[39;49m\u001b[33;43mstart\u001b[39;49m\u001b[33;43m'\u001b[39;49m\u001b[43m]\u001b[49m\u001b[43m \u001b[49m\u001b[43m<\u001b[49m\u001b[43m=\u001b[49m\u001b[43m \u001b[49m\u001b[43moov_midpts\u001b[49m) & (df[\u001b[33m'\u001b[39m\u001b[33mend\u001b[39m\u001b[33m'\u001b[39m] >= oov_midpts)\n\u001b[32m      4\u001b[39m word_mask = df[\u001b[33m'\u001b[39m\u001b[33mtier\u001b[39m\u001b[33m'\u001b[39m] == \u001b[33m'\u001b[39m\u001b[33mwords\u001b[39m\u001b[33m'\u001b[39m\n\u001b[32m      6\u001b[39m df[word_mask&oov_mask]\n",
      "\u001b[36mFile \u001b[39m\u001b[32mc:\\projects\\malachor5\\.venv\\Lib\\site-packages\\pandas\\core\\ops\\common.py:76\u001b[39m, in \u001b[36m_unpack_zerodim_and_defer.<locals>.new_method\u001b[39m\u001b[34m(self, other)\u001b[39m\n\u001b[32m     72\u001b[39m             \u001b[38;5;28;01mreturn\u001b[39;00m \u001b[38;5;28mNotImplemented\u001b[39m\n\u001b[32m     74\u001b[39m other = item_from_zerodim(other)\n\u001b[32m---> \u001b[39m\u001b[32m76\u001b[39m \u001b[38;5;28;01mreturn\u001b[39;00m \u001b[43mmethod\u001b[49m\u001b[43m(\u001b[49m\u001b[38;5;28;43mself\u001b[39;49m\u001b[43m,\u001b[49m\u001b[43m \u001b[49m\u001b[43mother\u001b[49m\u001b[43m)\u001b[49m\n",
      "\u001b[36mFile \u001b[39m\u001b[32mc:\\projects\\malachor5\\.venv\\Lib\\site-packages\\pandas\\core\\arraylike.py:52\u001b[39m, in \u001b[36mOpsMixin.__le__\u001b[39m\u001b[34m(self, other)\u001b[39m\n\u001b[32m     50\u001b[39m \u001b[38;5;129m@unpack_zerodim_and_defer\u001b[39m(\u001b[33m\"\u001b[39m\u001b[33m__le__\u001b[39m\u001b[33m\"\u001b[39m)\n\u001b[32m     51\u001b[39m \u001b[38;5;28;01mdef\u001b[39;00m\u001b[38;5;250m \u001b[39m\u001b[34m__le__\u001b[39m(\u001b[38;5;28mself\u001b[39m, other):\n\u001b[32m---> \u001b[39m\u001b[32m52\u001b[39m     \u001b[38;5;28;01mreturn\u001b[39;00m \u001b[38;5;28;43mself\u001b[39;49m\u001b[43m.\u001b[49m\u001b[43m_cmp_method\u001b[49m\u001b[43m(\u001b[49m\u001b[43mother\u001b[49m\u001b[43m,\u001b[49m\u001b[43m \u001b[49m\u001b[43moperator\u001b[49m\u001b[43m.\u001b[49m\u001b[43mle\u001b[49m\u001b[43m)\u001b[49m\n",
      "\u001b[36mFile \u001b[39m\u001b[32mc:\\projects\\malachor5\\.venv\\Lib\\site-packages\\pandas\\core\\series.py:6114\u001b[39m, in \u001b[36mSeries._cmp_method\u001b[39m\u001b[34m(self, other, op)\u001b[39m\n\u001b[32m   6111\u001b[39m res_name = ops.get_op_result_name(\u001b[38;5;28mself\u001b[39m, other)\n\u001b[32m   6113\u001b[39m \u001b[38;5;28;01mif\u001b[39;00m \u001b[38;5;28misinstance\u001b[39m(other, Series) \u001b[38;5;129;01mand\u001b[39;00m \u001b[38;5;129;01mnot\u001b[39;00m \u001b[38;5;28mself\u001b[39m._indexed_same(other):\n\u001b[32m-> \u001b[39m\u001b[32m6114\u001b[39m     \u001b[38;5;28;01mraise\u001b[39;00m \u001b[38;5;167;01mValueError\u001b[39;00m(\u001b[33m\"\u001b[39m\u001b[33mCan only compare identically-labeled Series objects\u001b[39m\u001b[33m\"\u001b[39m)\n\u001b[32m   6116\u001b[39m lvalues = \u001b[38;5;28mself\u001b[39m._values\n\u001b[32m   6117\u001b[39m rvalues = extract_array(other, extract_numpy=\u001b[38;5;28;01mTrue\u001b[39;00m, extract_range=\u001b[38;5;28;01mTrue\u001b[39;00m)\n",
      "\u001b[31mValueError\u001b[39m: Can only compare identically-labeled Series objects"
     ]
    }
   ],
   "source": [
    "with open('tira mfa dictionary...')"
   ]
  },
  {
   "cell_type": "code",
   "execution_count": 11,
   "id": "feaf620d",
   "metadata": {},
   "outputs": [
    {
     "data": {
      "text/html": [
       "<div>\n",
       "<style scoped>\n",
       "    .dataframe tbody tr th:only-of-type {\n",
       "        vertical-align: middle;\n",
       "    }\n",
       "\n",
       "    .dataframe tbody tr th {\n",
       "        vertical-align: top;\n",
       "    }\n",
       "\n",
       "    .dataframe thead th {\n",
       "        text-align: right;\n",
       "    }\n",
       "</style>\n",
       "<table border=\"1\" class=\"dataframe\">\n",
       "  <thead>\n",
       "    <tr style=\"text-align: right;\">\n",
       "      <th></th>\n",
       "      <th>start</th>\n",
       "      <th>end</th>\n",
       "      <th>text</th>\n",
       "      <th>speaker</th>\n",
       "      <th>tier</th>\n",
       "      <th>filename</th>\n",
       "      <th>duration</th>\n",
       "    </tr>\n",
       "    <tr>\n",
       "      <th>index</th>\n",
       "      <th></th>\n",
       "      <th></th>\n",
       "      <th></th>\n",
       "      <th></th>\n",
       "      <th></th>\n",
       "      <th></th>\n",
       "      <th></th>\n",
       "    </tr>\n",
       "  </thead>\n",
       "  <tbody>\n",
       "    <tr>\n",
       "      <th>0</th>\n",
       "      <td>0.00</td>\n",
       "      <td>0.05</td>\n",
       "      <td></td>\n",
       "      <td>words</td>\n",
       "      <td>words</td>\n",
       "      <td>C:\\projects\\malachor5\\data\\dataset_clips\\tira-...</td>\n",
       "      <td>0.05</td>\n",
       "    </tr>\n",
       "    <tr>\n",
       "      <th>0</th>\n",
       "      <td>0.05</td>\n",
       "      <td>0.67</td>\n",
       "      <td>ɛ̀vɛ̀</td>\n",
       "      <td>words</td>\n",
       "      <td>words</td>\n",
       "      <td>C:\\projects\\malachor5\\data\\dataset_clips\\tira-...</td>\n",
       "      <td>0.62</td>\n",
       "    </tr>\n",
       "    <tr>\n",
       "      <th>0</th>\n",
       "      <td>0.67</td>\n",
       "      <td>0.76</td>\n",
       "      <td></td>\n",
       "      <td>words</td>\n",
       "      <td>words</td>\n",
       "      <td>C:\\projects\\malachor5\\data\\dataset_clips\\tira-...</td>\n",
       "      <td>0.09</td>\n",
       "    </tr>\n",
       "    <tr>\n",
       "      <th>0</th>\n",
       "      <td>0.00</td>\n",
       "      <td>0.05</td>\n",
       "      <td></td>\n",
       "      <td>phones</td>\n",
       "      <td>phones</td>\n",
       "      <td>C:\\projects\\malachor5\\data\\dataset_clips\\tira-...</td>\n",
       "      <td>0.05</td>\n",
       "    </tr>\n",
       "    <tr>\n",
       "      <th>0</th>\n",
       "      <td>0.05</td>\n",
       "      <td>0.09</td>\n",
       "      <td>ɛ</td>\n",
       "      <td>phones</td>\n",
       "      <td>phones</td>\n",
       "      <td>C:\\projects\\malachor5\\data\\dataset_clips\\tira-...</td>\n",
       "      <td>0.04</td>\n",
       "    </tr>\n",
       "  </tbody>\n",
       "</table>\n",
       "</div>"
      ],
      "text/plain": [
       "       start   end   text speaker    tier  \\\n",
       "index                                       \n",
       "0       0.00  0.05          words   words   \n",
       "0       0.05  0.67  ɛ̀vɛ̀   words   words   \n",
       "0       0.67  0.76          words   words   \n",
       "0       0.00  0.05         phones  phones   \n",
       "0       0.05  0.09      ɛ  phones  phones   \n",
       "\n",
       "                                                filename  duration  \n",
       "index                                                               \n",
       "0      C:\\projects\\malachor5\\data\\dataset_clips\\tira-...      0.05  \n",
       "0      C:\\projects\\malachor5\\data\\dataset_clips\\tira-...      0.62  \n",
       "0      C:\\projects\\malachor5\\data\\dataset_clips\\tira-...      0.09  \n",
       "0      C:\\projects\\malachor5\\data\\dataset_clips\\tira-...      0.05  \n",
       "0      C:\\projects\\malachor5\\data\\dataset_clips\\tira-...      0.04  "
      ]
     },
     "execution_count": 11,
     "metadata": {},
     "output_type": "execute_result"
    }
   ],
   "source": [
    "df['index']=df['filename'].apply(os.path.basename).str.replace('.TextGrid', '').astype(int)\n",
    "df=df.set_index('index')\n",
    "df['duration']=df['end']-df['start']\n",
    "df.head()"
   ]
  },
  {
   "cell_type": "markdown",
   "id": "b78c336b",
   "metadata": {},
   "source": [
    "# Check transcriptions\n",
    "Compare transcription stored in textgrid with `.lab` file in case MFA changed anything."
   ]
  },
  {
   "cell_type": "code",
   "execution_count": 37,
   "id": "2e620656",
   "metadata": {},
   "outputs": [
    {
     "data": {
      "text/plain": [
       "'ɛ̀vɛ̀ jìcə̀lò'"
      ]
     },
     "execution_count": 37,
     "metadata": {},
     "output_type": "execute_result"
    }
   ],
   "source": [
    "def get_transcription_for_tg(df, idx, words_mask=None):\n",
    "    if words_mask is None:\n",
    "        words_mask = df['tier']=='words'\n",
    "    word_df = df[words_mask].loc[idx]\n",
    "    if type(word_df) is pd.Series:\n",
    "        return word_df['text']\n",
    "    word_df = word_df.sort_values('start')\n",
    "    words = ' '.join(word_df['text'].tolist())\n",
    "    # remove double whitespace\n",
    "    words = ' '.join(words.split())\n",
    "    return words\n",
    "\n",
    "get_transcription_for_tg(df, 1)"
   ]
  },
  {
   "cell_type": "code",
   "execution_count": 39,
   "id": "2b782f15",
   "metadata": {},
   "outputs": [
    {
     "name": "stderr",
     "output_type": "stream",
     "text": [
      "100%|██████████| 23261/23261 [11:45<00:00, 32.97it/s]\n"
     ]
    }
   ],
   "source": [
    "input_dir = r'C:\\projects\\malachor5\\data\\dataset_clips\\tira-asr\\mfa_input\\himidan'\n",
    "lab_paths = glob(os.path.join(input_dir, '*.lab'))\n",
    "\n",
    "label_rows = []\n",
    "words_mask = df['tier']=='words'\n",
    "\n",
    "for lab_file in tqdm(lab_paths):\n",
    "    idx = int(os.path.basename(lab_file).removesuffix('.lab'))\n",
    "    with open(lab_file, encoding='utf8') as f:\n",
    "        label = f.read().strip()\n",
    "    if idx not in df.index:\n",
    "        continue\n",
    "    mfa_label = get_transcription_for_tg(df, idx, words_mask=words_mask)\n",
    "    label_rows.append({\n",
    "        'label': label,\n",
    "        'mfa_label': mfa_label,\n",
    "        'index': idx,\n",
    "        'filepath': lab_file,\n",
    "    })\n",
    "lab_df = pd.DataFrame(label_rows)\n"
   ]
  },
  {
   "cell_type": "code",
   "execution_count": null,
   "id": "9668a62d",
   "metadata": {},
   "outputs": [],
   "source": [
    "lab_df['label']"
   ]
  },
  {
   "cell_type": "code",
   "execution_count": 60,
   "id": "80caf54f",
   "metadata": {},
   "outputs": [
    {
     "data": {
      "text/plain": [
       "True    23204\n",
       "Name: count, dtype: int64"
      ]
     },
     "execution_count": 60,
     "metadata": {},
     "output_type": "execute_result"
    }
   ],
   "source": [
    "labels_equal_mask = (lab_df['label'].apply(unicode_normalize)==lab_df['mfa_label'].apply(unicode_normalize))\n",
    "# lab_df[~labels_equal_mask]\n",
    "labels_equal_mask.value_counts()"
   ]
  },
  {
   "cell_type": "markdown",
   "id": "1808fba1",
   "metadata": {},
   "source": [
    "Get average/median/min/max/std of word/phone length for each training record and save to a separate DataFrame:"
   ]
  },
  {
   "cell_type": "code",
   "execution_count": 61,
   "id": "da17c8a5",
   "metadata": {},
   "outputs": [
    {
     "name": "stderr",
     "output_type": "stream",
     "text": [
      "100%|██████████| 23204/23204 [00:33<00:00, 697.65it/s]\n"
     ]
    }
   ],
   "source": [
    "ds_record_rows = []\n",
    "phone_mask = df['tier']=='phones'\n",
    "word_mask = df['tier']=='words'\n",
    "nonempty_mask = df['text']!=''\n",
    "words_df=df[word_mask&nonempty_mask]\n",
    "phones_df=df[phone_mask&nonempty_mask]\n",
    "for index in tqdm(df.index.unique()):\n",
    "    words_for_index = words_df.loc[index]\n",
    "    phones_for_index =  phones_df.loc[index]\n",
    "    ds_record_rows.append({\n",
    "        \"index\": index,\n",
    "        \"wordlen_max\": words_for_index['duration'].max(),\n",
    "        \"wordlen_min\": words_for_index['duration'].min(),\n",
    "        \"wordlen_med\": np.median(words_for_index['duration']),\n",
    "        \"wordlen_avg\": words_for_index['duration'].mean(),\n",
    "        \"wordlen_std\": words_for_index['duration'].std(),\n",
    "\n",
    "        \"phonelen_max\": phones_for_index['duration'].max(),\n",
    "        \"phonelen_min\": phones_for_index['duration'].min(),\n",
    "        \"phonelen_med\": np.median(phones_for_index['duration']),\n",
    "        \"phonelen_avg\": phones_for_index['duration'].mean(),\n",
    "        \"phonelen_std\": phones_for_index['duration'].std(),\n",
    "    })\n",
    "record_df = pd.DataFrame(ds_record_rows)"
   ]
  },
  {
   "cell_type": "code",
   "execution_count": 66,
   "id": "17402327",
   "metadata": {},
   "outputs": [
    {
     "data": {
      "text/plain": [
       "<Axes: >"
      ]
     },
     "execution_count": 66,
     "metadata": {},
     "output_type": "execute_result"
    },
    {
     "data": {
      "image/png": "[encoded data removed]",
      "text/plain": [
       "<Figure size 640x480 with 1 Axes>"
      ]
     },
     "metadata": {},
     "output_type": "display_data"
    }
   ],
   "source": [
    "plt.yscale('log')\n",
    "record_df['phonelen_max'].hist()\n"
   ]
  },
  {
   "cell_type": "code",
   "execution_count": 63,
   "id": "f45af419",
   "metadata": {},
   "outputs": [
    {
     "data": {
      "text/plain": [
       "np.float64(0.9655662816755731)"
      ]
     },
     "execution_count": 63,
     "metadata": {},
     "output_type": "execute_result"
    }
   ],
   "source": [
    "(record_df['wordlen_std']<0.5).sum()/len(record_df)"
   ]
  },
  {
   "cell_type": "code",
   "execution_count": 67,
   "id": "63d8952e",
   "metadata": {},
   "outputs": [
    {
     "data": {
      "text/plain": [
       "np.float64(0.01047233235649026)"
      ]
     },
     "execution_count": 67,
     "metadata": {},
     "output_type": "execute_result"
    }
   ],
   "source": [
    "(record_df['phonelen_max']>1).sum()/len(record_df)\n"
   ]
  },
  {
   "cell_type": "code",
   "execution_count": 68,
   "id": "89f84478",
   "metadata": {},
   "outputs": [
    {
     "data": {
      "text/html": [
       "<div>\n",
       "<style scoped>\n",
       "    .dataframe tbody tr th:only-of-type {\n",
       "        vertical-align: middle;\n",
       "    }\n",
       "\n",
       "    .dataframe tbody tr th {\n",
       "        vertical-align: top;\n",
       "    }\n",
       "\n",
       "    .dataframe thead th {\n",
       "        text-align: right;\n",
       "    }\n",
       "</style>\n",
       "<table border=\"1\" class=\"dataframe\">\n",
       "  <thead>\n",
       "    <tr style=\"text-align: right;\">\n",
       "      <th></th>\n",
       "      <th>index</th>\n",
       "      <th>wordlen_max</th>\n",
       "      <th>wordlen_min</th>\n",
       "      <th>wordlen_med</th>\n",
       "      <th>wordlen_avg</th>\n",
       "      <th>wordlen_std</th>\n",
       "      <th>phonelen_max</th>\n",
       "      <th>phonelen_min</th>\n",
       "      <th>phonelen_med</th>\n",
       "      <th>phonelen_avg</th>\n",
       "      <th>phonelen_std</th>\n",
       "    </tr>\n",
       "  </thead>\n",
       "  <tbody>\n",
       "    <tr>\n",
       "      <th>53</th>\n",
       "      <td>10353</td>\n",
       "      <td>1.10</td>\n",
       "      <td>0.52</td>\n",
       "      <td>0.570</td>\n",
       "      <td>0.730000</td>\n",
       "      <td>0.321403</td>\n",
       "      <td>1.10</td>\n",
       "      <td>0.03</td>\n",
       "      <td>0.120</td>\n",
       "      <td>0.182500</td>\n",
       "      <td>0.292454</td>\n",
       "    </tr>\n",
       "    <tr>\n",
       "      <th>72</th>\n",
       "      <td>10372</td>\n",
       "      <td>1.27</td>\n",
       "      <td>0.52</td>\n",
       "      <td>0.630</td>\n",
       "      <td>0.806667</td>\n",
       "      <td>0.405010</td>\n",
       "      <td>1.27</td>\n",
       "      <td>0.03</td>\n",
       "      <td>0.120</td>\n",
       "      <td>0.201667</td>\n",
       "      <td>0.339862</td>\n",
       "    </tr>\n",
       "    <tr>\n",
       "      <th>89</th>\n",
       "      <td>10389</td>\n",
       "      <td>3.73</td>\n",
       "      <td>3.73</td>\n",
       "      <td>3.730</td>\n",
       "      <td>3.730000</td>\n",
       "      <td>0.000000</td>\n",
       "      <td>1.86</td>\n",
       "      <td>0.03</td>\n",
       "      <td>0.190</td>\n",
       "      <td>0.414444</td>\n",
       "      <td>0.630716</td>\n",
       "    </tr>\n",
       "    <tr>\n",
       "      <th>132</th>\n",
       "      <td>10431</td>\n",
       "      <td>1.80</td>\n",
       "      <td>0.56</td>\n",
       "      <td>1.180</td>\n",
       "      <td>1.180000</td>\n",
       "      <td>0.876812</td>\n",
       "      <td>1.80</td>\n",
       "      <td>0.03</td>\n",
       "      <td>0.155</td>\n",
       "      <td>0.393333</td>\n",
       "      <td>0.692060</td>\n",
       "    </tr>\n",
       "    <tr>\n",
       "      <th>148</th>\n",
       "      <td>10447</td>\n",
       "      <td>3.57</td>\n",
       "      <td>3.57</td>\n",
       "      <td>3.570</td>\n",
       "      <td>3.570000</td>\n",
       "      <td>0.000000</td>\n",
       "      <td>2.30</td>\n",
       "      <td>0.03</td>\n",
       "      <td>0.055</td>\n",
       "      <td>0.446250</td>\n",
       "      <td>0.791363</td>\n",
       "    </tr>\n",
       "    <tr>\n",
       "      <th>...</th>\n",
       "      <td>...</td>\n",
       "      <td>...</td>\n",
       "      <td>...</td>\n",
       "      <td>...</td>\n",
       "      <td>...</td>\n",
       "      <td>...</td>\n",
       "      <td>...</td>\n",
       "      <td>...</td>\n",
       "      <td>...</td>\n",
       "      <td>...</td>\n",
       "      <td>...</td>\n",
       "    </tr>\n",
       "    <tr>\n",
       "      <th>22794</th>\n",
       "      <td>864</td>\n",
       "      <td>1.42</td>\n",
       "      <td>0.57</td>\n",
       "      <td>0.740</td>\n",
       "      <td>0.910000</td>\n",
       "      <td>0.449778</td>\n",
       "      <td>1.28</td>\n",
       "      <td>0.02</td>\n",
       "      <td>0.100</td>\n",
       "      <td>0.170625</td>\n",
       "      <td>0.305493</td>\n",
       "    </tr>\n",
       "    <tr>\n",
       "      <th>23006</th>\n",
       "      <td>8984</td>\n",
       "      <td>2.52</td>\n",
       "      <td>0.79</td>\n",
       "      <td>1.655</td>\n",
       "      <td>1.655000</td>\n",
       "      <td>1.223295</td>\n",
       "      <td>1.97</td>\n",
       "      <td>0.03</td>\n",
       "      <td>0.085</td>\n",
       "      <td>0.236429</td>\n",
       "      <td>0.508143</td>\n",
       "    </tr>\n",
       "    <tr>\n",
       "      <th>23039</th>\n",
       "      <td>9596</td>\n",
       "      <td>2.30</td>\n",
       "      <td>2.30</td>\n",
       "      <td>2.300</td>\n",
       "      <td>2.300000</td>\n",
       "      <td>0.000000</td>\n",
       "      <td>1.02</td>\n",
       "      <td>0.03</td>\n",
       "      <td>0.100</td>\n",
       "      <td>0.176923</td>\n",
       "      <td>0.267594</td>\n",
       "    </tr>\n",
       "    <tr>\n",
       "      <th>23107</th>\n",
       "      <td>9757</td>\n",
       "      <td>1.82</td>\n",
       "      <td>0.78</td>\n",
       "      <td>1.300</td>\n",
       "      <td>1.300000</td>\n",
       "      <td>0.735391</td>\n",
       "      <td>1.03</td>\n",
       "      <td>0.03</td>\n",
       "      <td>0.060</td>\n",
       "      <td>0.152941</td>\n",
       "      <td>0.240722</td>\n",
       "    </tr>\n",
       "    <tr>\n",
       "      <th>23158</th>\n",
       "      <td>9808</td>\n",
       "      <td>2.52</td>\n",
       "      <td>1.06</td>\n",
       "      <td>1.790</td>\n",
       "      <td>1.790000</td>\n",
       "      <td>1.032376</td>\n",
       "      <td>1.74</td>\n",
       "      <td>0.01</td>\n",
       "      <td>0.100</td>\n",
       "      <td>0.210588</td>\n",
       "      <td>0.409641</td>\n",
       "    </tr>\n",
       "  </tbody>\n",
       "</table>\n",
       "<p>243 rows × 11 columns</p>\n",
       "</div>"
      ],
      "text/plain": [
       "       index  wordlen_max  wordlen_min  wordlen_med  wordlen_avg  wordlen_std  \\\n",
       "53     10353         1.10         0.52        0.570     0.730000     0.321403   \n",
       "72     10372         1.27         0.52        0.630     0.806667     0.405010   \n",
       "89     10389         3.73         3.73        3.730     3.730000     0.000000   \n",
       "132    10431         1.80         0.56        1.180     1.180000     0.876812   \n",
       "148    10447         3.57         3.57        3.570     3.570000     0.000000   \n",
       "...      ...          ...          ...          ...          ...          ...   \n",
       "22794    864         1.42         0.57        0.740     0.910000     0.449778   \n",
       "23006   8984         2.52         0.79        1.655     1.655000     1.223295   \n",
       "23039   9596         2.30         2.30        2.300     2.300000     0.000000   \n",
       "23107   9757         1.82         0.78        1.300     1.300000     0.735391   \n",
       "23158   9808         2.52         1.06        1.790     1.790000     1.032376   \n",
       "\n",
       "       phonelen_max  phonelen_min  phonelen_med  phonelen_avg  phonelen_std  \n",
       "53             1.10          0.03         0.120      0.182500      0.292454  \n",
       "72             1.27          0.03         0.120      0.201667      0.339862  \n",
       "89             1.86          0.03         0.190      0.414444      0.630716  \n",
       "132            1.80          0.03         0.155      0.393333      0.692060  \n",
       "148            2.30          0.03         0.055      0.446250      0.791363  \n",
       "...             ...           ...           ...           ...           ...  \n",
       "22794          1.28          0.02         0.100      0.170625      0.305493  \n",
       "23006          1.97          0.03         0.085      0.236429      0.508143  \n",
       "23039          1.02          0.03         0.100      0.176923      0.267594  \n",
       "23107          1.03          0.03         0.060      0.152941      0.240722  \n",
       "23158          1.74          0.01         0.100      0.210588      0.409641  \n",
       "\n",
       "[243 rows x 11 columns]"
      ]
     },
     "execution_count": 68,
     "metadata": {},
     "output_type": "execute_result"
    }
   ],
   "source": [
    "record_df[record_df['phonelen_max']>1]"
   ]
  },
  {
   "cell_type": "code",
   "execution_count": null,
   "id": "9c894f13",
   "metadata": {},
   "outputs": [],
   "source": [
    "align_metadata_csv = r'C:\\projects\\malachor5\\data\\dataset_clips\\tira-asr\\mfa_output\\alignment_metadata.csv'\n",
    "record_df.to_csv(align_metadata_csv)"
   ]
  }
 ],
 "metadata": {
  "kernelspec": {
   "display_name": ".venv",
   "language": "python",
   "name": "python3"
  },
  "language_info": {
   "codemirror_mode": {
    "name": "ipython",
    "version": 3
   },
   "file_extension": ".py",
   "mimetype": "text/x-python",
   "name": "python",
   "nbconvert_exporter": "python",
   "pygments_lexer": "ipython3",
   "version": "3.12.10"
  }
 },
 "nbformat": 4,
 "nbformat_minor": 5
}
