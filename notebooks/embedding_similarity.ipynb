{
 "cells": [
  {
   "cell_type": "code",
   "execution_count": 27,
   "metadata": {},
   "outputs": [],
   "source": [
    "import numpy as np\n",
    "import torch\n",
    "import pandas as pd\n",
    "import json"
   ]
  },
  {
   "cell_type": "code",
   "execution_count": 15,
   "metadata": {},
   "outputs": [],
   "source": [
    "whisper_embeds_path = '../data/whsiper_embeds/whisper_embeds.pt'"
   ]
  },
  {
   "cell_type": "code",
   "execution_count": 39,
   "metadata": {},
   "outputs": [
    {
     "data": {
      "text/plain": [
       "dict_keys(['fleurs-it_it-test.pt', 'fleurs-lt_lt-test.pt', 'fleurs-hu_hu-test.pt', 'fleurs-nb_no-test.pt', 'fleurs-fr_fr-test.pt', 'fleurs-tr_tr-test.pt', 'fleurs-ln_cd-test.pt', 'fleurs-az_az-test.pt', 'fleurs-uz_uz-test.pt', 'fleurs-kk_kz-test.pt', 'fleurs-ar_eg-test.pt', 'fleurs-km_kh-test.pt', 'fleurs-el_gr-test.pt', 'fleurs-te_in-test.pt', 'fleurs-sw_ke-test.pt', 'fleurs-hi_in-test.pt', 'fleurs-sk_sk-test.pt', 'fleurs-mk_mk-test.pt', 'fleurs-sn_zw-test.pt', 'fleurs-fi_fi-test.pt', 'fleurs-mr_in-test.pt', 'fleurs-ca_es-test.pt', 'fleurs-fa_ir-test.pt', 'fleurs-as_in-test.pt', 'fleurs-hy_am-test.pt', 'fleurs-ro_ro-test.pt', 'fleurs-lb_lu-test.pt', 'fleurs-mn_mn-test.pt', 'fleurs-oc_fr-test.pt', 'fleurs-bg_bg-test.pt', 'fleurs-et_ee-test.pt', 'fleurs-vi_vn-test.pt', 'fleurs-sd_in-test.pt', 'fleurs-ur_pk-test.pt', 'fleurs-ps_af-test.pt', 'fleurs-es_419-test.pt', 'fleurs-ne_np-test.pt', 'fleurs-lv_lv-test.pt', 'fleurs-bn_in-test.pt', 'fleurs-tg_tj-test.pt', 'fleurs-ka_ge-test.pt', 'fleurs-ru_ru-test.pt', 'fleurs-mt_mt-test.pt', 'fleurs-uk_ua-test.pt', 'fleurs-lo_la-test.pt', 'fleurs-mi_nz-test.pt', 'fleurs-hr_hr-test.pt', 'fleurs-ja_jp-test.pt', 'fleurs-is_is-test.pt', 'fleurs-yo_ng-test.pt', 'fleurs-ta_in-test.pt', 'fleurs-sr_rs-test.pt', 'fleurs-sv_se-test.pt', 'fleurs-jv_id-test.pt', 'fleurs-pt_br-test.pt', 'fleurs-da_dk-test.pt', 'fleurs-ko_kr-test.pt', 'fleurs-sl_si-test.pt', 'fleurs-af_za-test.pt', 'fleurs-th_th-test.pt', 'fleurs-ml_in-test.pt', 'fleurs-ha_ng-test.pt', 'fleurs-bs_ba-test.pt', 'fleurs-so_so-test.pt', 'fleurs-cy_gb-test.pt', 'fleurs-he_il-test.pt', 'fleurs-pl_pl-test.pt', 'fleurs-nl_nl-test.pt', 'fleurs-gl_es-test.pt', 'fleurs-ms_my-test.pt', 'fleurs-be_by-test.pt', 'fleurs-am_et-test.pt', 'fleurs-de_de-test.pt', 'fleurs-en_us-test.pt', 'fleurs-id_id-test.pt', 'fleurs-gu_in-test.pt', 'fleurs-kn_in-test.pt', 'fleurs-cs_cz-test.pt', 'fleurs-pa_in-test.pt', 'tira-asr-orig-test.pt'])"
      ]
     },
     "execution_count": 39,
     "metadata": {},
     "output_type": "execute_result"
    }
   ],
   "source": [
    "whisper_embeds = torch.load(whisper_embeds_path)\n",
    "whisper_embeds.keys()"
   ]
  },
  {
   "cell_type": "code",
   "execution_count": 40,
   "metadata": {},
   "outputs": [
    {
     "data": {
      "text/plain": [
       "torch.Size([1280])"
      ]
     },
     "execution_count": 40,
     "metadata": {},
     "output_type": "execute_result"
    }
   ],
   "source": [
    "whisper_embeds['tira-asr-orig-test.pt'].shape"
   ]
  },
  {
   "cell_type": "code",
   "execution_count": 41,
   "metadata": {},
   "outputs": [],
   "source": [
    "# taken from https://stackoverflow.com/questions/18424228/cosine-similarity-between-2-number-lists\n",
    "cosine = lambda v1, v2: np.dot(v1, v2)/(np.linalg.norm(v1)*np.linalg.norm(v2))"
   ]
  },
  {
   "cell_type": "code",
   "execution_count": 42,
   "metadata": {},
   "outputs": [
    {
     "data": {
      "text/plain": [
       "torch.Size([1280])"
      ]
     },
     "execution_count": 42,
     "metadata": {},
     "output_type": "execute_result"
    }
   ],
   "source": [
    "tira_embeds = whisper_embeds['tira-asr-orig-test.pt']\n",
    "tira_embeds.shape"
   ]
  },
  {
   "cell_type": "code",
   "execution_count": 43,
   "metadata": {},
   "outputs": [
    {
     "data": {
      "text/plain": [
       "([-0.015650928, -0.011643961, -0.011675436, -0.009698147, -0.009488348], 1.0)"
      ]
     },
     "execution_count": 43,
     "metadata": {},
     "output_type": "execute_result"
    }
   ],
   "source": [
    "cos_sim = []\n",
    "langs = list(whisper_embeds.keys())\n",
    "for lang in langs:\n",
    "    cos_sim.append(cosine(whisper_embeds[lang], tira_embeds))\n",
    "cos_sim[:5], max(cos_sim)"
   ]
  },
  {
   "cell_type": "code",
   "execution_count": 44,
   "metadata": {},
   "outputs": [
    {
     "data": {
      "text/html": [
       "<div>\n",
       "<style scoped>\n",
       "    .dataframe tbody tr th:only-of-type {\n",
       "        vertical-align: middle;\n",
       "    }\n",
       "\n",
       "    .dataframe tbody tr th {\n",
       "        vertical-align: top;\n",
       "    }\n",
       "\n",
       "    .dataframe thead th {\n",
       "        text-align: right;\n",
       "    }\n",
       "</style>\n",
       "<table border=\"1\" class=\"dataframe\">\n",
       "  <thead>\n",
       "    <tr style=\"text-align: right;\">\n",
       "      <th></th>\n",
       "      <th>embeds_file</th>\n",
       "      <th>cos_sim</th>\n",
       "    </tr>\n",
       "  </thead>\n",
       "  <tbody>\n",
       "    <tr>\n",
       "      <th>0</th>\n",
       "      <td>fleurs-it_it-test.pt</td>\n",
       "      <td>-0.015651</td>\n",
       "    </tr>\n",
       "    <tr>\n",
       "      <th>1</th>\n",
       "      <td>fleurs-lt_lt-test.pt</td>\n",
       "      <td>-0.011644</td>\n",
       "    </tr>\n",
       "    <tr>\n",
       "      <th>2</th>\n",
       "      <td>fleurs-hu_hu-test.pt</td>\n",
       "      <td>-0.011675</td>\n",
       "    </tr>\n",
       "    <tr>\n",
       "      <th>3</th>\n",
       "      <td>fleurs-nb_no-test.pt</td>\n",
       "      <td>-0.009698</td>\n",
       "    </tr>\n",
       "    <tr>\n",
       "      <th>4</th>\n",
       "      <td>fleurs-fr_fr-test.pt</td>\n",
       "      <td>-0.009488</td>\n",
       "    </tr>\n",
       "  </tbody>\n",
       "</table>\n",
       "</div>"
      ],
      "text/plain": [
       "            embeds_file   cos_sim\n",
       "0  fleurs-it_it-test.pt -0.015651\n",
       "1  fleurs-lt_lt-test.pt -0.011644\n",
       "2  fleurs-hu_hu-test.pt -0.011675\n",
       "3  fleurs-nb_no-test.pt -0.009698\n",
       "4  fleurs-fr_fr-test.pt -0.009488"
      ]
     },
     "execution_count": 44,
     "metadata": {},
     "output_type": "execute_result"
    }
   ],
   "source": [
    "df=pd.DataFrame({'embeds_file': langs, 'cos_sim': cos_sim})\n",
    "df.head()"
   ]
  },
  {
   "cell_type": "code",
   "execution_count": 45,
   "metadata": {},
   "outputs": [
    {
     "data": {
      "text/html": [
       "<div>\n",
       "<style scoped>\n",
       "    .dataframe tbody tr th:only-of-type {\n",
       "        vertical-align: middle;\n",
       "    }\n",
       "\n",
       "    .dataframe tbody tr th {\n",
       "        vertical-align: top;\n",
       "    }\n",
       "\n",
       "    .dataframe thead th {\n",
       "        text-align: right;\n",
       "    }\n",
       "</style>\n",
       "<table border=\"1\" class=\"dataframe\">\n",
       "  <thead>\n",
       "    <tr style=\"text-align: right;\">\n",
       "      <th></th>\n",
       "      <th>embeds_file</th>\n",
       "      <th>cos_sim</th>\n",
       "      <th>lang_code</th>\n",
       "    </tr>\n",
       "  </thead>\n",
       "  <tbody>\n",
       "    <tr>\n",
       "      <th>0</th>\n",
       "      <td>fleurs-it_it-test.pt</td>\n",
       "      <td>-0.015651</td>\n",
       "      <td>it_it</td>\n",
       "    </tr>\n",
       "    <tr>\n",
       "      <th>1</th>\n",
       "      <td>fleurs-lt_lt-test.pt</td>\n",
       "      <td>-0.011644</td>\n",
       "      <td>lt_lt</td>\n",
       "    </tr>\n",
       "    <tr>\n",
       "      <th>2</th>\n",
       "      <td>fleurs-hu_hu-test.pt</td>\n",
       "      <td>-0.011675</td>\n",
       "      <td>hu_hu</td>\n",
       "    </tr>\n",
       "    <tr>\n",
       "      <th>3</th>\n",
       "      <td>fleurs-nb_no-test.pt</td>\n",
       "      <td>-0.009698</td>\n",
       "      <td>nb_no</td>\n",
       "    </tr>\n",
       "    <tr>\n",
       "      <th>4</th>\n",
       "      <td>fleurs-fr_fr-test.pt</td>\n",
       "      <td>-0.009488</td>\n",
       "      <td>fr_fr</td>\n",
       "    </tr>\n",
       "  </tbody>\n",
       "</table>\n",
       "</div>"
      ],
      "text/plain": [
       "            embeds_file   cos_sim lang_code\n",
       "0  fleurs-it_it-test.pt -0.015651     it_it\n",
       "1  fleurs-lt_lt-test.pt -0.011644     lt_lt\n",
       "2  fleurs-hu_hu-test.pt -0.011675     hu_hu\n",
       "3  fleurs-nb_no-test.pt -0.009698     nb_no\n",
       "4  fleurs-fr_fr-test.pt -0.009488     fr_fr"
      ]
     },
     "execution_count": 45,
     "metadata": {},
     "output_type": "execute_result"
    }
   ],
   "source": [
    "lang_code = df['embeds_file'].apply(lambda s: s.replace('fleurs-','').replace('-test.pt',''))\n",
    "df['lang_code']=lang_code\n",
    "df.head()"
   ]
  },
  {
   "cell_type": "code",
   "execution_count": 52,
   "metadata": {},
   "outputs": [
    {
     "data": {
      "text/plain": [
       "{'english': 'en_us',\n",
       " 'german': 'de_de',\n",
       " 'spanish': 'es_419',\n",
       " 'russian': 'ru_ru',\n",
       " 'korean': 'ko_kr',\n",
       " 'french': 'fr_fr',\n",
       " 'japanese': 'ja_jp',\n",
       " 'portuguese': 'pt_br',\n",
       " 'turkish': 'tr_tr',\n",
       " 'polish': 'pl_pl',\n",
       " 'catalan': 'ca_es',\n",
       " 'dutch': 'nl_nl',\n",
       " 'arabic': 'ar_eg',\n",
       " 'swedish': 'sv_se',\n",
       " 'italian': 'it_it',\n",
       " 'indonesian': 'id_id',\n",
       " 'hindi': 'hi_in',\n",
       " 'finnish': 'fi_fi',\n",
       " 'vietnamese': 'vi_vn',\n",
       " 'hebrew': 'he_il',\n",
       " 'ukrainian': 'uk_ua',\n",
       " 'greek': 'el_gr',\n",
       " 'malay': 'ms_my',\n",
       " 'czech': 'cs_cz',\n",
       " 'romanian': 'ro_ro',\n",
       " 'danish': 'da_dk',\n",
       " 'hungarian': 'hu_hu',\n",
       " 'tamil': 'ta_in',\n",
       " 'norwegian': 'nb_no',\n",
       " 'thai': 'th_th',\n",
       " 'urdu': 'ur_pk',\n",
       " 'croatian': 'hr_hr',\n",
       " 'bulgarian': 'bg_bg',\n",
       " 'lithuanian': 'lt_lt',\n",
       " 'maori': 'mi_nz',\n",
       " 'malayalam': 'ml_in',\n",
       " 'welsh': 'cy_gb',\n",
       " 'slovak': 'sk_sk',\n",
       " 'telugu': 'te_in',\n",
       " 'persian': 'fa_ir',\n",
       " 'latvian': 'lv_lv',\n",
       " 'bengali': 'bn_in',\n",
       " 'serbian': 'sr_rs',\n",
       " 'azerbaijani': 'az_az',\n",
       " 'slovenian': 'sl_si',\n",
       " 'kannada': 'kn_in',\n",
       " 'estonian': 'et_ee',\n",
       " 'macedonian': 'mk_mk',\n",
       " 'icelandic': 'is_is',\n",
       " 'armenian': 'hy_am',\n",
       " 'nepali': 'ne_np',\n",
       " 'mongolian': 'mn_mn',\n",
       " 'bosnian': 'bs_ba',\n",
       " 'kazakh': 'kk_kz',\n",
       " 'swahili': 'sw_ke',\n",
       " 'galician': 'gl_es',\n",
       " 'marathi': 'mr_in',\n",
       " 'punjabi': 'pa_in',\n",
       " 'khmer': 'km_kh',\n",
       " 'shona': 'sn_zw',\n",
       " 'yoruba': 'yo_ng',\n",
       " 'somali': 'so_so',\n",
       " 'afrikaans': 'af_za',\n",
       " 'occitan': 'oc_fr',\n",
       " 'georgian': 'ka_ge',\n",
       " 'belarusian': 'be_by',\n",
       " 'tajik': 'tg_tj',\n",
       " 'sindhi': 'sd_in',\n",
       " 'gujarati': 'gu_in',\n",
       " 'amharic': 'am_et',\n",
       " 'lao': 'lo_la',\n",
       " 'uzbek': 'uz_uz',\n",
       " 'pashto': 'ps_af',\n",
       " 'maltese': 'mt_mt',\n",
       " 'luxembourgish': 'lb_lu',\n",
       " 'assamese': 'as_in',\n",
       " 'lingala': 'ln_cd',\n",
       " 'hausa': 'ha_ng',\n",
       " 'javanese': 'jv_id',\n",
       " 'chinese': 'cmn_hans',\n",
       " 'cantonese': 'yue_hant',\n",
       " 'tagalog': 'fil',\n",
       " 'myanmar': 'my',\n",
       " 'tira': 'tira-asr-orig'}"
      ]
     },
     "execution_count": 52,
     "metadata": {},
     "output_type": "execute_result"
    }
   ],
   "source": [
    "lang_code_path = '../meta/language_codes.json'\n",
    "with open(lang_code_path) as f:\n",
    "    lang_code_dict = json.load(f)\n",
    "lang_code_dict['tira']='tira-asr-orig'\n",
    "lang_code_dict"
   ]
  },
  {
   "cell_type": "code",
   "execution_count": 53,
   "metadata": {},
   "outputs": [
    {
     "data": {
      "text/html": [
       "<div>\n",
       "<style scoped>\n",
       "    .dataframe tbody tr th:only-of-type {\n",
       "        vertical-align: middle;\n",
       "    }\n",
       "\n",
       "    .dataframe tbody tr th {\n",
       "        vertical-align: top;\n",
       "    }\n",
       "\n",
       "    .dataframe thead th {\n",
       "        text-align: right;\n",
       "    }\n",
       "</style>\n",
       "<table border=\"1\" class=\"dataframe\">\n",
       "  <thead>\n",
       "    <tr style=\"text-align: right;\">\n",
       "      <th></th>\n",
       "      <th>embeds_file</th>\n",
       "      <th>cos_sim</th>\n",
       "      <th>lang_code</th>\n",
       "      <th>lang</th>\n",
       "    </tr>\n",
       "  </thead>\n",
       "  <tbody>\n",
       "    <tr>\n",
       "      <th>0</th>\n",
       "      <td>fleurs-it_it-test.pt</td>\n",
       "      <td>-0.015651</td>\n",
       "      <td>it_it</td>\n",
       "      <td>italian</td>\n",
       "    </tr>\n",
       "    <tr>\n",
       "      <th>1</th>\n",
       "      <td>fleurs-lt_lt-test.pt</td>\n",
       "      <td>-0.011644</td>\n",
       "      <td>lt_lt</td>\n",
       "      <td>lithuanian</td>\n",
       "    </tr>\n",
       "    <tr>\n",
       "      <th>2</th>\n",
       "      <td>fleurs-hu_hu-test.pt</td>\n",
       "      <td>-0.011675</td>\n",
       "      <td>hu_hu</td>\n",
       "      <td>hungarian</td>\n",
       "    </tr>\n",
       "    <tr>\n",
       "      <th>3</th>\n",
       "      <td>fleurs-nb_no-test.pt</td>\n",
       "      <td>-0.009698</td>\n",
       "      <td>nb_no</td>\n",
       "      <td>norwegian</td>\n",
       "    </tr>\n",
       "    <tr>\n",
       "      <th>4</th>\n",
       "      <td>fleurs-fr_fr-test.pt</td>\n",
       "      <td>-0.009488</td>\n",
       "      <td>fr_fr</td>\n",
       "      <td>french</td>\n",
       "    </tr>\n",
       "  </tbody>\n",
       "</table>\n",
       "</div>"
      ],
      "text/plain": [
       "            embeds_file   cos_sim lang_code        lang\n",
       "0  fleurs-it_it-test.pt -0.015651     it_it     italian\n",
       "1  fleurs-lt_lt-test.pt -0.011644     lt_lt  lithuanian\n",
       "2  fleurs-hu_hu-test.pt -0.011675     hu_hu   hungarian\n",
       "3  fleurs-nb_no-test.pt -0.009698     nb_no   norwegian\n",
       "4  fleurs-fr_fr-test.pt -0.009488     fr_fr      french"
      ]
     },
     "execution_count": 53,
     "metadata": {},
     "output_type": "execute_result"
    }
   ],
   "source": [
    "code_to_lang = {v:k for k, v in lang_code_dict.items()}\n",
    "lang_names = df['lang_code'].apply(lambda s: code_to_lang[s])\n",
    "df['lang']=lang_names\n",
    "df.head()"
   ]
  },
  {
   "cell_type": "code",
   "execution_count": 54,
   "metadata": {},
   "outputs": [
    {
     "data": {
      "text/html": [
       "<div>\n",
       "<style scoped>\n",
       "    .dataframe tbody tr th:only-of-type {\n",
       "        vertical-align: middle;\n",
       "    }\n",
       "\n",
       "    .dataframe tbody tr th {\n",
       "        vertical-align: top;\n",
       "    }\n",
       "\n",
       "    .dataframe thead th {\n",
       "        text-align: right;\n",
       "    }\n",
       "</style>\n",
       "<table border=\"1\" class=\"dataframe\">\n",
       "  <thead>\n",
       "    <tr style=\"text-align: right;\">\n",
       "      <th></th>\n",
       "      <th>embeds_file</th>\n",
       "      <th>cos_sim</th>\n",
       "      <th>lang_code</th>\n",
       "      <th>lang</th>\n",
       "    </tr>\n",
       "  </thead>\n",
       "  <tbody>\n",
       "    <tr>\n",
       "      <th>79</th>\n",
       "      <td>tira-asr-orig-test.pt</td>\n",
       "      <td>1.000000</td>\n",
       "      <td>tira-asr-orig</td>\n",
       "      <td>tira</td>\n",
       "    </tr>\n",
       "    <tr>\n",
       "      <th>66</th>\n",
       "      <td>fleurs-pl_pl-test.pt</td>\n",
       "      <td>-0.008499</td>\n",
       "      <td>pl_pl</td>\n",
       "      <td>polish</td>\n",
       "    </tr>\n",
       "    <tr>\n",
       "      <th>29</th>\n",
       "      <td>fleurs-bg_bg-test.pt</td>\n",
       "      <td>-0.009038</td>\n",
       "      <td>bg_bg</td>\n",
       "      <td>bulgarian</td>\n",
       "    </tr>\n",
       "    <tr>\n",
       "      <th>67</th>\n",
       "      <td>fleurs-nl_nl-test.pt</td>\n",
       "      <td>-0.009137</td>\n",
       "      <td>nl_nl</td>\n",
       "      <td>dutch</td>\n",
       "    </tr>\n",
       "    <tr>\n",
       "      <th>4</th>\n",
       "      <td>fleurs-fr_fr-test.pt</td>\n",
       "      <td>-0.009488</td>\n",
       "      <td>fr_fr</td>\n",
       "      <td>french</td>\n",
       "    </tr>\n",
       "    <tr>\n",
       "      <th>...</th>\n",
       "      <td>...</td>\n",
       "      <td>...</td>\n",
       "      <td>...</td>\n",
       "      <td>...</td>\n",
       "    </tr>\n",
       "    <tr>\n",
       "      <th>7</th>\n",
       "      <td>fleurs-az_az-test.pt</td>\n",
       "      <td>-0.017138</td>\n",
       "      <td>az_az</td>\n",
       "      <td>azerbaijani</td>\n",
       "    </tr>\n",
       "    <tr>\n",
       "      <th>38</th>\n",
       "      <td>fleurs-bn_in-test.pt</td>\n",
       "      <td>-0.018377</td>\n",
       "      <td>bn_in</td>\n",
       "      <td>bengali</td>\n",
       "    </tr>\n",
       "    <tr>\n",
       "      <th>45</th>\n",
       "      <td>fleurs-mi_nz-test.pt</td>\n",
       "      <td>-0.018417</td>\n",
       "      <td>mi_nz</td>\n",
       "      <td>maori</td>\n",
       "    </tr>\n",
       "    <tr>\n",
       "      <th>6</th>\n",
       "      <td>fleurs-ln_cd-test.pt</td>\n",
       "      <td>-0.021068</td>\n",
       "      <td>ln_cd</td>\n",
       "      <td>lingala</td>\n",
       "    </tr>\n",
       "    <tr>\n",
       "      <th>28</th>\n",
       "      <td>fleurs-oc_fr-test.pt</td>\n",
       "      <td>-0.023836</td>\n",
       "      <td>oc_fr</td>\n",
       "      <td>occitan</td>\n",
       "    </tr>\n",
       "  </tbody>\n",
       "</table>\n",
       "<p>80 rows × 4 columns</p>\n",
       "</div>"
      ],
      "text/plain": [
       "              embeds_file   cos_sim      lang_code         lang\n",
       "79  tira-asr-orig-test.pt  1.000000  tira-asr-orig         tira\n",
       "66   fleurs-pl_pl-test.pt -0.008499          pl_pl       polish\n",
       "29   fleurs-bg_bg-test.pt -0.009038          bg_bg    bulgarian\n",
       "67   fleurs-nl_nl-test.pt -0.009137          nl_nl        dutch\n",
       "4    fleurs-fr_fr-test.pt -0.009488          fr_fr       french\n",
       "..                    ...       ...            ...          ...\n",
       "7    fleurs-az_az-test.pt -0.017138          az_az  azerbaijani\n",
       "38   fleurs-bn_in-test.pt -0.018377          bn_in      bengali\n",
       "45   fleurs-mi_nz-test.pt -0.018417          mi_nz        maori\n",
       "6    fleurs-ln_cd-test.pt -0.021068          ln_cd      lingala\n",
       "28   fleurs-oc_fr-test.pt -0.023836          oc_fr      occitan\n",
       "\n",
       "[80 rows x 4 columns]"
      ]
     },
     "execution_count": 54,
     "metadata": {},
     "output_type": "execute_result"
    }
   ],
   "source": [
    "df.sort_values('cos_sim', ascending=False)"
   ]
  },
  {
   "cell_type": "code",
   "execution_count": 55,
   "metadata": {},
   "outputs": [
    {
     "data": {
      "text/plain": [
       "{'italian': 'fleurs-it_it-test.pt',\n",
       " 'lithuanian': 'fleurs-lt_lt-test.pt',\n",
       " 'hungarian': 'fleurs-hu_hu-test.pt',\n",
       " 'norwegian': 'fleurs-nb_no-test.pt',\n",
       " 'french': 'fleurs-fr_fr-test.pt',\n",
       " 'turkish': 'fleurs-tr_tr-test.pt',\n",
       " 'lingala': 'fleurs-ln_cd-test.pt',\n",
       " 'azerbaijani': 'fleurs-az_az-test.pt',\n",
       " 'uzbek': 'fleurs-uz_uz-test.pt',\n",
       " 'kazakh': 'fleurs-kk_kz-test.pt',\n",
       " 'arabic': 'fleurs-ar_eg-test.pt',\n",
       " 'khmer': 'fleurs-km_kh-test.pt',\n",
       " 'greek': 'fleurs-el_gr-test.pt',\n",
       " 'telugu': 'fleurs-te_in-test.pt',\n",
       " 'swahili': 'fleurs-sw_ke-test.pt',\n",
       " 'hindi': 'fleurs-hi_in-test.pt',\n",
       " 'slovak': 'fleurs-sk_sk-test.pt',\n",
       " 'macedonian': 'fleurs-mk_mk-test.pt',\n",
       " 'shona': 'fleurs-sn_zw-test.pt',\n",
       " 'finnish': 'fleurs-fi_fi-test.pt',\n",
       " 'marathi': 'fleurs-mr_in-test.pt',\n",
       " 'catalan': 'fleurs-ca_es-test.pt',\n",
       " 'persian': 'fleurs-fa_ir-test.pt',\n",
       " 'assamese': 'fleurs-as_in-test.pt',\n",
       " 'armenian': 'fleurs-hy_am-test.pt',\n",
       " 'romanian': 'fleurs-ro_ro-test.pt',\n",
       " 'luxembourgish': 'fleurs-lb_lu-test.pt',\n",
       " 'mongolian': 'fleurs-mn_mn-test.pt',\n",
       " 'occitan': 'fleurs-oc_fr-test.pt',\n",
       " 'bulgarian': 'fleurs-bg_bg-test.pt',\n",
       " 'estonian': 'fleurs-et_ee-test.pt',\n",
       " 'vietnamese': 'fleurs-vi_vn-test.pt',\n",
       " 'sindhi': 'fleurs-sd_in-test.pt',\n",
       " 'urdu': 'fleurs-ur_pk-test.pt',\n",
       " 'pashto': 'fleurs-ps_af-test.pt',\n",
       " 'spanish': 'fleurs-es_419-test.pt',\n",
       " 'nepali': 'fleurs-ne_np-test.pt',\n",
       " 'latvian': 'fleurs-lv_lv-test.pt',\n",
       " 'bengali': 'fleurs-bn_in-test.pt',\n",
       " 'tajik': 'fleurs-tg_tj-test.pt',\n",
       " 'georgian': 'fleurs-ka_ge-test.pt',\n",
       " 'russian': 'fleurs-ru_ru-test.pt',\n",
       " 'maltese': 'fleurs-mt_mt-test.pt',\n",
       " 'ukrainian': 'fleurs-uk_ua-test.pt',\n",
       " 'lao': 'fleurs-lo_la-test.pt',\n",
       " 'maori': 'fleurs-mi_nz-test.pt',\n",
       " 'croatian': 'fleurs-hr_hr-test.pt',\n",
       " 'japanese': 'fleurs-ja_jp-test.pt',\n",
       " 'icelandic': 'fleurs-is_is-test.pt',\n",
       " 'yoruba': 'fleurs-yo_ng-test.pt',\n",
       " 'tamil': 'fleurs-ta_in-test.pt',\n",
       " 'serbian': 'fleurs-sr_rs-test.pt',\n",
       " 'swedish': 'fleurs-sv_se-test.pt',\n",
       " 'javanese': 'fleurs-jv_id-test.pt',\n",
       " 'portuguese': 'fleurs-pt_br-test.pt',\n",
       " 'danish': 'fleurs-da_dk-test.pt',\n",
       " 'korean': 'fleurs-ko_kr-test.pt',\n",
       " 'slovenian': 'fleurs-sl_si-test.pt',\n",
       " 'afrikaans': 'fleurs-af_za-test.pt',\n",
       " 'thai': 'fleurs-th_th-test.pt',\n",
       " 'malayalam': 'fleurs-ml_in-test.pt',\n",
       " 'hausa': 'fleurs-ha_ng-test.pt',\n",
       " 'bosnian': 'fleurs-bs_ba-test.pt',\n",
       " 'somali': 'fleurs-so_so-test.pt',\n",
       " 'welsh': 'fleurs-cy_gb-test.pt',\n",
       " 'hebrew': 'fleurs-he_il-test.pt',\n",
       " 'polish': 'fleurs-pl_pl-test.pt',\n",
       " 'dutch': 'fleurs-nl_nl-test.pt',\n",
       " 'galician': 'fleurs-gl_es-test.pt',\n",
       " 'malay': 'fleurs-ms_my-test.pt',\n",
       " 'belarusian': 'fleurs-be_by-test.pt',\n",
       " 'amharic': 'fleurs-am_et-test.pt',\n",
       " 'german': 'fleurs-de_de-test.pt',\n",
       " 'english': 'fleurs-en_us-test.pt',\n",
       " 'indonesian': 'fleurs-id_id-test.pt',\n",
       " 'gujarati': 'fleurs-gu_in-test.pt',\n",
       " 'kannada': 'fleurs-kn_in-test.pt',\n",
       " 'czech': 'fleurs-cs_cz-test.pt',\n",
       " 'punjabi': 'fleurs-pa_in-test.pt',\n",
       " 'tira': 'tira-asr-orig-test.pt'}"
      ]
     },
     "execution_count": 55,
     "metadata": {},
     "output_type": "execute_result"
    }
   ],
   "source": [
    "lang_to_embeds_file = {}\n",
    "add_pair = lambda r: lang_to_embeds_file.update({r['lang']:r['embeds_file']})\n",
    "df.apply(add_pair, axis=1)\n",
    "lang_to_embeds_file['tira']='tira-asr-orig-test.pt'\n",
    "lang_to_embeds_file"
   ]
  },
  {
   "cell_type": "code",
   "execution_count": null,
   "metadata": {},
   "outputs": [],
   "source": [
    "067050634 sep 16 7:45am 1100 union str 3rd floor"
   ]
  },
  {
   "cell_type": "code",
   "execution_count": 63,
   "metadata": {},
   "outputs": [
    {
     "data": {
      "text/plain": [
       "0.9772243"
      ]
     },
     "execution_count": 63,
     "metadata": {},
     "output_type": "execute_result"
    }
   ],
   "source": [
    "def compare_langs(lang1, lang2):\n",
    "    embed1 = whisper_embeds[lang_to_embeds_file[lang1]]\n",
    "    embed2 = whisper_embeds[lang_to_embeds_file[lang2]]\n",
    "    return cosine(embed1, embed2)\n",
    "\n",
    "compare_langs('welsh', 'georgian')"
   ]
  }
 ],
 "metadata": {
  "kernelspec": {
   "display_name": "Python 3",
   "language": "python",
   "name": "python3"
  },
  "language_info": {
   "codemirror_mode": {
    "name": "ipython",
    "version": 3
   },
   "file_extension": ".py",
   "mimetype": "text/x-python",
   "name": "python",
   "nbconvert_exporter": "python",
   "pygments_lexer": "ipython3",
   "version": "3.9.19"
  }
 },
 "nbformat": 4,
 "nbformat_minor": 2
}
